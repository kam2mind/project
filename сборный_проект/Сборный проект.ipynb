{
 "cells": [
  {
   "cell_type": "markdown",
   "metadata": {},
   "source": [
    "Цель исследования:\n",
    "1. Выявить самые популярные жанры игр и платформы для них\n",
    "2. Понять какие самые популярные жанры игр и платформы, у регионов.\n",
    "3. Проверить гипотезы\n",
    "\n",
    "План Работы: \n",
    "Шаг 1. Откройте файл с данными и изучите общую информацию\n",
    "Путь к файлу: /datasets/games.csv.\n",
    "\n",
    "Шаг 2. Подготовить данные\n",
    "Заменить названия столбцов (приведите к нижнему регистру);\n",
    "Преобразовать данные в нужные типы. \n",
    "Обработать пропуски.\n",
    "Посчитать суммарные продажи во всех регионах и записать их в отдельный столбец.\n",
    "\n",
    "Шаг 3. Исследовательский анализ данных\n",
    "Шаг 4. Составить портрет пользователя каждого региона\n",
    "Определить для пользователя каждого региона (NA, EU, JP):\n",
    "Самые популярные платформы (топ-5).\n",
    "Самые популярные жанры (топ-5).\n",
    "Рейтинг ESRB\n",
    "\n",
    "Шаг 5. Проверьте гипотезы\n",
    "Средние пользовательские рейтинги платформ Xbox One и PC одинаковые;\n",
    "Средние пользовательские рейтинги жанров Action (англ. «действие», экшен-игры) и Sports (англ. «спортивные соревнования») разные.\n"
   ]
  },
  {
   "cell_type": "markdown",
   "metadata": {},
   "source": [
    "# 1 загрузка данных"
   ]
  },
  {
   "cell_type": "code",
   "execution_count": 1,
   "metadata": {},
   "outputs": [],
   "source": [
    "import pandas as pd\n",
    "import numpy as np\n",
    "import matplotlib.pyplot as plt\n",
    "from scipy.stats import ttest_ind\n",
    "import seaborn as sns\n",
    "import scipy.stats as st"
   ]
  },
  {
   "cell_type": "code",
   "execution_count": 2,
   "metadata": {},
   "outputs": [],
   "source": [
    "data = pd.read_csv('/datasets/games.csv')"
   ]
  },
  {
   "cell_type": "code",
   "execution_count": 3,
   "metadata": {},
   "outputs": [
    {
     "data": {
      "text/html": [
       "<div>\n",
       "<style scoped>\n",
       "    .dataframe tbody tr th:only-of-type {\n",
       "        vertical-align: middle;\n",
       "    }\n",
       "\n",
       "    .dataframe tbody tr th {\n",
       "        vertical-align: top;\n",
       "    }\n",
       "\n",
       "    .dataframe thead th {\n",
       "        text-align: right;\n",
       "    }\n",
       "</style>\n",
       "<table border=\"1\" class=\"dataframe\">\n",
       "  <thead>\n",
       "    <tr style=\"text-align: right;\">\n",
       "      <th></th>\n",
       "      <th>Name</th>\n",
       "      <th>Platform</th>\n",
       "      <th>Year_of_Release</th>\n",
       "      <th>Genre</th>\n",
       "      <th>NA_sales</th>\n",
       "      <th>EU_sales</th>\n",
       "      <th>JP_sales</th>\n",
       "      <th>Other_sales</th>\n",
       "      <th>Critic_Score</th>\n",
       "      <th>User_Score</th>\n",
       "      <th>Rating</th>\n",
       "    </tr>\n",
       "  </thead>\n",
       "  <tbody>\n",
       "    <tr>\n",
       "      <th>0</th>\n",
       "      <td>Wii Sports</td>\n",
       "      <td>Wii</td>\n",
       "      <td>2006.0</td>\n",
       "      <td>Sports</td>\n",
       "      <td>41.36</td>\n",
       "      <td>28.96</td>\n",
       "      <td>3.77</td>\n",
       "      <td>8.45</td>\n",
       "      <td>76.0</td>\n",
       "      <td>8</td>\n",
       "      <td>E</td>\n",
       "    </tr>\n",
       "    <tr>\n",
       "      <th>1</th>\n",
       "      <td>Super Mario Bros.</td>\n",
       "      <td>NES</td>\n",
       "      <td>1985.0</td>\n",
       "      <td>Platform</td>\n",
       "      <td>29.08</td>\n",
       "      <td>3.58</td>\n",
       "      <td>6.81</td>\n",
       "      <td>0.77</td>\n",
       "      <td>NaN</td>\n",
       "      <td>NaN</td>\n",
       "      <td>NaN</td>\n",
       "    </tr>\n",
       "    <tr>\n",
       "      <th>2</th>\n",
       "      <td>Mario Kart Wii</td>\n",
       "      <td>Wii</td>\n",
       "      <td>2008.0</td>\n",
       "      <td>Racing</td>\n",
       "      <td>15.68</td>\n",
       "      <td>12.76</td>\n",
       "      <td>3.79</td>\n",
       "      <td>3.29</td>\n",
       "      <td>82.0</td>\n",
       "      <td>8.3</td>\n",
       "      <td>E</td>\n",
       "    </tr>\n",
       "    <tr>\n",
       "      <th>3</th>\n",
       "      <td>Wii Sports Resort</td>\n",
       "      <td>Wii</td>\n",
       "      <td>2009.0</td>\n",
       "      <td>Sports</td>\n",
       "      <td>15.61</td>\n",
       "      <td>10.93</td>\n",
       "      <td>3.28</td>\n",
       "      <td>2.95</td>\n",
       "      <td>80.0</td>\n",
       "      <td>8</td>\n",
       "      <td>E</td>\n",
       "    </tr>\n",
       "    <tr>\n",
       "      <th>4</th>\n",
       "      <td>Pokemon Red/Pokemon Blue</td>\n",
       "      <td>GB</td>\n",
       "      <td>1996.0</td>\n",
       "      <td>Role-Playing</td>\n",
       "      <td>11.27</td>\n",
       "      <td>8.89</td>\n",
       "      <td>10.22</td>\n",
       "      <td>1.00</td>\n",
       "      <td>NaN</td>\n",
       "      <td>NaN</td>\n",
       "      <td>NaN</td>\n",
       "    </tr>\n",
       "    <tr>\n",
       "      <th>...</th>\n",
       "      <td>...</td>\n",
       "      <td>...</td>\n",
       "      <td>...</td>\n",
       "      <td>...</td>\n",
       "      <td>...</td>\n",
       "      <td>...</td>\n",
       "      <td>...</td>\n",
       "      <td>...</td>\n",
       "      <td>...</td>\n",
       "      <td>...</td>\n",
       "      <td>...</td>\n",
       "    </tr>\n",
       "    <tr>\n",
       "      <th>16710</th>\n",
       "      <td>Samurai Warriors: Sanada Maru</td>\n",
       "      <td>PS3</td>\n",
       "      <td>2016.0</td>\n",
       "      <td>Action</td>\n",
       "      <td>0.00</td>\n",
       "      <td>0.00</td>\n",
       "      <td>0.01</td>\n",
       "      <td>0.00</td>\n",
       "      <td>NaN</td>\n",
       "      <td>NaN</td>\n",
       "      <td>NaN</td>\n",
       "    </tr>\n",
       "    <tr>\n",
       "      <th>16711</th>\n",
       "      <td>LMA Manager 2007</td>\n",
       "      <td>X360</td>\n",
       "      <td>2006.0</td>\n",
       "      <td>Sports</td>\n",
       "      <td>0.00</td>\n",
       "      <td>0.01</td>\n",
       "      <td>0.00</td>\n",
       "      <td>0.00</td>\n",
       "      <td>NaN</td>\n",
       "      <td>NaN</td>\n",
       "      <td>NaN</td>\n",
       "    </tr>\n",
       "    <tr>\n",
       "      <th>16712</th>\n",
       "      <td>Haitaka no Psychedelica</td>\n",
       "      <td>PSV</td>\n",
       "      <td>2016.0</td>\n",
       "      <td>Adventure</td>\n",
       "      <td>0.00</td>\n",
       "      <td>0.00</td>\n",
       "      <td>0.01</td>\n",
       "      <td>0.00</td>\n",
       "      <td>NaN</td>\n",
       "      <td>NaN</td>\n",
       "      <td>NaN</td>\n",
       "    </tr>\n",
       "    <tr>\n",
       "      <th>16713</th>\n",
       "      <td>Spirits &amp; Spells</td>\n",
       "      <td>GBA</td>\n",
       "      <td>2003.0</td>\n",
       "      <td>Platform</td>\n",
       "      <td>0.01</td>\n",
       "      <td>0.00</td>\n",
       "      <td>0.00</td>\n",
       "      <td>0.00</td>\n",
       "      <td>NaN</td>\n",
       "      <td>NaN</td>\n",
       "      <td>NaN</td>\n",
       "    </tr>\n",
       "    <tr>\n",
       "      <th>16714</th>\n",
       "      <td>Winning Post 8 2016</td>\n",
       "      <td>PSV</td>\n",
       "      <td>2016.0</td>\n",
       "      <td>Simulation</td>\n",
       "      <td>0.00</td>\n",
       "      <td>0.00</td>\n",
       "      <td>0.01</td>\n",
       "      <td>0.00</td>\n",
       "      <td>NaN</td>\n",
       "      <td>NaN</td>\n",
       "      <td>NaN</td>\n",
       "    </tr>\n",
       "  </tbody>\n",
       "</table>\n",
       "<p>16715 rows × 11 columns</p>\n",
       "</div>"
      ],
      "text/plain": [
       "                                Name Platform  Year_of_Release         Genre  \\\n",
       "0                         Wii Sports      Wii           2006.0        Sports   \n",
       "1                  Super Mario Bros.      NES           1985.0      Platform   \n",
       "2                     Mario Kart Wii      Wii           2008.0        Racing   \n",
       "3                  Wii Sports Resort      Wii           2009.0        Sports   \n",
       "4           Pokemon Red/Pokemon Blue       GB           1996.0  Role-Playing   \n",
       "...                              ...      ...              ...           ...   \n",
       "16710  Samurai Warriors: Sanada Maru      PS3           2016.0        Action   \n",
       "16711               LMA Manager 2007     X360           2006.0        Sports   \n",
       "16712        Haitaka no Psychedelica      PSV           2016.0     Adventure   \n",
       "16713               Spirits & Spells      GBA           2003.0      Platform   \n",
       "16714            Winning Post 8 2016      PSV           2016.0    Simulation   \n",
       "\n",
       "       NA_sales  EU_sales  JP_sales  Other_sales  Critic_Score User_Score  \\\n",
       "0         41.36     28.96      3.77         8.45          76.0          8   \n",
       "1         29.08      3.58      6.81         0.77           NaN        NaN   \n",
       "2         15.68     12.76      3.79         3.29          82.0        8.3   \n",
       "3         15.61     10.93      3.28         2.95          80.0          8   \n",
       "4         11.27      8.89     10.22         1.00           NaN        NaN   \n",
       "...         ...       ...       ...          ...           ...        ...   \n",
       "16710      0.00      0.00      0.01         0.00           NaN        NaN   \n",
       "16711      0.00      0.01      0.00         0.00           NaN        NaN   \n",
       "16712      0.00      0.00      0.01         0.00           NaN        NaN   \n",
       "16713      0.01      0.00      0.00         0.00           NaN        NaN   \n",
       "16714      0.00      0.00      0.01         0.00           NaN        NaN   \n",
       "\n",
       "      Rating  \n",
       "0          E  \n",
       "1        NaN  \n",
       "2          E  \n",
       "3          E  \n",
       "4        NaN  \n",
       "...      ...  \n",
       "16710    NaN  \n",
       "16711    NaN  \n",
       "16712    NaN  \n",
       "16713    NaN  \n",
       "16714    NaN  \n",
       "\n",
       "[16715 rows x 11 columns]"
      ]
     },
     "metadata": {},
     "output_type": "display_data"
    }
   ],
   "source": [
    "display(data)"
   ]
  },
  {
   "cell_type": "code",
   "execution_count": 4,
   "metadata": {},
   "outputs": [
    {
     "name": "stdout",
     "output_type": "stream",
     "text": [
      "<class 'pandas.core.frame.DataFrame'>\n",
      "RangeIndex: 16715 entries, 0 to 16714\n",
      "Data columns (total 11 columns):\n",
      " #   Column           Non-Null Count  Dtype  \n",
      "---  ------           --------------  -----  \n",
      " 0   Name             16713 non-null  object \n",
      " 1   Platform         16715 non-null  object \n",
      " 2   Year_of_Release  16446 non-null  float64\n",
      " 3   Genre            16713 non-null  object \n",
      " 4   NA_sales         16715 non-null  float64\n",
      " 5   EU_sales         16715 non-null  float64\n",
      " 6   JP_sales         16715 non-null  float64\n",
      " 7   Other_sales      16715 non-null  float64\n",
      " 8   Critic_Score     8137 non-null   float64\n",
      " 9   User_Score       10014 non-null  object \n",
      " 10  Rating           9949 non-null   object \n",
      "dtypes: float64(6), object(5)\n",
      "memory usage: 1.4+ MB\n"
     ]
    }
   ],
   "source": [
    "data.info()"
   ]
  },
  {
   "cell_type": "markdown",
   "metadata": {},
   "source": [
    "Не везде правильные типы данных, название столбцов надо привести к нижнему регистру, много где есть пропуски."
   ]
  },
  {
   "cell_type": "markdown",
   "metadata": {},
   "source": [
    "# 2 подготовка данных"
   ]
  },
  {
   "cell_type": "code",
   "execution_count": 5,
   "metadata": {},
   "outputs": [],
   "source": [
    "data.columns = map(str.lower, data.columns)"
   ]
  },
  {
   "cell_type": "markdown",
   "metadata": {},
   "source": [
    "Привели название столбцов к нижнему регистру"
   ]
  },
  {
   "cell_type": "code",
   "execution_count": 6,
   "metadata": {},
   "outputs": [
    {
     "name": "stdout",
     "output_type": "stream",
     "text": [
      "<class 'pandas.core.frame.DataFrame'>\n",
      "RangeIndex: 16715 entries, 0 to 16714\n",
      "Data columns (total 11 columns):\n",
      " #   Column           Non-Null Count  Dtype  \n",
      "---  ------           --------------  -----  \n",
      " 0   name             16713 non-null  object \n",
      " 1   platform         16715 non-null  object \n",
      " 2   year_of_release  16446 non-null  float64\n",
      " 3   genre            16713 non-null  object \n",
      " 4   na_sales         16715 non-null  float64\n",
      " 5   eu_sales         16715 non-null  float64\n",
      " 6   jp_sales         16715 non-null  float64\n",
      " 7   other_sales      16715 non-null  float64\n",
      " 8   critic_score     8137 non-null   float64\n",
      " 9   user_score       10014 non-null  object \n",
      " 10  rating           9949 non-null   object \n",
      "dtypes: float64(6), object(5)\n",
      "memory usage: 1.4+ MB\n"
     ]
    }
   ],
   "source": [
    "data.info()"
   ]
  },
  {
   "cell_type": "code",
   "execution_count": 7,
   "metadata": {},
   "outputs": [],
   "source": [
    "data['user_score'] = pd.to_numeric(data['user_score'],errors='coerce')"
   ]
  },
  {
   "cell_type": "markdown",
   "metadata": {},
   "source": [
    "изменили тип данных у столбца user_score на float"
   ]
  },
  {
   "cell_type": "code",
   "execution_count": 8,
   "metadata": {},
   "outputs": [],
   "source": [
    "data['year_of_release'] = data['year_of_release'].astype('Int32')"
   ]
  },
  {
   "cell_type": "markdown",
   "metadata": {},
   "source": [
    "Изменили тип данных year_of_release на int"
   ]
  },
  {
   "cell_type": "code",
   "execution_count": 9,
   "metadata": {},
   "outputs": [
    {
     "name": "stdout",
     "output_type": "stream",
     "text": [
      "<class 'pandas.core.frame.DataFrame'>\n",
      "RangeIndex: 16715 entries, 0 to 16714\n",
      "Data columns (total 11 columns):\n",
      " #   Column           Non-Null Count  Dtype  \n",
      "---  ------           --------------  -----  \n",
      " 0   name             16713 non-null  object \n",
      " 1   platform         16715 non-null  object \n",
      " 2   year_of_release  16446 non-null  Int32  \n",
      " 3   genre            16713 non-null  object \n",
      " 4   na_sales         16715 non-null  float64\n",
      " 5   eu_sales         16715 non-null  float64\n",
      " 6   jp_sales         16715 non-null  float64\n",
      " 7   other_sales      16715 non-null  float64\n",
      " 8   critic_score     8137 non-null   float64\n",
      " 9   user_score       7590 non-null   float64\n",
      " 10  rating           9949 non-null   object \n",
      "dtypes: Int32(1), float64(6), object(4)\n",
      "memory usage: 1.4+ MB\n"
     ]
    }
   ],
   "source": [
    "data.info()"
   ]
  },
  {
   "cell_type": "code",
   "execution_count": 10,
   "metadata": {},
   "outputs": [
    {
     "data": {
      "text/plain": [
       "name                  2\n",
       "platform              0\n",
       "year_of_release     269\n",
       "genre                 2\n",
       "na_sales              0\n",
       "eu_sales              0\n",
       "jp_sales              0\n",
       "other_sales           0\n",
       "critic_score       8578\n",
       "user_score         9125\n",
       "rating             6766\n",
       "dtype: int64"
      ]
     },
     "execution_count": 10,
     "metadata": {},
     "output_type": "execute_result"
    }
   ],
   "source": [
    "data.isna().sum()"
   ]
  },
  {
   "cell_type": "code",
   "execution_count": 11,
   "metadata": {},
   "outputs": [
    {
     "data": {
      "text/plain": [
       "array(['E', nan, 'M', 'T', 'E10+', 'K-A', 'AO', 'EC', 'RP'], dtype=object)"
      ]
     },
     "execution_count": 11,
     "metadata": {},
     "output_type": "execute_result"
    }
   ],
   "source": [
    "data['rating'].unique()"
   ]
  },
  {
   "cell_type": "code",
   "execution_count": 12,
   "metadata": {},
   "outputs": [
    {
     "data": {
      "text/plain": [
       "array(['Wii Sports', 'Super Mario Bros.', 'Mario Kart Wii', ...,\n",
       "       'Woody Woodpecker in Crazy Castle 5', 'LMA Manager 2007',\n",
       "       'Haitaka no Psychedelica'], dtype=object)"
      ]
     },
     "execution_count": 12,
     "metadata": {},
     "output_type": "execute_result"
    }
   ],
   "source": [
    "data['name'].unique()"
   ]
  },
  {
   "cell_type": "code",
   "execution_count": 13,
   "metadata": {},
   "outputs": [
    {
     "data": {
      "text/plain": [
       "name                  2\n",
       "platform              0\n",
       "year_of_release     269\n",
       "genre                 2\n",
       "na_sales              0\n",
       "eu_sales              0\n",
       "jp_sales              0\n",
       "other_sales           0\n",
       "critic_score       8578\n",
       "user_score         9125\n",
       "rating             6766\n",
       "dtype: int64"
      ]
     },
     "execution_count": 13,
     "metadata": {},
     "output_type": "execute_result"
    }
   ],
   "source": [
    "data.isna().sum()"
   ]
  },
  {
   "cell_type": "markdown",
   "metadata": {},
   "source": [
    "name и genre имеют всего по 2 пропуска. Смысла их заменять/удалять нет, оставим ,как есть\n",
    "year_of_release - при предосмотре данных (методом describe) мы увидели, что год выпуска находится между 1980 и 2016. Но заменять средний или медианным значением мы не можем. Так как у нас к определенному году привяжется 269 дополнительных игр, что отразится, на дальнейшем анализе и он будет недостоверным. Оставим ,как есть.\n",
    "critic_score,user_score - это оценочные показатели. Здесь мы тоже не можем заменять пропуски средним или медианным значеним. Так же нельзя заменить пропуски нулями (оценка \"0\" тоже бывает). Оставим, как есть."
   ]
  },
  {
   "cell_type": "code",
   "execution_count": 14,
   "metadata": {},
   "outputs": [],
   "source": [
    "data['user_score'] = data['user_score'].replace('tbd', np.nan, regex=True)"
   ]
  },
  {
   "cell_type": "markdown",
   "metadata": {},
   "source": [
    "Аббревиатура TBD имеет несколько расшифровок. Нас же интересует игровая сфера. 'To Be Determined' - 'Будет определено'. Т.е. это то же самое, что неизвестное значение. Поэтому, можно смело заменить значение 'tbd' на 'NaN'."
   ]
  },
  {
   "cell_type": "code",
   "execution_count": 15,
   "metadata": {},
   "outputs": [
    {
     "data": {
      "text/html": [
       "<div>\n",
       "<style scoped>\n",
       "    .dataframe tbody tr th:only-of-type {\n",
       "        vertical-align: middle;\n",
       "    }\n",
       "\n",
       "    .dataframe tbody tr th {\n",
       "        vertical-align: top;\n",
       "    }\n",
       "\n",
       "    .dataframe thead th {\n",
       "        text-align: right;\n",
       "    }\n",
       "</style>\n",
       "<table border=\"1\" class=\"dataframe\">\n",
       "  <thead>\n",
       "    <tr style=\"text-align: right;\">\n",
       "      <th></th>\n",
       "      <th>name</th>\n",
       "      <th>platform</th>\n",
       "      <th>year_of_release</th>\n",
       "      <th>genre</th>\n",
       "      <th>na_sales</th>\n",
       "      <th>eu_sales</th>\n",
       "      <th>jp_sales</th>\n",
       "      <th>other_sales</th>\n",
       "      <th>critic_score</th>\n",
       "      <th>user_score</th>\n",
       "      <th>rating</th>\n",
       "    </tr>\n",
       "  </thead>\n",
       "  <tbody>\n",
       "    <tr>\n",
       "      <th>0</th>\n",
       "      <td>Wii Sports</td>\n",
       "      <td>Wii</td>\n",
       "      <td>2006</td>\n",
       "      <td>Sports</td>\n",
       "      <td>41.36</td>\n",
       "      <td>28.96</td>\n",
       "      <td>3.77</td>\n",
       "      <td>8.45</td>\n",
       "      <td>76.0</td>\n",
       "      <td>8.0</td>\n",
       "      <td>E</td>\n",
       "    </tr>\n",
       "    <tr>\n",
       "      <th>1</th>\n",
       "      <td>Super Mario Bros.</td>\n",
       "      <td>NES</td>\n",
       "      <td>1985</td>\n",
       "      <td>Platform</td>\n",
       "      <td>29.08</td>\n",
       "      <td>3.58</td>\n",
       "      <td>6.81</td>\n",
       "      <td>0.77</td>\n",
       "      <td>NaN</td>\n",
       "      <td>NaN</td>\n",
       "      <td>NaN</td>\n",
       "    </tr>\n",
       "    <tr>\n",
       "      <th>2</th>\n",
       "      <td>Mario Kart Wii</td>\n",
       "      <td>Wii</td>\n",
       "      <td>2008</td>\n",
       "      <td>Racing</td>\n",
       "      <td>15.68</td>\n",
       "      <td>12.76</td>\n",
       "      <td>3.79</td>\n",
       "      <td>3.29</td>\n",
       "      <td>82.0</td>\n",
       "      <td>8.3</td>\n",
       "      <td>E</td>\n",
       "    </tr>\n",
       "    <tr>\n",
       "      <th>3</th>\n",
       "      <td>Wii Sports Resort</td>\n",
       "      <td>Wii</td>\n",
       "      <td>2009</td>\n",
       "      <td>Sports</td>\n",
       "      <td>15.61</td>\n",
       "      <td>10.93</td>\n",
       "      <td>3.28</td>\n",
       "      <td>2.95</td>\n",
       "      <td>80.0</td>\n",
       "      <td>8.0</td>\n",
       "      <td>E</td>\n",
       "    </tr>\n",
       "    <tr>\n",
       "      <th>4</th>\n",
       "      <td>Pokemon Red/Pokemon Blue</td>\n",
       "      <td>GB</td>\n",
       "      <td>1996</td>\n",
       "      <td>Role-Playing</td>\n",
       "      <td>11.27</td>\n",
       "      <td>8.89</td>\n",
       "      <td>10.22</td>\n",
       "      <td>1.00</td>\n",
       "      <td>NaN</td>\n",
       "      <td>NaN</td>\n",
       "      <td>NaN</td>\n",
       "    </tr>\n",
       "    <tr>\n",
       "      <th>...</th>\n",
       "      <td>...</td>\n",
       "      <td>...</td>\n",
       "      <td>...</td>\n",
       "      <td>...</td>\n",
       "      <td>...</td>\n",
       "      <td>...</td>\n",
       "      <td>...</td>\n",
       "      <td>...</td>\n",
       "      <td>...</td>\n",
       "      <td>...</td>\n",
       "      <td>...</td>\n",
       "    </tr>\n",
       "    <tr>\n",
       "      <th>16710</th>\n",
       "      <td>Samurai Warriors: Sanada Maru</td>\n",
       "      <td>PS3</td>\n",
       "      <td>2016</td>\n",
       "      <td>Action</td>\n",
       "      <td>0.00</td>\n",
       "      <td>0.00</td>\n",
       "      <td>0.01</td>\n",
       "      <td>0.00</td>\n",
       "      <td>NaN</td>\n",
       "      <td>NaN</td>\n",
       "      <td>NaN</td>\n",
       "    </tr>\n",
       "    <tr>\n",
       "      <th>16711</th>\n",
       "      <td>LMA Manager 2007</td>\n",
       "      <td>X360</td>\n",
       "      <td>2006</td>\n",
       "      <td>Sports</td>\n",
       "      <td>0.00</td>\n",
       "      <td>0.01</td>\n",
       "      <td>0.00</td>\n",
       "      <td>0.00</td>\n",
       "      <td>NaN</td>\n",
       "      <td>NaN</td>\n",
       "      <td>NaN</td>\n",
       "    </tr>\n",
       "    <tr>\n",
       "      <th>16712</th>\n",
       "      <td>Haitaka no Psychedelica</td>\n",
       "      <td>PSV</td>\n",
       "      <td>2016</td>\n",
       "      <td>Adventure</td>\n",
       "      <td>0.00</td>\n",
       "      <td>0.00</td>\n",
       "      <td>0.01</td>\n",
       "      <td>0.00</td>\n",
       "      <td>NaN</td>\n",
       "      <td>NaN</td>\n",
       "      <td>NaN</td>\n",
       "    </tr>\n",
       "    <tr>\n",
       "      <th>16713</th>\n",
       "      <td>Spirits &amp; Spells</td>\n",
       "      <td>GBA</td>\n",
       "      <td>2003</td>\n",
       "      <td>Platform</td>\n",
       "      <td>0.01</td>\n",
       "      <td>0.00</td>\n",
       "      <td>0.00</td>\n",
       "      <td>0.00</td>\n",
       "      <td>NaN</td>\n",
       "      <td>NaN</td>\n",
       "      <td>NaN</td>\n",
       "    </tr>\n",
       "    <tr>\n",
       "      <th>16714</th>\n",
       "      <td>Winning Post 8 2016</td>\n",
       "      <td>PSV</td>\n",
       "      <td>2016</td>\n",
       "      <td>Simulation</td>\n",
       "      <td>0.00</td>\n",
       "      <td>0.00</td>\n",
       "      <td>0.01</td>\n",
       "      <td>0.00</td>\n",
       "      <td>NaN</td>\n",
       "      <td>NaN</td>\n",
       "      <td>NaN</td>\n",
       "    </tr>\n",
       "  </tbody>\n",
       "</table>\n",
       "<p>16715 rows × 11 columns</p>\n",
       "</div>"
      ],
      "text/plain": [
       "                                name platform  year_of_release         genre  \\\n",
       "0                         Wii Sports      Wii             2006        Sports   \n",
       "1                  Super Mario Bros.      NES             1985      Platform   \n",
       "2                     Mario Kart Wii      Wii             2008        Racing   \n",
       "3                  Wii Sports Resort      Wii             2009        Sports   \n",
       "4           Pokemon Red/Pokemon Blue       GB             1996  Role-Playing   \n",
       "...                              ...      ...              ...           ...   \n",
       "16710  Samurai Warriors: Sanada Maru      PS3             2016        Action   \n",
       "16711               LMA Manager 2007     X360             2006        Sports   \n",
       "16712        Haitaka no Psychedelica      PSV             2016     Adventure   \n",
       "16713               Spirits & Spells      GBA             2003      Platform   \n",
       "16714            Winning Post 8 2016      PSV             2016    Simulation   \n",
       "\n",
       "       na_sales  eu_sales  jp_sales  other_sales  critic_score  user_score  \\\n",
       "0         41.36     28.96      3.77         8.45          76.0         8.0   \n",
       "1         29.08      3.58      6.81         0.77           NaN         NaN   \n",
       "2         15.68     12.76      3.79         3.29          82.0         8.3   \n",
       "3         15.61     10.93      3.28         2.95          80.0         8.0   \n",
       "4         11.27      8.89     10.22         1.00           NaN         NaN   \n",
       "...         ...       ...       ...          ...           ...         ...   \n",
       "16710      0.00      0.00      0.01         0.00           NaN         NaN   \n",
       "16711      0.00      0.01      0.00         0.00           NaN         NaN   \n",
       "16712      0.00      0.00      0.01         0.00           NaN         NaN   \n",
       "16713      0.01      0.00      0.00         0.00           NaN         NaN   \n",
       "16714      0.00      0.00      0.01         0.00           NaN         NaN   \n",
       "\n",
       "      rating  \n",
       "0          E  \n",
       "1        NaN  \n",
       "2          E  \n",
       "3          E  \n",
       "4        NaN  \n",
       "...      ...  \n",
       "16710    NaN  \n",
       "16711    NaN  \n",
       "16712    NaN  \n",
       "16713    NaN  \n",
       "16714    NaN  \n",
       "\n",
       "[16715 rows x 11 columns]"
      ]
     },
     "metadata": {},
     "output_type": "display_data"
    }
   ],
   "source": [
    "display(data)"
   ]
  },
  {
   "cell_type": "code",
   "execution_count": 16,
   "metadata": {},
   "outputs": [
    {
     "data": {
      "text/html": [
       "<div>\n",
       "<style scoped>\n",
       "    .dataframe tbody tr th:only-of-type {\n",
       "        vertical-align: middle;\n",
       "    }\n",
       "\n",
       "    .dataframe tbody tr th {\n",
       "        vertical-align: top;\n",
       "    }\n",
       "\n",
       "    .dataframe thead th {\n",
       "        text-align: right;\n",
       "    }\n",
       "</style>\n",
       "<table border=\"1\" class=\"dataframe\">\n",
       "  <thead>\n",
       "    <tr style=\"text-align: right;\">\n",
       "      <th></th>\n",
       "      <th>name</th>\n",
       "      <th>platform</th>\n",
       "      <th>year_of_release</th>\n",
       "      <th>genre</th>\n",
       "      <th>na_sales</th>\n",
       "      <th>eu_sales</th>\n",
       "      <th>jp_sales</th>\n",
       "      <th>other_sales</th>\n",
       "      <th>critic_score</th>\n",
       "      <th>user_score</th>\n",
       "      <th>rating</th>\n",
       "    </tr>\n",
       "  </thead>\n",
       "  <tbody>\n",
       "    <tr>\n",
       "      <th>0</th>\n",
       "      <td>Wii Sports</td>\n",
       "      <td>Wii</td>\n",
       "      <td>2006</td>\n",
       "      <td>Sports</td>\n",
       "      <td>41.36</td>\n",
       "      <td>28.96</td>\n",
       "      <td>3.77</td>\n",
       "      <td>8.45</td>\n",
       "      <td>76.0</td>\n",
       "      <td>8.0</td>\n",
       "      <td>E</td>\n",
       "    </tr>\n",
       "    <tr>\n",
       "      <th>1</th>\n",
       "      <td>Super Mario Bros.</td>\n",
       "      <td>NES</td>\n",
       "      <td>1985</td>\n",
       "      <td>Platform</td>\n",
       "      <td>29.08</td>\n",
       "      <td>3.58</td>\n",
       "      <td>6.81</td>\n",
       "      <td>0.77</td>\n",
       "      <td>NaN</td>\n",
       "      <td>NaN</td>\n",
       "      <td>NaN</td>\n",
       "    </tr>\n",
       "    <tr>\n",
       "      <th>2</th>\n",
       "      <td>Mario Kart Wii</td>\n",
       "      <td>Wii</td>\n",
       "      <td>2008</td>\n",
       "      <td>Racing</td>\n",
       "      <td>15.68</td>\n",
       "      <td>12.76</td>\n",
       "      <td>3.79</td>\n",
       "      <td>3.29</td>\n",
       "      <td>82.0</td>\n",
       "      <td>8.3</td>\n",
       "      <td>E</td>\n",
       "    </tr>\n",
       "    <tr>\n",
       "      <th>3</th>\n",
       "      <td>Wii Sports Resort</td>\n",
       "      <td>Wii</td>\n",
       "      <td>2009</td>\n",
       "      <td>Sports</td>\n",
       "      <td>15.61</td>\n",
       "      <td>10.93</td>\n",
       "      <td>3.28</td>\n",
       "      <td>2.95</td>\n",
       "      <td>80.0</td>\n",
       "      <td>8.0</td>\n",
       "      <td>E</td>\n",
       "    </tr>\n",
       "    <tr>\n",
       "      <th>4</th>\n",
       "      <td>Pokemon Red/Pokemon Blue</td>\n",
       "      <td>GB</td>\n",
       "      <td>1996</td>\n",
       "      <td>Role-Playing</td>\n",
       "      <td>11.27</td>\n",
       "      <td>8.89</td>\n",
       "      <td>10.22</td>\n",
       "      <td>1.00</td>\n",
       "      <td>NaN</td>\n",
       "      <td>NaN</td>\n",
       "      <td>NaN</td>\n",
       "    </tr>\n",
       "    <tr>\n",
       "      <th>5</th>\n",
       "      <td>Tetris</td>\n",
       "      <td>GB</td>\n",
       "      <td>1989</td>\n",
       "      <td>Puzzle</td>\n",
       "      <td>23.20</td>\n",
       "      <td>2.26</td>\n",
       "      <td>4.22</td>\n",
       "      <td>0.58</td>\n",
       "      <td>NaN</td>\n",
       "      <td>NaN</td>\n",
       "      <td>NaN</td>\n",
       "    </tr>\n",
       "    <tr>\n",
       "      <th>6</th>\n",
       "      <td>New Super Mario Bros.</td>\n",
       "      <td>DS</td>\n",
       "      <td>2006</td>\n",
       "      <td>Platform</td>\n",
       "      <td>11.28</td>\n",
       "      <td>9.14</td>\n",
       "      <td>6.50</td>\n",
       "      <td>2.88</td>\n",
       "      <td>89.0</td>\n",
       "      <td>8.5</td>\n",
       "      <td>E</td>\n",
       "    </tr>\n",
       "    <tr>\n",
       "      <th>7</th>\n",
       "      <td>Wii Play</td>\n",
       "      <td>Wii</td>\n",
       "      <td>2006</td>\n",
       "      <td>Misc</td>\n",
       "      <td>13.96</td>\n",
       "      <td>9.18</td>\n",
       "      <td>2.93</td>\n",
       "      <td>2.84</td>\n",
       "      <td>58.0</td>\n",
       "      <td>6.6</td>\n",
       "      <td>E</td>\n",
       "    </tr>\n",
       "    <tr>\n",
       "      <th>8</th>\n",
       "      <td>New Super Mario Bros. Wii</td>\n",
       "      <td>Wii</td>\n",
       "      <td>2009</td>\n",
       "      <td>Platform</td>\n",
       "      <td>14.44</td>\n",
       "      <td>6.94</td>\n",
       "      <td>4.70</td>\n",
       "      <td>2.24</td>\n",
       "      <td>87.0</td>\n",
       "      <td>8.4</td>\n",
       "      <td>E</td>\n",
       "    </tr>\n",
       "    <tr>\n",
       "      <th>9</th>\n",
       "      <td>Duck Hunt</td>\n",
       "      <td>NES</td>\n",
       "      <td>1984</td>\n",
       "      <td>Shooter</td>\n",
       "      <td>26.93</td>\n",
       "      <td>0.63</td>\n",
       "      <td>0.28</td>\n",
       "      <td>0.47</td>\n",
       "      <td>NaN</td>\n",
       "      <td>NaN</td>\n",
       "      <td>NaN</td>\n",
       "    </tr>\n",
       "    <tr>\n",
       "      <th>10</th>\n",
       "      <td>Nintendogs</td>\n",
       "      <td>DS</td>\n",
       "      <td>2005</td>\n",
       "      <td>Simulation</td>\n",
       "      <td>9.05</td>\n",
       "      <td>10.95</td>\n",
       "      <td>1.93</td>\n",
       "      <td>2.74</td>\n",
       "      <td>NaN</td>\n",
       "      <td>NaN</td>\n",
       "      <td>NaN</td>\n",
       "    </tr>\n",
       "    <tr>\n",
       "      <th>11</th>\n",
       "      <td>Mario Kart DS</td>\n",
       "      <td>DS</td>\n",
       "      <td>2005</td>\n",
       "      <td>Racing</td>\n",
       "      <td>9.71</td>\n",
       "      <td>7.47</td>\n",
       "      <td>4.13</td>\n",
       "      <td>1.90</td>\n",
       "      <td>91.0</td>\n",
       "      <td>8.6</td>\n",
       "      <td>E</td>\n",
       "    </tr>\n",
       "    <tr>\n",
       "      <th>12</th>\n",
       "      <td>Pokemon Gold/Pokemon Silver</td>\n",
       "      <td>GB</td>\n",
       "      <td>1999</td>\n",
       "      <td>Role-Playing</td>\n",
       "      <td>9.00</td>\n",
       "      <td>6.18</td>\n",
       "      <td>7.20</td>\n",
       "      <td>0.71</td>\n",
       "      <td>NaN</td>\n",
       "      <td>NaN</td>\n",
       "      <td>NaN</td>\n",
       "    </tr>\n",
       "    <tr>\n",
       "      <th>13</th>\n",
       "      <td>Wii Fit</td>\n",
       "      <td>Wii</td>\n",
       "      <td>2007</td>\n",
       "      <td>Sports</td>\n",
       "      <td>8.92</td>\n",
       "      <td>8.03</td>\n",
       "      <td>3.60</td>\n",
       "      <td>2.15</td>\n",
       "      <td>80.0</td>\n",
       "      <td>7.7</td>\n",
       "      <td>E</td>\n",
       "    </tr>\n",
       "    <tr>\n",
       "      <th>14</th>\n",
       "      <td>Kinect Adventures!</td>\n",
       "      <td>X360</td>\n",
       "      <td>2010</td>\n",
       "      <td>Misc</td>\n",
       "      <td>15.00</td>\n",
       "      <td>4.89</td>\n",
       "      <td>0.24</td>\n",
       "      <td>1.69</td>\n",
       "      <td>61.0</td>\n",
       "      <td>6.3</td>\n",
       "      <td>E</td>\n",
       "    </tr>\n",
       "  </tbody>\n",
       "</table>\n",
       "</div>"
      ],
      "text/plain": [
       "                           name platform  year_of_release         genre  \\\n",
       "0                    Wii Sports      Wii             2006        Sports   \n",
       "1             Super Mario Bros.      NES             1985      Platform   \n",
       "2                Mario Kart Wii      Wii             2008        Racing   \n",
       "3             Wii Sports Resort      Wii             2009        Sports   \n",
       "4      Pokemon Red/Pokemon Blue       GB             1996  Role-Playing   \n",
       "5                        Tetris       GB             1989        Puzzle   \n",
       "6         New Super Mario Bros.       DS             2006      Platform   \n",
       "7                      Wii Play      Wii             2006          Misc   \n",
       "8     New Super Mario Bros. Wii      Wii             2009      Platform   \n",
       "9                     Duck Hunt      NES             1984       Shooter   \n",
       "10                   Nintendogs       DS             2005    Simulation   \n",
       "11                Mario Kart DS       DS             2005        Racing   \n",
       "12  Pokemon Gold/Pokemon Silver       GB             1999  Role-Playing   \n",
       "13                      Wii Fit      Wii             2007        Sports   \n",
       "14           Kinect Adventures!     X360             2010          Misc   \n",
       "\n",
       "    na_sales  eu_sales  jp_sales  other_sales  critic_score  user_score rating  \n",
       "0      41.36     28.96      3.77         8.45          76.0         8.0      E  \n",
       "1      29.08      3.58      6.81         0.77           NaN         NaN    NaN  \n",
       "2      15.68     12.76      3.79         3.29          82.0         8.3      E  \n",
       "3      15.61     10.93      3.28         2.95          80.0         8.0      E  \n",
       "4      11.27      8.89     10.22         1.00           NaN         NaN    NaN  \n",
       "5      23.20      2.26      4.22         0.58           NaN         NaN    NaN  \n",
       "6      11.28      9.14      6.50         2.88          89.0         8.5      E  \n",
       "7      13.96      9.18      2.93         2.84          58.0         6.6      E  \n",
       "8      14.44      6.94      4.70         2.24          87.0         8.4      E  \n",
       "9      26.93      0.63      0.28         0.47           NaN         NaN    NaN  \n",
       "10      9.05     10.95      1.93         2.74           NaN         NaN    NaN  \n",
       "11      9.71      7.47      4.13         1.90          91.0         8.6      E  \n",
       "12      9.00      6.18      7.20         0.71           NaN         NaN    NaN  \n",
       "13      8.92      8.03      3.60         2.15          80.0         7.7      E  \n",
       "14     15.00      4.89      0.24         1.69          61.0         6.3      E  "
      ]
     },
     "execution_count": 16,
     "metadata": {},
     "output_type": "execute_result"
    }
   ],
   "source": [
    "data.head(15)"
   ]
  },
  {
   "cell_type": "code",
   "execution_count": 17,
   "metadata": {},
   "outputs": [],
   "source": [
    "data['sales_sum'] = data[['na_sales', 'jp_sales', 'eu_sales', 'other_sales']].sum(axis=1)"
   ]
  },
  {
   "cell_type": "code",
   "execution_count": 18,
   "metadata": {},
   "outputs": [
    {
     "data": {
      "text/html": [
       "<div>\n",
       "<style scoped>\n",
       "    .dataframe tbody tr th:only-of-type {\n",
       "        vertical-align: middle;\n",
       "    }\n",
       "\n",
       "    .dataframe tbody tr th {\n",
       "        vertical-align: top;\n",
       "    }\n",
       "\n",
       "    .dataframe thead th {\n",
       "        text-align: right;\n",
       "    }\n",
       "</style>\n",
       "<table border=\"1\" class=\"dataframe\">\n",
       "  <thead>\n",
       "    <tr style=\"text-align: right;\">\n",
       "      <th></th>\n",
       "      <th>name</th>\n",
       "      <th>platform</th>\n",
       "      <th>year_of_release</th>\n",
       "      <th>genre</th>\n",
       "      <th>na_sales</th>\n",
       "      <th>eu_sales</th>\n",
       "      <th>jp_sales</th>\n",
       "      <th>other_sales</th>\n",
       "      <th>critic_score</th>\n",
       "      <th>user_score</th>\n",
       "      <th>rating</th>\n",
       "      <th>sales_sum</th>\n",
       "    </tr>\n",
       "  </thead>\n",
       "  <tbody>\n",
       "    <tr>\n",
       "      <th>0</th>\n",
       "      <td>Wii Sports</td>\n",
       "      <td>Wii</td>\n",
       "      <td>2006</td>\n",
       "      <td>Sports</td>\n",
       "      <td>41.36</td>\n",
       "      <td>28.96</td>\n",
       "      <td>3.77</td>\n",
       "      <td>8.45</td>\n",
       "      <td>76.0</td>\n",
       "      <td>8.0</td>\n",
       "      <td>E</td>\n",
       "      <td>82.54</td>\n",
       "    </tr>\n",
       "    <tr>\n",
       "      <th>1</th>\n",
       "      <td>Super Mario Bros.</td>\n",
       "      <td>NES</td>\n",
       "      <td>1985</td>\n",
       "      <td>Platform</td>\n",
       "      <td>29.08</td>\n",
       "      <td>3.58</td>\n",
       "      <td>6.81</td>\n",
       "      <td>0.77</td>\n",
       "      <td>NaN</td>\n",
       "      <td>NaN</td>\n",
       "      <td>NaN</td>\n",
       "      <td>40.24</td>\n",
       "    </tr>\n",
       "    <tr>\n",
       "      <th>2</th>\n",
       "      <td>Mario Kart Wii</td>\n",
       "      <td>Wii</td>\n",
       "      <td>2008</td>\n",
       "      <td>Racing</td>\n",
       "      <td>15.68</td>\n",
       "      <td>12.76</td>\n",
       "      <td>3.79</td>\n",
       "      <td>3.29</td>\n",
       "      <td>82.0</td>\n",
       "      <td>8.3</td>\n",
       "      <td>E</td>\n",
       "      <td>35.52</td>\n",
       "    </tr>\n",
       "    <tr>\n",
       "      <th>3</th>\n",
       "      <td>Wii Sports Resort</td>\n",
       "      <td>Wii</td>\n",
       "      <td>2009</td>\n",
       "      <td>Sports</td>\n",
       "      <td>15.61</td>\n",
       "      <td>10.93</td>\n",
       "      <td>3.28</td>\n",
       "      <td>2.95</td>\n",
       "      <td>80.0</td>\n",
       "      <td>8.0</td>\n",
       "      <td>E</td>\n",
       "      <td>32.77</td>\n",
       "    </tr>\n",
       "    <tr>\n",
       "      <th>4</th>\n",
       "      <td>Pokemon Red/Pokemon Blue</td>\n",
       "      <td>GB</td>\n",
       "      <td>1996</td>\n",
       "      <td>Role-Playing</td>\n",
       "      <td>11.27</td>\n",
       "      <td>8.89</td>\n",
       "      <td>10.22</td>\n",
       "      <td>1.00</td>\n",
       "      <td>NaN</td>\n",
       "      <td>NaN</td>\n",
       "      <td>NaN</td>\n",
       "      <td>31.38</td>\n",
       "    </tr>\n",
       "    <tr>\n",
       "      <th>...</th>\n",
       "      <td>...</td>\n",
       "      <td>...</td>\n",
       "      <td>...</td>\n",
       "      <td>...</td>\n",
       "      <td>...</td>\n",
       "      <td>...</td>\n",
       "      <td>...</td>\n",
       "      <td>...</td>\n",
       "      <td>...</td>\n",
       "      <td>...</td>\n",
       "      <td>...</td>\n",
       "      <td>...</td>\n",
       "    </tr>\n",
       "    <tr>\n",
       "      <th>16710</th>\n",
       "      <td>Samurai Warriors: Sanada Maru</td>\n",
       "      <td>PS3</td>\n",
       "      <td>2016</td>\n",
       "      <td>Action</td>\n",
       "      <td>0.00</td>\n",
       "      <td>0.00</td>\n",
       "      <td>0.01</td>\n",
       "      <td>0.00</td>\n",
       "      <td>NaN</td>\n",
       "      <td>NaN</td>\n",
       "      <td>NaN</td>\n",
       "      <td>0.01</td>\n",
       "    </tr>\n",
       "    <tr>\n",
       "      <th>16711</th>\n",
       "      <td>LMA Manager 2007</td>\n",
       "      <td>X360</td>\n",
       "      <td>2006</td>\n",
       "      <td>Sports</td>\n",
       "      <td>0.00</td>\n",
       "      <td>0.01</td>\n",
       "      <td>0.00</td>\n",
       "      <td>0.00</td>\n",
       "      <td>NaN</td>\n",
       "      <td>NaN</td>\n",
       "      <td>NaN</td>\n",
       "      <td>0.01</td>\n",
       "    </tr>\n",
       "    <tr>\n",
       "      <th>16712</th>\n",
       "      <td>Haitaka no Psychedelica</td>\n",
       "      <td>PSV</td>\n",
       "      <td>2016</td>\n",
       "      <td>Adventure</td>\n",
       "      <td>0.00</td>\n",
       "      <td>0.00</td>\n",
       "      <td>0.01</td>\n",
       "      <td>0.00</td>\n",
       "      <td>NaN</td>\n",
       "      <td>NaN</td>\n",
       "      <td>NaN</td>\n",
       "      <td>0.01</td>\n",
       "    </tr>\n",
       "    <tr>\n",
       "      <th>16713</th>\n",
       "      <td>Spirits &amp; Spells</td>\n",
       "      <td>GBA</td>\n",
       "      <td>2003</td>\n",
       "      <td>Platform</td>\n",
       "      <td>0.01</td>\n",
       "      <td>0.00</td>\n",
       "      <td>0.00</td>\n",
       "      <td>0.00</td>\n",
       "      <td>NaN</td>\n",
       "      <td>NaN</td>\n",
       "      <td>NaN</td>\n",
       "      <td>0.01</td>\n",
       "    </tr>\n",
       "    <tr>\n",
       "      <th>16714</th>\n",
       "      <td>Winning Post 8 2016</td>\n",
       "      <td>PSV</td>\n",
       "      <td>2016</td>\n",
       "      <td>Simulation</td>\n",
       "      <td>0.00</td>\n",
       "      <td>0.00</td>\n",
       "      <td>0.01</td>\n",
       "      <td>0.00</td>\n",
       "      <td>NaN</td>\n",
       "      <td>NaN</td>\n",
       "      <td>NaN</td>\n",
       "      <td>0.01</td>\n",
       "    </tr>\n",
       "  </tbody>\n",
       "</table>\n",
       "<p>16715 rows × 12 columns</p>\n",
       "</div>"
      ],
      "text/plain": [
       "                                name platform  year_of_release         genre  \\\n",
       "0                         Wii Sports      Wii             2006        Sports   \n",
       "1                  Super Mario Bros.      NES             1985      Platform   \n",
       "2                     Mario Kart Wii      Wii             2008        Racing   \n",
       "3                  Wii Sports Resort      Wii             2009        Sports   \n",
       "4           Pokemon Red/Pokemon Blue       GB             1996  Role-Playing   \n",
       "...                              ...      ...              ...           ...   \n",
       "16710  Samurai Warriors: Sanada Maru      PS3             2016        Action   \n",
       "16711               LMA Manager 2007     X360             2006        Sports   \n",
       "16712        Haitaka no Psychedelica      PSV             2016     Adventure   \n",
       "16713               Spirits & Spells      GBA             2003      Platform   \n",
       "16714            Winning Post 8 2016      PSV             2016    Simulation   \n",
       "\n",
       "       na_sales  eu_sales  jp_sales  other_sales  critic_score  user_score  \\\n",
       "0         41.36     28.96      3.77         8.45          76.0         8.0   \n",
       "1         29.08      3.58      6.81         0.77           NaN         NaN   \n",
       "2         15.68     12.76      3.79         3.29          82.0         8.3   \n",
       "3         15.61     10.93      3.28         2.95          80.0         8.0   \n",
       "4         11.27      8.89     10.22         1.00           NaN         NaN   \n",
       "...         ...       ...       ...          ...           ...         ...   \n",
       "16710      0.00      0.00      0.01         0.00           NaN         NaN   \n",
       "16711      0.00      0.01      0.00         0.00           NaN         NaN   \n",
       "16712      0.00      0.00      0.01         0.00           NaN         NaN   \n",
       "16713      0.01      0.00      0.00         0.00           NaN         NaN   \n",
       "16714      0.00      0.00      0.01         0.00           NaN         NaN   \n",
       "\n",
       "      rating  sales_sum  \n",
       "0          E      82.54  \n",
       "1        NaN      40.24  \n",
       "2          E      35.52  \n",
       "3          E      32.77  \n",
       "4        NaN      31.38  \n",
       "...      ...        ...  \n",
       "16710    NaN       0.01  \n",
       "16711    NaN       0.01  \n",
       "16712    NaN       0.01  \n",
       "16713    NaN       0.01  \n",
       "16714    NaN       0.01  \n",
       "\n",
       "[16715 rows x 12 columns]"
      ]
     },
     "metadata": {},
     "output_type": "display_data"
    }
   ],
   "source": [
    "display(data)"
   ]
  },
  {
   "cell_type": "markdown",
   "metadata": {},
   "source": [
    "Вывод:\n",
    "Исправили название столбцов, проверили на пропуски в данных, заменили пропуски там где посчитали нужным, добавили стобцев с суммой продаж"
   ]
  },
  {
   "cell_type": "markdown",
   "metadata": {},
   "source": [
    "# 3 исследовательский анализ данных"
   ]
  },
  {
   "cell_type": "markdown",
   "metadata": {},
   "source": [
    "# 3.1"
   ]
  },
  {
   "cell_type": "code",
   "execution_count": 19,
   "metadata": {},
   "outputs": [],
   "source": [
    "data_year_of_release = data.pivot_table(index=['year_of_release'], values=['name'], aggfunc='count')"
   ]
  },
  {
   "cell_type": "code",
   "execution_count": 20,
   "metadata": {},
   "outputs": [
    {
     "data": {
      "text/plain": [
       "Text(0, 0.5, 'Количество выпущенных игр')"
      ]
     },
     "execution_count": 20,
     "metadata": {},
     "output_type": "execute_result"
    },
    {
     "data": {
      "image/png": "[encoded data removed]",
      "text/plain": [
       "<Figure size 432x288 with 1 Axes>"
      ]
     },
     "metadata": {
      "needs_background": "light"
     },
     "output_type": "display_data"
    }
   ],
   "source": [
    "data_year_of_release.plot()\n",
    "plt.title(\"Количество игр по годам\")\n",
    "plt.xlabel(\"Год выпуска\")\n",
    "plt.ylabel(\"Количество выпущенных игр\")"
   ]
  },
  {
   "cell_type": "markdown",
   "metadata": {},
   "source": [
    "Из графика видно, что с начала 90-х годов количество игр начинает ежегодно расти быстрыми темпоми.Постепенно набирали популярность игровые приставки, такие как Nintendo, Playstation, позже XBOX. Данный рост продолжается до 2008 года."
   ]
  },
  {
   "cell_type": "markdown",
   "metadata": {},
   "source": [
    "Сколько игр выпускалось в разные годы"
   ]
  },
  {
   "cell_type": "code",
   "execution_count": 21,
   "metadata": {
    "scrolled": true
   },
   "outputs": [],
   "source": [
    "data_platform = data.pivot_table(index=['platform'], values=['sales_sum'], aggfunc='sum')"
   ]
  },
  {
   "cell_type": "code",
   "execution_count": 22,
   "metadata": {},
   "outputs": [
    {
     "data": {
      "text/html": [
       "<div>\n",
       "<style scoped>\n",
       "    .dataframe tbody tr th:only-of-type {\n",
       "        vertical-align: middle;\n",
       "    }\n",
       "\n",
       "    .dataframe tbody tr th {\n",
       "        vertical-align: top;\n",
       "    }\n",
       "\n",
       "    .dataframe thead th {\n",
       "        text-align: right;\n",
       "    }\n",
       "</style>\n",
       "<table border=\"1\" class=\"dataframe\">\n",
       "  <thead>\n",
       "    <tr style=\"text-align: right;\">\n",
       "      <th></th>\n",
       "      <th>sales_sum</th>\n",
       "    </tr>\n",
       "    <tr>\n",
       "      <th>platform</th>\n",
       "      <th></th>\n",
       "    </tr>\n",
       "  </thead>\n",
       "  <tbody>\n",
       "    <tr>\n",
       "      <th>PS2</th>\n",
       "      <td>1255.77</td>\n",
       "    </tr>\n",
       "    <tr>\n",
       "      <th>X360</th>\n",
       "      <td>971.42</td>\n",
       "    </tr>\n",
       "    <tr>\n",
       "      <th>PS3</th>\n",
       "      <td>939.65</td>\n",
       "    </tr>\n",
       "    <tr>\n",
       "      <th>Wii</th>\n",
       "      <td>907.51</td>\n",
       "    </tr>\n",
       "    <tr>\n",
       "      <th>DS</th>\n",
       "      <td>806.12</td>\n",
       "    </tr>\n",
       "    <tr>\n",
       "      <th>PS</th>\n",
       "      <td>730.86</td>\n",
       "    </tr>\n",
       "    <tr>\n",
       "      <th>GBA</th>\n",
       "      <td>317.85</td>\n",
       "    </tr>\n",
       "    <tr>\n",
       "      <th>PS4</th>\n",
       "      <td>314.14</td>\n",
       "    </tr>\n",
       "    <tr>\n",
       "      <th>PSP</th>\n",
       "      <td>294.05</td>\n",
       "    </tr>\n",
       "    <tr>\n",
       "      <th>PC</th>\n",
       "      <td>259.52</td>\n",
       "    </tr>\n",
       "    <tr>\n",
       "      <th>3DS</th>\n",
       "      <td>259.00</td>\n",
       "    </tr>\n",
       "    <tr>\n",
       "      <th>XB</th>\n",
       "      <td>257.74</td>\n",
       "    </tr>\n",
       "    <tr>\n",
       "      <th>GB</th>\n",
       "      <td>255.46</td>\n",
       "    </tr>\n",
       "    <tr>\n",
       "      <th>NES</th>\n",
       "      <td>251.05</td>\n",
       "    </tr>\n",
       "    <tr>\n",
       "      <th>N64</th>\n",
       "      <td>218.68</td>\n",
       "    </tr>\n",
       "    <tr>\n",
       "      <th>SNES</th>\n",
       "      <td>200.04</td>\n",
       "    </tr>\n",
       "    <tr>\n",
       "      <th>GC</th>\n",
       "      <td>198.93</td>\n",
       "    </tr>\n",
       "    <tr>\n",
       "      <th>XOne</th>\n",
       "      <td>159.32</td>\n",
       "    </tr>\n",
       "    <tr>\n",
       "      <th>2600</th>\n",
       "      <td>96.98</td>\n",
       "    </tr>\n",
       "    <tr>\n",
       "      <th>WiiU</th>\n",
       "      <td>82.19</td>\n",
       "    </tr>\n",
       "    <tr>\n",
       "      <th>PSV</th>\n",
       "      <td>54.07</td>\n",
       "    </tr>\n",
       "    <tr>\n",
       "      <th>SAT</th>\n",
       "      <td>33.59</td>\n",
       "    </tr>\n",
       "    <tr>\n",
       "      <th>GEN</th>\n",
       "      <td>30.77</td>\n",
       "    </tr>\n",
       "    <tr>\n",
       "      <th>DC</th>\n",
       "      <td>15.95</td>\n",
       "    </tr>\n",
       "    <tr>\n",
       "      <th>SCD</th>\n",
       "      <td>1.86</td>\n",
       "    </tr>\n",
       "    <tr>\n",
       "      <th>NG</th>\n",
       "      <td>1.44</td>\n",
       "    </tr>\n",
       "    <tr>\n",
       "      <th>WS</th>\n",
       "      <td>1.42</td>\n",
       "    </tr>\n",
       "    <tr>\n",
       "      <th>TG16</th>\n",
       "      <td>0.16</td>\n",
       "    </tr>\n",
       "    <tr>\n",
       "      <th>3DO</th>\n",
       "      <td>0.10</td>\n",
       "    </tr>\n",
       "    <tr>\n",
       "      <th>GG</th>\n",
       "      <td>0.04</td>\n",
       "    </tr>\n",
       "    <tr>\n",
       "      <th>PCFX</th>\n",
       "      <td>0.03</td>\n",
       "    </tr>\n",
       "  </tbody>\n",
       "</table>\n",
       "</div>"
      ],
      "text/plain": [
       "          sales_sum\n",
       "platform           \n",
       "PS2         1255.77\n",
       "X360         971.42\n",
       "PS3          939.65\n",
       "Wii          907.51\n",
       "DS           806.12\n",
       "PS           730.86\n",
       "GBA          317.85\n",
       "PS4          314.14\n",
       "PSP          294.05\n",
       "PC           259.52\n",
       "3DS          259.00\n",
       "XB           257.74\n",
       "GB           255.46\n",
       "NES          251.05\n",
       "N64          218.68\n",
       "SNES         200.04\n",
       "GC           198.93\n",
       "XOne         159.32\n",
       "2600          96.98\n",
       "WiiU          82.19\n",
       "PSV           54.07\n",
       "SAT           33.59\n",
       "GEN           30.77\n",
       "DC            15.95\n",
       "SCD            1.86\n",
       "NG             1.44\n",
       "WS             1.42\n",
       "TG16           0.16\n",
       "3DO            0.10\n",
       "GG             0.04\n",
       "PCFX           0.03"
      ]
     },
     "execution_count": 22,
     "metadata": {},
     "output_type": "execute_result"
    }
   ],
   "source": [
    "data_platform.sort_values(by='sales_sum',ascending=False)"
   ]
  },
  {
   "cell_type": "markdown",
   "metadata": {},
   "source": [
    "Отсортировали самые прибыльные игры за все время"
   ]
  },
  {
   "cell_type": "markdown",
   "metadata": {},
   "source": [
    "# 3.2"
   ]
  },
  {
   "cell_type": "code",
   "execution_count": 23,
   "metadata": {},
   "outputs": [],
   "source": [
    "data_platform_top_5 = data_platform.sort_values(by='sales_sum',ascending=False).head(5)"
   ]
  },
  {
   "cell_type": "code",
   "execution_count": 24,
   "metadata": {},
   "outputs": [
    {
     "data": {
      "text/plain": [
       "['PS2', 'X360', 'PS3', 'Wii', 'DS']"
      ]
     },
     "execution_count": 24,
     "metadata": {},
     "output_type": "execute_result"
    }
   ],
   "source": [
    "data_platform_top_5 = list(data_platform_top_5.index[0:5])\n",
    "data_platform_top_5"
   ]
  },
  {
   "cell_type": "code",
   "execution_count": 25,
   "metadata": {},
   "outputs": [
    {
     "data": {
      "image/png": "[encoded data removed]",
      "text/plain": [
       "<Figure size 936x288 with 1 Axes>"
      ]
     },
     "metadata": {
      "needs_background": "light"
     },
     "output_type": "display_data"
    },
    {
     "data": {
      "image/png": "[encoded data removed]",
      "text/plain": [
       "<Figure size 936x288 with 1 Axes>"
      ]
     },
     "metadata": {
      "needs_background": "light"
     },
     "output_type": "display_data"
    },
    {
     "data": {
      "image/png": "[encoded data removed]",
      "text/plain": [
       "<Figure size 936x288 with 1 Axes>"
      ]
     },
     "metadata": {
      "needs_background": "light"
     },
     "output_type": "display_data"
    },
    {
     "data": {
      "image/png": "[encoded data removed]",
      "text/plain": [
       "<Figure size 936x288 with 1 Axes>"
      ]
     },
     "metadata": {
      "needs_background": "light"
     },
     "output_type": "display_data"
    },
    {
     "data": {
      "image/png": "[encoded data removed]",
      "text/plain": [
       "<Figure size 936x288 with 1 Axes>"
      ]
     },
     "metadata": {
      "needs_background": "light"
     },
     "output_type": "display_data"
    }
   ],
   "source": [
    "for platform in data_platform_top_5:\n",
    "    data[data['platform'] == platform].pivot_table(index='year_of_release', values='sales_sum', aggfunc='sum').plot(\n",
    "        kind='bar', figsize=(13,4))\n",
    "    plt.title(platform)"
   ]
  },
  {
   "cell_type": "markdown",
   "metadata": {},
   "source": [
    "Средний уровень жизни платформ состовляет около 8 лет, можно понять по графикам когда выходит более новая или более доступная модель. "
   ]
  },
  {
   "cell_type": "code",
   "execution_count": 26,
   "metadata": {},
   "outputs": [
    {
     "data": {
      "text/html": [
       "<div>\n",
       "<style scoped>\n",
       "    .dataframe tbody tr th:only-of-type {\n",
       "        vertical-align: middle;\n",
       "    }\n",
       "\n",
       "    .dataframe tbody tr th {\n",
       "        vertical-align: top;\n",
       "    }\n",
       "\n",
       "    .dataframe thead th {\n",
       "        text-align: right;\n",
       "    }\n",
       "</style>\n",
       "<table border=\"1\" class=\"dataframe\">\n",
       "  <thead>\n",
       "    <tr style=\"text-align: right;\">\n",
       "      <th></th>\n",
       "      <th>name</th>\n",
       "      <th>platform</th>\n",
       "      <th>year_of_release</th>\n",
       "      <th>genre</th>\n",
       "      <th>na_sales</th>\n",
       "      <th>eu_sales</th>\n",
       "      <th>jp_sales</th>\n",
       "      <th>other_sales</th>\n",
       "      <th>critic_score</th>\n",
       "      <th>user_score</th>\n",
       "      <th>rating</th>\n",
       "      <th>sales_sum</th>\n",
       "    </tr>\n",
       "  </thead>\n",
       "  <tbody>\n",
       "    <tr>\n",
       "      <th>16</th>\n",
       "      <td>Grand Theft Auto V</td>\n",
       "      <td>PS3</td>\n",
       "      <td>2013</td>\n",
       "      <td>Action</td>\n",
       "      <td>7.02</td>\n",
       "      <td>9.09</td>\n",
       "      <td>0.98</td>\n",
       "      <td>3.96</td>\n",
       "      <td>97.0</td>\n",
       "      <td>8.2</td>\n",
       "      <td>M</td>\n",
       "      <td>21.05</td>\n",
       "    </tr>\n",
       "    <tr>\n",
       "      <th>23</th>\n",
       "      <td>Grand Theft Auto V</td>\n",
       "      <td>X360</td>\n",
       "      <td>2013</td>\n",
       "      <td>Action</td>\n",
       "      <td>9.66</td>\n",
       "      <td>5.14</td>\n",
       "      <td>0.06</td>\n",
       "      <td>1.41</td>\n",
       "      <td>97.0</td>\n",
       "      <td>8.1</td>\n",
       "      <td>M</td>\n",
       "      <td>16.27</td>\n",
       "    </tr>\n",
       "    <tr>\n",
       "      <th>31</th>\n",
       "      <td>Call of Duty: Black Ops 3</td>\n",
       "      <td>PS4</td>\n",
       "      <td>2015</td>\n",
       "      <td>Shooter</td>\n",
       "      <td>6.03</td>\n",
       "      <td>5.86</td>\n",
       "      <td>0.36</td>\n",
       "      <td>2.38</td>\n",
       "      <td>NaN</td>\n",
       "      <td>NaN</td>\n",
       "      <td>NaN</td>\n",
       "      <td>14.63</td>\n",
       "    </tr>\n",
       "    <tr>\n",
       "      <th>33</th>\n",
       "      <td>Pokemon X/Pokemon Y</td>\n",
       "      <td>3DS</td>\n",
       "      <td>2013</td>\n",
       "      <td>Role-Playing</td>\n",
       "      <td>5.28</td>\n",
       "      <td>4.19</td>\n",
       "      <td>4.35</td>\n",
       "      <td>0.78</td>\n",
       "      <td>NaN</td>\n",
       "      <td>NaN</td>\n",
       "      <td>NaN</td>\n",
       "      <td>14.60</td>\n",
       "    </tr>\n",
       "    <tr>\n",
       "      <th>42</th>\n",
       "      <td>Grand Theft Auto V</td>\n",
       "      <td>PS4</td>\n",
       "      <td>2014</td>\n",
       "      <td>Action</td>\n",
       "      <td>3.96</td>\n",
       "      <td>6.31</td>\n",
       "      <td>0.38</td>\n",
       "      <td>1.97</td>\n",
       "      <td>97.0</td>\n",
       "      <td>8.3</td>\n",
       "      <td>M</td>\n",
       "      <td>12.62</td>\n",
       "    </tr>\n",
       "    <tr>\n",
       "      <th>...</th>\n",
       "      <td>...</td>\n",
       "      <td>...</td>\n",
       "      <td>...</td>\n",
       "      <td>...</td>\n",
       "      <td>...</td>\n",
       "      <td>...</td>\n",
       "      <td>...</td>\n",
       "      <td>...</td>\n",
       "      <td>...</td>\n",
       "      <td>...</td>\n",
       "      <td>...</td>\n",
       "      <td>...</td>\n",
       "    </tr>\n",
       "    <tr>\n",
       "      <th>16703</th>\n",
       "      <td>Strawberry Nauts</td>\n",
       "      <td>PSV</td>\n",
       "      <td>2016</td>\n",
       "      <td>Adventure</td>\n",
       "      <td>0.00</td>\n",
       "      <td>0.00</td>\n",
       "      <td>0.01</td>\n",
       "      <td>0.00</td>\n",
       "      <td>NaN</td>\n",
       "      <td>NaN</td>\n",
       "      <td>NaN</td>\n",
       "      <td>0.01</td>\n",
       "    </tr>\n",
       "    <tr>\n",
       "      <th>16707</th>\n",
       "      <td>Aiyoku no Eustia</td>\n",
       "      <td>PSV</td>\n",
       "      <td>2014</td>\n",
       "      <td>Misc</td>\n",
       "      <td>0.00</td>\n",
       "      <td>0.00</td>\n",
       "      <td>0.01</td>\n",
       "      <td>0.00</td>\n",
       "      <td>NaN</td>\n",
       "      <td>NaN</td>\n",
       "      <td>NaN</td>\n",
       "      <td>0.01</td>\n",
       "    </tr>\n",
       "    <tr>\n",
       "      <th>16710</th>\n",
       "      <td>Samurai Warriors: Sanada Maru</td>\n",
       "      <td>PS3</td>\n",
       "      <td>2016</td>\n",
       "      <td>Action</td>\n",
       "      <td>0.00</td>\n",
       "      <td>0.00</td>\n",
       "      <td>0.01</td>\n",
       "      <td>0.00</td>\n",
       "      <td>NaN</td>\n",
       "      <td>NaN</td>\n",
       "      <td>NaN</td>\n",
       "      <td>0.01</td>\n",
       "    </tr>\n",
       "    <tr>\n",
       "      <th>16712</th>\n",
       "      <td>Haitaka no Psychedelica</td>\n",
       "      <td>PSV</td>\n",
       "      <td>2016</td>\n",
       "      <td>Adventure</td>\n",
       "      <td>0.00</td>\n",
       "      <td>0.00</td>\n",
       "      <td>0.01</td>\n",
       "      <td>0.00</td>\n",
       "      <td>NaN</td>\n",
       "      <td>NaN</td>\n",
       "      <td>NaN</td>\n",
       "      <td>0.01</td>\n",
       "    </tr>\n",
       "    <tr>\n",
       "      <th>16714</th>\n",
       "      <td>Winning Post 8 2016</td>\n",
       "      <td>PSV</td>\n",
       "      <td>2016</td>\n",
       "      <td>Simulation</td>\n",
       "      <td>0.00</td>\n",
       "      <td>0.00</td>\n",
       "      <td>0.01</td>\n",
       "      <td>0.00</td>\n",
       "      <td>NaN</td>\n",
       "      <td>NaN</td>\n",
       "      <td>NaN</td>\n",
       "      <td>0.01</td>\n",
       "    </tr>\n",
       "  </tbody>\n",
       "</table>\n",
       "<p>2233 rows × 12 columns</p>\n",
       "</div>"
      ],
      "text/plain": [
       "                                name platform  year_of_release         genre  \\\n",
       "16                Grand Theft Auto V      PS3             2013        Action   \n",
       "23                Grand Theft Auto V     X360             2013        Action   \n",
       "31         Call of Duty: Black Ops 3      PS4             2015       Shooter   \n",
       "33               Pokemon X/Pokemon Y      3DS             2013  Role-Playing   \n",
       "42                Grand Theft Auto V      PS4             2014        Action   \n",
       "...                              ...      ...              ...           ...   \n",
       "16703               Strawberry Nauts      PSV             2016     Adventure   \n",
       "16707               Aiyoku no Eustia      PSV             2014          Misc   \n",
       "16710  Samurai Warriors: Sanada Maru      PS3             2016        Action   \n",
       "16712        Haitaka no Psychedelica      PSV             2016     Adventure   \n",
       "16714            Winning Post 8 2016      PSV             2016    Simulation   \n",
       "\n",
       "       na_sales  eu_sales  jp_sales  other_sales  critic_score  user_score  \\\n",
       "16         7.02      9.09      0.98         3.96          97.0         8.2   \n",
       "23         9.66      5.14      0.06         1.41          97.0         8.1   \n",
       "31         6.03      5.86      0.36         2.38           NaN         NaN   \n",
       "33         5.28      4.19      4.35         0.78           NaN         NaN   \n",
       "42         3.96      6.31      0.38         1.97          97.0         8.3   \n",
       "...         ...       ...       ...          ...           ...         ...   \n",
       "16703      0.00      0.00      0.01         0.00           NaN         NaN   \n",
       "16707      0.00      0.00      0.01         0.00           NaN         NaN   \n",
       "16710      0.00      0.00      0.01         0.00           NaN         NaN   \n",
       "16712      0.00      0.00      0.01         0.00           NaN         NaN   \n",
       "16714      0.00      0.00      0.01         0.00           NaN         NaN   \n",
       "\n",
       "      rating  sales_sum  \n",
       "16         M      21.05  \n",
       "23         M      16.27  \n",
       "31       NaN      14.63  \n",
       "33       NaN      14.60  \n",
       "42         M      12.62  \n",
       "...      ...        ...  \n",
       "16703    NaN       0.01  \n",
       "16707    NaN       0.01  \n",
       "16710    NaN       0.01  \n",
       "16712    NaN       0.01  \n",
       "16714    NaN       0.01  \n",
       "\n",
       "[2233 rows x 12 columns]"
      ]
     },
     "execution_count": 26,
     "metadata": {},
     "output_type": "execute_result"
    }
   ],
   "source": [
    "data_2012 = data[data['year_of_release'] > 2012]\n",
    "data_2012"
   ]
  },
  {
   "cell_type": "markdown",
   "metadata": {},
   "source": [
    "Выбран период с 2012 года, так как большиство новых и страхы моделей сходились именно в этот промежуток врмени\n",
    "Старые модели платформ теряли интерес , и в это время новые модели как раз становились новыми лидерами продаж"
   ]
  },
  {
   "cell_type": "markdown",
   "metadata": {},
   "source": [
    "# 3.3"
   ]
  },
  {
   "cell_type": "code",
   "execution_count": 27,
   "metadata": {},
   "outputs": [],
   "source": [
    "list_2012 = data_2012['platform'].unique()"
   ]
  },
  {
   "cell_type": "code",
   "execution_count": 28,
   "metadata": {},
   "outputs": [
    {
     "data": {
      "text/html": [
       "<div>\n",
       "<style scoped>\n",
       "    .dataframe tbody tr th:only-of-type {\n",
       "        vertical-align: middle;\n",
       "    }\n",
       "\n",
       "    .dataframe tbody tr th {\n",
       "        vertical-align: top;\n",
       "    }\n",
       "\n",
       "    .dataframe thead th {\n",
       "        text-align: right;\n",
       "    }\n",
       "</style>\n",
       "<table border=\"1\" class=\"dataframe\">\n",
       "  <thead>\n",
       "    <tr style=\"text-align: right;\">\n",
       "      <th></th>\n",
       "      <th>sales_sum</th>\n",
       "    </tr>\n",
       "    <tr>\n",
       "      <th>platform</th>\n",
       "      <th></th>\n",
       "    </tr>\n",
       "  </thead>\n",
       "  <tbody>\n",
       "    <tr>\n",
       "      <th>3DS</th>\n",
       "      <td>143.25</td>\n",
       "    </tr>\n",
       "    <tr>\n",
       "      <th>DS</th>\n",
       "      <td>1.54</td>\n",
       "    </tr>\n",
       "    <tr>\n",
       "      <th>PC</th>\n",
       "      <td>39.43</td>\n",
       "    </tr>\n",
       "    <tr>\n",
       "      <th>PS3</th>\n",
       "      <td>181.43</td>\n",
       "    </tr>\n",
       "    <tr>\n",
       "      <th>PS4</th>\n",
       "      <td>314.14</td>\n",
       "    </tr>\n",
       "    <tr>\n",
       "      <th>PSP</th>\n",
       "      <td>3.50</td>\n",
       "    </tr>\n",
       "    <tr>\n",
       "      <th>PSV</th>\n",
       "      <td>32.99</td>\n",
       "    </tr>\n",
       "    <tr>\n",
       "      <th>Wii</th>\n",
       "      <td>13.66</td>\n",
       "    </tr>\n",
       "    <tr>\n",
       "      <th>WiiU</th>\n",
       "      <td>64.63</td>\n",
       "    </tr>\n",
       "    <tr>\n",
       "      <th>X360</th>\n",
       "      <td>136.80</td>\n",
       "    </tr>\n",
       "    <tr>\n",
       "      <th>XOne</th>\n",
       "      <td>159.32</td>\n",
       "    </tr>\n",
       "  </tbody>\n",
       "</table>\n",
       "</div>"
      ],
      "text/plain": [
       "          sales_sum\n",
       "platform           \n",
       "3DS          143.25\n",
       "DS             1.54\n",
       "PC            39.43\n",
       "PS3          181.43\n",
       "PS4          314.14\n",
       "PSP            3.50\n",
       "PSV           32.99\n",
       "Wii           13.66\n",
       "WiiU          64.63\n",
       "X360         136.80\n",
       "XOne         159.32"
      ]
     },
     "execution_count": 28,
     "metadata": {},
     "output_type": "execute_result"
    }
   ],
   "source": [
    "data_2012.pivot_table(index=['platform'], values=['sales_sum'], aggfunc='sum')\n"
   ]
  },
  {
   "cell_type": "code",
   "execution_count": 29,
   "metadata": {},
   "outputs": [],
   "source": [
    "list_of_top_6 = ['ps4','xone','pc','wiiu','3ds', 'psv']\n",
    "games_top_6_platforms = data_2012[data_2012['platform'].isin(['ps4','xone','pc','wiiu','3ds', 'psv'])]\n",
    "games_top_6_platforms = games_top_6_platforms[games_top_6_platforms['sales_sum']<1.4]\n"
   ]
  },
  {
   "cell_type": "code",
   "execution_count": 30,
   "metadata": {},
   "outputs": [
    {
     "data": {
      "image/png": "[encoded data removed]",
      "text/plain": [
       "<Figure size 936x288 with 1 Axes>"
      ]
     },
     "metadata": {
      "needs_background": "light"
     },
     "output_type": "display_data"
    },
    {
     "data": {
      "image/png": "[encoded data removed]",
      "text/plain": [
       "<Figure size 936x288 with 1 Axes>"
      ]
     },
     "metadata": {
      "needs_background": "light"
     },
     "output_type": "display_data"
    },
    {
     "data": {
      "image/png": "[encoded data removed]",
      "text/plain": [
       "<Figure size 936x288 with 1 Axes>"
      ]
     },
     "metadata": {
      "needs_background": "light"
     },
     "output_type": "display_data"
    },
    {
     "data": {
      "image/png": "[encoded data removed]",
      "text/plain": [
       "<Figure size 936x288 with 1 Axes>"
      ]
     },
     "metadata": {
      "needs_background": "light"
     },
     "output_type": "display_data"
    },
    {
     "data": {
      "image/png": "[encoded data removed]",
      "text/plain": [
       "<Figure size 936x288 with 1 Axes>"
      ]
     },
     "metadata": {
      "needs_background": "light"
     },
     "output_type": "display_data"
    },
    {
     "data": {
      "image/png": "[encoded data removed]",
      "text/plain": [
       "<Figure size 936x288 with 1 Axes>"
      ]
     },
     "metadata": {
      "needs_background": "light"
     },
     "output_type": "display_data"
    },
    {
     "data": {
      "image/png": "[encoded data removed]",
      "text/plain": [
       "<Figure size 936x288 with 1 Axes>"
      ]
     },
     "metadata": {
      "needs_background": "light"
     },
     "output_type": "display_data"
    },
    {
     "data": {
      "image/png": "[encoded data removed]",
      "text/plain": [
       "<Figure size 936x288 with 1 Axes>"
      ]
     },
     "metadata": {
      "needs_background": "light"
     },
     "output_type": "display_data"
    },
    {
     "data": {
      "image/png": "[encoded data removed]",
      "text/plain": [
       "<Figure size 936x288 with 1 Axes>"
      ]
     },
     "metadata": {
      "needs_background": "light"
     },
     "output_type": "display_data"
    },
    {
     "data": {
      "image/png": "[encoded data removed]",
      "text/plain": [
       "<Figure size 936x288 with 1 Axes>"
      ]
     },
     "metadata": {
      "needs_background": "light"
     },
     "output_type": "display_data"
    },
    {
     "data": {
      "image/png": "[encoded data removed]",
      "text/plain": [
       "<Figure size 936x288 with 1 Axes>"
      ]
     },
     "metadata": {
      "needs_background": "light"
     },
     "output_type": "display_data"
    }
   ],
   "source": [
    "for platform in list_2012:\n",
    "    data_2012[data_2012['platform'] == platform].pivot_table(index='year_of_release', values='sales_sum', aggfunc='sum').plot(\n",
    "        kind='bar', figsize=(13,4))\n",
    "    plt.title(platform)"
   ]
  },
  {
   "cell_type": "markdown",
   "metadata": {},
   "source": [
    "По этим графикам можно сделать вывод, что в 2017 году все еще будут акутульаны следующие модели: PS4 придет на смену ps3, 3DS,XOne придет на смену X360, WiiU,PC,PSV. Все эти модели вышли не так давно и тока будут набирать свою аудиторию в игровом мире "
   ]
  },
  {
   "cell_type": "markdown",
   "metadata": {},
   "source": [
    "# 3.4"
   ]
  },
  {
   "cell_type": "code",
   "execution_count": 31,
   "metadata": {},
   "outputs": [
    {
     "data": {
      "text/html": [
       "<div>\n",
       "<style scoped>\n",
       "    .dataframe tbody tr th:only-of-type {\n",
       "        vertical-align: middle;\n",
       "    }\n",
       "\n",
       "    .dataframe tbody tr th {\n",
       "        vertical-align: top;\n",
       "    }\n",
       "\n",
       "    .dataframe thead th {\n",
       "        text-align: right;\n",
       "    }\n",
       "</style>\n",
       "<table border=\"1\" class=\"dataframe\">\n",
       "  <thead>\n",
       "    <tr style=\"text-align: right;\">\n",
       "      <th></th>\n",
       "      <th>sales_sum</th>\n",
       "    </tr>\n",
       "    <tr>\n",
       "      <th>platform</th>\n",
       "      <th></th>\n",
       "    </tr>\n",
       "  </thead>\n",
       "  <tbody>\n",
       "    <tr>\n",
       "      <th>PS4</th>\n",
       "      <td>314.14</td>\n",
       "    </tr>\n",
       "    <tr>\n",
       "      <th>PS3</th>\n",
       "      <td>181.43</td>\n",
       "    </tr>\n",
       "    <tr>\n",
       "      <th>XOne</th>\n",
       "      <td>159.32</td>\n",
       "    </tr>\n",
       "    <tr>\n",
       "      <th>3DS</th>\n",
       "      <td>143.25</td>\n",
       "    </tr>\n",
       "    <tr>\n",
       "      <th>X360</th>\n",
       "      <td>136.80</td>\n",
       "    </tr>\n",
       "    <tr>\n",
       "      <th>WiiU</th>\n",
       "      <td>64.63</td>\n",
       "    </tr>\n",
       "    <tr>\n",
       "      <th>PC</th>\n",
       "      <td>39.43</td>\n",
       "    </tr>\n",
       "    <tr>\n",
       "      <th>PSV</th>\n",
       "      <td>32.99</td>\n",
       "    </tr>\n",
       "    <tr>\n",
       "      <th>Wii</th>\n",
       "      <td>13.66</td>\n",
       "    </tr>\n",
       "    <tr>\n",
       "      <th>PSP</th>\n",
       "      <td>3.50</td>\n",
       "    </tr>\n",
       "    <tr>\n",
       "      <th>DS</th>\n",
       "      <td>1.54</td>\n",
       "    </tr>\n",
       "  </tbody>\n",
       "</table>\n",
       "</div>"
      ],
      "text/plain": [
       "          sales_sum\n",
       "platform           \n",
       "PS4          314.14\n",
       "PS3          181.43\n",
       "XOne         159.32\n",
       "3DS          143.25\n",
       "X360         136.80\n",
       "WiiU          64.63\n",
       "PC            39.43\n",
       "PSV           32.99\n",
       "Wii           13.66\n",
       "PSP            3.50\n",
       "DS             1.54"
      ]
     },
     "execution_count": 31,
     "metadata": {},
     "output_type": "execute_result"
    }
   ],
   "source": [
    "data_2012.pivot_table(index='platform',values='sales_sum',aggfunc='sum').sort_values(by='sales_sum',ascending=False)\n"
   ]
  },
  {
   "cell_type": "code",
   "execution_count": 32,
   "metadata": {},
   "outputs": [
    {
     "data": {
      "image/png": "[encoded data removed]",
      "text/plain": [
       "<Figure size 1152x720 with 1 Axes>"
      ]
     },
     "metadata": {
      "needs_background": "light"
     },
     "output_type": "display_data"
    }
   ],
   "source": [
    "data_2012.boxplot(column=['sales_sum'],by=['platform'],figsize=(16, 10))\n",
    "plt.ylim([0, 2])\n",
    "plt.show()"
   ]
  },
  {
   "cell_type": "code",
   "execution_count": 33,
   "metadata": {},
   "outputs": [],
   "source": [
    "data2 = data_2012.loc[data_2012['platform'].isin(['PS4','XOne','PC','WiiU','3DS', 'PSV'])]"
   ]
  },
  {
   "cell_type": "code",
   "execution_count": 34,
   "metadata": {},
   "outputs": [
    {
     "data": {
      "image/png": "[encoded data removed]",
      "text/plain": [
       "<Figure size 1152x720 with 1 Axes>"
      ]
     },
     "metadata": {
      "needs_background": "light"
     },
     "output_type": "display_data"
    }
   ],
   "source": [
    "data2.boxplot(column=['sales_sum'],by=['platform'],figsize=(16, 10))\n",
    "plt.ylim([0, 2])\n",
    "plt.show()"
   ]
  },
  {
   "cell_type": "markdown",
   "metadata": {},
   "source": [
    "Исходя из графиков видно, что медиана протекает у всех по разному.\n",
    "Самая низкая медиана из топ 6 у PSV,у PC и 3DS находятся относительно на одном уровне. Выделяются PS4,WiiU и XOne!"
   ]
  },
  {
   "cell_type": "markdown",
   "metadata": {},
   "source": [
    "# 3.5"
   ]
  },
  {
   "cell_type": "markdown",
   "metadata": {},
   "source": [
    "как влияют на продажи внутри одной популярной платформы отзывы пользователей и критиков. "
   ]
  },
  {
   "cell_type": "code",
   "execution_count": 35,
   "metadata": {},
   "outputs": [],
   "source": [
    "data_ps4 = data.query('platform == \"PS4\"')"
   ]
  },
  {
   "cell_type": "code",
   "execution_count": 36,
   "metadata": {},
   "outputs": [],
   "source": [
    "data_x1 = data.query('platform == \"XOne\"')"
   ]
  },
  {
   "cell_type": "code",
   "execution_count": 37,
   "metadata": {},
   "outputs": [
    {
     "data": {
      "text/plain": [
       "<AxesSubplot:xlabel='user_score', ylabel='sales_sum'>"
      ]
     },
     "execution_count": 37,
     "metadata": {},
     "output_type": "execute_result"
    },
    {
     "data": {
      "image/png": "[encoded data removed]",
      "text/plain": [
       "<Figure size 432x288 with 1 Axes>"
      ]
     },
     "metadata": {
      "needs_background": "light"
     },
     "output_type": "display_data"
    }
   ],
   "source": [
    "data_ps4.plot(x='user_score',y='sales_sum',kind='scatter')"
   ]
  },
  {
   "cell_type": "code",
   "execution_count": 38,
   "metadata": {},
   "outputs": [
    {
     "data": {
      "text/plain": [
       "<AxesSubplot:xlabel='user_score', ylabel='sales_sum'>"
      ]
     },
     "execution_count": 38,
     "metadata": {},
     "output_type": "execute_result"
    },
    {
     "data": {
      "image/png": "[encoded data removed]",
      "text/plain": [
       "<Figure size 432x288 with 1 Axes>"
      ]
     },
     "metadata": {
      "needs_background": "light"
     },
     "output_type": "display_data"
    }
   ],
   "source": [
    "data_x1.plot(x='user_score',y='sales_sum',kind='scatter')"
   ]
  },
  {
   "cell_type": "code",
   "execution_count": 39,
   "metadata": {},
   "outputs": [
    {
     "data": {
      "text/plain": [
       "-0.03195711020455639"
      ]
     },
     "execution_count": 39,
     "metadata": {},
     "output_type": "execute_result"
    }
   ],
   "source": [
    "data_ps4['user_score'].corr(data_ps4['sales_sum'])"
   ]
  },
  {
   "cell_type": "code",
   "execution_count": 40,
   "metadata": {},
   "outputs": [
    {
     "data": {
      "text/plain": [
       "-0.06892505328279414"
      ]
     },
     "execution_count": 40,
     "metadata": {},
     "output_type": "execute_result"
    }
   ],
   "source": [
    "data_x1['user_score'].corr(data_x1['sales_sum'])"
   ]
  },
  {
   "cell_type": "code",
   "execution_count": 41,
   "metadata": {},
   "outputs": [
    {
     "data": {
      "text/plain": [
       "<AxesSubplot:xlabel='critic_score', ylabel='sales_sum'>"
      ]
     },
     "execution_count": 41,
     "metadata": {},
     "output_type": "execute_result"
    },
    {
     "data": {
      "image/png": "[encoded data removed]",
      "text/plain": [
       "<Figure size 432x288 with 1 Axes>"
      ]
     },
     "metadata": {
      "needs_background": "light"
     },
     "output_type": "display_data"
    }
   ],
   "source": [
    "data_ps4.plot(x='critic_score',y='sales_sum',kind='scatter')"
   ]
  },
  {
   "cell_type": "code",
   "execution_count": 42,
   "metadata": {},
   "outputs": [
    {
     "data": {
      "text/plain": [
       "<AxesSubplot:xlabel='critic_score', ylabel='sales_sum'>"
      ]
     },
     "execution_count": 42,
     "metadata": {},
     "output_type": "execute_result"
    },
    {
     "data": {
      "image/png": "[encoded data removed]",
      "text/plain": [
       "<Figure size 432x288 with 1 Axes>"
      ]
     },
     "metadata": {
      "needs_background": "light"
     },
     "output_type": "display_data"
    }
   ],
   "source": [
    "data_x1.plot(x='critic_score',y='sales_sum',kind='scatter')"
   ]
  },
  {
   "cell_type": "code",
   "execution_count": 43,
   "metadata": {},
   "outputs": [
    {
     "data": {
      "text/plain": [
       "0.40656790206178095"
      ]
     },
     "execution_count": 43,
     "metadata": {},
     "output_type": "execute_result"
    }
   ],
   "source": [
    "data_ps4['critic_score'].corr(data_ps4['sales_sum'])"
   ]
  },
  {
   "cell_type": "code",
   "execution_count": 44,
   "metadata": {},
   "outputs": [
    {
     "data": {
      "text/plain": [
       "0.41699832800840186"
      ]
     },
     "execution_count": 44,
     "metadata": {},
     "output_type": "execute_result"
    }
   ],
   "source": [
    "data_x1['critic_score'].corr(data_x1['sales_sum'])"
   ]
  },
  {
   "cell_type": "markdown",
   "metadata": {},
   "source": [
    "вывод: оценки пользователей не влияют на продажи игр, а вот оценки критиков чуть улучшают ситуацию, но о прямой зависимости говорить нельзя."
   ]
  },
  {
   "cell_type": "code",
   "execution_count": 45,
   "metadata": {},
   "outputs": [
    {
     "data": {
      "text/plain": [
       "<AxesSubplot:xlabel='user_score', ylabel='critic_score'>"
      ]
     },
     "execution_count": 45,
     "metadata": {},
     "output_type": "execute_result"
    },
    {
     "data": {
      "image/png": "[encoded data removed]",
      "text/plain": [
       "<Figure size 432x288 with 1 Axes>"
      ]
     },
     "metadata": {
      "needs_background": "light"
     },
     "output_type": "display_data"
    }
   ],
   "source": [
    "data_ps4.plot(x='user_score',y='critic_score',kind='scatter')"
   ]
  },
  {
   "cell_type": "code",
   "execution_count": 46,
   "metadata": {},
   "outputs": [
    {
     "data": {
      "text/plain": [
       "<AxesSubplot:xlabel='user_score', ylabel='critic_score'>"
      ]
     },
     "execution_count": 46,
     "metadata": {},
     "output_type": "execute_result"
    },
    {
     "data": {
      "image/png": "[encoded data removed]",
      "text/plain": [
       "<Figure size 432x288 with 1 Axes>"
      ]
     },
     "metadata": {
      "needs_background": "light"
     },
     "output_type": "display_data"
    }
   ],
   "source": [
    "data_x1.plot(x='user_score',y='critic_score',kind='scatter')"
   ]
  },
  {
   "cell_type": "code",
   "execution_count": 47,
   "metadata": {},
   "outputs": [
    {
     "data": {
      "text/plain": [
       "0.5576539782764632"
      ]
     },
     "execution_count": 47,
     "metadata": {},
     "output_type": "execute_result"
    }
   ],
   "source": [
    "data_ps4['user_score'].corr(data_ps4['critic_score'])"
   ]
  },
  {
   "cell_type": "code",
   "execution_count": 48,
   "metadata": {},
   "outputs": [
    {
     "data": {
      "text/plain": [
       "0.4724621124165802"
      ]
     },
     "execution_count": 48,
     "metadata": {},
     "output_type": "execute_result"
    }
   ],
   "source": [
    "data_x1['user_score'].corr(data_x1['critic_score'])"
   ]
  },
  {
   "cell_type": "markdown",
   "metadata": {},
   "source": [
    "Мы посторили диаграмму рассеивания и почитали корреляцию, можно сказать что зависимость не такая большая, но все равно прослеживается. Чаще всего оценка критиков совпадает с оценкой пользователей. "
   ]
  },
  {
   "cell_type": "code",
   "execution_count": 49,
   "metadata": {},
   "outputs": [
    {
     "data": {
      "text/plain": [
       "Action          3369\n",
       "Sports          2348\n",
       "Misc            1750\n",
       "Role-Playing    1498\n",
       "Shooter         1323\n",
       "Adventure       1303\n",
       "Racing          1249\n",
       "Platform         888\n",
       "Simulation       873\n",
       "Fighting         849\n",
       "Strategy         683\n",
       "Puzzle           580\n",
       "Name: genre, dtype: int64"
      ]
     },
     "execution_count": 49,
     "metadata": {},
     "output_type": "execute_result"
    }
   ],
   "source": [
    "data['genre'].value_counts()"
   ]
  },
  {
   "cell_type": "code",
   "execution_count": 50,
   "metadata": {},
   "outputs": [
    {
     "data": {
      "text/html": [
       "<div>\n",
       "<style scoped>\n",
       "    .dataframe tbody tr th:only-of-type {\n",
       "        vertical-align: middle;\n",
       "    }\n",
       "\n",
       "    .dataframe tbody tr th {\n",
       "        vertical-align: top;\n",
       "    }\n",
       "\n",
       "    .dataframe thead th {\n",
       "        text-align: right;\n",
       "    }\n",
       "</style>\n",
       "<table border=\"1\" class=\"dataframe\">\n",
       "  <thead>\n",
       "    <tr style=\"text-align: right;\">\n",
       "      <th></th>\n",
       "      <th>sales_sum</th>\n",
       "    </tr>\n",
       "    <tr>\n",
       "      <th>genre</th>\n",
       "      <th></th>\n",
       "    </tr>\n",
       "  </thead>\n",
       "  <tbody>\n",
       "    <tr>\n",
       "      <th>Action</th>\n",
       "      <td>1744.17</td>\n",
       "    </tr>\n",
       "    <tr>\n",
       "      <th>Sports</th>\n",
       "      <td>1331.27</td>\n",
       "    </tr>\n",
       "    <tr>\n",
       "      <th>Shooter</th>\n",
       "      <td>1052.45</td>\n",
       "    </tr>\n",
       "    <tr>\n",
       "      <th>Role-Playing</th>\n",
       "      <td>934.56</td>\n",
       "    </tr>\n",
       "    <tr>\n",
       "      <th>Platform</th>\n",
       "      <td>827.77</td>\n",
       "    </tr>\n",
       "    <tr>\n",
       "      <th>Misc</th>\n",
       "      <td>802.51</td>\n",
       "    </tr>\n",
       "    <tr>\n",
       "      <th>Racing</th>\n",
       "      <td>728.67</td>\n",
       "    </tr>\n",
       "    <tr>\n",
       "      <th>Fighting</th>\n",
       "      <td>447.53</td>\n",
       "    </tr>\n",
       "    <tr>\n",
       "      <th>Simulation</th>\n",
       "      <td>389.97</td>\n",
       "    </tr>\n",
       "    <tr>\n",
       "      <th>Puzzle</th>\n",
       "      <td>242.57</td>\n",
       "    </tr>\n",
       "    <tr>\n",
       "      <th>Adventure</th>\n",
       "      <td>237.59</td>\n",
       "    </tr>\n",
       "    <tr>\n",
       "      <th>Strategy</th>\n",
       "      <td>174.23</td>\n",
       "    </tr>\n",
       "  </tbody>\n",
       "</table>\n",
       "</div>"
      ],
      "text/plain": [
       "              sales_sum\n",
       "genre                  \n",
       "Action          1744.17\n",
       "Sports          1331.27\n",
       "Shooter         1052.45\n",
       "Role-Playing     934.56\n",
       "Platform         827.77\n",
       "Misc             802.51\n",
       "Racing           728.67\n",
       "Fighting         447.53\n",
       "Simulation       389.97\n",
       "Puzzle           242.57\n",
       "Adventure        237.59\n",
       "Strategy         174.23"
      ]
     },
     "execution_count": 50,
     "metadata": {},
     "output_type": "execute_result"
    }
   ],
   "source": [
    "data.pivot_table(index='genre',values='sales_sum',aggfunc='sum').sort_values('sales_sum',ascending=False)"
   ]
  },
  {
   "cell_type": "code",
   "execution_count": 51,
   "metadata": {},
   "outputs": [
    {
     "data": {
      "image/png": "[encoded data removed]",
      "text/plain": [
       "<Figure size 1152x720 with 1 Axes>"
      ]
     },
     "metadata": {
      "needs_background": "light"
     },
     "output_type": "display_data"
    }
   ],
   "source": [
    "data.boxplot(column=['sales_sum'],by=['genre'],figsize=(16, 10))\n",
    "plt.ylim([0, 2])\n",
    "plt.show()"
   ]
  },
  {
   "cell_type": "markdown",
   "metadata": {},
   "source": [
    "Жанр Action лидирует по общей прибыли среди жанров,но медианное значение выше в жанре platform и sports. Самое маленькое медианное значение у Adventure."
   ]
  },
  {
   "cell_type": "markdown",
   "metadata": {},
   "source": [
    "Вывод по 3 шагу\n",
    "Были даны ответы на все поставленые вопросы и рассуждения подкреплены обоснованиями.\n",
    "\n",
    "Обобщенный вывод на 2017 год ожидается подъем продаж по PS4, XOne и 3DS, так как уже многие студии-разработчики нашли применения своих техологий на этих платформах и хотят попасть на все рынки."
   ]
  },
  {
   "cell_type": "code",
   "execution_count": 52,
   "metadata": {},
   "outputs": [
    {
     "data": {
      "text/plain": [
       "array(['Sports', 'Platform', 'Racing', 'Role-Playing', 'Puzzle', 'Misc',\n",
       "       'Shooter', 'Simulation', 'Action', 'Fighting', 'Adventure',\n",
       "       'Strategy', nan], dtype=object)"
      ]
     },
     "execution_count": 52,
     "metadata": {},
     "output_type": "execute_result"
    }
   ],
   "source": [
    "list_genre = data['genre'].unique()\n",
    "list_genre    "
   ]
  },
  {
   "cell_type": "code",
   "execution_count": 53,
   "metadata": {},
   "outputs": [],
   "source": [
    "data_mean = []"
   ]
  },
  {
   "cell_type": "code",
   "execution_count": 54,
   "metadata": {},
   "outputs": [
    {
     "name": "stdout",
     "output_type": "stream",
     "text": [
      "Среднее значение для жанра  Sports\n",
      "0.566980408858603\n",
      "Среднее значение для жанра  Platform\n",
      "0.9321734234234234\n",
      "Среднее значение для жанра  Racing\n",
      "0.583402722177742\n",
      "Среднее значение для жанра  Role-Playing\n",
      "0.623871829105474\n",
      "Среднее значение для жанра  Puzzle\n",
      "0.4182241379310345\n",
      "Среднее значение для жанра  Misc\n",
      "0.45857714285714285\n",
      "Среднее значение для жанра  Shooter\n",
      "0.7955026455026455\n",
      "Среднее значение для жанра  Simulation\n",
      "0.4467010309278351\n",
      "Среднее значение для жанра  Action\n",
      "0.5177114870881567\n",
      "Среднее значение для жанра  Fighting\n",
      "0.5271260306242638\n",
      "Среднее значение для жанра  Adventure\n",
      "0.1823407521105142\n",
      "Среднее значение для жанра  Strategy\n",
      "0.255095168374817\n",
      "Среднее значение для жанра  nan\n",
      "nan\n"
     ]
    }
   ],
   "source": [
    "\n",
    "for genre in list_genre:\n",
    "    print('Среднее значение для жанра ', genre)\n",
    "    mean = data[data['genre'] == genre]['sales_sum'].mean()\n",
    "    print(mean)\n",
    "    \n",
    "    "
   ]
  },
  {
   "cell_type": "code",
   "execution_count": 55,
   "metadata": {},
   "outputs": [
    {
     "name": "stdout",
     "output_type": "stream",
     "text": [
      "Медианное значение для жанра  Sports\n",
      "0.22000000000000003\n",
      "Медианное значение для жанра  Platform\n",
      "0.27\n",
      "Медианное значение для жанра  Racing\n",
      "0.19\n",
      "Медианное значение для жанра  Role-Playing\n",
      "0.18\n",
      "Медианное значение для жанра  Puzzle\n",
      "0.10999999999999999\n",
      "Медианное значение для жанра  Misc\n",
      "0.16\n",
      "Медианное значение для жанра  Shooter\n",
      "0.24\n",
      "Медианное значение для жанра  Simulation\n",
      "0.15000000000000002\n",
      "Медианное значение для жанра  Action\n",
      "0.19\n",
      "Медианное значение для жанра  Fighting\n",
      "0.21\n",
      "Медианное значение для жанра  Adventure\n",
      "0.05\n",
      "Медианное значение для жанра  Strategy\n",
      "0.09999999999999999\n",
      "Медианное значение для жанра  nan\n",
      "nan\n"
     ]
    }
   ],
   "source": [
    "for genre in list_genre:\n",
    "    print('Медианное значение для жанра ', genre)\n",
    "    mean = data[data['genre'] == genre]['sales_sum'].median()\n",
    "    print(mean)"
   ]
  },
  {
   "cell_type": "markdown",
   "metadata": {},
   "source": [
    "# 4"
   ]
  },
  {
   "cell_type": "code",
   "execution_count": 56,
   "metadata": {},
   "outputs": [
    {
     "data": {
      "text/html": [
       "<div>\n",
       "<style scoped>\n",
       "    .dataframe tbody tr th:only-of-type {\n",
       "        vertical-align: middle;\n",
       "    }\n",
       "\n",
       "    .dataframe tbody tr th {\n",
       "        vertical-align: top;\n",
       "    }\n",
       "\n",
       "    .dataframe thead th {\n",
       "        text-align: right;\n",
       "    }\n",
       "</style>\n",
       "<table border=\"1\" class=\"dataframe\">\n",
       "  <thead>\n",
       "    <tr style=\"text-align: right;\">\n",
       "      <th></th>\n",
       "      <th>name</th>\n",
       "      <th>platform</th>\n",
       "      <th>year_of_release</th>\n",
       "      <th>genre</th>\n",
       "      <th>na_sales</th>\n",
       "      <th>eu_sales</th>\n",
       "      <th>jp_sales</th>\n",
       "      <th>other_sales</th>\n",
       "      <th>critic_score</th>\n",
       "      <th>user_score</th>\n",
       "      <th>rating</th>\n",
       "      <th>sales_sum</th>\n",
       "    </tr>\n",
       "  </thead>\n",
       "  <tbody>\n",
       "    <tr>\n",
       "      <th>0</th>\n",
       "      <td>Wii Sports</td>\n",
       "      <td>Wii</td>\n",
       "      <td>2006</td>\n",
       "      <td>Sports</td>\n",
       "      <td>41.36</td>\n",
       "      <td>28.96</td>\n",
       "      <td>3.77</td>\n",
       "      <td>8.45</td>\n",
       "      <td>76.0</td>\n",
       "      <td>8.0</td>\n",
       "      <td>E</td>\n",
       "      <td>82.54</td>\n",
       "    </tr>\n",
       "    <tr>\n",
       "      <th>1</th>\n",
       "      <td>Super Mario Bros.</td>\n",
       "      <td>NES</td>\n",
       "      <td>1985</td>\n",
       "      <td>Platform</td>\n",
       "      <td>29.08</td>\n",
       "      <td>3.58</td>\n",
       "      <td>6.81</td>\n",
       "      <td>0.77</td>\n",
       "      <td>NaN</td>\n",
       "      <td>NaN</td>\n",
       "      <td>NaN</td>\n",
       "      <td>40.24</td>\n",
       "    </tr>\n",
       "    <tr>\n",
       "      <th>2</th>\n",
       "      <td>Mario Kart Wii</td>\n",
       "      <td>Wii</td>\n",
       "      <td>2008</td>\n",
       "      <td>Racing</td>\n",
       "      <td>15.68</td>\n",
       "      <td>12.76</td>\n",
       "      <td>3.79</td>\n",
       "      <td>3.29</td>\n",
       "      <td>82.0</td>\n",
       "      <td>8.3</td>\n",
       "      <td>E</td>\n",
       "      <td>35.52</td>\n",
       "    </tr>\n",
       "    <tr>\n",
       "      <th>3</th>\n",
       "      <td>Wii Sports Resort</td>\n",
       "      <td>Wii</td>\n",
       "      <td>2009</td>\n",
       "      <td>Sports</td>\n",
       "      <td>15.61</td>\n",
       "      <td>10.93</td>\n",
       "      <td>3.28</td>\n",
       "      <td>2.95</td>\n",
       "      <td>80.0</td>\n",
       "      <td>8.0</td>\n",
       "      <td>E</td>\n",
       "      <td>32.77</td>\n",
       "    </tr>\n",
       "    <tr>\n",
       "      <th>4</th>\n",
       "      <td>Pokemon Red/Pokemon Blue</td>\n",
       "      <td>GB</td>\n",
       "      <td>1996</td>\n",
       "      <td>Role-Playing</td>\n",
       "      <td>11.27</td>\n",
       "      <td>8.89</td>\n",
       "      <td>10.22</td>\n",
       "      <td>1.00</td>\n",
       "      <td>NaN</td>\n",
       "      <td>NaN</td>\n",
       "      <td>NaN</td>\n",
       "      <td>31.38</td>\n",
       "    </tr>\n",
       "    <tr>\n",
       "      <th>...</th>\n",
       "      <td>...</td>\n",
       "      <td>...</td>\n",
       "      <td>...</td>\n",
       "      <td>...</td>\n",
       "      <td>...</td>\n",
       "      <td>...</td>\n",
       "      <td>...</td>\n",
       "      <td>...</td>\n",
       "      <td>...</td>\n",
       "      <td>...</td>\n",
       "      <td>...</td>\n",
       "      <td>...</td>\n",
       "    </tr>\n",
       "    <tr>\n",
       "      <th>16710</th>\n",
       "      <td>Samurai Warriors: Sanada Maru</td>\n",
       "      <td>PS3</td>\n",
       "      <td>2016</td>\n",
       "      <td>Action</td>\n",
       "      <td>0.00</td>\n",
       "      <td>0.00</td>\n",
       "      <td>0.01</td>\n",
       "      <td>0.00</td>\n",
       "      <td>NaN</td>\n",
       "      <td>NaN</td>\n",
       "      <td>NaN</td>\n",
       "      <td>0.01</td>\n",
       "    </tr>\n",
       "    <tr>\n",
       "      <th>16711</th>\n",
       "      <td>LMA Manager 2007</td>\n",
       "      <td>X360</td>\n",
       "      <td>2006</td>\n",
       "      <td>Sports</td>\n",
       "      <td>0.00</td>\n",
       "      <td>0.01</td>\n",
       "      <td>0.00</td>\n",
       "      <td>0.00</td>\n",
       "      <td>NaN</td>\n",
       "      <td>NaN</td>\n",
       "      <td>NaN</td>\n",
       "      <td>0.01</td>\n",
       "    </tr>\n",
       "    <tr>\n",
       "      <th>16712</th>\n",
       "      <td>Haitaka no Psychedelica</td>\n",
       "      <td>PSV</td>\n",
       "      <td>2016</td>\n",
       "      <td>Adventure</td>\n",
       "      <td>0.00</td>\n",
       "      <td>0.00</td>\n",
       "      <td>0.01</td>\n",
       "      <td>0.00</td>\n",
       "      <td>NaN</td>\n",
       "      <td>NaN</td>\n",
       "      <td>NaN</td>\n",
       "      <td>0.01</td>\n",
       "    </tr>\n",
       "    <tr>\n",
       "      <th>16713</th>\n",
       "      <td>Spirits &amp; Spells</td>\n",
       "      <td>GBA</td>\n",
       "      <td>2003</td>\n",
       "      <td>Platform</td>\n",
       "      <td>0.01</td>\n",
       "      <td>0.00</td>\n",
       "      <td>0.00</td>\n",
       "      <td>0.00</td>\n",
       "      <td>NaN</td>\n",
       "      <td>NaN</td>\n",
       "      <td>NaN</td>\n",
       "      <td>0.01</td>\n",
       "    </tr>\n",
       "    <tr>\n",
       "      <th>16714</th>\n",
       "      <td>Winning Post 8 2016</td>\n",
       "      <td>PSV</td>\n",
       "      <td>2016</td>\n",
       "      <td>Simulation</td>\n",
       "      <td>0.00</td>\n",
       "      <td>0.00</td>\n",
       "      <td>0.01</td>\n",
       "      <td>0.00</td>\n",
       "      <td>NaN</td>\n",
       "      <td>NaN</td>\n",
       "      <td>NaN</td>\n",
       "      <td>0.01</td>\n",
       "    </tr>\n",
       "  </tbody>\n",
       "</table>\n",
       "<p>16715 rows × 12 columns</p>\n",
       "</div>"
      ],
      "text/plain": [
       "                                name platform  year_of_release         genre  \\\n",
       "0                         Wii Sports      Wii             2006        Sports   \n",
       "1                  Super Mario Bros.      NES             1985      Platform   \n",
       "2                     Mario Kart Wii      Wii             2008        Racing   \n",
       "3                  Wii Sports Resort      Wii             2009        Sports   \n",
       "4           Pokemon Red/Pokemon Blue       GB             1996  Role-Playing   \n",
       "...                              ...      ...              ...           ...   \n",
       "16710  Samurai Warriors: Sanada Maru      PS3             2016        Action   \n",
       "16711               LMA Manager 2007     X360             2006        Sports   \n",
       "16712        Haitaka no Psychedelica      PSV             2016     Adventure   \n",
       "16713               Spirits & Spells      GBA             2003      Platform   \n",
       "16714            Winning Post 8 2016      PSV             2016    Simulation   \n",
       "\n",
       "       na_sales  eu_sales  jp_sales  other_sales  critic_score  user_score  \\\n",
       "0         41.36     28.96      3.77         8.45          76.0         8.0   \n",
       "1         29.08      3.58      6.81         0.77           NaN         NaN   \n",
       "2         15.68     12.76      3.79         3.29          82.0         8.3   \n",
       "3         15.61     10.93      3.28         2.95          80.0         8.0   \n",
       "4         11.27      8.89     10.22         1.00           NaN         NaN   \n",
       "...         ...       ...       ...          ...           ...         ...   \n",
       "16710      0.00      0.00      0.01         0.00           NaN         NaN   \n",
       "16711      0.00      0.01      0.00         0.00           NaN         NaN   \n",
       "16712      0.00      0.00      0.01         0.00           NaN         NaN   \n",
       "16713      0.01      0.00      0.00         0.00           NaN         NaN   \n",
       "16714      0.00      0.00      0.01         0.00           NaN         NaN   \n",
       "\n",
       "      rating  sales_sum  \n",
       "0          E      82.54  \n",
       "1        NaN      40.24  \n",
       "2          E      35.52  \n",
       "3          E      32.77  \n",
       "4        NaN      31.38  \n",
       "...      ...        ...  \n",
       "16710    NaN       0.01  \n",
       "16711    NaN       0.01  \n",
       "16712    NaN       0.01  \n",
       "16713    NaN       0.01  \n",
       "16714    NaN       0.01  \n",
       "\n",
       "[16715 rows x 12 columns]"
      ]
     },
     "execution_count": 56,
     "metadata": {},
     "output_type": "execute_result"
    }
   ],
   "source": [
    "data"
   ]
  },
  {
   "cell_type": "code",
   "execution_count": 57,
   "metadata": {},
   "outputs": [
    {
     "data": {
      "text/html": [
       "<div>\n",
       "<style scoped>\n",
       "    .dataframe tbody tr th:only-of-type {\n",
       "        vertical-align: middle;\n",
       "    }\n",
       "\n",
       "    .dataframe tbody tr th {\n",
       "        vertical-align: top;\n",
       "    }\n",
       "\n",
       "    .dataframe thead th {\n",
       "        text-align: right;\n",
       "    }\n",
       "</style>\n",
       "<table border=\"1\" class=\"dataframe\">\n",
       "  <thead>\n",
       "    <tr style=\"text-align: right;\">\n",
       "      <th></th>\n",
       "      <th>na_sales</th>\n",
       "    </tr>\n",
       "    <tr>\n",
       "      <th>platform</th>\n",
       "      <th></th>\n",
       "    </tr>\n",
       "  </thead>\n",
       "  <tbody>\n",
       "    <tr>\n",
       "      <th>X360</th>\n",
       "      <td>602.47</td>\n",
       "    </tr>\n",
       "    <tr>\n",
       "      <th>PS2</th>\n",
       "      <td>583.84</td>\n",
       "    </tr>\n",
       "    <tr>\n",
       "      <th>Wii</th>\n",
       "      <td>496.90</td>\n",
       "    </tr>\n",
       "    <tr>\n",
       "      <th>PS3</th>\n",
       "      <td>393.49</td>\n",
       "    </tr>\n",
       "    <tr>\n",
       "      <th>DS</th>\n",
       "      <td>382.40</td>\n",
       "    </tr>\n",
       "  </tbody>\n",
       "</table>\n",
       "</div>"
      ],
      "text/plain": [
       "          na_sales\n",
       "platform          \n",
       "X360        602.47\n",
       "PS2         583.84\n",
       "Wii         496.90\n",
       "PS3         393.49\n",
       "DS          382.40"
      ]
     },
     "execution_count": 57,
     "metadata": {},
     "output_type": "execute_result"
    }
   ],
   "source": [
    "data.pivot_table(index='platform',values='na_sales',aggfunc='sum').sort_values('na_sales',ascending=False).head(5)"
   ]
  },
  {
   "cell_type": "code",
   "execution_count": 58,
   "metadata": {},
   "outputs": [
    {
     "data": {
      "text/html": [
       "<div>\n",
       "<style scoped>\n",
       "    .dataframe tbody tr th:only-of-type {\n",
       "        vertical-align: middle;\n",
       "    }\n",
       "\n",
       "    .dataframe tbody tr th {\n",
       "        vertical-align: top;\n",
       "    }\n",
       "\n",
       "    .dataframe thead th {\n",
       "        text-align: right;\n",
       "    }\n",
       "</style>\n",
       "<table border=\"1\" class=\"dataframe\">\n",
       "  <thead>\n",
       "    <tr style=\"text-align: right;\">\n",
       "      <th></th>\n",
       "      <th>eu_sales</th>\n",
       "    </tr>\n",
       "    <tr>\n",
       "      <th>platform</th>\n",
       "      <th></th>\n",
       "    </tr>\n",
       "  </thead>\n",
       "  <tbody>\n",
       "    <tr>\n",
       "      <th>PS2</th>\n",
       "      <td>339.29</td>\n",
       "    </tr>\n",
       "    <tr>\n",
       "      <th>PS3</th>\n",
       "      <td>330.29</td>\n",
       "    </tr>\n",
       "    <tr>\n",
       "      <th>X360</th>\n",
       "      <td>270.76</td>\n",
       "    </tr>\n",
       "    <tr>\n",
       "      <th>Wii</th>\n",
       "      <td>262.21</td>\n",
       "    </tr>\n",
       "    <tr>\n",
       "      <th>PS</th>\n",
       "      <td>213.61</td>\n",
       "    </tr>\n",
       "  </tbody>\n",
       "</table>\n",
       "</div>"
      ],
      "text/plain": [
       "          eu_sales\n",
       "platform          \n",
       "PS2         339.29\n",
       "PS3         330.29\n",
       "X360        270.76\n",
       "Wii         262.21\n",
       "PS          213.61"
      ]
     },
     "execution_count": 58,
     "metadata": {},
     "output_type": "execute_result"
    }
   ],
   "source": [
    "data.pivot_table(index='platform',values='eu_sales',aggfunc='sum').sort_values('eu_sales',ascending=False).head(5)"
   ]
  },
  {
   "cell_type": "code",
   "execution_count": 59,
   "metadata": {},
   "outputs": [
    {
     "data": {
      "text/html": [
       "<div>\n",
       "<style scoped>\n",
       "    .dataframe tbody tr th:only-of-type {\n",
       "        vertical-align: middle;\n",
       "    }\n",
       "\n",
       "    .dataframe tbody tr th {\n",
       "        vertical-align: top;\n",
       "    }\n",
       "\n",
       "    .dataframe thead th {\n",
       "        text-align: right;\n",
       "    }\n",
       "</style>\n",
       "<table border=\"1\" class=\"dataframe\">\n",
       "  <thead>\n",
       "    <tr style=\"text-align: right;\">\n",
       "      <th></th>\n",
       "      <th>jp_sales</th>\n",
       "    </tr>\n",
       "    <tr>\n",
       "      <th>platform</th>\n",
       "      <th></th>\n",
       "    </tr>\n",
       "  </thead>\n",
       "  <tbody>\n",
       "    <tr>\n",
       "      <th>DS</th>\n",
       "      <td>175.57</td>\n",
       "    </tr>\n",
       "    <tr>\n",
       "      <th>PS</th>\n",
       "      <td>139.82</td>\n",
       "    </tr>\n",
       "    <tr>\n",
       "      <th>PS2</th>\n",
       "      <td>139.20</td>\n",
       "    </tr>\n",
       "    <tr>\n",
       "      <th>SNES</th>\n",
       "      <td>116.55</td>\n",
       "    </tr>\n",
       "    <tr>\n",
       "      <th>3DS</th>\n",
       "      <td>100.67</td>\n",
       "    </tr>\n",
       "  </tbody>\n",
       "</table>\n",
       "</div>"
      ],
      "text/plain": [
       "          jp_sales\n",
       "platform          \n",
       "DS          175.57\n",
       "PS          139.82\n",
       "PS2         139.20\n",
       "SNES        116.55\n",
       "3DS         100.67"
      ]
     },
     "execution_count": 59,
     "metadata": {},
     "output_type": "execute_result"
    }
   ],
   "source": [
    "data.pivot_table(index='platform',values='jp_sales',aggfunc='sum').sort_values('jp_sales',ascending=False).head(5)"
   ]
  },
  {
   "cell_type": "markdown",
   "metadata": {},
   "source": [
    "В северной америке явно лидирует xbox и ps, можно предположиь что это связнаво с расположением компаний и влиянием определенной компании в каждом отдельном регионе. Также и в европе самыми популянрыми платформами остаются sony и microsoft. А вот в японии лидер сменяется на nintendo сос своими продуктами DS и 3DS, тоже зависит от расположении компании и взгяд на внутренний рынок, Nintendo базируется в японии. Но sony не так сильно отстает японского производителя."
   ]
  },
  {
   "cell_type": "code",
   "execution_count": 60,
   "metadata": {},
   "outputs": [
    {
     "data": {
      "text/html": [
       "<div>\n",
       "<style scoped>\n",
       "    .dataframe tbody tr th:only-of-type {\n",
       "        vertical-align: middle;\n",
       "    }\n",
       "\n",
       "    .dataframe tbody tr th {\n",
       "        vertical-align: top;\n",
       "    }\n",
       "\n",
       "    .dataframe thead th {\n",
       "        text-align: right;\n",
       "    }\n",
       "</style>\n",
       "<table border=\"1\" class=\"dataframe\">\n",
       "  <thead>\n",
       "    <tr style=\"text-align: right;\">\n",
       "      <th></th>\n",
       "      <th>na_sales</th>\n",
       "    </tr>\n",
       "    <tr>\n",
       "      <th>genre</th>\n",
       "      <th></th>\n",
       "    </tr>\n",
       "  </thead>\n",
       "  <tbody>\n",
       "    <tr>\n",
       "      <th>Action</th>\n",
       "      <td>879.01</td>\n",
       "    </tr>\n",
       "    <tr>\n",
       "      <th>Sports</th>\n",
       "      <td>684.43</td>\n",
       "    </tr>\n",
       "    <tr>\n",
       "      <th>Shooter</th>\n",
       "      <td>592.24</td>\n",
       "    </tr>\n",
       "    <tr>\n",
       "      <th>Platform</th>\n",
       "      <td>445.50</td>\n",
       "    </tr>\n",
       "    <tr>\n",
       "      <th>Misc</th>\n",
       "      <td>407.27</td>\n",
       "    </tr>\n",
       "  </tbody>\n",
       "</table>\n",
       "</div>"
      ],
      "text/plain": [
       "          na_sales\n",
       "genre             \n",
       "Action      879.01\n",
       "Sports      684.43\n",
       "Shooter     592.24\n",
       "Platform    445.50\n",
       "Misc        407.27"
      ]
     },
     "execution_count": 60,
     "metadata": {},
     "output_type": "execute_result"
    }
   ],
   "source": [
    "data.pivot_table(index='genre',values='na_sales',aggfunc='sum').sort_values('na_sales',ascending=False).head(5)"
   ]
  },
  {
   "cell_type": "code",
   "execution_count": 61,
   "metadata": {},
   "outputs": [
    {
     "data": {
      "text/html": [
       "<div>\n",
       "<style scoped>\n",
       "    .dataframe tbody tr th:only-of-type {\n",
       "        vertical-align: middle;\n",
       "    }\n",
       "\n",
       "    .dataframe tbody tr th {\n",
       "        vertical-align: top;\n",
       "    }\n",
       "\n",
       "    .dataframe thead th {\n",
       "        text-align: right;\n",
       "    }\n",
       "</style>\n",
       "<table border=\"1\" class=\"dataframe\">\n",
       "  <thead>\n",
       "    <tr style=\"text-align: right;\">\n",
       "      <th></th>\n",
       "      <th>eu_sales</th>\n",
       "    </tr>\n",
       "    <tr>\n",
       "      <th>genre</th>\n",
       "      <th></th>\n",
       "    </tr>\n",
       "  </thead>\n",
       "  <tbody>\n",
       "    <tr>\n",
       "      <th>Action</th>\n",
       "      <td>519.13</td>\n",
       "    </tr>\n",
       "    <tr>\n",
       "      <th>Sports</th>\n",
       "      <td>376.79</td>\n",
       "    </tr>\n",
       "    <tr>\n",
       "      <th>Shooter</th>\n",
       "      <td>317.34</td>\n",
       "    </tr>\n",
       "    <tr>\n",
       "      <th>Racing</th>\n",
       "      <td>236.51</td>\n",
       "    </tr>\n",
       "    <tr>\n",
       "      <th>Misc</th>\n",
       "      <td>212.74</td>\n",
       "    </tr>\n",
       "  </tbody>\n",
       "</table>\n",
       "</div>"
      ],
      "text/plain": [
       "         eu_sales\n",
       "genre            \n",
       "Action     519.13\n",
       "Sports     376.79\n",
       "Shooter    317.34\n",
       "Racing     236.51\n",
       "Misc       212.74"
      ]
     },
     "execution_count": 61,
     "metadata": {},
     "output_type": "execute_result"
    }
   ],
   "source": [
    "data.pivot_table(index='genre',values='eu_sales',aggfunc='sum').sort_values('eu_sales',ascending=False).head(5)"
   ]
  },
  {
   "cell_type": "code",
   "execution_count": 62,
   "metadata": {},
   "outputs": [
    {
     "data": {
      "text/html": [
       "<div>\n",
       "<style scoped>\n",
       "    .dataframe tbody tr th:only-of-type {\n",
       "        vertical-align: middle;\n",
       "    }\n",
       "\n",
       "    .dataframe tbody tr th {\n",
       "        vertical-align: top;\n",
       "    }\n",
       "\n",
       "    .dataframe thead th {\n",
       "        text-align: right;\n",
       "    }\n",
       "</style>\n",
       "<table border=\"1\" class=\"dataframe\">\n",
       "  <thead>\n",
       "    <tr style=\"text-align: right;\">\n",
       "      <th></th>\n",
       "      <th>jp_sales</th>\n",
       "    </tr>\n",
       "    <tr>\n",
       "      <th>genre</th>\n",
       "      <th></th>\n",
       "    </tr>\n",
       "  </thead>\n",
       "  <tbody>\n",
       "    <tr>\n",
       "      <th>Role-Playing</th>\n",
       "      <td>355.41</td>\n",
       "    </tr>\n",
       "    <tr>\n",
       "      <th>Action</th>\n",
       "      <td>161.43</td>\n",
       "    </tr>\n",
       "    <tr>\n",
       "      <th>Sports</th>\n",
       "      <td>135.54</td>\n",
       "    </tr>\n",
       "    <tr>\n",
       "      <th>Platform</th>\n",
       "      <td>130.83</td>\n",
       "    </tr>\n",
       "    <tr>\n",
       "      <th>Misc</th>\n",
       "      <td>108.11</td>\n",
       "    </tr>\n",
       "  </tbody>\n",
       "</table>\n",
       "</div>"
      ],
      "text/plain": [
       "              jp_sales\n",
       "genre                 \n",
       "Role-Playing    355.41\n",
       "Action          161.43\n",
       "Sports          135.54\n",
       "Platform        130.83\n",
       "Misc            108.11"
      ]
     },
     "execution_count": 62,
     "metadata": {},
     "output_type": "execute_result"
    }
   ],
   "source": [
    "data.pivot_table(index='genre',values='jp_sales',aggfunc='sum').sort_values('jp_sales',ascending=False).head(5)"
   ]
  },
  {
   "cell_type": "markdown",
   "metadata": {},
   "source": [
    "В северной америке и в европе практически идентичны популярные жанр игр. В японии чуть популярный жанр игр Role-Playing. Но все завиисмотси от региона жанры Action и sports, всегда будут популярны."
   ]
  },
  {
   "cell_type": "code",
   "execution_count": 63,
   "metadata": {},
   "outputs": [
    {
     "data": {
      "text/html": [
       "<div>\n",
       "<style scoped>\n",
       "    .dataframe tbody tr th:only-of-type {\n",
       "        vertical-align: middle;\n",
       "    }\n",
       "\n",
       "    .dataframe tbody tr th {\n",
       "        vertical-align: top;\n",
       "    }\n",
       "\n",
       "    .dataframe thead th {\n",
       "        text-align: right;\n",
       "    }\n",
       "</style>\n",
       "<table border=\"1\" class=\"dataframe\">\n",
       "  <thead>\n",
       "    <tr style=\"text-align: right;\">\n",
       "      <th></th>\n",
       "      <th>na_sales</th>\n",
       "    </tr>\n",
       "    <tr>\n",
       "      <th>rating</th>\n",
       "      <th></th>\n",
       "    </tr>\n",
       "  </thead>\n",
       "  <tbody>\n",
       "    <tr>\n",
       "      <th>E</th>\n",
       "      <td>1292.99</td>\n",
       "    </tr>\n",
       "    <tr>\n",
       "      <th>T</th>\n",
       "      <td>759.75</td>\n",
       "    </tr>\n",
       "    <tr>\n",
       "      <th>M</th>\n",
       "      <td>748.48</td>\n",
       "    </tr>\n",
       "    <tr>\n",
       "      <th>E10+</th>\n",
       "      <td>353.32</td>\n",
       "    </tr>\n",
       "    <tr>\n",
       "      <th>K-A</th>\n",
       "      <td>2.56</td>\n",
       "    </tr>\n",
       "  </tbody>\n",
       "</table>\n",
       "</div>"
      ],
      "text/plain": [
       "        na_sales\n",
       "rating          \n",
       "E        1292.99\n",
       "T         759.75\n",
       "M         748.48\n",
       "E10+      353.32\n",
       "K-A         2.56"
      ]
     },
     "execution_count": 63,
     "metadata": {},
     "output_type": "execute_result"
    }
   ],
   "source": [
    "data.pivot_table(index='rating',values='na_sales',aggfunc='sum').sort_values('na_sales',ascending=False).head(5)"
   ]
  },
  {
   "cell_type": "code",
   "execution_count": 64,
   "metadata": {},
   "outputs": [
    {
     "data": {
      "text/html": [
       "<div>\n",
       "<style scoped>\n",
       "    .dataframe tbody tr th:only-of-type {\n",
       "        vertical-align: middle;\n",
       "    }\n",
       "\n",
       "    .dataframe tbody tr th {\n",
       "        vertical-align: top;\n",
       "    }\n",
       "\n",
       "    .dataframe thead th {\n",
       "        text-align: right;\n",
       "    }\n",
       "</style>\n",
       "<table border=\"1\" class=\"dataframe\">\n",
       "  <thead>\n",
       "    <tr style=\"text-align: right;\">\n",
       "      <th></th>\n",
       "      <th>eu_sales</th>\n",
       "    </tr>\n",
       "    <tr>\n",
       "      <th>rating</th>\n",
       "      <th></th>\n",
       "    </tr>\n",
       "  </thead>\n",
       "  <tbody>\n",
       "    <tr>\n",
       "      <th>E</th>\n",
       "      <td>710.25</td>\n",
       "    </tr>\n",
       "    <tr>\n",
       "      <th>M</th>\n",
       "      <td>483.97</td>\n",
       "    </tr>\n",
       "    <tr>\n",
       "      <th>T</th>\n",
       "      <td>427.03</td>\n",
       "    </tr>\n",
       "    <tr>\n",
       "      <th>E10+</th>\n",
       "      <td>188.52</td>\n",
       "    </tr>\n",
       "    <tr>\n",
       "      <th>AO</th>\n",
       "      <td>0.61</td>\n",
       "    </tr>\n",
       "  </tbody>\n",
       "</table>\n",
       "</div>"
      ],
      "text/plain": [
       "        eu_sales\n",
       "rating          \n",
       "E         710.25\n",
       "M         483.97\n",
       "T         427.03\n",
       "E10+      188.52\n",
       "AO          0.61"
      ]
     },
     "execution_count": 64,
     "metadata": {},
     "output_type": "execute_result"
    }
   ],
   "source": [
    "data.pivot_table(index='rating',values='eu_sales',aggfunc='sum').sort_values('eu_sales',ascending=False).head(5)"
   ]
  },
  {
   "cell_type": "code",
   "execution_count": 65,
   "metadata": {},
   "outputs": [
    {
     "data": {
      "text/html": [
       "<div>\n",
       "<style scoped>\n",
       "    .dataframe tbody tr th:only-of-type {\n",
       "        vertical-align: middle;\n",
       "    }\n",
       "\n",
       "    .dataframe tbody tr th {\n",
       "        vertical-align: top;\n",
       "    }\n",
       "\n",
       "    .dataframe thead th {\n",
       "        text-align: right;\n",
       "    }\n",
       "</style>\n",
       "<table border=\"1\" class=\"dataframe\">\n",
       "  <thead>\n",
       "    <tr style=\"text-align: right;\">\n",
       "      <th></th>\n",
       "      <th>jp_sales</th>\n",
       "    </tr>\n",
       "    <tr>\n",
       "      <th>rating</th>\n",
       "      <th></th>\n",
       "    </tr>\n",
       "  </thead>\n",
       "  <tbody>\n",
       "    <tr>\n",
       "      <th>E</th>\n",
       "      <td>198.11</td>\n",
       "    </tr>\n",
       "    <tr>\n",
       "      <th>T</th>\n",
       "      <td>151.40</td>\n",
       "    </tr>\n",
       "    <tr>\n",
       "      <th>M</th>\n",
       "      <td>64.24</td>\n",
       "    </tr>\n",
       "    <tr>\n",
       "      <th>E10+</th>\n",
       "      <td>40.20</td>\n",
       "    </tr>\n",
       "    <tr>\n",
       "      <th>K-A</th>\n",
       "      <td>1.46</td>\n",
       "    </tr>\n",
       "  </tbody>\n",
       "</table>\n",
       "</div>"
      ],
      "text/plain": [
       "        jp_sales\n",
       "rating          \n",
       "E         198.11\n",
       "T         151.40\n",
       "M          64.24\n",
       "E10+       40.20\n",
       "K-A         1.46"
      ]
     },
     "execution_count": 65,
     "metadata": {},
     "output_type": "execute_result"
    }
   ],
   "source": [
    "data.pivot_table(index='rating',values='jp_sales',aggfunc='sum').sort_values('jp_sales',ascending=False).head(5)"
   ]
  },
  {
   "cell_type": "markdown",
   "metadata": {},
   "source": [
    "У всех регионов очень схожи рейтинги. В основном рейтинг E(в целом подходит для всех возрастов) стоит на первом месте.Второе и третье место разменивают рейтинг T(в целом подходит для возраста 13 лет и старше) и M(17+). "
   ]
  },
  {
   "cell_type": "markdown",
   "metadata": {},
   "source": [
    "# 5"
   ]
  },
  {
   "cell_type": "markdown",
   "metadata": {},
   "source": [
    "# 5.1"
   ]
  },
  {
   "cell_type": "markdown",
   "metadata": {},
   "source": [
    "H0: Средние пользовательские рейтинги платформ Xbox One и PC одинаковые;\n",
    "H1: Средние пользовательские рейтинги платформ Xbox One и PC различаются;"
   ]
  },
  {
   "cell_type": "code",
   "execution_count": 66,
   "metadata": {},
   "outputs": [],
   "source": [
    "data_xone = data_2012[(data_2012['platform'] == 'XOne') & (data_2012['user_score'] > 0)]['user_score'] "
   ]
  },
  {
   "cell_type": "code",
   "execution_count": 67,
   "metadata": {},
   "outputs": [
    {
     "data": {
      "text/plain": [
       "165      7.9\n",
       "179      5.4\n",
       "242      6.4\n",
       "270      6.2\n",
       "373      4.1\n",
       "        ... \n",
       "16544    6.8\n",
       "16597    6.0\n",
       "16630    8.2\n",
       "16643    6.6\n",
       "16660    6.7\n",
       "Name: user_score, Length: 182, dtype: float64"
      ]
     },
     "execution_count": 67,
     "metadata": {},
     "output_type": "execute_result"
    }
   ],
   "source": [
    "data_xone"
   ]
  },
  {
   "cell_type": "code",
   "execution_count": 68,
   "metadata": {},
   "outputs": [],
   "source": [
    "data_pc = data_2012[(data_2012['platform'] == 'PC') & (data_2012['user_score'] > 0)]['user_score'] "
   ]
  },
  {
   "cell_type": "code",
   "execution_count": 69,
   "metadata": {},
   "outputs": [
    {
     "data": {
      "text/plain": [
       "458      3.9\n",
       "1095     7.9\n",
       "1351     2.2\n",
       "1437     6.0\n",
       "1530     5.4\n",
       "        ... \n",
       "16456    8.3\n",
       "16463    6.8\n",
       "16509    7.9\n",
       "16518    1.4\n",
       "16692    7.6\n",
       "Name: user_score, Length: 155, dtype: float64"
      ]
     },
     "execution_count": 69,
     "metadata": {},
     "output_type": "execute_result"
    }
   ],
   "source": [
    "data_pc"
   ]
  },
  {
   "cell_type": "code",
   "execution_count": 70,
   "metadata": {},
   "outputs": [],
   "source": [
    "alpha = 0.05"
   ]
  },
  {
   "cell_type": "code",
   "execution_count": 71,
   "metadata": {},
   "outputs": [
    {
     "name": "stdout",
     "output_type": "stream",
     "text": [
      "p-value: 0.14012658403611647\n",
      "Нет оснований отвергнуть нулевую гипотезу\n"
     ]
    }
   ],
   "source": [
    "results = st.ttest_ind(data_xone, data_pc)\n",
    "\n",
    "print(f'p-value: {results.pvalue}')\n",
    "\n",
    "# проверяем p-value\n",
    "if results.pvalue < alpha:\n",
    "    print('Отвергаем нулевую гипотезу')\n",
    "else:\n",
    "    print('Нет оснований отвергнуть нулевую гипотезу')"
   ]
  },
  {
   "cell_type": "markdown",
   "metadata": {},
   "source": [
    "Статистическо значимой разницы между средним пользователемским рейтингом Xbox One и PC нет"
   ]
  },
  {
   "cell_type": "code",
   "execution_count": 72,
   "metadata": {},
   "outputs": [],
   "source": [
    "data_action = data_2012[(data_2012['genre'] == 'Action') & (data_2012['user_score'] > 0)]['user_score']"
   ]
  },
  {
   "cell_type": "code",
   "execution_count": 73,
   "metadata": {},
   "outputs": [
    {
     "data": {
      "text/plain": [
       "16       8.2\n",
       "23       8.1\n",
       "42       8.3\n",
       "149      9.1\n",
       "165      7.9\n",
       "        ... \n",
       "16597    6.0\n",
       "16652    8.5\n",
       "16654    5.1\n",
       "16660    6.7\n",
       "16692    7.6\n",
       "Name: user_score, Length: 389, dtype: float64"
      ]
     },
     "execution_count": 73,
     "metadata": {},
     "output_type": "execute_result"
    }
   ],
   "source": [
    "data_action"
   ]
  },
  {
   "cell_type": "code",
   "execution_count": 74,
   "metadata": {},
   "outputs": [],
   "source": [
    "data_sports = data_2012[(data_2012['genre'] == 'Sports') & (data_2012['user_score'] > 0)]['user_score']"
   ]
  },
  {
   "cell_type": "code",
   "execution_count": 75,
   "metadata": {},
   "outputs": [
    {
     "data": {
      "text/plain": [
       "77       4.3\n",
       "94       5.0\n",
       "126      4.3\n",
       "143      5.7\n",
       "264      4.5\n",
       "        ... \n",
       "16142    8.8\n",
       "16146    6.9\n",
       "16450    4.5\n",
       "16518    1.4\n",
       "16643    6.6\n",
       "Name: user_score, Length: 160, dtype: float64"
      ]
     },
     "execution_count": 75,
     "metadata": {},
     "output_type": "execute_result"
    }
   ],
   "source": [
    "data_sports"
   ]
  },
  {
   "cell_type": "code",
   "execution_count": 76,
   "metadata": {
    "scrolled": true
   },
   "outputs": [
    {
     "name": "stdout",
     "output_type": "stream",
     "text": [
      "p-value: 1.0517832389140023e-27\n",
      "Отвергаем нулевую гипотезу\n"
     ]
    }
   ],
   "source": [
    "results = st.ttest_ind(data_action, data_sports)\n",
    "\n",
    "print(f'p-value: {results.pvalue}')\n",
    "\n",
    "# проверяем p-value\n",
    "if results.pvalue < alpha:\n",
    "    print('Отвергаем нулевую гипотезу')\n",
    "else:\n",
    "    print('Нет оснований отвергнуть нулевую гипотезу')"
   ]
  },
  {
   "cell_type": "markdown",
   "metadata": {},
   "source": [
    "Cредние пользовательские рейтинги жанров Action и Sports различаются"
   ]
  },
  {
   "cell_type": "markdown",
   "metadata": {},
   "source": [
    "Вывод: Первая и вторая гипотезы не отвергнуты.\n",
    "\n",
    "Платформа XOne старается из года в год набирать новых пользователей, чтобы соревноваться не только с PS4, но и с самой распространненной платформой на земле PC. На 2016 год по качеству игр они близки к компьютерным.\n",
    "\n",
    "Различия между Action и Sports существуют из-за опыта создания игр. Первые экшены появились в 80х годах и из года в год они становятся интересней, так как им есть на что ровняться в прошлом. У спортивных игр в большинстве случаев ограничением в рейтингах стоит симуляция реальных спортивных игр. И любителям этой серии иногда приходиться сталкиваться с непонятными решениями в этих играх."
   ]
  },
  {
   "cell_type": "markdown",
   "metadata": {},
   "source": [
    "# 6 вывод"
   ]
  },
  {
   "cell_type": "markdown",
   "metadata": {},
   "source": [
    "В ходе работы мы выполинли последовательно следующие шаги и выявили все самые интересные аномалии, гипотезы, популярные продукты и перспективные напрвления\n",
    "\n",
    "- посмотрели данные, выявили некоторые аномалии и пропущенные значения\n",
    "- провели предобработку данных, заполнили пропуски, удалили дубликаты, заменили название столбцов\n",
    "- следующий шаг, анализ данных и подготовка всего самого свежего и интерсеного\n",
    "- составили портрет пользователя каждого региона\n",
    "- проверили гипотезы\n",
    "\n",
    "Популярные компании конечно выбиваются из всего состава платформ, такие как sony, microsoft и Nintendo. В среднем, каждое новое выпущеннное устройство от таких компаний, живет на рынке 5-10 лет. Все это подкреплется актуальными играми, которые зараждают интрес к видеоиграм. Популярные жанры игр такие как: Action, Sports, Shooter, всегда остаются желаемыми в каждом регионе. То же касается платформ для игр - Мы должны выпускать игры для новых, перспективных платформ, так как цикл жизни одной платформы очень короткий. \n",
    "\n",
    "Перспективные платформы - PS4, XOne, 3DS. \n",
    "Но и не забывать распространять компьютерные игры и портации игр с популярных платформ на PC. Компьютер еще долго не выйдет из конкуренции за игроков.\n",
    "\n",
    "Гипотезы: \n",
    "Статистическо значимой разницы между средним пользователемским рейтингом Xbox One и PC нет\n",
    "Средние пользовательские рейтинги жанров Action и Sports различаются\n",
    "\n",
    "Мир видеоплатформ и видеоигр тока растет, и все больше конкурецнии появляются у производителей."
   ]
  },
  {
   "cell_type": "code",
   "execution_count": null,
   "metadata": {},
   "outputs": [],
   "source": []
  }
 ],
 "metadata": {
  "ExecuteTimeLog": [
   {
    "duration": 400,
    "start_time": "2023-09-05T17:11:02.931Z"
   },
   {
    "duration": 101,
    "start_time": "2023-09-05T17:11:03.540Z"
   },
   {
    "duration": 30,
    "start_time": "2023-09-05T17:11:04.173Z"
   },
   {
    "duration": 16,
    "start_time": "2023-09-05T17:11:51.160Z"
   },
   {
    "duration": 67,
    "start_time": "2023-09-05T17:15:31.689Z"
   },
   {
    "duration": 8,
    "start_time": "2023-09-05T17:15:53.381Z"
   },
   {
    "duration": 5,
    "start_time": "2023-09-05T17:19:17.815Z"
   },
   {
    "duration": 1855,
    "start_time": "2023-09-05T17:21:14.138Z"
   },
   {
    "duration": 414,
    "start_time": "2023-09-05T17:21:44.109Z"
   },
   {
    "duration": 60,
    "start_time": "2023-09-05T17:21:44.525Z"
   },
   {
    "duration": 27,
    "start_time": "2023-09-05T17:21:44.587Z"
   },
   {
    "duration": 52,
    "start_time": "2023-09-05T17:21:44.616Z"
   },
   {
    "duration": 69,
    "start_time": "2023-09-05T17:21:44.671Z"
   },
   {
    "duration": 71,
    "start_time": "2023-09-05T17:21:44.741Z"
   },
   {
    "duration": 1699,
    "start_time": "2023-09-05T17:21:44.814Z"
   },
   {
    "duration": 177,
    "start_time": "2023-09-05T17:23:18.690Z"
   },
   {
    "duration": 93,
    "start_time": "2023-09-05T17:23:31.338Z"
   },
   {
    "duration": 7,
    "start_time": "2023-09-05T17:23:37.071Z"
   },
   {
    "duration": 4,
    "start_time": "2023-09-05T17:28:16.302Z"
   },
   {
    "duration": 16,
    "start_time": "2023-09-05T17:28:20.735Z"
   },
   {
    "duration": 417,
    "start_time": "2023-09-05T17:28:26.419Z"
   },
   {
    "duration": 58,
    "start_time": "2023-09-05T17:28:26.838Z"
   },
   {
    "duration": 29,
    "start_time": "2023-09-05T17:28:26.898Z"
   },
   {
    "duration": 58,
    "start_time": "2023-09-05T17:28:26.929Z"
   },
   {
    "duration": 4,
    "start_time": "2023-09-05T17:28:26.989Z"
   },
   {
    "duration": 23,
    "start_time": "2023-09-05T17:28:26.994Z"
   },
   {
    "duration": 69,
    "start_time": "2023-09-05T17:28:27.019Z"
   },
   {
    "duration": 11,
    "start_time": "2023-09-05T17:28:39.336Z"
   },
   {
    "duration": 391,
    "start_time": "2023-09-05T17:29:38.191Z"
   },
   {
    "duration": 13,
    "start_time": "2023-09-05T17:30:13.819Z"
   },
   {
    "duration": 396,
    "start_time": "2023-09-05T17:42:20.759Z"
   },
   {
    "duration": 61,
    "start_time": "2023-09-05T17:42:21.157Z"
   },
   {
    "duration": 30,
    "start_time": "2023-09-05T17:42:21.220Z"
   },
   {
    "duration": 18,
    "start_time": "2023-09-05T17:42:21.252Z"
   },
   {
    "duration": 17,
    "start_time": "2023-09-05T17:42:21.272Z"
   },
   {
    "duration": 31,
    "start_time": "2023-09-05T17:42:21.291Z"
   },
   {
    "duration": 90,
    "start_time": "2023-09-05T17:42:21.324Z"
   },
   {
    "duration": 605,
    "start_time": "2023-09-05T17:43:36.759Z"
   },
   {
    "duration": 8,
    "start_time": "2023-09-05T17:44:59.701Z"
   },
   {
    "duration": 15,
    "start_time": "2023-09-05T17:45:19.288Z"
   },
   {
    "duration": 10,
    "start_time": "2023-09-05T17:54:40.562Z"
   },
   {
    "duration": 17,
    "start_time": "2023-09-05T18:03:34.495Z"
   },
   {
    "duration": 20,
    "start_time": "2023-09-05T18:03:58.676Z"
   },
   {
    "duration": 45,
    "start_time": "2023-09-05T18:04:19.401Z"
   },
   {
    "duration": 8,
    "start_time": "2023-09-05T18:04:36.408Z"
   },
   {
    "duration": 20,
    "start_time": "2023-09-05T18:04:48.165Z"
   },
   {
    "duration": 7,
    "start_time": "2023-09-05T18:07:47.567Z"
   },
   {
    "duration": 4,
    "start_time": "2023-09-05T18:08:35.665Z"
   },
   {
    "duration": 5,
    "start_time": "2023-09-05T18:09:40.707Z"
   },
   {
    "duration": 7,
    "start_time": "2023-09-05T18:24:25.529Z"
   },
   {
    "duration": 430,
    "start_time": "2023-09-05T18:27:27.077Z"
   },
   {
    "duration": 56,
    "start_time": "2023-09-05T18:27:27.509Z"
   },
   {
    "duration": 28,
    "start_time": "2023-09-05T18:27:27.567Z"
   },
   {
    "duration": 19,
    "start_time": "2023-09-05T18:27:27.596Z"
   },
   {
    "duration": 13,
    "start_time": "2023-09-05T18:27:27.618Z"
   },
   {
    "duration": 54,
    "start_time": "2023-09-05T18:27:27.632Z"
   },
   {
    "duration": 24,
    "start_time": "2023-09-05T18:27:27.688Z"
   },
   {
    "duration": 61,
    "start_time": "2023-09-05T18:27:27.714Z"
   },
   {
    "duration": 9,
    "start_time": "2023-09-05T18:27:27.777Z"
   },
   {
    "duration": 24,
    "start_time": "2023-09-05T18:27:27.788Z"
   },
   {
    "duration": 30,
    "start_time": "2023-09-05T18:27:27.814Z"
   },
   {
    "duration": 574,
    "start_time": "2023-09-05T18:27:27.846Z"
   },
   {
    "duration": 8,
    "start_time": "2023-09-05T18:27:28.422Z"
   },
   {
    "duration": 160,
    "start_time": "2023-09-05T18:33:45.972Z"
   },
   {
    "duration": 4,
    "start_time": "2023-09-05T18:34:07.132Z"
   },
   {
    "duration": 18,
    "start_time": "2023-09-05T18:35:16.314Z"
   },
   {
    "duration": 7,
    "start_time": "2023-09-05T18:35:25.881Z"
   },
   {
    "duration": 9,
    "start_time": "2023-09-05T18:37:43.240Z"
   },
   {
    "duration": 392,
    "start_time": "2023-09-05T18:38:22.445Z"
   },
   {
    "duration": 58,
    "start_time": "2023-09-05T18:38:22.839Z"
   },
   {
    "duration": 30,
    "start_time": "2023-09-05T18:38:22.899Z"
   },
   {
    "duration": 15,
    "start_time": "2023-09-05T18:38:22.931Z"
   },
   {
    "duration": 3,
    "start_time": "2023-09-05T18:38:22.948Z"
   },
   {
    "duration": 19,
    "start_time": "2023-09-05T18:38:22.953Z"
   },
   {
    "duration": 9,
    "start_time": "2023-09-05T18:38:23.001Z"
   },
   {
    "duration": 22,
    "start_time": "2023-09-05T18:38:23.012Z"
   },
   {
    "duration": 14,
    "start_time": "2023-09-05T18:38:23.035Z"
   },
   {
    "duration": 20,
    "start_time": "2023-09-05T18:38:23.051Z"
   },
   {
    "duration": 28,
    "start_time": "2023-09-05T18:38:23.073Z"
   },
   {
    "duration": 420,
    "start_time": "2023-09-05T18:38:23.103Z"
   },
   {
    "duration": 7,
    "start_time": "2023-09-05T18:38:23.525Z"
   },
   {
    "duration": 161,
    "start_time": "2023-09-05T18:38:23.535Z"
   },
   {
    "duration": 25,
    "start_time": "2023-09-05T18:38:23.701Z"
   },
   {
    "duration": 35,
    "start_time": "2023-09-05T18:38:23.728Z"
   },
   {
    "duration": 179,
    "start_time": "2023-09-05T18:38:23.765Z"
   },
   {
    "duration": 23,
    "start_time": "2023-09-05T18:39:00.596Z"
   },
   {
    "duration": 20,
    "start_time": "2023-09-05T18:41:02.781Z"
   },
   {
    "duration": 418,
    "start_time": "2023-09-05T18:43:41.298Z"
   },
   {
    "duration": 54,
    "start_time": "2023-09-05T18:43:41.718Z"
   },
   {
    "duration": 25,
    "start_time": "2023-09-05T18:43:41.774Z"
   },
   {
    "duration": 14,
    "start_time": "2023-09-05T18:43:41.801Z"
   },
   {
    "duration": 4,
    "start_time": "2023-09-05T18:43:41.817Z"
   },
   {
    "duration": 16,
    "start_time": "2023-09-05T18:43:41.823Z"
   },
   {
    "duration": 7,
    "start_time": "2023-09-05T18:43:41.840Z"
   },
   {
    "duration": 14,
    "start_time": "2023-09-05T18:43:41.849Z"
   },
   {
    "duration": 9,
    "start_time": "2023-09-05T18:43:41.865Z"
   },
   {
    "duration": 5,
    "start_time": "2023-09-05T18:43:41.902Z"
   },
   {
    "duration": 5,
    "start_time": "2023-09-05T18:43:41.909Z"
   },
   {
    "duration": 378,
    "start_time": "2023-09-05T18:43:41.915Z"
   },
   {
    "duration": 8,
    "start_time": "2023-09-05T18:43:42.295Z"
   },
   {
    "duration": 151,
    "start_time": "2023-09-05T18:43:42.305Z"
   },
   {
    "duration": 5,
    "start_time": "2023-09-05T18:43:42.457Z"
   },
   {
    "duration": 35,
    "start_time": "2023-09-05T18:43:42.463Z"
   },
   {
    "duration": 23,
    "start_time": "2023-09-05T18:43:42.499Z"
   },
   {
    "duration": 50,
    "start_time": "2023-09-05T18:43:42.523Z"
   },
   {
    "duration": 41,
    "start_time": "2023-09-05T18:43:42.575Z"
   },
   {
    "duration": 5,
    "start_time": "2023-09-05T18:47:42.361Z"
   },
   {
    "duration": 5,
    "start_time": "2023-09-05T18:51:04.685Z"
   },
   {
    "duration": 22,
    "start_time": "2023-09-05T18:51:19.078Z"
   },
   {
    "duration": 454,
    "start_time": "2023-09-05T18:52:19.682Z"
   },
   {
    "duration": 57,
    "start_time": "2023-09-05T18:52:20.138Z"
   },
   {
    "duration": 36,
    "start_time": "2023-09-05T18:52:20.197Z"
   },
   {
    "duration": 16,
    "start_time": "2023-09-05T18:52:20.235Z"
   },
   {
    "duration": 4,
    "start_time": "2023-09-05T18:52:20.253Z"
   },
   {
    "duration": 49,
    "start_time": "2023-09-05T18:52:20.259Z"
   },
   {
    "duration": 10,
    "start_time": "2023-09-05T18:52:20.313Z"
   },
   {
    "duration": 27,
    "start_time": "2023-09-05T18:52:20.325Z"
   },
   {
    "duration": 20,
    "start_time": "2023-09-05T18:52:20.353Z"
   },
   {
    "duration": 13,
    "start_time": "2023-09-05T18:52:20.374Z"
   },
   {
    "duration": 12,
    "start_time": "2023-09-05T18:52:20.388Z"
   },
   {
    "duration": 466,
    "start_time": "2023-09-05T18:52:20.402Z"
   },
   {
    "duration": 4,
    "start_time": "2023-09-05T18:52:20.870Z"
   },
   {
    "duration": 180,
    "start_time": "2023-09-05T18:52:20.877Z"
   },
   {
    "duration": 5,
    "start_time": "2023-09-05T18:52:21.059Z"
   },
   {
    "duration": 28,
    "start_time": "2023-09-05T18:52:21.067Z"
   },
   {
    "duration": 46,
    "start_time": "2023-09-05T18:52:21.097Z"
   },
   {
    "duration": 56,
    "start_time": "2023-09-05T18:52:21.145Z"
   },
   {
    "duration": 64,
    "start_time": "2023-09-05T18:52:21.203Z"
   },
   {
    "duration": 41,
    "start_time": "2023-09-05T18:52:21.269Z"
   },
   {
    "duration": 64,
    "start_time": "2023-09-05T18:52:21.314Z"
   },
   {
    "duration": 48,
    "start_time": "2023-09-05T18:52:21.380Z"
   },
   {
    "duration": 51,
    "start_time": "2023-09-05T18:52:21.429Z"
   },
   {
    "duration": 418,
    "start_time": "2023-09-05T18:54:02.916Z"
   },
   {
    "duration": 56,
    "start_time": "2023-09-05T18:54:03.336Z"
   },
   {
    "duration": 30,
    "start_time": "2023-09-05T18:54:03.394Z"
   },
   {
    "duration": 78,
    "start_time": "2023-09-05T18:54:03.426Z"
   },
   {
    "duration": 68,
    "start_time": "2023-09-05T18:54:03.506Z"
   },
   {
    "duration": 112,
    "start_time": "2023-09-05T18:54:03.575Z"
   },
   {
    "duration": 36,
    "start_time": "2023-09-05T18:54:03.689Z"
   },
   {
    "duration": 18,
    "start_time": "2023-09-05T18:54:03.726Z"
   },
   {
    "duration": 32,
    "start_time": "2023-09-05T18:54:03.746Z"
   },
   {
    "duration": 21,
    "start_time": "2023-09-05T18:54:03.780Z"
   },
   {
    "duration": 22,
    "start_time": "2023-09-05T18:54:03.803Z"
   },
   {
    "duration": 412,
    "start_time": "2023-09-05T18:54:03.827Z"
   },
   {
    "duration": 5,
    "start_time": "2023-09-05T18:54:04.241Z"
   },
   {
    "duration": 218,
    "start_time": "2023-09-05T18:54:04.248Z"
   },
   {
    "duration": 5,
    "start_time": "2023-09-05T18:54:04.468Z"
   },
   {
    "duration": 62,
    "start_time": "2023-09-05T18:54:04.474Z"
   },
   {
    "duration": 125,
    "start_time": "2023-09-05T18:54:04.538Z"
   },
   {
    "duration": 198,
    "start_time": "2023-09-05T18:54:04.665Z"
   },
   {
    "duration": 38,
    "start_time": "2023-09-05T18:54:04.864Z"
   },
   {
    "duration": 24,
    "start_time": "2023-09-05T18:54:04.904Z"
   },
   {
    "duration": 31,
    "start_time": "2023-09-05T18:54:04.930Z"
   },
   {
    "duration": 25,
    "start_time": "2023-09-05T18:54:04.964Z"
   },
   {
    "duration": 37,
    "start_time": "2023-09-05T18:54:04.991Z"
   },
   {
    "duration": 56,
    "start_time": "2023-09-05T18:54:05.030Z"
   },
   {
    "duration": 403,
    "start_time": "2023-09-05T18:54:26.324Z"
   },
   {
    "duration": 54,
    "start_time": "2023-09-05T18:54:26.729Z"
   },
   {
    "duration": 29,
    "start_time": "2023-09-05T18:54:26.785Z"
   },
   {
    "duration": 28,
    "start_time": "2023-09-05T18:54:26.816Z"
   },
   {
    "duration": 17,
    "start_time": "2023-09-05T18:54:26.846Z"
   },
   {
    "duration": 46,
    "start_time": "2023-09-05T18:54:26.865Z"
   },
   {
    "duration": 21,
    "start_time": "2023-09-05T18:54:26.912Z"
   },
   {
    "duration": 40,
    "start_time": "2023-09-05T18:54:26.935Z"
   },
   {
    "duration": 29,
    "start_time": "2023-09-05T18:54:26.978Z"
   },
   {
    "duration": 17,
    "start_time": "2023-09-05T18:54:27.009Z"
   },
   {
    "duration": 27,
    "start_time": "2023-09-05T18:54:27.028Z"
   },
   {
    "duration": 433,
    "start_time": "2023-09-05T18:54:27.058Z"
   },
   {
    "duration": 10,
    "start_time": "2023-09-05T18:54:27.493Z"
   },
   {
    "duration": 165,
    "start_time": "2023-09-05T18:54:27.507Z"
   },
   {
    "duration": 6,
    "start_time": "2023-09-05T18:54:27.674Z"
   },
   {
    "duration": 23,
    "start_time": "2023-09-05T18:54:27.682Z"
   },
   {
    "duration": 25,
    "start_time": "2023-09-05T18:54:27.707Z"
   },
   {
    "duration": 48,
    "start_time": "2023-09-05T18:54:27.735Z"
   },
   {
    "duration": 25,
    "start_time": "2023-09-05T18:54:27.785Z"
   },
   {
    "duration": 17,
    "start_time": "2023-09-05T18:54:27.812Z"
   },
   {
    "duration": 37,
    "start_time": "2023-09-05T18:54:27.831Z"
   },
   {
    "duration": 44,
    "start_time": "2023-09-06T11:56:48.463Z"
   },
   {
    "duration": 403,
    "start_time": "2023-09-06T11:56:55.978Z"
   },
   {
    "duration": 109,
    "start_time": "2023-09-06T11:56:56.383Z"
   },
   {
    "duration": 26,
    "start_time": "2023-09-06T11:56:56.493Z"
   },
   {
    "duration": 27,
    "start_time": "2023-09-06T11:56:56.520Z"
   },
   {
    "duration": 30,
    "start_time": "2023-09-06T11:56:56.549Z"
   },
   {
    "duration": 32,
    "start_time": "2023-09-06T11:56:56.580Z"
   },
   {
    "duration": 42,
    "start_time": "2023-09-06T11:56:56.613Z"
   },
   {
    "duration": 38,
    "start_time": "2023-09-06T11:56:56.656Z"
   },
   {
    "duration": 32,
    "start_time": "2023-09-06T11:56:56.696Z"
   },
   {
    "duration": 31,
    "start_time": "2023-09-06T11:56:56.729Z"
   },
   {
    "duration": 31,
    "start_time": "2023-09-06T11:56:56.761Z"
   },
   {
    "duration": 611,
    "start_time": "2023-09-06T11:56:56.794Z"
   },
   {
    "duration": 5,
    "start_time": "2023-09-06T11:56:57.407Z"
   },
   {
    "duration": 176,
    "start_time": "2023-09-06T11:56:57.414Z"
   },
   {
    "duration": 5,
    "start_time": "2023-09-06T11:56:57.592Z"
   },
   {
    "duration": 24,
    "start_time": "2023-09-06T11:56:57.599Z"
   },
   {
    "duration": 51,
    "start_time": "2023-09-06T11:56:57.625Z"
   },
   {
    "duration": 22,
    "start_time": "2023-09-06T11:56:57.678Z"
   },
   {
    "duration": 45,
    "start_time": "2023-09-06T11:56:57.702Z"
   },
   {
    "duration": 29,
    "start_time": "2023-09-06T11:56:57.748Z"
   },
   {
    "duration": 57,
    "start_time": "2023-09-06T11:56:57.779Z"
   },
   {
    "duration": 28,
    "start_time": "2023-09-06T11:56:57.842Z"
   },
   {
    "duration": 47,
    "start_time": "2023-09-06T12:07:35.356Z"
   },
   {
    "duration": 23,
    "start_time": "2023-09-06T12:09:02.225Z"
   },
   {
    "duration": 25,
    "start_time": "2023-09-06T12:09:32.270Z"
   },
   {
    "duration": 22,
    "start_time": "2023-09-06T12:11:06.095Z"
   },
   {
    "duration": 412,
    "start_time": "2023-09-06T12:24:18.638Z"
   },
   {
    "duration": 54,
    "start_time": "2023-09-06T12:24:19.052Z"
   },
   {
    "duration": 25,
    "start_time": "2023-09-06T12:24:19.108Z"
   },
   {
    "duration": 14,
    "start_time": "2023-09-06T12:24:19.134Z"
   },
   {
    "duration": 3,
    "start_time": "2023-09-06T12:24:19.150Z"
   },
   {
    "duration": 16,
    "start_time": "2023-09-06T12:24:19.154Z"
   },
   {
    "duration": 7,
    "start_time": "2023-09-06T12:24:19.171Z"
   },
   {
    "duration": 21,
    "start_time": "2023-09-06T12:24:19.180Z"
   },
   {
    "duration": 18,
    "start_time": "2023-09-06T12:24:19.203Z"
   },
   {
    "duration": 5,
    "start_time": "2023-09-06T12:24:19.234Z"
   },
   {
    "duration": 17,
    "start_time": "2023-09-06T12:24:19.240Z"
   },
   {
    "duration": 363,
    "start_time": "2023-09-06T12:24:19.259Z"
   },
   {
    "duration": 5,
    "start_time": "2023-09-06T12:24:19.623Z"
   },
   {
    "duration": 131,
    "start_time": "2023-09-06T12:24:19.633Z"
   },
   {
    "duration": 4,
    "start_time": "2023-09-06T12:24:19.766Z"
   },
   {
    "duration": 13,
    "start_time": "2023-09-06T12:24:19.771Z"
   },
   {
    "duration": 9,
    "start_time": "2023-09-06T12:24:19.785Z"
   },
   {
    "duration": 20,
    "start_time": "2023-09-06T12:24:19.795Z"
   },
   {
    "duration": 36,
    "start_time": "2023-09-06T12:24:19.817Z"
   },
   {
    "duration": 6,
    "start_time": "2023-09-06T12:24:19.855Z"
   },
   {
    "duration": 21,
    "start_time": "2023-09-06T12:24:19.863Z"
   },
   {
    "duration": 26,
    "start_time": "2023-09-06T12:24:19.885Z"
   },
   {
    "duration": 16,
    "start_time": "2023-09-06T12:26:24.050Z"
   },
   {
    "duration": 352,
    "start_time": "2023-09-06T12:27:37.498Z"
   },
   {
    "duration": 53,
    "start_time": "2023-09-06T12:27:37.852Z"
   },
   {
    "duration": 25,
    "start_time": "2023-09-06T12:27:37.906Z"
   },
   {
    "duration": 19,
    "start_time": "2023-09-06T12:27:37.933Z"
   },
   {
    "duration": 3,
    "start_time": "2023-09-06T12:27:37.954Z"
   },
   {
    "duration": 29,
    "start_time": "2023-09-06T12:27:37.958Z"
   },
   {
    "duration": 7,
    "start_time": "2023-09-06T12:27:37.989Z"
   },
   {
    "duration": 84,
    "start_time": "2023-09-06T12:27:37.997Z"
   },
   {
    "duration": 0,
    "start_time": "2023-09-06T12:27:38.084Z"
   },
   {
    "duration": 0,
    "start_time": "2023-09-06T12:27:38.085Z"
   },
   {
    "duration": 0,
    "start_time": "2023-09-06T12:27:38.086Z"
   },
   {
    "duration": 0,
    "start_time": "2023-09-06T12:27:38.087Z"
   },
   {
    "duration": 0,
    "start_time": "2023-09-06T12:27:38.089Z"
   },
   {
    "duration": 0,
    "start_time": "2023-09-06T12:27:38.092Z"
   },
   {
    "duration": 0,
    "start_time": "2023-09-06T12:27:38.093Z"
   },
   {
    "duration": 0,
    "start_time": "2023-09-06T12:27:38.094Z"
   },
   {
    "duration": 0,
    "start_time": "2023-09-06T12:27:38.095Z"
   },
   {
    "duration": 0,
    "start_time": "2023-09-06T12:27:38.096Z"
   },
   {
    "duration": 0,
    "start_time": "2023-09-06T12:27:38.097Z"
   },
   {
    "duration": 0,
    "start_time": "2023-09-06T12:27:38.098Z"
   },
   {
    "duration": 0,
    "start_time": "2023-09-06T12:27:38.099Z"
   },
   {
    "duration": 0,
    "start_time": "2023-09-06T12:27:38.100Z"
   },
   {
    "duration": 0,
    "start_time": "2023-09-06T12:27:38.101Z"
   },
   {
    "duration": 431,
    "start_time": "2023-09-06T12:28:08.017Z"
   },
   {
    "duration": 53,
    "start_time": "2023-09-06T12:28:08.450Z"
   },
   {
    "duration": 26,
    "start_time": "2023-09-06T12:28:08.504Z"
   },
   {
    "duration": 42,
    "start_time": "2023-09-06T12:28:08.531Z"
   },
   {
    "duration": 3,
    "start_time": "2023-09-06T12:28:08.575Z"
   },
   {
    "duration": 22,
    "start_time": "2023-09-06T12:28:08.580Z"
   },
   {
    "duration": 24,
    "start_time": "2023-09-06T12:28:08.603Z"
   },
   {
    "duration": 42,
    "start_time": "2023-09-06T12:28:08.629Z"
   },
   {
    "duration": 13,
    "start_time": "2023-09-06T12:28:08.673Z"
   },
   {
    "duration": 28,
    "start_time": "2023-09-06T12:28:08.687Z"
   },
   {
    "duration": 28,
    "start_time": "2023-09-06T12:28:08.716Z"
   },
   {
    "duration": 401,
    "start_time": "2023-09-06T12:28:08.748Z"
   },
   {
    "duration": 4,
    "start_time": "2023-09-06T12:28:09.151Z"
   },
   {
    "duration": 134,
    "start_time": "2023-09-06T12:28:09.157Z"
   },
   {
    "duration": 5,
    "start_time": "2023-09-06T12:28:09.292Z"
   },
   {
    "duration": 6,
    "start_time": "2023-09-06T12:28:09.299Z"
   },
   {
    "duration": 10,
    "start_time": "2023-09-06T12:28:09.307Z"
   },
   {
    "duration": 49,
    "start_time": "2023-09-06T12:28:09.318Z"
   },
   {
    "duration": 18,
    "start_time": "2023-09-06T12:28:09.369Z"
   },
   {
    "duration": 7,
    "start_time": "2023-09-06T12:28:09.389Z"
   },
   {
    "duration": 21,
    "start_time": "2023-09-06T12:28:09.397Z"
   },
   {
    "duration": 24,
    "start_time": "2023-09-06T12:28:09.434Z"
   },
   {
    "duration": 369,
    "start_time": "2023-09-06T12:29:11.606Z"
   },
   {
    "duration": 60,
    "start_time": "2023-09-06T12:29:11.977Z"
   },
   {
    "duration": 28,
    "start_time": "2023-09-06T12:29:12.055Z"
   },
   {
    "duration": 18,
    "start_time": "2023-09-06T12:29:12.084Z"
   },
   {
    "duration": 5,
    "start_time": "2023-09-06T12:29:12.104Z"
   },
   {
    "duration": 35,
    "start_time": "2023-09-06T12:29:12.110Z"
   },
   {
    "duration": 7,
    "start_time": "2023-09-06T12:29:12.147Z"
   },
   {
    "duration": 33,
    "start_time": "2023-09-06T12:29:12.155Z"
   },
   {
    "duration": 20,
    "start_time": "2023-09-06T12:29:12.190Z"
   },
   {
    "duration": 15,
    "start_time": "2023-09-06T12:29:12.212Z"
   },
   {
    "duration": 37,
    "start_time": "2023-09-06T12:29:12.228Z"
   },
   {
    "duration": 387,
    "start_time": "2023-09-06T12:29:12.266Z"
   },
   {
    "duration": 4,
    "start_time": "2023-09-06T12:29:12.654Z"
   },
   {
    "duration": 189,
    "start_time": "2023-09-06T12:29:12.660Z"
   },
   {
    "duration": 6,
    "start_time": "2023-09-06T12:29:12.851Z"
   },
   {
    "duration": 8,
    "start_time": "2023-09-06T12:29:12.859Z"
   },
   {
    "duration": 25,
    "start_time": "2023-09-06T12:29:12.869Z"
   },
   {
    "duration": 45,
    "start_time": "2023-09-06T12:29:12.895Z"
   },
   {
    "duration": 17,
    "start_time": "2023-09-06T12:29:12.945Z"
   },
   {
    "duration": 12,
    "start_time": "2023-09-06T12:29:12.964Z"
   },
   {
    "duration": 41,
    "start_time": "2023-09-06T12:29:12.977Z"
   },
   {
    "duration": 31,
    "start_time": "2023-09-06T12:29:13.019Z"
   },
   {
    "duration": 364,
    "start_time": "2023-09-06T12:29:40.601Z"
   },
   {
    "duration": 54,
    "start_time": "2023-09-06T12:29:40.966Z"
   },
   {
    "duration": 33,
    "start_time": "2023-09-06T12:29:41.021Z"
   },
   {
    "duration": 15,
    "start_time": "2023-09-06T12:29:41.056Z"
   },
   {
    "duration": 3,
    "start_time": "2023-09-06T12:29:41.074Z"
   },
   {
    "duration": 14,
    "start_time": "2023-09-06T12:29:41.079Z"
   },
   {
    "duration": 7,
    "start_time": "2023-09-06T12:29:41.095Z"
   },
   {
    "duration": 44,
    "start_time": "2023-09-06T12:29:41.104Z"
   },
   {
    "duration": 10,
    "start_time": "2023-09-06T12:29:41.151Z"
   },
   {
    "duration": 10,
    "start_time": "2023-09-06T12:29:41.162Z"
   },
   {
    "duration": 17,
    "start_time": "2023-09-06T12:29:41.174Z"
   },
   {
    "duration": 395,
    "start_time": "2023-09-06T12:29:41.192Z"
   },
   {
    "duration": 5,
    "start_time": "2023-09-06T12:29:41.588Z"
   },
   {
    "duration": 160,
    "start_time": "2023-09-06T12:29:41.595Z"
   },
   {
    "duration": 5,
    "start_time": "2023-09-06T12:29:41.756Z"
   },
   {
    "duration": 7,
    "start_time": "2023-09-06T12:29:41.762Z"
   },
   {
    "duration": 12,
    "start_time": "2023-09-06T12:29:41.770Z"
   },
   {
    "duration": 19,
    "start_time": "2023-09-06T12:29:41.784Z"
   },
   {
    "duration": 48,
    "start_time": "2023-09-06T12:29:41.805Z"
   },
   {
    "duration": 20,
    "start_time": "2023-09-06T12:29:41.854Z"
   },
   {
    "duration": 34,
    "start_time": "2023-09-06T12:29:41.876Z"
   },
   {
    "duration": 42,
    "start_time": "2023-09-06T12:29:41.911Z"
   },
   {
    "duration": 17,
    "start_time": "2023-09-06T12:37:48.297Z"
   },
   {
    "duration": 86,
    "start_time": "2023-09-06T12:38:05.247Z"
   },
   {
    "duration": 19,
    "start_time": "2023-09-06T12:38:12.696Z"
   },
   {
    "duration": 20,
    "start_time": "2023-09-06T12:38:36.580Z"
   },
   {
    "duration": 16,
    "start_time": "2023-09-06T12:38:53.002Z"
   },
   {
    "duration": 15,
    "start_time": "2023-09-06T12:39:50.649Z"
   },
   {
    "duration": 15,
    "start_time": "2023-09-06T12:42:31.595Z"
   },
   {
    "duration": 67,
    "start_time": "2023-09-06T12:44:57.578Z"
   },
   {
    "duration": 380,
    "start_time": "2023-09-06T12:45:19.870Z"
   },
   {
    "duration": 53,
    "start_time": "2023-09-06T12:45:20.252Z"
   },
   {
    "duration": 24,
    "start_time": "2023-09-06T12:45:20.307Z"
   },
   {
    "duration": 15,
    "start_time": "2023-09-06T12:45:20.332Z"
   },
   {
    "duration": 16,
    "start_time": "2023-09-06T12:45:20.349Z"
   },
   {
    "duration": 24,
    "start_time": "2023-09-06T12:45:20.366Z"
   },
   {
    "duration": 7,
    "start_time": "2023-09-06T12:45:20.391Z"
   },
   {
    "duration": 44,
    "start_time": "2023-09-06T12:45:20.400Z"
   },
   {
    "duration": 104,
    "start_time": "2023-09-06T12:45:20.445Z"
   },
   {
    "duration": 28,
    "start_time": "2023-09-06T12:45:20.551Z"
   },
   {
    "duration": 35,
    "start_time": "2023-09-06T12:45:20.580Z"
   },
   {
    "duration": 363,
    "start_time": "2023-09-06T12:45:20.617Z"
   },
   {
    "duration": 3,
    "start_time": "2023-09-06T12:45:20.982Z"
   },
   {
    "duration": 153,
    "start_time": "2023-09-06T12:45:20.988Z"
   },
   {
    "duration": 4,
    "start_time": "2023-09-06T12:45:21.143Z"
   },
   {
    "duration": 8,
    "start_time": "2023-09-06T12:45:21.148Z"
   },
   {
    "duration": 24,
    "start_time": "2023-09-06T12:45:21.157Z"
   },
   {
    "duration": 21,
    "start_time": "2023-09-06T12:45:21.183Z"
   },
   {
    "duration": 19,
    "start_time": "2023-09-06T12:45:21.205Z"
   },
   {
    "duration": 11,
    "start_time": "2023-09-06T12:45:21.225Z"
   },
   {
    "duration": 19,
    "start_time": "2023-09-06T12:45:21.237Z"
   },
   {
    "duration": 9,
    "start_time": "2023-09-06T12:45:21.257Z"
   },
   {
    "duration": 145,
    "start_time": "2023-09-06T12:45:21.268Z"
   },
   {
    "duration": 24,
    "start_time": "2023-09-06T12:45:21.415Z"
   },
   {
    "duration": 64,
    "start_time": "2023-09-06T12:48:07.609Z"
   },
   {
    "duration": 9,
    "start_time": "2023-09-06T12:48:15.342Z"
   },
   {
    "duration": 7,
    "start_time": "2023-09-06T12:48:18.109Z"
   },
   {
    "duration": 9,
    "start_time": "2023-09-06T12:48:39.159Z"
   },
   {
    "duration": 7,
    "start_time": "2023-09-06T12:48:50.775Z"
   },
   {
    "duration": 9,
    "start_time": "2023-09-06T12:50:37.509Z"
   },
   {
    "duration": 7,
    "start_time": "2023-09-06T13:05:26.288Z"
   },
   {
    "duration": 4,
    "start_time": "2023-09-06T13:05:45.303Z"
   },
   {
    "duration": 8,
    "start_time": "2023-09-06T13:24:12.797Z"
   },
   {
    "duration": 8,
    "start_time": "2023-09-06T13:25:09.779Z"
   },
   {
    "duration": 3,
    "start_time": "2023-09-06T13:25:12.275Z"
   },
   {
    "duration": 1365,
    "start_time": "2023-09-06T13:32:54.460Z"
   },
   {
    "duration": 1640,
    "start_time": "2023-09-06T13:33:36.959Z"
   },
   {
    "duration": 1472,
    "start_time": "2023-09-06T13:34:33.326Z"
   },
   {
    "duration": 1567,
    "start_time": "2023-09-06T13:35:11.477Z"
   },
   {
    "duration": 12,
    "start_time": "2023-09-06T13:36:06.932Z"
   },
   {
    "duration": 20,
    "start_time": "2023-09-06T13:36:32.893Z"
   },
   {
    "duration": 8,
    "start_time": "2023-09-06T13:37:30.327Z"
   },
   {
    "duration": 361,
    "start_time": "2023-09-06T13:38:01.681Z"
   },
   {
    "duration": 57,
    "start_time": "2023-09-06T13:38:02.044Z"
   },
   {
    "duration": 24,
    "start_time": "2023-09-06T13:38:02.103Z"
   },
   {
    "duration": 45,
    "start_time": "2023-09-06T13:38:02.129Z"
   },
   {
    "duration": 116,
    "start_time": "2023-09-06T13:38:02.176Z"
   },
   {
    "duration": 35,
    "start_time": "2023-09-06T13:38:02.293Z"
   },
   {
    "duration": 24,
    "start_time": "2023-09-06T13:38:02.330Z"
   },
   {
    "duration": 18,
    "start_time": "2023-09-06T13:38:02.356Z"
   },
   {
    "duration": 29,
    "start_time": "2023-09-06T13:38:02.376Z"
   },
   {
    "duration": 28,
    "start_time": "2023-09-06T13:38:02.408Z"
   },
   {
    "duration": 13,
    "start_time": "2023-09-06T13:38:02.438Z"
   },
   {
    "duration": 37,
    "start_time": "2023-09-06T13:38:02.453Z"
   },
   {
    "duration": 411,
    "start_time": "2023-09-06T13:38:02.492Z"
   },
   {
    "duration": 4,
    "start_time": "2023-09-06T13:38:02.905Z"
   },
   {
    "duration": 138,
    "start_time": "2023-09-06T13:38:02.910Z"
   },
   {
    "duration": 4,
    "start_time": "2023-09-06T13:38:03.050Z"
   },
   {
    "duration": 21,
    "start_time": "2023-09-06T13:38:03.055Z"
   },
   {
    "duration": 31,
    "start_time": "2023-09-06T13:38:03.077Z"
   },
   {
    "duration": 75,
    "start_time": "2023-09-06T13:38:03.109Z"
   },
   {
    "duration": 78,
    "start_time": "2023-09-06T13:38:03.186Z"
   },
   {
    "duration": 18,
    "start_time": "2023-09-06T13:38:03.265Z"
   },
   {
    "duration": 37,
    "start_time": "2023-09-06T13:38:03.285Z"
   },
   {
    "duration": 41,
    "start_time": "2023-09-06T13:38:03.323Z"
   },
   {
    "duration": 147,
    "start_time": "2023-09-06T13:38:03.366Z"
   },
   {
    "duration": 9,
    "start_time": "2023-09-06T13:38:03.515Z"
   },
   {
    "duration": 18,
    "start_time": "2023-09-06T13:38:03.525Z"
   },
   {
    "duration": 24,
    "start_time": "2023-09-06T13:38:03.545Z"
   },
   {
    "duration": 87,
    "start_time": "2023-09-06T13:38:03.571Z"
   },
   {
    "duration": 0,
    "start_time": "2023-09-06T13:38:03.660Z"
   },
   {
    "duration": 1417,
    "start_time": "2023-09-06T13:39:47.840Z"
   },
   {
    "duration": 7,
    "start_time": "2023-09-06T13:40:14.857Z"
   },
   {
    "duration": 8,
    "start_time": "2023-09-06T13:40:43.064Z"
   },
   {
    "duration": 3,
    "start_time": "2023-09-06T13:42:59.990Z"
   },
   {
    "duration": 177,
    "start_time": "2023-09-06T13:43:05.821Z"
   },
   {
    "duration": 1036,
    "start_time": "2023-09-06T13:43:57.590Z"
   },
   {
    "duration": 51,
    "start_time": "2023-09-06T13:43:58.628Z"
   },
   {
    "duration": 24,
    "start_time": "2023-09-06T13:43:58.681Z"
   },
   {
    "duration": 13,
    "start_time": "2023-09-06T13:43:58.707Z"
   },
   {
    "duration": 4,
    "start_time": "2023-09-06T13:43:58.721Z"
   },
   {
    "duration": 21,
    "start_time": "2023-09-06T13:43:58.726Z"
   },
   {
    "duration": 10,
    "start_time": "2023-09-06T13:43:58.748Z"
   },
   {
    "duration": 13,
    "start_time": "2023-09-06T13:43:58.760Z"
   },
   {
    "duration": 38,
    "start_time": "2023-09-06T13:43:58.774Z"
   },
   {
    "duration": 30,
    "start_time": "2023-09-06T13:43:58.814Z"
   },
   {
    "duration": 17,
    "start_time": "2023-09-06T13:43:58.845Z"
   },
   {
    "duration": 38,
    "start_time": "2023-09-06T13:43:58.864Z"
   },
   {
    "duration": 132,
    "start_time": "2023-09-06T13:43:58.903Z"
   },
   {
    "duration": 4,
    "start_time": "2023-09-06T13:43:59.036Z"
   },
   {
    "duration": 126,
    "start_time": "2023-09-06T13:43:59.041Z"
   },
   {
    "duration": 4,
    "start_time": "2023-09-06T13:43:59.169Z"
   },
   {
    "duration": 7,
    "start_time": "2023-09-06T13:43:59.174Z"
   },
   {
    "duration": 10,
    "start_time": "2023-09-06T13:43:59.182Z"
   },
   {
    "duration": 32,
    "start_time": "2023-09-06T13:43:59.193Z"
   },
   {
    "duration": 21,
    "start_time": "2023-09-06T13:43:59.226Z"
   },
   {
    "duration": 6,
    "start_time": "2023-09-06T13:43:59.248Z"
   },
   {
    "duration": 19,
    "start_time": "2023-09-06T13:43:59.256Z"
   },
   {
    "duration": 11,
    "start_time": "2023-09-06T13:43:59.277Z"
   },
   {
    "duration": 155,
    "start_time": "2023-09-06T13:43:59.289Z"
   },
   {
    "duration": 9,
    "start_time": "2023-09-06T13:43:59.446Z"
   },
   {
    "duration": 8,
    "start_time": "2023-09-06T13:43:59.456Z"
   },
   {
    "duration": 21,
    "start_time": "2023-09-06T13:43:59.465Z"
   },
   {
    "duration": 9,
    "start_time": "2023-09-06T13:43:59.489Z"
   },
   {
    "duration": 863,
    "start_time": "2023-09-06T13:43:59.500Z"
   },
   {
    "duration": 21,
    "start_time": "2023-09-06T15:48:59.010Z"
   },
   {
    "duration": 22,
    "start_time": "2023-09-06T16:20:03.193Z"
   },
   {
    "duration": 90,
    "start_time": "2023-09-06T16:22:08.390Z"
   },
   {
    "duration": 5,
    "start_time": "2023-09-06T16:22:13.966Z"
   },
   {
    "duration": 11,
    "start_time": "2023-09-06T16:22:19.382Z"
   },
   {
    "duration": 21,
    "start_time": "2023-09-06T16:23:21.432Z"
   },
   {
    "duration": 5,
    "start_time": "2023-09-06T16:23:40.082Z"
   },
   {
    "duration": 9,
    "start_time": "2023-09-06T16:26:22.814Z"
   },
   {
    "duration": 26,
    "start_time": "2023-09-06T16:26:32.331Z"
   },
   {
    "duration": 11,
    "start_time": "2023-09-06T16:28:40.397Z"
   },
   {
    "duration": 17,
    "start_time": "2023-09-06T16:28:50.430Z"
   },
   {
    "duration": 12,
    "start_time": "2023-09-06T16:29:16.748Z"
   },
   {
    "duration": 3,
    "start_time": "2023-09-06T16:32:19.745Z"
   },
   {
    "duration": 2182,
    "start_time": "2023-09-06T16:34:34.529Z"
   },
   {
    "duration": 4,
    "start_time": "2023-09-06T16:37:54.482Z"
   },
   {
    "duration": 1157,
    "start_time": "2023-09-06T16:38:00.825Z"
   },
   {
    "duration": 59,
    "start_time": "2023-09-06T16:38:01.984Z"
   },
   {
    "duration": 25,
    "start_time": "2023-09-06T16:38:02.044Z"
   },
   {
    "duration": 97,
    "start_time": "2023-09-06T16:38:02.070Z"
   },
   {
    "duration": 29,
    "start_time": "2023-09-06T16:38:02.169Z"
   },
   {
    "duration": 38,
    "start_time": "2023-09-06T16:38:02.200Z"
   },
   {
    "duration": 36,
    "start_time": "2023-09-06T16:38:02.240Z"
   },
   {
    "duration": 48,
    "start_time": "2023-09-06T16:38:02.277Z"
   },
   {
    "duration": 49,
    "start_time": "2023-09-06T16:38:02.326Z"
   },
   {
    "duration": 61,
    "start_time": "2023-09-06T16:38:02.378Z"
   },
   {
    "duration": 34,
    "start_time": "2023-09-06T16:38:02.441Z"
   },
   {
    "duration": 82,
    "start_time": "2023-09-06T16:38:02.477Z"
   },
   {
    "duration": 192,
    "start_time": "2023-09-06T16:38:02.561Z"
   },
   {
    "duration": 3,
    "start_time": "2023-09-06T16:38:02.756Z"
   },
   {
    "duration": 158,
    "start_time": "2023-09-06T16:38:02.761Z"
   },
   {
    "duration": 4,
    "start_time": "2023-09-06T16:38:02.921Z"
   },
   {
    "duration": 27,
    "start_time": "2023-09-06T16:38:02.933Z"
   },
   {
    "duration": 117,
    "start_time": "2023-09-06T16:38:02.962Z"
   },
   {
    "duration": 25,
    "start_time": "2023-09-06T16:38:03.081Z"
   },
   {
    "duration": 42,
    "start_time": "2023-09-06T16:38:03.108Z"
   },
   {
    "duration": 43,
    "start_time": "2023-09-06T16:38:03.151Z"
   },
   {
    "duration": 34,
    "start_time": "2023-09-06T16:38:03.196Z"
   },
   {
    "duration": 32,
    "start_time": "2023-09-06T16:38:03.231Z"
   },
   {
    "duration": 139,
    "start_time": "2023-09-06T16:38:03.265Z"
   },
   {
    "duration": 10,
    "start_time": "2023-09-06T16:38:03.406Z"
   },
   {
    "duration": 22,
    "start_time": "2023-09-06T16:38:03.418Z"
   },
   {
    "duration": 38,
    "start_time": "2023-09-06T16:38:03.442Z"
   },
   {
    "duration": 26,
    "start_time": "2023-09-06T16:38:03.482Z"
   },
   {
    "duration": 890,
    "start_time": "2023-09-06T16:38:03.510Z"
   },
   {
    "duration": 20,
    "start_time": "2023-09-06T16:38:04.401Z"
   },
   {
    "duration": 13,
    "start_time": "2023-09-06T16:38:04.423Z"
   },
   {
    "duration": 19,
    "start_time": "2023-09-06T16:38:04.438Z"
   },
   {
    "duration": 3,
    "start_time": "2023-09-06T16:38:04.458Z"
   },
   {
    "duration": 133,
    "start_time": "2023-09-06T16:38:04.462Z"
   },
   {
    "duration": 9,
    "start_time": "2023-09-06T16:58:26.913Z"
   },
   {
    "duration": 2123,
    "start_time": "2023-09-06T16:59:16.776Z"
   },
   {
    "duration": 5,
    "start_time": "2023-09-06T16:59:32.553Z"
   },
   {
    "duration": 12,
    "start_time": "2023-09-06T17:00:23.171Z"
   },
   {
    "duration": 1154,
    "start_time": "2023-09-06T17:00:55.901Z"
   },
   {
    "duration": 53,
    "start_time": "2023-09-06T17:00:57.057Z"
   },
   {
    "duration": 21,
    "start_time": "2023-09-06T17:00:57.112Z"
   },
   {
    "duration": 14,
    "start_time": "2023-09-06T17:00:57.134Z"
   },
   {
    "duration": 13,
    "start_time": "2023-09-06T17:00:57.150Z"
   },
   {
    "duration": 22,
    "start_time": "2023-09-06T17:00:57.164Z"
   },
   {
    "duration": 19,
    "start_time": "2023-09-06T17:00:57.187Z"
   },
   {
    "duration": 15,
    "start_time": "2023-09-06T17:00:57.207Z"
   },
   {
    "duration": 13,
    "start_time": "2023-09-06T17:00:57.223Z"
   },
   {
    "duration": 9,
    "start_time": "2023-09-06T17:00:57.237Z"
   },
   {
    "duration": 4,
    "start_time": "2023-09-06T17:00:57.248Z"
   },
   {
    "duration": 26,
    "start_time": "2023-09-06T17:00:57.254Z"
   },
   {
    "duration": 132,
    "start_time": "2023-09-06T17:00:57.282Z"
   },
   {
    "duration": 4,
    "start_time": "2023-09-06T17:00:57.417Z"
   },
   {
    "duration": 132,
    "start_time": "2023-09-06T17:00:57.422Z"
   },
   {
    "duration": 5,
    "start_time": "2023-09-06T17:00:57.556Z"
   },
   {
    "duration": 35,
    "start_time": "2023-09-06T17:00:57.563Z"
   },
   {
    "duration": 37,
    "start_time": "2023-09-06T17:00:57.600Z"
   },
   {
    "duration": 41,
    "start_time": "2023-09-06T17:00:57.639Z"
   },
   {
    "duration": 33,
    "start_time": "2023-09-06T17:00:57.682Z"
   },
   {
    "duration": 25,
    "start_time": "2023-09-06T17:00:57.716Z"
   },
   {
    "duration": 41,
    "start_time": "2023-09-06T17:00:57.743Z"
   },
   {
    "duration": 33,
    "start_time": "2023-09-06T17:00:57.785Z"
   },
   {
    "duration": 150,
    "start_time": "2023-09-06T17:00:57.820Z"
   },
   {
    "duration": 9,
    "start_time": "2023-09-06T17:00:57.972Z"
   },
   {
    "duration": 14,
    "start_time": "2023-09-06T17:00:57.982Z"
   },
   {
    "duration": 24,
    "start_time": "2023-09-06T17:00:57.998Z"
   },
   {
    "duration": 5,
    "start_time": "2023-09-06T17:00:58.024Z"
   },
   {
    "duration": 865,
    "start_time": "2023-09-06T17:00:58.030Z"
   },
   {
    "duration": 22,
    "start_time": "2023-09-06T17:00:58.896Z"
   },
   {
    "duration": 15,
    "start_time": "2023-09-06T17:00:58.920Z"
   },
   {
    "duration": 13,
    "start_time": "2023-09-06T17:00:58.937Z"
   },
   {
    "duration": 4,
    "start_time": "2023-09-06T17:00:58.951Z"
   },
   {
    "duration": 114,
    "start_time": "2023-09-06T17:00:58.957Z"
   },
   {
    "duration": 16,
    "start_time": "2023-09-06T17:01:17.387Z"
   },
   {
    "duration": 1684,
    "start_time": "2023-09-07T11:04:13.934Z"
   },
   {
    "duration": 199,
    "start_time": "2023-09-07T11:04:15.620Z"
   },
   {
    "duration": 27,
    "start_time": "2023-09-07T11:04:15.821Z"
   },
   {
    "duration": 17,
    "start_time": "2023-09-07T11:04:15.851Z"
   },
   {
    "duration": 4,
    "start_time": "2023-09-07T11:04:15.871Z"
   },
   {
    "duration": 24,
    "start_time": "2023-09-07T11:04:15.877Z"
   },
   {
    "duration": 9,
    "start_time": "2023-09-07T11:04:15.904Z"
   },
   {
    "duration": 7,
    "start_time": "2023-09-07T11:04:15.915Z"
   },
   {
    "duration": 35,
    "start_time": "2023-09-07T11:04:15.924Z"
   },
   {
    "duration": 9,
    "start_time": "2023-09-07T11:04:15.962Z"
   },
   {
    "duration": 5,
    "start_time": "2023-09-07T11:04:15.973Z"
   },
   {
    "duration": 7,
    "start_time": "2023-09-07T11:04:15.980Z"
   },
   {
    "duration": 170,
    "start_time": "2023-09-07T11:04:15.989Z"
   },
   {
    "duration": 5,
    "start_time": "2023-09-07T11:04:16.162Z"
   },
   {
    "duration": 147,
    "start_time": "2023-09-07T11:04:16.168Z"
   },
   {
    "duration": 5,
    "start_time": "2023-09-07T11:04:16.316Z"
   },
   {
    "duration": 17,
    "start_time": "2023-09-07T11:04:16.324Z"
   },
   {
    "duration": 20,
    "start_time": "2023-09-07T11:04:16.343Z"
   },
   {
    "duration": 24,
    "start_time": "2023-09-07T11:04:16.365Z"
   },
   {
    "duration": 19,
    "start_time": "2023-09-07T11:04:16.391Z"
   },
   {
    "duration": 14,
    "start_time": "2023-09-07T11:04:16.412Z"
   },
   {
    "duration": 47,
    "start_time": "2023-09-07T11:04:16.428Z"
   },
   {
    "duration": 14,
    "start_time": "2023-09-07T11:04:16.477Z"
   },
   {
    "duration": 173,
    "start_time": "2023-09-07T11:04:16.493Z"
   },
   {
    "duration": 11,
    "start_time": "2023-09-07T11:04:16.668Z"
   },
   {
    "duration": 22,
    "start_time": "2023-09-07T11:04:16.681Z"
   },
   {
    "duration": 22,
    "start_time": "2023-09-07T11:04:16.705Z"
   },
   {
    "duration": 10,
    "start_time": "2023-09-07T11:04:16.729Z"
   },
   {
    "duration": 989,
    "start_time": "2023-09-07T11:04:16.740Z"
   },
   {
    "duration": 31,
    "start_time": "2023-09-07T11:04:17.731Z"
   },
   {
    "duration": 4,
    "start_time": "2023-09-07T11:04:17.764Z"
   },
   {
    "duration": 36,
    "start_time": "2023-09-07T11:04:17.770Z"
   },
   {
    "duration": 8,
    "start_time": "2023-09-07T11:04:17.807Z"
   },
   {
    "duration": 114,
    "start_time": "2023-09-07T11:04:17.817Z"
   },
   {
    "duration": 11,
    "start_time": "2023-09-07T11:05:02.861Z"
   },
   {
    "duration": 24,
    "start_time": "2023-09-07T11:05:53.136Z"
   },
   {
    "duration": 23,
    "start_time": "2023-09-07T11:06:30.303Z"
   },
   {
    "duration": 12,
    "start_time": "2023-09-07T11:16:19.115Z"
   },
   {
    "duration": 1378,
    "start_time": "2023-09-07T11:16:29.825Z"
   },
   {
    "duration": 60,
    "start_time": "2023-09-07T11:16:31.205Z"
   },
   {
    "duration": 26,
    "start_time": "2023-09-07T11:16:31.267Z"
   },
   {
    "duration": 53,
    "start_time": "2023-09-07T11:16:31.295Z"
   },
   {
    "duration": 60,
    "start_time": "2023-09-07T11:16:31.350Z"
   },
   {
    "duration": 100,
    "start_time": "2023-09-07T11:16:31.412Z"
   },
   {
    "duration": 52,
    "start_time": "2023-09-07T11:16:31.514Z"
   },
   {
    "duration": 55,
    "start_time": "2023-09-07T11:16:31.568Z"
   },
   {
    "duration": 49,
    "start_time": "2023-09-07T11:16:31.625Z"
   },
   {
    "duration": 43,
    "start_time": "2023-09-07T11:16:31.676Z"
   },
   {
    "duration": 267,
    "start_time": "2023-09-07T11:16:31.721Z"
   },
   {
    "duration": 69,
    "start_time": "2023-09-07T11:16:31.990Z"
   },
   {
    "duration": 169,
    "start_time": "2023-09-07T11:16:32.061Z"
   },
   {
    "duration": 4,
    "start_time": "2023-09-07T11:16:32.233Z"
   },
   {
    "duration": 251,
    "start_time": "2023-09-07T11:16:32.239Z"
   },
   {
    "duration": 5,
    "start_time": "2023-09-07T11:16:32.492Z"
   },
   {
    "duration": 36,
    "start_time": "2023-09-07T11:16:32.499Z"
   },
   {
    "duration": 29,
    "start_time": "2023-09-07T11:16:32.537Z"
   },
   {
    "duration": 45,
    "start_time": "2023-09-07T11:16:32.568Z"
   },
   {
    "duration": 59,
    "start_time": "2023-09-07T11:16:32.615Z"
   },
   {
    "duration": 16,
    "start_time": "2023-09-07T11:16:32.676Z"
   },
   {
    "duration": 52,
    "start_time": "2023-09-07T11:16:32.694Z"
   },
   {
    "duration": 16,
    "start_time": "2023-09-07T11:16:32.748Z"
   },
   {
    "duration": 184,
    "start_time": "2023-09-07T11:16:32.765Z"
   },
   {
    "duration": 15,
    "start_time": "2023-09-07T11:16:32.951Z"
   },
   {
    "duration": 10,
    "start_time": "2023-09-07T11:16:32.968Z"
   },
   {
    "duration": 24,
    "start_time": "2023-09-07T11:16:32.980Z"
   },
   {
    "duration": 37,
    "start_time": "2023-09-07T11:16:33.007Z"
   },
   {
    "duration": 1090,
    "start_time": "2023-09-07T11:16:33.046Z"
   },
   {
    "duration": 29,
    "start_time": "2023-09-07T11:16:34.138Z"
   },
   {
    "duration": 4,
    "start_time": "2023-09-07T11:16:34.169Z"
   },
   {
    "duration": 17,
    "start_time": "2023-09-07T11:16:34.175Z"
   },
   {
    "duration": 12,
    "start_time": "2023-09-07T11:16:34.194Z"
   },
   {
    "duration": 1746,
    "start_time": "2023-09-07T11:16:34.208Z"
   },
   {
    "duration": 6,
    "start_time": "2023-09-07T11:33:56.332Z"
   },
   {
    "duration": 106,
    "start_time": "2023-09-07T11:35:27.814Z"
   },
   {
    "duration": 14,
    "start_time": "2023-09-07T11:35:43.005Z"
   },
   {
    "duration": 16,
    "start_time": "2023-09-07T11:36:18.086Z"
   },
   {
    "duration": 15,
    "start_time": "2023-09-07T11:36:42.381Z"
   },
   {
    "duration": 10,
    "start_time": "2023-09-07T11:38:08.562Z"
   },
   {
    "duration": 16,
    "start_time": "2023-09-07T11:38:16.945Z"
   },
   {
    "duration": 425,
    "start_time": "2023-09-07T11:41:18.846Z"
   },
   {
    "duration": 17,
    "start_time": "2023-09-07T12:58:12.910Z"
   },
   {
    "duration": 117,
    "start_time": "2023-09-07T12:58:30.963Z"
   },
   {
    "duration": 11,
    "start_time": "2023-09-07T12:58:47.127Z"
   },
   {
    "duration": 26,
    "start_time": "2023-09-07T12:59:21.399Z"
   },
   {
    "duration": 10,
    "start_time": "2023-09-07T13:03:47.294Z"
   },
   {
    "duration": 7,
    "start_time": "2023-09-07T13:03:54.612Z"
   },
   {
    "duration": 171,
    "start_time": "2023-09-07T13:03:57.595Z"
   },
   {
    "duration": 6,
    "start_time": "2023-09-07T13:15:17.415Z"
   },
   {
    "duration": 149,
    "start_time": "2023-09-07T13:19:16.141Z"
   },
   {
    "duration": 6,
    "start_time": "2023-09-07T13:19:44.284Z"
   },
   {
    "duration": 147,
    "start_time": "2023-09-07T13:20:22.884Z"
   },
   {
    "duration": 5,
    "start_time": "2023-09-07T13:20:51.539Z"
   },
   {
    "duration": 8,
    "start_time": "2023-09-07T13:27:09.852Z"
   },
   {
    "duration": 19,
    "start_time": "2023-09-07T13:32:28.101Z"
   },
   {
    "duration": 17,
    "start_time": "2023-09-07T13:32:46.802Z"
   },
   {
    "duration": 18,
    "start_time": "2023-09-07T13:33:10.352Z"
   },
   {
    "duration": 436,
    "start_time": "2023-09-07T13:37:14.769Z"
   },
   {
    "duration": 342,
    "start_time": "2023-09-07T13:37:30.271Z"
   },
   {
    "duration": 303,
    "start_time": "2023-09-07T13:38:18.482Z"
   },
   {
    "duration": 17,
    "start_time": "2023-09-07T13:38:32.150Z"
   },
   {
    "duration": 375,
    "start_time": "2023-09-07T13:39:16.198Z"
   },
   {
    "duration": 26,
    "start_time": "2023-09-07T13:53:00.351Z"
   },
   {
    "duration": 10,
    "start_time": "2023-09-07T13:54:47.270Z"
   },
   {
    "duration": 14,
    "start_time": "2023-09-07T13:54:52.602Z"
   },
   {
    "duration": 15,
    "start_time": "2023-09-07T13:55:22.311Z"
   },
   {
    "duration": 26,
    "start_time": "2023-09-07T13:57:00.445Z"
   },
   {
    "duration": 18,
    "start_time": "2023-09-07T14:03:03.601Z"
   },
   {
    "duration": 16,
    "start_time": "2023-09-07T14:03:18.810Z"
   },
   {
    "duration": 19,
    "start_time": "2023-09-07T14:03:43.941Z"
   },
   {
    "duration": 18,
    "start_time": "2023-09-07T14:04:00.700Z"
   },
   {
    "duration": 21,
    "start_time": "2023-09-07T14:04:20.508Z"
   },
   {
    "duration": 16,
    "start_time": "2023-09-07T14:18:34.502Z"
   },
   {
    "duration": 23,
    "start_time": "2023-09-07T14:19:11.752Z"
   },
   {
    "duration": 15,
    "start_time": "2023-09-07T14:19:14.603Z"
   },
   {
    "duration": 16,
    "start_time": "2023-09-07T14:32:09.276Z"
   },
   {
    "duration": 17,
    "start_time": "2023-09-07T14:32:23.014Z"
   },
   {
    "duration": 16,
    "start_time": "2023-09-07T14:32:37.115Z"
   },
   {
    "duration": 16,
    "start_time": "2023-09-07T14:32:52.098Z"
   },
   {
    "duration": 21,
    "start_time": "2023-09-07T14:32:54.448Z"
   },
   {
    "duration": 1283,
    "start_time": "2023-09-07T14:46:52.521Z"
   },
   {
    "duration": 65,
    "start_time": "2023-09-07T14:46:53.807Z"
   },
   {
    "duration": 28,
    "start_time": "2023-09-07T14:46:53.874Z"
   },
   {
    "duration": 17,
    "start_time": "2023-09-07T14:46:53.903Z"
   },
   {
    "duration": 3,
    "start_time": "2023-09-07T14:46:53.922Z"
   },
   {
    "duration": 44,
    "start_time": "2023-09-07T14:46:53.927Z"
   },
   {
    "duration": 11,
    "start_time": "2023-09-07T14:46:53.973Z"
   },
   {
    "duration": 28,
    "start_time": "2023-09-07T14:46:53.986Z"
   },
   {
    "duration": 21,
    "start_time": "2023-09-07T14:46:54.016Z"
   },
   {
    "duration": 30,
    "start_time": "2023-09-07T14:46:54.040Z"
   },
   {
    "duration": 26,
    "start_time": "2023-09-07T14:46:54.072Z"
   },
   {
    "duration": 29,
    "start_time": "2023-09-07T14:46:54.100Z"
   },
   {
    "duration": 16,
    "start_time": "2023-09-07T14:46:54.131Z"
   },
   {
    "duration": 33,
    "start_time": "2023-09-07T14:46:54.152Z"
   },
   {
    "duration": 21,
    "start_time": "2023-09-07T14:46:54.188Z"
   },
   {
    "duration": 9,
    "start_time": "2023-09-07T14:46:54.210Z"
   },
   {
    "duration": 26,
    "start_time": "2023-09-07T14:46:54.221Z"
   },
   {
    "duration": 20,
    "start_time": "2023-09-07T14:46:54.249Z"
   },
   {
    "duration": 196,
    "start_time": "2023-09-07T14:46:54.271Z"
   },
   {
    "duration": 11,
    "start_time": "2023-09-07T14:46:54.469Z"
   },
   {
    "duration": 23,
    "start_time": "2023-09-07T14:46:54.482Z"
   },
   {
    "duration": 16,
    "start_time": "2023-09-07T14:46:54.506Z"
   },
   {
    "duration": 11,
    "start_time": "2023-09-07T14:46:54.523Z"
   },
   {
    "duration": 1058,
    "start_time": "2023-09-07T14:46:54.535Z"
   },
   {
    "duration": 27,
    "start_time": "2023-09-07T14:46:55.595Z"
   },
   {
    "duration": 3,
    "start_time": "2023-09-07T14:46:55.624Z"
   },
   {
    "duration": 42,
    "start_time": "2023-09-07T14:46:55.629Z"
   },
   {
    "duration": 5,
    "start_time": "2023-09-07T14:46:55.673Z"
   },
   {
    "duration": 1790,
    "start_time": "2023-09-07T14:46:55.680Z"
   },
   {
    "duration": 15,
    "start_time": "2023-09-07T14:46:57.472Z"
   },
   {
    "duration": 329,
    "start_time": "2023-09-07T14:46:57.488Z"
   },
   {
    "duration": 7,
    "start_time": "2023-09-07T14:46:57.819Z"
   },
   {
    "duration": 175,
    "start_time": "2023-09-07T14:46:57.828Z"
   },
   {
    "duration": 5,
    "start_time": "2023-09-07T14:46:58.006Z"
   },
   {
    "duration": 194,
    "start_time": "2023-09-07T14:46:58.013Z"
   },
   {
    "duration": 5,
    "start_time": "2023-09-07T14:46:58.209Z"
   },
   {
    "duration": 180,
    "start_time": "2023-09-07T14:46:58.216Z"
   },
   {
    "duration": 6,
    "start_time": "2023-09-07T14:46:58.397Z"
   },
   {
    "duration": 12,
    "start_time": "2023-09-07T14:46:58.404Z"
   },
   {
    "duration": 24,
    "start_time": "2023-09-07T14:46:58.418Z"
   },
   {
    "duration": 417,
    "start_time": "2023-09-07T14:46:58.457Z"
   },
   {
    "duration": 40,
    "start_time": "2023-09-07T14:46:58.877Z"
   },
   {
    "duration": 20,
    "start_time": "2023-09-07T14:46:58.920Z"
   },
   {
    "duration": 32,
    "start_time": "2023-09-07T14:46:58.942Z"
   },
   {
    "duration": 30,
    "start_time": "2023-09-07T14:46:58.976Z"
   },
   {
    "duration": 20,
    "start_time": "2023-09-07T14:46:59.008Z"
   },
   {
    "duration": 33,
    "start_time": "2023-09-07T14:46:59.030Z"
   },
   {
    "duration": 21,
    "start_time": "2023-09-07T14:46:59.065Z"
   },
   {
    "duration": 42,
    "start_time": "2023-09-07T14:46:59.088Z"
   },
   {
    "duration": 18,
    "start_time": "2023-09-07T14:46:59.132Z"
   },
   {
    "duration": 27,
    "start_time": "2023-09-07T14:46:59.156Z"
   },
   {
    "duration": 6,
    "start_time": "2023-09-07T15:30:11.847Z"
   },
   {
    "duration": 5,
    "start_time": "2023-09-07T15:30:52.871Z"
   },
   {
    "duration": 114,
    "start_time": "2023-09-07T15:31:48.290Z"
   },
   {
    "duration": 7,
    "start_time": "2023-09-07T15:31:50.704Z"
   },
   {
    "duration": 13,
    "start_time": "2023-09-07T15:31:51.356Z"
   },
   {
    "duration": 1381,
    "start_time": "2023-09-07T15:37:47.953Z"
   },
   {
    "duration": 67,
    "start_time": "2023-09-07T15:37:49.336Z"
   },
   {
    "duration": 24,
    "start_time": "2023-09-07T15:37:49.405Z"
   },
   {
    "duration": 15,
    "start_time": "2023-09-07T15:37:49.431Z"
   },
   {
    "duration": 21,
    "start_time": "2023-09-07T15:37:49.449Z"
   },
   {
    "duration": 18,
    "start_time": "2023-09-07T15:37:49.472Z"
   },
   {
    "duration": 15,
    "start_time": "2023-09-07T15:37:49.492Z"
   },
   {
    "duration": 16,
    "start_time": "2023-09-07T15:37:49.509Z"
   },
   {
    "duration": 19,
    "start_time": "2023-09-07T15:37:49.527Z"
   },
   {
    "duration": 21,
    "start_time": "2023-09-07T15:37:49.548Z"
   },
   {
    "duration": 6,
    "start_time": "2023-09-07T15:37:49.571Z"
   },
   {
    "duration": 12,
    "start_time": "2023-09-07T15:37:49.579Z"
   },
   {
    "duration": 39,
    "start_time": "2023-09-07T15:37:49.592Z"
   },
   {
    "duration": 4,
    "start_time": "2023-09-07T15:37:49.635Z"
   },
   {
    "duration": 35,
    "start_time": "2023-09-07T15:37:49.641Z"
   },
   {
    "duration": 22,
    "start_time": "2023-09-07T15:37:49.678Z"
   },
   {
    "duration": 17,
    "start_time": "2023-09-07T15:37:49.701Z"
   },
   {
    "duration": 51,
    "start_time": "2023-09-07T15:37:49.720Z"
   },
   {
    "duration": 14,
    "start_time": "2023-09-07T15:37:49.773Z"
   },
   {
    "duration": 192,
    "start_time": "2023-09-07T15:37:49.789Z"
   },
   {
    "duration": 12,
    "start_time": "2023-09-07T15:37:49.982Z"
   },
   {
    "duration": 10,
    "start_time": "2023-09-07T15:37:49.996Z"
   },
   {
    "duration": 29,
    "start_time": "2023-09-07T15:37:50.007Z"
   },
   {
    "duration": 12,
    "start_time": "2023-09-07T15:37:50.038Z"
   },
   {
    "duration": 1044,
    "start_time": "2023-09-07T15:37:50.052Z"
   },
   {
    "duration": 25,
    "start_time": "2023-09-07T15:37:51.098Z"
   },
   {
    "duration": 3,
    "start_time": "2023-09-07T15:37:51.126Z"
   },
   {
    "duration": 51,
    "start_time": "2023-09-07T15:37:51.131Z"
   },
   {
    "duration": 5,
    "start_time": "2023-09-07T15:37:51.184Z"
   },
   {
    "duration": 1715,
    "start_time": "2023-09-07T15:37:51.191Z"
   },
   {
    "duration": 16,
    "start_time": "2023-09-07T15:37:52.908Z"
   },
   {
    "duration": 321,
    "start_time": "2023-09-07T15:37:52.926Z"
   },
   {
    "duration": 10,
    "start_time": "2023-09-07T15:37:53.257Z"
   },
   {
    "duration": 171,
    "start_time": "2023-09-07T15:37:53.269Z"
   },
   {
    "duration": 6,
    "start_time": "2023-09-07T15:37:53.441Z"
   },
   {
    "duration": 166,
    "start_time": "2023-09-07T15:37:53.456Z"
   },
   {
    "duration": 5,
    "start_time": "2023-09-07T15:37:53.623Z"
   },
   {
    "duration": 182,
    "start_time": "2023-09-07T15:37:53.630Z"
   },
   {
    "duration": 5,
    "start_time": "2023-09-07T15:37:53.814Z"
   },
   {
    "duration": 19,
    "start_time": "2023-09-07T15:37:53.820Z"
   },
   {
    "duration": 37,
    "start_time": "2023-09-07T15:37:53.843Z"
   },
   {
    "duration": 386,
    "start_time": "2023-09-07T15:37:53.882Z"
   },
   {
    "duration": 27,
    "start_time": "2023-09-07T15:37:54.270Z"
   },
   {
    "duration": 17,
    "start_time": "2023-09-07T15:37:54.299Z"
   },
   {
    "duration": 16,
    "start_time": "2023-09-07T15:37:54.318Z"
   },
   {
    "duration": 46,
    "start_time": "2023-09-07T15:37:54.336Z"
   },
   {
    "duration": 16,
    "start_time": "2023-09-07T15:37:54.384Z"
   },
   {
    "duration": 19,
    "start_time": "2023-09-07T15:37:54.402Z"
   },
   {
    "duration": 44,
    "start_time": "2023-09-07T15:37:54.423Z"
   },
   {
    "duration": 40,
    "start_time": "2023-09-07T15:37:54.471Z"
   },
   {
    "duration": 18,
    "start_time": "2023-09-07T15:37:54.514Z"
   },
   {
    "duration": 15,
    "start_time": "2023-09-07T15:37:54.534Z"
   },
   {
    "duration": 23,
    "start_time": "2023-09-07T15:37:54.550Z"
   },
   {
    "duration": 15,
    "start_time": "2023-09-07T15:37:54.575Z"
   },
   {
    "duration": 11,
    "start_time": "2023-09-07T15:37:54.591Z"
   },
   {
    "duration": 13,
    "start_time": "2023-09-07T15:37:54.604Z"
   },
   {
    "duration": 10,
    "start_time": "2023-09-07T15:37:54.618Z"
   },
   {
    "duration": 14,
    "start_time": "2023-09-07T15:37:54.630Z"
   },
   {
    "duration": 6,
    "start_time": "2023-09-07T15:46:13.545Z"
   },
   {
    "duration": 25,
    "start_time": "2023-09-07T15:46:20.870Z"
   },
   {
    "duration": 6,
    "start_time": "2023-09-07T15:46:40.096Z"
   },
   {
    "duration": 6,
    "start_time": "2023-09-07T15:46:40.946Z"
   },
   {
    "duration": 7,
    "start_time": "2023-09-07T15:46:53.797Z"
   },
   {
    "duration": 25,
    "start_time": "2023-09-07T15:46:55.296Z"
   },
   {
    "duration": 7,
    "start_time": "2023-09-07T15:47:31.688Z"
   },
   {
    "duration": 24,
    "start_time": "2023-09-07T15:47:32.196Z"
   },
   {
    "duration": 114,
    "start_time": "2023-09-07T15:48:06.137Z"
   },
   {
    "duration": 24,
    "start_time": "2023-09-07T15:48:09.170Z"
   },
   {
    "duration": 3,
    "start_time": "2023-09-07T15:48:09.683Z"
   },
   {
    "duration": 14,
    "start_time": "2023-09-07T15:48:40.653Z"
   },
   {
    "duration": 6,
    "start_time": "2023-09-07T15:48:41.296Z"
   },
   {
    "duration": 8,
    "start_time": "2023-09-07T15:48:43.370Z"
   },
   {
    "duration": 6,
    "start_time": "2023-09-07T15:48:43.813Z"
   },
   {
    "duration": 2,
    "start_time": "2023-09-07T15:48:44.697Z"
   },
   {
    "duration": 6,
    "start_time": "2023-09-07T15:48:45.313Z"
   },
   {
    "duration": 6,
    "start_time": "2023-09-07T15:49:05.696Z"
   },
   {
    "duration": 5,
    "start_time": "2023-09-07T15:50:05.919Z"
   },
   {
    "duration": 6,
    "start_time": "2023-09-07T15:50:16.045Z"
   },
   {
    "duration": 5,
    "start_time": "2023-09-07T15:51:45.470Z"
   },
   {
    "duration": 5,
    "start_time": "2023-09-07T15:52:44.967Z"
   },
   {
    "duration": 6,
    "start_time": "2023-09-07T15:52:47.294Z"
   },
   {
    "duration": 5,
    "start_time": "2023-09-07T15:52:48.026Z"
   },
   {
    "duration": 3,
    "start_time": "2023-09-07T15:53:30.644Z"
   },
   {
    "duration": 6,
    "start_time": "2023-09-07T15:53:32.027Z"
   },
   {
    "duration": 2,
    "start_time": "2023-09-07T15:53:43.170Z"
   },
   {
    "duration": 5,
    "start_time": "2023-09-07T15:53:44.270Z"
   },
   {
    "duration": 2,
    "start_time": "2023-09-07T15:53:51.044Z"
   },
   {
    "duration": 6,
    "start_time": "2023-09-07T15:53:51.595Z"
   },
   {
    "duration": 12,
    "start_time": "2023-09-07T15:56:00.493Z"
   },
   {
    "duration": 5,
    "start_time": "2023-09-07T15:57:10.849Z"
   },
   {
    "duration": 3,
    "start_time": "2023-09-07T15:57:19.684Z"
   },
   {
    "duration": 5,
    "start_time": "2023-09-07T15:57:21.027Z"
   },
   {
    "duration": 2,
    "start_time": "2023-09-07T15:57:26.383Z"
   },
   {
    "duration": 6,
    "start_time": "2023-09-07T15:57:26.686Z"
   },
   {
    "duration": 7,
    "start_time": "2023-09-07T15:58:26.487Z"
   },
   {
    "duration": 6,
    "start_time": "2023-09-07T15:58:26.709Z"
   },
   {
    "duration": 8,
    "start_time": "2023-09-07T15:58:27.770Z"
   },
   {
    "duration": 7,
    "start_time": "2023-09-07T15:58:27.985Z"
   },
   {
    "duration": 6,
    "start_time": "2023-09-07T16:00:54.005Z"
   },
   {
    "duration": 6,
    "start_time": "2023-09-07T16:00:54.598Z"
   },
   {
    "duration": 5,
    "start_time": "2023-09-07T16:00:57.870Z"
   },
   {
    "duration": 6,
    "start_time": "2023-09-07T16:00:59.093Z"
   },
   {
    "duration": 3,
    "start_time": "2023-09-07T16:01:02.084Z"
   },
   {
    "duration": 6,
    "start_time": "2023-09-07T16:01:02.470Z"
   },
   {
    "duration": 7,
    "start_time": "2023-09-07T16:10:22.638Z"
   },
   {
    "duration": 7,
    "start_time": "2023-09-07T16:10:23.186Z"
   },
   {
    "duration": 7,
    "start_time": "2023-09-07T16:11:06.672Z"
   },
   {
    "duration": 7,
    "start_time": "2023-09-07T16:11:07.087Z"
   },
   {
    "duration": 11,
    "start_time": "2023-09-07T16:11:51.538Z"
   },
   {
    "duration": 13,
    "start_time": "2023-09-07T16:12:04.456Z"
   },
   {
    "duration": 6,
    "start_time": "2023-09-07T16:12:14.804Z"
   },
   {
    "duration": 5,
    "start_time": "2023-09-07T16:12:46.304Z"
   },
   {
    "duration": 7,
    "start_time": "2023-09-07T16:15:08.027Z"
   },
   {
    "duration": 6,
    "start_time": "2023-09-07T16:15:09.103Z"
   },
   {
    "duration": 5,
    "start_time": "2023-09-07T16:15:10.253Z"
   },
   {
    "duration": 6,
    "start_time": "2023-09-07T16:15:11.086Z"
   },
   {
    "duration": 6,
    "start_time": "2023-09-07T16:15:15.527Z"
   },
   {
    "duration": 1253,
    "start_time": "2023-09-07T19:49:12.558Z"
   },
   {
    "duration": 58,
    "start_time": "2023-09-07T19:49:13.813Z"
   },
   {
    "duration": 23,
    "start_time": "2023-09-07T19:49:13.873Z"
   },
   {
    "duration": 14,
    "start_time": "2023-09-07T19:49:13.898Z"
   },
   {
    "duration": 20,
    "start_time": "2023-09-07T19:49:13.914Z"
   },
   {
    "duration": 33,
    "start_time": "2023-09-07T19:49:13.936Z"
   },
   {
    "duration": 15,
    "start_time": "2023-09-07T19:49:13.971Z"
   },
   {
    "duration": 17,
    "start_time": "2023-09-07T19:49:13.988Z"
   },
   {
    "duration": 29,
    "start_time": "2023-09-07T19:49:14.007Z"
   },
   {
    "duration": 50,
    "start_time": "2023-09-07T19:49:14.038Z"
   },
   {
    "duration": 14,
    "start_time": "2023-09-07T19:49:14.090Z"
   },
   {
    "duration": 20,
    "start_time": "2023-09-07T19:49:14.105Z"
   },
   {
    "duration": 47,
    "start_time": "2023-09-07T19:49:14.127Z"
   },
   {
    "duration": 7,
    "start_time": "2023-09-07T19:49:14.177Z"
   },
   {
    "duration": 42,
    "start_time": "2023-09-07T19:49:14.186Z"
   },
   {
    "duration": 40,
    "start_time": "2023-09-07T19:49:14.230Z"
   },
   {
    "duration": 25,
    "start_time": "2023-09-07T19:49:14.271Z"
   },
   {
    "duration": 31,
    "start_time": "2023-09-07T19:49:14.298Z"
   },
   {
    "duration": 20,
    "start_time": "2023-09-07T19:49:14.330Z"
   },
   {
    "duration": 160,
    "start_time": "2023-09-07T19:49:14.352Z"
   },
   {
    "duration": 12,
    "start_time": "2023-09-07T19:49:14.514Z"
   },
   {
    "duration": 29,
    "start_time": "2023-09-07T19:49:14.528Z"
   },
   {
    "duration": 4,
    "start_time": "2023-09-07T19:49:14.559Z"
   },
   {
    "duration": 11,
    "start_time": "2023-09-07T19:49:14.565Z"
   },
   {
    "duration": 938,
    "start_time": "2023-09-07T19:49:14.578Z"
   },
   {
    "duration": 24,
    "start_time": "2023-09-07T19:49:15.518Z"
   },
   {
    "duration": 14,
    "start_time": "2023-09-07T19:49:15.544Z"
   },
   {
    "duration": 30,
    "start_time": "2023-09-07T19:49:15.559Z"
   },
   {
    "duration": 14,
    "start_time": "2023-09-07T19:49:15.591Z"
   },
   {
    "duration": 1591,
    "start_time": "2023-09-07T19:49:15.607Z"
   },
   {
    "duration": 15,
    "start_time": "2023-09-07T19:49:17.200Z"
   },
   {
    "duration": 288,
    "start_time": "2023-09-07T19:49:17.217Z"
   },
   {
    "duration": 7,
    "start_time": "2023-09-07T19:49:17.508Z"
   },
   {
    "duration": 150,
    "start_time": "2023-09-07T19:49:17.517Z"
   },
   {
    "duration": 6,
    "start_time": "2023-09-07T19:49:17.670Z"
   },
   {
    "duration": 166,
    "start_time": "2023-09-07T19:49:17.678Z"
   },
   {
    "duration": 13,
    "start_time": "2023-09-07T19:49:17.846Z"
   },
   {
    "duration": 221,
    "start_time": "2023-09-07T19:49:17.861Z"
   },
   {
    "duration": 7,
    "start_time": "2023-09-07T19:49:18.084Z"
   },
   {
    "duration": 18,
    "start_time": "2023-09-07T19:49:18.092Z"
   },
   {
    "duration": 37,
    "start_time": "2023-09-07T19:49:18.115Z"
   },
   {
    "duration": 375,
    "start_time": "2023-09-07T19:49:18.154Z"
   },
   {
    "duration": 23,
    "start_time": "2023-09-07T19:49:18.531Z"
   },
   {
    "duration": 33,
    "start_time": "2023-09-07T19:49:18.556Z"
   },
   {
    "duration": 15,
    "start_time": "2023-09-07T19:49:18.591Z"
   },
   {
    "duration": 20,
    "start_time": "2023-09-07T19:49:18.608Z"
   },
   {
    "duration": 22,
    "start_time": "2023-09-07T19:49:18.630Z"
   },
   {
    "duration": 41,
    "start_time": "2023-09-07T19:49:18.653Z"
   },
   {
    "duration": 28,
    "start_time": "2023-09-07T19:49:18.695Z"
   },
   {
    "duration": 17,
    "start_time": "2023-09-07T19:49:18.725Z"
   },
   {
    "duration": 25,
    "start_time": "2023-09-07T19:49:18.744Z"
   },
   {
    "duration": 22,
    "start_time": "2023-09-07T19:49:18.771Z"
   },
   {
    "duration": 7,
    "start_time": "2023-09-07T19:49:18.795Z"
   },
   {
    "duration": 11,
    "start_time": "2023-09-07T19:49:18.804Z"
   },
   {
    "duration": 18,
    "start_time": "2023-09-07T19:49:18.816Z"
   },
   {
    "duration": 13,
    "start_time": "2023-09-07T19:49:18.836Z"
   },
   {
    "duration": 14,
    "start_time": "2023-09-07T19:49:18.851Z"
   },
   {
    "duration": 13,
    "start_time": "2023-09-07T19:49:18.867Z"
   },
   {
    "duration": 8,
    "start_time": "2023-09-07T19:49:18.882Z"
   },
   {
    "duration": 18,
    "start_time": "2023-09-07T19:49:18.892Z"
   },
   {
    "duration": 11,
    "start_time": "2023-09-07T19:49:18.912Z"
   },
   {
    "duration": 23,
    "start_time": "2023-09-07T19:49:18.925Z"
   },
   {
    "duration": 7,
    "start_time": "2023-09-07T19:49:18.950Z"
   },
   {
    "duration": 1298,
    "start_time": "2023-09-08T07:09:20.169Z"
   },
   {
    "duration": 182,
    "start_time": "2023-09-08T07:09:21.469Z"
   },
   {
    "duration": 22,
    "start_time": "2023-09-08T07:09:21.653Z"
   },
   {
    "duration": 14,
    "start_time": "2023-09-08T07:09:21.677Z"
   },
   {
    "duration": 4,
    "start_time": "2023-09-08T07:09:21.693Z"
   },
   {
    "duration": 20,
    "start_time": "2023-09-08T07:09:21.698Z"
   },
   {
    "duration": 18,
    "start_time": "2023-09-08T07:09:21.720Z"
   },
   {
    "duration": 7,
    "start_time": "2023-09-08T07:09:21.740Z"
   },
   {
    "duration": 17,
    "start_time": "2023-09-08T07:09:21.748Z"
   },
   {
    "duration": 9,
    "start_time": "2023-09-08T07:09:21.767Z"
   },
   {
    "duration": 7,
    "start_time": "2023-09-08T07:09:21.778Z"
   },
   {
    "duration": 8,
    "start_time": "2023-09-08T07:09:21.786Z"
   },
   {
    "duration": 28,
    "start_time": "2023-09-08T07:09:21.796Z"
   },
   {
    "duration": 3,
    "start_time": "2023-09-08T07:09:21.827Z"
   },
   {
    "duration": 26,
    "start_time": "2023-09-08T07:09:21.831Z"
   },
   {
    "duration": 23,
    "start_time": "2023-09-08T07:09:21.859Z"
   },
   {
    "duration": 24,
    "start_time": "2023-09-08T07:09:21.883Z"
   },
   {
    "duration": 28,
    "start_time": "2023-09-08T07:09:21.909Z"
   },
   {
    "duration": 22,
    "start_time": "2023-09-08T07:09:21.939Z"
   },
   {
    "duration": 148,
    "start_time": "2023-09-08T07:09:25.595Z"
   },
   {
    "duration": 1488,
    "start_time": "2023-09-08T13:36:41.577Z"
   },
   {
    "duration": 104,
    "start_time": "2023-09-08T13:36:43.067Z"
   },
   {
    "duration": 25,
    "start_time": "2023-09-08T13:36:43.173Z"
   },
   {
    "duration": 15,
    "start_time": "2023-09-08T13:36:43.200Z"
   },
   {
    "duration": 3,
    "start_time": "2023-09-08T13:36:43.217Z"
   },
   {
    "duration": 15,
    "start_time": "2023-09-08T13:36:43.222Z"
   },
   {
    "duration": 9,
    "start_time": "2023-09-08T13:36:43.238Z"
   },
   {
    "duration": 10,
    "start_time": "2023-09-08T13:36:43.249Z"
   },
   {
    "duration": 21,
    "start_time": "2023-09-08T13:36:43.261Z"
   },
   {
    "duration": 12,
    "start_time": "2023-09-08T13:36:43.311Z"
   },
   {
    "duration": 5,
    "start_time": "2023-09-08T13:36:43.325Z"
   },
   {
    "duration": 9,
    "start_time": "2023-09-08T13:36:43.331Z"
   },
   {
    "duration": 10,
    "start_time": "2023-09-08T13:36:43.341Z"
   },
   {
    "duration": 4,
    "start_time": "2023-09-08T13:36:43.353Z"
   },
   {
    "duration": 54,
    "start_time": "2023-09-08T13:36:43.358Z"
   },
   {
    "duration": 20,
    "start_time": "2023-09-08T13:36:43.413Z"
   },
   {
    "duration": 9,
    "start_time": "2023-09-08T13:36:43.435Z"
   },
   {
    "duration": 22,
    "start_time": "2023-09-08T13:36:43.446Z"
   },
   {
    "duration": 13,
    "start_time": "2023-09-08T13:36:43.470Z"
   },
   {
    "duration": 176,
    "start_time": "2023-09-08T13:36:43.510Z"
   },
   {
    "duration": 109,
    "start_time": "2023-09-08T13:36:43.688Z"
   },
   {
    "duration": 0,
    "start_time": "2023-09-08T13:36:43.808Z"
   },
   {
    "duration": 0,
    "start_time": "2023-09-08T13:36:43.810Z"
   },
   {
    "duration": 0,
    "start_time": "2023-09-08T13:36:43.811Z"
   },
   {
    "duration": 0,
    "start_time": "2023-09-08T13:36:43.812Z"
   },
   {
    "duration": 0,
    "start_time": "2023-09-08T13:36:43.813Z"
   },
   {
    "duration": 0,
    "start_time": "2023-09-08T13:36:43.814Z"
   },
   {
    "duration": 0,
    "start_time": "2023-09-08T13:36:43.816Z"
   },
   {
    "duration": 0,
    "start_time": "2023-09-08T13:36:43.817Z"
   },
   {
    "duration": 0,
    "start_time": "2023-09-08T13:36:43.818Z"
   },
   {
    "duration": 0,
    "start_time": "2023-09-08T13:36:43.819Z"
   },
   {
    "duration": 0,
    "start_time": "2023-09-08T13:36:43.820Z"
   },
   {
    "duration": 0,
    "start_time": "2023-09-08T13:36:43.821Z"
   },
   {
    "duration": 0,
    "start_time": "2023-09-08T13:36:43.822Z"
   },
   {
    "duration": 0,
    "start_time": "2023-09-08T13:36:43.823Z"
   },
   {
    "duration": 0,
    "start_time": "2023-09-08T13:36:43.824Z"
   },
   {
    "duration": 0,
    "start_time": "2023-09-08T13:36:43.825Z"
   },
   {
    "duration": 0,
    "start_time": "2023-09-08T13:36:43.826Z"
   },
   {
    "duration": 0,
    "start_time": "2023-09-08T13:36:43.827Z"
   },
   {
    "duration": 0,
    "start_time": "2023-09-08T13:36:43.828Z"
   },
   {
    "duration": 0,
    "start_time": "2023-09-08T13:36:43.829Z"
   },
   {
    "duration": 0,
    "start_time": "2023-09-08T13:36:43.830Z"
   },
   {
    "duration": 0,
    "start_time": "2023-09-08T13:36:43.832Z"
   },
   {
    "duration": 0,
    "start_time": "2023-09-08T13:36:43.833Z"
   },
   {
    "duration": 0,
    "start_time": "2023-09-08T13:36:43.834Z"
   },
   {
    "duration": 0,
    "start_time": "2023-09-08T13:36:43.835Z"
   },
   {
    "duration": 0,
    "start_time": "2023-09-08T13:36:43.836Z"
   },
   {
    "duration": 0,
    "start_time": "2023-09-08T13:36:43.837Z"
   },
   {
    "duration": 0,
    "start_time": "2023-09-08T13:36:43.838Z"
   },
   {
    "duration": 0,
    "start_time": "2023-09-08T13:36:43.839Z"
   },
   {
    "duration": 0,
    "start_time": "2023-09-08T13:36:43.840Z"
   },
   {
    "duration": 0,
    "start_time": "2023-09-08T13:36:43.842Z"
   },
   {
    "duration": 0,
    "start_time": "2023-09-08T13:36:43.843Z"
   },
   {
    "duration": 0,
    "start_time": "2023-09-08T13:36:43.844Z"
   },
   {
    "duration": 0,
    "start_time": "2023-09-08T13:36:43.845Z"
   },
   {
    "duration": 0,
    "start_time": "2023-09-08T13:36:43.846Z"
   },
   {
    "duration": 0,
    "start_time": "2023-09-08T13:36:43.848Z"
   },
   {
    "duration": 0,
    "start_time": "2023-09-08T13:36:43.911Z"
   },
   {
    "duration": 0,
    "start_time": "2023-09-08T13:36:43.913Z"
   },
   {
    "duration": 0,
    "start_time": "2023-09-08T13:36:43.915Z"
   },
   {
    "duration": 0,
    "start_time": "2023-09-08T13:36:43.916Z"
   },
   {
    "duration": 1,
    "start_time": "2023-09-08T13:36:43.917Z"
   },
   {
    "duration": 0,
    "start_time": "2023-09-08T13:36:43.919Z"
   },
   {
    "duration": 1224,
    "start_time": "2023-09-08T13:37:20.530Z"
   },
   {
    "duration": 58,
    "start_time": "2023-09-08T13:37:21.756Z"
   },
   {
    "duration": 26,
    "start_time": "2023-09-08T13:37:21.815Z"
   },
   {
    "duration": 16,
    "start_time": "2023-09-08T13:37:21.843Z"
   },
   {
    "duration": 39,
    "start_time": "2023-09-08T13:37:21.860Z"
   },
   {
    "duration": 75,
    "start_time": "2023-09-08T13:37:21.900Z"
   },
   {
    "duration": 38,
    "start_time": "2023-09-08T13:37:21.977Z"
   },
   {
    "duration": 15,
    "start_time": "2023-09-08T13:37:22.016Z"
   },
   {
    "duration": 26,
    "start_time": "2023-09-08T13:37:22.032Z"
   },
   {
    "duration": 10,
    "start_time": "2023-09-08T13:37:22.061Z"
   },
   {
    "duration": 14,
    "start_time": "2023-09-08T13:37:22.072Z"
   },
   {
    "duration": 14,
    "start_time": "2023-09-08T13:37:22.087Z"
   },
   {
    "duration": 22,
    "start_time": "2023-09-08T13:37:22.103Z"
   },
   {
    "duration": 17,
    "start_time": "2023-09-08T13:37:22.127Z"
   },
   {
    "duration": 27,
    "start_time": "2023-09-08T13:37:22.146Z"
   },
   {
    "duration": 27,
    "start_time": "2023-09-08T13:37:22.175Z"
   },
   {
    "duration": 13,
    "start_time": "2023-09-08T13:37:22.204Z"
   },
   {
    "duration": 30,
    "start_time": "2023-09-08T13:37:22.219Z"
   },
   {
    "duration": 20,
    "start_time": "2023-09-08T13:37:22.251Z"
   },
   {
    "duration": 196,
    "start_time": "2023-09-08T13:37:22.273Z"
   },
   {
    "duration": 14,
    "start_time": "2023-09-08T13:37:22.472Z"
   },
   {
    "duration": 48,
    "start_time": "2023-09-08T13:37:22.489Z"
   },
   {
    "duration": 25,
    "start_time": "2023-09-08T13:37:22.539Z"
   },
   {
    "duration": 22,
    "start_time": "2023-09-08T13:37:22.566Z"
   },
   {
    "duration": 1087,
    "start_time": "2023-09-08T13:37:22.591Z"
   },
   {
    "duration": 31,
    "start_time": "2023-09-08T13:37:23.680Z"
   },
   {
    "duration": 3,
    "start_time": "2023-09-08T13:37:23.713Z"
   },
   {
    "duration": 43,
    "start_time": "2023-09-08T13:37:23.720Z"
   },
   {
    "duration": 33,
    "start_time": "2023-09-08T13:37:23.765Z"
   },
   {
    "duration": 1740,
    "start_time": "2023-09-08T13:37:23.800Z"
   },
   {
    "duration": 17,
    "start_time": "2023-09-08T13:37:25.542Z"
   },
   {
    "duration": 333,
    "start_time": "2023-09-08T13:37:25.561Z"
   },
   {
    "duration": 12,
    "start_time": "2023-09-08T13:37:25.896Z"
   },
   {
    "duration": 161,
    "start_time": "2023-09-08T13:37:25.910Z"
   },
   {
    "duration": 7,
    "start_time": "2023-09-08T13:37:26.073Z"
   },
   {
    "duration": 179,
    "start_time": "2023-09-08T13:37:26.081Z"
   },
   {
    "duration": 6,
    "start_time": "2023-09-08T13:37:26.262Z"
   },
   {
    "duration": 175,
    "start_time": "2023-09-08T13:37:26.270Z"
   },
   {
    "duration": 6,
    "start_time": "2023-09-08T13:37:26.446Z"
   },
   {
    "duration": 26,
    "start_time": "2023-09-08T13:37:26.454Z"
   },
   {
    "duration": 32,
    "start_time": "2023-09-08T13:37:26.481Z"
   },
   {
    "duration": 389,
    "start_time": "2023-09-08T13:37:26.514Z"
   },
   {
    "duration": 25,
    "start_time": "2023-09-08T13:37:26.905Z"
   },
   {
    "duration": 20,
    "start_time": "2023-09-08T13:37:26.932Z"
   },
   {
    "duration": 15,
    "start_time": "2023-09-08T13:37:26.954Z"
   },
   {
    "duration": 39,
    "start_time": "2023-09-08T13:37:26.971Z"
   },
   {
    "duration": 15,
    "start_time": "2023-09-08T13:37:27.012Z"
   },
   {
    "duration": 19,
    "start_time": "2023-09-08T13:37:27.028Z"
   },
   {
    "duration": 17,
    "start_time": "2023-09-08T13:37:27.049Z"
   },
   {
    "duration": 15,
    "start_time": "2023-09-08T13:37:27.068Z"
   },
   {
    "duration": 16,
    "start_time": "2023-09-08T13:37:27.110Z"
   },
   {
    "duration": 15,
    "start_time": "2023-09-08T13:37:27.128Z"
   },
   {
    "duration": 6,
    "start_time": "2023-09-08T13:37:27.145Z"
   },
   {
    "duration": 10,
    "start_time": "2023-09-08T13:37:27.153Z"
   },
   {
    "duration": 13,
    "start_time": "2023-09-08T13:37:27.164Z"
   },
   {
    "duration": 33,
    "start_time": "2023-09-08T13:37:27.179Z"
   },
   {
    "duration": 8,
    "start_time": "2023-09-08T13:37:27.213Z"
   },
   {
    "duration": 7,
    "start_time": "2023-09-08T13:37:27.223Z"
   },
   {
    "duration": 10,
    "start_time": "2023-09-08T13:37:27.231Z"
   },
   {
    "duration": 11,
    "start_time": "2023-09-08T13:37:27.242Z"
   },
   {
    "duration": 6,
    "start_time": "2023-09-08T13:37:27.255Z"
   },
   {
    "duration": 7,
    "start_time": "2023-09-08T13:37:27.263Z"
   },
   {
    "duration": 7,
    "start_time": "2023-09-08T13:37:27.272Z"
   },
   {
    "duration": 15,
    "start_time": "2023-09-08T14:33:56.198Z"
   },
   {
    "duration": 415,
    "start_time": "2023-09-08T14:34:07.337Z"
   },
   {
    "duration": 13,
    "start_time": "2023-09-08T14:35:22.717Z"
   },
   {
    "duration": 112,
    "start_time": "2023-09-08T14:35:24.063Z"
   },
   {
    "duration": 11,
    "start_time": "2023-09-08T14:35:34.647Z"
   },
   {
    "duration": 11,
    "start_time": "2023-09-08T14:35:35.300Z"
   },
   {
    "duration": 1548,
    "start_time": "2023-09-08T14:35:43.991Z"
   },
   {
    "duration": 58,
    "start_time": "2023-09-08T14:35:45.541Z"
   },
   {
    "duration": 34,
    "start_time": "2023-09-08T14:35:45.601Z"
   },
   {
    "duration": 16,
    "start_time": "2023-09-08T14:35:45.638Z"
   },
   {
    "duration": 3,
    "start_time": "2023-09-08T14:35:45.656Z"
   },
   {
    "duration": 17,
    "start_time": "2023-09-08T14:35:45.661Z"
   },
   {
    "duration": 32,
    "start_time": "2023-09-08T14:35:45.680Z"
   },
   {
    "duration": 5,
    "start_time": "2023-09-08T14:35:45.713Z"
   },
   {
    "duration": 14,
    "start_time": "2023-09-08T14:35:45.719Z"
   },
   {
    "duration": 10,
    "start_time": "2023-09-08T14:35:45.736Z"
   },
   {
    "duration": 6,
    "start_time": "2023-09-08T14:35:45.748Z"
   },
   {
    "duration": 12,
    "start_time": "2023-09-08T14:35:45.755Z"
   },
   {
    "duration": 47,
    "start_time": "2023-09-08T14:35:45.768Z"
   },
   {
    "duration": 12,
    "start_time": "2023-09-08T14:35:45.816Z"
   },
   {
    "duration": 24,
    "start_time": "2023-09-08T14:35:45.830Z"
   },
   {
    "duration": 27,
    "start_time": "2023-09-08T14:35:45.856Z"
   },
   {
    "duration": 8,
    "start_time": "2023-09-08T14:35:45.884Z"
   },
   {
    "duration": 25,
    "start_time": "2023-09-08T14:35:45.910Z"
   },
   {
    "duration": 12,
    "start_time": "2023-09-08T14:35:45.937Z"
   },
   {
    "duration": 201,
    "start_time": "2023-09-08T14:35:45.951Z"
   },
   {
    "duration": 11,
    "start_time": "2023-09-08T14:35:46.154Z"
   },
   {
    "duration": 10,
    "start_time": "2023-09-08T14:35:46.167Z"
   },
   {
    "duration": 31,
    "start_time": "2023-09-08T14:35:46.179Z"
   },
   {
    "duration": 4,
    "start_time": "2023-09-08T14:35:46.212Z"
   },
   {
    "duration": 1050,
    "start_time": "2023-09-08T14:35:46.218Z"
   },
   {
    "duration": 48,
    "start_time": "2023-09-08T14:35:47.271Z"
   },
   {
    "duration": 4,
    "start_time": "2023-09-08T14:35:47.321Z"
   },
   {
    "duration": 16,
    "start_time": "2023-09-08T14:35:47.330Z"
   },
   {
    "duration": 12,
    "start_time": "2023-09-08T14:35:47.348Z"
   },
   {
    "duration": 1795,
    "start_time": "2023-09-08T14:35:47.362Z"
   },
   {
    "duration": 10,
    "start_time": "2023-09-08T14:35:49.159Z"
   },
   {
    "duration": 129,
    "start_time": "2023-09-08T14:35:49.171Z"
   },
   {
    "duration": 0,
    "start_time": "2023-09-08T14:35:49.308Z"
   },
   {
    "duration": 0,
    "start_time": "2023-09-08T14:35:49.310Z"
   },
   {
    "duration": 0,
    "start_time": "2023-09-08T14:35:49.312Z"
   },
   {
    "duration": 0,
    "start_time": "2023-09-08T14:35:49.313Z"
   },
   {
    "duration": 0,
    "start_time": "2023-09-08T14:35:49.315Z"
   },
   {
    "duration": 0,
    "start_time": "2023-09-08T14:35:49.316Z"
   },
   {
    "duration": 0,
    "start_time": "2023-09-08T14:35:49.318Z"
   },
   {
    "duration": 0,
    "start_time": "2023-09-08T14:35:49.320Z"
   },
   {
    "duration": 0,
    "start_time": "2023-09-08T14:35:49.321Z"
   },
   {
    "duration": 0,
    "start_time": "2023-09-08T14:35:49.323Z"
   },
   {
    "duration": 0,
    "start_time": "2023-09-08T14:35:49.325Z"
   },
   {
    "duration": 0,
    "start_time": "2023-09-08T14:35:49.326Z"
   },
   {
    "duration": 0,
    "start_time": "2023-09-08T14:35:49.328Z"
   },
   {
    "duration": 0,
    "start_time": "2023-09-08T14:35:49.329Z"
   },
   {
    "duration": 0,
    "start_time": "2023-09-08T14:35:49.331Z"
   },
   {
    "duration": 0,
    "start_time": "2023-09-08T14:35:49.332Z"
   },
   {
    "duration": 0,
    "start_time": "2023-09-08T14:35:49.333Z"
   },
   {
    "duration": 0,
    "start_time": "2023-09-08T14:35:49.334Z"
   },
   {
    "duration": 0,
    "start_time": "2023-09-08T14:35:49.336Z"
   },
   {
    "duration": 0,
    "start_time": "2023-09-08T14:35:49.337Z"
   },
   {
    "duration": 0,
    "start_time": "2023-09-08T14:35:49.338Z"
   },
   {
    "duration": 0,
    "start_time": "2023-09-08T14:35:49.339Z"
   },
   {
    "duration": 0,
    "start_time": "2023-09-08T14:35:49.340Z"
   },
   {
    "duration": 0,
    "start_time": "2023-09-08T14:35:49.341Z"
   },
   {
    "duration": 0,
    "start_time": "2023-09-08T14:35:49.342Z"
   },
   {
    "duration": 0,
    "start_time": "2023-09-08T14:35:49.343Z"
   },
   {
    "duration": 0,
    "start_time": "2023-09-08T14:35:49.344Z"
   },
   {
    "duration": 0,
    "start_time": "2023-09-08T14:35:49.345Z"
   },
   {
    "duration": 0,
    "start_time": "2023-09-08T14:35:49.346Z"
   },
   {
    "duration": 0,
    "start_time": "2023-09-08T14:35:49.347Z"
   },
   {
    "duration": 0,
    "start_time": "2023-09-08T14:35:49.348Z"
   },
   {
    "duration": 11,
    "start_time": "2023-09-08T14:36:07.788Z"
   },
   {
    "duration": 253,
    "start_time": "2023-09-08T14:36:08.382Z"
   },
   {
    "duration": 18,
    "start_time": "2023-09-08T14:36:29.129Z"
   },
   {
    "duration": 238,
    "start_time": "2023-09-08T14:36:55.828Z"
   },
   {
    "duration": 219,
    "start_time": "2023-09-08T14:37:11.104Z"
   },
   {
    "duration": 219,
    "start_time": "2023-09-08T14:40:56.243Z"
   },
   {
    "duration": 230,
    "start_time": "2023-09-08T14:41:00.659Z"
   },
   {
    "duration": 15,
    "start_time": "2023-09-08T14:41:20.278Z"
   },
   {
    "duration": 15,
    "start_time": "2023-09-08T14:41:30.461Z"
   },
   {
    "duration": 304,
    "start_time": "2023-09-08T14:41:43.459Z"
   },
   {
    "duration": 15,
    "start_time": "2023-09-08T14:42:39.126Z"
   },
   {
    "duration": 16,
    "start_time": "2023-09-08T14:43:13.850Z"
   },
   {
    "duration": 351,
    "start_time": "2023-09-08T14:43:34.029Z"
   },
   {
    "duration": 100,
    "start_time": "2023-09-08T14:44:32.892Z"
   },
   {
    "duration": 113,
    "start_time": "2023-09-08T14:46:12.092Z"
   },
   {
    "duration": 17,
    "start_time": "2023-09-08T14:50:35.106Z"
   },
   {
    "duration": 14,
    "start_time": "2023-09-08T14:50:49.938Z"
   },
   {
    "duration": 13,
    "start_time": "2023-09-08T14:51:38.141Z"
   },
   {
    "duration": 117,
    "start_time": "2023-09-08T14:53:06.272Z"
   },
   {
    "duration": 204,
    "start_time": "2023-09-08T14:54:26.429Z"
   },
   {
    "duration": 80,
    "start_time": "2023-09-08T14:55:13.154Z"
   },
   {
    "duration": 201,
    "start_time": "2023-09-08T14:55:23.278Z"
   },
   {
    "duration": 13,
    "start_time": "2023-09-08T14:58:35.373Z"
   },
   {
    "duration": 1372,
    "start_time": "2023-09-08T14:59:14.903Z"
   },
   {
    "duration": 2396,
    "start_time": "2023-09-08T14:59:33.318Z"
   },
   {
    "duration": 6,
    "start_time": "2023-09-08T14:59:48.237Z"
   },
   {
    "duration": 19,
    "start_time": "2023-09-08T15:00:50.511Z"
   },
   {
    "duration": 19,
    "start_time": "2023-09-08T15:01:02.269Z"
   },
   {
    "duration": 193,
    "start_time": "2023-09-08T15:01:33.395Z"
   },
   {
    "duration": 159,
    "start_time": "2023-09-08T15:02:04.336Z"
   },
   {
    "duration": 8,
    "start_time": "2023-09-08T15:02:37.453Z"
   },
   {
    "duration": 4,
    "start_time": "2023-09-08T15:03:04.173Z"
   },
   {
    "duration": 8,
    "start_time": "2023-09-08T15:03:04.702Z"
   },
   {
    "duration": 8,
    "start_time": "2023-09-08T15:03:33.276Z"
   },
   {
    "duration": 9,
    "start_time": "2023-09-08T15:04:10.567Z"
   },
   {
    "duration": 6,
    "start_time": "2023-09-08T15:04:13.852Z"
   },
   {
    "duration": 8,
    "start_time": "2023-09-08T15:04:14.411Z"
   },
   {
    "duration": 1237,
    "start_time": "2023-09-08T15:05:13.345Z"
   },
   {
    "duration": 60,
    "start_time": "2023-09-08T15:05:14.585Z"
   },
   {
    "duration": 27,
    "start_time": "2023-09-08T15:05:14.647Z"
   },
   {
    "duration": 17,
    "start_time": "2023-09-08T15:05:14.676Z"
   },
   {
    "duration": 3,
    "start_time": "2023-09-08T15:05:14.710Z"
   },
   {
    "duration": 17,
    "start_time": "2023-09-08T15:05:14.715Z"
   },
   {
    "duration": 10,
    "start_time": "2023-09-08T15:05:14.733Z"
   },
   {
    "duration": 18,
    "start_time": "2023-09-08T15:05:14.745Z"
   },
   {
    "duration": 28,
    "start_time": "2023-09-08T15:05:14.765Z"
   },
   {
    "duration": 15,
    "start_time": "2023-09-08T15:05:14.809Z"
   },
   {
    "duration": 11,
    "start_time": "2023-09-08T15:05:14.826Z"
   },
   {
    "duration": 24,
    "start_time": "2023-09-08T15:05:14.839Z"
   },
   {
    "duration": 17,
    "start_time": "2023-09-08T15:05:14.865Z"
   },
   {
    "duration": 5,
    "start_time": "2023-09-08T15:05:14.884Z"
   },
   {
    "duration": 49,
    "start_time": "2023-09-08T15:05:14.891Z"
   },
   {
    "duration": 21,
    "start_time": "2023-09-08T15:05:14.942Z"
   },
   {
    "duration": 7,
    "start_time": "2023-09-08T15:05:14.965Z"
   },
   {
    "duration": 54,
    "start_time": "2023-09-08T15:05:14.973Z"
   },
   {
    "duration": 47,
    "start_time": "2023-09-08T15:05:15.028Z"
   },
   {
    "duration": 207,
    "start_time": "2023-09-08T15:05:15.078Z"
   },
   {
    "duration": 24,
    "start_time": "2023-09-08T15:05:15.287Z"
   },
   {
    "duration": 12,
    "start_time": "2023-09-08T15:05:15.313Z"
   },
   {
    "duration": 27,
    "start_time": "2023-09-08T15:05:15.327Z"
   },
   {
    "duration": 7,
    "start_time": "2023-09-08T15:05:15.356Z"
   },
   {
    "duration": 1066,
    "start_time": "2023-09-08T15:05:15.365Z"
   },
   {
    "duration": 24,
    "start_time": "2023-09-08T15:05:16.433Z"
   },
   {
    "duration": 3,
    "start_time": "2023-09-08T15:05:16.460Z"
   },
   {
    "duration": 20,
    "start_time": "2023-09-08T15:05:16.468Z"
   },
   {
    "duration": 26,
    "start_time": "2023-09-08T15:05:16.489Z"
   },
   {
    "duration": 1704,
    "start_time": "2023-09-08T15:05:16.517Z"
   },
   {
    "duration": 15,
    "start_time": "2023-09-08T15:05:18.223Z"
   },
   {
    "duration": 333,
    "start_time": "2023-09-08T15:05:18.240Z"
   },
   {
    "duration": 9,
    "start_time": "2023-09-08T15:05:18.580Z"
   },
   {
    "duration": 186,
    "start_time": "2023-09-08T15:05:18.591Z"
   },
   {
    "duration": 5,
    "start_time": "2023-09-08T15:05:18.778Z"
   },
   {
    "duration": 186,
    "start_time": "2023-09-08T15:05:18.785Z"
   },
   {
    "duration": 5,
    "start_time": "2023-09-08T15:05:18.973Z"
   },
   {
    "duration": 182,
    "start_time": "2023-09-08T15:05:18.980Z"
   },
   {
    "duration": 5,
    "start_time": "2023-09-08T15:05:19.164Z"
   },
   {
    "duration": 21,
    "start_time": "2023-09-08T15:05:19.170Z"
   },
   {
    "duration": 27,
    "start_time": "2023-09-08T15:05:19.193Z"
   },
   {
    "duration": 385,
    "start_time": "2023-09-08T15:05:19.222Z"
   },
   {
    "duration": 23,
    "start_time": "2023-09-08T15:05:19.609Z"
   },
   {
    "duration": 15,
    "start_time": "2023-09-08T15:05:19.634Z"
   },
   {
    "duration": 26,
    "start_time": "2023-09-08T15:05:19.651Z"
   },
   {
    "duration": 40,
    "start_time": "2023-09-08T15:05:19.680Z"
   },
   {
    "duration": 14,
    "start_time": "2023-09-08T15:05:19.722Z"
   },
   {
    "duration": 26,
    "start_time": "2023-09-08T15:05:19.738Z"
   },
   {
    "duration": 14,
    "start_time": "2023-09-08T15:05:19.766Z"
   },
   {
    "duration": 42,
    "start_time": "2023-09-08T15:05:19.782Z"
   },
   {
    "duration": 15,
    "start_time": "2023-09-08T15:05:19.826Z"
   },
   {
    "duration": 16,
    "start_time": "2023-09-08T15:05:19.843Z"
   },
   {
    "duration": 6,
    "start_time": "2023-09-08T15:05:19.861Z"
   },
   {
    "duration": 13,
    "start_time": "2023-09-08T15:05:19.868Z"
   },
   {
    "duration": 33,
    "start_time": "2023-09-08T15:05:19.883Z"
   },
   {
    "duration": 11,
    "start_time": "2023-09-08T15:05:19.918Z"
   },
   {
    "duration": 4,
    "start_time": "2023-09-08T15:05:19.931Z"
   },
   {
    "duration": 12,
    "start_time": "2023-09-08T15:05:19.937Z"
   },
   {
    "duration": 10,
    "start_time": "2023-09-08T15:05:19.951Z"
   },
   {
    "duration": 8,
    "start_time": "2023-09-08T15:05:19.963Z"
   },
   {
    "duration": 43,
    "start_time": "2023-09-08T15:05:19.972Z"
   },
   {
    "duration": 18,
    "start_time": "2023-09-08T15:05:20.017Z"
   },
   {
    "duration": 21,
    "start_time": "2023-09-08T15:05:20.037Z"
   },
   {
    "duration": 792,
    "start_time": "2023-09-08T15:08:32.424Z"
   },
   {
    "duration": 751,
    "start_time": "2023-09-08T15:08:51.851Z"
   },
   {
    "duration": 4,
    "start_time": "2023-09-08T15:09:47.484Z"
   },
   {
    "duration": 9,
    "start_time": "2023-09-08T15:09:53.201Z"
   },
   {
    "duration": 10,
    "start_time": "2023-09-08T15:11:34.150Z"
   },
   {
    "duration": 10,
    "start_time": "2023-09-08T15:13:17.735Z"
   },
   {
    "duration": 28,
    "start_time": "2023-09-08T15:14:13.514Z"
   },
   {
    "duration": 11,
    "start_time": "2023-09-08T15:14:49.418Z"
   },
   {
    "duration": 5,
    "start_time": "2023-09-08T15:14:56.500Z"
   },
   {
    "duration": 352,
    "start_time": "2023-09-08T15:14:57.290Z"
   },
   {
    "duration": 1258,
    "start_time": "2023-09-08T15:26:24.710Z"
   },
   {
    "duration": 62,
    "start_time": "2023-09-08T15:26:25.970Z"
   },
   {
    "duration": 27,
    "start_time": "2023-09-08T15:26:26.034Z"
   },
   {
    "duration": 16,
    "start_time": "2023-09-08T15:26:26.063Z"
   },
   {
    "duration": 3,
    "start_time": "2023-09-08T15:26:26.080Z"
   },
   {
    "duration": 33,
    "start_time": "2023-09-08T15:26:26.085Z"
   },
   {
    "duration": 14,
    "start_time": "2023-09-08T15:26:26.120Z"
   },
   {
    "duration": 18,
    "start_time": "2023-09-08T15:26:26.136Z"
   },
   {
    "duration": 22,
    "start_time": "2023-09-08T15:26:26.157Z"
   },
   {
    "duration": 33,
    "start_time": "2023-09-08T15:26:26.182Z"
   },
   {
    "duration": 16,
    "start_time": "2023-09-08T15:26:26.217Z"
   },
   {
    "duration": 9,
    "start_time": "2023-09-08T15:26:26.235Z"
   },
   {
    "duration": 13,
    "start_time": "2023-09-08T15:26:26.246Z"
   },
   {
    "duration": 4,
    "start_time": "2023-09-08T15:26:26.261Z"
   },
   {
    "duration": 44,
    "start_time": "2023-09-08T15:26:26.267Z"
   },
   {
    "duration": 19,
    "start_time": "2023-09-08T15:26:26.312Z"
   },
   {
    "duration": 8,
    "start_time": "2023-09-08T15:26:26.333Z"
   },
   {
    "duration": 24,
    "start_time": "2023-09-08T15:26:26.343Z"
   },
   {
    "duration": 44,
    "start_time": "2023-09-08T15:26:26.369Z"
   },
   {
    "duration": 189,
    "start_time": "2023-09-08T15:26:26.415Z"
   },
   {
    "duration": 11,
    "start_time": "2023-09-08T15:26:26.606Z"
   },
   {
    "duration": 11,
    "start_time": "2023-09-08T15:26:26.619Z"
   },
   {
    "duration": 8,
    "start_time": "2023-09-08T15:26:26.631Z"
   },
   {
    "duration": 7,
    "start_time": "2023-09-08T15:26:26.641Z"
   },
   {
    "duration": 1012,
    "start_time": "2023-09-08T15:26:26.650Z"
   },
   {
    "duration": 25,
    "start_time": "2023-09-08T15:26:27.664Z"
   },
   {
    "duration": 3,
    "start_time": "2023-09-08T15:26:27.710Z"
   },
   {
    "duration": 13,
    "start_time": "2023-09-08T15:26:27.719Z"
   },
   {
    "duration": 7,
    "start_time": "2023-09-08T15:26:27.734Z"
   },
   {
    "duration": 1714,
    "start_time": "2023-09-08T15:26:27.742Z"
   },
   {
    "duration": 15,
    "start_time": "2023-09-08T15:26:29.458Z"
   },
   {
    "duration": 334,
    "start_time": "2023-09-08T15:26:29.475Z"
   },
   {
    "duration": 5,
    "start_time": "2023-09-08T15:26:29.811Z"
   },
   {
    "duration": 269,
    "start_time": "2023-09-08T15:26:29.817Z"
   },
   {
    "duration": 6,
    "start_time": "2023-09-08T15:26:30.088Z"
   },
   {
    "duration": 45,
    "start_time": "2023-09-08T15:26:30.096Z"
   },
   {
    "duration": 169,
    "start_time": "2023-09-08T15:26:30.144Z"
   },
   {
    "duration": 155,
    "start_time": "2023-09-08T15:26:30.314Z"
   },
   {
    "duration": 6,
    "start_time": "2023-09-08T15:26:30.471Z"
   },
   {
    "duration": 24,
    "start_time": "2023-09-08T15:26:30.478Z"
   },
   {
    "duration": 173,
    "start_time": "2023-09-08T15:26:30.504Z"
   },
   {
    "duration": 163,
    "start_time": "2023-09-08T15:26:30.679Z"
   },
   {
    "duration": 6,
    "start_time": "2023-09-08T15:26:30.843Z"
   },
   {
    "duration": 30,
    "start_time": "2023-09-08T15:26:30.850Z"
   },
   {
    "duration": 195,
    "start_time": "2023-09-08T15:26:30.882Z"
   },
   {
    "duration": 303,
    "start_time": "2023-09-08T15:26:31.079Z"
   },
   {
    "duration": 6,
    "start_time": "2023-09-08T15:26:31.384Z"
   },
   {
    "duration": 40,
    "start_time": "2023-09-08T15:26:31.392Z"
   },
   {
    "duration": 52,
    "start_time": "2023-09-08T15:26:31.434Z"
   },
   {
    "duration": 61,
    "start_time": "2023-09-08T15:26:31.488Z"
   },
   {
    "duration": 428,
    "start_time": "2023-09-08T15:26:31.551Z"
   },
   {
    "duration": 25,
    "start_time": "2023-09-08T15:26:31.981Z"
   },
   {
    "duration": 53,
    "start_time": "2023-09-08T15:26:32.008Z"
   },
   {
    "duration": 31,
    "start_time": "2023-09-08T15:26:32.063Z"
   },
   {
    "duration": 24,
    "start_time": "2023-09-08T15:26:32.096Z"
   },
   {
    "duration": 43,
    "start_time": "2023-09-08T15:26:32.122Z"
   },
   {
    "duration": 15,
    "start_time": "2023-09-08T15:26:32.167Z"
   },
   {
    "duration": 31,
    "start_time": "2023-09-08T15:26:32.183Z"
   },
   {
    "duration": 28,
    "start_time": "2023-09-08T15:26:32.223Z"
   },
   {
    "duration": 20,
    "start_time": "2023-09-08T15:26:32.253Z"
   },
   {
    "duration": 28,
    "start_time": "2023-09-08T15:26:32.275Z"
   },
   {
    "duration": 10,
    "start_time": "2023-09-08T15:26:32.305Z"
   },
   {
    "duration": 27,
    "start_time": "2023-09-08T15:26:32.317Z"
   },
   {
    "duration": 28,
    "start_time": "2023-09-08T15:26:32.347Z"
   },
   {
    "duration": 24,
    "start_time": "2023-09-08T15:26:32.377Z"
   },
   {
    "duration": 12,
    "start_time": "2023-09-08T15:26:32.404Z"
   },
   {
    "duration": 19,
    "start_time": "2023-09-08T15:26:32.419Z"
   },
   {
    "duration": 18,
    "start_time": "2023-09-08T15:26:32.441Z"
   },
   {
    "duration": 32,
    "start_time": "2023-09-08T15:26:32.462Z"
   },
   {
    "duration": 15,
    "start_time": "2023-09-08T15:26:32.496Z"
   },
   {
    "duration": 22,
    "start_time": "2023-09-08T15:26:32.514Z"
   },
   {
    "duration": 19,
    "start_time": "2023-09-08T15:26:32.538Z"
   },
   {
    "duration": 7,
    "start_time": "2023-09-08T15:33:52.508Z"
   },
   {
    "duration": 5,
    "start_time": "2023-09-08T15:34:29.657Z"
   },
   {
    "duration": 76,
    "start_time": "2023-09-08T15:41:58.022Z"
   },
   {
    "duration": 3,
    "start_time": "2023-09-08T15:42:04.328Z"
   },
   {
    "duration": 113,
    "start_time": "2023-09-08T15:42:10.086Z"
   },
   {
    "duration": 5,
    "start_time": "2023-09-08T15:42:15.885Z"
   },
   {
    "duration": 14,
    "start_time": "2023-09-08T15:42:16.477Z"
   },
   {
    "duration": 42,
    "start_time": "2023-09-08T15:42:29.419Z"
   },
   {
    "duration": 58,
    "start_time": "2023-09-08T15:43:24.977Z"
   },
   {
    "duration": 40,
    "start_time": "2023-09-08T15:44:45.685Z"
   },
   {
    "duration": 20,
    "start_time": "2023-09-08T15:50:30.824Z"
   },
   {
    "duration": 19,
    "start_time": "2023-09-08T15:54:45.200Z"
   },
   {
    "duration": 18,
    "start_time": "2023-09-08T15:56:12.803Z"
   },
   {
    "duration": 5,
    "start_time": "2023-09-08T15:56:18.981Z"
   },
   {
    "duration": 2,
    "start_time": "2023-09-08T15:56:19.612Z"
   },
   {
    "duration": 45,
    "start_time": "2023-09-08T15:56:20.197Z"
   },
   {
    "duration": 4013,
    "start_time": "2023-09-08T16:08:21.809Z"
   },
   {
    "duration": 36,
    "start_time": "2023-09-08T16:10:27.875Z"
   },
   {
    "duration": 38,
    "start_time": "2023-09-08T16:10:34.584Z"
   },
   {
    "duration": 169,
    "start_time": "2023-09-08T16:23:19.828Z"
   },
   {
    "duration": 1201,
    "start_time": "2023-09-08T16:25:26.242Z"
   },
   {
    "duration": 59,
    "start_time": "2023-09-08T16:25:27.445Z"
   },
   {
    "duration": 32,
    "start_time": "2023-09-08T16:25:27.505Z"
   },
   {
    "duration": 18,
    "start_time": "2023-09-08T16:25:27.540Z"
   },
   {
    "duration": 4,
    "start_time": "2023-09-08T16:25:27.559Z"
   },
   {
    "duration": 17,
    "start_time": "2023-09-08T16:25:27.564Z"
   },
   {
    "duration": 9,
    "start_time": "2023-09-08T16:25:27.610Z"
   },
   {
    "duration": 5,
    "start_time": "2023-09-08T16:25:27.621Z"
   },
   {
    "duration": 16,
    "start_time": "2023-09-08T16:25:27.627Z"
   },
   {
    "duration": 11,
    "start_time": "2023-09-08T16:25:27.646Z"
   },
   {
    "duration": 5,
    "start_time": "2023-09-08T16:25:27.659Z"
   },
   {
    "duration": 44,
    "start_time": "2023-09-08T16:25:27.666Z"
   },
   {
    "duration": 11,
    "start_time": "2023-09-08T16:25:27.713Z"
   },
   {
    "duration": 4,
    "start_time": "2023-09-08T16:25:27.726Z"
   },
   {
    "duration": 29,
    "start_time": "2023-09-08T16:25:27.732Z"
   },
   {
    "duration": 49,
    "start_time": "2023-09-08T16:25:27.763Z"
   },
   {
    "duration": 8,
    "start_time": "2023-09-08T16:25:27.814Z"
   },
   {
    "duration": 25,
    "start_time": "2023-09-08T16:25:27.824Z"
   },
   {
    "duration": 13,
    "start_time": "2023-09-08T16:25:27.852Z"
   },
   {
    "duration": 212,
    "start_time": "2023-09-08T16:25:27.866Z"
   },
   {
    "duration": 12,
    "start_time": "2023-09-08T16:25:28.080Z"
   },
   {
    "duration": 10,
    "start_time": "2023-09-08T16:25:28.109Z"
   },
   {
    "duration": 8,
    "start_time": "2023-09-08T16:25:28.121Z"
   },
   {
    "duration": 8,
    "start_time": "2023-09-08T16:25:28.131Z"
   },
   {
    "duration": 1032,
    "start_time": "2023-09-08T16:25:28.141Z"
   },
   {
    "duration": 36,
    "start_time": "2023-09-08T16:25:29.175Z"
   },
   {
    "duration": 4,
    "start_time": "2023-09-08T16:25:29.212Z"
   },
   {
    "duration": 14,
    "start_time": "2023-09-08T16:25:29.220Z"
   },
   {
    "duration": 6,
    "start_time": "2023-09-08T16:25:29.236Z"
   },
   {
    "duration": 1688,
    "start_time": "2023-09-08T16:25:29.243Z"
   },
   {
    "duration": 16,
    "start_time": "2023-09-08T16:25:30.932Z"
   },
   {
    "duration": 354,
    "start_time": "2023-09-08T16:25:30.950Z"
   },
   {
    "duration": 5,
    "start_time": "2023-09-08T16:25:31.306Z"
   },
   {
    "duration": 301,
    "start_time": "2023-09-08T16:25:31.313Z"
   },
   {
    "duration": 7,
    "start_time": "2023-09-08T16:25:31.616Z"
   },
   {
    "duration": 31,
    "start_time": "2023-09-08T16:25:31.625Z"
   },
   {
    "duration": 163,
    "start_time": "2023-09-08T16:25:31.658Z"
   },
   {
    "duration": 156,
    "start_time": "2023-09-08T16:25:31.823Z"
   },
   {
    "duration": 5,
    "start_time": "2023-09-08T16:25:31.981Z"
   },
   {
    "duration": 10,
    "start_time": "2023-09-08T16:25:31.988Z"
   },
   {
    "duration": 193,
    "start_time": "2023-09-08T16:25:32.010Z"
   },
   {
    "duration": 198,
    "start_time": "2023-09-08T16:25:32.205Z"
   },
   {
    "duration": 7,
    "start_time": "2023-09-08T16:25:32.408Z"
   },
   {
    "duration": 11,
    "start_time": "2023-09-08T16:25:32.416Z"
   },
   {
    "duration": 220,
    "start_time": "2023-09-08T16:25:32.430Z"
   },
   {
    "duration": 272,
    "start_time": "2023-09-08T16:25:32.652Z"
   },
   {
    "duration": 5,
    "start_time": "2023-09-08T16:25:32.926Z"
   },
   {
    "duration": 9,
    "start_time": "2023-09-08T16:25:32.933Z"
   },
   {
    "duration": 9,
    "start_time": "2023-09-08T16:25:32.944Z"
   },
   {
    "duration": 16,
    "start_time": "2023-09-08T16:25:32.955Z"
   },
   {
    "duration": 402,
    "start_time": "2023-09-08T16:25:32.973Z"
   },
   {
    "duration": 5,
    "start_time": "2023-09-08T16:25:33.377Z"
   },
   {
    "duration": 3,
    "start_time": "2023-09-08T16:25:33.384Z"
   },
   {
    "duration": 36,
    "start_time": "2023-09-08T16:25:33.389Z"
   },
   {
    "duration": 36,
    "start_time": "2023-09-08T16:25:33.426Z"
   },
   {
    "duration": 23,
    "start_time": "2023-09-08T16:25:33.464Z"
   },
   {
    "duration": 35,
    "start_time": "2023-09-08T16:25:33.488Z"
   },
   {
    "duration": 15,
    "start_time": "2023-09-08T16:25:33.525Z"
   },
   {
    "duration": 15,
    "start_time": "2023-09-08T16:25:33.542Z"
   },
   {
    "duration": 51,
    "start_time": "2023-09-08T16:25:33.559Z"
   },
   {
    "duration": 16,
    "start_time": "2023-09-08T16:25:33.612Z"
   },
   {
    "duration": 20,
    "start_time": "2023-09-08T16:25:33.629Z"
   },
   {
    "duration": 18,
    "start_time": "2023-09-08T16:25:33.651Z"
   },
   {
    "duration": 15,
    "start_time": "2023-09-08T16:25:33.671Z"
   },
   {
    "duration": 16,
    "start_time": "2023-09-08T16:25:33.711Z"
   },
   {
    "duration": 6,
    "start_time": "2023-09-08T16:25:33.729Z"
   },
   {
    "duration": 13,
    "start_time": "2023-09-08T16:25:33.736Z"
   },
   {
    "duration": 6,
    "start_time": "2023-09-08T16:25:33.751Z"
   },
   {
    "duration": 9,
    "start_time": "2023-09-08T16:25:33.759Z"
   },
   {
    "duration": 9,
    "start_time": "2023-09-08T16:25:33.769Z"
   },
   {
    "duration": 29,
    "start_time": "2023-09-08T16:25:33.780Z"
   },
   {
    "duration": 47,
    "start_time": "2023-09-08T16:25:33.811Z"
   },
   {
    "duration": 57,
    "start_time": "2023-09-08T16:25:33.860Z"
   },
   {
    "duration": 9,
    "start_time": "2023-09-08T16:25:33.919Z"
   },
   {
    "duration": 22,
    "start_time": "2023-09-08T16:25:33.930Z"
   },
   {
    "duration": 6,
    "start_time": "2023-09-08T16:25:33.954Z"
   }
  ],
  "kernelspec": {
   "display_name": "Python 3 (ipykernel)",
   "language": "python",
   "name": "python3"
  },
  "language_info": {
   "codemirror_mode": {
    "name": "ipython",
    "version": 3
   },
   "file_extension": ".py",
   "mimetype": "text/x-python",
   "name": "python",
   "nbconvert_exporter": "python",
   "pygments_lexer": "ipython3",
   "version": "3.9.5"
  },
  "toc": {
   "base_numbering": 1,
   "nav_menu": {},
   "number_sections": true,
   "sideBar": true,
   "skip_h1_title": true,
   "title_cell": "Table of Contents",
   "title_sidebar": "Contents",
   "toc_cell": false,
   "toc_position": {},
   "toc_section_display": true,
   "toc_window_display": false
  }
 },
 "nbformat": 4,
 "nbformat_minor": 4
}
