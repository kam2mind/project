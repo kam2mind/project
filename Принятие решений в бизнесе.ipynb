{
 "cells": [
  {
   "cell_type": "markdown",
   "metadata": {},
   "source": [
    "# Приоритизация гипотез и анализ результатов A/B теста\n",
    "## Задачи:\n",
    "1. Приоритизировать гипотезы для увеличения выручки крупного интернет-магазина из подготовленного с отделом маркетинга списка.\n",
    "2. Запустить A/B-тест.\n",
    "3. Проанализировать результаты."
   ]
  },
  {
   "cell_type": "code",
   "execution_count": 1,
   "metadata": {},
   "outputs": [],
   "source": [
    "import pandas as pd\n",
    "import datetime as dt\n",
    "import numpy as np\n",
    "import matplotlib.pyplot as plt\n",
    "from pandas.plotting import register_matplotlib_converters\n",
    "import warnings\n",
    "import scipy.stats as stats"
   ]
  },
  {
   "cell_type": "code",
   "execution_count": 2,
   "metadata": {},
   "outputs": [],
   "source": [
    "dataa = pd.read_csv('/datasets/hypothesis.csv')"
   ]
  },
  {
   "cell_type": "code",
   "execution_count": 3,
   "metadata": {},
   "outputs": [
    {
     "data": {
      "text/html": [
       "<div>\n",
       "<style scoped>\n",
       "    .dataframe tbody tr th:only-of-type {\n",
       "        vertical-align: middle;\n",
       "    }\n",
       "\n",
       "    .dataframe tbody tr th {\n",
       "        vertical-align: top;\n",
       "    }\n",
       "\n",
       "    .dataframe thead th {\n",
       "        text-align: right;\n",
       "    }\n",
       "</style>\n",
       "<table border=\"1\" class=\"dataframe\">\n",
       "  <thead>\n",
       "    <tr style=\"text-align: right;\">\n",
       "      <th></th>\n",
       "      <th>Hypothesis</th>\n",
       "      <th>Reach</th>\n",
       "      <th>Impact</th>\n",
       "      <th>Confidence</th>\n",
       "      <th>Efforts</th>\n",
       "    </tr>\n",
       "  </thead>\n",
       "  <tbody>\n",
       "    <tr>\n",
       "      <th>0</th>\n",
       "      <td>Добавить два новых канала привлечения трафика,...</td>\n",
       "      <td>3</td>\n",
       "      <td>10</td>\n",
       "      <td>8</td>\n",
       "      <td>6</td>\n",
       "    </tr>\n",
       "    <tr>\n",
       "      <th>1</th>\n",
       "      <td>Запустить собственную службу доставки, что сок...</td>\n",
       "      <td>2</td>\n",
       "      <td>5</td>\n",
       "      <td>4</td>\n",
       "      <td>10</td>\n",
       "    </tr>\n",
       "    <tr>\n",
       "      <th>2</th>\n",
       "      <td>Добавить блоки рекомендаций товаров на сайт ин...</td>\n",
       "      <td>8</td>\n",
       "      <td>3</td>\n",
       "      <td>7</td>\n",
       "      <td>3</td>\n",
       "    </tr>\n",
       "    <tr>\n",
       "      <th>3</th>\n",
       "      <td>Изменить структура категорий, что увеличит кон...</td>\n",
       "      <td>8</td>\n",
       "      <td>3</td>\n",
       "      <td>3</td>\n",
       "      <td>8</td>\n",
       "    </tr>\n",
       "    <tr>\n",
       "      <th>4</th>\n",
       "      <td>Изменить цвет фона главной страницы, чтобы уве...</td>\n",
       "      <td>3</td>\n",
       "      <td>1</td>\n",
       "      <td>1</td>\n",
       "      <td>1</td>\n",
       "    </tr>\n",
       "    <tr>\n",
       "      <th>5</th>\n",
       "      <td>Добавить страницу отзывов клиентов о магазине,...</td>\n",
       "      <td>3</td>\n",
       "      <td>2</td>\n",
       "      <td>2</td>\n",
       "      <td>3</td>\n",
       "    </tr>\n",
       "    <tr>\n",
       "      <th>6</th>\n",
       "      <td>Показать на главной странице баннеры с актуаль...</td>\n",
       "      <td>5</td>\n",
       "      <td>3</td>\n",
       "      <td>8</td>\n",
       "      <td>3</td>\n",
       "    </tr>\n",
       "    <tr>\n",
       "      <th>7</th>\n",
       "      <td>Добавить форму подписки на все основные страни...</td>\n",
       "      <td>10</td>\n",
       "      <td>7</td>\n",
       "      <td>8</td>\n",
       "      <td>5</td>\n",
       "    </tr>\n",
       "    <tr>\n",
       "      <th>8</th>\n",
       "      <td>Запустить акцию, дающую скидку на товар в день...</td>\n",
       "      <td>1</td>\n",
       "      <td>9</td>\n",
       "      <td>9</td>\n",
       "      <td>5</td>\n",
       "    </tr>\n",
       "  </tbody>\n",
       "</table>\n",
       "</div>"
      ],
      "text/plain": [
       "                                          Hypothesis  Reach  Impact  \\\n",
       "0  Добавить два новых канала привлечения трафика,...      3      10   \n",
       "1  Запустить собственную службу доставки, что сок...      2       5   \n",
       "2  Добавить блоки рекомендаций товаров на сайт ин...      8       3   \n",
       "3  Изменить структура категорий, что увеличит кон...      8       3   \n",
       "4  Изменить цвет фона главной страницы, чтобы уве...      3       1   \n",
       "5  Добавить страницу отзывов клиентов о магазине,...      3       2   \n",
       "6  Показать на главной странице баннеры с актуаль...      5       3   \n",
       "7  Добавить форму подписки на все основные страни...     10       7   \n",
       "8  Запустить акцию, дающую скидку на товар в день...      1       9   \n",
       "\n",
       "   Confidence  Efforts  \n",
       "0           8        6  \n",
       "1           4       10  \n",
       "2           7        3  \n",
       "3           3        8  \n",
       "4           1        1  \n",
       "5           2        3  \n",
       "6           8        3  \n",
       "7           8        5  \n",
       "8           9        5  "
      ]
     },
     "metadata": {},
     "output_type": "display_data"
    }
   ],
   "source": [
    "display(dataa)"
   ]
  },
  {
   "cell_type": "code",
   "execution_count": 4,
   "metadata": {},
   "outputs": [],
   "source": [
    "dataa['ICE'] = (dataa['Impact'] * dataa['Confidence']) / dataa['Efforts']"
   ]
  },
  {
   "cell_type": "code",
   "execution_count": 5,
   "metadata": {},
   "outputs": [],
   "source": [
    "data_sort = dataa.sort_values(by='ICE',ascending=False)"
   ]
  },
  {
   "cell_type": "code",
   "execution_count": 6,
   "metadata": {},
   "outputs": [],
   "source": [
    "dataa['RICE'] = (dataa['Reach'] * dataa['Impact'] * dataa['Confidence']) / dataa['Efforts']"
   ]
  },
  {
   "cell_type": "code",
   "execution_count": 7,
   "metadata": {},
   "outputs": [],
   "source": [
    "data_sort2 = dataa.sort_values(by='RICE',ascending=False)"
   ]
  },
  {
   "cell_type": "code",
   "execution_count": 8,
   "metadata": {},
   "outputs": [
    {
     "data": {
      "text/html": [
       "<div>\n",
       "<style scoped>\n",
       "    .dataframe tbody tr th:only-of-type {\n",
       "        vertical-align: middle;\n",
       "    }\n",
       "\n",
       "    .dataframe tbody tr th {\n",
       "        vertical-align: top;\n",
       "    }\n",
       "\n",
       "    .dataframe thead th {\n",
       "        text-align: right;\n",
       "    }\n",
       "</style>\n",
       "<table border=\"1\" class=\"dataframe\">\n",
       "  <thead>\n",
       "    <tr style=\"text-align: right;\">\n",
       "      <th></th>\n",
       "      <th>Hypothesis</th>\n",
       "      <th>ICE</th>\n",
       "    </tr>\n",
       "  </thead>\n",
       "  <tbody>\n",
       "    <tr>\n",
       "      <th>8</th>\n",
       "      <td>Запустить акцию, дающую скидку на товар в день...</td>\n",
       "      <td>16.200000</td>\n",
       "    </tr>\n",
       "    <tr>\n",
       "      <th>0</th>\n",
       "      <td>Добавить два новых канала привлечения трафика,...</td>\n",
       "      <td>13.333333</td>\n",
       "    </tr>\n",
       "    <tr>\n",
       "      <th>7</th>\n",
       "      <td>Добавить форму подписки на все основные страни...</td>\n",
       "      <td>11.200000</td>\n",
       "    </tr>\n",
       "    <tr>\n",
       "      <th>6</th>\n",
       "      <td>Показать на главной странице баннеры с актуаль...</td>\n",
       "      <td>8.000000</td>\n",
       "    </tr>\n",
       "    <tr>\n",
       "      <th>2</th>\n",
       "      <td>Добавить блоки рекомендаций товаров на сайт ин...</td>\n",
       "      <td>7.000000</td>\n",
       "    </tr>\n",
       "    <tr>\n",
       "      <th>1</th>\n",
       "      <td>Запустить собственную службу доставки, что сок...</td>\n",
       "      <td>2.000000</td>\n",
       "    </tr>\n",
       "    <tr>\n",
       "      <th>5</th>\n",
       "      <td>Добавить страницу отзывов клиентов о магазине,...</td>\n",
       "      <td>1.333333</td>\n",
       "    </tr>\n",
       "    <tr>\n",
       "      <th>3</th>\n",
       "      <td>Изменить структура категорий, что увеличит кон...</td>\n",
       "      <td>1.125000</td>\n",
       "    </tr>\n",
       "    <tr>\n",
       "      <th>4</th>\n",
       "      <td>Изменить цвет фона главной страницы, чтобы уве...</td>\n",
       "      <td>1.000000</td>\n",
       "    </tr>\n",
       "  </tbody>\n",
       "</table>\n",
       "</div>"
      ],
      "text/plain": [
       "                                          Hypothesis        ICE\n",
       "8  Запустить акцию, дающую скидку на товар в день...  16.200000\n",
       "0  Добавить два новых канала привлечения трафика,...  13.333333\n",
       "7  Добавить форму подписки на все основные страни...  11.200000\n",
       "6  Показать на главной странице баннеры с актуаль...   8.000000\n",
       "2  Добавить блоки рекомендаций товаров на сайт ин...   7.000000\n",
       "1  Запустить собственную службу доставки, что сок...   2.000000\n",
       "5  Добавить страницу отзывов клиентов о магазине,...   1.333333\n",
       "3  Изменить структура категорий, что увеличит кон...   1.125000\n",
       "4  Изменить цвет фона главной страницы, чтобы уве...   1.000000"
      ]
     },
     "metadata": {},
     "output_type": "display_data"
    },
    {
     "data": {
      "text/html": [
       "<div>\n",
       "<style scoped>\n",
       "    .dataframe tbody tr th:only-of-type {\n",
       "        vertical-align: middle;\n",
       "    }\n",
       "\n",
       "    .dataframe tbody tr th {\n",
       "        vertical-align: top;\n",
       "    }\n",
       "\n",
       "    .dataframe thead th {\n",
       "        text-align: right;\n",
       "    }\n",
       "</style>\n",
       "<table border=\"1\" class=\"dataframe\">\n",
       "  <thead>\n",
       "    <tr style=\"text-align: right;\">\n",
       "      <th></th>\n",
       "      <th>Hypothesis</th>\n",
       "      <th>RICE</th>\n",
       "    </tr>\n",
       "  </thead>\n",
       "  <tbody>\n",
       "    <tr>\n",
       "      <th>7</th>\n",
       "      <td>Добавить форму подписки на все основные страни...</td>\n",
       "      <td>112.0</td>\n",
       "    </tr>\n",
       "    <tr>\n",
       "      <th>2</th>\n",
       "      <td>Добавить блоки рекомендаций товаров на сайт ин...</td>\n",
       "      <td>56.0</td>\n",
       "    </tr>\n",
       "    <tr>\n",
       "      <th>0</th>\n",
       "      <td>Добавить два новых канала привлечения трафика,...</td>\n",
       "      <td>40.0</td>\n",
       "    </tr>\n",
       "    <tr>\n",
       "      <th>6</th>\n",
       "      <td>Показать на главной странице баннеры с актуаль...</td>\n",
       "      <td>40.0</td>\n",
       "    </tr>\n",
       "    <tr>\n",
       "      <th>8</th>\n",
       "      <td>Запустить акцию, дающую скидку на товар в день...</td>\n",
       "      <td>16.2</td>\n",
       "    </tr>\n",
       "    <tr>\n",
       "      <th>3</th>\n",
       "      <td>Изменить структура категорий, что увеличит кон...</td>\n",
       "      <td>9.0</td>\n",
       "    </tr>\n",
       "    <tr>\n",
       "      <th>1</th>\n",
       "      <td>Запустить собственную службу доставки, что сок...</td>\n",
       "      <td>4.0</td>\n",
       "    </tr>\n",
       "    <tr>\n",
       "      <th>5</th>\n",
       "      <td>Добавить страницу отзывов клиентов о магазине,...</td>\n",
       "      <td>4.0</td>\n",
       "    </tr>\n",
       "    <tr>\n",
       "      <th>4</th>\n",
       "      <td>Изменить цвет фона главной страницы, чтобы уве...</td>\n",
       "      <td>3.0</td>\n",
       "    </tr>\n",
       "  </tbody>\n",
       "</table>\n",
       "</div>"
      ],
      "text/plain": [
       "                                          Hypothesis   RICE\n",
       "7  Добавить форму подписки на все основные страни...  112.0\n",
       "2  Добавить блоки рекомендаций товаров на сайт ин...   56.0\n",
       "0  Добавить два новых канала привлечения трафика,...   40.0\n",
       "6  Показать на главной странице баннеры с актуаль...   40.0\n",
       "8  Запустить акцию, дающую скидку на товар в день...   16.2\n",
       "3  Изменить структура категорий, что увеличит кон...    9.0\n",
       "1  Запустить собственную службу доставки, что сок...    4.0\n",
       "5  Добавить страницу отзывов клиентов о магазине,...    4.0\n",
       "4  Изменить цвет фона главной страницы, чтобы уве...    3.0"
      ]
     },
     "metadata": {},
     "output_type": "display_data"
    }
   ],
   "source": [
    "\n",
    "display(data_sort[['Hypothesis', 'ICE']])\n",
    "display(data_sort2[['Hypothesis', 'RICE']])"
   ]
  },
  {
   "cell_type": "markdown",
   "metadata": {},
   "source": [
    "Вывод: различие между ICE и RICE состоит в том , что RICE учитывает скольких пользователей затронет изменение. Из за этого гипотезы \"Добавить страницу отзывов клиентов о магазине, что позволит увеличить количество заказов\",\"Добавить два новых канала привлечения трафика, что позволит привлекать на 30% больше пользователей\" выше оценивается в параметре RICE, а гипотезы \"Показать на главной странице баннеры с актуальными акциями и распродажами, чтобы увеличить конверсию\" и \"Добавить два новых канала привлечения трафика, что позволит привлекать на 30% больше пользователей\" стоят ниже чем так как оценка охвата меньше!"
   ]
  },
  {
   "cell_type": "markdown",
   "metadata": {},
   "source": [
    "# Анализ A/B-теста"
   ]
  },
  {
   "cell_type": "code",
   "execution_count": 9,
   "metadata": {},
   "outputs": [
    {
     "name": "stdout",
     "output_type": "stream",
     "text": [
      "   transactionId   visitorId        date  revenue group\n",
      "0     3667963787  3312258926  2019-08-15     1650     B\n",
      "1     2804400009  3642806036  2019-08-15      730     B\n",
      "2     2961555356  4069496402  2019-08-15      400     A\n",
      "3     3797467345  1196621759  2019-08-15     9759     B\n",
      "4     2282983706  2322279887  2019-08-15     2308     B\n",
      "         date group  visitors\n",
      "0  2019-08-01     A       719\n",
      "1  2019-08-02     A       619\n",
      "2  2019-08-03     A       507\n",
      "3  2019-08-04     A       717\n",
      "4  2019-08-05     A       756\n"
     ]
    }
   ],
   "source": [
    "orders = pd.read_csv('/datasets/orders.csv', sep=',')\n",
    "\n",
    "\n",
    "visitors = pd.read_csv('/datasets/visitors.csv', sep=',')\n",
    "\n",
    "\n",
    "print(orders.head(5))\n",
    "print(visitors.head(5))\n",
    "\n",
    "\n"
   ]
  },
  {
   "cell_type": "code",
   "execution_count": 10,
   "metadata": {},
   "outputs": [
    {
     "name": "stdout",
     "output_type": "stream",
     "text": [
      "<class 'pandas.core.frame.DataFrame'>\n",
      "RangeIndex: 1197 entries, 0 to 1196\n",
      "Data columns (total 5 columns):\n",
      " #   Column         Non-Null Count  Dtype \n",
      "---  ------         --------------  ----- \n",
      " 0   transactionId  1197 non-null   int64 \n",
      " 1   visitorId      1197 non-null   int64 \n",
      " 2   date           1197 non-null   object\n",
      " 3   revenue        1197 non-null   int64 \n",
      " 4   group          1197 non-null   object\n",
      "dtypes: int64(3), object(2)\n",
      "memory usage: 46.9+ KB\n"
     ]
    }
   ],
   "source": [
    "orders.info()"
   ]
  },
  {
   "cell_type": "code",
   "execution_count": 11,
   "metadata": {},
   "outputs": [
    {
     "data": {
      "text/plain": [
       "transactionId    0\n",
       "visitorId        0\n",
       "date             0\n",
       "revenue          0\n",
       "group            0\n",
       "dtype: int64"
      ]
     },
     "execution_count": 11,
     "metadata": {},
     "output_type": "execute_result"
    }
   ],
   "source": [
    "orders.isna().sum()"
   ]
  },
  {
   "cell_type": "code",
   "execution_count": 12,
   "metadata": {},
   "outputs": [
    {
     "data": {
      "text/plain": [
       "0"
      ]
     },
     "execution_count": 12,
     "metadata": {},
     "output_type": "execute_result"
    }
   ],
   "source": [
    "orders.duplicated().sum()"
   ]
  },
  {
   "cell_type": "code",
   "execution_count": 13,
   "metadata": {},
   "outputs": [
    {
     "name": "stdout",
     "output_type": "stream",
     "text": [
      "<class 'pandas.core.frame.DataFrame'>\n",
      "RangeIndex: 62 entries, 0 to 61\n",
      "Data columns (total 3 columns):\n",
      " #   Column    Non-Null Count  Dtype \n",
      "---  ------    --------------  ----- \n",
      " 0   date      62 non-null     object\n",
      " 1   group     62 non-null     object\n",
      " 2   visitors  62 non-null     int64 \n",
      "dtypes: int64(1), object(2)\n",
      "memory usage: 1.6+ KB\n"
     ]
    }
   ],
   "source": [
    "visitors.info()"
   ]
  },
  {
   "cell_type": "code",
   "execution_count": 14,
   "metadata": {},
   "outputs": [
    {
     "data": {
      "text/plain": [
       "date        0\n",
       "group       0\n",
       "visitors    0\n",
       "dtype: int64"
      ]
     },
     "execution_count": 14,
     "metadata": {},
     "output_type": "execute_result"
    }
   ],
   "source": [
    "visitors.isna().sum()"
   ]
  },
  {
   "cell_type": "code",
   "execution_count": 15,
   "metadata": {},
   "outputs": [
    {
     "data": {
      "text/plain": [
       "0"
      ]
     },
     "execution_count": 15,
     "metadata": {},
     "output_type": "execute_result"
    }
   ],
   "source": [
    "visitors.duplicated().sum()"
   ]
  },
  {
   "cell_type": "code",
   "execution_count": 16,
   "metadata": {},
   "outputs": [
    {
     "name": "stdout",
     "output_type": "stream",
     "text": [
      "         date group  orders  buyers  revenue  visitors\n",
      "0  2019-08-01     A      24      20   148579       719\n",
      "1  2019-08-01     B      21      20   101217       713\n",
      "2  2019-08-02     A      44      38   242401      1338\n",
      "3  2019-08-02     B      45      43   266748      1294\n",
      "4  2019-08-03     A      68      62   354874      1845\n"
     ]
    }
   ],
   "source": [
    "datesGroups = orders[['date','group']].drop_duplicates()\n",
    "\n",
    "ordersAggregated = datesGroups.apply(lambda x: orders[np.logical_and(orders['date'] <= x['date'], orders['group'] == x['group'])]\\\n",
    ".agg({'date' : 'max', 'group' : 'max', 'transactionId' : 'nunique', 'visitorId' : 'nunique', 'revenue' : 'sum'}), axis=1).sort_values(by=['date','group'])\n",
    "\n",
    "visitorsAggregated = datesGroups.apply(lambda x: visitors[np.logical_and(visitors['date'] <= x['date'], visitors['group'] == x['group'])].agg({'date' : 'max', 'group' : 'max', 'visitors' : 'sum'}), axis=1).sort_values(by=['date','group'])\n",
    "\n",
    "cumulativeData = ordersAggregated.merge(visitorsAggregated, left_on=['date', 'group'], right_on=['date', 'group'])\n",
    "cumulativeData.columns = ['date', 'group', 'orders', 'buyers', 'revenue', 'visitors']\n",
    "print(cumulativeData.head(5))"
   ]
  },
  {
   "cell_type": "markdown",
   "metadata": {},
   "source": [
    "# 1 график кумулятивной выручки по группам"
   ]
  },
  {
   "cell_type": "code",
   "execution_count": 17,
   "metadata": {},
   "outputs": [
    {
     "data": {
      "image/png": "[encoded data removed]",
      "text/plain": [
       "<Figure size 720x432 with 1 Axes>"
      ]
     },
     "metadata": {
      "needs_background": "light"
     },
     "output_type": "display_data"
    }
   ],
   "source": [
    "cumulativeRevenueA = cumulativeData[cumulativeData['group']=='A'][['date','revenue','orders']]\n",
    "cumulativeRevenueB = cumulativeData[cumulativeData['group']=='B'][['date','revenue', 'orders']]\n",
    "\n",
    "\n",
    "cumulativeRevenueA['date'] = pd.to_datetime(cumulativeRevenueA['date'], format='%Y-%m-%d')\n",
    "cumulativeRevenueB['date'] = pd.to_datetime(cumulativeRevenueB['date'], format='%Y-%m-%d')\n",
    "\n",
    "plt.figure(figsize=(10,6))\n",
    "plt.plot(cumulativeRevenueA['date'], cumulativeRevenueA['revenue'], label='A')\n",
    "plt.plot(cumulativeRevenueB['date'], cumulativeRevenueB['revenue'], label='B')\n",
    "plt.legend() \n",
    "plt.xlabel('Дата')\n",
    "plt.ylabel('Выручка')\n",
    "plt.title('График кумулятивной выручки по группам')\n",
    "plt.show()"
   ]
  },
  {
   "cell_type": "markdown",
   "metadata": {},
   "source": [
    "Выручка увеличивается в течение всего теста, но график выручки группы B в одной точке резко растет. Это может сигнализировать о всплеске числа заказов, либо о появлении очень дорогих заказов в выборке."
   ]
  },
  {
   "cell_type": "markdown",
   "metadata": {},
   "source": [
    "# 2 график кумулятивного среднего чека по группам"
   ]
  },
  {
   "cell_type": "code",
   "execution_count": 18,
   "metadata": {},
   "outputs": [
    {
     "data": {
      "image/png": "[encoded data removed]",
      "text/plain": [
       "<Figure size 720x432 with 1 Axes>"
      ]
     },
     "metadata": {
      "needs_background": "light"
     },
     "output_type": "display_data"
    }
   ],
   "source": [
    "plt.figure(figsize=(10,6))\n",
    "plt.plot(cumulativeRevenueA['date'], cumulativeRevenueA['revenue'] / cumulativeRevenueA['orders'],label='A')\n",
    "plt.plot(cumulativeRevenueB['date'], cumulativeRevenueB['revenue'] / cumulativeRevenueB['orders'], label='B')\n",
    "plt.xlabel('Дата')\n",
    "plt.ylabel('Средний чек')\n",
    "plt.title('График кумулятивного среднего чека по группам')\n",
    "plt.legend()\n",
    "plt.show()"
   ]
  },
  {
   "cell_type": "markdown",
   "metadata": {},
   "source": [
    "Есть резкие скачки у обеих групп, но средний чек группы В резко возрос в опреденный день, что может значить о крупной покупки."
   ]
  },
  {
   "cell_type": "markdown",
   "metadata": {},
   "source": [
    "# 3 график относительного изменения кумулятивного среднего чека группы B к группе A"
   ]
  },
  {
   "cell_type": "code",
   "execution_count": 19,
   "metadata": {},
   "outputs": [],
   "source": [
    "mergedCumulativeRevenue = cumulativeRevenueA.merge(cumulativeRevenueB,left_on='date',right_on='date',how='left',suffixes=['A', 'B'])"
   ]
  },
  {
   "cell_type": "code",
   "execution_count": 20,
   "metadata": {},
   "outputs": [
    {
     "data": {
      "text/html": [
       "<div>\n",
       "<style scoped>\n",
       "    .dataframe tbody tr th:only-of-type {\n",
       "        vertical-align: middle;\n",
       "    }\n",
       "\n",
       "    .dataframe tbody tr th {\n",
       "        vertical-align: top;\n",
       "    }\n",
       "\n",
       "    .dataframe thead th {\n",
       "        text-align: right;\n",
       "    }\n",
       "</style>\n",
       "<table border=\"1\" class=\"dataframe\">\n",
       "  <thead>\n",
       "    <tr style=\"text-align: right;\">\n",
       "      <th></th>\n",
       "      <th>date</th>\n",
       "      <th>revenueA</th>\n",
       "      <th>ordersA</th>\n",
       "      <th>revenueB</th>\n",
       "      <th>ordersB</th>\n",
       "    </tr>\n",
       "  </thead>\n",
       "  <tbody>\n",
       "    <tr>\n",
       "      <th>0</th>\n",
       "      <td>2019-08-01</td>\n",
       "      <td>148579</td>\n",
       "      <td>24</td>\n",
       "      <td>101217</td>\n",
       "      <td>21</td>\n",
       "    </tr>\n",
       "    <tr>\n",
       "      <th>1</th>\n",
       "      <td>2019-08-02</td>\n",
       "      <td>242401</td>\n",
       "      <td>44</td>\n",
       "      <td>266748</td>\n",
       "      <td>45</td>\n",
       "    </tr>\n",
       "    <tr>\n",
       "      <th>2</th>\n",
       "      <td>2019-08-03</td>\n",
       "      <td>354874</td>\n",
       "      <td>68</td>\n",
       "      <td>380996</td>\n",
       "      <td>61</td>\n",
       "    </tr>\n",
       "    <tr>\n",
       "      <th>3</th>\n",
       "      <td>2019-08-04</td>\n",
       "      <td>425699</td>\n",
       "      <td>84</td>\n",
       "      <td>489567</td>\n",
       "      <td>78</td>\n",
       "    </tr>\n",
       "    <tr>\n",
       "      <th>4</th>\n",
       "      <td>2019-08-05</td>\n",
       "      <td>549917</td>\n",
       "      <td>109</td>\n",
       "      <td>581995</td>\n",
       "      <td>101</td>\n",
       "    </tr>\n",
       "  </tbody>\n",
       "</table>\n",
       "</div>"
      ],
      "text/plain": [
       "        date  revenueA  ordersA  revenueB  ordersB\n",
       "0 2019-08-01    148579       24    101217       21\n",
       "1 2019-08-02    242401       44    266748       45\n",
       "2 2019-08-03    354874       68    380996       61\n",
       "3 2019-08-04    425699       84    489567       78\n",
       "4 2019-08-05    549917      109    581995      101"
      ]
     },
     "execution_count": 20,
     "metadata": {},
     "output_type": "execute_result"
    }
   ],
   "source": [
    "mergedCumulativeRevenue.head(5)"
   ]
  },
  {
   "cell_type": "code",
   "execution_count": 21,
   "metadata": {},
   "outputs": [
    {
     "data": {
      "image/png": "[encoded data removed]",
      "text/plain": [
       "<Figure size 864x432 with 1 Axes>"
      ]
     },
     "metadata": {
      "needs_background": "light"
     },
     "output_type": "display_data"
    }
   ],
   "source": [
    "plt.figure(figsize=(12,6))\n",
    "plt.plot(mergedCumulativeRevenue['date'],(mergedCumulativeRevenue['revenueB'] / mergedCumulativeRevenue['ordersB']) / (mergedCumulativeRevenue['revenueA'] / mergedCumulativeRevenue['ordersA']) )\n",
    "plt.xlabel('Дата')\n",
    "plt.ylabel('Изменения среднего чека')\n",
    "plt.title('График относительного изменения кумулятивного среднего чека группы B к группе A')\n",
    "plt.show()"
   ]
  },
  {
   "cell_type": "markdown",
   "metadata": {},
   "source": [
    "График различия между сегментами резко «скачет». Сначала средний чек группы B стабильно растет, потом резко падает и резко взлетает. Возможно это влияние крупных заказов и выбросов. "
   ]
  },
  {
   "cell_type": "markdown",
   "metadata": {},
   "source": [
    "# 4 график кумулятивного среднего количества заказов на посетителя по группам"
   ]
  },
  {
   "cell_type": "code",
   "execution_count": 22,
   "metadata": {},
   "outputs": [],
   "source": [
    "cumulativeData['conversion'] = cumulativeData['orders']/cumulativeData['visitors']"
   ]
  },
  {
   "cell_type": "code",
   "execution_count": 23,
   "metadata": {},
   "outputs": [],
   "source": [
    "cumulativeDataA = cumulativeData[cumulativeData['group'] == 'A']\n",
    "cumulativeDataB = cumulativeData[cumulativeData['group'] == 'B']"
   ]
  },
  {
   "cell_type": "code",
   "execution_count": 24,
   "metadata": {},
   "outputs": [
    {
     "data": {
      "image/png": "[encoded data removed]",
      "text/plain": [
       "<Figure size 864x432 with 1 Axes>"
      ]
     },
     "metadata": {
      "needs_background": "light"
     },
     "output_type": "display_data"
    }
   ],
   "source": [
    "plt.figure(figsize=(12,6))\n",
    "plt.plot(cumulativeDataA['date'], cumulativeDataA['conversion'], label='A')\n",
    "plt.plot(cumulativeDataB['date'], cumulativeDataB['conversion'], label='B')\n",
    "plt.legend()\n",
    "plt.xlabel('Дата')\n",
    "plt.ylabel('Cреднего количества заказов на посетителя')\n",
    "plt.title('График кумулятивного среднего количества заказов на посетителя по группам')\n",
    "plt.xticks(rotation=45)\n",
    "plt.axis([\"2019-08-01\", '2019-08-31', 0.025, 0.040])\n",
    "plt.show()"
   ]
  },
  {
   "cell_type": "markdown",
   "metadata": {},
   "source": [
    "Группы колебались около одного значения, но затем конверсия группы B вырвалась вперёд и зафиксировалась, а конверсия группы A просела и также зафиксировалась."
   ]
  },
  {
   "cell_type": "markdown",
   "metadata": {},
   "source": [
    "# 5 график относительного изменения кумулятивного среднего количества заказов на посетителя группы B к группе A"
   ]
  },
  {
   "cell_type": "code",
   "execution_count": 25,
   "metadata": {},
   "outputs": [
    {
     "data": {
      "image/png": "[encoded data removed]",
      "text/plain": [
       "<Figure size 864x504 with 1 Axes>"
      ]
     },
     "metadata": {
      "needs_background": "light"
     },
     "output_type": "display_data"
    }
   ],
   "source": [
    "mergedCumulativeConversions = cumulativeDataA[['date','conversion']].merge(cumulativeDataB[['date','conversion']], left_on='date', right_on='date', how='left', suffixes=['A', 'B'])\n",
    "\n",
    "fig = plt.figure(figsize=[12,7])\n",
    "plt.plot(mergedCumulativeConversions['date'], mergedCumulativeConversions['conversionB']/mergedCumulativeConversions['conversionA']-1, label=\"Относительный прирост конверсии\\n группы B относительно группы A\")\n",
    "plt.legend(loc=\"lower right\")\n",
    "fig.autofmt_xdate()\n",
    "plt.xlabel('Дата')\n",
    "plt.ylabel('Изменения кумулятивного среднего количества заказов на посетителя')\n",
    "plt.title('График относительного изменения кумулятивного среднего количества заказов на посетителя группы B к группе A')\n",
    "\n",
    "plt.axhline(y=0, color='black', linestyle='--')\n",
    "plt.axhline(y=0.1, color='grey', linestyle='--')\n",
    "plt.axis([\"2019-08-01\", '2019-08-31', -0.2, 0.3])\n",
    "\n",
    "plt.show()\n"
   ]
  },
  {
   "cell_type": "markdown",
   "metadata": {},
   "source": [
    "В начале теста группа B проигрывала группе A, затем вырвалась вперёд. Конверсия группы B стабильно выше. Стоит проанализировать аномалии, возможно результаты изменятся."
   ]
  },
  {
   "cell_type": "markdown",
   "metadata": {},
   "source": [
    "# 6 точечный график количества заказов по пользователям"
   ]
  },
  {
   "cell_type": "code",
   "execution_count": 26,
   "metadata": {},
   "outputs": [
    {
     "data": {
      "text/html": [
       "<div>\n",
       "<style scoped>\n",
       "    .dataframe tbody tr th:only-of-type {\n",
       "        vertical-align: middle;\n",
       "    }\n",
       "\n",
       "    .dataframe tbody tr th {\n",
       "        vertical-align: top;\n",
       "    }\n",
       "\n",
       "    .dataframe thead th {\n",
       "        text-align: right;\n",
       "    }\n",
       "</style>\n",
       "<table border=\"1\" class=\"dataframe\">\n",
       "  <thead>\n",
       "    <tr style=\"text-align: right;\">\n",
       "      <th></th>\n",
       "      <th>user_id</th>\n",
       "      <th>orders</th>\n",
       "    </tr>\n",
       "  </thead>\n",
       "  <tbody>\n",
       "    <tr>\n",
       "      <th>0</th>\n",
       "      <td>5114589</td>\n",
       "      <td>1</td>\n",
       "    </tr>\n",
       "    <tr>\n",
       "      <th>1</th>\n",
       "      <td>6958315</td>\n",
       "      <td>1</td>\n",
       "    </tr>\n",
       "    <tr>\n",
       "      <th>2</th>\n",
       "      <td>8300375</td>\n",
       "      <td>2</td>\n",
       "    </tr>\n",
       "    <tr>\n",
       "      <th>3</th>\n",
       "      <td>11685486</td>\n",
       "      <td>1</td>\n",
       "    </tr>\n",
       "    <tr>\n",
       "      <th>4</th>\n",
       "      <td>39475350</td>\n",
       "      <td>1</td>\n",
       "    </tr>\n",
       "  </tbody>\n",
       "</table>\n",
       "</div>"
      ],
      "text/plain": [
       "    user_id  orders\n",
       "0   5114589       1\n",
       "1   6958315       1\n",
       "2   8300375       2\n",
       "3  11685486       1\n",
       "4  39475350       1"
      ]
     },
     "execution_count": 26,
     "metadata": {},
     "output_type": "execute_result"
    }
   ],
   "source": [
    "orders_by_user = (orders.groupby('visitorId', as_index=False).agg({'transactionId':'nunique'}))\n",
    "orders_by_user.columns = ['user_id','orders']\n",
    "orders_by_user.head(5)"
   ]
  },
  {
   "cell_type": "code",
   "execution_count": 27,
   "metadata": {},
   "outputs": [
    {
     "data": {
      "image/png": "[encoded data removed]",
      "text/plain": [
       "<Figure size 720x504 with 1 Axes>"
      ]
     },
     "metadata": {
      "needs_background": "light"
     },
     "output_type": "display_data"
    }
   ],
   "source": [
    "x_values = pd.Series(range(0,len(orders_by_user)))\n",
    "plt.figure(figsize=(10,7))\n",
    "plt.scatter(x_values, orders_by_user['orders']) \n",
    "plt.ylabel('Количество заказов')\n",
    "plt.title('точечный график количества заказов по пользователям')\n",
    "plt.show()"
   ]
  },
  {
   "cell_type": "markdown",
   "metadata": {},
   "source": [
    "Большинство заказывает один или два раза, бывает количесво заказов больше 3 или 4. Ну и единичные случаи котрые заказывают больше 5 раз."
   ]
  },
  {
   "cell_type": "markdown",
   "metadata": {},
   "source": [
    "# 7 95-й и 99-й перцентили количества заказов на пользователя"
   ]
  },
  {
   "cell_type": "code",
   "execution_count": 28,
   "metadata": {},
   "outputs": [
    {
     "name": "stdout",
     "output_type": "stream",
     "text": [
      "[2. 4.]\n"
     ]
    }
   ],
   "source": [
    "print(np.percentile(orders_by_user['orders'], [95, 99]))"
   ]
  },
  {
   "cell_type": "markdown",
   "metadata": {},
   "source": [
    "5% сделали больше 2 заказов и 1% больше 4"
   ]
  },
  {
   "cell_type": "markdown",
   "metadata": {},
   "source": [
    "# 8 точечный график стоимостей заказов"
   ]
  },
  {
   "cell_type": "code",
   "execution_count": 29,
   "metadata": {},
   "outputs": [
    {
     "data": {
      "text/html": [
       "<div>\n",
       "<style scoped>\n",
       "    .dataframe tbody tr th:only-of-type {\n",
       "        vertical-align: middle;\n",
       "    }\n",
       "\n",
       "    .dataframe tbody tr th {\n",
       "        vertical-align: top;\n",
       "    }\n",
       "\n",
       "    .dataframe thead th {\n",
       "        text-align: right;\n",
       "    }\n",
       "</style>\n",
       "<table border=\"1\" class=\"dataframe\">\n",
       "  <thead>\n",
       "    <tr style=\"text-align: right;\">\n",
       "      <th></th>\n",
       "      <th>user_id</th>\n",
       "      <th>revenue</th>\n",
       "    </tr>\n",
       "  </thead>\n",
       "  <tbody>\n",
       "    <tr>\n",
       "      <th>0</th>\n",
       "      <td>5114589</td>\n",
       "      <td>570</td>\n",
       "    </tr>\n",
       "    <tr>\n",
       "      <th>1</th>\n",
       "      <td>6958315</td>\n",
       "      <td>1490</td>\n",
       "    </tr>\n",
       "    <tr>\n",
       "      <th>2</th>\n",
       "      <td>8300375</td>\n",
       "      <td>12300</td>\n",
       "    </tr>\n",
       "    <tr>\n",
       "      <th>3</th>\n",
       "      <td>11685486</td>\n",
       "      <td>6201</td>\n",
       "    </tr>\n",
       "    <tr>\n",
       "      <th>4</th>\n",
       "      <td>39475350</td>\n",
       "      <td>3990</td>\n",
       "    </tr>\n",
       "  </tbody>\n",
       "</table>\n",
       "</div>"
      ],
      "text/plain": [
       "    user_id  revenue\n",
       "0   5114589      570\n",
       "1   6958315     1490\n",
       "2   8300375    12300\n",
       "3  11685486     6201\n",
       "4  39475350     3990"
      ]
     },
     "execution_count": 29,
     "metadata": {},
     "output_type": "execute_result"
    }
   ],
   "source": [
    "revenue_by_user = (orders.groupby('visitorId', as_index=False).agg({'revenue':'sum'}))\n",
    "revenue_by_user.columns = ['user_id','revenue']\n",
    "revenue_by_user.head(5)"
   ]
  },
  {
   "cell_type": "code",
   "execution_count": 30,
   "metadata": {},
   "outputs": [
    {
     "data": {
      "image/png": "[encoded data removed]",
      "text/plain": [
       "<Figure size 720x504 with 1 Axes>"
      ]
     },
     "metadata": {
      "needs_background": "light"
     },
     "output_type": "display_data"
    }
   ],
   "source": [
    "x_values = pd.Series(range(0,len(revenue_by_user)))\n",
    "plt.figure(figsize=(10,7))\n",
    "plt.scatter(x_values, revenue_by_user['revenue']) \n",
    "plt.ylabel('стоимостей заказов')\n",
    "plt.title('точечный график стоимостей заказов')\n",
    "plt.ylim([0, 300000])\n",
    "plt.show()"
   ]
  },
  {
   "cell_type": "markdown",
   "metadata": {},
   "source": [
    "Практически все заказы не превышают 100000, но есть один выброс где зазаз вышел на сумму более 1,2 млн. Он может сильно искозить данные, и помешать найти верный результат."
   ]
  },
  {
   "cell_type": "markdown",
   "metadata": {},
   "source": [
    "# 9 95-й и 99-й перцентили стоимости заказов"
   ]
  },
  {
   "cell_type": "code",
   "execution_count": 31,
   "metadata": {},
   "outputs": [
    {
     "name": "stdout",
     "output_type": "stream",
     "text": [
      "[32899.5 67750. ]\n"
     ]
    }
   ],
   "source": [
    "print(np.percentile(revenue_by_user['revenue'], [95, 99]))"
   ]
  },
  {
   "cell_type": "markdown",
   "metadata": {},
   "source": [
    "Не больше чем 5% совершили заказ на сумму более 32899 и не более 1% сделали заказ на сумму более 67750.\n",
    "Будем считать, что выше 35000 заказы будут считаться аномальными."
   ]
  },
  {
   "cell_type": "markdown",
   "metadata": {},
   "source": [
    "# 10 Cтатистическая значимость различий в среднем количестве заказов на посетителя между группами по «сырым» данным"
   ]
  },
  {
   "cell_type": "code",
   "execution_count": 32,
   "metadata": {},
   "outputs": [
    {
     "name": "stdout",
     "output_type": "stream",
     "text": [
      "         date  ordersPerDateA  revenuePerDateA  ordersPerDateB  \\\n",
      "0  2019-08-01              24           148579              21   \n",
      "1  2019-08-02              20            93822              24   \n",
      "2  2019-08-03              24           112473              16   \n",
      "3  2019-08-04              16            70825              17   \n",
      "4  2019-08-05              25           124218              23   \n",
      "\n",
      "   revenuePerDateB  ordersCummulativeA  revenueCummulativeA  \\\n",
      "0           101217                  24               148579   \n",
      "1           165531                  44               242401   \n",
      "2           114248                  68               354874   \n",
      "3           108571                  84               425699   \n",
      "4            92428                 109               549917   \n",
      "\n",
      "   ordersCummulativeB  revenueCummulativeB  visitorsPerDateA  \\\n",
      "0                  21               101217               719   \n",
      "1                  45               266748               619   \n",
      "2                  61               380996               507   \n",
      "3                  78               489567               717   \n",
      "4                 101               581995               756   \n",
      "\n",
      "   visitorsPerDateB  visitorsCummulativeA  visitorsCummulativeB  \n",
      "0               713                   719                   713  \n",
      "1               581                  1338                  1294  \n",
      "2               509                  1845                  1803  \n",
      "3               770                  2562                  2573  \n",
      "4               707                  3318                  3280  \n"
     ]
    }
   ],
   "source": [
    "visitorsADaily = visitors[visitors['group'] == 'A'][['date', 'visitors']]\n",
    "visitorsADaily.columns = ['date', 'visitorsPerDateA']\n",
    "\n",
    "visitorsACummulative = visitorsADaily.apply(\n",
    "    lambda x: visitorsADaily[visitorsADaily['date'] <= x['date']].agg(\n",
    "        {'date': 'max', 'visitorsPerDateA': 'sum'}\n",
    "    ),\n",
    "    axis=1,\n",
    ")\n",
    "visitorsACummulative.columns = ['date', 'visitorsCummulativeA']\n",
    "\n",
    "visitorsBDaily = visitors[visitors['group'] == 'B'][['date', 'visitors']]\n",
    "visitorsBDaily.columns = ['date', 'visitorsPerDateB']\n",
    "\n",
    "visitorsBCummulative = visitorsBDaily.apply(\n",
    "    lambda x: visitorsBDaily[visitorsBDaily['date'] <= x['date']].agg(\n",
    "        {'date': 'max', 'visitorsPerDateB': 'sum'}\n",
    "    ),\n",
    "    axis=1,\n",
    ")\n",
    "visitorsBCummulative.columns = ['date', 'visitorsCummulativeB']\n",
    "\n",
    "ordersADaily = (\n",
    "    orders[orders['group'] == 'A'][['date', 'transactionId', 'visitorId', 'revenue']]\n",
    "    .groupby('date', as_index=False)\n",
    "    .agg({'transactionId': pd.Series.nunique, 'revenue': 'sum'})\n",
    ")\n",
    "ordersADaily.columns = ['date', 'ordersPerDateA', 'revenuePerDateA']\n",
    "\n",
    "ordersACummulative = ordersADaily.apply(\n",
    "    lambda x: ordersADaily[ordersADaily['date'] <= x['date']].agg(\n",
    "        {'date': 'max', 'ordersPerDateA': 'sum', 'revenuePerDateA': 'sum'}\n",
    "    ),\n",
    "    axis=1,\n",
    ").sort_values(by=['date'])\n",
    "ordersACummulative.columns = [\n",
    "    'date',\n",
    "    'ordersCummulativeA',\n",
    "    'revenueCummulativeA',\n",
    "]\n",
    "\n",
    "ordersBDaily = (\n",
    "    orders[orders['group'] == 'B'][['date', 'transactionId', 'visitorId', 'revenue']]\n",
    "    .groupby('date', as_index=False)\n",
    "    .agg({'transactionId': pd.Series.nunique, 'revenue': 'sum'})\n",
    ")\n",
    "ordersBDaily.columns = ['date', 'ordersPerDateB', 'revenuePerDateB']\n",
    "\n",
    "ordersBCummulative = ordersBDaily.apply(\n",
    "    lambda x: ordersBDaily[ordersBDaily['date'] <= x['date']].agg(\n",
    "        {'date': 'max', 'ordersPerDateB': 'sum', 'revenuePerDateB': 'sum'}\n",
    "    ),\n",
    "    axis=1,\n",
    ").sort_values(by=['date'])\n",
    "ordersBCummulative.columns = [\n",
    "    'date',\n",
    "    'ordersCummulativeB',\n",
    "    'revenueCummulativeB',\n",
    "]\n",
    "\n",
    "data = (\n",
    "    ordersADaily.merge(\n",
    "        ordersBDaily, left_on='date', right_on='date', how='left'\n",
    "    )\n",
    "    .merge(ordersACummulative, left_on='date', right_on='date', how='left')\n",
    "    .merge(ordersBCummulative, left_on='date', right_on='date', how='left')\n",
    "    .merge(visitorsADaily, left_on='date', right_on='date', how='left')\n",
    "    .merge(visitorsBDaily, left_on='date', right_on='date', how='left')\n",
    "    .merge(visitorsACummulative, left_on='date', right_on='date', how='left')\n",
    "    .merge(visitorsBCummulative, left_on='date', right_on='date', how='left')\n",
    ")\n",
    "\n",
    "print(data.head(5)) "
   ]
  },
  {
   "cell_type": "code",
   "execution_count": 33,
   "metadata": {},
   "outputs": [],
   "source": [
    "ordersByUsersA = (\n",
    "    orders[orders['group'] == 'A']\n",
    "    .groupby('visitorId', as_index=False)\n",
    "    .agg({'transactionId': pd.Series.nunique})\n",
    ")\n",
    "ordersByUsersA.columns = ['userId', 'orders']"
   ]
  },
  {
   "cell_type": "code",
   "execution_count": 34,
   "metadata": {},
   "outputs": [],
   "source": [
    "ordersByUsersB = (\n",
    "    orders[orders['group'] == 'B']\n",
    "    .groupby('visitorId', as_index=False)\n",
    "    .agg({'transactionId': pd.Series.nunique})\n",
    ")\n",
    "ordersByUsersB.columns = ['userId', 'orders']"
   ]
  },
  {
   "cell_type": "code",
   "execution_count": 35,
   "metadata": {},
   "outputs": [
    {
     "name": "stdout",
     "output_type": "stream",
     "text": [
      "0.01679\n",
      "0.138\n"
     ]
    }
   ],
   "source": [
    "sampleA = pd.concat([ordersByUsersA['orders'],pd.Series(0, index=np.arange(data['visitorsPerDateA'].sum() - len(ordersByUsersA['orders'])), name='orders')],axis=0)\n",
    "\n",
    "sampleB = pd.concat([ordersByUsersB['orders'],pd.Series(0, index=np.arange(data['visitorsPerDateB'].sum() - len(ordersByUsersB['orders'])), name='orders')],axis=0)\n",
    "print(\"{0:.5f}\".format(stats.mannwhitneyu(sampleA, sampleB)[1]))\n",
    "print(\"{0:.3f}\".format(sampleB.mean()/sampleA.mean()-1))"
   ]
  },
  {
   "cell_type": "markdown",
   "metadata": {},
   "source": [
    "P-value значительно меньше 0.05. Значит, нулевую гипотезу о том, что статистически значимых различий в конверсии между группами нет - отвергаем. \n",
    "Альтернативная гипотеза - статистически значимых различий в конверсии между группами имеются"
   ]
  },
  {
   "cell_type": "markdown",
   "metadata": {},
   "source": [
    "# 11 Статистическая значимость различий в среднем чеке заказа между группами по «сырым» данным. "
   ]
  },
  {
   "cell_type": "code",
   "execution_count": 36,
   "metadata": {},
   "outputs": [
    {
     "name": "stdout",
     "output_type": "stream",
     "text": [
      "0.729\n",
      "0.259\n"
     ]
    }
   ],
   "source": [
    "print('{0:.3f}'.format(stats.mannwhitneyu(orders[orders['group']=='A']['revenue'], orders[orders['group']=='B']['revenue'])[1]))\n",
    "print('{0:.3f}'.format(orders[orders['group']=='B']['revenue'].mean()/orders[orders['group']=='A']['revenue'].mean()-1))"
   ]
  },
  {
   "cell_type": "markdown",
   "metadata": {},
   "source": [
    "Нулевая гипотеза - В среднем чеке заказа между группами различий нет.\n",
    "Альтернативная гипотеза - В среднем чеке заказа между группами различия есть\n",
    "\n",
    "P-value больше 0.05. Значит, нельзя отвегнуть нулевую гипотезу.— статистически значимых отличий в среднем чеке между группами нет. Поскольку относительное различие среднего чека между сегментами составляет ~26%, наблюдаемые различия не являются значимыми при таком уровне значимости, а следовательно были получены случайно."
   ]
  },
  {
   "cell_type": "markdown",
   "metadata": {},
   "source": [
    "# 12  Статистическая значимость различий в среднем количестве заказов на посетителя между группами по «очищенным» данным."
   ]
  },
  {
   "cell_type": "code",
   "execution_count": 37,
   "metadata": {},
   "outputs": [
    {
     "name": "stdout",
     "output_type": "stream",
     "text": [
      "1099    148427295\n",
      "18      199603092\n",
      "23      237748145\n",
      "37      249864742\n",
      "684     358944393\n",
      "dtype: int64\n",
      "53\n"
     ]
    }
   ],
   "source": [
    "usersWithManyOrders = pd.concat(\n",
    "    [\n",
    "        ordersByUsersA[ordersByUsersA['orders'] > 2]['userId'],\n",
    "        ordersByUsersB[ordersByUsersB['orders'] > 2]['userId'],\n",
    "    ],\n",
    "    axis=0,\n",
    ")\n",
    "usersWithExpensiveOrders = orders[orders['revenue'] > 35000]['visitorId']\n",
    "abnormalUsers = (\n",
    "    pd.concat([usersWithManyOrders, usersWithExpensiveOrders], axis=0)\n",
    "    .drop_duplicates()\n",
    "    .sort_values()\n",
    ")\n",
    "print(abnormalUsers.head(5))\n",
    "print(len(abnormalUsers))"
   ]
  },
  {
   "cell_type": "markdown",
   "metadata": {},
   "source": [
    "53 аномальных пользователя.Надо выяснить как они повляили на предыдущие измерения"
   ]
  },
  {
   "cell_type": "code",
   "execution_count": 38,
   "metadata": {},
   "outputs": [
    {
     "name": "stdout",
     "output_type": "stream",
     "text": [
      "0.010\n",
      "0.179\n"
     ]
    }
   ],
   "source": [
    "sampleAFiltered = pd.concat(\n",
    "    [\n",
    "        ordersByUsersA[\n",
    "            np.logical_not(ordersByUsersA['userId'].isin(abnormalUsers))\n",
    "        ]['orders'],\n",
    "        pd.Series(\n",
    "            0,\n",
    "            index=np.arange(\n",
    "                data['visitorsPerDateA'].sum() - len(ordersByUsersA['orders'])\n",
    "            ),\n",
    "            name='orders',\n",
    "        ),\n",
    "    ],\n",
    "    axis=0,\n",
    ")\n",
    "\n",
    "sampleBFiltered = pd.concat(\n",
    "    [\n",
    "        ordersByUsersB[\n",
    "            np.logical_not(ordersByUsersB['userId'].isin(abnormalUsers))\n",
    "        ]['orders'],\n",
    "        pd.Series(\n",
    "            0,\n",
    "            index=np.arange(\n",
    "                data['visitorsPerDateB'].sum() - len(ordersByUsersB['orders'])\n",
    "            ),\n",
    "            name='orders',\n",
    "        ),\n",
    "    ],\n",
    "    axis=0,\n",
    ")\n",
    "print('{0:.3f}'.format(stats.mannwhitneyu(sampleAFiltered, sampleBFiltered)[1]))\n",
    "print('{0:.3f}'.format(sampleBFiltered.mean()/sampleAFiltered.mean()-1))"
   ]
  },
  {
   "cell_type": "markdown",
   "metadata": {},
   "source": [
    "P-value все также ментше 0.05 что значит мы можем отвергнуть нулевую гипотезу о том , что статистически значимых различий в конверсии между группами нет.\n",
    "Относительный прирост конверсии группы B около 18%"
   ]
  },
  {
   "cell_type": "markdown",
   "metadata": {},
   "source": [
    "# 13 Статистическая значимость различий в среднем чеке заказа между группами по «очищенным» данным."
   ]
  },
  {
   "cell_type": "code",
   "execution_count": 39,
   "metadata": {},
   "outputs": [
    {
     "name": "stdout",
     "output_type": "stream",
     "text": [
      "0.885\n",
      "0.022\n"
     ]
    }
   ],
   "source": [
    "print(\n",
    "    '{0:.3f}'.format(\n",
    "        stats.mannwhitneyu(\n",
    "            orders[\n",
    "                np.logical_and(\n",
    "                    orders['group'] == 'A',\n",
    "                    np.logical_not(orders['visitorId'].isin(abnormalUsers)),\n",
    "                )\n",
    "            ]['revenue'],\n",
    "            orders[\n",
    "                np.logical_and(\n",
    "                    orders['group'] == 'B',\n",
    "                    np.logical_not(orders['visitorId'].isin(abnormalUsers)),\n",
    "                )\n",
    "            ]['revenue'],\n",
    "        )[1]\n",
    "    )\n",
    ")\n",
    "\n",
    "print(\n",
    "    \"{0:.3f}\".format(\n",
    "        orders[\n",
    "            np.logical_and(\n",
    "                orders['group'] == 'B',\n",
    "                np.logical_not(orders['visitorId'].isin(abnormalUsers)),\n",
    "            )\n",
    "        ]['revenue'].mean()\n",
    "        / orders[\n",
    "            np.logical_and(\n",
    "                orders['group'] == 'A',\n",
    "                np.logical_not(orders['visitorId'].isin(abnormalUsers)),\n",
    "            )\n",
    "        ]['revenue'].mean()\n",
    "        - 1\n",
    "    )\n",
    ")"
   ]
  },
  {
   "cell_type": "markdown",
   "metadata": {},
   "source": [
    "P-value осталась больше 0.05, следовательно статистически значимых отличий в среднем чеке между группами нет. \n",
    "Различий между группами стало меньше  и можно сказать что его практически нет."
   ]
  },
  {
   "cell_type": "markdown",
   "metadata": {},
   "source": [
    "# 14 решение по результатам теста"
   ]
  },
  {
   "cell_type": "markdown",
   "metadata": {},
   "source": [
    "На основании результатов, можно остановить тест и зафиксировать победу группы B. Так как есть статистически значимое различие по конверсии между группами, относительный прирост конверсии группы B около 17%."
   ]
  },
  {
   "cell_type": "markdown",
   "metadata": {},
   "source": [
    "Вывод: Провели анализ данных по двум группам. В начале сделали предобработку данных, где выявили что у нас нет пропусков и нет дубликатов в исследуемых данных. Рассмотрели графики различия среднего чека по группам,количество заказов относительно двух групп и среднйи чек. Выявили аномальные значения, которые могли помешать нам сделатб правльный вывод по работе. Сравнили данные с аномальными значениями и без них, и выявили гипотезы относительно наших показателей. \n",
    "\n",
    "Остановить тест будет правильным решением, так как прирост конверсии группы В около 17%, и дальнейшее исследования будет не таким эффективным и лишние затраты на него плохо повляиют на бюджет."
   ]
  },
  {
   "cell_type": "code",
   "execution_count": null,
   "metadata": {},
   "outputs": [],
   "source": []
  }
 ],
 "metadata": {
  "ExecuteTimeLog": [
   {
    "duration": 399,
    "start_time": "2023-11-11T09:59:33.212Z"
   },
   {
    "duration": 73,
    "start_time": "2023-11-11T09:59:34.163Z"
   },
   {
    "duration": 6,
    "start_time": "2023-11-11T10:01:01.706Z"
   },
   {
    "duration": 7,
    "start_time": "2023-11-11T10:01:37.793Z"
   },
   {
    "duration": 5,
    "start_time": "2023-11-11T10:06:15.102Z"
   },
   {
    "duration": 7,
    "start_time": "2023-11-11T10:06:29.626Z"
   },
   {
    "duration": 79,
    "start_time": "2023-11-11T10:09:06.338Z"
   },
   {
    "duration": 59,
    "start_time": "2023-11-11T10:09:13.974Z"
   },
   {
    "duration": 3,
    "start_time": "2023-11-11T10:09:18.756Z"
   },
   {
    "duration": 6,
    "start_time": "2023-11-11T10:09:19.225Z"
   },
   {
    "duration": 407,
    "start_time": "2023-11-11T10:10:07.174Z"
   },
   {
    "duration": 28,
    "start_time": "2023-11-11T10:10:07.583Z"
   },
   {
    "duration": 5,
    "start_time": "2023-11-11T10:10:07.612Z"
   },
   {
    "duration": 7,
    "start_time": "2023-11-11T10:10:07.618Z"
   },
   {
    "duration": 11,
    "start_time": "2023-11-11T10:10:07.626Z"
   },
   {
    "duration": 15,
    "start_time": "2023-11-11T10:10:07.638Z"
   },
   {
    "duration": 5,
    "start_time": "2023-11-11T10:10:07.654Z"
   },
   {
    "duration": 9,
    "start_time": "2023-11-11T10:10:07.660Z"
   },
   {
    "duration": 14,
    "start_time": "2023-11-11T10:30:32.116Z"
   },
   {
    "duration": 7,
    "start_time": "2023-11-11T10:31:04.967Z"
   },
   {
    "duration": 13,
    "start_time": "2023-11-11T10:37:09.446Z"
   },
   {
    "duration": 391,
    "start_time": "2023-11-11T10:37:57.104Z"
   },
   {
    "duration": 27,
    "start_time": "2023-11-11T10:37:57.497Z"
   },
   {
    "duration": 6,
    "start_time": "2023-11-11T10:37:57.526Z"
   },
   {
    "duration": 8,
    "start_time": "2023-11-11T10:37:57.534Z"
   },
   {
    "duration": 25,
    "start_time": "2023-11-11T10:37:57.543Z"
   },
   {
    "duration": 19,
    "start_time": "2023-11-11T10:37:57.569Z"
   },
   {
    "duration": 39,
    "start_time": "2023-11-11T10:37:57.590Z"
   },
   {
    "duration": 14,
    "start_time": "2023-11-11T10:38:29.005Z"
   },
   {
    "duration": 364,
    "start_time": "2023-11-11T11:08:54.982Z"
   },
   {
    "duration": 394,
    "start_time": "2023-11-11T11:09:36.963Z"
   },
   {
    "duration": 27,
    "start_time": "2023-11-11T11:09:37.359Z"
   },
   {
    "duration": 5,
    "start_time": "2023-11-11T11:09:37.387Z"
   },
   {
    "duration": 9,
    "start_time": "2023-11-11T11:09:37.394Z"
   },
   {
    "duration": 8,
    "start_time": "2023-11-11T11:09:37.404Z"
   },
   {
    "duration": 11,
    "start_time": "2023-11-11T11:09:37.413Z"
   },
   {
    "duration": 21,
    "start_time": "2023-11-11T11:09:37.425Z"
   },
   {
    "duration": 321,
    "start_time": "2023-11-11T11:09:37.448Z"
   },
   {
    "duration": 129,
    "start_time": "2023-11-11T11:10:39.835Z"
   },
   {
    "duration": 305,
    "start_time": "2023-11-11T11:11:36.728Z"
   },
   {
    "duration": 11,
    "start_time": "2023-11-11T11:13:45.654Z"
   },
   {
    "duration": 828,
    "start_time": "2023-11-11T11:14:05.734Z"
   },
   {
    "duration": 30,
    "start_time": "2023-11-11T11:14:06.564Z"
   },
   {
    "duration": 7,
    "start_time": "2023-11-11T11:14:06.596Z"
   },
   {
    "duration": 15,
    "start_time": "2023-11-11T11:14:06.605Z"
   },
   {
    "duration": 53,
    "start_time": "2023-11-11T11:14:06.622Z"
   },
   {
    "duration": 22,
    "start_time": "2023-11-11T11:14:06.677Z"
   },
   {
    "duration": 34,
    "start_time": "2023-11-11T11:14:06.701Z"
   },
   {
    "duration": 329,
    "start_time": "2023-11-11T11:14:06.737Z"
   },
   {
    "duration": 301,
    "start_time": "2023-11-11T11:14:07.068Z"
   },
   {
    "duration": 221,
    "start_time": "2023-11-11T11:24:30.817Z"
   },
   {
    "duration": 292,
    "start_time": "2023-11-11T11:24:42.863Z"
   },
   {
    "duration": 280,
    "start_time": "2023-11-11T11:24:49.631Z"
   },
   {
    "duration": 12,
    "start_time": "2023-11-11T11:25:48.283Z"
   },
   {
    "duration": 294,
    "start_time": "2023-11-11T11:26:06.407Z"
   },
   {
    "duration": 161,
    "start_time": "2023-11-11T11:26:10.561Z"
   },
   {
    "duration": 633,
    "start_time": "2023-11-11T11:52:53.795Z"
   },
   {
    "duration": 28,
    "start_time": "2023-11-11T11:52:54.429Z"
   },
   {
    "duration": 5,
    "start_time": "2023-11-11T11:52:54.458Z"
   },
   {
    "duration": 6,
    "start_time": "2023-11-11T11:52:54.464Z"
   },
   {
    "duration": 4,
    "start_time": "2023-11-11T11:52:54.472Z"
   },
   {
    "duration": 4,
    "start_time": "2023-11-11T11:52:54.478Z"
   },
   {
    "duration": 18,
    "start_time": "2023-11-11T11:52:54.483Z"
   },
   {
    "duration": 300,
    "start_time": "2023-11-11T11:52:54.502Z"
   },
   {
    "duration": 246,
    "start_time": "2023-11-11T11:52:54.804Z"
   },
   {
    "duration": 169,
    "start_time": "2023-11-11T11:52:55.051Z"
   },
   {
    "duration": 78,
    "start_time": "2023-11-11T11:52:55.221Z"
   },
   {
    "duration": 7,
    "start_time": "2023-11-11T11:53:08.010Z"
   },
   {
    "duration": 8,
    "start_time": "2023-11-11T11:57:05.493Z"
   },
   {
    "duration": 7,
    "start_time": "2023-11-11T11:59:52.721Z"
   },
   {
    "duration": 170,
    "start_time": "2023-11-11T12:00:35.233Z"
   },
   {
    "duration": 305,
    "start_time": "2023-11-11T12:09:32.269Z"
   },
   {
    "duration": 149,
    "start_time": "2023-11-11T12:10:07.342Z"
   },
   {
    "duration": 7,
    "start_time": "2023-11-11T12:19:24.467Z"
   },
   {
    "duration": 4,
    "start_time": "2023-11-11T12:20:58.682Z"
   },
   {
    "duration": 5,
    "start_time": "2023-11-11T12:23:40.082Z"
   },
   {
    "duration": 277,
    "start_time": "2023-11-11T12:25:11.419Z"
   },
   {
    "duration": 259,
    "start_time": "2023-11-11T12:25:30.754Z"
   },
   {
    "duration": 256,
    "start_time": "2023-11-11T12:26:06.592Z"
   },
   {
    "duration": 209,
    "start_time": "2023-11-11T12:30:20.543Z"
   },
   {
    "duration": 216,
    "start_time": "2023-11-11T12:31:04.543Z"
   },
   {
    "duration": 9,
    "start_time": "2023-11-11T12:31:17.046Z"
   },
   {
    "duration": 367,
    "start_time": "2023-11-11T12:31:37.798Z"
   },
   {
    "duration": 91,
    "start_time": "2023-11-12T16:40:18.812Z"
   },
   {
    "duration": 82,
    "start_time": "2023-11-12T16:40:38.610Z"
   },
   {
    "duration": 47,
    "start_time": "2023-11-12T16:40:51.862Z"
   },
   {
    "duration": 5,
    "start_time": "2023-11-12T16:41:34.696Z"
   },
   {
    "duration": 749,
    "start_time": "2023-11-12T16:41:44.690Z"
   },
   {
    "duration": 69,
    "start_time": "2023-11-12T16:41:45.441Z"
   },
   {
    "duration": 7,
    "start_time": "2023-11-12T16:41:45.512Z"
   },
   {
    "duration": 4,
    "start_time": "2023-11-12T16:41:45.521Z"
   },
   {
    "duration": 5,
    "start_time": "2023-11-12T16:41:45.528Z"
   },
   {
    "duration": 5,
    "start_time": "2023-11-12T16:41:45.534Z"
   },
   {
    "duration": 29,
    "start_time": "2023-11-12T16:41:45.541Z"
   },
   {
    "duration": 369,
    "start_time": "2023-11-12T16:41:45.572Z"
   },
   {
    "duration": 262,
    "start_time": "2023-11-12T16:41:45.943Z"
   },
   {
    "duration": 168,
    "start_time": "2023-11-12T16:41:46.207Z"
   },
   {
    "duration": 5,
    "start_time": "2023-11-12T16:41:46.377Z"
   },
   {
    "duration": 10,
    "start_time": "2023-11-12T16:41:46.384Z"
   },
   {
    "duration": 163,
    "start_time": "2023-11-12T16:41:46.395Z"
   },
   {
    "duration": 4,
    "start_time": "2023-11-12T16:41:46.561Z"
   },
   {
    "duration": 6,
    "start_time": "2023-11-12T16:41:46.567Z"
   },
   {
    "duration": 304,
    "start_time": "2023-11-12T16:41:46.575Z"
   },
   {
    "duration": 452,
    "start_time": "2023-11-12T16:41:46.881Z"
   },
   {
    "duration": 6,
    "start_time": "2023-11-12T16:41:47.335Z"
   },
   {
    "duration": 10,
    "start_time": "2023-11-12T16:42:06.146Z"
   },
   {
    "duration": 12,
    "start_time": "2023-11-12T16:43:05.936Z"
   },
   {
    "duration": 83,
    "start_time": "2023-11-12T16:43:56.937Z"
   },
   {
    "duration": 9,
    "start_time": "2023-11-12T16:44:03.418Z"
   },
   {
    "duration": 111,
    "start_time": "2023-11-12T16:44:14.672Z"
   },
   {
    "duration": 8,
    "start_time": "2023-11-12T17:09:31.501Z"
   },
   {
    "duration": 4,
    "start_time": "2023-11-12T17:09:38.592Z"
   },
   {
    "duration": 12,
    "start_time": "2023-11-12T17:15:34.981Z"
   },
   {
    "duration": 10,
    "start_time": "2023-11-12T17:16:16.855Z"
   },
   {
    "duration": 117,
    "start_time": "2023-11-12T17:17:07.291Z"
   },
   {
    "duration": 4,
    "start_time": "2023-11-12T17:21:21.655Z"
   },
   {
    "duration": 14,
    "start_time": "2023-11-12T17:36:03.284Z"
   },
   {
    "duration": 77,
    "start_time": "2023-11-12T17:36:58.577Z"
   },
   {
    "duration": 96,
    "start_time": "2023-11-12T17:37:18.577Z"
   },
   {
    "duration": 1414,
    "start_time": "2023-11-12T17:37:21.004Z"
   },
   {
    "duration": 95,
    "start_time": "2023-11-12T17:43:15.457Z"
   },
   {
    "duration": 110,
    "start_time": "2023-11-12T17:44:23.932Z"
   },
   {
    "duration": 110,
    "start_time": "2023-11-12T17:45:23.240Z"
   },
   {
    "duration": 290,
    "start_time": "2023-11-12T17:45:43.526Z"
   },
   {
    "duration": 220,
    "start_time": "2023-11-12T17:46:02.961Z"
   },
   {
    "duration": 63,
    "start_time": "2023-11-12T17:46:08.404Z"
   },
   {
    "duration": 77,
    "start_time": "2023-11-12T17:46:09.723Z"
   },
   {
    "duration": 941,
    "start_time": "2023-11-12T17:46:16.853Z"
   },
   {
    "duration": 675,
    "start_time": "2023-11-12T17:48:02.222Z"
   },
   {
    "duration": 27,
    "start_time": "2023-11-12T17:48:02.899Z"
   },
   {
    "duration": 6,
    "start_time": "2023-11-12T17:48:02.928Z"
   },
   {
    "duration": 14,
    "start_time": "2023-11-12T17:48:02.936Z"
   },
   {
    "duration": 9,
    "start_time": "2023-11-12T17:48:02.952Z"
   },
   {
    "duration": 9,
    "start_time": "2023-11-12T17:48:02.963Z"
   },
   {
    "duration": 21,
    "start_time": "2023-11-12T17:48:02.974Z"
   },
   {
    "duration": 335,
    "start_time": "2023-11-12T17:48:02.997Z"
   },
   {
    "duration": 277,
    "start_time": "2023-11-12T17:48:03.333Z"
   },
   {
    "duration": 180,
    "start_time": "2023-11-12T17:48:03.612Z"
   },
   {
    "duration": 5,
    "start_time": "2023-11-12T17:48:03.794Z"
   },
   {
    "duration": 20,
    "start_time": "2023-11-12T17:48:03.801Z"
   },
   {
    "duration": 166,
    "start_time": "2023-11-12T17:48:03.823Z"
   },
   {
    "duration": 4,
    "start_time": "2023-11-12T17:48:03.991Z"
   },
   {
    "duration": 5,
    "start_time": "2023-11-12T17:48:03.997Z"
   },
   {
    "duration": 321,
    "start_time": "2023-11-12T17:48:04.003Z"
   },
   {
    "duration": 382,
    "start_time": "2023-11-12T17:48:04.326Z"
   },
   {
    "duration": 10,
    "start_time": "2023-11-12T17:48:04.710Z"
   },
   {
    "duration": 125,
    "start_time": "2023-11-12T17:48:04.721Z"
   },
   {
    "duration": 8,
    "start_time": "2023-11-12T17:48:04.847Z"
   },
   {
    "duration": 13,
    "start_time": "2023-11-12T17:48:04.858Z"
   },
   {
    "duration": 145,
    "start_time": "2023-11-12T17:48:04.872Z"
   },
   {
    "duration": 13,
    "start_time": "2023-11-12T17:48:05.018Z"
   },
   {
    "duration": 246,
    "start_time": "2023-11-12T17:48:05.033Z"
   },
   {
    "duration": 76,
    "start_time": "2023-11-12T17:48:05.280Z"
   },
   {
    "duration": 89,
    "start_time": "2023-11-12T17:48:05.357Z"
   },
   {
    "duration": 71,
    "start_time": "2023-11-12T17:48:05.448Z"
   },
   {
    "duration": 1107,
    "start_time": "2023-11-12T17:49:52.082Z"
   },
   {
    "duration": 26,
    "start_time": "2023-11-12T17:49:53.191Z"
   },
   {
    "duration": 6,
    "start_time": "2023-11-12T17:49:53.219Z"
   },
   {
    "duration": 10,
    "start_time": "2023-11-12T17:49:53.227Z"
   },
   {
    "duration": 5,
    "start_time": "2023-11-12T17:49:53.240Z"
   },
   {
    "duration": 6,
    "start_time": "2023-11-12T17:49:53.246Z"
   },
   {
    "duration": 27,
    "start_time": "2023-11-12T17:49:53.254Z"
   },
   {
    "duration": 332,
    "start_time": "2023-11-12T17:49:53.282Z"
   },
   {
    "duration": 307,
    "start_time": "2023-11-12T17:49:53.615Z"
   },
   {
    "duration": 204,
    "start_time": "2023-11-12T17:49:53.924Z"
   },
   {
    "duration": 9,
    "start_time": "2023-11-12T17:49:54.131Z"
   },
   {
    "duration": 28,
    "start_time": "2023-11-12T17:49:54.142Z"
   },
   {
    "duration": 181,
    "start_time": "2023-11-12T17:49:54.172Z"
   },
   {
    "duration": 6,
    "start_time": "2023-11-12T17:49:54.357Z"
   },
   {
    "duration": 13,
    "start_time": "2023-11-12T17:49:54.365Z"
   },
   {
    "duration": 301,
    "start_time": "2023-11-12T17:49:54.380Z"
   },
   {
    "duration": 405,
    "start_time": "2023-11-12T17:49:54.682Z"
   },
   {
    "duration": 10,
    "start_time": "2023-11-12T17:49:55.088Z"
   },
   {
    "duration": 141,
    "start_time": "2023-11-12T17:49:55.099Z"
   },
   {
    "duration": 4,
    "start_time": "2023-11-12T17:49:55.242Z"
   },
   {
    "duration": 18,
    "start_time": "2023-11-12T17:49:55.248Z"
   },
   {
    "duration": 157,
    "start_time": "2023-11-12T17:49:55.268Z"
   },
   {
    "duration": 8,
    "start_time": "2023-11-12T17:49:55.431Z"
   },
   {
    "duration": 229,
    "start_time": "2023-11-12T17:49:55.448Z"
   },
   {
    "duration": 78,
    "start_time": "2023-11-12T17:49:55.679Z"
   },
   {
    "duration": 71,
    "start_time": "2023-11-12T17:49:55.759Z"
   },
   {
    "duration": 38,
    "start_time": "2023-11-12T17:49:55.832Z"
   },
   {
    "duration": 12,
    "start_time": "2023-11-12T17:51:14.139Z"
   },
   {
    "duration": 1132,
    "start_time": "2023-11-12T17:56:51.965Z"
   },
   {
    "duration": 31,
    "start_time": "2023-11-12T18:05:57.413Z"
   },
   {
    "duration": 28,
    "start_time": "2023-11-12T18:08:40.082Z"
   },
   {
    "duration": 9,
    "start_time": "2023-11-12T18:10:09.249Z"
   },
   {
    "duration": 1160,
    "start_time": "2023-11-12T18:11:59.729Z"
   },
   {
    "duration": 27,
    "start_time": "2023-11-12T18:12:00.891Z"
   },
   {
    "duration": 7,
    "start_time": "2023-11-12T18:12:00.920Z"
   },
   {
    "duration": 43,
    "start_time": "2023-11-12T18:12:00.929Z"
   },
   {
    "duration": 51,
    "start_time": "2023-11-12T18:12:00.974Z"
   },
   {
    "duration": 61,
    "start_time": "2023-11-12T18:12:01.026Z"
   },
   {
    "duration": 57,
    "start_time": "2023-11-12T18:12:01.090Z"
   },
   {
    "duration": 350,
    "start_time": "2023-11-12T18:12:01.150Z"
   },
   {
    "duration": 294,
    "start_time": "2023-11-12T18:12:01.501Z"
   },
   {
    "duration": 174,
    "start_time": "2023-11-12T18:12:01.797Z"
   },
   {
    "duration": 6,
    "start_time": "2023-11-12T18:12:01.972Z"
   },
   {
    "duration": 34,
    "start_time": "2023-11-12T18:12:01.980Z"
   },
   {
    "duration": 166,
    "start_time": "2023-11-12T18:12:02.015Z"
   },
   {
    "duration": 5,
    "start_time": "2023-11-12T18:12:02.184Z"
   },
   {
    "duration": 19,
    "start_time": "2023-11-12T18:12:02.190Z"
   },
   {
    "duration": 246,
    "start_time": "2023-11-12T18:12:02.210Z"
   },
   {
    "duration": 412,
    "start_time": "2023-11-12T18:12:02.458Z"
   },
   {
    "duration": 9,
    "start_time": "2023-11-12T18:12:02.872Z"
   },
   {
    "duration": 121,
    "start_time": "2023-11-12T18:12:02.883Z"
   },
   {
    "duration": 4,
    "start_time": "2023-11-12T18:12:03.006Z"
   },
   {
    "duration": 25,
    "start_time": "2023-11-12T18:12:03.012Z"
   },
   {
    "duration": 133,
    "start_time": "2023-11-12T18:12:03.039Z"
   },
   {
    "duration": 4,
    "start_time": "2023-11-12T18:12:03.173Z"
   },
   {
    "duration": 224,
    "start_time": "2023-11-12T18:12:03.179Z"
   },
   {
    "duration": 73,
    "start_time": "2023-11-12T18:12:03.405Z"
   },
   {
    "duration": 91,
    "start_time": "2023-11-12T18:12:03.480Z"
   },
   {
    "duration": 37,
    "start_time": "2023-11-12T18:12:03.574Z"
   },
   {
    "duration": 11,
    "start_time": "2023-11-12T18:12:03.631Z"
   },
   {
    "duration": 1261,
    "start_time": "2023-11-12T18:16:07.673Z"
   },
   {
    "duration": 8,
    "start_time": "2023-11-12T18:16:39.012Z"
   },
   {
    "duration": 10,
    "start_time": "2023-11-12T18:18:23.589Z"
   },
   {
    "duration": 31,
    "start_time": "2023-11-12T18:23:39.270Z"
   },
   {
    "duration": 36,
    "start_time": "2023-11-12T18:30:16.086Z"
   },
   {
    "duration": 2572,
    "start_time": "2023-11-12T18:40:12.253Z"
   },
   {
    "duration": 1592,
    "start_time": "2023-11-12T18:41:02.456Z"
   },
   {
    "duration": 1308,
    "start_time": "2023-11-12T18:41:13.604Z"
   },
   {
    "duration": 17,
    "start_time": "2023-11-12T18:41:30.399Z"
   },
   {
    "duration": 1154,
    "start_time": "2023-11-12T18:53:47.366Z"
   },
   {
    "duration": 37,
    "start_time": "2023-11-12T18:53:48.521Z"
   },
   {
    "duration": 7,
    "start_time": "2023-11-12T18:53:48.560Z"
   },
   {
    "duration": 18,
    "start_time": "2023-11-12T18:53:48.568Z"
   },
   {
    "duration": 9,
    "start_time": "2023-11-12T18:53:48.588Z"
   },
   {
    "duration": 9,
    "start_time": "2023-11-12T18:53:48.599Z"
   },
   {
    "duration": 19,
    "start_time": "2023-11-12T18:53:48.609Z"
   },
   {
    "duration": 345,
    "start_time": "2023-11-12T18:53:48.630Z"
   },
   {
    "duration": 283,
    "start_time": "2023-11-12T18:53:48.976Z"
   },
   {
    "duration": 193,
    "start_time": "2023-11-12T18:53:49.260Z"
   },
   {
    "duration": 6,
    "start_time": "2023-11-12T18:53:49.455Z"
   },
   {
    "duration": 15,
    "start_time": "2023-11-12T18:53:49.463Z"
   },
   {
    "duration": 227,
    "start_time": "2023-11-12T18:53:49.480Z"
   },
   {
    "duration": 4,
    "start_time": "2023-11-12T18:53:49.711Z"
   },
   {
    "duration": 30,
    "start_time": "2023-11-12T18:53:49.717Z"
   },
   {
    "duration": 262,
    "start_time": "2023-11-12T18:53:49.749Z"
   },
   {
    "duration": 390,
    "start_time": "2023-11-12T18:53:50.013Z"
   },
   {
    "duration": 10,
    "start_time": "2023-11-12T18:53:50.405Z"
   },
   {
    "duration": 137,
    "start_time": "2023-11-12T18:53:50.416Z"
   },
   {
    "duration": 4,
    "start_time": "2023-11-12T18:53:50.555Z"
   },
   {
    "duration": 13,
    "start_time": "2023-11-12T18:53:50.561Z"
   },
   {
    "duration": 146,
    "start_time": "2023-11-12T18:53:50.575Z"
   },
   {
    "duration": 10,
    "start_time": "2023-11-12T18:53:50.723Z"
   },
   {
    "duration": 243,
    "start_time": "2023-11-12T18:53:50.735Z"
   },
   {
    "duration": 85,
    "start_time": "2023-11-12T18:53:50.980Z"
   },
   {
    "duration": 126,
    "start_time": "2023-11-12T18:53:51.067Z"
   },
   {
    "duration": 48,
    "start_time": "2023-11-12T18:53:51.196Z"
   },
   {
    "duration": 13,
    "start_time": "2023-11-12T18:53:51.247Z"
   },
   {
    "duration": 11,
    "start_time": "2023-11-12T18:53:51.262Z"
   },
   {
    "duration": 65,
    "start_time": "2023-11-12T18:53:51.275Z"
   },
   {
    "duration": 18,
    "start_time": "2023-11-12T18:53:51.342Z"
   },
   {
    "duration": 1152,
    "start_time": "2023-11-12T18:54:41.418Z"
   },
   {
    "duration": 26,
    "start_time": "2023-11-12T18:54:42.571Z"
   },
   {
    "duration": 6,
    "start_time": "2023-11-12T18:54:42.599Z"
   },
   {
    "duration": 8,
    "start_time": "2023-11-12T18:54:42.606Z"
   },
   {
    "duration": 5,
    "start_time": "2023-11-12T18:54:42.615Z"
   },
   {
    "duration": 6,
    "start_time": "2023-11-12T18:54:42.622Z"
   },
   {
    "duration": 27,
    "start_time": "2023-11-12T18:54:42.629Z"
   },
   {
    "duration": 312,
    "start_time": "2023-11-12T18:54:42.657Z"
   },
   {
    "duration": 282,
    "start_time": "2023-11-12T18:54:42.971Z"
   },
   {
    "duration": 187,
    "start_time": "2023-11-12T18:54:43.254Z"
   },
   {
    "duration": 6,
    "start_time": "2023-11-12T18:54:43.444Z"
   },
   {
    "duration": 16,
    "start_time": "2023-11-12T18:54:43.451Z"
   },
   {
    "duration": 175,
    "start_time": "2023-11-12T18:54:43.468Z"
   },
   {
    "duration": 4,
    "start_time": "2023-11-12T18:54:43.647Z"
   },
   {
    "duration": 12,
    "start_time": "2023-11-12T18:54:43.652Z"
   },
   {
    "duration": 254,
    "start_time": "2023-11-12T18:54:43.665Z"
   },
   {
    "duration": 367,
    "start_time": "2023-11-12T18:54:43.921Z"
   },
   {
    "duration": 10,
    "start_time": "2023-11-12T18:54:44.290Z"
   },
   {
    "duration": 117,
    "start_time": "2023-11-12T18:54:44.301Z"
   },
   {
    "duration": 13,
    "start_time": "2023-11-12T18:54:44.420Z"
   },
   {
    "duration": 18,
    "start_time": "2023-11-12T18:54:44.435Z"
   },
   {
    "duration": 121,
    "start_time": "2023-11-12T18:54:44.455Z"
   },
   {
    "duration": 4,
    "start_time": "2023-11-12T18:54:44.578Z"
   },
   {
    "duration": 238,
    "start_time": "2023-11-12T18:54:44.583Z"
   },
   {
    "duration": 72,
    "start_time": "2023-11-12T18:54:44.823Z"
   },
   {
    "duration": 76,
    "start_time": "2023-11-12T18:54:44.897Z"
   },
   {
    "duration": 27,
    "start_time": "2023-11-12T18:54:44.975Z"
   },
   {
    "duration": 10,
    "start_time": "2023-11-12T18:54:45.004Z"
   },
   {
    "duration": 84,
    "start_time": "2023-11-12T18:54:45.015Z"
   },
   {
    "duration": 49,
    "start_time": "2023-11-12T18:54:45.100Z"
   },
   {
    "duration": 13,
    "start_time": "2023-11-12T18:54:45.150Z"
   },
   {
    "duration": 1166,
    "start_time": "2023-11-12T18:55:03.537Z"
   },
   {
    "duration": 29,
    "start_time": "2023-11-12T18:55:04.705Z"
   },
   {
    "duration": 11,
    "start_time": "2023-11-12T18:55:04.736Z"
   },
   {
    "duration": 4,
    "start_time": "2023-11-12T18:55:04.748Z"
   },
   {
    "duration": 4,
    "start_time": "2023-11-12T18:55:04.754Z"
   },
   {
    "duration": 13,
    "start_time": "2023-11-12T18:55:04.760Z"
   },
   {
    "duration": 28,
    "start_time": "2023-11-12T18:55:04.774Z"
   },
   {
    "duration": 314,
    "start_time": "2023-11-12T18:55:04.804Z"
   },
   {
    "duration": 277,
    "start_time": "2023-11-12T18:55:05.119Z"
   },
   {
    "duration": 185,
    "start_time": "2023-11-12T18:55:05.398Z"
   },
   {
    "duration": 6,
    "start_time": "2023-11-12T18:55:05.585Z"
   },
   {
    "duration": 10,
    "start_time": "2023-11-12T18:55:05.593Z"
   },
   {
    "duration": 171,
    "start_time": "2023-11-12T18:55:05.604Z"
   },
   {
    "duration": 4,
    "start_time": "2023-11-12T18:55:05.777Z"
   },
   {
    "duration": 18,
    "start_time": "2023-11-12T18:55:05.782Z"
   },
   {
    "duration": 253,
    "start_time": "2023-11-12T18:55:05.801Z"
   },
   {
    "duration": 357,
    "start_time": "2023-11-12T18:55:06.056Z"
   },
   {
    "duration": 18,
    "start_time": "2023-11-12T18:55:06.415Z"
   },
   {
    "duration": 129,
    "start_time": "2023-11-12T18:55:06.435Z"
   },
   {
    "duration": 4,
    "start_time": "2023-11-12T18:55:06.565Z"
   },
   {
    "duration": 25,
    "start_time": "2023-11-12T18:55:06.571Z"
   },
   {
    "duration": 127,
    "start_time": "2023-11-12T18:55:06.597Z"
   },
   {
    "duration": 5,
    "start_time": "2023-11-12T18:55:06.730Z"
   },
   {
    "duration": 208,
    "start_time": "2023-11-12T18:55:06.737Z"
   },
   {
    "duration": 60,
    "start_time": "2023-11-12T18:55:06.947Z"
   },
   {
    "duration": 91,
    "start_time": "2023-11-12T18:55:07.009Z"
   },
   {
    "duration": 44,
    "start_time": "2023-11-12T18:55:07.102Z"
   },
   {
    "duration": 10,
    "start_time": "2023-11-12T18:55:07.147Z"
   },
   {
    "duration": 9,
    "start_time": "2023-11-12T18:55:07.158Z"
   },
   {
    "duration": 29,
    "start_time": "2023-11-12T18:55:07.168Z"
   },
   {
    "duration": 38,
    "start_time": "2023-11-12T18:55:07.199Z"
   },
   {
    "duration": 1095,
    "start_time": "2023-11-12T18:58:27.290Z"
   },
   {
    "duration": 26,
    "start_time": "2023-11-12T18:58:28.388Z"
   },
   {
    "duration": 14,
    "start_time": "2023-11-12T18:58:28.415Z"
   },
   {
    "duration": 45,
    "start_time": "2023-11-12T18:58:28.430Z"
   },
   {
    "duration": 36,
    "start_time": "2023-11-12T18:58:28.477Z"
   },
   {
    "duration": 50,
    "start_time": "2023-11-12T18:58:28.514Z"
   },
   {
    "duration": 54,
    "start_time": "2023-11-12T18:58:28.565Z"
   },
   {
    "duration": 327,
    "start_time": "2023-11-12T18:58:28.621Z"
   },
   {
    "duration": 277,
    "start_time": "2023-11-12T18:58:28.949Z"
   },
   {
    "duration": 173,
    "start_time": "2023-11-12T18:58:29.228Z"
   },
   {
    "duration": 5,
    "start_time": "2023-11-12T18:58:29.403Z"
   },
   {
    "duration": 31,
    "start_time": "2023-11-12T18:58:29.410Z"
   },
   {
    "duration": 174,
    "start_time": "2023-11-12T18:58:29.443Z"
   },
   {
    "duration": 4,
    "start_time": "2023-11-12T18:58:29.620Z"
   },
   {
    "duration": 18,
    "start_time": "2023-11-12T18:58:29.635Z"
   },
   {
    "duration": 315,
    "start_time": "2023-11-12T18:58:29.654Z"
   },
   {
    "duration": 436,
    "start_time": "2023-11-12T18:58:29.971Z"
   },
   {
    "duration": 10,
    "start_time": "2023-11-12T18:58:30.409Z"
   },
   {
    "duration": 146,
    "start_time": "2023-11-12T18:58:30.431Z"
   },
   {
    "duration": 4,
    "start_time": "2023-11-12T18:58:30.579Z"
   },
   {
    "duration": 66,
    "start_time": "2023-11-12T18:58:30.585Z"
   },
   {
    "duration": 160,
    "start_time": "2023-11-12T18:58:30.653Z"
   },
   {
    "duration": 4,
    "start_time": "2023-11-12T18:58:30.814Z"
   },
   {
    "duration": 241,
    "start_time": "2023-11-12T18:58:30.820Z"
   },
   {
    "duration": 93,
    "start_time": "2023-11-12T18:58:31.063Z"
   },
   {
    "duration": 107,
    "start_time": "2023-11-12T18:58:31.159Z"
   },
   {
    "duration": 32,
    "start_time": "2023-11-12T18:58:31.268Z"
   },
   {
    "duration": 17,
    "start_time": "2023-11-12T18:58:31.302Z"
   },
   {
    "duration": 40,
    "start_time": "2023-11-12T18:58:31.320Z"
   },
   {
    "duration": 67,
    "start_time": "2023-11-12T18:58:31.361Z"
   },
   {
    "duration": 67,
    "start_time": "2023-11-12T18:58:31.430Z"
   },
   {
    "duration": 1140,
    "start_time": "2023-11-12T18:58:53.398Z"
   },
   {
    "duration": 28,
    "start_time": "2023-11-12T18:58:54.541Z"
   },
   {
    "duration": 6,
    "start_time": "2023-11-12T18:58:54.571Z"
   },
   {
    "duration": 25,
    "start_time": "2023-11-12T18:58:54.579Z"
   },
   {
    "duration": 31,
    "start_time": "2023-11-12T18:58:54.606Z"
   },
   {
    "duration": 31,
    "start_time": "2023-11-12T18:58:54.639Z"
   },
   {
    "duration": 33,
    "start_time": "2023-11-12T18:58:54.671Z"
   },
   {
    "duration": 373,
    "start_time": "2023-11-12T18:58:54.705Z"
   },
   {
    "duration": 309,
    "start_time": "2023-11-12T18:58:55.080Z"
   },
   {
    "duration": 202,
    "start_time": "2023-11-12T18:58:55.391Z"
   },
   {
    "duration": 6,
    "start_time": "2023-11-12T18:58:55.595Z"
   },
   {
    "duration": 32,
    "start_time": "2023-11-12T18:58:55.603Z"
   },
   {
    "duration": 176,
    "start_time": "2023-11-12T18:58:55.637Z"
   },
   {
    "duration": 3,
    "start_time": "2023-11-12T18:58:55.816Z"
   },
   {
    "duration": 40,
    "start_time": "2023-11-12T18:58:55.821Z"
   },
   {
    "duration": 303,
    "start_time": "2023-11-12T18:58:55.863Z"
   },
   {
    "duration": 438,
    "start_time": "2023-11-12T18:58:56.169Z"
   },
   {
    "duration": 12,
    "start_time": "2023-11-12T18:58:56.609Z"
   },
   {
    "duration": 141,
    "start_time": "2023-11-12T18:58:56.630Z"
   },
   {
    "duration": 4,
    "start_time": "2023-11-12T18:58:56.774Z"
   },
   {
    "duration": 35,
    "start_time": "2023-11-12T18:58:56.780Z"
   },
   {
    "duration": 150,
    "start_time": "2023-11-12T18:58:56.817Z"
   },
   {
    "duration": 5,
    "start_time": "2023-11-12T18:58:56.968Z"
   },
   {
    "duration": 248,
    "start_time": "2023-11-12T18:58:56.974Z"
   },
   {
    "duration": 115,
    "start_time": "2023-11-12T18:58:57.224Z"
   },
   {
    "duration": 89,
    "start_time": "2023-11-12T18:58:57.342Z"
   },
   {
    "duration": 34,
    "start_time": "2023-11-12T18:58:57.433Z"
   },
   {
    "duration": 10,
    "start_time": "2023-11-12T18:58:57.468Z"
   },
   {
    "duration": 23,
    "start_time": "2023-11-12T18:58:57.480Z"
   },
   {
    "duration": 68,
    "start_time": "2023-11-12T18:58:57.505Z"
   },
   {
    "duration": 17,
    "start_time": "2023-11-12T18:58:57.575Z"
   },
   {
    "duration": 1163,
    "start_time": "2023-11-12T19:25:25.393Z"
   },
   {
    "duration": 70,
    "start_time": "2023-11-12T19:25:26.558Z"
   },
   {
    "duration": 7,
    "start_time": "2023-11-12T19:25:26.630Z"
   },
   {
    "duration": 16,
    "start_time": "2023-11-12T19:25:26.639Z"
   },
   {
    "duration": 5,
    "start_time": "2023-11-12T19:25:26.657Z"
   },
   {
    "duration": 6,
    "start_time": "2023-11-12T19:25:26.664Z"
   },
   {
    "duration": 22,
    "start_time": "2023-11-12T19:25:26.672Z"
   },
   {
    "duration": 397,
    "start_time": "2023-11-12T19:25:26.697Z"
   },
   {
    "duration": 318,
    "start_time": "2023-11-12T19:25:27.096Z"
   },
   {
    "duration": 201,
    "start_time": "2023-11-12T19:25:27.418Z"
   },
   {
    "duration": 14,
    "start_time": "2023-11-12T19:25:27.621Z"
   },
   {
    "duration": 35,
    "start_time": "2023-11-12T19:25:27.637Z"
   },
   {
    "duration": 218,
    "start_time": "2023-11-12T19:25:27.674Z"
   },
   {
    "duration": 5,
    "start_time": "2023-11-12T19:25:27.893Z"
   },
   {
    "duration": 21,
    "start_time": "2023-11-12T19:25:27.899Z"
   },
   {
    "duration": 259,
    "start_time": "2023-11-12T19:25:27.922Z"
   },
   {
    "duration": 400,
    "start_time": "2023-11-12T19:25:28.183Z"
   },
   {
    "duration": 10,
    "start_time": "2023-11-12T19:25:28.584Z"
   },
   {
    "duration": 133,
    "start_time": "2023-11-12T19:25:28.596Z"
   },
   {
    "duration": 5,
    "start_time": "2023-11-12T19:25:28.731Z"
   },
   {
    "duration": 26,
    "start_time": "2023-11-12T19:25:28.737Z"
   },
   {
    "duration": 127,
    "start_time": "2023-11-12T19:25:28.764Z"
   },
   {
    "duration": 4,
    "start_time": "2023-11-12T19:25:28.893Z"
   },
   {
    "duration": 206,
    "start_time": "2023-11-12T19:25:28.899Z"
   },
   {
    "duration": 72,
    "start_time": "2023-11-12T19:25:29.107Z"
   },
   {
    "duration": 72,
    "start_time": "2023-11-12T19:25:29.181Z"
   },
   {
    "duration": 29,
    "start_time": "2023-11-12T19:25:29.254Z"
   },
   {
    "duration": 10,
    "start_time": "2023-11-12T19:25:29.285Z"
   },
   {
    "duration": 34,
    "start_time": "2023-11-12T19:25:29.297Z"
   },
   {
    "duration": 32,
    "start_time": "2023-11-12T19:25:29.333Z"
   },
   {
    "duration": 14,
    "start_time": "2023-11-12T19:25:29.367Z"
   },
   {
    "duration": 1421,
    "start_time": "2023-11-13T12:51:12.608Z"
   },
   {
    "duration": 61,
    "start_time": "2023-11-13T12:51:14.032Z"
   },
   {
    "duration": 14,
    "start_time": "2023-11-13T12:51:14.095Z"
   },
   {
    "duration": 11,
    "start_time": "2023-11-13T12:51:14.111Z"
   },
   {
    "duration": 4,
    "start_time": "2023-11-13T12:51:14.124Z"
   },
   {
    "duration": 21,
    "start_time": "2023-11-13T12:51:14.130Z"
   },
   {
    "duration": 13,
    "start_time": "2023-11-13T12:51:14.153Z"
   },
   {
    "duration": 18,
    "start_time": "2023-11-13T12:51:14.167Z"
   },
   {
    "duration": 450,
    "start_time": "2023-11-13T12:51:14.188Z"
   },
   {
    "duration": 346,
    "start_time": "2023-11-13T12:51:14.640Z"
   },
   {
    "duration": 214,
    "start_time": "2023-11-13T12:51:14.988Z"
   },
   {
    "duration": 6,
    "start_time": "2023-11-13T12:51:15.204Z"
   },
   {
    "duration": 11,
    "start_time": "2023-11-13T12:51:15.212Z"
   },
   {
    "duration": 204,
    "start_time": "2023-11-13T12:51:15.225Z"
   },
   {
    "duration": 3,
    "start_time": "2023-11-13T12:51:15.431Z"
   },
   {
    "duration": 11,
    "start_time": "2023-11-13T12:51:15.436Z"
   },
   {
    "duration": 318,
    "start_time": "2023-11-13T12:51:15.449Z"
   },
   {
    "duration": 434,
    "start_time": "2023-11-13T12:51:15.769Z"
   },
   {
    "duration": 11,
    "start_time": "2023-11-13T12:51:16.205Z"
   },
   {
    "duration": 133,
    "start_time": "2023-11-13T12:51:16.218Z"
   },
   {
    "duration": 13,
    "start_time": "2023-11-13T12:51:16.352Z"
   },
   {
    "duration": 10,
    "start_time": "2023-11-13T12:51:16.367Z"
   },
   {
    "duration": 151,
    "start_time": "2023-11-13T12:51:16.379Z"
   },
   {
    "duration": 4,
    "start_time": "2023-11-13T12:51:16.532Z"
   },
   {
    "duration": 239,
    "start_time": "2023-11-13T12:51:16.538Z"
   },
   {
    "duration": 96,
    "start_time": "2023-11-13T12:51:16.779Z"
   },
   {
    "duration": 91,
    "start_time": "2023-11-13T12:51:16.877Z"
   },
   {
    "duration": 31,
    "start_time": "2023-11-13T12:51:16.971Z"
   },
   {
    "duration": 9,
    "start_time": "2023-11-13T12:51:17.004Z"
   },
   {
    "duration": 9,
    "start_time": "2023-11-13T12:51:17.015Z"
   },
   {
    "duration": 56,
    "start_time": "2023-11-13T12:51:17.025Z"
   },
   {
    "duration": 13,
    "start_time": "2023-11-13T12:51:17.083Z"
   },
   {
    "duration": 1177,
    "start_time": "2023-11-13T13:14:15.951Z"
   },
   {
    "duration": 27,
    "start_time": "2023-11-13T13:14:17.129Z"
   },
   {
    "duration": 13,
    "start_time": "2023-11-13T13:14:17.158Z"
   },
   {
    "duration": 6,
    "start_time": "2023-11-13T13:14:17.173Z"
   },
   {
    "duration": 4,
    "start_time": "2023-11-13T13:14:17.180Z"
   },
   {
    "duration": 4,
    "start_time": "2023-11-13T13:14:17.186Z"
   },
   {
    "duration": 4,
    "start_time": "2023-11-13T13:14:17.192Z"
   },
   {
    "duration": 16,
    "start_time": "2023-11-13T13:14:17.197Z"
   },
   {
    "duration": 56,
    "start_time": "2023-11-13T13:14:17.214Z"
   },
   {
    "duration": 274,
    "start_time": "2023-11-13T13:14:17.272Z"
   },
   {
    "duration": 292,
    "start_time": "2023-11-13T13:14:17.548Z"
   },
   {
    "duration": 183,
    "start_time": "2023-11-13T13:14:17.842Z"
   },
   {
    "duration": 5,
    "start_time": "2023-11-13T13:14:18.027Z"
   },
   {
    "duration": 12,
    "start_time": "2023-11-13T13:14:18.034Z"
   },
   {
    "duration": 177,
    "start_time": "2023-11-13T13:14:18.047Z"
   },
   {
    "duration": 4,
    "start_time": "2023-11-13T13:14:18.226Z"
   },
   {
    "duration": 6,
    "start_time": "2023-11-13T13:14:18.231Z"
   },
   {
    "duration": 270,
    "start_time": "2023-11-13T13:14:18.239Z"
   },
   {
    "duration": 419,
    "start_time": "2023-11-13T13:14:18.511Z"
   },
   {
    "duration": 15,
    "start_time": "2023-11-13T13:14:18.932Z"
   },
   {
    "duration": 142,
    "start_time": "2023-11-13T13:14:18.948Z"
   },
   {
    "duration": 4,
    "start_time": "2023-11-13T13:14:19.091Z"
   },
   {
    "duration": 11,
    "start_time": "2023-11-13T13:14:19.097Z"
   },
   {
    "duration": 143,
    "start_time": "2023-11-13T13:14:19.109Z"
   },
   {
    "duration": 12,
    "start_time": "2023-11-13T13:14:19.254Z"
   },
   {
    "duration": 211,
    "start_time": "2023-11-13T13:14:19.267Z"
   },
   {
    "duration": 66,
    "start_time": "2023-11-13T13:14:19.479Z"
   },
   {
    "duration": 88,
    "start_time": "2023-11-13T13:14:19.548Z"
   },
   {
    "duration": 43,
    "start_time": "2023-11-13T13:14:19.638Z"
   },
   {
    "duration": 10,
    "start_time": "2023-11-13T13:14:19.683Z"
   },
   {
    "duration": 19,
    "start_time": "2023-11-13T13:14:19.695Z"
   },
   {
    "duration": 32,
    "start_time": "2023-11-13T13:14:19.715Z"
   },
   {
    "duration": 24,
    "start_time": "2023-11-13T13:14:19.749Z"
   },
   {
    "duration": 10,
    "start_time": "2023-11-13T13:15:02.753Z"
   },
   {
    "duration": 6,
    "start_time": "2023-11-13T13:40:09.098Z"
   },
   {
    "duration": 6,
    "start_time": "2023-11-13T13:40:45.023Z"
   },
   {
    "duration": 10,
    "start_time": "2023-11-13T13:41:16.323Z"
   },
   {
    "duration": 6,
    "start_time": "2023-11-13T13:41:30.916Z"
   },
   {
    "duration": 5,
    "start_time": "2023-11-13T13:41:56.564Z"
   },
   {
    "duration": 216,
    "start_time": "2023-11-13T13:43:09.476Z"
   },
   {
    "duration": 1196,
    "start_time": "2023-11-13T13:44:09.860Z"
   },
   {
    "duration": 28,
    "start_time": "2023-11-13T13:44:11.057Z"
   },
   {
    "duration": 13,
    "start_time": "2023-11-13T13:44:11.087Z"
   },
   {
    "duration": 20,
    "start_time": "2023-11-13T13:44:11.103Z"
   },
   {
    "duration": 14,
    "start_time": "2023-11-13T13:44:11.125Z"
   },
   {
    "duration": 21,
    "start_time": "2023-11-13T13:44:11.141Z"
   },
   {
    "duration": 6,
    "start_time": "2023-11-13T13:44:11.164Z"
   },
   {
    "duration": 21,
    "start_time": "2023-11-13T13:44:11.172Z"
   },
   {
    "duration": 61,
    "start_time": "2023-11-13T13:44:11.194Z"
   },
   {
    "duration": 14,
    "start_time": "2023-11-13T13:44:11.259Z"
   },
   {
    "duration": 13,
    "start_time": "2023-11-13T13:44:11.275Z"
   },
   {
    "duration": 13,
    "start_time": "2023-11-13T13:44:11.290Z"
   },
   {
    "duration": 13,
    "start_time": "2023-11-13T13:44:11.305Z"
   },
   {
    "duration": 13,
    "start_time": "2023-11-13T13:44:11.320Z"
   },
   {
    "duration": 12,
    "start_time": "2023-11-13T13:44:11.335Z"
   },
   {
    "duration": 316,
    "start_time": "2023-11-13T13:44:11.349Z"
   },
   {
    "duration": 312,
    "start_time": "2023-11-13T13:44:11.666Z"
   },
   {
    "duration": 219,
    "start_time": "2023-11-13T13:44:11.980Z"
   },
   {
    "duration": 8,
    "start_time": "2023-11-13T13:44:12.201Z"
   },
   {
    "duration": 17,
    "start_time": "2023-11-13T13:44:12.211Z"
   },
   {
    "duration": 195,
    "start_time": "2023-11-13T13:44:12.230Z"
   },
   {
    "duration": 4,
    "start_time": "2023-11-13T13:44:12.427Z"
   },
   {
    "duration": 25,
    "start_time": "2023-11-13T13:44:12.433Z"
   },
   {
    "duration": 274,
    "start_time": "2023-11-13T13:44:12.460Z"
   },
   {
    "duration": 402,
    "start_time": "2023-11-13T13:44:12.736Z"
   },
   {
    "duration": 13,
    "start_time": "2023-11-13T13:44:13.140Z"
   },
   {
    "duration": 141,
    "start_time": "2023-11-13T13:44:13.166Z"
   },
   {
    "duration": 4,
    "start_time": "2023-11-13T13:44:13.311Z"
   },
   {
    "duration": 31,
    "start_time": "2023-11-13T13:44:13.317Z"
   },
   {
    "duration": 145,
    "start_time": "2023-11-13T13:44:13.350Z"
   },
   {
    "duration": 4,
    "start_time": "2023-11-13T13:44:13.496Z"
   },
   {
    "duration": 227,
    "start_time": "2023-11-13T13:44:13.502Z"
   },
   {
    "duration": 106,
    "start_time": "2023-11-13T13:44:13.731Z"
   },
   {
    "duration": 89,
    "start_time": "2023-11-13T13:44:13.838Z"
   },
   {
    "duration": 49,
    "start_time": "2023-11-13T13:44:13.929Z"
   },
   {
    "duration": 11,
    "start_time": "2023-11-13T13:44:13.980Z"
   },
   {
    "duration": 10,
    "start_time": "2023-11-13T13:44:13.992Z"
   },
   {
    "duration": 44,
    "start_time": "2023-11-13T13:44:14.004Z"
   },
   {
    "duration": 25,
    "start_time": "2023-11-13T13:44:14.050Z"
   },
   {
    "duration": 193,
    "start_time": "2023-11-13T13:45:05.030Z"
   },
   {
    "duration": 378,
    "start_time": "2023-11-13T13:46:20.113Z"
   },
   {
    "duration": 236,
    "start_time": "2023-11-13T13:47:29.445Z"
   },
   {
    "duration": 214,
    "start_time": "2023-11-13T13:47:40.004Z"
   },
   {
    "duration": 78,
    "start_time": "2023-11-13T13:48:18.471Z"
   },
   {
    "duration": 211,
    "start_time": "2023-11-13T13:48:30.662Z"
   },
   {
    "duration": 202,
    "start_time": "2023-11-13T13:48:37.020Z"
   },
   {
    "duration": 202,
    "start_time": "2023-11-13T13:48:43.490Z"
   },
   {
    "duration": 218,
    "start_time": "2023-11-13T13:48:49.204Z"
   },
   {
    "duration": 339,
    "start_time": "2023-11-13T13:49:59.245Z"
   },
   {
    "duration": 369,
    "start_time": "2023-11-13T13:50:16.693Z"
   },
   {
    "duration": 265,
    "start_time": "2023-11-13T13:50:44.839Z"
   },
   {
    "duration": 230,
    "start_time": "2023-11-13T13:50:51.062Z"
   },
   {
    "duration": 228,
    "start_time": "2023-11-13T13:50:58.447Z"
   },
   {
    "duration": 228,
    "start_time": "2023-11-13T13:51:08.452Z"
   },
   {
    "duration": 241,
    "start_time": "2023-11-13T13:54:45.286Z"
   },
   {
    "duration": 215,
    "start_time": "2023-11-13T13:56:26.992Z"
   },
   {
    "duration": 56,
    "start_time": "2023-11-13T13:59:25.591Z"
   },
   {
    "duration": 1208,
    "start_time": "2023-11-13T13:59:32.833Z"
   },
   {
    "duration": 27,
    "start_time": "2023-11-13T13:59:34.043Z"
   },
   {
    "duration": 13,
    "start_time": "2023-11-13T13:59:34.072Z"
   },
   {
    "duration": 5,
    "start_time": "2023-11-13T13:59:34.087Z"
   },
   {
    "duration": 3,
    "start_time": "2023-11-13T13:59:34.094Z"
   },
   {
    "duration": 6,
    "start_time": "2023-11-13T13:59:34.099Z"
   },
   {
    "duration": 5,
    "start_time": "2023-11-13T13:59:34.107Z"
   },
   {
    "duration": 65,
    "start_time": "2023-11-13T13:59:34.113Z"
   },
   {
    "duration": 58,
    "start_time": "2023-11-13T13:59:34.181Z"
   },
   {
    "duration": 13,
    "start_time": "2023-11-13T13:59:34.241Z"
   },
   {
    "duration": 10,
    "start_time": "2023-11-13T13:59:34.256Z"
   },
   {
    "duration": 10,
    "start_time": "2023-11-13T13:59:34.270Z"
   },
   {
    "duration": 11,
    "start_time": "2023-11-13T13:59:34.283Z"
   },
   {
    "duration": 7,
    "start_time": "2023-11-13T13:59:34.295Z"
   },
   {
    "duration": 6,
    "start_time": "2023-11-13T13:59:34.304Z"
   },
   {
    "duration": 333,
    "start_time": "2023-11-13T13:59:34.312Z"
   },
   {
    "duration": 349,
    "start_time": "2023-11-13T13:59:34.646Z"
   },
   {
    "duration": 235,
    "start_time": "2023-11-13T13:59:34.997Z"
   },
   {
    "duration": 7,
    "start_time": "2023-11-13T13:59:35.234Z"
   },
   {
    "duration": 24,
    "start_time": "2023-11-13T13:59:35.243Z"
   },
   {
    "duration": 199,
    "start_time": "2023-11-13T13:59:35.269Z"
   },
   {
    "duration": 5,
    "start_time": "2023-11-13T13:59:35.471Z"
   },
   {
    "duration": 12,
    "start_time": "2023-11-13T13:59:35.479Z"
   },
   {
    "duration": 330,
    "start_time": "2023-11-13T13:59:35.493Z"
   },
   {
    "duration": 427,
    "start_time": "2023-11-13T13:59:35.825Z"
   },
   {
    "duration": 20,
    "start_time": "2023-11-13T13:59:36.254Z"
   },
   {
    "duration": 139,
    "start_time": "2023-11-13T13:59:36.276Z"
   },
   {
    "duration": 5,
    "start_time": "2023-11-13T13:59:36.420Z"
   },
   {
    "duration": 20,
    "start_time": "2023-11-13T13:59:36.427Z"
   },
   {
    "duration": 149,
    "start_time": "2023-11-13T13:59:36.449Z"
   },
   {
    "duration": 5,
    "start_time": "2023-11-13T13:59:36.600Z"
   },
   {
    "duration": 264,
    "start_time": "2023-11-13T13:59:36.607Z"
   },
   {
    "duration": 77,
    "start_time": "2023-11-13T13:59:36.874Z"
   },
   {
    "duration": 108,
    "start_time": "2023-11-13T13:59:36.966Z"
   },
   {
    "duration": 31,
    "start_time": "2023-11-13T13:59:37.076Z"
   },
   {
    "duration": 11,
    "start_time": "2023-11-13T13:59:37.108Z"
   },
   {
    "duration": 9,
    "start_time": "2023-11-13T13:59:37.121Z"
   },
   {
    "duration": 68,
    "start_time": "2023-11-13T13:59:37.132Z"
   },
   {
    "duration": 15,
    "start_time": "2023-11-13T13:59:37.202Z"
   },
   {
    "duration": 112,
    "start_time": "2023-11-13T14:00:34.705Z"
   },
   {
    "duration": 202,
    "start_time": "2023-11-13T14:00:41.406Z"
   },
   {
    "duration": 299,
    "start_time": "2023-11-13T14:02:23.606Z"
   },
   {
    "duration": 205,
    "start_time": "2023-11-13T14:02:32.760Z"
   },
   {
    "duration": 200,
    "start_time": "2023-11-13T14:02:45.890Z"
   },
   {
    "duration": 212,
    "start_time": "2023-11-13T14:02:54.153Z"
   },
   {
    "duration": 292,
    "start_time": "2023-11-13T14:03:20.974Z"
   },
   {
    "duration": 309,
    "start_time": "2023-11-13T14:04:26.337Z"
   },
   {
    "duration": 318,
    "start_time": "2023-11-13T14:05:40.573Z"
   },
   {
    "duration": 409,
    "start_time": "2023-11-13T14:06:20.622Z"
   },
   {
    "duration": 462,
    "start_time": "2023-11-13T14:07:20.606Z"
   },
   {
    "duration": 179,
    "start_time": "2023-11-13T14:09:24.538Z"
   },
   {
    "duration": 170,
    "start_time": "2023-11-13T14:09:39.138Z"
   },
   {
    "duration": 236,
    "start_time": "2023-11-13T14:09:53.987Z"
   },
   {
    "duration": 159,
    "start_time": "2023-11-13T14:11:08.172Z"
   },
   {
    "duration": 180,
    "start_time": "2023-11-13T14:15:29.962Z"
   },
   {
    "duration": 173,
    "start_time": "2023-11-13T14:15:47.711Z"
   },
   {
    "duration": 1396,
    "start_time": "2023-11-13T16:38:31.516Z"
   },
   {
    "duration": 78,
    "start_time": "2023-11-13T16:38:32.913Z"
   },
   {
    "duration": 13,
    "start_time": "2023-11-13T16:38:32.993Z"
   },
   {
    "duration": 5,
    "start_time": "2023-11-13T16:38:33.008Z"
   },
   {
    "duration": 7,
    "start_time": "2023-11-13T16:38:33.014Z"
   },
   {
    "duration": 11,
    "start_time": "2023-11-13T16:38:33.023Z"
   },
   {
    "duration": 4,
    "start_time": "2023-11-13T16:38:33.044Z"
   },
   {
    "duration": 34,
    "start_time": "2023-11-13T16:38:33.051Z"
   },
   {
    "duration": 125,
    "start_time": "2023-11-13T16:38:33.087Z"
   },
   {
    "duration": 10,
    "start_time": "2023-11-13T16:38:33.214Z"
   },
   {
    "duration": 18,
    "start_time": "2023-11-13T16:38:33.226Z"
   },
   {
    "duration": 7,
    "start_time": "2023-11-13T16:38:33.246Z"
   },
   {
    "duration": 11,
    "start_time": "2023-11-13T16:38:33.255Z"
   },
   {
    "duration": 8,
    "start_time": "2023-11-13T16:38:33.268Z"
   },
   {
    "duration": 8,
    "start_time": "2023-11-13T16:38:33.277Z"
   },
   {
    "duration": 304,
    "start_time": "2023-11-13T16:38:33.287Z"
   },
   {
    "duration": 319,
    "start_time": "2023-11-13T16:38:33.592Z"
   },
   {
    "duration": 233,
    "start_time": "2023-11-13T16:38:33.913Z"
   },
   {
    "duration": 6,
    "start_time": "2023-11-13T16:38:34.148Z"
   },
   {
    "duration": 9,
    "start_time": "2023-11-13T16:38:34.156Z"
   },
   {
    "duration": 212,
    "start_time": "2023-11-13T16:38:34.166Z"
   },
   {
    "duration": 4,
    "start_time": "2023-11-13T16:38:34.380Z"
   },
   {
    "duration": 8,
    "start_time": "2023-11-13T16:38:34.386Z"
   },
   {
    "duration": 360,
    "start_time": "2023-11-13T16:38:34.395Z"
   },
   {
    "duration": 505,
    "start_time": "2023-11-13T16:38:34.757Z"
   },
   {
    "duration": 12,
    "start_time": "2023-11-13T16:38:35.263Z"
   },
   {
    "duration": 158,
    "start_time": "2023-11-13T16:38:35.276Z"
   },
   {
    "duration": 4,
    "start_time": "2023-11-13T16:38:35.445Z"
   },
   {
    "duration": 15,
    "start_time": "2023-11-13T16:38:35.450Z"
   },
   {
    "duration": 149,
    "start_time": "2023-11-13T16:38:35.466Z"
   },
   {
    "duration": 3,
    "start_time": "2023-11-13T16:38:35.617Z"
   },
   {
    "duration": 199,
    "start_time": "2023-11-13T16:38:35.622Z"
   },
   {
    "duration": 74,
    "start_time": "2023-11-13T16:38:35.823Z"
   },
   {
    "duration": 80,
    "start_time": "2023-11-13T16:38:35.898Z"
   },
   {
    "duration": 28,
    "start_time": "2023-11-13T16:38:35.979Z"
   },
   {
    "duration": 35,
    "start_time": "2023-11-13T16:38:36.009Z"
   },
   {
    "duration": 8,
    "start_time": "2023-11-13T16:38:36.046Z"
   },
   {
    "duration": 33,
    "start_time": "2023-11-13T16:38:36.056Z"
   },
   {
    "duration": 12,
    "start_time": "2023-11-13T16:38:36.091Z"
   },
   {
    "duration": 1146,
    "start_time": "2023-11-13T16:39:38.041Z"
   },
   {
    "duration": 26,
    "start_time": "2023-11-13T16:39:39.189Z"
   },
   {
    "duration": 12,
    "start_time": "2023-11-13T16:39:39.217Z"
   },
   {
    "duration": 6,
    "start_time": "2023-11-13T16:39:39.232Z"
   },
   {
    "duration": 4,
    "start_time": "2023-11-13T16:39:39.240Z"
   },
   {
    "duration": 5,
    "start_time": "2023-11-13T16:39:39.245Z"
   },
   {
    "duration": 26,
    "start_time": "2023-11-13T16:39:39.252Z"
   },
   {
    "duration": 16,
    "start_time": "2023-11-13T16:39:39.280Z"
   },
   {
    "duration": 59,
    "start_time": "2023-11-13T16:39:39.297Z"
   },
   {
    "duration": 11,
    "start_time": "2023-11-13T16:39:39.358Z"
   },
   {
    "duration": 18,
    "start_time": "2023-11-13T16:39:39.370Z"
   },
   {
    "duration": 17,
    "start_time": "2023-11-13T16:39:39.390Z"
   },
   {
    "duration": 14,
    "start_time": "2023-11-13T16:39:39.409Z"
   },
   {
    "duration": 20,
    "start_time": "2023-11-13T16:39:39.424Z"
   },
   {
    "duration": 16,
    "start_time": "2023-11-13T16:39:39.448Z"
   },
   {
    "duration": 315,
    "start_time": "2023-11-13T16:39:39.466Z"
   },
   {
    "duration": 308,
    "start_time": "2023-11-13T16:39:39.783Z"
   },
   {
    "duration": 208,
    "start_time": "2023-11-13T16:39:40.093Z"
   },
   {
    "duration": 7,
    "start_time": "2023-11-13T16:39:40.303Z"
   },
   {
    "duration": 28,
    "start_time": "2023-11-13T16:39:40.312Z"
   },
   {
    "duration": 207,
    "start_time": "2023-11-13T16:39:40.347Z"
   },
   {
    "duration": 4,
    "start_time": "2023-11-13T16:39:40.556Z"
   },
   {
    "duration": 8,
    "start_time": "2023-11-13T16:39:40.561Z"
   },
   {
    "duration": 321,
    "start_time": "2023-11-13T16:39:40.570Z"
   },
   {
    "duration": 432,
    "start_time": "2023-11-13T16:39:40.893Z"
   },
   {
    "duration": 19,
    "start_time": "2023-11-13T16:39:41.326Z"
   },
   {
    "duration": 156,
    "start_time": "2023-11-13T16:39:41.347Z"
   },
   {
    "duration": 5,
    "start_time": "2023-11-13T16:39:41.507Z"
   },
   {
    "duration": 34,
    "start_time": "2023-11-13T16:39:41.513Z"
   },
   {
    "duration": 151,
    "start_time": "2023-11-13T16:39:41.549Z"
   },
   {
    "duration": 5,
    "start_time": "2023-11-13T16:39:41.702Z"
   },
   {
    "duration": 233,
    "start_time": "2023-11-13T16:39:41.709Z"
   },
   {
    "duration": 61,
    "start_time": "2023-11-13T16:39:41.947Z"
   },
   {
    "duration": 81,
    "start_time": "2023-11-13T16:39:42.010Z"
   },
   {
    "duration": 27,
    "start_time": "2023-11-13T16:39:42.093Z"
   },
   {
    "duration": 22,
    "start_time": "2023-11-13T16:39:42.121Z"
   },
   {
    "duration": 9,
    "start_time": "2023-11-13T16:39:42.145Z"
   },
   {
    "duration": 31,
    "start_time": "2023-11-13T16:39:42.155Z"
   },
   {
    "duration": 12,
    "start_time": "2023-11-13T16:39:42.188Z"
   }
  ],
  "kernelspec": {
   "display_name": "Python 3 (ipykernel)",
   "language": "python",
   "name": "python3"
  },
  "language_info": {
   "codemirror_mode": {
    "name": "ipython",
    "version": 3
   },
   "file_extension": ".py",
   "mimetype": "text/x-python",
   "name": "python",
   "nbconvert_exporter": "python",
   "pygments_lexer": "ipython3",
   "version": "3.9.5"
  },
  "toc": {
   "base_numbering": 1,
   "nav_menu": {},
   "number_sections": true,
   "sideBar": true,
   "skip_h1_title": true,
   "title_cell": "Table of Contents",
   "title_sidebar": "Contents",
   "toc_cell": false,
   "toc_position": {},
   "toc_section_display": true,
   "toc_window_display": false
  }
 },
 "nbformat": 4,
 "nbformat_minor": 4
}
