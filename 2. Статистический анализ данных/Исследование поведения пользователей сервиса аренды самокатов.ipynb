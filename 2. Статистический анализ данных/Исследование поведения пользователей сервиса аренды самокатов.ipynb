{
 "cells": [
  {
   "cell_type": "markdown",
   "id": "a4c81792",
   "metadata": {},
   "source": [
    "Цель исследования:\n",
    "1. Определить зависимость пользователей с платной подпиской и без нее\n",
    "2. Выяснить какие пользователи приносят больше прибыли в месяц\n",
    "3. Проверить гипотезы, которые помогут сделать бизнес более прибыльным\n",
    "\n",
    "Ход исследования:\n",
    "\n",
    "Данные о пользователях, их поездках и статус подписки, я получу из файлов /datasets/users_go.csv, /datasets/rides_go.csv , /datasets/subscriptions_go.csv , соответственно. \n",
    "\n",
    "Данные надо проверить на наличие дубликатов и пропусков, если они есть надо устранить их, чтоб датасеты были готовы к полноценной работе. Далее мы проведем анализ пользователей и будес сравнивать результаты.\n",
    "\n",
    "Таким образом, мое исследование пройдет в семь этапов:\n",
    "1. Обзор данных\n",
    "2. Предобработка данных\n",
    "3. Исследовательский анализ данных\n",
    "4. Объединение данных\n",
    "5. Подсчёт выручки\n",
    "6. Проверка гипотез\n",
    "7. Обший вывод"
   ]
  },
  {
   "cell_type": "code",
   "execution_count": 1,
   "id": "72576667",
   "metadata": {},
   "outputs": [],
   "source": [
    "import pandas as pd\n",
    "import matplotlib.pyplot as plt\n",
    "import numpy as np\n",
    "from scipy import stats as st"
   ]
  },
  {
   "cell_type": "markdown",
   "id": "c42cbe00",
   "metadata": {},
   "source": [
    "#### Шаг 1. Загрузка данных"
   ]
  },
  {
   "cell_type": "code",
   "execution_count": 2,
   "id": "eff9f206",
   "metadata": {},
   "outputs": [],
   "source": [
    "data1 = pd.read_csv('/datasets/users_go.csv')\n",
    "data2 = pd.read_csv('/datasets/rides_go.csv')\n",
    "data3 = pd.read_csv('/datasets/subscriptions_go.csv')"
   ]
  },
  {
   "cell_type": "code",
   "execution_count": 3,
   "id": "d70f3907",
   "metadata": {},
   "outputs": [
    {
     "data": {
      "text/html": [
       "<div>\n",
       "<style scoped>\n",
       "    .dataframe tbody tr th:only-of-type {\n",
       "        vertical-align: middle;\n",
       "    }\n",
       "\n",
       "    .dataframe tbody tr th {\n",
       "        vertical-align: top;\n",
       "    }\n",
       "\n",
       "    .dataframe thead th {\n",
       "        text-align: right;\n",
       "    }\n",
       "</style>\n",
       "<table border=\"1\" class=\"dataframe\">\n",
       "  <thead>\n",
       "    <tr style=\"text-align: right;\">\n",
       "      <th></th>\n",
       "      <th>user_id</th>\n",
       "      <th>name</th>\n",
       "      <th>age</th>\n",
       "      <th>city</th>\n",
       "      <th>subscription_type</th>\n",
       "    </tr>\n",
       "  </thead>\n",
       "  <tbody>\n",
       "    <tr>\n",
       "      <th>0</th>\n",
       "      <td>1</td>\n",
       "      <td>Кира</td>\n",
       "      <td>22</td>\n",
       "      <td>Тюмень</td>\n",
       "      <td>ultra</td>\n",
       "    </tr>\n",
       "    <tr>\n",
       "      <th>1</th>\n",
       "      <td>2</td>\n",
       "      <td>Станислав</td>\n",
       "      <td>31</td>\n",
       "      <td>Омск</td>\n",
       "      <td>ultra</td>\n",
       "    </tr>\n",
       "    <tr>\n",
       "      <th>2</th>\n",
       "      <td>3</td>\n",
       "      <td>Алексей</td>\n",
       "      <td>20</td>\n",
       "      <td>Москва</td>\n",
       "      <td>ultra</td>\n",
       "    </tr>\n",
       "    <tr>\n",
       "      <th>3</th>\n",
       "      <td>4</td>\n",
       "      <td>Константин</td>\n",
       "      <td>26</td>\n",
       "      <td>Ростов-на-Дону</td>\n",
       "      <td>ultra</td>\n",
       "    </tr>\n",
       "    <tr>\n",
       "      <th>4</th>\n",
       "      <td>5</td>\n",
       "      <td>Адель</td>\n",
       "      <td>28</td>\n",
       "      <td>Омск</td>\n",
       "      <td>ultra</td>\n",
       "    </tr>\n",
       "    <tr>\n",
       "      <th>...</th>\n",
       "      <td>...</td>\n",
       "      <td>...</td>\n",
       "      <td>...</td>\n",
       "      <td>...</td>\n",
       "      <td>...</td>\n",
       "    </tr>\n",
       "    <tr>\n",
       "      <th>1560</th>\n",
       "      <td>829</td>\n",
       "      <td>Федор</td>\n",
       "      <td>29</td>\n",
       "      <td>Пятигорск</td>\n",
       "      <td>free</td>\n",
       "    </tr>\n",
       "    <tr>\n",
       "      <th>1561</th>\n",
       "      <td>809</td>\n",
       "      <td>Юрий</td>\n",
       "      <td>26</td>\n",
       "      <td>Сочи</td>\n",
       "      <td>free</td>\n",
       "    </tr>\n",
       "    <tr>\n",
       "      <th>1562</th>\n",
       "      <td>307</td>\n",
       "      <td>Ясмина</td>\n",
       "      <td>19</td>\n",
       "      <td>Краснодар</td>\n",
       "      <td>ultra</td>\n",
       "    </tr>\n",
       "    <tr>\n",
       "      <th>1563</th>\n",
       "      <td>47</td>\n",
       "      <td>Юрий</td>\n",
       "      <td>28</td>\n",
       "      <td>Тюмень</td>\n",
       "      <td>ultra</td>\n",
       "    </tr>\n",
       "    <tr>\n",
       "      <th>1564</th>\n",
       "      <td>1045</td>\n",
       "      <td>Артемий</td>\n",
       "      <td>28</td>\n",
       "      <td>Ростов-на-Дону</td>\n",
       "      <td>free</td>\n",
       "    </tr>\n",
       "  </tbody>\n",
       "</table>\n",
       "<p>1565 rows × 5 columns</p>\n",
       "</div>"
      ],
      "text/plain": [
       "      user_id        name  age            city subscription_type\n",
       "0           1        Кира   22          Тюмень             ultra\n",
       "1           2   Станислав   31            Омск             ultra\n",
       "2           3     Алексей   20          Москва             ultra\n",
       "3           4  Константин   26  Ростов-на-Дону             ultra\n",
       "4           5       Адель   28            Омск             ultra\n",
       "...       ...         ...  ...             ...               ...\n",
       "1560      829       Федор   29       Пятигорск              free\n",
       "1561      809        Юрий   26            Сочи              free\n",
       "1562      307      Ясмина   19       Краснодар             ultra\n",
       "1563       47        Юрий   28          Тюмень             ultra\n",
       "1564     1045     Артемий   28  Ростов-на-Дону              free\n",
       "\n",
       "[1565 rows x 5 columns]"
      ]
     },
     "metadata": {},
     "output_type": "display_data"
    },
    {
     "data": {
      "text/html": [
       "<div>\n",
       "<style scoped>\n",
       "    .dataframe tbody tr th:only-of-type {\n",
       "        vertical-align: middle;\n",
       "    }\n",
       "\n",
       "    .dataframe tbody tr th {\n",
       "        vertical-align: top;\n",
       "    }\n",
       "\n",
       "    .dataframe thead th {\n",
       "        text-align: right;\n",
       "    }\n",
       "</style>\n",
       "<table border=\"1\" class=\"dataframe\">\n",
       "  <thead>\n",
       "    <tr style=\"text-align: right;\">\n",
       "      <th></th>\n",
       "      <th>user_id</th>\n",
       "      <th>distance</th>\n",
       "      <th>duration</th>\n",
       "      <th>date</th>\n",
       "    </tr>\n",
       "  </thead>\n",
       "  <tbody>\n",
       "    <tr>\n",
       "      <th>0</th>\n",
       "      <td>1</td>\n",
       "      <td>4409.919140</td>\n",
       "      <td>25.599769</td>\n",
       "      <td>2021-01-01</td>\n",
       "    </tr>\n",
       "    <tr>\n",
       "      <th>1</th>\n",
       "      <td>1</td>\n",
       "      <td>2617.592153</td>\n",
       "      <td>15.816871</td>\n",
       "      <td>2021-01-18</td>\n",
       "    </tr>\n",
       "    <tr>\n",
       "      <th>2</th>\n",
       "      <td>1</td>\n",
       "      <td>754.159807</td>\n",
       "      <td>6.232113</td>\n",
       "      <td>2021-04-20</td>\n",
       "    </tr>\n",
       "    <tr>\n",
       "      <th>3</th>\n",
       "      <td>1</td>\n",
       "      <td>2694.783254</td>\n",
       "      <td>18.511000</td>\n",
       "      <td>2021-08-11</td>\n",
       "    </tr>\n",
       "    <tr>\n",
       "      <th>4</th>\n",
       "      <td>1</td>\n",
       "      <td>4028.687306</td>\n",
       "      <td>26.265803</td>\n",
       "      <td>2021-08-28</td>\n",
       "    </tr>\n",
       "    <tr>\n",
       "      <th>...</th>\n",
       "      <td>...</td>\n",
       "      <td>...</td>\n",
       "      <td>...</td>\n",
       "      <td>...</td>\n",
       "    </tr>\n",
       "    <tr>\n",
       "      <th>18063</th>\n",
       "      <td>1534</td>\n",
       "      <td>3781.098080</td>\n",
       "      <td>19.822962</td>\n",
       "      <td>2021-11-04</td>\n",
       "    </tr>\n",
       "    <tr>\n",
       "      <th>18064</th>\n",
       "      <td>1534</td>\n",
       "      <td>2840.423057</td>\n",
       "      <td>21.409799</td>\n",
       "      <td>2021-11-16</td>\n",
       "    </tr>\n",
       "    <tr>\n",
       "      <th>18065</th>\n",
       "      <td>1534</td>\n",
       "      <td>3826.185507</td>\n",
       "      <td>18.435051</td>\n",
       "      <td>2021-11-18</td>\n",
       "    </tr>\n",
       "    <tr>\n",
       "      <th>18066</th>\n",
       "      <td>1534</td>\n",
       "      <td>2902.308661</td>\n",
       "      <td>16.674362</td>\n",
       "      <td>2021-11-27</td>\n",
       "    </tr>\n",
       "    <tr>\n",
       "      <th>18067</th>\n",
       "      <td>1534</td>\n",
       "      <td>2371.711192</td>\n",
       "      <td>15.893917</td>\n",
       "      <td>2021-12-29</td>\n",
       "    </tr>\n",
       "  </tbody>\n",
       "</table>\n",
       "<p>18068 rows × 4 columns</p>\n",
       "</div>"
      ],
      "text/plain": [
       "       user_id     distance   duration        date\n",
       "0            1  4409.919140  25.599769  2021-01-01\n",
       "1            1  2617.592153  15.816871  2021-01-18\n",
       "2            1   754.159807   6.232113  2021-04-20\n",
       "3            1  2694.783254  18.511000  2021-08-11\n",
       "4            1  4028.687306  26.265803  2021-08-28\n",
       "...        ...          ...        ...         ...\n",
       "18063     1534  3781.098080  19.822962  2021-11-04\n",
       "18064     1534  2840.423057  21.409799  2021-11-16\n",
       "18065     1534  3826.185507  18.435051  2021-11-18\n",
       "18066     1534  2902.308661  16.674362  2021-11-27\n",
       "18067     1534  2371.711192  15.893917  2021-12-29\n",
       "\n",
       "[18068 rows x 4 columns]"
      ]
     },
     "metadata": {},
     "output_type": "display_data"
    },
    {
     "data": {
      "text/html": [
       "<div>\n",
       "<style scoped>\n",
       "    .dataframe tbody tr th:only-of-type {\n",
       "        vertical-align: middle;\n",
       "    }\n",
       "\n",
       "    .dataframe tbody tr th {\n",
       "        vertical-align: top;\n",
       "    }\n",
       "\n",
       "    .dataframe thead th {\n",
       "        text-align: right;\n",
       "    }\n",
       "</style>\n",
       "<table border=\"1\" class=\"dataframe\">\n",
       "  <thead>\n",
       "    <tr style=\"text-align: right;\">\n",
       "      <th></th>\n",
       "      <th>subscription_type</th>\n",
       "      <th>minute_price</th>\n",
       "      <th>start_ride_price</th>\n",
       "      <th>subscription_fee</th>\n",
       "    </tr>\n",
       "  </thead>\n",
       "  <tbody>\n",
       "    <tr>\n",
       "      <th>0</th>\n",
       "      <td>free</td>\n",
       "      <td>8</td>\n",
       "      <td>50</td>\n",
       "      <td>0</td>\n",
       "    </tr>\n",
       "    <tr>\n",
       "      <th>1</th>\n",
       "      <td>ultra</td>\n",
       "      <td>6</td>\n",
       "      <td>0</td>\n",
       "      <td>199</td>\n",
       "    </tr>\n",
       "  </tbody>\n",
       "</table>\n",
       "</div>"
      ],
      "text/plain": [
       "  subscription_type  minute_price  start_ride_price  subscription_fee\n",
       "0              free             8                50                 0\n",
       "1             ultra             6                 0               199"
      ]
     },
     "metadata": {},
     "output_type": "display_data"
    }
   ],
   "source": [
    "display(data1)\n",
    "display(data2)\n",
    "display(data3)"
   ]
  },
  {
   "cell_type": "markdown",
   "id": "dcd2fa8e",
   "metadata": {},
   "source": [
    "#исправил"
   ]
  },
  {
   "cell_type": "code",
   "execution_count": 4,
   "id": "bd78a0af",
   "metadata": {},
   "outputs": [
    {
     "name": "stdout",
     "output_type": "stream",
     "text": [
      "<class 'pandas.core.frame.DataFrame'>\n",
      "RangeIndex: 1565 entries, 0 to 1564\n",
      "Data columns (total 5 columns):\n",
      " #   Column             Non-Null Count  Dtype \n",
      "---  ------             --------------  ----- \n",
      " 0   user_id            1565 non-null   int64 \n",
      " 1   name               1565 non-null   object\n",
      " 2   age                1565 non-null   int64 \n",
      " 3   city               1565 non-null   object\n",
      " 4   subscription_type  1565 non-null   object\n",
      "dtypes: int64(2), object(3)\n",
      "memory usage: 61.3+ KB\n"
     ]
    }
   ],
   "source": [
    "data1.info()\n"
   ]
  },
  {
   "cell_type": "code",
   "execution_count": 5,
   "id": "255077ff",
   "metadata": {},
   "outputs": [
    {
     "name": "stdout",
     "output_type": "stream",
     "text": [
      "<class 'pandas.core.frame.DataFrame'>\n",
      "RangeIndex: 18068 entries, 0 to 18067\n",
      "Data columns (total 4 columns):\n",
      " #   Column    Non-Null Count  Dtype  \n",
      "---  ------    --------------  -----  \n",
      " 0   user_id   18068 non-null  int64  \n",
      " 1   distance  18068 non-null  float64\n",
      " 2   duration  18068 non-null  float64\n",
      " 3   date      18068 non-null  object \n",
      "dtypes: float64(2), int64(1), object(1)\n",
      "memory usage: 564.8+ KB\n"
     ]
    }
   ],
   "source": [
    "data2.info()"
   ]
  },
  {
   "cell_type": "code",
   "execution_count": 6,
   "id": "bdc9aee4",
   "metadata": {},
   "outputs": [
    {
     "name": "stdout",
     "output_type": "stream",
     "text": [
      "<class 'pandas.core.frame.DataFrame'>\n",
      "RangeIndex: 2 entries, 0 to 1\n",
      "Data columns (total 4 columns):\n",
      " #   Column             Non-Null Count  Dtype \n",
      "---  ------             --------------  ----- \n",
      " 0   subscription_type  2 non-null      object\n",
      " 1   minute_price       2 non-null      int64 \n",
      " 2   start_ride_price   2 non-null      int64 \n",
      " 3   subscription_fee   2 non-null      int64 \n",
      "dtypes: int64(3), object(1)\n",
      "memory usage: 192.0+ bytes\n"
     ]
    }
   ],
   "source": [
    "data3.info()"
   ]
  },
  {
   "cell_type": "markdown",
   "id": "e95ebca7",
   "metadata": {},
   "source": [
    "#### Шаг 2. Предобработка данных"
   ]
  },
  {
   "cell_type": "code",
   "execution_count": 7,
   "id": "af6d202c",
   "metadata": {},
   "outputs": [],
   "source": [
    "data2['date'] = pd.to_datetime(data2['date'],format = '%Y-%m-%d')"
   ]
  },
  {
   "cell_type": "code",
   "execution_count": 8,
   "id": "c71e76f9",
   "metadata": {},
   "outputs": [],
   "source": [
    "data2['month'] = data2['date'].dt.month"
   ]
  },
  {
   "cell_type": "code",
   "execution_count": 9,
   "id": "b20ae248",
   "metadata": {},
   "outputs": [
    {
     "name": "stdout",
     "output_type": "stream",
     "text": [
      "31\n"
     ]
    }
   ],
   "source": [
    "print(data1.duplicated().sum())"
   ]
  },
  {
   "cell_type": "code",
   "execution_count": 10,
   "id": "a4e22923",
   "metadata": {},
   "outputs": [],
   "source": [
    "data1 = data1.drop_duplicates().reset_index(drop=True)"
   ]
  },
  {
   "cell_type": "code",
   "execution_count": 11,
   "id": "1ac6a14a",
   "metadata": {},
   "outputs": [
    {
     "name": "stdout",
     "output_type": "stream",
     "text": [
      "0\n"
     ]
    }
   ],
   "source": [
    "print(data1.duplicated().sum())"
   ]
  },
  {
   "cell_type": "code",
   "execution_count": 12,
   "id": "d002f84a",
   "metadata": {},
   "outputs": [
    {
     "data": {
      "text/plain": [
       "user_id              0\n",
       "name                 0\n",
       "age                  0\n",
       "city                 0\n",
       "subscription_type    0\n",
       "dtype: int64"
      ]
     },
     "execution_count": 12,
     "metadata": {},
     "output_type": "execute_result"
    }
   ],
   "source": [
    "data1.isna().sum()"
   ]
  },
  {
   "cell_type": "code",
   "execution_count": 13,
   "id": "7f0be6f8",
   "metadata": {},
   "outputs": [
    {
     "data": {
      "text/plain": [
       "user_id     0\n",
       "distance    0\n",
       "duration    0\n",
       "date        0\n",
       "month       0\n",
       "dtype: int64"
      ]
     },
     "execution_count": 13,
     "metadata": {},
     "output_type": "execute_result"
    }
   ],
   "source": [
    "data2.isna().sum()"
   ]
  },
  {
   "cell_type": "code",
   "execution_count": 14,
   "id": "a49feec1",
   "metadata": {},
   "outputs": [
    {
     "data": {
      "text/plain": [
       "subscription_type    0\n",
       "minute_price         0\n",
       "start_ride_price     0\n",
       "subscription_fee     0\n",
       "dtype: int64"
      ]
     },
     "execution_count": 14,
     "metadata": {},
     "output_type": "execute_result"
    }
   ],
   "source": [
    "data3.isna().sum()"
   ]
  },
  {
   "cell_type": "code",
   "execution_count": 15,
   "id": "1ef77463",
   "metadata": {},
   "outputs": [
    {
     "data": {
      "text/html": [
       "<div>\n",
       "<style scoped>\n",
       "    .dataframe tbody tr th:only-of-type {\n",
       "        vertical-align: middle;\n",
       "    }\n",
       "\n",
       "    .dataframe tbody tr th {\n",
       "        vertical-align: top;\n",
       "    }\n",
       "\n",
       "    .dataframe thead th {\n",
       "        text-align: right;\n",
       "    }\n",
       "</style>\n",
       "<table border=\"1\" class=\"dataframe\">\n",
       "  <thead>\n",
       "    <tr style=\"text-align: right;\">\n",
       "      <th></th>\n",
       "      <th>user_id</th>\n",
       "      <th>name</th>\n",
       "      <th>age</th>\n",
       "      <th>city</th>\n",
       "      <th>subscription_type</th>\n",
       "    </tr>\n",
       "  </thead>\n",
       "  <tbody>\n",
       "    <tr>\n",
       "      <th>0</th>\n",
       "      <td>1</td>\n",
       "      <td>Кира</td>\n",
       "      <td>22</td>\n",
       "      <td>Тюмень</td>\n",
       "      <td>ultra</td>\n",
       "    </tr>\n",
       "    <tr>\n",
       "      <th>1</th>\n",
       "      <td>2</td>\n",
       "      <td>Станислав</td>\n",
       "      <td>31</td>\n",
       "      <td>Омск</td>\n",
       "      <td>ultra</td>\n",
       "    </tr>\n",
       "    <tr>\n",
       "      <th>2</th>\n",
       "      <td>3</td>\n",
       "      <td>Алексей</td>\n",
       "      <td>20</td>\n",
       "      <td>Москва</td>\n",
       "      <td>ultra</td>\n",
       "    </tr>\n",
       "    <tr>\n",
       "      <th>3</th>\n",
       "      <td>4</td>\n",
       "      <td>Константин</td>\n",
       "      <td>26</td>\n",
       "      <td>Ростов-на-Дону</td>\n",
       "      <td>ultra</td>\n",
       "    </tr>\n",
       "    <tr>\n",
       "      <th>4</th>\n",
       "      <td>5</td>\n",
       "      <td>Адель</td>\n",
       "      <td>28</td>\n",
       "      <td>Омск</td>\n",
       "      <td>ultra</td>\n",
       "    </tr>\n",
       "    <tr>\n",
       "      <th>...</th>\n",
       "      <td>...</td>\n",
       "      <td>...</td>\n",
       "      <td>...</td>\n",
       "      <td>...</td>\n",
       "      <td>...</td>\n",
       "    </tr>\n",
       "    <tr>\n",
       "      <th>1529</th>\n",
       "      <td>1530</td>\n",
       "      <td>Ростислав</td>\n",
       "      <td>29</td>\n",
       "      <td>Сочи</td>\n",
       "      <td>free</td>\n",
       "    </tr>\n",
       "    <tr>\n",
       "      <th>1530</th>\n",
       "      <td>1531</td>\n",
       "      <td>Никита</td>\n",
       "      <td>25</td>\n",
       "      <td>Пятигорск</td>\n",
       "      <td>free</td>\n",
       "    </tr>\n",
       "    <tr>\n",
       "      <th>1531</th>\n",
       "      <td>1532</td>\n",
       "      <td>Алексей</td>\n",
       "      <td>26</td>\n",
       "      <td>Тюмень</td>\n",
       "      <td>free</td>\n",
       "    </tr>\n",
       "    <tr>\n",
       "      <th>1532</th>\n",
       "      <td>1533</td>\n",
       "      <td>Степан</td>\n",
       "      <td>22</td>\n",
       "      <td>Краснодар</td>\n",
       "      <td>free</td>\n",
       "    </tr>\n",
       "    <tr>\n",
       "      <th>1533</th>\n",
       "      <td>1534</td>\n",
       "      <td>Альберт</td>\n",
       "      <td>25</td>\n",
       "      <td>Краснодар</td>\n",
       "      <td>free</td>\n",
       "    </tr>\n",
       "  </tbody>\n",
       "</table>\n",
       "<p>1534 rows × 5 columns</p>\n",
       "</div>"
      ],
      "text/plain": [
       "      user_id        name  age            city subscription_type\n",
       "0           1        Кира   22          Тюмень             ultra\n",
       "1           2   Станислав   31            Омск             ultra\n",
       "2           3     Алексей   20          Москва             ultra\n",
       "3           4  Константин   26  Ростов-на-Дону             ultra\n",
       "4           5       Адель   28            Омск             ultra\n",
       "...       ...         ...  ...             ...               ...\n",
       "1529     1530   Ростислав   29            Сочи              free\n",
       "1530     1531      Никита   25       Пятигорск              free\n",
       "1531     1532     Алексей   26          Тюмень              free\n",
       "1532     1533      Степан   22       Краснодар              free\n",
       "1533     1534     Альберт   25       Краснодар              free\n",
       "\n",
       "[1534 rows x 5 columns]"
      ]
     },
     "metadata": {},
     "output_type": "display_data"
    }
   ],
   "source": [
    "display(data1)"
   ]
  },
  {
   "cell_type": "markdown",
   "id": "343cf2e0",
   "metadata": {},
   "source": [
    "Исправил"
   ]
  },
  {
   "cell_type": "markdown",
   "id": "13099172",
   "metadata": {},
   "source": [
    "Вывод: Пропущенных данных в таблицах нет.\n",
    "\n",
    "Дубликаты имеются среди пользователей, удалили строки-дубликаты.\n",
    "\n",
    "Добавили столбец month с номер месяца."
   ]
  },
  {
   "cell_type": "markdown",
   "id": "212593c7",
   "metadata": {},
   "source": [
    "#### Шаг 3. Исследовательский анализ данных"
   ]
  },
  {
   "cell_type": "markdown",
   "id": "a4440664",
   "metadata": {},
   "source": []
  },
  {
   "cell_type": "code",
   "execution_count": 16,
   "id": "e3a4274c",
   "metadata": {},
   "outputs": [
    {
     "name": "stdout",
     "output_type": "stream",
     "text": [
      "Пятигорск         14.276402\n",
      "Екатеринбург      13.298566\n",
      "Ростов-на-Дону    12.907432\n",
      "Краснодар         12.581486\n",
      "Сочи              12.320730\n",
      "Омск              11.929596\n",
      "Тюмень            11.734029\n",
      "Москва            10.951760\n",
      "Name: city, dtype: float64\n"
     ]
    },
    {
     "data": {
      "image/png": "[encoded data removed]",
      "text/plain": [
       "<Figure size 432x288 with 1 Axes>"
      ]
     },
     "metadata": {},
     "output_type": "display_data"
    }
   ],
   "source": [
    "data1['city'].value_counts().plot(kind='pie', autopct = '%1.0f%%',title = 'Распределение пользователей по городам')\n",
    "data1['city'].value_counts().sum()\n",
    "print((data1['city'].value_counts() / data1['city'].value_counts().sum())*100)"
   ]
  },
  {
   "cell_type": "code",
   "execution_count": 17,
   "id": "8637bff1",
   "metadata": {},
   "outputs": [
    {
     "data": {
      "text/plain": [
       "count     1534\n",
       "unique       2\n",
       "top       free\n",
       "freq       835\n",
       "Name: subscription_type, dtype: object"
      ]
     },
     "execution_count": 17,
     "metadata": {},
     "output_type": "execute_result"
    },
    {
     "data": {
      "image/png": "[encoded data removed]",
      "text/plain": [
       "<Figure size 432x288 with 1 Axes>"
      ]
     },
     "metadata": {},
     "output_type": "display_data"
    }
   ],
   "source": [
    "data1['subscription_type'].value_counts().plot(kind='pie', autopct = '%1.0f%%',title = 'Распределение подписок')\n",
    "data1['subscription_type'].describe()"
   ]
  },
  {
   "cell_type": "code",
   "execution_count": 18,
   "id": "9ecf8319",
   "metadata": {},
   "outputs": [
    {
     "data": {
      "image/png": "[encoded data removed]",
      "text/plain": [
       "<Figure size 432x288 with 1 Axes>"
      ]
     },
     "metadata": {
      "needs_background": "light"
     },
     "output_type": "display_data"
    }
   ],
   "source": [
    "plt.hist(data1['age'], bins = 10)\n",
    "plt.title('Возраст пользователей')\n",
    "plt.xlabel('Возраст')\n",
    "plt.ylabel('Количество пользователей')\n",
    "plt.grid()\n",
    "plt.show()"
   ]
  },
  {
   "cell_type": "code",
   "execution_count": 19,
   "id": "34d09cb0",
   "metadata": {},
   "outputs": [
    {
     "data": {
      "image/png": "[encoded data removed]",
      "text/plain": [
       "<Figure size 432x288 with 1 Axes>"
      ]
     },
     "metadata": {
      "needs_background": "light"
     },
     "output_type": "display_data"
    }
   ],
   "source": [
    "plt.hist(data2['distance'], bins = 10)\n",
    "plt.title('Дистанция')\n",
    "plt.xlabel('Расстояние м')\n",
    "plt.grid()\n",
    "plt.show()"
   ]
  },
  {
   "cell_type": "code",
   "execution_count": 20,
   "id": "ec2342a8",
   "metadata": {},
   "outputs": [
    {
     "data": {
      "image/png": "[encoded data removed]",
      "text/plain": [
       "<Figure size 432x288 with 1 Axes>"
      ]
     },
     "metadata": {
      "needs_background": "light"
     },
     "output_type": "display_data"
    }
   ],
   "source": [
    "plt.hist(data2['duration'], bins = 10)\n",
    "plt.title('Время')\n",
    "plt.xlabel('Минуты')\n",
    "plt.grid()\n",
    "plt.show()"
   ]
  },
  {
   "cell_type": "markdown",
   "id": "7606d8d0",
   "metadata": {},
   "source": [
    "Вывод: \n",
    "3.1 частота встречаемости городов; в целом все города встречаются одинаковое количество раз, нет большого разброса между ними\n",
    "3.2 соотношение пользователей с подпиской и без подписки; пользователей с бесплатной подпиской чуть больше, чем пользователей оформивших подписку\n",
    "3.3 возраст пользователей; самому младшему пользователю 12, а самому старшему 43. средний показатель по возрасту 24-25 лет\n",
    "3.4 расстояние, которое пользователь преодолел за одну поездку; в среднем пользователь совершает поездки на расстояние 2,5 - 3 км\n",
    "3.5 продолжительность поездок. в среднем пользователи берут самокаты на 13-20 минут"
   ]
  },
  {
   "cell_type": "markdown",
   "id": "4ef51331",
   "metadata": {},
   "source": [
    "#### Шаг 4. Объединение данных"
   ]
  },
  {
   "cell_type": "code",
   "execution_count": 21,
   "id": "a92adfc5",
   "metadata": {},
   "outputs": [
    {
     "data": {
      "text/plain": [
       "1534"
      ]
     },
     "execution_count": 21,
     "metadata": {},
     "output_type": "execute_result"
    }
   ],
   "source": [
    "len(data1)"
   ]
  },
  {
   "cell_type": "code",
   "execution_count": 22,
   "id": "e222c086",
   "metadata": {},
   "outputs": [
    {
     "data": {
      "text/plain": [
       "18068"
      ]
     },
     "execution_count": 22,
     "metadata": {},
     "output_type": "execute_result"
    }
   ],
   "source": [
    "len(data2)"
   ]
  },
  {
   "cell_type": "code",
   "execution_count": 23,
   "id": "d7dc206f",
   "metadata": {},
   "outputs": [
    {
     "data": {
      "text/plain": [
       "2"
      ]
     },
     "execution_count": 23,
     "metadata": {},
     "output_type": "execute_result"
    }
   ],
   "source": [
    "len(data3)"
   ]
  },
  {
   "cell_type": "code",
   "execution_count": 24,
   "id": "52a957ca",
   "metadata": {},
   "outputs": [
    {
     "name": "stdout",
     "output_type": "stream",
     "text": [
      "<class 'pandas.core.frame.DataFrame'>\n",
      "RangeIndex: 1534 entries, 0 to 1533\n",
      "Data columns (total 5 columns):\n",
      " #   Column             Non-Null Count  Dtype \n",
      "---  ------             --------------  ----- \n",
      " 0   user_id            1534 non-null   int64 \n",
      " 1   name               1534 non-null   object\n",
      " 2   age                1534 non-null   int64 \n",
      " 3   city               1534 non-null   object\n",
      " 4   subscription_type  1534 non-null   object\n",
      "dtypes: int64(2), object(3)\n",
      "memory usage: 60.0+ KB\n"
     ]
    }
   ],
   "source": [
    "data1.info()"
   ]
  },
  {
   "cell_type": "code",
   "execution_count": 25,
   "id": "31f8db0b",
   "metadata": {},
   "outputs": [
    {
     "name": "stdout",
     "output_type": "stream",
     "text": [
      "<class 'pandas.core.frame.DataFrame'>\n",
      "RangeIndex: 18068 entries, 0 to 18067\n",
      "Data columns (total 5 columns):\n",
      " #   Column    Non-Null Count  Dtype         \n",
      "---  ------    --------------  -----         \n",
      " 0   user_id   18068 non-null  int64         \n",
      " 1   distance  18068 non-null  float64       \n",
      " 2   duration  18068 non-null  float64       \n",
      " 3   date      18068 non-null  datetime64[ns]\n",
      " 4   month     18068 non-null  int64         \n",
      "dtypes: datetime64[ns](1), float64(2), int64(2)\n",
      "memory usage: 705.9 KB\n"
     ]
    }
   ],
   "source": [
    "data2.info()"
   ]
  },
  {
   "cell_type": "code",
   "execution_count": 26,
   "id": "5ed2cb09",
   "metadata": {},
   "outputs": [
    {
     "name": "stdout",
     "output_type": "stream",
     "text": [
      "<class 'pandas.core.frame.DataFrame'>\n",
      "RangeIndex: 2 entries, 0 to 1\n",
      "Data columns (total 4 columns):\n",
      " #   Column             Non-Null Count  Dtype \n",
      "---  ------             --------------  ----- \n",
      " 0   subscription_type  2 non-null      object\n",
      " 1   minute_price       2 non-null      int64 \n",
      " 2   start_ride_price   2 non-null      int64 \n",
      " 3   subscription_fee   2 non-null      int64 \n",
      "dtypes: int64(3), object(1)\n",
      "memory usage: 192.0+ bytes\n"
     ]
    }
   ],
   "source": [
    "data3.info()"
   ]
  },
  {
   "cell_type": "code",
   "execution_count": 27,
   "id": "6bf288b5",
   "metadata": {
    "scrolled": true
   },
   "outputs": [
    {
     "data": {
      "text/html": [
       "<div>\n",
       "<style scoped>\n",
       "    .dataframe tbody tr th:only-of-type {\n",
       "        vertical-align: middle;\n",
       "    }\n",
       "\n",
       "    .dataframe tbody tr th {\n",
       "        vertical-align: top;\n",
       "    }\n",
       "\n",
       "    .dataframe thead th {\n",
       "        text-align: right;\n",
       "    }\n",
       "</style>\n",
       "<table border=\"1\" class=\"dataframe\">\n",
       "  <thead>\n",
       "    <tr style=\"text-align: right;\">\n",
       "      <th></th>\n",
       "      <th>user_id</th>\n",
       "      <th>name</th>\n",
       "      <th>age</th>\n",
       "      <th>city</th>\n",
       "      <th>subscription_type</th>\n",
       "      <th>distance</th>\n",
       "      <th>duration</th>\n",
       "      <th>date</th>\n",
       "      <th>month</th>\n",
       "      <th>minute_price</th>\n",
       "      <th>start_ride_price</th>\n",
       "      <th>subscription_fee</th>\n",
       "    </tr>\n",
       "  </thead>\n",
       "  <tbody>\n",
       "    <tr>\n",
       "      <th>0</th>\n",
       "      <td>1</td>\n",
       "      <td>Кира</td>\n",
       "      <td>22</td>\n",
       "      <td>Тюмень</td>\n",
       "      <td>ultra</td>\n",
       "      <td>4409.919140</td>\n",
       "      <td>25.599769</td>\n",
       "      <td>2021-01-01</td>\n",
       "      <td>1</td>\n",
       "      <td>6</td>\n",
       "      <td>0</td>\n",
       "      <td>199</td>\n",
       "    </tr>\n",
       "    <tr>\n",
       "      <th>1</th>\n",
       "      <td>1</td>\n",
       "      <td>Кира</td>\n",
       "      <td>22</td>\n",
       "      <td>Тюмень</td>\n",
       "      <td>ultra</td>\n",
       "      <td>2617.592153</td>\n",
       "      <td>15.816871</td>\n",
       "      <td>2021-01-18</td>\n",
       "      <td>1</td>\n",
       "      <td>6</td>\n",
       "      <td>0</td>\n",
       "      <td>199</td>\n",
       "    </tr>\n",
       "    <tr>\n",
       "      <th>2</th>\n",
       "      <td>1</td>\n",
       "      <td>Кира</td>\n",
       "      <td>22</td>\n",
       "      <td>Тюмень</td>\n",
       "      <td>ultra</td>\n",
       "      <td>754.159807</td>\n",
       "      <td>6.232113</td>\n",
       "      <td>2021-04-20</td>\n",
       "      <td>4</td>\n",
       "      <td>6</td>\n",
       "      <td>0</td>\n",
       "      <td>199</td>\n",
       "    </tr>\n",
       "    <tr>\n",
       "      <th>3</th>\n",
       "      <td>1</td>\n",
       "      <td>Кира</td>\n",
       "      <td>22</td>\n",
       "      <td>Тюмень</td>\n",
       "      <td>ultra</td>\n",
       "      <td>2694.783254</td>\n",
       "      <td>18.511000</td>\n",
       "      <td>2021-08-11</td>\n",
       "      <td>8</td>\n",
       "      <td>6</td>\n",
       "      <td>0</td>\n",
       "      <td>199</td>\n",
       "    </tr>\n",
       "    <tr>\n",
       "      <th>4</th>\n",
       "      <td>1</td>\n",
       "      <td>Кира</td>\n",
       "      <td>22</td>\n",
       "      <td>Тюмень</td>\n",
       "      <td>ultra</td>\n",
       "      <td>4028.687306</td>\n",
       "      <td>26.265803</td>\n",
       "      <td>2021-08-28</td>\n",
       "      <td>8</td>\n",
       "      <td>6</td>\n",
       "      <td>0</td>\n",
       "      <td>199</td>\n",
       "    </tr>\n",
       "    <tr>\n",
       "      <th>...</th>\n",
       "      <td>...</td>\n",
       "      <td>...</td>\n",
       "      <td>...</td>\n",
       "      <td>...</td>\n",
       "      <td>...</td>\n",
       "      <td>...</td>\n",
       "      <td>...</td>\n",
       "      <td>...</td>\n",
       "      <td>...</td>\n",
       "      <td>...</td>\n",
       "      <td>...</td>\n",
       "      <td>...</td>\n",
       "    </tr>\n",
       "    <tr>\n",
       "      <th>18063</th>\n",
       "      <td>1534</td>\n",
       "      <td>Альберт</td>\n",
       "      <td>25</td>\n",
       "      <td>Краснодар</td>\n",
       "      <td>free</td>\n",
       "      <td>3781.098080</td>\n",
       "      <td>19.822962</td>\n",
       "      <td>2021-11-04</td>\n",
       "      <td>11</td>\n",
       "      <td>8</td>\n",
       "      <td>50</td>\n",
       "      <td>0</td>\n",
       "    </tr>\n",
       "    <tr>\n",
       "      <th>18064</th>\n",
       "      <td>1534</td>\n",
       "      <td>Альберт</td>\n",
       "      <td>25</td>\n",
       "      <td>Краснодар</td>\n",
       "      <td>free</td>\n",
       "      <td>2840.423057</td>\n",
       "      <td>21.409799</td>\n",
       "      <td>2021-11-16</td>\n",
       "      <td>11</td>\n",
       "      <td>8</td>\n",
       "      <td>50</td>\n",
       "      <td>0</td>\n",
       "    </tr>\n",
       "    <tr>\n",
       "      <th>18065</th>\n",
       "      <td>1534</td>\n",
       "      <td>Альберт</td>\n",
       "      <td>25</td>\n",
       "      <td>Краснодар</td>\n",
       "      <td>free</td>\n",
       "      <td>3826.185507</td>\n",
       "      <td>18.435051</td>\n",
       "      <td>2021-11-18</td>\n",
       "      <td>11</td>\n",
       "      <td>8</td>\n",
       "      <td>50</td>\n",
       "      <td>0</td>\n",
       "    </tr>\n",
       "    <tr>\n",
       "      <th>18066</th>\n",
       "      <td>1534</td>\n",
       "      <td>Альберт</td>\n",
       "      <td>25</td>\n",
       "      <td>Краснодар</td>\n",
       "      <td>free</td>\n",
       "      <td>2902.308661</td>\n",
       "      <td>16.674362</td>\n",
       "      <td>2021-11-27</td>\n",
       "      <td>11</td>\n",
       "      <td>8</td>\n",
       "      <td>50</td>\n",
       "      <td>0</td>\n",
       "    </tr>\n",
       "    <tr>\n",
       "      <th>18067</th>\n",
       "      <td>1534</td>\n",
       "      <td>Альберт</td>\n",
       "      <td>25</td>\n",
       "      <td>Краснодар</td>\n",
       "      <td>free</td>\n",
       "      <td>2371.711192</td>\n",
       "      <td>15.893917</td>\n",
       "      <td>2021-12-29</td>\n",
       "      <td>12</td>\n",
       "      <td>8</td>\n",
       "      <td>50</td>\n",
       "      <td>0</td>\n",
       "    </tr>\n",
       "  </tbody>\n",
       "</table>\n",
       "<p>18068 rows × 12 columns</p>\n",
       "</div>"
      ],
      "text/plain": [
       "       user_id     name  age       city subscription_type     distance  \\\n",
       "0            1     Кира   22     Тюмень             ultra  4409.919140   \n",
       "1            1     Кира   22     Тюмень             ultra  2617.592153   \n",
       "2            1     Кира   22     Тюмень             ultra   754.159807   \n",
       "3            1     Кира   22     Тюмень             ultra  2694.783254   \n",
       "4            1     Кира   22     Тюмень             ultra  4028.687306   \n",
       "...        ...      ...  ...        ...               ...          ...   \n",
       "18063     1534  Альберт   25  Краснодар              free  3781.098080   \n",
       "18064     1534  Альберт   25  Краснодар              free  2840.423057   \n",
       "18065     1534  Альберт   25  Краснодар              free  3826.185507   \n",
       "18066     1534  Альберт   25  Краснодар              free  2902.308661   \n",
       "18067     1534  Альберт   25  Краснодар              free  2371.711192   \n",
       "\n",
       "        duration       date  month  minute_price  start_ride_price  \\\n",
       "0      25.599769 2021-01-01      1             6                 0   \n",
       "1      15.816871 2021-01-18      1             6                 0   \n",
       "2       6.232113 2021-04-20      4             6                 0   \n",
       "3      18.511000 2021-08-11      8             6                 0   \n",
       "4      26.265803 2021-08-28      8             6                 0   \n",
       "...          ...        ...    ...           ...               ...   \n",
       "18063  19.822962 2021-11-04     11             8                50   \n",
       "18064  21.409799 2021-11-16     11             8                50   \n",
       "18065  18.435051 2021-11-18     11             8                50   \n",
       "18066  16.674362 2021-11-27     11             8                50   \n",
       "18067  15.893917 2021-12-29     12             8                50   \n",
       "\n",
       "       subscription_fee  \n",
       "0                   199  \n",
       "1                   199  \n",
       "2                   199  \n",
       "3                   199  \n",
       "4                   199  \n",
       "...                 ...  \n",
       "18063                 0  \n",
       "18064                 0  \n",
       "18065                 0  \n",
       "18066                 0  \n",
       "18067                 0  \n",
       "\n",
       "[18068 rows x 12 columns]"
      ]
     },
     "execution_count": 27,
     "metadata": {},
     "output_type": "execute_result"
    }
   ],
   "source": [
    "data = data1.merge(data2)\n",
    "data = data.merge(data3)\n",
    "data"
   ]
  },
  {
   "cell_type": "code",
   "execution_count": 28,
   "id": "3b627979",
   "metadata": {},
   "outputs": [
    {
     "name": "stdout",
     "output_type": "stream",
     "text": [
      "<class 'pandas.core.frame.DataFrame'>\n",
      "Int64Index: 18068 entries, 0 to 18067\n",
      "Data columns (total 12 columns):\n",
      " #   Column             Non-Null Count  Dtype         \n",
      "---  ------             --------------  -----         \n",
      " 0   user_id            18068 non-null  int64         \n",
      " 1   name               18068 non-null  object        \n",
      " 2   age                18068 non-null  int64         \n",
      " 3   city               18068 non-null  object        \n",
      " 4   subscription_type  18068 non-null  object        \n",
      " 5   distance           18068 non-null  float64       \n",
      " 6   duration           18068 non-null  float64       \n",
      " 7   date               18068 non-null  datetime64[ns]\n",
      " 8   month              18068 non-null  int64         \n",
      " 9   minute_price       18068 non-null  int64         \n",
      " 10  start_ride_price   18068 non-null  int64         \n",
      " 11  subscription_fee   18068 non-null  int64         \n",
      "dtypes: datetime64[ns](1), float64(2), int64(6), object(3)\n",
      "memory usage: 1.8+ MB\n"
     ]
    }
   ],
   "source": [
    "data.info()"
   ]
  },
  {
   "cell_type": "code",
   "execution_count": 29,
   "id": "f3dc8a8e",
   "metadata": {},
   "outputs": [
    {
     "data": {
      "text/html": [
       "<div>\n",
       "<style scoped>\n",
       "    .dataframe tbody tr th:only-of-type {\n",
       "        vertical-align: middle;\n",
       "    }\n",
       "\n",
       "    .dataframe tbody tr th {\n",
       "        vertical-align: top;\n",
       "    }\n",
       "\n",
       "    .dataframe thead th {\n",
       "        text-align: right;\n",
       "    }\n",
       "</style>\n",
       "<table border=\"1\" class=\"dataframe\">\n",
       "  <thead>\n",
       "    <tr style=\"text-align: right;\">\n",
       "      <th></th>\n",
       "      <th>user_id</th>\n",
       "      <th>name</th>\n",
       "      <th>age</th>\n",
       "      <th>city</th>\n",
       "      <th>subscription_type</th>\n",
       "      <th>distance</th>\n",
       "      <th>duration</th>\n",
       "      <th>date</th>\n",
       "      <th>month</th>\n",
       "      <th>minute_price</th>\n",
       "      <th>start_ride_price</th>\n",
       "      <th>subscription_fee</th>\n",
       "    </tr>\n",
       "  </thead>\n",
       "  <tbody>\n",
       "    <tr>\n",
       "      <th>6500</th>\n",
       "      <td>700</td>\n",
       "      <td>Айдар</td>\n",
       "      <td>22</td>\n",
       "      <td>Омск</td>\n",
       "      <td>free</td>\n",
       "      <td>2515.690719</td>\n",
       "      <td>14.944286</td>\n",
       "      <td>2021-01-02</td>\n",
       "      <td>1</td>\n",
       "      <td>8</td>\n",
       "      <td>50</td>\n",
       "      <td>0</td>\n",
       "    </tr>\n",
       "    <tr>\n",
       "      <th>6501</th>\n",
       "      <td>700</td>\n",
       "      <td>Айдар</td>\n",
       "      <td>22</td>\n",
       "      <td>Омск</td>\n",
       "      <td>free</td>\n",
       "      <td>846.932642</td>\n",
       "      <td>16.234663</td>\n",
       "      <td>2021-02-01</td>\n",
       "      <td>2</td>\n",
       "      <td>8</td>\n",
       "      <td>50</td>\n",
       "      <td>0</td>\n",
       "    </tr>\n",
       "    <tr>\n",
       "      <th>6502</th>\n",
       "      <td>700</td>\n",
       "      <td>Айдар</td>\n",
       "      <td>22</td>\n",
       "      <td>Омск</td>\n",
       "      <td>free</td>\n",
       "      <td>4004.434142</td>\n",
       "      <td>20.016628</td>\n",
       "      <td>2021-02-04</td>\n",
       "      <td>2</td>\n",
       "      <td>8</td>\n",
       "      <td>50</td>\n",
       "      <td>0</td>\n",
       "    </tr>\n",
       "    <tr>\n",
       "      <th>6503</th>\n",
       "      <td>700</td>\n",
       "      <td>Айдар</td>\n",
       "      <td>22</td>\n",
       "      <td>Омск</td>\n",
       "      <td>free</td>\n",
       "      <td>1205.911290</td>\n",
       "      <td>9.782872</td>\n",
       "      <td>2021-02-10</td>\n",
       "      <td>2</td>\n",
       "      <td>8</td>\n",
       "      <td>50</td>\n",
       "      <td>0</td>\n",
       "    </tr>\n",
       "    <tr>\n",
       "      <th>6504</th>\n",
       "      <td>700</td>\n",
       "      <td>Айдар</td>\n",
       "      <td>22</td>\n",
       "      <td>Омск</td>\n",
       "      <td>free</td>\n",
       "      <td>3047.379435</td>\n",
       "      <td>17.427673</td>\n",
       "      <td>2021-02-14</td>\n",
       "      <td>2</td>\n",
       "      <td>8</td>\n",
       "      <td>50</td>\n",
       "      <td>0</td>\n",
       "    </tr>\n",
       "    <tr>\n",
       "      <th>...</th>\n",
       "      <td>...</td>\n",
       "      <td>...</td>\n",
       "      <td>...</td>\n",
       "      <td>...</td>\n",
       "      <td>...</td>\n",
       "      <td>...</td>\n",
       "      <td>...</td>\n",
       "      <td>...</td>\n",
       "      <td>...</td>\n",
       "      <td>...</td>\n",
       "      <td>...</td>\n",
       "      <td>...</td>\n",
       "    </tr>\n",
       "    <tr>\n",
       "      <th>18063</th>\n",
       "      <td>1534</td>\n",
       "      <td>Альберт</td>\n",
       "      <td>25</td>\n",
       "      <td>Краснодар</td>\n",
       "      <td>free</td>\n",
       "      <td>3781.098080</td>\n",
       "      <td>19.822962</td>\n",
       "      <td>2021-11-04</td>\n",
       "      <td>11</td>\n",
       "      <td>8</td>\n",
       "      <td>50</td>\n",
       "      <td>0</td>\n",
       "    </tr>\n",
       "    <tr>\n",
       "      <th>18064</th>\n",
       "      <td>1534</td>\n",
       "      <td>Альберт</td>\n",
       "      <td>25</td>\n",
       "      <td>Краснодар</td>\n",
       "      <td>free</td>\n",
       "      <td>2840.423057</td>\n",
       "      <td>21.409799</td>\n",
       "      <td>2021-11-16</td>\n",
       "      <td>11</td>\n",
       "      <td>8</td>\n",
       "      <td>50</td>\n",
       "      <td>0</td>\n",
       "    </tr>\n",
       "    <tr>\n",
       "      <th>18065</th>\n",
       "      <td>1534</td>\n",
       "      <td>Альберт</td>\n",
       "      <td>25</td>\n",
       "      <td>Краснодар</td>\n",
       "      <td>free</td>\n",
       "      <td>3826.185507</td>\n",
       "      <td>18.435051</td>\n",
       "      <td>2021-11-18</td>\n",
       "      <td>11</td>\n",
       "      <td>8</td>\n",
       "      <td>50</td>\n",
       "      <td>0</td>\n",
       "    </tr>\n",
       "    <tr>\n",
       "      <th>18066</th>\n",
       "      <td>1534</td>\n",
       "      <td>Альберт</td>\n",
       "      <td>25</td>\n",
       "      <td>Краснодар</td>\n",
       "      <td>free</td>\n",
       "      <td>2902.308661</td>\n",
       "      <td>16.674362</td>\n",
       "      <td>2021-11-27</td>\n",
       "      <td>11</td>\n",
       "      <td>8</td>\n",
       "      <td>50</td>\n",
       "      <td>0</td>\n",
       "    </tr>\n",
       "    <tr>\n",
       "      <th>18067</th>\n",
       "      <td>1534</td>\n",
       "      <td>Альберт</td>\n",
       "      <td>25</td>\n",
       "      <td>Краснодар</td>\n",
       "      <td>free</td>\n",
       "      <td>2371.711192</td>\n",
       "      <td>15.893917</td>\n",
       "      <td>2021-12-29</td>\n",
       "      <td>12</td>\n",
       "      <td>8</td>\n",
       "      <td>50</td>\n",
       "      <td>0</td>\n",
       "    </tr>\n",
       "  </tbody>\n",
       "</table>\n",
       "<p>11568 rows × 12 columns</p>\n",
       "</div>"
      ],
      "text/plain": [
       "       user_id     name  age       city subscription_type     distance  \\\n",
       "6500       700    Айдар   22       Омск              free  2515.690719   \n",
       "6501       700    Айдар   22       Омск              free   846.932642   \n",
       "6502       700    Айдар   22       Омск              free  4004.434142   \n",
       "6503       700    Айдар   22       Омск              free  1205.911290   \n",
       "6504       700    Айдар   22       Омск              free  3047.379435   \n",
       "...        ...      ...  ...        ...               ...          ...   \n",
       "18063     1534  Альберт   25  Краснодар              free  3781.098080   \n",
       "18064     1534  Альберт   25  Краснодар              free  2840.423057   \n",
       "18065     1534  Альберт   25  Краснодар              free  3826.185507   \n",
       "18066     1534  Альберт   25  Краснодар              free  2902.308661   \n",
       "18067     1534  Альберт   25  Краснодар              free  2371.711192   \n",
       "\n",
       "        duration       date  month  minute_price  start_ride_price  \\\n",
       "6500   14.944286 2021-01-02      1             8                50   \n",
       "6501   16.234663 2021-02-01      2             8                50   \n",
       "6502   20.016628 2021-02-04      2             8                50   \n",
       "6503    9.782872 2021-02-10      2             8                50   \n",
       "6504   17.427673 2021-02-14      2             8                50   \n",
       "...          ...        ...    ...           ...               ...   \n",
       "18063  19.822962 2021-11-04     11             8                50   \n",
       "18064  21.409799 2021-11-16     11             8                50   \n",
       "18065  18.435051 2021-11-18     11             8                50   \n",
       "18066  16.674362 2021-11-27     11             8                50   \n",
       "18067  15.893917 2021-12-29     12             8                50   \n",
       "\n",
       "       subscription_fee  \n",
       "6500                  0  \n",
       "6501                  0  \n",
       "6502                  0  \n",
       "6503                  0  \n",
       "6504                  0  \n",
       "...                 ...  \n",
       "18063                 0  \n",
       "18064                 0  \n",
       "18065                 0  \n",
       "18066                 0  \n",
       "18067                 0  \n",
       "\n",
       "[11568 rows x 12 columns]"
      ]
     },
     "execution_count": 29,
     "metadata": {},
     "output_type": "execute_result"
    }
   ],
   "source": [
    "data_free = data.query('subscription_type == \"free\"')\n",
    "data_free"
   ]
  },
  {
   "cell_type": "code",
   "execution_count": 30,
   "id": "289b4fa0",
   "metadata": {},
   "outputs": [
    {
     "data": {
      "text/html": [
       "<div>\n",
       "<style scoped>\n",
       "    .dataframe tbody tr th:only-of-type {\n",
       "        vertical-align: middle;\n",
       "    }\n",
       "\n",
       "    .dataframe tbody tr th {\n",
       "        vertical-align: top;\n",
       "    }\n",
       "\n",
       "    .dataframe thead th {\n",
       "        text-align: right;\n",
       "    }\n",
       "</style>\n",
       "<table border=\"1\" class=\"dataframe\">\n",
       "  <thead>\n",
       "    <tr style=\"text-align: right;\">\n",
       "      <th></th>\n",
       "      <th>user_id</th>\n",
       "      <th>name</th>\n",
       "      <th>age</th>\n",
       "      <th>city</th>\n",
       "      <th>subscription_type</th>\n",
       "      <th>distance</th>\n",
       "      <th>duration</th>\n",
       "      <th>date</th>\n",
       "      <th>month</th>\n",
       "      <th>minute_price</th>\n",
       "      <th>start_ride_price</th>\n",
       "      <th>subscription_fee</th>\n",
       "    </tr>\n",
       "  </thead>\n",
       "  <tbody>\n",
       "    <tr>\n",
       "      <th>0</th>\n",
       "      <td>1</td>\n",
       "      <td>Кира</td>\n",
       "      <td>22</td>\n",
       "      <td>Тюмень</td>\n",
       "      <td>ultra</td>\n",
       "      <td>4409.919140</td>\n",
       "      <td>25.599769</td>\n",
       "      <td>2021-01-01</td>\n",
       "      <td>1</td>\n",
       "      <td>6</td>\n",
       "      <td>0</td>\n",
       "      <td>199</td>\n",
       "    </tr>\n",
       "    <tr>\n",
       "      <th>1</th>\n",
       "      <td>1</td>\n",
       "      <td>Кира</td>\n",
       "      <td>22</td>\n",
       "      <td>Тюмень</td>\n",
       "      <td>ultra</td>\n",
       "      <td>2617.592153</td>\n",
       "      <td>15.816871</td>\n",
       "      <td>2021-01-18</td>\n",
       "      <td>1</td>\n",
       "      <td>6</td>\n",
       "      <td>0</td>\n",
       "      <td>199</td>\n",
       "    </tr>\n",
       "    <tr>\n",
       "      <th>2</th>\n",
       "      <td>1</td>\n",
       "      <td>Кира</td>\n",
       "      <td>22</td>\n",
       "      <td>Тюмень</td>\n",
       "      <td>ultra</td>\n",
       "      <td>754.159807</td>\n",
       "      <td>6.232113</td>\n",
       "      <td>2021-04-20</td>\n",
       "      <td>4</td>\n",
       "      <td>6</td>\n",
       "      <td>0</td>\n",
       "      <td>199</td>\n",
       "    </tr>\n",
       "    <tr>\n",
       "      <th>3</th>\n",
       "      <td>1</td>\n",
       "      <td>Кира</td>\n",
       "      <td>22</td>\n",
       "      <td>Тюмень</td>\n",
       "      <td>ultra</td>\n",
       "      <td>2694.783254</td>\n",
       "      <td>18.511000</td>\n",
       "      <td>2021-08-11</td>\n",
       "      <td>8</td>\n",
       "      <td>6</td>\n",
       "      <td>0</td>\n",
       "      <td>199</td>\n",
       "    </tr>\n",
       "    <tr>\n",
       "      <th>4</th>\n",
       "      <td>1</td>\n",
       "      <td>Кира</td>\n",
       "      <td>22</td>\n",
       "      <td>Тюмень</td>\n",
       "      <td>ultra</td>\n",
       "      <td>4028.687306</td>\n",
       "      <td>26.265803</td>\n",
       "      <td>2021-08-28</td>\n",
       "      <td>8</td>\n",
       "      <td>6</td>\n",
       "      <td>0</td>\n",
       "      <td>199</td>\n",
       "    </tr>\n",
       "    <tr>\n",
       "      <th>...</th>\n",
       "      <td>...</td>\n",
       "      <td>...</td>\n",
       "      <td>...</td>\n",
       "      <td>...</td>\n",
       "      <td>...</td>\n",
       "      <td>...</td>\n",
       "      <td>...</td>\n",
       "      <td>...</td>\n",
       "      <td>...</td>\n",
       "      <td>...</td>\n",
       "      <td>...</td>\n",
       "      <td>...</td>\n",
       "    </tr>\n",
       "    <tr>\n",
       "      <th>6495</th>\n",
       "      <td>699</td>\n",
       "      <td>Оксана</td>\n",
       "      <td>22</td>\n",
       "      <td>Москва</td>\n",
       "      <td>ultra</td>\n",
       "      <td>3973.046497</td>\n",
       "      <td>24.671163</td>\n",
       "      <td>2021-08-29</td>\n",
       "      <td>8</td>\n",
       "      <td>6</td>\n",
       "      <td>0</td>\n",
       "      <td>199</td>\n",
       "    </tr>\n",
       "    <tr>\n",
       "      <th>6496</th>\n",
       "      <td>699</td>\n",
       "      <td>Оксана</td>\n",
       "      <td>22</td>\n",
       "      <td>Москва</td>\n",
       "      <td>ultra</td>\n",
       "      <td>3288.702563</td>\n",
       "      <td>15.892886</td>\n",
       "      <td>2021-09-12</td>\n",
       "      <td>9</td>\n",
       "      <td>6</td>\n",
       "      <td>0</td>\n",
       "      <td>199</td>\n",
       "    </tr>\n",
       "    <tr>\n",
       "      <th>6497</th>\n",
       "      <td>699</td>\n",
       "      <td>Оксана</td>\n",
       "      <td>22</td>\n",
       "      <td>Москва</td>\n",
       "      <td>ultra</td>\n",
       "      <td>3076.159348</td>\n",
       "      <td>14.389525</td>\n",
       "      <td>2021-09-26</td>\n",
       "      <td>9</td>\n",
       "      <td>6</td>\n",
       "      <td>0</td>\n",
       "      <td>199</td>\n",
       "    </tr>\n",
       "    <tr>\n",
       "      <th>6498</th>\n",
       "      <td>699</td>\n",
       "      <td>Оксана</td>\n",
       "      <td>22</td>\n",
       "      <td>Москва</td>\n",
       "      <td>ultra</td>\n",
       "      <td>4707.845501</td>\n",
       "      <td>15.839579</td>\n",
       "      <td>2021-10-17</td>\n",
       "      <td>10</td>\n",
       "      <td>6</td>\n",
       "      <td>0</td>\n",
       "      <td>199</td>\n",
       "    </tr>\n",
       "    <tr>\n",
       "      <th>6499</th>\n",
       "      <td>699</td>\n",
       "      <td>Оксана</td>\n",
       "      <td>22</td>\n",
       "      <td>Москва</td>\n",
       "      <td>ultra</td>\n",
       "      <td>3202.890770</td>\n",
       "      <td>25.217345</td>\n",
       "      <td>2021-12-03</td>\n",
       "      <td>12</td>\n",
       "      <td>6</td>\n",
       "      <td>0</td>\n",
       "      <td>199</td>\n",
       "    </tr>\n",
       "  </tbody>\n",
       "</table>\n",
       "<p>6500 rows × 12 columns</p>\n",
       "</div>"
      ],
      "text/plain": [
       "      user_id    name  age    city subscription_type     distance   duration  \\\n",
       "0           1    Кира   22  Тюмень             ultra  4409.919140  25.599769   \n",
       "1           1    Кира   22  Тюмень             ultra  2617.592153  15.816871   \n",
       "2           1    Кира   22  Тюмень             ultra   754.159807   6.232113   \n",
       "3           1    Кира   22  Тюмень             ultra  2694.783254  18.511000   \n",
       "4           1    Кира   22  Тюмень             ultra  4028.687306  26.265803   \n",
       "...       ...     ...  ...     ...               ...          ...        ...   \n",
       "6495      699  Оксана   22  Москва             ultra  3973.046497  24.671163   \n",
       "6496      699  Оксана   22  Москва             ultra  3288.702563  15.892886   \n",
       "6497      699  Оксана   22  Москва             ultra  3076.159348  14.389525   \n",
       "6498      699  Оксана   22  Москва             ultra  4707.845501  15.839579   \n",
       "6499      699  Оксана   22  Москва             ultra  3202.890770  25.217345   \n",
       "\n",
       "           date  month  minute_price  start_ride_price  subscription_fee  \n",
       "0    2021-01-01      1             6                 0               199  \n",
       "1    2021-01-18      1             6                 0               199  \n",
       "2    2021-04-20      4             6                 0               199  \n",
       "3    2021-08-11      8             6                 0               199  \n",
       "4    2021-08-28      8             6                 0               199  \n",
       "...         ...    ...           ...               ...               ...  \n",
       "6495 2021-08-29      8             6                 0               199  \n",
       "6496 2021-09-12      9             6                 0               199  \n",
       "6497 2021-09-26      9             6                 0               199  \n",
       "6498 2021-10-17     10             6                 0               199  \n",
       "6499 2021-12-03     12             6                 0               199  \n",
       "\n",
       "[6500 rows x 12 columns]"
      ]
     },
     "execution_count": 30,
     "metadata": {},
     "output_type": "execute_result"
    }
   ],
   "source": [
    "data_ultra = data.query('subscription_type == \"ultra\"')\n",
    "data_ultra"
   ]
  },
  {
   "cell_type": "code",
   "execution_count": 31,
   "id": "6ab32c96",
   "metadata": {},
   "outputs": [
    {
     "data": {
      "image/png": "[encoded data removed]",
      "text/plain": [
       "<Figure size 432x288 with 1 Axes>"
      ]
     },
     "metadata": {
      "needs_background": "light"
     },
     "output_type": "display_data"
    },
    {
     "data": {
      "text/plain": [
       "<Figure size 1440x1440 with 0 Axes>"
      ]
     },
     "metadata": {},
     "output_type": "display_data"
    }
   ],
   "source": [
    "plt.hist(data_free['distance'],bins=40, range = (0, 7000))\n",
    "plt.title('Расстояние')\n",
    "plt.xlabel('Расстояние, м')\n",
    "plt.ylabel('Количество поездок')\n",
    "plt.figure(figsize=(20,20))\n",
    "plt.show()"
   ]
  },
  {
   "cell_type": "code",
   "execution_count": 32,
   "id": "2943b9aa",
   "metadata": {},
   "outputs": [
    {
     "data": {
      "image/png": "[encoded data removed]",
      "text/plain": [
       "<Figure size 432x288 with 1 Axes>"
      ]
     },
     "metadata": {
      "needs_background": "light"
     },
     "output_type": "display_data"
    }
   ],
   "source": [
    "plt.hist(data_free['duration'], bins = 40)\n",
    "plt.title('Время')\n",
    "plt.xlabel('Время м')\n",
    "plt.ylabel('Количество пользователей')\n",
    "plt.grid()\n",
    "plt.show()"
   ]
  },
  {
   "cell_type": "code",
   "execution_count": 33,
   "id": "0a9a4426",
   "metadata": {},
   "outputs": [
    {
     "data": {
      "image/png": "[encoded data removed]",
      "text/plain": [
       "<Figure size 432x288 with 1 Axes>"
      ]
     },
     "metadata": {
      "needs_background": "light"
     },
     "output_type": "display_data"
    },
    {
     "data": {
      "text/plain": [
       "<Figure size 1440x1440 with 0 Axes>"
      ]
     },
     "metadata": {},
     "output_type": "display_data"
    }
   ],
   "source": [
    "plt.hist(data_ultra['distance'],bins=40, range = (0, 7000))\n",
    "plt.title('Расстояние')\n",
    "plt.xlabel('Расстояние, м')\n",
    "plt.ylabel('Количество поездок')\n",
    "plt.figure(figsize=(20,20))\n",
    "plt.show()"
   ]
  },
  {
   "cell_type": "code",
   "execution_count": 34,
   "id": "42a5fa63",
   "metadata": {},
   "outputs": [
    {
     "data": {
      "image/png": "[encoded data removed]",
      "text/plain": [
       "<Figure size 432x288 with 1 Axes>"
      ]
     },
     "metadata": {
      "needs_background": "light"
     },
     "output_type": "display_data"
    }
   ],
   "source": [
    "plt.hist(data_ultra['duration'], bins = 40)\n",
    "plt.title('Время')\n",
    "plt.xlabel('Время м')\n",
    "plt.ylabel('Количество пользователей')\n",
    "plt.grid()\n",
    "plt.show()"
   ]
  },
  {
   "cell_type": "markdown",
   "id": "6a5df77e",
   "metadata": {},
   "source": [
    "Вывод: БОльшая часть Пользователей с бесплатной подпиской проезжают на самокате в среднем от 2,5 до 4 км и проводят за ним от 10 до 25 минут, но есть и те котрые ездят дальше 4 км и находятся на самокате больше получаса.\n",
    "А пользователи с платной подпиской в среднем ездят на самокате на расстояние 2,5-3,5 км , и находтся на нем в среднем от 12 до 22 минут\n"
   ]
  },
  {
   "cell_type": "markdown",
   "id": "402d620f",
   "metadata": {},
   "source": [
    "#### Шаг 5. Подсчёт выручки"
   ]
  },
  {
   "cell_type": "code",
   "execution_count": 35,
   "id": "27391348",
   "metadata": {},
   "outputs": [
    {
     "data": {
      "text/html": [
       "<div>\n",
       "<style scoped>\n",
       "    .dataframe tbody tr th:only-of-type {\n",
       "        vertical-align: middle;\n",
       "    }\n",
       "\n",
       "    .dataframe tbody tr th {\n",
       "        vertical-align: top;\n",
       "    }\n",
       "\n",
       "    .dataframe thead th {\n",
       "        text-align: right;\n",
       "    }\n",
       "</style>\n",
       "<table border=\"1\" class=\"dataframe\">\n",
       "  <thead>\n",
       "    <tr style=\"text-align: right;\">\n",
       "      <th></th>\n",
       "      <th>user_id</th>\n",
       "      <th>name</th>\n",
       "      <th>age</th>\n",
       "      <th>city</th>\n",
       "      <th>subscription_type</th>\n",
       "      <th>distance</th>\n",
       "      <th>duration</th>\n",
       "      <th>date</th>\n",
       "      <th>month</th>\n",
       "      <th>minute_price</th>\n",
       "      <th>start_ride_price</th>\n",
       "      <th>subscription_fee</th>\n",
       "    </tr>\n",
       "  </thead>\n",
       "  <tbody>\n",
       "    <tr>\n",
       "      <th>0</th>\n",
       "      <td>1</td>\n",
       "      <td>Кира</td>\n",
       "      <td>22</td>\n",
       "      <td>Тюмень</td>\n",
       "      <td>ultra</td>\n",
       "      <td>4409.919140</td>\n",
       "      <td>25.599769</td>\n",
       "      <td>2021-01-01</td>\n",
       "      <td>1</td>\n",
       "      <td>6</td>\n",
       "      <td>0</td>\n",
       "      <td>199</td>\n",
       "    </tr>\n",
       "    <tr>\n",
       "      <th>1</th>\n",
       "      <td>1</td>\n",
       "      <td>Кира</td>\n",
       "      <td>22</td>\n",
       "      <td>Тюмень</td>\n",
       "      <td>ultra</td>\n",
       "      <td>2617.592153</td>\n",
       "      <td>15.816871</td>\n",
       "      <td>2021-01-18</td>\n",
       "      <td>1</td>\n",
       "      <td>6</td>\n",
       "      <td>0</td>\n",
       "      <td>199</td>\n",
       "    </tr>\n",
       "    <tr>\n",
       "      <th>2</th>\n",
       "      <td>1</td>\n",
       "      <td>Кира</td>\n",
       "      <td>22</td>\n",
       "      <td>Тюмень</td>\n",
       "      <td>ultra</td>\n",
       "      <td>754.159807</td>\n",
       "      <td>6.232113</td>\n",
       "      <td>2021-04-20</td>\n",
       "      <td>4</td>\n",
       "      <td>6</td>\n",
       "      <td>0</td>\n",
       "      <td>199</td>\n",
       "    </tr>\n",
       "    <tr>\n",
       "      <th>3</th>\n",
       "      <td>1</td>\n",
       "      <td>Кира</td>\n",
       "      <td>22</td>\n",
       "      <td>Тюмень</td>\n",
       "      <td>ultra</td>\n",
       "      <td>2694.783254</td>\n",
       "      <td>18.511000</td>\n",
       "      <td>2021-08-11</td>\n",
       "      <td>8</td>\n",
       "      <td>6</td>\n",
       "      <td>0</td>\n",
       "      <td>199</td>\n",
       "    </tr>\n",
       "    <tr>\n",
       "      <th>4</th>\n",
       "      <td>1</td>\n",
       "      <td>Кира</td>\n",
       "      <td>22</td>\n",
       "      <td>Тюмень</td>\n",
       "      <td>ultra</td>\n",
       "      <td>4028.687306</td>\n",
       "      <td>26.265803</td>\n",
       "      <td>2021-08-28</td>\n",
       "      <td>8</td>\n",
       "      <td>6</td>\n",
       "      <td>0</td>\n",
       "      <td>199</td>\n",
       "    </tr>\n",
       "    <tr>\n",
       "      <th>...</th>\n",
       "      <td>...</td>\n",
       "      <td>...</td>\n",
       "      <td>...</td>\n",
       "      <td>...</td>\n",
       "      <td>...</td>\n",
       "      <td>...</td>\n",
       "      <td>...</td>\n",
       "      <td>...</td>\n",
       "      <td>...</td>\n",
       "      <td>...</td>\n",
       "      <td>...</td>\n",
       "      <td>...</td>\n",
       "    </tr>\n",
       "    <tr>\n",
       "      <th>18063</th>\n",
       "      <td>1534</td>\n",
       "      <td>Альберт</td>\n",
       "      <td>25</td>\n",
       "      <td>Краснодар</td>\n",
       "      <td>free</td>\n",
       "      <td>3781.098080</td>\n",
       "      <td>19.822962</td>\n",
       "      <td>2021-11-04</td>\n",
       "      <td>11</td>\n",
       "      <td>8</td>\n",
       "      <td>50</td>\n",
       "      <td>0</td>\n",
       "    </tr>\n",
       "    <tr>\n",
       "      <th>18064</th>\n",
       "      <td>1534</td>\n",
       "      <td>Альберт</td>\n",
       "      <td>25</td>\n",
       "      <td>Краснодар</td>\n",
       "      <td>free</td>\n",
       "      <td>2840.423057</td>\n",
       "      <td>21.409799</td>\n",
       "      <td>2021-11-16</td>\n",
       "      <td>11</td>\n",
       "      <td>8</td>\n",
       "      <td>50</td>\n",
       "      <td>0</td>\n",
       "    </tr>\n",
       "    <tr>\n",
       "      <th>18065</th>\n",
       "      <td>1534</td>\n",
       "      <td>Альберт</td>\n",
       "      <td>25</td>\n",
       "      <td>Краснодар</td>\n",
       "      <td>free</td>\n",
       "      <td>3826.185507</td>\n",
       "      <td>18.435051</td>\n",
       "      <td>2021-11-18</td>\n",
       "      <td>11</td>\n",
       "      <td>8</td>\n",
       "      <td>50</td>\n",
       "      <td>0</td>\n",
       "    </tr>\n",
       "    <tr>\n",
       "      <th>18066</th>\n",
       "      <td>1534</td>\n",
       "      <td>Альберт</td>\n",
       "      <td>25</td>\n",
       "      <td>Краснодар</td>\n",
       "      <td>free</td>\n",
       "      <td>2902.308661</td>\n",
       "      <td>16.674362</td>\n",
       "      <td>2021-11-27</td>\n",
       "      <td>11</td>\n",
       "      <td>8</td>\n",
       "      <td>50</td>\n",
       "      <td>0</td>\n",
       "    </tr>\n",
       "    <tr>\n",
       "      <th>18067</th>\n",
       "      <td>1534</td>\n",
       "      <td>Альберт</td>\n",
       "      <td>25</td>\n",
       "      <td>Краснодар</td>\n",
       "      <td>free</td>\n",
       "      <td>2371.711192</td>\n",
       "      <td>15.893917</td>\n",
       "      <td>2021-12-29</td>\n",
       "      <td>12</td>\n",
       "      <td>8</td>\n",
       "      <td>50</td>\n",
       "      <td>0</td>\n",
       "    </tr>\n",
       "  </tbody>\n",
       "</table>\n",
       "<p>18068 rows × 12 columns</p>\n",
       "</div>"
      ],
      "text/plain": [
       "       user_id     name  age       city subscription_type     distance  \\\n",
       "0            1     Кира   22     Тюмень             ultra  4409.919140   \n",
       "1            1     Кира   22     Тюмень             ultra  2617.592153   \n",
       "2            1     Кира   22     Тюмень             ultra   754.159807   \n",
       "3            1     Кира   22     Тюмень             ultra  2694.783254   \n",
       "4            1     Кира   22     Тюмень             ultra  4028.687306   \n",
       "...        ...      ...  ...        ...               ...          ...   \n",
       "18063     1534  Альберт   25  Краснодар              free  3781.098080   \n",
       "18064     1534  Альберт   25  Краснодар              free  2840.423057   \n",
       "18065     1534  Альберт   25  Краснодар              free  3826.185507   \n",
       "18066     1534  Альберт   25  Краснодар              free  2902.308661   \n",
       "18067     1534  Альберт   25  Краснодар              free  2371.711192   \n",
       "\n",
       "        duration       date  month  minute_price  start_ride_price  \\\n",
       "0      25.599769 2021-01-01      1             6                 0   \n",
       "1      15.816871 2021-01-18      1             6                 0   \n",
       "2       6.232113 2021-04-20      4             6                 0   \n",
       "3      18.511000 2021-08-11      8             6                 0   \n",
       "4      26.265803 2021-08-28      8             6                 0   \n",
       "...          ...        ...    ...           ...               ...   \n",
       "18063  19.822962 2021-11-04     11             8                50   \n",
       "18064  21.409799 2021-11-16     11             8                50   \n",
       "18065  18.435051 2021-11-18     11             8                50   \n",
       "18066  16.674362 2021-11-27     11             8                50   \n",
       "18067  15.893917 2021-12-29     12             8                50   \n",
       "\n",
       "       subscription_fee  \n",
       "0                   199  \n",
       "1                   199  \n",
       "2                   199  \n",
       "3                   199  \n",
       "4                   199  \n",
       "...                 ...  \n",
       "18063                 0  \n",
       "18064                 0  \n",
       "18065                 0  \n",
       "18066                 0  \n",
       "18067                 0  \n",
       "\n",
       "[18068 rows x 12 columns]"
      ]
     },
     "metadata": {},
     "output_type": "display_data"
    }
   ],
   "source": [
    "display(data)"
   ]
  },
  {
   "cell_type": "code",
   "execution_count": 36,
   "id": "32df7675",
   "metadata": {},
   "outputs": [],
   "source": [
    "data['duration'] = np.ceil(data['duration'])"
   ]
  },
  {
   "cell_type": "markdown",
   "id": "2d01576b",
   "metadata": {},
   "source": [
    "Может так! \n",
    "может я не понимаю до конца слово агрегирование данных, для меня это вроде как соединение данных,\n",
    "если не сложно можете написать что понимается под этим словом"
   ]
  },
  {
   "cell_type": "code",
   "execution_count": 37,
   "id": "db9d0874",
   "metadata": {
    "scrolled": true
   },
   "outputs": [
    {
     "data": {
      "text/html": [
       "<div>\n",
       "<style scoped>\n",
       "    .dataframe tbody tr th:only-of-type {\n",
       "        vertical-align: middle;\n",
       "    }\n",
       "\n",
       "    .dataframe tbody tr th {\n",
       "        vertical-align: top;\n",
       "    }\n",
       "\n",
       "    .dataframe thead th {\n",
       "        text-align: right;\n",
       "    }\n",
       "</style>\n",
       "<table border=\"1\" class=\"dataframe\">\n",
       "  <thead>\n",
       "    <tr style=\"text-align: right;\">\n",
       "      <th></th>\n",
       "      <th>user_id</th>\n",
       "      <th>name</th>\n",
       "      <th>age</th>\n",
       "      <th>city</th>\n",
       "      <th>subscription_type</th>\n",
       "      <th>distance</th>\n",
       "      <th>duration</th>\n",
       "      <th>date</th>\n",
       "      <th>month</th>\n",
       "      <th>minute_price</th>\n",
       "      <th>start_ride_price</th>\n",
       "      <th>subscription_fee</th>\n",
       "    </tr>\n",
       "  </thead>\n",
       "  <tbody>\n",
       "    <tr>\n",
       "      <th>0</th>\n",
       "      <td>1</td>\n",
       "      <td>Кира</td>\n",
       "      <td>22</td>\n",
       "      <td>Тюмень</td>\n",
       "      <td>ultra</td>\n",
       "      <td>4409.919140</td>\n",
       "      <td>26.0</td>\n",
       "      <td>2021-01-01</td>\n",
       "      <td>1</td>\n",
       "      <td>6</td>\n",
       "      <td>0</td>\n",
       "      <td>199</td>\n",
       "    </tr>\n",
       "    <tr>\n",
       "      <th>1</th>\n",
       "      <td>1</td>\n",
       "      <td>Кира</td>\n",
       "      <td>22</td>\n",
       "      <td>Тюмень</td>\n",
       "      <td>ultra</td>\n",
       "      <td>2617.592153</td>\n",
       "      <td>16.0</td>\n",
       "      <td>2021-01-18</td>\n",
       "      <td>1</td>\n",
       "      <td>6</td>\n",
       "      <td>0</td>\n",
       "      <td>199</td>\n",
       "    </tr>\n",
       "    <tr>\n",
       "      <th>2</th>\n",
       "      <td>1</td>\n",
       "      <td>Кира</td>\n",
       "      <td>22</td>\n",
       "      <td>Тюмень</td>\n",
       "      <td>ultra</td>\n",
       "      <td>754.159807</td>\n",
       "      <td>7.0</td>\n",
       "      <td>2021-04-20</td>\n",
       "      <td>4</td>\n",
       "      <td>6</td>\n",
       "      <td>0</td>\n",
       "      <td>199</td>\n",
       "    </tr>\n",
       "    <tr>\n",
       "      <th>3</th>\n",
       "      <td>1</td>\n",
       "      <td>Кира</td>\n",
       "      <td>22</td>\n",
       "      <td>Тюмень</td>\n",
       "      <td>ultra</td>\n",
       "      <td>2694.783254</td>\n",
       "      <td>19.0</td>\n",
       "      <td>2021-08-11</td>\n",
       "      <td>8</td>\n",
       "      <td>6</td>\n",
       "      <td>0</td>\n",
       "      <td>199</td>\n",
       "    </tr>\n",
       "    <tr>\n",
       "      <th>4</th>\n",
       "      <td>1</td>\n",
       "      <td>Кира</td>\n",
       "      <td>22</td>\n",
       "      <td>Тюмень</td>\n",
       "      <td>ultra</td>\n",
       "      <td>4028.687306</td>\n",
       "      <td>27.0</td>\n",
       "      <td>2021-08-28</td>\n",
       "      <td>8</td>\n",
       "      <td>6</td>\n",
       "      <td>0</td>\n",
       "      <td>199</td>\n",
       "    </tr>\n",
       "    <tr>\n",
       "      <th>...</th>\n",
       "      <td>...</td>\n",
       "      <td>...</td>\n",
       "      <td>...</td>\n",
       "      <td>...</td>\n",
       "      <td>...</td>\n",
       "      <td>...</td>\n",
       "      <td>...</td>\n",
       "      <td>...</td>\n",
       "      <td>...</td>\n",
       "      <td>...</td>\n",
       "      <td>...</td>\n",
       "      <td>...</td>\n",
       "    </tr>\n",
       "    <tr>\n",
       "      <th>18063</th>\n",
       "      <td>1534</td>\n",
       "      <td>Альберт</td>\n",
       "      <td>25</td>\n",
       "      <td>Краснодар</td>\n",
       "      <td>free</td>\n",
       "      <td>3781.098080</td>\n",
       "      <td>20.0</td>\n",
       "      <td>2021-11-04</td>\n",
       "      <td>11</td>\n",
       "      <td>8</td>\n",
       "      <td>50</td>\n",
       "      <td>0</td>\n",
       "    </tr>\n",
       "    <tr>\n",
       "      <th>18064</th>\n",
       "      <td>1534</td>\n",
       "      <td>Альберт</td>\n",
       "      <td>25</td>\n",
       "      <td>Краснодар</td>\n",
       "      <td>free</td>\n",
       "      <td>2840.423057</td>\n",
       "      <td>22.0</td>\n",
       "      <td>2021-11-16</td>\n",
       "      <td>11</td>\n",
       "      <td>8</td>\n",
       "      <td>50</td>\n",
       "      <td>0</td>\n",
       "    </tr>\n",
       "    <tr>\n",
       "      <th>18065</th>\n",
       "      <td>1534</td>\n",
       "      <td>Альберт</td>\n",
       "      <td>25</td>\n",
       "      <td>Краснодар</td>\n",
       "      <td>free</td>\n",
       "      <td>3826.185507</td>\n",
       "      <td>19.0</td>\n",
       "      <td>2021-11-18</td>\n",
       "      <td>11</td>\n",
       "      <td>8</td>\n",
       "      <td>50</td>\n",
       "      <td>0</td>\n",
       "    </tr>\n",
       "    <tr>\n",
       "      <th>18066</th>\n",
       "      <td>1534</td>\n",
       "      <td>Альберт</td>\n",
       "      <td>25</td>\n",
       "      <td>Краснодар</td>\n",
       "      <td>free</td>\n",
       "      <td>2902.308661</td>\n",
       "      <td>17.0</td>\n",
       "      <td>2021-11-27</td>\n",
       "      <td>11</td>\n",
       "      <td>8</td>\n",
       "      <td>50</td>\n",
       "      <td>0</td>\n",
       "    </tr>\n",
       "    <tr>\n",
       "      <th>18067</th>\n",
       "      <td>1534</td>\n",
       "      <td>Альберт</td>\n",
       "      <td>25</td>\n",
       "      <td>Краснодар</td>\n",
       "      <td>free</td>\n",
       "      <td>2371.711192</td>\n",
       "      <td>16.0</td>\n",
       "      <td>2021-12-29</td>\n",
       "      <td>12</td>\n",
       "      <td>8</td>\n",
       "      <td>50</td>\n",
       "      <td>0</td>\n",
       "    </tr>\n",
       "  </tbody>\n",
       "</table>\n",
       "<p>18068 rows × 12 columns</p>\n",
       "</div>"
      ],
      "text/plain": [
       "       user_id     name  age       city subscription_type     distance  \\\n",
       "0            1     Кира   22     Тюмень             ultra  4409.919140   \n",
       "1            1     Кира   22     Тюмень             ultra  2617.592153   \n",
       "2            1     Кира   22     Тюмень             ultra   754.159807   \n",
       "3            1     Кира   22     Тюмень             ultra  2694.783254   \n",
       "4            1     Кира   22     Тюмень             ultra  4028.687306   \n",
       "...        ...      ...  ...        ...               ...          ...   \n",
       "18063     1534  Альберт   25  Краснодар              free  3781.098080   \n",
       "18064     1534  Альберт   25  Краснодар              free  2840.423057   \n",
       "18065     1534  Альберт   25  Краснодар              free  3826.185507   \n",
       "18066     1534  Альберт   25  Краснодар              free  2902.308661   \n",
       "18067     1534  Альберт   25  Краснодар              free  2371.711192   \n",
       "\n",
       "       duration       date  month  minute_price  start_ride_price  \\\n",
       "0          26.0 2021-01-01      1             6                 0   \n",
       "1          16.0 2021-01-18      1             6                 0   \n",
       "2           7.0 2021-04-20      4             6                 0   \n",
       "3          19.0 2021-08-11      8             6                 0   \n",
       "4          27.0 2021-08-28      8             6                 0   \n",
       "...         ...        ...    ...           ...               ...   \n",
       "18063      20.0 2021-11-04     11             8                50   \n",
       "18064      22.0 2021-11-16     11             8                50   \n",
       "18065      19.0 2021-11-18     11             8                50   \n",
       "18066      17.0 2021-11-27     11             8                50   \n",
       "18067      16.0 2021-12-29     12             8                50   \n",
       "\n",
       "       subscription_fee  \n",
       "0                   199  \n",
       "1                   199  \n",
       "2                   199  \n",
       "3                   199  \n",
       "4                   199  \n",
       "...                 ...  \n",
       "18063                 0  \n",
       "18064                 0  \n",
       "18065                 0  \n",
       "18066                 0  \n",
       "18067                 0  \n",
       "\n",
       "[18068 rows x 12 columns]"
      ]
     },
     "metadata": {},
     "output_type": "display_data"
    }
   ],
   "source": [
    "display(data)"
   ]
  },
  {
   "cell_type": "code",
   "execution_count": 38,
   "id": "53049e0a",
   "metadata": {},
   "outputs": [],
   "source": [
    "total_data = pd.pivot_table(data,index=['month','user_id'], values=['distance','duration','name','subscription_type'],\n",
    "                           aggfunc={'distance':sum,'duration':sum,'name':len,'subscription_type':min})"
   ]
  },
  {
   "cell_type": "code",
   "execution_count": 39,
   "id": "620def89",
   "metadata": {},
   "outputs": [
    {
     "data": {
      "text/html": [
       "<div>\n",
       "<style scoped>\n",
       "    .dataframe tbody tr th:only-of-type {\n",
       "        vertical-align: middle;\n",
       "    }\n",
       "\n",
       "    .dataframe tbody tr th {\n",
       "        vertical-align: top;\n",
       "    }\n",
       "\n",
       "    .dataframe thead th {\n",
       "        text-align: right;\n",
       "    }\n",
       "</style>\n",
       "<table border=\"1\" class=\"dataframe\">\n",
       "  <thead>\n",
       "    <tr style=\"text-align: right;\">\n",
       "      <th></th>\n",
       "      <th></th>\n",
       "      <th>distance</th>\n",
       "      <th>duration</th>\n",
       "      <th>name</th>\n",
       "      <th>subscription_type</th>\n",
       "    </tr>\n",
       "    <tr>\n",
       "      <th>month</th>\n",
       "      <th>user_id</th>\n",
       "      <th></th>\n",
       "      <th></th>\n",
       "      <th></th>\n",
       "      <th></th>\n",
       "    </tr>\n",
       "  </thead>\n",
       "  <tbody>\n",
       "    <tr>\n",
       "      <th rowspan=\"5\" valign=\"top\">1</th>\n",
       "      <th>1</th>\n",
       "      <td>7027.511294</td>\n",
       "      <td>42.0</td>\n",
       "      <td>2</td>\n",
       "      <td>ultra</td>\n",
       "    </tr>\n",
       "    <tr>\n",
       "      <th>3</th>\n",
       "      <td>3061.777147</td>\n",
       "      <td>13.0</td>\n",
       "      <td>1</td>\n",
       "      <td>ultra</td>\n",
       "    </tr>\n",
       "    <tr>\n",
       "      <th>5</th>\n",
       "      <td>3914.646990</td>\n",
       "      <td>13.0</td>\n",
       "      <td>1</td>\n",
       "      <td>ultra</td>\n",
       "    </tr>\n",
       "    <tr>\n",
       "      <th>7</th>\n",
       "      <td>6478.080979</td>\n",
       "      <td>28.0</td>\n",
       "      <td>2</td>\n",
       "      <td>ultra</td>\n",
       "    </tr>\n",
       "    <tr>\n",
       "      <th>12</th>\n",
       "      <td>3577.151148</td>\n",
       "      <td>33.0</td>\n",
       "      <td>1</td>\n",
       "      <td>ultra</td>\n",
       "    </tr>\n",
       "    <tr>\n",
       "      <th>...</th>\n",
       "      <th>...</th>\n",
       "      <td>...</td>\n",
       "      <td>...</td>\n",
       "      <td>...</td>\n",
       "      <td>...</td>\n",
       "    </tr>\n",
       "    <tr>\n",
       "      <th rowspan=\"5\" valign=\"top\">12</th>\n",
       "      <th>1525</th>\n",
       "      <td>4597.854350</td>\n",
       "      <td>34.0</td>\n",
       "      <td>1</td>\n",
       "      <td>free</td>\n",
       "    </tr>\n",
       "    <tr>\n",
       "      <th>1526</th>\n",
       "      <td>3644.121544</td>\n",
       "      <td>23.0</td>\n",
       "      <td>1</td>\n",
       "      <td>free</td>\n",
       "    </tr>\n",
       "    <tr>\n",
       "      <th>1528</th>\n",
       "      <td>3998.569324</td>\n",
       "      <td>11.0</td>\n",
       "      <td>1</td>\n",
       "      <td>free</td>\n",
       "    </tr>\n",
       "    <tr>\n",
       "      <th>1532</th>\n",
       "      <td>6111.889853</td>\n",
       "      <td>42.0</td>\n",
       "      <td>2</td>\n",
       "      <td>free</td>\n",
       "    </tr>\n",
       "    <tr>\n",
       "      <th>1534</th>\n",
       "      <td>2371.711192</td>\n",
       "      <td>16.0</td>\n",
       "      <td>1</td>\n",
       "      <td>free</td>\n",
       "    </tr>\n",
       "  </tbody>\n",
       "</table>\n",
       "<p>11331 rows × 4 columns</p>\n",
       "</div>"
      ],
      "text/plain": [
       "                  distance  duration  name subscription_type\n",
       "month user_id                                               \n",
       "1     1        7027.511294      42.0     2             ultra\n",
       "      3        3061.777147      13.0     1             ultra\n",
       "      5        3914.646990      13.0     1             ultra\n",
       "      7        6478.080979      28.0     2             ultra\n",
       "      12       3577.151148      33.0     1             ultra\n",
       "...                    ...       ...   ...               ...\n",
       "12    1525     4597.854350      34.0     1              free\n",
       "      1526     3644.121544      23.0     1              free\n",
       "      1528     3998.569324      11.0     1              free\n",
       "      1532     6111.889853      42.0     2              free\n",
       "      1534     2371.711192      16.0     1              free\n",
       "\n",
       "[11331 rows x 4 columns]"
      ]
     },
     "execution_count": 39,
     "metadata": {},
     "output_type": "execute_result"
    }
   ],
   "source": [
    "total_data\n"
   ]
  },
  {
   "cell_type": "code",
   "execution_count": 40,
   "id": "c1ca20ee",
   "metadata": {},
   "outputs": [],
   "source": [
    "total_data['duration'] = np.ceil(total_data['duration'])"
   ]
  },
  {
   "cell_type": "code",
   "execution_count": 41,
   "id": "8b7d3b29",
   "metadata": {},
   "outputs": [
    {
     "data": {
      "text/html": [
       "<div>\n",
       "<style scoped>\n",
       "    .dataframe tbody tr th:only-of-type {\n",
       "        vertical-align: middle;\n",
       "    }\n",
       "\n",
       "    .dataframe tbody tr th {\n",
       "        vertical-align: top;\n",
       "    }\n",
       "\n",
       "    .dataframe thead th {\n",
       "        text-align: right;\n",
       "    }\n",
       "</style>\n",
       "<table border=\"1\" class=\"dataframe\">\n",
       "  <thead>\n",
       "    <tr style=\"text-align: right;\">\n",
       "      <th></th>\n",
       "      <th></th>\n",
       "      <th>distance</th>\n",
       "      <th>duration</th>\n",
       "      <th>name</th>\n",
       "      <th>subscription_type</th>\n",
       "    </tr>\n",
       "    <tr>\n",
       "      <th>month</th>\n",
       "      <th>user_id</th>\n",
       "      <th></th>\n",
       "      <th></th>\n",
       "      <th></th>\n",
       "      <th></th>\n",
       "    </tr>\n",
       "  </thead>\n",
       "  <tbody>\n",
       "    <tr>\n",
       "      <th rowspan=\"35\" valign=\"top\">1</th>\n",
       "      <th>1</th>\n",
       "      <td>7027.511294</td>\n",
       "      <td>42.0</td>\n",
       "      <td>2</td>\n",
       "      <td>ultra</td>\n",
       "    </tr>\n",
       "    <tr>\n",
       "      <th>3</th>\n",
       "      <td>3061.777147</td>\n",
       "      <td>13.0</td>\n",
       "      <td>1</td>\n",
       "      <td>ultra</td>\n",
       "    </tr>\n",
       "    <tr>\n",
       "      <th>5</th>\n",
       "      <td>3914.646990</td>\n",
       "      <td>13.0</td>\n",
       "      <td>1</td>\n",
       "      <td>ultra</td>\n",
       "    </tr>\n",
       "    <tr>\n",
       "      <th>7</th>\n",
       "      <td>6478.080979</td>\n",
       "      <td>28.0</td>\n",
       "      <td>2</td>\n",
       "      <td>ultra</td>\n",
       "    </tr>\n",
       "    <tr>\n",
       "      <th>12</th>\n",
       "      <td>3577.151148</td>\n",
       "      <td>33.0</td>\n",
       "      <td>1</td>\n",
       "      <td>ultra</td>\n",
       "    </tr>\n",
       "    <tr>\n",
       "      <th>13</th>\n",
       "      <td>6687.987446</td>\n",
       "      <td>42.0</td>\n",
       "      <td>2</td>\n",
       "      <td>ultra</td>\n",
       "    </tr>\n",
       "    <tr>\n",
       "      <th>14</th>\n",
       "      <td>7699.643820</td>\n",
       "      <td>35.0</td>\n",
       "      <td>2</td>\n",
       "      <td>ultra</td>\n",
       "    </tr>\n",
       "    <tr>\n",
       "      <th>15</th>\n",
       "      <td>4187.621459</td>\n",
       "      <td>39.0</td>\n",
       "      <td>1</td>\n",
       "      <td>ultra</td>\n",
       "    </tr>\n",
       "    <tr>\n",
       "      <th>20</th>\n",
       "      <td>3516.719208</td>\n",
       "      <td>29.0</td>\n",
       "      <td>1</td>\n",
       "      <td>ultra</td>\n",
       "    </tr>\n",
       "    <tr>\n",
       "      <th>22</th>\n",
       "      <td>3058.692225</td>\n",
       "      <td>13.0</td>\n",
       "      <td>1</td>\n",
       "      <td>ultra</td>\n",
       "    </tr>\n",
       "    <tr>\n",
       "      <th>25</th>\n",
       "      <td>3440.353053</td>\n",
       "      <td>17.0</td>\n",
       "      <td>1</td>\n",
       "      <td>ultra</td>\n",
       "    </tr>\n",
       "    <tr>\n",
       "      <th>26</th>\n",
       "      <td>6545.964099</td>\n",
       "      <td>28.0</td>\n",
       "      <td>2</td>\n",
       "      <td>ultra</td>\n",
       "    </tr>\n",
       "    <tr>\n",
       "      <th>30</th>\n",
       "      <td>7774.720501</td>\n",
       "      <td>25.0</td>\n",
       "      <td>2</td>\n",
       "      <td>ultra</td>\n",
       "    </tr>\n",
       "    <tr>\n",
       "      <th>32</th>\n",
       "      <td>3734.993902</td>\n",
       "      <td>25.0</td>\n",
       "      <td>1</td>\n",
       "      <td>ultra</td>\n",
       "    </tr>\n",
       "    <tr>\n",
       "      <th>35</th>\n",
       "      <td>9707.810053</td>\n",
       "      <td>57.0</td>\n",
       "      <td>3</td>\n",
       "      <td>ultra</td>\n",
       "    </tr>\n",
       "    <tr>\n",
       "      <th>42</th>\n",
       "      <td>4329.769187</td>\n",
       "      <td>23.0</td>\n",
       "      <td>1</td>\n",
       "      <td>ultra</td>\n",
       "    </tr>\n",
       "    <tr>\n",
       "      <th>43</th>\n",
       "      <td>6322.206034</td>\n",
       "      <td>48.0</td>\n",
       "      <td>2</td>\n",
       "      <td>ultra</td>\n",
       "    </tr>\n",
       "    <tr>\n",
       "      <th>44</th>\n",
       "      <td>2944.410629</td>\n",
       "      <td>19.0</td>\n",
       "      <td>2</td>\n",
       "      <td>ultra</td>\n",
       "    </tr>\n",
       "    <tr>\n",
       "      <th>45</th>\n",
       "      <td>3702.424319</td>\n",
       "      <td>27.0</td>\n",
       "      <td>2</td>\n",
       "      <td>ultra</td>\n",
       "    </tr>\n",
       "    <tr>\n",
       "      <th>46</th>\n",
       "      <td>3242.092435</td>\n",
       "      <td>20.0</td>\n",
       "      <td>1</td>\n",
       "      <td>ultra</td>\n",
       "    </tr>\n",
       "    <tr>\n",
       "      <th>51</th>\n",
       "      <td>7285.366019</td>\n",
       "      <td>55.0</td>\n",
       "      <td>2</td>\n",
       "      <td>ultra</td>\n",
       "    </tr>\n",
       "    <tr>\n",
       "      <th>54</th>\n",
       "      <td>2600.277031</td>\n",
       "      <td>19.0</td>\n",
       "      <td>1</td>\n",
       "      <td>ultra</td>\n",
       "    </tr>\n",
       "    <tr>\n",
       "      <th>55</th>\n",
       "      <td>6353.654177</td>\n",
       "      <td>37.0</td>\n",
       "      <td>2</td>\n",
       "      <td>ultra</td>\n",
       "    </tr>\n",
       "    <tr>\n",
       "      <th>56</th>\n",
       "      <td>3494.685027</td>\n",
       "      <td>21.0</td>\n",
       "      <td>1</td>\n",
       "      <td>ultra</td>\n",
       "    </tr>\n",
       "    <tr>\n",
       "      <th>57</th>\n",
       "      <td>3417.126834</td>\n",
       "      <td>26.0</td>\n",
       "      <td>1</td>\n",
       "      <td>ultra</td>\n",
       "    </tr>\n",
       "    <tr>\n",
       "      <th>60</th>\n",
       "      <td>5293.063577</td>\n",
       "      <td>31.0</td>\n",
       "      <td>2</td>\n",
       "      <td>ultra</td>\n",
       "    </tr>\n",
       "    <tr>\n",
       "      <th>61</th>\n",
       "      <td>8167.266069</td>\n",
       "      <td>59.0</td>\n",
       "      <td>4</td>\n",
       "      <td>ultra</td>\n",
       "    </tr>\n",
       "    <tr>\n",
       "      <th>63</th>\n",
       "      <td>2948.688257</td>\n",
       "      <td>22.0</td>\n",
       "      <td>1</td>\n",
       "      <td>ultra</td>\n",
       "    </tr>\n",
       "    <tr>\n",
       "      <th>64</th>\n",
       "      <td>4585.303566</td>\n",
       "      <td>25.0</td>\n",
       "      <td>1</td>\n",
       "      <td>ultra</td>\n",
       "    </tr>\n",
       "    <tr>\n",
       "      <th>66</th>\n",
       "      <td>5532.118721</td>\n",
       "      <td>48.0</td>\n",
       "      <td>3</td>\n",
       "      <td>ultra</td>\n",
       "    </tr>\n",
       "    <tr>\n",
       "      <th>67</th>\n",
       "      <td>2556.689615</td>\n",
       "      <td>12.0</td>\n",
       "      <td>1</td>\n",
       "      <td>ultra</td>\n",
       "    </tr>\n",
       "    <tr>\n",
       "      <th>69</th>\n",
       "      <td>2997.826637</td>\n",
       "      <td>19.0</td>\n",
       "      <td>1</td>\n",
       "      <td>ultra</td>\n",
       "    </tr>\n",
       "    <tr>\n",
       "      <th>70</th>\n",
       "      <td>6062.977274</td>\n",
       "      <td>43.0</td>\n",
       "      <td>2</td>\n",
       "      <td>ultra</td>\n",
       "    </tr>\n",
       "    <tr>\n",
       "      <th>71</th>\n",
       "      <td>3179.305574</td>\n",
       "      <td>20.0</td>\n",
       "      <td>1</td>\n",
       "      <td>ultra</td>\n",
       "    </tr>\n",
       "    <tr>\n",
       "      <th>72</th>\n",
       "      <td>3713.885705</td>\n",
       "      <td>33.0</td>\n",
       "      <td>1</td>\n",
       "      <td>ultra</td>\n",
       "    </tr>\n",
       "  </tbody>\n",
       "</table>\n",
       "</div>"
      ],
      "text/plain": [
       "                  distance  duration  name subscription_type\n",
       "month user_id                                               \n",
       "1     1        7027.511294      42.0     2             ultra\n",
       "      3        3061.777147      13.0     1             ultra\n",
       "      5        3914.646990      13.0     1             ultra\n",
       "      7        6478.080979      28.0     2             ultra\n",
       "      12       3577.151148      33.0     1             ultra\n",
       "      13       6687.987446      42.0     2             ultra\n",
       "      14       7699.643820      35.0     2             ultra\n",
       "      15       4187.621459      39.0     1             ultra\n",
       "      20       3516.719208      29.0     1             ultra\n",
       "      22       3058.692225      13.0     1             ultra\n",
       "      25       3440.353053      17.0     1             ultra\n",
       "      26       6545.964099      28.0     2             ultra\n",
       "      30       7774.720501      25.0     2             ultra\n",
       "      32       3734.993902      25.0     1             ultra\n",
       "      35       9707.810053      57.0     3             ultra\n",
       "      42       4329.769187      23.0     1             ultra\n",
       "      43       6322.206034      48.0     2             ultra\n",
       "      44       2944.410629      19.0     2             ultra\n",
       "      45       3702.424319      27.0     2             ultra\n",
       "      46       3242.092435      20.0     1             ultra\n",
       "      51       7285.366019      55.0     2             ultra\n",
       "      54       2600.277031      19.0     1             ultra\n",
       "      55       6353.654177      37.0     2             ultra\n",
       "      56       3494.685027      21.0     1             ultra\n",
       "      57       3417.126834      26.0     1             ultra\n",
       "      60       5293.063577      31.0     2             ultra\n",
       "      61       8167.266069      59.0     4             ultra\n",
       "      63       2948.688257      22.0     1             ultra\n",
       "      64       4585.303566      25.0     1             ultra\n",
       "      66       5532.118721      48.0     3             ultra\n",
       "      67       2556.689615      12.0     1             ultra\n",
       "      69       2997.826637      19.0     1             ultra\n",
       "      70       6062.977274      43.0     2             ultra\n",
       "      71       3179.305574      20.0     1             ultra\n",
       "      72       3713.885705      33.0     1             ultra"
      ]
     },
     "execution_count": 41,
     "metadata": {},
     "output_type": "execute_result"
    }
   ],
   "source": [
    "total_data.head(35)"
   ]
  },
  {
   "cell_type": "markdown",
   "id": "d96a3b55",
   "metadata": {},
   "source": [
    "Не совсем понял что именно требуется, вроде округлил время в большую сторону"
   ]
  },
  {
   "cell_type": "code",
   "execution_count": 42,
   "id": "9b410087",
   "metadata": {},
   "outputs": [
    {
     "data": {
      "text/html": [
       "<div>\n",
       "<style scoped>\n",
       "    .dataframe tbody tr th:only-of-type {\n",
       "        vertical-align: middle;\n",
       "    }\n",
       "\n",
       "    .dataframe tbody tr th {\n",
       "        vertical-align: top;\n",
       "    }\n",
       "\n",
       "    .dataframe thead th {\n",
       "        text-align: right;\n",
       "    }\n",
       "</style>\n",
       "<table border=\"1\" class=\"dataframe\">\n",
       "  <thead>\n",
       "    <tr style=\"text-align: right;\">\n",
       "      <th></th>\n",
       "      <th></th>\n",
       "      <th>distance</th>\n",
       "      <th>duration</th>\n",
       "      <th>name</th>\n",
       "      <th>subscription_type</th>\n",
       "    </tr>\n",
       "    <tr>\n",
       "      <th>month</th>\n",
       "      <th>user_id</th>\n",
       "      <th></th>\n",
       "      <th></th>\n",
       "      <th></th>\n",
       "      <th></th>\n",
       "    </tr>\n",
       "  </thead>\n",
       "  <tbody>\n",
       "    <tr>\n",
       "      <th rowspan=\"5\" valign=\"top\">1</th>\n",
       "      <th>1</th>\n",
       "      <td>7027.511294</td>\n",
       "      <td>42.0</td>\n",
       "      <td>2</td>\n",
       "      <td>ultra</td>\n",
       "    </tr>\n",
       "    <tr>\n",
       "      <th>3</th>\n",
       "      <td>3061.777147</td>\n",
       "      <td>13.0</td>\n",
       "      <td>1</td>\n",
       "      <td>ultra</td>\n",
       "    </tr>\n",
       "    <tr>\n",
       "      <th>5</th>\n",
       "      <td>3914.646990</td>\n",
       "      <td>13.0</td>\n",
       "      <td>1</td>\n",
       "      <td>ultra</td>\n",
       "    </tr>\n",
       "    <tr>\n",
       "      <th>7</th>\n",
       "      <td>6478.080979</td>\n",
       "      <td>28.0</td>\n",
       "      <td>2</td>\n",
       "      <td>ultra</td>\n",
       "    </tr>\n",
       "    <tr>\n",
       "      <th>12</th>\n",
       "      <td>3577.151148</td>\n",
       "      <td>33.0</td>\n",
       "      <td>1</td>\n",
       "      <td>ultra</td>\n",
       "    </tr>\n",
       "    <tr>\n",
       "      <th>...</th>\n",
       "      <th>...</th>\n",
       "      <td>...</td>\n",
       "      <td>...</td>\n",
       "      <td>...</td>\n",
       "      <td>...</td>\n",
       "    </tr>\n",
       "    <tr>\n",
       "      <th rowspan=\"5\" valign=\"top\">12</th>\n",
       "      <th>1525</th>\n",
       "      <td>4597.854350</td>\n",
       "      <td>34.0</td>\n",
       "      <td>1</td>\n",
       "      <td>free</td>\n",
       "    </tr>\n",
       "    <tr>\n",
       "      <th>1526</th>\n",
       "      <td>3644.121544</td>\n",
       "      <td>23.0</td>\n",
       "      <td>1</td>\n",
       "      <td>free</td>\n",
       "    </tr>\n",
       "    <tr>\n",
       "      <th>1528</th>\n",
       "      <td>3998.569324</td>\n",
       "      <td>11.0</td>\n",
       "      <td>1</td>\n",
       "      <td>free</td>\n",
       "    </tr>\n",
       "    <tr>\n",
       "      <th>1532</th>\n",
       "      <td>6111.889853</td>\n",
       "      <td>42.0</td>\n",
       "      <td>2</td>\n",
       "      <td>free</td>\n",
       "    </tr>\n",
       "    <tr>\n",
       "      <th>1534</th>\n",
       "      <td>2371.711192</td>\n",
       "      <td>16.0</td>\n",
       "      <td>1</td>\n",
       "      <td>free</td>\n",
       "    </tr>\n",
       "  </tbody>\n",
       "</table>\n",
       "<p>11331 rows × 4 columns</p>\n",
       "</div>"
      ],
      "text/plain": [
       "                  distance  duration  name subscription_type\n",
       "month user_id                                               \n",
       "1     1        7027.511294      42.0     2             ultra\n",
       "      3        3061.777147      13.0     1             ultra\n",
       "      5        3914.646990      13.0     1             ultra\n",
       "      7        6478.080979      28.0     2             ultra\n",
       "      12       3577.151148      33.0     1             ultra\n",
       "...                    ...       ...   ...               ...\n",
       "12    1525     4597.854350      34.0     1              free\n",
       "      1526     3644.121544      23.0     1              free\n",
       "      1528     3998.569324      11.0     1              free\n",
       "      1532     6111.889853      42.0     2              free\n",
       "      1534     2371.711192      16.0     1              free\n",
       "\n",
       "[11331 rows x 4 columns]"
      ]
     },
     "execution_count": 42,
     "metadata": {},
     "output_type": "execute_result"
    }
   ],
   "source": [
    "total_data"
   ]
  },
  {
   "cell_type": "code",
   "execution_count": 43,
   "id": "9156952c",
   "metadata": {},
   "outputs": [],
   "source": [
    "def pribyl(row):\n",
    "    if row['subscription_type'] == 'ultra':\n",
    "        return row['duration'] * 6 + 199\n",
    "    else:\n",
    "        return row['duration'] * 8 + row['name'] * 50"
   ]
  },
  {
   "cell_type": "code",
   "execution_count": 44,
   "id": "ee7e0cce",
   "metadata": {},
   "outputs": [],
   "source": [
    "total_data['pribyl+'] = total_data.apply(pribyl,axis=1)"
   ]
  },
  {
   "cell_type": "code",
   "execution_count": 45,
   "id": "ff904cdf",
   "metadata": {
    "scrolled": true
   },
   "outputs": [
    {
     "data": {
      "text/html": [
       "<div>\n",
       "<style scoped>\n",
       "    .dataframe tbody tr th:only-of-type {\n",
       "        vertical-align: middle;\n",
       "    }\n",
       "\n",
       "    .dataframe tbody tr th {\n",
       "        vertical-align: top;\n",
       "    }\n",
       "\n",
       "    .dataframe thead th {\n",
       "        text-align: right;\n",
       "    }\n",
       "</style>\n",
       "<table border=\"1\" class=\"dataframe\">\n",
       "  <thead>\n",
       "    <tr style=\"text-align: right;\">\n",
       "      <th></th>\n",
       "      <th></th>\n",
       "      <th>distance</th>\n",
       "      <th>duration</th>\n",
       "      <th>name</th>\n",
       "      <th>subscription_type</th>\n",
       "      <th>pribyl+</th>\n",
       "    </tr>\n",
       "    <tr>\n",
       "      <th>month</th>\n",
       "      <th>user_id</th>\n",
       "      <th></th>\n",
       "      <th></th>\n",
       "      <th></th>\n",
       "      <th></th>\n",
       "      <th></th>\n",
       "    </tr>\n",
       "  </thead>\n",
       "  <tbody>\n",
       "    <tr>\n",
       "      <th rowspan=\"5\" valign=\"top\">1</th>\n",
       "      <th>1</th>\n",
       "      <td>7027.511294</td>\n",
       "      <td>42.0</td>\n",
       "      <td>2</td>\n",
       "      <td>ultra</td>\n",
       "      <td>451.0</td>\n",
       "    </tr>\n",
       "    <tr>\n",
       "      <th>3</th>\n",
       "      <td>3061.777147</td>\n",
       "      <td>13.0</td>\n",
       "      <td>1</td>\n",
       "      <td>ultra</td>\n",
       "      <td>277.0</td>\n",
       "    </tr>\n",
       "    <tr>\n",
       "      <th>5</th>\n",
       "      <td>3914.646990</td>\n",
       "      <td>13.0</td>\n",
       "      <td>1</td>\n",
       "      <td>ultra</td>\n",
       "      <td>277.0</td>\n",
       "    </tr>\n",
       "    <tr>\n",
       "      <th>7</th>\n",
       "      <td>6478.080979</td>\n",
       "      <td>28.0</td>\n",
       "      <td>2</td>\n",
       "      <td>ultra</td>\n",
       "      <td>367.0</td>\n",
       "    </tr>\n",
       "    <tr>\n",
       "      <th>12</th>\n",
       "      <td>3577.151148</td>\n",
       "      <td>33.0</td>\n",
       "      <td>1</td>\n",
       "      <td>ultra</td>\n",
       "      <td>397.0</td>\n",
       "    </tr>\n",
       "    <tr>\n",
       "      <th>...</th>\n",
       "      <th>...</th>\n",
       "      <td>...</td>\n",
       "      <td>...</td>\n",
       "      <td>...</td>\n",
       "      <td>...</td>\n",
       "      <td>...</td>\n",
       "    </tr>\n",
       "    <tr>\n",
       "      <th rowspan=\"5\" valign=\"top\">12</th>\n",
       "      <th>1525</th>\n",
       "      <td>4597.854350</td>\n",
       "      <td>34.0</td>\n",
       "      <td>1</td>\n",
       "      <td>free</td>\n",
       "      <td>322.0</td>\n",
       "    </tr>\n",
       "    <tr>\n",
       "      <th>1526</th>\n",
       "      <td>3644.121544</td>\n",
       "      <td>23.0</td>\n",
       "      <td>1</td>\n",
       "      <td>free</td>\n",
       "      <td>234.0</td>\n",
       "    </tr>\n",
       "    <tr>\n",
       "      <th>1528</th>\n",
       "      <td>3998.569324</td>\n",
       "      <td>11.0</td>\n",
       "      <td>1</td>\n",
       "      <td>free</td>\n",
       "      <td>138.0</td>\n",
       "    </tr>\n",
       "    <tr>\n",
       "      <th>1532</th>\n",
       "      <td>6111.889853</td>\n",
       "      <td>42.0</td>\n",
       "      <td>2</td>\n",
       "      <td>free</td>\n",
       "      <td>436.0</td>\n",
       "    </tr>\n",
       "    <tr>\n",
       "      <th>1534</th>\n",
       "      <td>2371.711192</td>\n",
       "      <td>16.0</td>\n",
       "      <td>1</td>\n",
       "      <td>free</td>\n",
       "      <td>178.0</td>\n",
       "    </tr>\n",
       "  </tbody>\n",
       "</table>\n",
       "<p>11331 rows × 5 columns</p>\n",
       "</div>"
      ],
      "text/plain": [
       "                  distance  duration  name subscription_type  pribyl+\n",
       "month user_id                                                        \n",
       "1     1        7027.511294      42.0     2             ultra    451.0\n",
       "      3        3061.777147      13.0     1             ultra    277.0\n",
       "      5        3914.646990      13.0     1             ultra    277.0\n",
       "      7        6478.080979      28.0     2             ultra    367.0\n",
       "      12       3577.151148      33.0     1             ultra    397.0\n",
       "...                    ...       ...   ...               ...      ...\n",
       "12    1525     4597.854350      34.0     1              free    322.0\n",
       "      1526     3644.121544      23.0     1              free    234.0\n",
       "      1528     3998.569324      11.0     1              free    138.0\n",
       "      1532     6111.889853      42.0     2              free    436.0\n",
       "      1534     2371.711192      16.0     1              free    178.0\n",
       "\n",
       "[11331 rows x 5 columns]"
      ]
     },
     "execution_count": 45,
     "metadata": {},
     "output_type": "execute_result"
    }
   ],
   "source": [
    "total_data"
   ]
  },
  {
   "cell_type": "code",
   "execution_count": 46,
   "id": "f0be6bd8",
   "metadata": {},
   "outputs": [
    {
     "data": {
      "text/html": [
       "<div>\n",
       "<style scoped>\n",
       "    .dataframe tbody tr th:only-of-type {\n",
       "        vertical-align: middle;\n",
       "    }\n",
       "\n",
       "    .dataframe tbody tr th {\n",
       "        vertical-align: top;\n",
       "    }\n",
       "\n",
       "    .dataframe thead th {\n",
       "        text-align: right;\n",
       "    }\n",
       "</style>\n",
       "<table border=\"1\" class=\"dataframe\">\n",
       "  <thead>\n",
       "    <tr style=\"text-align: right;\">\n",
       "      <th></th>\n",
       "      <th>user_id</th>\n",
       "      <th>name</th>\n",
       "      <th>age</th>\n",
       "      <th>city</th>\n",
       "      <th>subscription_type</th>\n",
       "      <th>distance</th>\n",
       "      <th>duration</th>\n",
       "      <th>date</th>\n",
       "      <th>month</th>\n",
       "      <th>minute_price</th>\n",
       "      <th>start_ride_price</th>\n",
       "      <th>subscription_fee</th>\n",
       "    </tr>\n",
       "  </thead>\n",
       "  <tbody>\n",
       "    <tr>\n",
       "      <th>0</th>\n",
       "      <td>1</td>\n",
       "      <td>Кира</td>\n",
       "      <td>22</td>\n",
       "      <td>Тюмень</td>\n",
       "      <td>ultra</td>\n",
       "      <td>4409.919140</td>\n",
       "      <td>25.599769</td>\n",
       "      <td>2021-01-01</td>\n",
       "      <td>1</td>\n",
       "      <td>6</td>\n",
       "      <td>0</td>\n",
       "      <td>199</td>\n",
       "    </tr>\n",
       "    <tr>\n",
       "      <th>1</th>\n",
       "      <td>1</td>\n",
       "      <td>Кира</td>\n",
       "      <td>22</td>\n",
       "      <td>Тюмень</td>\n",
       "      <td>ultra</td>\n",
       "      <td>2617.592153</td>\n",
       "      <td>15.816871</td>\n",
       "      <td>2021-01-18</td>\n",
       "      <td>1</td>\n",
       "      <td>6</td>\n",
       "      <td>0</td>\n",
       "      <td>199</td>\n",
       "    </tr>\n",
       "    <tr>\n",
       "      <th>2</th>\n",
       "      <td>1</td>\n",
       "      <td>Кира</td>\n",
       "      <td>22</td>\n",
       "      <td>Тюмень</td>\n",
       "      <td>ultra</td>\n",
       "      <td>754.159807</td>\n",
       "      <td>6.232113</td>\n",
       "      <td>2021-04-20</td>\n",
       "      <td>4</td>\n",
       "      <td>6</td>\n",
       "      <td>0</td>\n",
       "      <td>199</td>\n",
       "    </tr>\n",
       "    <tr>\n",
       "      <th>3</th>\n",
       "      <td>1</td>\n",
       "      <td>Кира</td>\n",
       "      <td>22</td>\n",
       "      <td>Тюмень</td>\n",
       "      <td>ultra</td>\n",
       "      <td>2694.783254</td>\n",
       "      <td>18.511000</td>\n",
       "      <td>2021-08-11</td>\n",
       "      <td>8</td>\n",
       "      <td>6</td>\n",
       "      <td>0</td>\n",
       "      <td>199</td>\n",
       "    </tr>\n",
       "    <tr>\n",
       "      <th>4</th>\n",
       "      <td>1</td>\n",
       "      <td>Кира</td>\n",
       "      <td>22</td>\n",
       "      <td>Тюмень</td>\n",
       "      <td>ultra</td>\n",
       "      <td>4028.687306</td>\n",
       "      <td>26.265803</td>\n",
       "      <td>2021-08-28</td>\n",
       "      <td>8</td>\n",
       "      <td>6</td>\n",
       "      <td>0</td>\n",
       "      <td>199</td>\n",
       "    </tr>\n",
       "    <tr>\n",
       "      <th>...</th>\n",
       "      <td>...</td>\n",
       "      <td>...</td>\n",
       "      <td>...</td>\n",
       "      <td>...</td>\n",
       "      <td>...</td>\n",
       "      <td>...</td>\n",
       "      <td>...</td>\n",
       "      <td>...</td>\n",
       "      <td>...</td>\n",
       "      <td>...</td>\n",
       "      <td>...</td>\n",
       "      <td>...</td>\n",
       "    </tr>\n",
       "    <tr>\n",
       "      <th>6495</th>\n",
       "      <td>699</td>\n",
       "      <td>Оксана</td>\n",
       "      <td>22</td>\n",
       "      <td>Москва</td>\n",
       "      <td>ultra</td>\n",
       "      <td>3973.046497</td>\n",
       "      <td>24.671163</td>\n",
       "      <td>2021-08-29</td>\n",
       "      <td>8</td>\n",
       "      <td>6</td>\n",
       "      <td>0</td>\n",
       "      <td>199</td>\n",
       "    </tr>\n",
       "    <tr>\n",
       "      <th>6496</th>\n",
       "      <td>699</td>\n",
       "      <td>Оксана</td>\n",
       "      <td>22</td>\n",
       "      <td>Москва</td>\n",
       "      <td>ultra</td>\n",
       "      <td>3288.702563</td>\n",
       "      <td>15.892886</td>\n",
       "      <td>2021-09-12</td>\n",
       "      <td>9</td>\n",
       "      <td>6</td>\n",
       "      <td>0</td>\n",
       "      <td>199</td>\n",
       "    </tr>\n",
       "    <tr>\n",
       "      <th>6497</th>\n",
       "      <td>699</td>\n",
       "      <td>Оксана</td>\n",
       "      <td>22</td>\n",
       "      <td>Москва</td>\n",
       "      <td>ultra</td>\n",
       "      <td>3076.159348</td>\n",
       "      <td>14.389525</td>\n",
       "      <td>2021-09-26</td>\n",
       "      <td>9</td>\n",
       "      <td>6</td>\n",
       "      <td>0</td>\n",
       "      <td>199</td>\n",
       "    </tr>\n",
       "    <tr>\n",
       "      <th>6498</th>\n",
       "      <td>699</td>\n",
       "      <td>Оксана</td>\n",
       "      <td>22</td>\n",
       "      <td>Москва</td>\n",
       "      <td>ultra</td>\n",
       "      <td>4707.845501</td>\n",
       "      <td>15.839579</td>\n",
       "      <td>2021-10-17</td>\n",
       "      <td>10</td>\n",
       "      <td>6</td>\n",
       "      <td>0</td>\n",
       "      <td>199</td>\n",
       "    </tr>\n",
       "    <tr>\n",
       "      <th>6499</th>\n",
       "      <td>699</td>\n",
       "      <td>Оксана</td>\n",
       "      <td>22</td>\n",
       "      <td>Москва</td>\n",
       "      <td>ultra</td>\n",
       "      <td>3202.890770</td>\n",
       "      <td>25.217345</td>\n",
       "      <td>2021-12-03</td>\n",
       "      <td>12</td>\n",
       "      <td>6</td>\n",
       "      <td>0</td>\n",
       "      <td>199</td>\n",
       "    </tr>\n",
       "  </tbody>\n",
       "</table>\n",
       "<p>6500 rows × 12 columns</p>\n",
       "</div>"
      ],
      "text/plain": [
       "      user_id    name  age    city subscription_type     distance   duration  \\\n",
       "0           1    Кира   22  Тюмень             ultra  4409.919140  25.599769   \n",
       "1           1    Кира   22  Тюмень             ultra  2617.592153  15.816871   \n",
       "2           1    Кира   22  Тюмень             ultra   754.159807   6.232113   \n",
       "3           1    Кира   22  Тюмень             ultra  2694.783254  18.511000   \n",
       "4           1    Кира   22  Тюмень             ultra  4028.687306  26.265803   \n",
       "...       ...     ...  ...     ...               ...          ...        ...   \n",
       "6495      699  Оксана   22  Москва             ultra  3973.046497  24.671163   \n",
       "6496      699  Оксана   22  Москва             ultra  3288.702563  15.892886   \n",
       "6497      699  Оксана   22  Москва             ultra  3076.159348  14.389525   \n",
       "6498      699  Оксана   22  Москва             ultra  4707.845501  15.839579   \n",
       "6499      699  Оксана   22  Москва             ultra  3202.890770  25.217345   \n",
       "\n",
       "           date  month  minute_price  start_ride_price  subscription_fee  \n",
       "0    2021-01-01      1             6                 0               199  \n",
       "1    2021-01-18      1             6                 0               199  \n",
       "2    2021-04-20      4             6                 0               199  \n",
       "3    2021-08-11      8             6                 0               199  \n",
       "4    2021-08-28      8             6                 0               199  \n",
       "...         ...    ...           ...               ...               ...  \n",
       "6495 2021-08-29      8             6                 0               199  \n",
       "6496 2021-09-12      9             6                 0               199  \n",
       "6497 2021-09-26      9             6                 0               199  \n",
       "6498 2021-10-17     10             6                 0               199  \n",
       "6499 2021-12-03     12             6                 0               199  \n",
       "\n",
       "[6500 rows x 12 columns]"
      ]
     },
     "execution_count": 46,
     "metadata": {},
     "output_type": "execute_result"
    }
   ],
   "source": [
    "data_ultra"
   ]
  },
  {
   "cell_type": "markdown",
   "id": "41545ac0",
   "metadata": {},
   "source": [
    "#### Шаг 6. Проверка гипотез"
   ]
  },
  {
   "cell_type": "markdown",
   "id": "3591fbab",
   "metadata": {},
   "source": [
    "# 6.1"
   ]
  },
  {
   "cell_type": "markdown",
   "id": "70bdc1e4",
   "metadata": {},
   "source": [
    "H0: время у обоих групп равны\n",
    "H1: пользователи с подпиской тратят больше времени на поездки"
   ]
  },
  {
   "cell_type": "code",
   "execution_count": 47,
   "id": "2d4f12c1",
   "metadata": {},
   "outputs": [],
   "source": [
    "results = st.ttest_ind(data_ultra['duration'], data_free['duration'], alternative = 'greater')\n",
    "alpha = 0.05"
   ]
  },
  {
   "cell_type": "code",
   "execution_count": 48,
   "id": "23ea867b",
   "metadata": {},
   "outputs": [
    {
     "name": "stdout",
     "output_type": "stream",
     "text": [
      "p-значение: 1.2804098316645618e-34\n"
     ]
    }
   ],
   "source": [
    "print('p-значение:', results.pvalue)"
   ]
  },
  {
   "cell_type": "code",
   "execution_count": 49,
   "id": "ec63a636",
   "metadata": {},
   "outputs": [
    {
     "name": "stdout",
     "output_type": "stream",
     "text": [
      "Отвергаем нулевую гипотезу\n"
     ]
    }
   ],
   "source": [
    "if results.pvalue < alpha:\n",
    "    print('Отвергаем нулевую гипотезу')\n",
    "else:\n",
    "    print('Не получилось отвергнуть нулевую гипотезу') "
   ]
  },
  {
   "cell_type": "markdown",
   "id": "e15a0396",
   "metadata": {},
   "source": [
    "Вывод: Отвергли гипотезу о том, что время поездки пользователей платных подписок равно времени поездки пользователей бесплатных подписок"
   ]
  },
  {
   "cell_type": "markdown",
   "id": "fc3f2014",
   "metadata": {},
   "source": [
    "# 6.2"
   ]
  },
  {
   "cell_type": "markdown",
   "id": "92e6c093",
   "metadata": {},
   "source": [
    "H0: Пользователи с подпиской за одну поездку проезжают ровно 3130 метров\n",
    "H1: Пользователи с подпиской за одну поездку проезжают меньше 3130 метров"
   ]
  },
  {
   "cell_type": "code",
   "execution_count": 50,
   "id": "f35d70f2",
   "metadata": {},
   "outputs": [],
   "source": [
    "alpha1 = 0.05\n",
    "dist = 3130"
   ]
  },
  {
   "cell_type": "code",
   "execution_count": 51,
   "id": "c8992ee1",
   "metadata": {},
   "outputs": [],
   "source": [
    "results1 = st.ttest_1samp(data_ultra['distance'], dist, alternative='greater')"
   ]
  },
  {
   "cell_type": "code",
   "execution_count": 52,
   "id": "bac19737",
   "metadata": {},
   "outputs": [
    {
     "name": "stdout",
     "output_type": "stream",
     "text": [
      "p-значение: 0.9195368847849785\n"
     ]
    }
   ],
   "source": [
    "print('p-значение:', results1.pvalue)"
   ]
  },
  {
   "cell_type": "code",
   "execution_count": 53,
   "id": "d38c8416",
   "metadata": {},
   "outputs": [
    {
     "name": "stdout",
     "output_type": "stream",
     "text": [
      "Не получилось отвергнуть нулевую гипотезу\n"
     ]
    }
   ],
   "source": [
    "if results1.pvalue < alpha: # сравните полученный p-value и уровень значимости)\n",
    "    print('Отвергаем нулевую гипотезу')\n",
    "else:\n",
    "    print('Не получилось отвергнуть нулевую гипотезу')"
   ]
  },
  {
   "cell_type": "markdown",
   "id": "0aeb5425",
   "metadata": {},
   "source": [
    "Вывод: пользователи не превышают 3130 метров за поездку"
   ]
  },
  {
   "cell_type": "markdown",
   "id": "3b0b18e1",
   "metadata": {},
   "source": [
    "# 6.3"
   ]
  },
  {
   "cell_type": "markdown",
   "id": "85f8a4e8",
   "metadata": {},
   "source": [
    "H0: Месячные выручки равны у обоих групп\n",
    "H1: Месячная выручка платной подписки выше чем у бесплатной "
   ]
  },
  {
   "cell_type": "code",
   "execution_count": 54,
   "id": "4442fc35",
   "metadata": {},
   "outputs": [
    {
     "data": {
      "text/html": [
       "<div>\n",
       "<style scoped>\n",
       "    .dataframe tbody tr th:only-of-type {\n",
       "        vertical-align: middle;\n",
       "    }\n",
       "\n",
       "    .dataframe tbody tr th {\n",
       "        vertical-align: top;\n",
       "    }\n",
       "\n",
       "    .dataframe thead th {\n",
       "        text-align: right;\n",
       "    }\n",
       "</style>\n",
       "<table border=\"1\" class=\"dataframe\">\n",
       "  <thead>\n",
       "    <tr style=\"text-align: right;\">\n",
       "      <th></th>\n",
       "      <th></th>\n",
       "      <th>distance</th>\n",
       "      <th>duration</th>\n",
       "      <th>name</th>\n",
       "      <th>subscription_type</th>\n",
       "      <th>pribyl+</th>\n",
       "    </tr>\n",
       "    <tr>\n",
       "      <th>month</th>\n",
       "      <th>user_id</th>\n",
       "      <th></th>\n",
       "      <th></th>\n",
       "      <th></th>\n",
       "      <th></th>\n",
       "      <th></th>\n",
       "    </tr>\n",
       "  </thead>\n",
       "  <tbody>\n",
       "    <tr>\n",
       "      <th rowspan=\"5\" valign=\"top\">1</th>\n",
       "      <th>1</th>\n",
       "      <td>7027.511294</td>\n",
       "      <td>42.0</td>\n",
       "      <td>2</td>\n",
       "      <td>ultra</td>\n",
       "      <td>451.0</td>\n",
       "    </tr>\n",
       "    <tr>\n",
       "      <th>3</th>\n",
       "      <td>3061.777147</td>\n",
       "      <td>13.0</td>\n",
       "      <td>1</td>\n",
       "      <td>ultra</td>\n",
       "      <td>277.0</td>\n",
       "    </tr>\n",
       "    <tr>\n",
       "      <th>5</th>\n",
       "      <td>3914.646990</td>\n",
       "      <td>13.0</td>\n",
       "      <td>1</td>\n",
       "      <td>ultra</td>\n",
       "      <td>277.0</td>\n",
       "    </tr>\n",
       "    <tr>\n",
       "      <th>7</th>\n",
       "      <td>6478.080979</td>\n",
       "      <td>28.0</td>\n",
       "      <td>2</td>\n",
       "      <td>ultra</td>\n",
       "      <td>367.0</td>\n",
       "    </tr>\n",
       "    <tr>\n",
       "      <th>12</th>\n",
       "      <td>3577.151148</td>\n",
       "      <td>33.0</td>\n",
       "      <td>1</td>\n",
       "      <td>ultra</td>\n",
       "      <td>397.0</td>\n",
       "    </tr>\n",
       "    <tr>\n",
       "      <th>...</th>\n",
       "      <th>...</th>\n",
       "      <td>...</td>\n",
       "      <td>...</td>\n",
       "      <td>...</td>\n",
       "      <td>...</td>\n",
       "      <td>...</td>\n",
       "    </tr>\n",
       "    <tr>\n",
       "      <th rowspan=\"5\" valign=\"top\">12</th>\n",
       "      <th>1525</th>\n",
       "      <td>4597.854350</td>\n",
       "      <td>34.0</td>\n",
       "      <td>1</td>\n",
       "      <td>free</td>\n",
       "      <td>322.0</td>\n",
       "    </tr>\n",
       "    <tr>\n",
       "      <th>1526</th>\n",
       "      <td>3644.121544</td>\n",
       "      <td>23.0</td>\n",
       "      <td>1</td>\n",
       "      <td>free</td>\n",
       "      <td>234.0</td>\n",
       "    </tr>\n",
       "    <tr>\n",
       "      <th>1528</th>\n",
       "      <td>3998.569324</td>\n",
       "      <td>11.0</td>\n",
       "      <td>1</td>\n",
       "      <td>free</td>\n",
       "      <td>138.0</td>\n",
       "    </tr>\n",
       "    <tr>\n",
       "      <th>1532</th>\n",
       "      <td>6111.889853</td>\n",
       "      <td>42.0</td>\n",
       "      <td>2</td>\n",
       "      <td>free</td>\n",
       "      <td>436.0</td>\n",
       "    </tr>\n",
       "    <tr>\n",
       "      <th>1534</th>\n",
       "      <td>2371.711192</td>\n",
       "      <td>16.0</td>\n",
       "      <td>1</td>\n",
       "      <td>free</td>\n",
       "      <td>178.0</td>\n",
       "    </tr>\n",
       "  </tbody>\n",
       "</table>\n",
       "<p>11331 rows × 5 columns</p>\n",
       "</div>"
      ],
      "text/plain": [
       "                  distance  duration  name subscription_type  pribyl+\n",
       "month user_id                                                        \n",
       "1     1        7027.511294      42.0     2             ultra    451.0\n",
       "      3        3061.777147      13.0     1             ultra    277.0\n",
       "      5        3914.646990      13.0     1             ultra    277.0\n",
       "      7        6478.080979      28.0     2             ultra    367.0\n",
       "      12       3577.151148      33.0     1             ultra    397.0\n",
       "...                    ...       ...   ...               ...      ...\n",
       "12    1525     4597.854350      34.0     1              free    322.0\n",
       "      1526     3644.121544      23.0     1              free    234.0\n",
       "      1528     3998.569324      11.0     1              free    138.0\n",
       "      1532     6111.889853      42.0     2              free    436.0\n",
       "      1534     2371.711192      16.0     1              free    178.0\n",
       "\n",
       "[11331 rows x 5 columns]"
      ]
     },
     "execution_count": 54,
     "metadata": {},
     "output_type": "execute_result"
    }
   ],
   "source": [
    "total_data"
   ]
  },
  {
   "cell_type": "code",
   "execution_count": 55,
   "id": "f57ebc59",
   "metadata": {},
   "outputs": [],
   "source": [
    "ultra_pribyl = total_data.loc[total_data['subscription_type'] == 'ultra', 'pribyl+']"
   ]
  },
  {
   "cell_type": "code",
   "execution_count": 56,
   "id": "6fdf2f8a",
   "metadata": {},
   "outputs": [],
   "source": [
    "free_pribyl = total_data.loc[total_data['subscription_type'] == 'free', 'pribyl+']"
   ]
  },
  {
   "cell_type": "code",
   "execution_count": 57,
   "id": "d1f8142d",
   "metadata": {},
   "outputs": [],
   "source": [
    "results2 = st.ttest_ind(ultra_pribyl,free_pribyl, alternative = 'greater')"
   ]
  },
  {
   "cell_type": "code",
   "execution_count": 58,
   "id": "10590cf2",
   "metadata": {},
   "outputs": [
    {
     "name": "stdout",
     "output_type": "stream",
     "text": [
      "p-значение: 1.8850394384715216e-31\n"
     ]
    }
   ],
   "source": [
    "print('p-значение:', results2.pvalue)"
   ]
  },
  {
   "cell_type": "code",
   "execution_count": 59,
   "id": "dce9f6ad",
   "metadata": {},
   "outputs": [
    {
     "name": "stdout",
     "output_type": "stream",
     "text": [
      "Отвергаем нулевую гипотезу\n"
     ]
    }
   ],
   "source": [
    "if results2.pvalue < alpha:\n",
    "    print('Отвергаем нулевую гипотезу')\n",
    "else:\n",
    "    print('Не получилось отвергнуть нулевую гипотезу') "
   ]
  },
  {
   "cell_type": "markdown",
   "id": "f8cb297b",
   "metadata": {},
   "source": [
    "Вывод: Да мы подтвердили гипотезу о том что выручка с платных подписок больше, чем у бесплатных."
   ]
  },
  {
   "cell_type": "markdown",
   "id": "51370542",
   "metadata": {},
   "source": [
    "# 6.4"
   ]
  },
  {
   "cell_type": "markdown",
   "id": "2900e050",
   "metadata": {},
   "source": [
    "Будем использовать гипотезу о равенстве средних для зависимых (парных) выборок.\n",
    "Будем сравнивать с помощью scipy.stats.ttest_rel()"
   ]
  },
  {
   "cell_type": "markdown",
   "id": "61213c5e",
   "metadata": {},
   "source": [
    "#### Шаг 7. Распределения"
   ]
  },
  {
   "cell_type": "markdown",
   "id": "b8076c77",
   "metadata": {},
   "source": [
    "Загрузили 3 датасета с информацией о пользователях, поездках и подпиской.\n",
    "\n",
    "Преобразовали тип данных, проверили на налчие дуликатов и пропусков. Пропусков не было в датасетах, дубликаты устранили. Поменяли тип данных у стобца date к типу даты. Добавили столбец с номеров месяца.\n",
    "\n",
    "Сделали исследовательский анализ данных\n",
    "Выявили частоту встречаемости городов, распределение по городам у пользователей примерно одинаковое. идером по количеству пользователей является Пятигорск - 219 пользователей. Меньше всего пользователей в Москве - 168.\n",
    "Пользователей с бесплатной подпиской больше - 835 человек, что является ~54% от общего числа пользователей. На платной подписке сидит 699 пользователей, что соответственно является ~46%.\n",
    "Возраст пользователей укладывается в промежуток от 20 до 30 лет\n",
    "В основном пользователи проезжают от 2.5 км до 4 км.\n",
    "Чаще всего длительность поездки состовляет 13 - 22 минут\n",
    "Дальше визуализировали информацию о расстоянии и времени поездки для пользоватей каждого тарифа.\n",
    "\n",
    "Для бесплатного тарифа время поездки составляет от 10 до 30 минут, и проезжают от 2 до 5 км, есть пользователи, которые проехали даже 6, 6.5 км.\n",
    "Платный тариф. В основном время укладывается в промежуток от 15 до 25 минут. Пик расстояния приходится на 3км.\n",
    "\n",
    "Проверили гипотезы:\n",
    "\n",
    "Пользователи с подпиской тратят больше времени на поездки, чем пользователи на бесплатном тарифе\n",
    "Отвергли нулевую гипотезу\n",
    "Пользователи с подпиской проезжают расстояние, не превышающее 3130 метров за одну поездку\n",
    "Не удалось отвергнуть нулевую гипотезу\n",
    "Помесячная выручка от пользователей с подпиской выше, чем выручка от пользователей без подписки\n",
    "Отвергли нулевую гипотезу"
   ]
  },
  {
   "cell_type": "code",
   "execution_count": null,
   "id": "6acc3ce1",
   "metadata": {},
   "outputs": [],
   "source": []
  }
 ],
 "metadata": {
  "ExecuteTimeLog": [
   {
    "duration": 53,
    "start_time": "2023-09-01T10:19:12.660Z"
   },
   {
    "duration": 405,
    "start_time": "2023-09-01T10:19:42.170Z"
   },
   {
    "duration": 206,
    "start_time": "2023-09-01T10:19:43.905Z"
   },
   {
    "duration": 80,
    "start_time": "2023-09-01T10:20:35.505Z"
   },
   {
    "duration": 75,
    "start_time": "2023-09-01T10:20:51.986Z"
   },
   {
    "duration": 73,
    "start_time": "2023-09-01T10:22:07.587Z"
   },
   {
    "duration": 73,
    "start_time": "2023-09-01T10:22:14.613Z"
   },
   {
    "duration": 79,
    "start_time": "2023-09-01T10:23:13.126Z"
   },
   {
    "duration": 95,
    "start_time": "2023-09-01T10:23:40.853Z"
   },
   {
    "duration": 8,
    "start_time": "2023-09-01T10:29:40.902Z"
   },
   {
    "duration": 65,
    "start_time": "2023-09-01T10:30:02.951Z"
   },
   {
    "duration": 18,
    "start_time": "2023-09-01T10:34:47.883Z"
   },
   {
    "duration": 23,
    "start_time": "2023-09-01T10:37:41.982Z"
   },
   {
    "duration": 22,
    "start_time": "2023-09-01T10:37:59.699Z"
   },
   {
    "duration": 17,
    "start_time": "2023-09-01T10:39:03.331Z"
   },
   {
    "duration": 21,
    "start_time": "2023-09-01T10:39:10.298Z"
   },
   {
    "duration": 16,
    "start_time": "2023-09-01T10:39:13.698Z"
   },
   {
    "duration": 18,
    "start_time": "2023-09-01T10:40:01.882Z"
   },
   {
    "duration": 17,
    "start_time": "2023-09-01T10:40:06.822Z"
   },
   {
    "duration": 20,
    "start_time": "2023-09-01T10:40:10.797Z"
   },
   {
    "duration": 52,
    "start_time": "2023-09-01T10:40:15.281Z"
   },
   {
    "duration": 43,
    "start_time": "2023-09-03T14:28:59.864Z"
   },
   {
    "duration": 740,
    "start_time": "2023-09-03T14:29:12.059Z"
   },
   {
    "duration": 247,
    "start_time": "2023-09-03T14:29:13.911Z"
   },
   {
    "duration": 18,
    "start_time": "2023-09-03T14:29:15.959Z"
   },
   {
    "duration": 52,
    "start_time": "2023-09-03T14:33:12.759Z"
   },
   {
    "duration": 35,
    "start_time": "2023-09-03T14:33:39.741Z"
   },
   {
    "duration": 507,
    "start_time": "2023-09-03T14:34:12.299Z"
   },
   {
    "duration": 92,
    "start_time": "2023-09-03T14:34:13.824Z"
   },
   {
    "duration": 18,
    "start_time": "2023-09-03T14:34:16.525Z"
   },
   {
    "duration": 511,
    "start_time": "2023-09-03T14:38:21.177Z"
   },
   {
    "duration": 206,
    "start_time": "2023-09-03T14:38:54.840Z"
   },
   {
    "duration": 305,
    "start_time": "2023-09-03T14:40:30.747Z"
   },
   {
    "duration": 105,
    "start_time": "2023-09-03T14:40:51.555Z"
   },
   {
    "duration": 117,
    "start_time": "2023-09-03T14:41:49.005Z"
   },
   {
    "duration": 112,
    "start_time": "2023-09-03T14:42:03.840Z"
   },
   {
    "duration": 115,
    "start_time": "2023-09-03T14:43:48.138Z"
   },
   {
    "duration": 1459,
    "start_time": "2023-09-03T14:45:04.545Z"
   },
   {
    "duration": 110,
    "start_time": "2023-09-03T14:45:13.204Z"
   },
   {
    "duration": 288,
    "start_time": "2023-09-03T14:47:17.419Z"
   },
   {
    "duration": 355,
    "start_time": "2023-09-03T14:47:32.387Z"
   },
   {
    "duration": 93,
    "start_time": "2023-09-03T14:47:33.869Z"
   },
   {
    "duration": 18,
    "start_time": "2023-09-03T14:47:34.926Z"
   },
   {
    "duration": 511,
    "start_time": "2023-09-03T14:47:36.727Z"
   },
   {
    "duration": 335,
    "start_time": "2023-09-03T14:57:11.100Z"
   },
   {
    "duration": 91,
    "start_time": "2023-09-03T14:57:11.437Z"
   },
   {
    "duration": 16,
    "start_time": "2023-09-03T14:57:11.530Z"
   },
   {
    "duration": 415,
    "start_time": "2023-09-03T14:57:11.547Z"
   },
   {
    "duration": 108,
    "start_time": "2023-09-03T14:57:11.964Z"
   },
   {
    "duration": 133,
    "start_time": "2023-09-03T14:57:12.074Z"
   },
   {
    "duration": 125,
    "start_time": "2023-09-03T14:57:12.209Z"
   },
   {
    "duration": 196,
    "start_time": "2023-09-03T14:57:12.336Z"
   },
   {
    "duration": 6,
    "start_time": "2023-09-03T14:58:25.715Z"
   },
   {
    "duration": 68,
    "start_time": "2023-09-03T14:59:32.364Z"
   },
   {
    "duration": 424,
    "start_time": "2023-09-03T14:59:43.925Z"
   },
   {
    "duration": 95,
    "start_time": "2023-09-03T14:59:44.351Z"
   },
   {
    "duration": 18,
    "start_time": "2023-09-03T14:59:44.447Z"
   },
   {
    "duration": 62,
    "start_time": "2023-09-03T14:59:44.467Z"
   },
   {
    "duration": 0,
    "start_time": "2023-09-03T14:59:44.531Z"
   },
   {
    "duration": 0,
    "start_time": "2023-09-03T14:59:44.549Z"
   },
   {
    "duration": 0,
    "start_time": "2023-09-03T14:59:44.550Z"
   },
   {
    "duration": 0,
    "start_time": "2023-09-03T14:59:44.551Z"
   },
   {
    "duration": 7,
    "start_time": "2023-09-03T15:00:22.182Z"
   },
   {
    "duration": 5,
    "start_time": "2023-09-03T15:00:38.198Z"
   },
   {
    "duration": 9,
    "start_time": "2023-09-03T15:01:12.164Z"
   },
   {
    "duration": 8,
    "start_time": "2023-09-03T15:01:35.848Z"
   },
   {
    "duration": 6,
    "start_time": "2023-09-03T15:02:05.763Z"
   },
   {
    "duration": 6,
    "start_time": "2023-09-03T15:02:18.080Z"
   },
   {
    "duration": 13,
    "start_time": "2023-09-03T15:04:54.064Z"
   },
   {
    "duration": 9,
    "start_time": "2023-09-03T15:05:10.063Z"
   },
   {
    "duration": 132,
    "start_time": "2023-09-03T15:07:47.812Z"
   },
   {
    "duration": 6,
    "start_time": "2023-09-03T15:07:52.012Z"
   },
   {
    "duration": 366,
    "start_time": "2023-09-03T15:15:29.527Z"
   },
   {
    "duration": 95,
    "start_time": "2023-09-03T15:23:04.056Z"
   },
   {
    "duration": 415,
    "start_time": "2023-09-03T15:28:58.529Z"
   },
   {
    "duration": 97,
    "start_time": "2023-09-03T15:28:58.946Z"
   },
   {
    "duration": 16,
    "start_time": "2023-09-03T15:28:59.044Z"
   },
   {
    "duration": 351,
    "start_time": "2023-09-03T15:28:59.062Z"
   },
   {
    "duration": 123,
    "start_time": "2023-09-03T15:28:59.415Z"
   },
   {
    "duration": 138,
    "start_time": "2023-09-03T15:28:59.540Z"
   },
   {
    "duration": 122,
    "start_time": "2023-09-03T15:28:59.680Z"
   },
   {
    "duration": 124,
    "start_time": "2023-09-03T15:28:59.804Z"
   },
   {
    "duration": 139,
    "start_time": "2023-09-03T15:31:46.483Z"
   },
   {
    "duration": 95,
    "start_time": "2023-09-03T15:34:28.789Z"
   },
   {
    "duration": 31,
    "start_time": "2023-09-03T15:55:22.679Z"
   },
   {
    "duration": 23,
    "start_time": "2023-09-03T15:55:42.631Z"
   },
   {
    "duration": 29,
    "start_time": "2023-09-03T15:56:09.313Z"
   },
   {
    "duration": 82,
    "start_time": "2023-09-03T16:05:07.725Z"
   },
   {
    "duration": 34,
    "start_time": "2023-09-03T16:06:20.615Z"
   },
   {
    "duration": 25,
    "start_time": "2023-09-03T16:06:53.275Z"
   },
   {
    "duration": 7,
    "start_time": "2023-09-03T16:07:59.640Z"
   },
   {
    "duration": 26,
    "start_time": "2023-09-03T16:08:08.424Z"
   },
   {
    "duration": 6,
    "start_time": "2023-09-03T16:17:13.979Z"
   },
   {
    "duration": 12,
    "start_time": "2023-09-03T16:17:27.890Z"
   },
   {
    "duration": 13,
    "start_time": "2023-09-03T16:17:37.661Z"
   },
   {
    "duration": 114,
    "start_time": "2023-09-03T16:25:17.638Z"
   },
   {
    "duration": 106,
    "start_time": "2023-09-03T16:29:22.270Z"
   },
   {
    "duration": 110,
    "start_time": "2023-09-03T16:30:24.853Z"
   },
   {
    "duration": 127,
    "start_time": "2023-09-03T16:30:44.993Z"
   },
   {
    "duration": 11,
    "start_time": "2023-09-03T16:34:05.441Z"
   },
   {
    "duration": 561,
    "start_time": "2023-09-03T16:34:38.007Z"
   },
   {
    "duration": 92,
    "start_time": "2023-09-03T16:34:38.570Z"
   },
   {
    "duration": 17,
    "start_time": "2023-09-03T16:34:38.664Z"
   },
   {
    "duration": 121,
    "start_time": "2023-09-03T16:34:38.683Z"
   },
   {
    "duration": 111,
    "start_time": "2023-09-03T16:34:38.805Z"
   },
   {
    "duration": 138,
    "start_time": "2023-09-03T16:34:38.918Z"
   },
   {
    "duration": 141,
    "start_time": "2023-09-03T16:34:39.058Z"
   },
   {
    "duration": 166,
    "start_time": "2023-09-03T16:34:39.201Z"
   },
   {
    "duration": 34,
    "start_time": "2023-09-03T16:34:39.369Z"
   },
   {
    "duration": 19,
    "start_time": "2023-09-03T16:34:39.405Z"
   },
   {
    "duration": 35,
    "start_time": "2023-09-03T16:34:39.425Z"
   },
   {
    "duration": 63,
    "start_time": "2023-09-03T16:34:39.462Z"
   },
   {
    "duration": 0,
    "start_time": "2023-09-03T16:34:39.527Z"
   },
   {
    "duration": 0,
    "start_time": "2023-09-03T16:34:39.528Z"
   },
   {
    "duration": 0,
    "start_time": "2023-09-03T16:34:39.529Z"
   },
   {
    "duration": 171,
    "start_time": "2023-09-03T16:34:50.657Z"
   },
   {
    "duration": 128,
    "start_time": "2023-09-03T16:35:06.172Z"
   },
   {
    "duration": 166,
    "start_time": "2023-09-03T16:35:21.134Z"
   },
   {
    "duration": 170,
    "start_time": "2023-09-03T16:35:27.969Z"
   },
   {
    "duration": 151,
    "start_time": "2023-09-03T16:35:32.802Z"
   },
   {
    "duration": 171,
    "start_time": "2023-09-03T16:35:45.387Z"
   },
   {
    "duration": 141,
    "start_time": "2023-09-03T16:36:00.701Z"
   },
   {
    "duration": 201,
    "start_time": "2023-09-03T16:36:06.389Z"
   },
   {
    "duration": 162,
    "start_time": "2023-09-03T16:36:44.043Z"
   },
   {
    "duration": 112,
    "start_time": "2023-09-03T16:36:48.117Z"
   },
   {
    "duration": 152,
    "start_time": "2023-09-03T16:36:57.125Z"
   },
   {
    "duration": 152,
    "start_time": "2023-09-03T16:37:06.375Z"
   },
   {
    "duration": 142,
    "start_time": "2023-09-03T16:37:13.484Z"
   },
   {
    "duration": 44,
    "start_time": "2023-09-04T11:34:28.988Z"
   },
   {
    "duration": 784,
    "start_time": "2023-09-04T11:34:40.679Z"
   },
   {
    "duration": 276,
    "start_time": "2023-09-04T11:34:41.465Z"
   },
   {
    "duration": 20,
    "start_time": "2023-09-04T11:34:41.742Z"
   },
   {
    "duration": 120,
    "start_time": "2023-09-04T11:34:41.764Z"
   },
   {
    "duration": 125,
    "start_time": "2023-09-04T11:34:41.886Z"
   },
   {
    "duration": 146,
    "start_time": "2023-09-04T11:34:42.013Z"
   },
   {
    "duration": 130,
    "start_time": "2023-09-04T11:34:42.163Z"
   },
   {
    "duration": 187,
    "start_time": "2023-09-04T11:34:42.295Z"
   },
   {
    "duration": 34,
    "start_time": "2023-09-04T11:34:42.485Z"
   },
   {
    "duration": 20,
    "start_time": "2023-09-04T11:34:42.520Z"
   },
   {
    "duration": 37,
    "start_time": "2023-09-04T11:34:42.541Z"
   },
   {
    "duration": 174,
    "start_time": "2023-09-04T11:34:42.579Z"
   },
   {
    "duration": 210,
    "start_time": "2023-09-04T11:34:42.757Z"
   },
   {
    "duration": 149,
    "start_time": "2023-09-04T11:34:42.970Z"
   },
   {
    "duration": 172,
    "start_time": "2023-09-04T11:34:43.121Z"
   },
   {
    "duration": 6,
    "start_time": "2023-09-04T11:34:43.294Z"
   },
   {
    "duration": 1471,
    "start_time": "2023-09-04T11:35:33.523Z"
   },
   {
    "duration": 1346,
    "start_time": "2023-09-04T11:35:44.677Z"
   },
   {
    "duration": 801,
    "start_time": "2023-09-04T11:37:21.251Z"
   },
   {
    "duration": 15,
    "start_time": "2023-09-04T11:37:38.065Z"
   },
   {
    "duration": 25,
    "start_time": "2023-09-04T12:07:42.401Z"
   },
   {
    "duration": 10,
    "start_time": "2023-09-04T12:08:09.401Z"
   },
   {
    "duration": 19,
    "start_time": "2023-09-04T12:08:22.709Z"
   },
   {
    "duration": 842,
    "start_time": "2023-09-04T12:08:30.734Z"
   },
   {
    "duration": 99,
    "start_time": "2023-09-04T12:08:31.577Z"
   },
   {
    "duration": 16,
    "start_time": "2023-09-04T12:08:31.677Z"
   },
   {
    "duration": 138,
    "start_time": "2023-09-04T12:08:31.695Z"
   },
   {
    "duration": 120,
    "start_time": "2023-09-04T12:08:31.835Z"
   },
   {
    "duration": 142,
    "start_time": "2023-09-04T12:08:31.957Z"
   },
   {
    "duration": 128,
    "start_time": "2023-09-04T12:08:32.101Z"
   },
   {
    "duration": 185,
    "start_time": "2023-09-04T12:08:32.231Z"
   },
   {
    "duration": 49,
    "start_time": "2023-09-04T12:08:32.417Z"
   },
   {
    "duration": 25,
    "start_time": "2023-09-04T12:08:32.467Z"
   },
   {
    "duration": 23,
    "start_time": "2023-09-04T12:08:32.494Z"
   },
   {
    "duration": 206,
    "start_time": "2023-09-04T12:08:32.519Z"
   },
   {
    "duration": 198,
    "start_time": "2023-09-04T12:08:32.727Z"
   },
   {
    "duration": 179,
    "start_time": "2023-09-04T12:08:32.927Z"
   },
   {
    "duration": 160,
    "start_time": "2023-09-04T12:08:33.108Z"
   },
   {
    "duration": 72,
    "start_time": "2023-09-04T12:08:33.270Z"
   },
   {
    "duration": 0,
    "start_time": "2023-09-04T12:08:33.358Z"
   },
   {
    "duration": 0,
    "start_time": "2023-09-04T12:08:33.359Z"
   },
   {
    "duration": 337,
    "start_time": "2023-09-04T12:15:23.747Z"
   },
   {
    "duration": 15,
    "start_time": "2023-09-04T12:15:45.646Z"
   },
   {
    "duration": 3357,
    "start_time": "2023-09-04T12:16:05.995Z"
   },
   {
    "duration": 7,
    "start_time": "2023-09-04T12:16:14.013Z"
   },
   {
    "duration": 10,
    "start_time": "2023-09-04T12:16:29.814Z"
   },
   {
    "duration": 163,
    "start_time": "2023-09-04T12:16:45.563Z"
   },
   {
    "duration": 8,
    "start_time": "2023-09-04T12:17:40.579Z"
   },
   {
    "duration": 24,
    "start_time": "2023-09-04T12:18:30.813Z"
   },
   {
    "duration": 766,
    "start_time": "2023-09-04T12:20:26.761Z"
   },
   {
    "duration": 14,
    "start_time": "2023-09-04T12:20:28.495Z"
   },
   {
    "duration": 8,
    "start_time": "2023-09-04T12:24:00.759Z"
   },
   {
    "duration": 603,
    "start_time": "2023-09-04T12:24:19.377Z"
   },
   {
    "duration": 95,
    "start_time": "2023-09-04T12:24:19.982Z"
   },
   {
    "duration": 17,
    "start_time": "2023-09-04T12:24:20.078Z"
   },
   {
    "duration": 121,
    "start_time": "2023-09-04T12:24:20.097Z"
   },
   {
    "duration": 108,
    "start_time": "2023-09-04T12:24:20.220Z"
   },
   {
    "duration": 134,
    "start_time": "2023-09-04T12:24:20.329Z"
   },
   {
    "duration": 135,
    "start_time": "2023-09-04T12:24:20.465Z"
   },
   {
    "duration": 166,
    "start_time": "2023-09-04T12:24:20.601Z"
   },
   {
    "duration": 29,
    "start_time": "2023-09-04T12:24:20.769Z"
   },
   {
    "duration": 18,
    "start_time": "2023-09-04T12:24:20.800Z"
   },
   {
    "duration": 35,
    "start_time": "2023-09-04T12:24:20.820Z"
   },
   {
    "duration": 168,
    "start_time": "2023-09-04T12:24:20.857Z"
   },
   {
    "duration": 163,
    "start_time": "2023-09-04T12:24:21.026Z"
   },
   {
    "duration": 150,
    "start_time": "2023-09-04T12:24:21.190Z"
   },
   {
    "duration": 168,
    "start_time": "2023-09-04T12:24:21.341Z"
   },
   {
    "duration": 791,
    "start_time": "2023-09-04T12:24:21.510Z"
   },
   {
    "duration": 13,
    "start_time": "2023-09-04T12:24:22.303Z"
   },
   {
    "duration": 36,
    "start_time": "2023-09-04T12:24:22.317Z"
   },
   {
    "duration": 14,
    "start_time": "2023-09-04T12:24:33.358Z"
   },
   {
    "duration": 3,
    "start_time": "2023-09-04T12:29:18.185Z"
   },
   {
    "duration": 2607,
    "start_time": "2023-09-04T12:29:19.395Z"
   },
   {
    "duration": 108,
    "start_time": "2023-09-04T12:29:37.541Z"
   },
   {
    "duration": 17,
    "start_time": "2023-09-04T12:29:55.639Z"
   },
   {
    "duration": 628,
    "start_time": "2023-09-04T12:34:30.149Z"
   },
   {
    "duration": 111,
    "start_time": "2023-09-04T12:34:30.779Z"
   },
   {
    "duration": 17,
    "start_time": "2023-09-04T12:34:30.892Z"
   },
   {
    "duration": 129,
    "start_time": "2023-09-04T12:34:30.910Z"
   },
   {
    "duration": 117,
    "start_time": "2023-09-04T12:34:31.041Z"
   },
   {
    "duration": 130,
    "start_time": "2023-09-04T12:34:31.159Z"
   },
   {
    "duration": 133,
    "start_time": "2023-09-04T12:34:31.291Z"
   },
   {
    "duration": 221,
    "start_time": "2023-09-04T12:34:31.426Z"
   },
   {
    "duration": 30,
    "start_time": "2023-09-04T12:34:31.649Z"
   },
   {
    "duration": 20,
    "start_time": "2023-09-04T12:34:31.681Z"
   },
   {
    "duration": 47,
    "start_time": "2023-09-04T12:34:31.702Z"
   },
   {
    "duration": 163,
    "start_time": "2023-09-04T12:34:31.751Z"
   },
   {
    "duration": 175,
    "start_time": "2023-09-04T12:34:31.916Z"
   },
   {
    "duration": 162,
    "start_time": "2023-09-04T12:34:32.093Z"
   },
   {
    "duration": 172,
    "start_time": "2023-09-04T12:34:32.256Z"
   },
   {
    "duration": 838,
    "start_time": "2023-09-04T12:34:32.430Z"
   },
   {
    "duration": 16,
    "start_time": "2023-09-04T12:34:33.270Z"
   },
   {
    "duration": 8,
    "start_time": "2023-09-04T12:34:33.287Z"
   },
   {
    "duration": 13,
    "start_time": "2023-09-04T12:34:33.297Z"
   },
   {
    "duration": 3,
    "start_time": "2023-09-04T12:34:33.311Z"
   },
   {
    "duration": 143,
    "start_time": "2023-09-04T12:34:33.316Z"
   },
   {
    "duration": 16,
    "start_time": "2023-09-04T12:34:33.461Z"
   },
   {
    "duration": 16,
    "start_time": "2023-09-04T13:14:13.247Z"
   },
   {
    "duration": 65,
    "start_time": "2023-09-04T13:16:32.033Z"
   },
   {
    "duration": 1036,
    "start_time": "2023-09-04T13:16:39.464Z"
   },
   {
    "duration": 109,
    "start_time": "2023-09-04T13:16:40.502Z"
   },
   {
    "duration": 17,
    "start_time": "2023-09-04T13:16:40.612Z"
   },
   {
    "duration": 106,
    "start_time": "2023-09-04T13:16:40.631Z"
   },
   {
    "duration": 119,
    "start_time": "2023-09-04T13:16:40.739Z"
   },
   {
    "duration": 144,
    "start_time": "2023-09-04T13:16:40.860Z"
   },
   {
    "duration": 134,
    "start_time": "2023-09-04T13:16:41.006Z"
   },
   {
    "duration": 130,
    "start_time": "2023-09-04T13:16:41.142Z"
   },
   {
    "duration": 30,
    "start_time": "2023-09-04T13:16:41.274Z"
   },
   {
    "duration": 20,
    "start_time": "2023-09-04T13:16:41.307Z"
   },
   {
    "duration": 37,
    "start_time": "2023-09-04T13:16:41.328Z"
   },
   {
    "duration": 170,
    "start_time": "2023-09-04T13:16:41.367Z"
   },
   {
    "duration": 166,
    "start_time": "2023-09-04T13:16:41.538Z"
   },
   {
    "duration": 151,
    "start_time": "2023-09-04T13:16:41.705Z"
   },
   {
    "duration": 214,
    "start_time": "2023-09-04T13:16:41.857Z"
   },
   {
    "duration": 821,
    "start_time": "2023-09-04T13:16:42.072Z"
   },
   {
    "duration": 13,
    "start_time": "2023-09-04T13:16:42.895Z"
   },
   {
    "duration": 23,
    "start_time": "2023-09-04T13:16:42.909Z"
   },
   {
    "duration": 17,
    "start_time": "2023-09-04T13:16:42.933Z"
   },
   {
    "duration": 22,
    "start_time": "2023-09-04T13:16:42.952Z"
   },
   {
    "duration": 129,
    "start_time": "2023-09-04T13:16:42.976Z"
   },
   {
    "duration": 16,
    "start_time": "2023-09-04T13:16:43.107Z"
   },
   {
    "duration": 26,
    "start_time": "2023-09-04T13:16:43.125Z"
   },
   {
    "duration": 4,
    "start_time": "2023-09-04T13:16:43.152Z"
   },
   {
    "duration": 6,
    "start_time": "2023-09-04T13:16:43.157Z"
   },
   {
    "duration": 8,
    "start_time": "2023-09-04T13:16:43.164Z"
   },
   {
    "duration": 3,
    "start_time": "2023-09-04T13:30:25.929Z"
   },
   {
    "duration": 4,
    "start_time": "2023-09-04T13:30:26.754Z"
   },
   {
    "duration": 3,
    "start_time": "2023-09-04T13:30:27.603Z"
   },
   {
    "duration": 3,
    "start_time": "2023-09-04T13:30:28.636Z"
   },
   {
    "duration": 1148,
    "start_time": "2023-09-04T13:30:49.844Z"
   },
   {
    "duration": 111,
    "start_time": "2023-09-04T13:30:50.994Z"
   },
   {
    "duration": 16,
    "start_time": "2023-09-04T13:30:51.106Z"
   },
   {
    "duration": 106,
    "start_time": "2023-09-04T13:30:51.124Z"
   },
   {
    "duration": 112,
    "start_time": "2023-09-04T13:30:51.231Z"
   },
   {
    "duration": 141,
    "start_time": "2023-09-04T13:30:51.345Z"
   },
   {
    "duration": 130,
    "start_time": "2023-09-04T13:30:51.488Z"
   },
   {
    "duration": 137,
    "start_time": "2023-09-04T13:30:51.620Z"
   },
   {
    "duration": 30,
    "start_time": "2023-09-04T13:30:51.758Z"
   },
   {
    "duration": 20,
    "start_time": "2023-09-04T13:30:51.790Z"
   },
   {
    "duration": 38,
    "start_time": "2023-09-04T13:30:51.812Z"
   },
   {
    "duration": 168,
    "start_time": "2023-09-04T13:30:51.852Z"
   },
   {
    "duration": 168,
    "start_time": "2023-09-04T13:30:52.021Z"
   },
   {
    "duration": 155,
    "start_time": "2023-09-04T13:30:52.191Z"
   },
   {
    "duration": 230,
    "start_time": "2023-09-04T13:30:52.347Z"
   },
   {
    "duration": 805,
    "start_time": "2023-09-04T13:30:52.579Z"
   },
   {
    "duration": 13,
    "start_time": "2023-09-04T13:30:53.386Z"
   },
   {
    "duration": 27,
    "start_time": "2023-09-04T13:30:53.401Z"
   },
   {
    "duration": 33,
    "start_time": "2023-09-04T13:30:53.430Z"
   },
   {
    "duration": 8,
    "start_time": "2023-09-04T13:30:53.464Z"
   },
   {
    "duration": 120,
    "start_time": "2023-09-04T13:30:53.474Z"
   },
   {
    "duration": 15,
    "start_time": "2023-09-04T13:30:53.596Z"
   },
   {
    "duration": 27,
    "start_time": "2023-09-04T13:30:53.612Z"
   },
   {
    "duration": 15,
    "start_time": "2023-09-04T13:30:53.640Z"
   },
   {
    "duration": 26,
    "start_time": "2023-09-04T13:30:53.657Z"
   },
   {
    "duration": 17,
    "start_time": "2023-09-04T13:30:53.684Z"
   },
   {
    "duration": 6,
    "start_time": "2023-09-04T13:30:53.703Z"
   },
   {
    "duration": 22,
    "start_time": "2023-09-04T13:30:53.712Z"
   },
   {
    "duration": 37,
    "start_time": "2023-09-04T13:30:53.736Z"
   },
   {
    "duration": 9,
    "start_time": "2023-09-04T13:30:53.774Z"
   },
   {
    "duration": 3,
    "start_time": "2023-09-04T13:31:40.670Z"
   },
   {
    "duration": 86,
    "start_time": "2023-09-04T13:50:01.999Z"
   },
   {
    "duration": 17,
    "start_time": "2023-09-04T13:50:08.943Z"
   },
   {
    "duration": 82,
    "start_time": "2023-09-04T13:51:59.552Z"
   },
   {
    "duration": 10,
    "start_time": "2023-09-04T13:52:16.226Z"
   },
   {
    "duration": 6,
    "start_time": "2023-09-04T13:52:28.276Z"
   },
   {
    "duration": 8,
    "start_time": "2023-09-04T13:52:35.176Z"
   },
   {
    "duration": 5,
    "start_time": "2023-09-04T13:53:10.011Z"
   },
   {
    "duration": 3,
    "start_time": "2023-09-04T13:57:36.544Z"
   },
   {
    "duration": 3,
    "start_time": "2023-09-04T13:57:37.410Z"
   },
   {
    "duration": 4,
    "start_time": "2023-09-04T13:57:38.292Z"
   },
   {
    "duration": 2,
    "start_time": "2023-09-04T15:41:58.234Z"
   },
   {
    "duration": 4,
    "start_time": "2023-09-04T15:42:00.315Z"
   },
   {
    "duration": 3,
    "start_time": "2023-09-04T15:42:00.940Z"
   },
   {
    "duration": 4,
    "start_time": "2023-09-04T15:42:02.507Z"
   },
   {
    "duration": 1656,
    "start_time": "2023-09-04T17:36:30.906Z"
   },
   {
    "duration": 466,
    "start_time": "2023-09-04T17:36:32.570Z"
   },
   {
    "duration": 30,
    "start_time": "2023-09-04T17:36:33.039Z"
   },
   {
    "duration": 151,
    "start_time": "2023-09-04T17:36:33.071Z"
   },
   {
    "duration": 138,
    "start_time": "2023-09-04T17:36:33.224Z"
   },
   {
    "duration": 153,
    "start_time": "2023-09-04T17:36:33.363Z"
   },
   {
    "duration": 174,
    "start_time": "2023-09-04T17:36:33.518Z"
   },
   {
    "duration": 171,
    "start_time": "2023-09-04T17:36:33.694Z"
   },
   {
    "duration": 34,
    "start_time": "2023-09-04T17:36:33.872Z"
   },
   {
    "duration": 21,
    "start_time": "2023-09-04T17:36:33.907Z"
   },
   {
    "duration": 42,
    "start_time": "2023-09-04T17:36:33.929Z"
   },
   {
    "duration": 252,
    "start_time": "2023-09-04T17:36:33.976Z"
   },
   {
    "duration": 216,
    "start_time": "2023-09-04T17:36:34.231Z"
   },
   {
    "duration": 193,
    "start_time": "2023-09-04T17:36:34.451Z"
   },
   {
    "duration": 264,
    "start_time": "2023-09-04T17:36:34.646Z"
   },
   {
    "duration": 1018,
    "start_time": "2023-09-04T17:36:34.911Z"
   },
   {
    "duration": 21,
    "start_time": "2023-09-04T17:36:35.931Z"
   },
   {
    "duration": 4,
    "start_time": "2023-09-04T17:36:35.955Z"
   },
   {
    "duration": 27,
    "start_time": "2023-09-04T17:36:35.961Z"
   },
   {
    "duration": 8,
    "start_time": "2023-09-04T17:36:35.990Z"
   },
   {
    "duration": 139,
    "start_time": "2023-09-04T17:36:35.999Z"
   },
   {
    "duration": 27,
    "start_time": "2023-09-04T17:36:36.139Z"
   },
   {
    "duration": 23,
    "start_time": "2023-09-04T17:36:36.168Z"
   },
   {
    "duration": 3,
    "start_time": "2023-09-04T17:36:36.193Z"
   },
   {
    "duration": 4,
    "start_time": "2023-09-04T17:36:36.198Z"
   },
   {
    "duration": 4,
    "start_time": "2023-09-04T17:36:36.203Z"
   },
   {
    "duration": 3,
    "start_time": "2023-09-04T17:36:36.208Z"
   },
   {
    "duration": 5,
    "start_time": "2023-09-04T17:36:36.212Z"
   },
   {
    "duration": 8,
    "start_time": "2023-09-04T17:36:36.246Z"
   },
   {
    "duration": 9,
    "start_time": "2023-09-04T17:36:36.255Z"
   },
   {
    "duration": 30,
    "start_time": "2023-09-04T17:36:36.266Z"
   },
   {
    "duration": 7,
    "start_time": "2023-09-04T17:36:36.297Z"
   },
   {
    "duration": 4,
    "start_time": "2023-09-04T17:36:36.306Z"
   },
   {
    "duration": 4,
    "start_time": "2023-09-04T17:36:36.311Z"
   },
   {
    "duration": 4,
    "start_time": "2023-09-04T17:36:36.317Z"
   },
   {
    "duration": 5,
    "start_time": "2023-09-04T17:36:36.322Z"
   },
   {
    "duration": 18,
    "start_time": "2023-09-04T17:43:18.099Z"
   },
   {
    "duration": 45,
    "start_time": "2023-09-04T18:44:08.097Z"
   },
   {
    "duration": 1239,
    "start_time": "2023-09-04T18:44:19.226Z"
   },
   {
    "duration": 290,
    "start_time": "2023-09-04T18:44:20.468Z"
   },
   {
    "duration": 26,
    "start_time": "2023-09-04T18:44:20.763Z"
   },
   {
    "duration": 28,
    "start_time": "2023-09-04T18:44:20.791Z"
   },
   {
    "duration": 41,
    "start_time": "2023-09-04T18:44:20.821Z"
   },
   {
    "duration": 130,
    "start_time": "2023-09-04T18:44:20.864Z"
   },
   {
    "duration": 112,
    "start_time": "2023-09-04T18:44:20.995Z"
   },
   {
    "duration": 167,
    "start_time": "2023-09-04T18:44:21.108Z"
   },
   {
    "duration": 133,
    "start_time": "2023-09-04T18:44:21.277Z"
   },
   {
    "duration": 134,
    "start_time": "2023-09-04T18:44:21.412Z"
   },
   {
    "duration": 36,
    "start_time": "2023-09-04T18:44:21.549Z"
   },
   {
    "duration": 18,
    "start_time": "2023-09-04T18:44:21.587Z"
   },
   {
    "duration": 24,
    "start_time": "2023-09-04T18:44:21.607Z"
   },
   {
    "duration": 174,
    "start_time": "2023-09-04T18:44:21.650Z"
   },
   {
    "duration": 175,
    "start_time": "2023-09-04T18:44:21.826Z"
   },
   {
    "duration": 158,
    "start_time": "2023-09-04T18:44:22.003Z"
   },
   {
    "duration": 228,
    "start_time": "2023-09-04T18:44:22.166Z"
   },
   {
    "duration": 907,
    "start_time": "2023-09-04T18:44:22.395Z"
   },
   {
    "duration": 15,
    "start_time": "2023-09-04T18:44:23.303Z"
   },
   {
    "duration": 8,
    "start_time": "2023-09-04T18:44:23.320Z"
   },
   {
    "duration": 34,
    "start_time": "2023-09-04T18:44:23.330Z"
   },
   {
    "duration": 6,
    "start_time": "2023-09-04T18:44:23.366Z"
   },
   {
    "duration": 129,
    "start_time": "2023-09-04T18:44:23.374Z"
   },
   {
    "duration": 16,
    "start_time": "2023-09-04T18:44:23.505Z"
   },
   {
    "duration": 27,
    "start_time": "2023-09-04T18:44:23.523Z"
   },
   {
    "duration": 15,
    "start_time": "2023-09-04T18:44:23.553Z"
   },
   {
    "duration": 12,
    "start_time": "2023-09-04T18:44:23.570Z"
   },
   {
    "duration": 11,
    "start_time": "2023-09-04T18:44:23.586Z"
   },
   {
    "duration": 25,
    "start_time": "2023-09-04T18:44:23.598Z"
   },
   {
    "duration": 18,
    "start_time": "2023-09-04T18:44:23.625Z"
   },
   {
    "duration": 5,
    "start_time": "2023-09-04T18:44:23.644Z"
   },
   {
    "duration": 17,
    "start_time": "2023-09-04T18:44:23.652Z"
   },
   {
    "duration": 42,
    "start_time": "2023-09-04T18:44:23.670Z"
   },
   {
    "duration": 19,
    "start_time": "2023-09-04T18:44:23.714Z"
   },
   {
    "duration": 36,
    "start_time": "2023-09-04T18:44:23.734Z"
   },
   {
    "duration": 10,
    "start_time": "2023-09-04T18:44:23.772Z"
   },
   {
    "duration": 21,
    "start_time": "2023-09-04T18:44:23.784Z"
   },
   {
    "duration": 22,
    "start_time": "2023-09-04T18:44:23.807Z"
   },
   {
    "duration": 1083,
    "start_time": "2023-09-04T18:45:43.512Z"
   },
   {
    "duration": 76,
    "start_time": "2023-09-04T18:45:44.597Z"
   },
   {
    "duration": 26,
    "start_time": "2023-09-04T18:45:44.675Z"
   },
   {
    "duration": 22,
    "start_time": "2023-09-04T18:45:44.703Z"
   },
   {
    "duration": 7,
    "start_time": "2023-09-04T18:45:44.726Z"
   },
   {
    "duration": 7,
    "start_time": "2023-09-04T18:45:44.734Z"
   },
   {
    "duration": 24,
    "start_time": "2023-09-04T18:45:44.751Z"
   },
   {
    "duration": 129,
    "start_time": "2023-09-04T18:45:44.777Z"
   },
   {
    "duration": 128,
    "start_time": "2023-09-04T18:45:44.907Z"
   },
   {
    "duration": 140,
    "start_time": "2023-09-04T18:45:45.037Z"
   },
   {
    "duration": 143,
    "start_time": "2023-09-04T18:45:45.178Z"
   },
   {
    "duration": 170,
    "start_time": "2023-09-04T18:45:45.323Z"
   },
   {
    "duration": 30,
    "start_time": "2023-09-04T18:45:45.495Z"
   },
   {
    "duration": 41,
    "start_time": "2023-09-04T18:45:45.527Z"
   },
   {
    "duration": 18,
    "start_time": "2023-09-04T18:45:45.570Z"
   },
   {
    "duration": 188,
    "start_time": "2023-09-04T18:45:45.589Z"
   },
   {
    "duration": 162,
    "start_time": "2023-09-04T18:45:45.779Z"
   },
   {
    "duration": 217,
    "start_time": "2023-09-04T18:45:45.943Z"
   },
   {
    "duration": 288,
    "start_time": "2023-09-04T18:45:46.167Z"
   },
   {
    "duration": 983,
    "start_time": "2023-09-04T18:45:46.457Z"
   },
   {
    "duration": 30,
    "start_time": "2023-09-04T18:45:47.442Z"
   },
   {
    "duration": 19,
    "start_time": "2023-09-04T18:45:47.473Z"
   },
   {
    "duration": 22,
    "start_time": "2023-09-04T18:45:47.494Z"
   },
   {
    "duration": 9,
    "start_time": "2023-09-04T18:45:47.518Z"
   },
   {
    "duration": 142,
    "start_time": "2023-09-04T18:45:47.528Z"
   },
   {
    "duration": 16,
    "start_time": "2023-09-04T18:45:47.672Z"
   },
   {
    "duration": 17,
    "start_time": "2023-09-04T18:45:47.690Z"
   },
   {
    "duration": 4,
    "start_time": "2023-09-04T18:45:47.710Z"
   },
   {
    "duration": 4,
    "start_time": "2023-09-04T18:45:47.715Z"
   },
   {
    "duration": 29,
    "start_time": "2023-09-04T18:45:47.721Z"
   },
   {
    "duration": 7,
    "start_time": "2023-09-04T18:45:47.753Z"
   },
   {
    "duration": 10,
    "start_time": "2023-09-04T18:45:47.761Z"
   },
   {
    "duration": 7,
    "start_time": "2023-09-04T18:45:47.773Z"
   },
   {
    "duration": 14,
    "start_time": "2023-09-04T18:45:47.782Z"
   },
   {
    "duration": 20,
    "start_time": "2023-09-04T18:45:47.797Z"
   },
   {
    "duration": 6,
    "start_time": "2023-09-04T18:45:47.818Z"
   },
   {
    "duration": 5,
    "start_time": "2023-09-04T18:45:47.826Z"
   },
   {
    "duration": 4,
    "start_time": "2023-09-04T18:45:47.833Z"
   },
   {
    "duration": 13,
    "start_time": "2023-09-04T18:45:47.839Z"
   },
   {
    "duration": 5,
    "start_time": "2023-09-04T18:45:47.855Z"
   },
   {
    "duration": 1067,
    "start_time": "2023-09-04T20:02:12.432Z"
   },
   {
    "duration": 79,
    "start_time": "2023-09-04T20:02:13.501Z"
   },
   {
    "duration": 26,
    "start_time": "2023-09-04T20:02:13.582Z"
   },
   {
    "duration": 9,
    "start_time": "2023-09-04T20:02:13.610Z"
   },
   {
    "duration": 7,
    "start_time": "2023-09-04T20:02:13.620Z"
   },
   {
    "duration": 5,
    "start_time": "2023-09-04T20:02:13.629Z"
   },
   {
    "duration": 26,
    "start_time": "2023-09-04T20:02:13.636Z"
   },
   {
    "duration": 123,
    "start_time": "2023-09-04T20:02:13.669Z"
   },
   {
    "duration": 115,
    "start_time": "2023-09-04T20:02:13.794Z"
   },
   {
    "duration": 138,
    "start_time": "2023-09-04T20:02:13.912Z"
   },
   {
    "duration": 133,
    "start_time": "2023-09-04T20:02:14.060Z"
   },
   {
    "duration": 136,
    "start_time": "2023-09-04T20:02:14.194Z"
   },
   {
    "duration": 37,
    "start_time": "2023-09-04T20:02:14.332Z"
   },
   {
    "duration": 21,
    "start_time": "2023-09-04T20:02:14.370Z"
   },
   {
    "duration": 17,
    "start_time": "2023-09-04T20:02:14.392Z"
   },
   {
    "duration": 196,
    "start_time": "2023-09-04T20:02:14.410Z"
   },
   {
    "duration": 177,
    "start_time": "2023-09-04T20:02:14.607Z"
   },
   {
    "duration": 159,
    "start_time": "2023-09-04T20:02:14.786Z"
   },
   {
    "duration": 221,
    "start_time": "2023-09-04T20:02:14.949Z"
   },
   {
    "duration": 887,
    "start_time": "2023-09-04T20:02:15.178Z"
   },
   {
    "duration": 16,
    "start_time": "2023-09-04T20:02:16.069Z"
   },
   {
    "duration": 6,
    "start_time": "2023-09-04T20:02:16.087Z"
   },
   {
    "duration": 26,
    "start_time": "2023-09-04T20:02:16.095Z"
   },
   {
    "duration": 6,
    "start_time": "2023-09-04T20:02:16.123Z"
   },
   {
    "duration": 163,
    "start_time": "2023-09-04T20:02:16.131Z"
   },
   {
    "duration": 18,
    "start_time": "2023-09-04T20:02:16.296Z"
   },
   {
    "duration": 18,
    "start_time": "2023-09-04T20:02:16.316Z"
   },
   {
    "duration": 9,
    "start_time": "2023-09-04T20:02:16.353Z"
   },
   {
    "duration": 7,
    "start_time": "2023-09-04T20:02:16.363Z"
   },
   {
    "duration": 17,
    "start_time": "2023-09-04T20:02:16.374Z"
   },
   {
    "duration": 2,
    "start_time": "2023-09-04T20:02:16.392Z"
   },
   {
    "duration": 5,
    "start_time": "2023-09-04T20:02:16.403Z"
   },
   {
    "duration": 6,
    "start_time": "2023-09-04T20:02:16.410Z"
   },
   {
    "duration": 4,
    "start_time": "2023-09-04T20:02:16.418Z"
   },
   {
    "duration": 29,
    "start_time": "2023-09-04T20:02:16.424Z"
   },
   {
    "duration": 10,
    "start_time": "2023-09-04T20:02:16.458Z"
   },
   {
    "duration": 7,
    "start_time": "2023-09-04T20:02:16.472Z"
   },
   {
    "duration": 9,
    "start_time": "2023-09-04T20:02:16.481Z"
   },
   {
    "duration": 5,
    "start_time": "2023-09-04T20:02:16.491Z"
   },
   {
    "duration": 5,
    "start_time": "2023-09-04T20:02:16.497Z"
   },
   {
    "duration": 1088,
    "start_time": "2023-09-04T20:04:42.703Z"
   },
   {
    "duration": 83,
    "start_time": "2023-09-04T20:04:43.793Z"
   },
   {
    "duration": 33,
    "start_time": "2023-09-04T20:04:43.877Z"
   },
   {
    "duration": 12,
    "start_time": "2023-09-04T20:04:43.912Z"
   },
   {
    "duration": 12,
    "start_time": "2023-09-04T20:04:43.925Z"
   },
   {
    "duration": 8,
    "start_time": "2023-09-04T20:04:43.939Z"
   },
   {
    "duration": 29,
    "start_time": "2023-09-04T20:04:43.948Z"
   },
   {
    "duration": 122,
    "start_time": "2023-09-04T20:04:43.979Z"
   },
   {
    "duration": 133,
    "start_time": "2023-09-04T20:04:44.103Z"
   },
   {
    "duration": 145,
    "start_time": "2023-09-04T20:04:44.240Z"
   },
   {
    "duration": 142,
    "start_time": "2023-09-04T20:04:44.386Z"
   },
   {
    "duration": 153,
    "start_time": "2023-09-04T20:04:44.529Z"
   },
   {
    "duration": 31,
    "start_time": "2023-09-04T20:04:44.684Z"
   },
   {
    "duration": 43,
    "start_time": "2023-09-04T20:04:44.717Z"
   },
   {
    "duration": 24,
    "start_time": "2023-09-04T20:04:44.761Z"
   },
   {
    "duration": 193,
    "start_time": "2023-09-04T20:04:44.787Z"
   },
   {
    "duration": 160,
    "start_time": "2023-09-04T20:04:44.984Z"
   },
   {
    "duration": 168,
    "start_time": "2023-09-04T20:04:45.153Z"
   },
   {
    "duration": 241,
    "start_time": "2023-09-04T20:04:45.322Z"
   },
   {
    "duration": 916,
    "start_time": "2023-09-04T20:04:45.564Z"
   },
   {
    "duration": 19,
    "start_time": "2023-09-04T20:04:46.482Z"
   },
   {
    "duration": 4,
    "start_time": "2023-09-04T20:04:46.502Z"
   },
   {
    "duration": 30,
    "start_time": "2023-09-04T20:04:46.507Z"
   },
   {
    "duration": 9,
    "start_time": "2023-09-04T20:04:46.538Z"
   },
   {
    "duration": 135,
    "start_time": "2023-09-04T20:04:46.551Z"
   },
   {
    "duration": 15,
    "start_time": "2023-09-04T20:04:46.687Z"
   },
   {
    "duration": 24,
    "start_time": "2023-09-04T20:04:46.704Z"
   },
   {
    "duration": 4,
    "start_time": "2023-09-04T20:04:46.731Z"
   },
   {
    "duration": 4,
    "start_time": "2023-09-04T20:04:46.736Z"
   },
   {
    "duration": 9,
    "start_time": "2023-09-04T20:04:46.749Z"
   },
   {
    "duration": 9,
    "start_time": "2023-09-04T20:04:46.769Z"
   },
   {
    "duration": 4,
    "start_time": "2023-09-04T20:04:46.780Z"
   },
   {
    "duration": 14,
    "start_time": "2023-09-04T20:04:46.785Z"
   },
   {
    "duration": 15,
    "start_time": "2023-09-04T20:04:46.800Z"
   },
   {
    "duration": 19,
    "start_time": "2023-09-04T20:04:46.817Z"
   },
   {
    "duration": 17,
    "start_time": "2023-09-04T20:04:46.837Z"
   },
   {
    "duration": 12,
    "start_time": "2023-09-04T20:04:46.856Z"
   },
   {
    "duration": 12,
    "start_time": "2023-09-04T20:04:46.872Z"
   },
   {
    "duration": 13,
    "start_time": "2023-09-04T20:04:46.885Z"
   },
   {
    "duration": 6,
    "start_time": "2023-09-04T20:04:46.899Z"
   },
   {
    "duration": 29,
    "start_time": "2023-09-04T20:06:50.969Z"
   },
   {
    "duration": 1061,
    "start_time": "2023-09-04T20:08:27.935Z"
   },
   {
    "duration": 75,
    "start_time": "2023-09-04T20:08:28.998Z"
   },
   {
    "duration": 32,
    "start_time": "2023-09-04T20:08:29.074Z"
   },
   {
    "duration": 10,
    "start_time": "2023-09-04T20:08:29.108Z"
   },
   {
    "duration": 21,
    "start_time": "2023-09-04T20:08:29.119Z"
   },
   {
    "duration": 23,
    "start_time": "2023-09-04T20:08:29.142Z"
   },
   {
    "duration": 9,
    "start_time": "2023-09-04T20:08:29.174Z"
   },
   {
    "duration": 21,
    "start_time": "2023-09-04T20:08:29.185Z"
   },
   {
    "duration": 13,
    "start_time": "2023-09-04T20:08:29.207Z"
   },
   {
    "duration": 10,
    "start_time": "2023-09-04T20:08:29.223Z"
   },
   {
    "duration": 4,
    "start_time": "2023-09-04T20:08:29.235Z"
   },
   {
    "duration": 14,
    "start_time": "2023-09-04T20:08:29.240Z"
   },
   {
    "duration": 130,
    "start_time": "2023-09-04T20:08:29.255Z"
   },
   {
    "duration": 126,
    "start_time": "2023-09-04T20:08:29.386Z"
   },
   {
    "duration": 161,
    "start_time": "2023-09-04T20:08:29.513Z"
   },
   {
    "duration": 136,
    "start_time": "2023-09-04T20:08:29.675Z"
   },
   {
    "duration": 141,
    "start_time": "2023-09-04T20:08:29.813Z"
   },
   {
    "duration": 38,
    "start_time": "2023-09-04T20:08:29.960Z"
   },
   {
    "duration": 20,
    "start_time": "2023-09-04T20:08:30.000Z"
   },
   {
    "duration": 54,
    "start_time": "2023-09-04T20:08:30.022Z"
   },
   {
    "duration": 207,
    "start_time": "2023-09-04T20:08:30.078Z"
   },
   {
    "duration": 188,
    "start_time": "2023-09-04T20:08:30.286Z"
   },
   {
    "duration": 164,
    "start_time": "2023-09-04T20:08:30.477Z"
   },
   {
    "duration": 163,
    "start_time": "2023-09-04T20:08:30.642Z"
   },
   {
    "duration": 942,
    "start_time": "2023-09-04T20:08:30.806Z"
   },
   {
    "duration": 28,
    "start_time": "2023-09-04T20:08:31.750Z"
   },
   {
    "duration": 19,
    "start_time": "2023-09-04T20:08:31.780Z"
   },
   {
    "duration": 39,
    "start_time": "2023-09-04T20:08:31.801Z"
   },
   {
    "duration": 44,
    "start_time": "2023-09-04T20:08:31.842Z"
   },
   {
    "duration": 148,
    "start_time": "2023-09-04T20:08:31.887Z"
   },
   {
    "duration": 27,
    "start_time": "2023-09-04T20:08:32.037Z"
   },
   {
    "duration": 29,
    "start_time": "2023-09-04T20:08:32.069Z"
   },
   {
    "duration": 44,
    "start_time": "2023-09-04T20:08:32.100Z"
   },
   {
    "duration": 41,
    "start_time": "2023-09-04T20:08:32.145Z"
   },
   {
    "duration": 27,
    "start_time": "2023-09-04T20:08:32.187Z"
   },
   {
    "duration": 43,
    "start_time": "2023-09-04T20:08:32.216Z"
   },
   {
    "duration": 28,
    "start_time": "2023-09-04T20:08:32.261Z"
   },
   {
    "duration": 29,
    "start_time": "2023-09-04T20:08:32.291Z"
   },
   {
    "duration": 13,
    "start_time": "2023-09-04T20:08:32.322Z"
   },
   {
    "duration": 45,
    "start_time": "2023-09-04T20:08:32.337Z"
   },
   {
    "duration": 35,
    "start_time": "2023-09-04T20:08:32.383Z"
   },
   {
    "duration": 34,
    "start_time": "2023-09-04T20:08:32.420Z"
   },
   {
    "duration": 27,
    "start_time": "2023-09-04T20:08:32.459Z"
   },
   {
    "duration": 30,
    "start_time": "2023-09-04T20:08:32.488Z"
   },
   {
    "duration": 35,
    "start_time": "2023-09-04T20:08:32.519Z"
   },
   {
    "duration": 1124,
    "start_time": "2023-09-04T20:10:58.211Z"
   },
   {
    "duration": 87,
    "start_time": "2023-09-04T20:10:59.337Z"
   },
   {
    "duration": 30,
    "start_time": "2023-09-04T20:10:59.426Z"
   },
   {
    "duration": 18,
    "start_time": "2023-09-04T20:10:59.458Z"
   },
   {
    "duration": 24,
    "start_time": "2023-09-04T20:10:59.480Z"
   },
   {
    "duration": 9,
    "start_time": "2023-09-04T20:10:59.506Z"
   },
   {
    "duration": 13,
    "start_time": "2023-09-04T20:10:59.516Z"
   },
   {
    "duration": 5,
    "start_time": "2023-09-04T20:10:59.531Z"
   },
   {
    "duration": 8,
    "start_time": "2023-09-04T20:10:59.538Z"
   },
   {
    "duration": 10,
    "start_time": "2023-09-04T20:10:59.548Z"
   },
   {
    "duration": 24,
    "start_time": "2023-09-04T20:10:59.560Z"
   },
   {
    "duration": 10,
    "start_time": "2023-09-04T20:10:59.585Z"
   },
   {
    "duration": 9,
    "start_time": "2023-09-04T20:10:59.596Z"
   },
   {
    "duration": 29,
    "start_time": "2023-09-04T20:10:59.606Z"
   },
   {
    "duration": 38,
    "start_time": "2023-09-04T20:10:59.637Z"
   },
   {
    "duration": 116,
    "start_time": "2023-09-04T20:10:59.678Z"
   },
   {
    "duration": 127,
    "start_time": "2023-09-04T20:10:59.796Z"
   },
   {
    "duration": 166,
    "start_time": "2023-09-04T20:10:59.924Z"
   },
   {
    "duration": 143,
    "start_time": "2023-09-04T20:11:00.091Z"
   },
   {
    "duration": 148,
    "start_time": "2023-09-04T20:11:00.235Z"
   },
   {
    "duration": 36,
    "start_time": "2023-09-04T20:11:00.385Z"
   },
   {
    "duration": 42,
    "start_time": "2023-09-04T20:11:00.423Z"
   },
   {
    "duration": 31,
    "start_time": "2023-09-04T20:11:00.466Z"
   },
   {
    "duration": 232,
    "start_time": "2023-09-04T20:11:00.498Z"
   },
   {
    "duration": 181,
    "start_time": "2023-09-04T20:11:00.731Z"
   },
   {
    "duration": 190,
    "start_time": "2023-09-04T20:11:00.914Z"
   },
   {
    "duration": 240,
    "start_time": "2023-09-04T20:11:01.106Z"
   },
   {
    "duration": 895,
    "start_time": "2023-09-04T20:11:01.349Z"
   },
   {
    "duration": 32,
    "start_time": "2023-09-04T20:11:02.246Z"
   },
   {
    "duration": 5,
    "start_time": "2023-09-04T20:11:02.281Z"
   },
   {
    "duration": 36,
    "start_time": "2023-09-04T20:11:02.288Z"
   },
   {
    "duration": 20,
    "start_time": "2023-09-04T20:11:02.325Z"
   },
   {
    "duration": 155,
    "start_time": "2023-09-04T20:11:02.346Z"
   },
   {
    "duration": 16,
    "start_time": "2023-09-04T20:11:02.505Z"
   },
   {
    "duration": 17,
    "start_time": "2023-09-04T20:11:02.523Z"
   },
   {
    "duration": 22,
    "start_time": "2023-09-04T20:11:02.550Z"
   },
   {
    "duration": 11,
    "start_time": "2023-09-04T20:11:02.574Z"
   },
   {
    "duration": 19,
    "start_time": "2023-09-04T20:11:02.586Z"
   },
   {
    "duration": 4,
    "start_time": "2023-09-04T20:11:02.607Z"
   },
   {
    "duration": 6,
    "start_time": "2023-09-04T20:11:02.612Z"
   },
   {
    "duration": 8,
    "start_time": "2023-09-04T20:11:02.619Z"
   },
   {
    "duration": 6,
    "start_time": "2023-09-04T20:11:02.628Z"
   },
   {
    "duration": 18,
    "start_time": "2023-09-04T20:11:02.636Z"
   },
   {
    "duration": 7,
    "start_time": "2023-09-04T20:11:02.662Z"
   },
   {
    "duration": 21,
    "start_time": "2023-09-04T20:11:02.670Z"
   },
   {
    "duration": 9,
    "start_time": "2023-09-04T20:11:02.693Z"
   },
   {
    "duration": 4,
    "start_time": "2023-09-04T20:11:02.703Z"
   },
   {
    "duration": 7,
    "start_time": "2023-09-04T20:11:02.709Z"
   },
   {
    "duration": 1136,
    "start_time": "2023-09-04T20:17:27.975Z"
   },
   {
    "duration": 75,
    "start_time": "2023-09-04T20:17:29.113Z"
   },
   {
    "duration": 29,
    "start_time": "2023-09-04T20:17:29.189Z"
   },
   {
    "duration": 11,
    "start_time": "2023-09-04T20:17:29.220Z"
   },
   {
    "duration": 33,
    "start_time": "2023-09-04T20:17:29.232Z"
   },
   {
    "duration": 11,
    "start_time": "2023-09-04T20:17:29.270Z"
   },
   {
    "duration": 10,
    "start_time": "2023-09-04T20:17:29.283Z"
   },
   {
    "duration": 5,
    "start_time": "2023-09-04T20:17:29.294Z"
   },
   {
    "duration": 6,
    "start_time": "2023-09-04T20:17:29.300Z"
   },
   {
    "duration": 5,
    "start_time": "2023-09-04T20:17:29.308Z"
   },
   {
    "duration": 8,
    "start_time": "2023-09-04T20:17:29.314Z"
   },
   {
    "duration": 6,
    "start_time": "2023-09-04T20:17:29.323Z"
   },
   {
    "duration": 37,
    "start_time": "2023-09-04T20:17:29.330Z"
   },
   {
    "duration": 6,
    "start_time": "2023-09-04T20:17:29.373Z"
   },
   {
    "duration": 22,
    "start_time": "2023-09-04T20:17:29.381Z"
   },
   {
    "duration": 174,
    "start_time": "2023-09-04T20:17:29.404Z"
   },
   {
    "duration": 126,
    "start_time": "2023-09-04T20:17:29.580Z"
   },
   {
    "duration": 171,
    "start_time": "2023-09-04T20:17:29.707Z"
   },
   {
    "duration": 179,
    "start_time": "2023-09-04T20:17:29.880Z"
   },
   {
    "duration": 145,
    "start_time": "2023-09-04T20:17:30.060Z"
   },
   {
    "duration": 31,
    "start_time": "2023-09-04T20:17:30.207Z"
   },
   {
    "duration": 49,
    "start_time": "2023-09-04T20:17:30.239Z"
   },
   {
    "duration": 53,
    "start_time": "2023-09-04T20:17:30.290Z"
   },
   {
    "duration": 226,
    "start_time": "2023-09-04T20:17:30.346Z"
   },
   {
    "duration": 187,
    "start_time": "2023-09-04T20:17:30.577Z"
   },
   {
    "duration": 178,
    "start_time": "2023-09-04T20:17:30.766Z"
   },
   {
    "duration": 182,
    "start_time": "2023-09-04T20:17:30.945Z"
   },
   {
    "duration": 955,
    "start_time": "2023-09-04T20:17:31.130Z"
   },
   {
    "duration": 13,
    "start_time": "2023-09-04T20:17:32.086Z"
   },
   {
    "duration": 59,
    "start_time": "2023-09-04T20:17:32.101Z"
   },
   {
    "duration": 25,
    "start_time": "2023-09-04T20:17:32.165Z"
   },
   {
    "duration": 3,
    "start_time": "2023-09-04T20:17:32.192Z"
   },
   {
    "duration": 141,
    "start_time": "2023-09-04T20:17:32.196Z"
   },
   {
    "duration": 26,
    "start_time": "2023-09-04T20:17:32.339Z"
   },
   {
    "duration": 41,
    "start_time": "2023-09-04T20:17:32.367Z"
   },
   {
    "duration": 18,
    "start_time": "2023-09-04T20:17:32.410Z"
   },
   {
    "duration": 9,
    "start_time": "2023-09-04T20:17:32.429Z"
   },
   {
    "duration": 16,
    "start_time": "2023-09-04T20:17:32.439Z"
   },
   {
    "duration": 36,
    "start_time": "2023-09-04T20:17:32.457Z"
   },
   {
    "duration": 8,
    "start_time": "2023-09-04T20:17:32.496Z"
   },
   {
    "duration": 12,
    "start_time": "2023-09-04T20:17:32.506Z"
   },
   {
    "duration": 16,
    "start_time": "2023-09-04T20:17:32.519Z"
   },
   {
    "duration": 27,
    "start_time": "2023-09-04T20:17:32.536Z"
   },
   {
    "duration": 18,
    "start_time": "2023-09-04T20:17:32.564Z"
   },
   {
    "duration": 7,
    "start_time": "2023-09-04T20:17:32.584Z"
   },
   {
    "duration": 5,
    "start_time": "2023-09-04T20:17:32.592Z"
   },
   {
    "duration": 4,
    "start_time": "2023-09-04T20:17:32.599Z"
   },
   {
    "duration": 6,
    "start_time": "2023-09-04T20:17:32.605Z"
   },
   {
    "duration": 85,
    "start_time": "2023-09-04T20:21:10.571Z"
   },
   {
    "duration": 150,
    "start_time": "2023-09-04T20:27:20.021Z"
   },
   {
    "duration": 140,
    "start_time": "2023-09-04T20:27:51.871Z"
   },
   {
    "duration": 107,
    "start_time": "2023-09-04T20:30:00.036Z"
   },
   {
    "duration": 133,
    "start_time": "2023-09-04T20:30:07.283Z"
   },
   {
    "duration": 142,
    "start_time": "2023-09-04T20:34:01.402Z"
   },
   {
    "duration": 134,
    "start_time": "2023-09-04T20:36:44.785Z"
   },
   {
    "duration": 140,
    "start_time": "2023-09-04T20:37:14.593Z"
   },
   {
    "duration": 129,
    "start_time": "2023-09-04T20:37:20.899Z"
   },
   {
    "duration": 149,
    "start_time": "2023-09-04T20:39:00.835Z"
   },
   {
    "duration": 3,
    "start_time": "2023-09-04T20:40:42.284Z"
   },
   {
    "duration": 9,
    "start_time": "2023-09-04T20:41:17.601Z"
   },
   {
    "duration": 4,
    "start_time": "2023-09-04T20:45:53.430Z"
   },
   {
    "duration": 1158,
    "start_time": "2023-09-04T20:46:54.639Z"
   },
   {
    "duration": 91,
    "start_time": "2023-09-04T20:46:55.799Z"
   },
   {
    "duration": 29,
    "start_time": "2023-09-04T20:46:55.892Z"
   },
   {
    "duration": 10,
    "start_time": "2023-09-04T20:46:55.923Z"
   },
   {
    "duration": 11,
    "start_time": "2023-09-04T20:46:55.935Z"
   },
   {
    "duration": 21,
    "start_time": "2023-09-04T20:46:55.947Z"
   },
   {
    "duration": 13,
    "start_time": "2023-09-04T20:46:55.979Z"
   },
   {
    "duration": 5,
    "start_time": "2023-09-04T20:46:55.994Z"
   },
   {
    "duration": 5,
    "start_time": "2023-09-04T20:46:56.008Z"
   },
   {
    "duration": 11,
    "start_time": "2023-09-04T20:46:56.016Z"
   },
   {
    "duration": 7,
    "start_time": "2023-09-04T20:46:56.030Z"
   },
   {
    "duration": 7,
    "start_time": "2023-09-04T20:46:56.039Z"
   },
   {
    "duration": 27,
    "start_time": "2023-09-04T20:46:56.049Z"
   },
   {
    "duration": 11,
    "start_time": "2023-09-04T20:46:56.078Z"
   },
   {
    "duration": 13,
    "start_time": "2023-09-04T20:46:56.091Z"
   },
   {
    "duration": 205,
    "start_time": "2023-09-04T20:46:56.106Z"
   },
   {
    "duration": 129,
    "start_time": "2023-09-04T20:46:56.313Z"
   },
   {
    "duration": 194,
    "start_time": "2023-09-04T20:46:56.444Z"
   },
   {
    "duration": 170,
    "start_time": "2023-09-04T20:46:56.640Z"
   },
   {
    "duration": 143,
    "start_time": "2023-09-04T20:46:56.812Z"
   },
   {
    "duration": 11,
    "start_time": "2023-09-04T20:46:56.956Z"
   },
   {
    "duration": 10,
    "start_time": "2023-09-04T20:46:56.972Z"
   },
   {
    "duration": 11,
    "start_time": "2023-09-04T20:46:56.983Z"
   },
   {
    "duration": 10,
    "start_time": "2023-09-04T20:46:56.996Z"
   },
   {
    "duration": 8,
    "start_time": "2023-09-04T20:46:57.008Z"
   },
   {
    "duration": 120,
    "start_time": "2023-09-04T20:46:57.017Z"
   },
   {
    "duration": 0,
    "start_time": "2023-09-04T20:46:57.139Z"
   },
   {
    "duration": 0,
    "start_time": "2023-09-04T20:46:57.140Z"
   },
   {
    "duration": 0,
    "start_time": "2023-09-04T20:46:57.142Z"
   },
   {
    "duration": 0,
    "start_time": "2023-09-04T20:46:57.143Z"
   },
   {
    "duration": 0,
    "start_time": "2023-09-04T20:46:57.144Z"
   },
   {
    "duration": 0,
    "start_time": "2023-09-04T20:46:57.145Z"
   },
   {
    "duration": 0,
    "start_time": "2023-09-04T20:46:57.146Z"
   },
   {
    "duration": 0,
    "start_time": "2023-09-04T20:46:57.148Z"
   },
   {
    "duration": 0,
    "start_time": "2023-09-04T20:46:57.149Z"
   },
   {
    "duration": 0,
    "start_time": "2023-09-04T20:46:57.150Z"
   },
   {
    "duration": 0,
    "start_time": "2023-09-04T20:46:57.151Z"
   },
   {
    "duration": 0,
    "start_time": "2023-09-04T20:46:57.152Z"
   },
   {
    "duration": 0,
    "start_time": "2023-09-04T20:46:57.153Z"
   },
   {
    "duration": 0,
    "start_time": "2023-09-04T20:46:57.154Z"
   },
   {
    "duration": 1,
    "start_time": "2023-09-04T20:46:57.155Z"
   },
   {
    "duration": 0,
    "start_time": "2023-09-04T20:46:57.156Z"
   },
   {
    "duration": 0,
    "start_time": "2023-09-04T20:46:57.157Z"
   },
   {
    "duration": 0,
    "start_time": "2023-09-04T20:46:57.158Z"
   },
   {
    "duration": 0,
    "start_time": "2023-09-04T20:46:57.159Z"
   },
   {
    "duration": 0,
    "start_time": "2023-09-04T20:46:57.162Z"
   },
   {
    "duration": 0,
    "start_time": "2023-09-04T20:46:57.163Z"
   },
   {
    "duration": 0,
    "start_time": "2023-09-04T20:46:57.164Z"
   },
   {
    "duration": 0,
    "start_time": "2023-09-04T20:46:57.167Z"
   },
   {
    "duration": 0,
    "start_time": "2023-09-04T20:46:57.168Z"
   },
   {
    "duration": 0,
    "start_time": "2023-09-04T20:46:57.170Z"
   },
   {
    "duration": 0,
    "start_time": "2023-09-04T20:46:57.171Z"
   },
   {
    "duration": 0,
    "start_time": "2023-09-04T20:46:57.172Z"
   },
   {
    "duration": 0,
    "start_time": "2023-09-04T20:46:57.173Z"
   },
   {
    "duration": 1201,
    "start_time": "2023-09-04T20:47:14.140Z"
   },
   {
    "duration": 96,
    "start_time": "2023-09-04T20:47:15.342Z"
   },
   {
    "duration": 33,
    "start_time": "2023-09-04T20:47:15.439Z"
   },
   {
    "duration": 21,
    "start_time": "2023-09-04T20:47:15.480Z"
   },
   {
    "duration": 12,
    "start_time": "2023-09-04T20:47:15.504Z"
   },
   {
    "duration": 13,
    "start_time": "2023-09-04T20:47:15.517Z"
   },
   {
    "duration": 39,
    "start_time": "2023-09-04T20:47:15.531Z"
   },
   {
    "duration": 21,
    "start_time": "2023-09-04T20:47:15.583Z"
   },
   {
    "duration": 5,
    "start_time": "2023-09-04T20:47:15.605Z"
   },
   {
    "duration": 4,
    "start_time": "2023-09-04T20:47:15.613Z"
   },
   {
    "duration": 5,
    "start_time": "2023-09-04T20:47:15.618Z"
   },
   {
    "duration": 5,
    "start_time": "2023-09-04T20:47:15.625Z"
   },
   {
    "duration": 8,
    "start_time": "2023-09-04T20:47:15.631Z"
   },
   {
    "duration": 5,
    "start_time": "2023-09-04T20:47:15.640Z"
   },
   {
    "duration": 21,
    "start_time": "2023-09-04T20:47:15.646Z"
   },
   {
    "duration": 165,
    "start_time": "2023-09-04T20:47:15.669Z"
   },
   {
    "duration": 102,
    "start_time": "2023-09-04T20:47:15.836Z"
   },
   {
    "duration": 190,
    "start_time": "2023-09-04T20:47:15.940Z"
   },
   {
    "duration": 154,
    "start_time": "2023-09-04T20:47:16.132Z"
   },
   {
    "duration": 157,
    "start_time": "2023-09-04T20:47:16.287Z"
   },
   {
    "duration": 26,
    "start_time": "2023-09-04T20:47:16.445Z"
   },
   {
    "duration": 3,
    "start_time": "2023-09-04T20:47:16.473Z"
   },
   {
    "duration": 8,
    "start_time": "2023-09-04T20:47:16.478Z"
   },
   {
    "duration": 20,
    "start_time": "2023-09-04T20:47:16.488Z"
   },
   {
    "duration": 13,
    "start_time": "2023-09-04T20:47:16.510Z"
   },
   {
    "duration": 9,
    "start_time": "2023-09-04T20:47:16.525Z"
   },
   {
    "duration": 60,
    "start_time": "2023-09-04T20:47:16.535Z"
   },
   {
    "duration": 29,
    "start_time": "2023-09-04T20:47:16.606Z"
   },
   {
    "duration": 45,
    "start_time": "2023-09-04T20:47:16.637Z"
   },
   {
    "duration": 252,
    "start_time": "2023-09-04T20:47:16.684Z"
   },
   {
    "duration": 228,
    "start_time": "2023-09-04T20:47:16.938Z"
   },
   {
    "duration": 215,
    "start_time": "2023-09-04T20:47:17.168Z"
   },
   {
    "duration": 201,
    "start_time": "2023-09-04T20:47:17.390Z"
   },
   {
    "duration": 1059,
    "start_time": "2023-09-04T20:47:17.601Z"
   },
   {
    "duration": 20,
    "start_time": "2023-09-04T20:47:18.662Z"
   },
   {
    "duration": 7,
    "start_time": "2023-09-04T20:47:18.683Z"
   },
   {
    "duration": 20,
    "start_time": "2023-09-04T20:47:18.692Z"
   },
   {
    "duration": 3,
    "start_time": "2023-09-04T20:47:18.714Z"
   },
   {
    "duration": 144,
    "start_time": "2023-09-04T20:47:18.718Z"
   },
   {
    "duration": 25,
    "start_time": "2023-09-04T20:47:18.865Z"
   },
   {
    "duration": 21,
    "start_time": "2023-09-04T20:47:18.893Z"
   },
   {
    "duration": 13,
    "start_time": "2023-09-04T20:47:18.916Z"
   },
   {
    "duration": 17,
    "start_time": "2023-09-04T20:47:18.930Z"
   },
   {
    "duration": 19,
    "start_time": "2023-09-04T20:47:18.950Z"
   },
   {
    "duration": 24,
    "start_time": "2023-09-04T20:47:18.971Z"
   },
   {
    "duration": 15,
    "start_time": "2023-09-04T20:47:18.999Z"
   },
   {
    "duration": 5,
    "start_time": "2023-09-04T20:47:19.015Z"
   },
   {
    "duration": 5,
    "start_time": "2023-09-04T20:47:19.022Z"
   },
   {
    "duration": 19,
    "start_time": "2023-09-04T20:47:19.029Z"
   },
   {
    "duration": 19,
    "start_time": "2023-09-04T20:47:19.049Z"
   },
   {
    "duration": 11,
    "start_time": "2023-09-04T20:47:19.071Z"
   },
   {
    "duration": 11,
    "start_time": "2023-09-04T20:47:19.085Z"
   },
   {
    "duration": 7,
    "start_time": "2023-09-04T20:47:19.098Z"
   },
   {
    "duration": 29,
    "start_time": "2023-09-04T20:47:19.106Z"
   },
   {
    "duration": 1188,
    "start_time": "2023-09-04T20:50:51.777Z"
   },
   {
    "duration": 75,
    "start_time": "2023-09-04T20:50:52.968Z"
   },
   {
    "duration": 40,
    "start_time": "2023-09-04T20:50:53.044Z"
   },
   {
    "duration": 45,
    "start_time": "2023-09-04T20:50:53.086Z"
   },
   {
    "duration": 49,
    "start_time": "2023-09-04T20:50:53.133Z"
   },
   {
    "duration": 32,
    "start_time": "2023-09-04T20:50:53.184Z"
   },
   {
    "duration": 28,
    "start_time": "2023-09-04T20:50:53.218Z"
   },
   {
    "duration": 40,
    "start_time": "2023-09-04T20:50:53.247Z"
   },
   {
    "duration": 18,
    "start_time": "2023-09-04T20:50:53.289Z"
   },
   {
    "duration": 29,
    "start_time": "2023-09-04T20:50:53.308Z"
   },
   {
    "duration": 5,
    "start_time": "2023-09-04T20:50:53.339Z"
   },
   {
    "duration": 30,
    "start_time": "2023-09-04T20:50:53.345Z"
   },
   {
    "duration": 13,
    "start_time": "2023-09-04T20:50:53.382Z"
   },
   {
    "duration": 17,
    "start_time": "2023-09-04T20:50:53.399Z"
   },
   {
    "duration": 14,
    "start_time": "2023-09-04T20:50:53.417Z"
   },
   {
    "duration": 171,
    "start_time": "2023-09-04T20:50:53.432Z"
   },
   {
    "duration": 94,
    "start_time": "2023-09-04T20:50:53.604Z"
   },
   {
    "duration": 160,
    "start_time": "2023-09-04T20:50:53.700Z"
   },
   {
    "duration": 146,
    "start_time": "2023-09-04T20:50:53.861Z"
   },
   {
    "duration": 155,
    "start_time": "2023-09-04T20:50:54.008Z"
   },
   {
    "duration": 7,
    "start_time": "2023-09-04T20:50:54.175Z"
   },
   {
    "duration": 22,
    "start_time": "2023-09-04T20:50:54.184Z"
   },
   {
    "duration": 14,
    "start_time": "2023-09-04T20:50:54.207Z"
   },
   {
    "duration": 12,
    "start_time": "2023-09-04T20:50:54.223Z"
   },
   {
    "duration": 27,
    "start_time": "2023-09-04T20:50:54.236Z"
   },
   {
    "duration": 11,
    "start_time": "2023-09-04T20:50:54.264Z"
   },
   {
    "duration": 42,
    "start_time": "2023-09-04T20:50:54.276Z"
   },
   {
    "duration": 11,
    "start_time": "2023-09-04T20:50:54.320Z"
   },
   {
    "duration": 35,
    "start_time": "2023-09-04T20:50:54.332Z"
   },
   {
    "duration": 28,
    "start_time": "2023-09-04T20:50:54.369Z"
   },
   {
    "duration": 203,
    "start_time": "2023-09-04T20:50:54.399Z"
   },
   {
    "duration": 191,
    "start_time": "2023-09-04T20:50:54.603Z"
   },
   {
    "duration": 202,
    "start_time": "2023-09-04T20:50:54.796Z"
   },
   {
    "duration": 267,
    "start_time": "2023-09-04T20:50:54.999Z"
   },
   {
    "duration": 1045,
    "start_time": "2023-09-04T20:50:55.269Z"
   },
   {
    "duration": 18,
    "start_time": "2023-09-04T20:50:56.323Z"
   },
   {
    "duration": 43,
    "start_time": "2023-09-04T20:50:56.342Z"
   },
   {
    "duration": 39,
    "start_time": "2023-09-04T20:50:56.387Z"
   },
   {
    "duration": 12,
    "start_time": "2023-09-04T20:50:56.428Z"
   },
   {
    "duration": 186,
    "start_time": "2023-09-04T20:50:56.442Z"
   },
   {
    "duration": 43,
    "start_time": "2023-09-04T20:50:56.633Z"
   },
   {
    "duration": 29,
    "start_time": "2023-09-04T20:50:56.678Z"
   },
   {
    "duration": 3,
    "start_time": "2023-09-04T20:50:56.711Z"
   },
   {
    "duration": 4,
    "start_time": "2023-09-04T20:50:56.716Z"
   },
   {
    "duration": 10,
    "start_time": "2023-09-04T20:50:56.721Z"
   },
   {
    "duration": 5,
    "start_time": "2023-09-04T20:50:56.732Z"
   },
   {
    "duration": 6,
    "start_time": "2023-09-04T20:50:56.739Z"
   },
   {
    "duration": 6,
    "start_time": "2023-09-04T20:50:56.746Z"
   },
   {
    "duration": 22,
    "start_time": "2023-09-04T20:50:56.754Z"
   },
   {
    "duration": 25,
    "start_time": "2023-09-04T20:50:56.788Z"
   },
   {
    "duration": 6,
    "start_time": "2023-09-04T20:50:56.815Z"
   },
   {
    "duration": 8,
    "start_time": "2023-09-04T20:50:56.823Z"
   },
   {
    "duration": 7,
    "start_time": "2023-09-04T20:50:56.833Z"
   },
   {
    "duration": 12,
    "start_time": "2023-09-04T20:50:56.841Z"
   },
   {
    "duration": 24,
    "start_time": "2023-09-04T20:50:56.855Z"
   },
   {
    "duration": 1056,
    "start_time": "2023-09-04T20:55:41.176Z"
   },
   {
    "duration": 79,
    "start_time": "2023-09-04T20:55:42.233Z"
   },
   {
    "duration": 27,
    "start_time": "2023-09-04T20:55:42.314Z"
   },
   {
    "duration": 26,
    "start_time": "2023-09-04T20:55:42.342Z"
   },
   {
    "duration": 14,
    "start_time": "2023-09-04T20:55:42.376Z"
   },
   {
    "duration": 13,
    "start_time": "2023-09-04T20:55:42.391Z"
   },
   {
    "duration": 21,
    "start_time": "2023-09-04T20:55:42.405Z"
   },
   {
    "duration": 19,
    "start_time": "2023-09-04T20:55:42.427Z"
   },
   {
    "duration": 30,
    "start_time": "2023-09-04T20:55:42.448Z"
   },
   {
    "duration": 9,
    "start_time": "2023-09-04T20:55:42.481Z"
   },
   {
    "duration": 5,
    "start_time": "2023-09-04T20:55:42.492Z"
   },
   {
    "duration": 16,
    "start_time": "2023-09-04T20:55:42.498Z"
   },
   {
    "duration": 15,
    "start_time": "2023-09-04T20:55:42.516Z"
   },
   {
    "duration": 19,
    "start_time": "2023-09-04T20:55:42.534Z"
   },
   {
    "duration": 42,
    "start_time": "2023-09-04T20:55:42.554Z"
   },
   {
    "duration": 167,
    "start_time": "2023-09-04T20:55:42.598Z"
   },
   {
    "duration": 73,
    "start_time": "2023-09-04T20:55:42.768Z"
   },
   {
    "duration": 147,
    "start_time": "2023-09-04T20:55:42.842Z"
   },
   {
    "duration": 127,
    "start_time": "2023-09-04T20:55:42.990Z"
   },
   {
    "duration": 165,
    "start_time": "2023-09-04T20:55:43.119Z"
   },
   {
    "duration": 3,
    "start_time": "2023-09-04T20:55:43.285Z"
   },
   {
    "duration": 14,
    "start_time": "2023-09-04T20:55:43.290Z"
   },
   {
    "duration": 6,
    "start_time": "2023-09-04T20:55:43.305Z"
   },
   {
    "duration": 10,
    "start_time": "2023-09-04T20:55:43.312Z"
   },
   {
    "duration": 9,
    "start_time": "2023-09-04T20:55:43.323Z"
   },
   {
    "duration": 12,
    "start_time": "2023-09-04T20:55:43.355Z"
   },
   {
    "duration": 33,
    "start_time": "2023-09-04T20:55:43.369Z"
   },
   {
    "duration": 12,
    "start_time": "2023-09-04T20:55:43.403Z"
   },
   {
    "duration": 57,
    "start_time": "2023-09-04T20:55:43.416Z"
   },
   {
    "duration": 21,
    "start_time": "2023-09-04T20:55:43.475Z"
   },
   {
    "duration": 234,
    "start_time": "2023-09-04T20:55:43.497Z"
   },
   {
    "duration": 174,
    "start_time": "2023-09-04T20:55:43.733Z"
   },
   {
    "duration": 170,
    "start_time": "2023-09-04T20:55:43.908Z"
   },
   {
    "duration": 222,
    "start_time": "2023-09-04T20:55:44.079Z"
   },
   {
    "duration": 839,
    "start_time": "2023-09-04T20:55:44.302Z"
   },
   {
    "duration": 32,
    "start_time": "2023-09-04T20:55:45.142Z"
   },
   {
    "duration": 4,
    "start_time": "2023-09-04T20:55:45.176Z"
   },
   {
    "duration": 17,
    "start_time": "2023-09-04T20:55:45.181Z"
   },
   {
    "duration": 12,
    "start_time": "2023-09-04T20:55:45.200Z"
   },
   {
    "duration": 129,
    "start_time": "2023-09-04T20:55:45.214Z"
   },
   {
    "duration": 27,
    "start_time": "2023-09-04T20:55:45.352Z"
   },
   {
    "duration": 15,
    "start_time": "2023-09-04T20:55:45.380Z"
   },
   {
    "duration": 4,
    "start_time": "2023-09-04T20:55:45.397Z"
   },
   {
    "duration": 3,
    "start_time": "2023-09-04T20:55:45.402Z"
   },
   {
    "duration": 4,
    "start_time": "2023-09-04T20:55:45.406Z"
   },
   {
    "duration": 5,
    "start_time": "2023-09-04T20:55:45.411Z"
   },
   {
    "duration": 5,
    "start_time": "2023-09-04T20:55:45.417Z"
   },
   {
    "duration": 4,
    "start_time": "2023-09-04T20:55:45.424Z"
   },
   {
    "duration": 25,
    "start_time": "2023-09-04T20:55:45.429Z"
   },
   {
    "duration": 23,
    "start_time": "2023-09-04T20:55:45.465Z"
   },
   {
    "duration": 5,
    "start_time": "2023-09-04T20:55:45.489Z"
   },
   {
    "duration": 7,
    "start_time": "2023-09-04T20:55:45.495Z"
   },
   {
    "duration": 4,
    "start_time": "2023-09-04T20:55:45.503Z"
   },
   {
    "duration": 4,
    "start_time": "2023-09-04T20:55:45.508Z"
   },
   {
    "duration": 4,
    "start_time": "2023-09-04T20:55:45.513Z"
   },
   {
    "duration": 1357,
    "start_time": "2023-09-04T21:01:42.542Z"
   },
   {
    "duration": 85,
    "start_time": "2023-09-04T21:01:43.901Z"
   },
   {
    "duration": 27,
    "start_time": "2023-09-04T21:01:43.988Z"
   },
   {
    "duration": 29,
    "start_time": "2023-09-04T21:01:44.018Z"
   },
   {
    "duration": 22,
    "start_time": "2023-09-04T21:01:44.053Z"
   },
   {
    "duration": 10,
    "start_time": "2023-09-04T21:01:44.077Z"
   },
   {
    "duration": 17,
    "start_time": "2023-09-04T21:01:44.088Z"
   },
   {
    "duration": 6,
    "start_time": "2023-09-04T21:01:44.106Z"
   },
   {
    "duration": 25,
    "start_time": "2023-09-04T21:01:44.113Z"
   },
   {
    "duration": 23,
    "start_time": "2023-09-04T21:01:44.141Z"
   },
   {
    "duration": 7,
    "start_time": "2023-09-04T21:01:44.170Z"
   },
   {
    "duration": 16,
    "start_time": "2023-09-04T21:01:44.179Z"
   },
   {
    "duration": 17,
    "start_time": "2023-09-04T21:01:44.196Z"
   },
   {
    "duration": 5,
    "start_time": "2023-09-04T21:01:44.215Z"
   },
   {
    "duration": 14,
    "start_time": "2023-09-04T21:01:44.221Z"
   },
   {
    "duration": 160,
    "start_time": "2023-09-04T21:01:44.237Z"
   },
   {
    "duration": 106,
    "start_time": "2023-09-04T21:01:44.399Z"
   },
   {
    "duration": 171,
    "start_time": "2023-09-04T21:01:44.507Z"
   },
   {
    "duration": 139,
    "start_time": "2023-09-04T21:01:44.680Z"
   },
   {
    "duration": 148,
    "start_time": "2023-09-04T21:01:44.820Z"
   },
   {
    "duration": 3,
    "start_time": "2023-09-04T21:01:44.970Z"
   },
   {
    "duration": 5,
    "start_time": "2023-09-04T21:01:44.981Z"
   },
   {
    "duration": 5,
    "start_time": "2023-09-04T21:01:44.987Z"
   },
   {
    "duration": 18,
    "start_time": "2023-09-04T21:01:44.994Z"
   },
   {
    "duration": 47,
    "start_time": "2023-09-04T21:01:45.013Z"
   },
   {
    "duration": 23,
    "start_time": "2023-09-04T21:01:45.069Z"
   },
   {
    "duration": 79,
    "start_time": "2023-09-04T21:01:45.094Z"
   },
   {
    "duration": 15,
    "start_time": "2023-09-04T21:01:45.176Z"
   },
   {
    "duration": 22,
    "start_time": "2023-09-04T21:01:45.192Z"
   },
   {
    "duration": 27,
    "start_time": "2023-09-04T21:01:45.215Z"
   },
   {
    "duration": 196,
    "start_time": "2023-09-04T21:01:45.244Z"
   },
   {
    "duration": 200,
    "start_time": "2023-09-04T21:01:45.442Z"
   },
   {
    "duration": 211,
    "start_time": "2023-09-04T21:01:45.644Z"
   },
   {
    "duration": 267,
    "start_time": "2023-09-04T21:01:45.864Z"
   },
   {
    "duration": 1063,
    "start_time": "2023-09-04T21:01:46.133Z"
   },
   {
    "duration": 14,
    "start_time": "2023-09-04T21:01:47.197Z"
   },
   {
    "duration": 8,
    "start_time": "2023-09-04T21:01:47.213Z"
   },
   {
    "duration": 40,
    "start_time": "2023-09-04T21:01:47.223Z"
   },
   {
    "duration": 34,
    "start_time": "2023-09-04T21:01:47.271Z"
   },
   {
    "duration": 141,
    "start_time": "2023-09-04T21:01:47.306Z"
   },
   {
    "duration": 25,
    "start_time": "2023-09-04T21:01:47.453Z"
   },
   {
    "duration": 19,
    "start_time": "2023-09-04T21:01:47.483Z"
   },
   {
    "duration": 4,
    "start_time": "2023-09-04T21:01:47.503Z"
   },
   {
    "duration": 14,
    "start_time": "2023-09-04T21:01:47.508Z"
   },
   {
    "duration": 27,
    "start_time": "2023-09-04T21:01:47.523Z"
   },
   {
    "duration": 24,
    "start_time": "2023-09-04T21:01:47.554Z"
   },
   {
    "duration": 210,
    "start_time": "2023-09-04T21:01:47.579Z"
   },
   {
    "duration": 8,
    "start_time": "2023-09-04T21:01:47.791Z"
   },
   {
    "duration": 9,
    "start_time": "2023-09-04T21:01:47.801Z"
   },
   {
    "duration": 24,
    "start_time": "2023-09-04T21:01:47.811Z"
   },
   {
    "duration": 5,
    "start_time": "2023-09-04T21:01:47.837Z"
   },
   {
    "duration": 24,
    "start_time": "2023-09-04T21:01:47.844Z"
   },
   {
    "duration": 13,
    "start_time": "2023-09-04T21:01:47.872Z"
   },
   {
    "duration": 13,
    "start_time": "2023-09-04T21:01:47.886Z"
   },
   {
    "duration": 5,
    "start_time": "2023-09-04T21:01:47.901Z"
   },
   {
    "duration": 1129,
    "start_time": "2023-09-04T21:57:44.408Z"
   },
   {
    "duration": 67,
    "start_time": "2023-09-04T21:57:45.539Z"
   },
   {
    "duration": 30,
    "start_time": "2023-09-04T21:57:45.608Z"
   },
   {
    "duration": 11,
    "start_time": "2023-09-04T21:57:45.640Z"
   },
   {
    "duration": 17,
    "start_time": "2023-09-04T21:57:45.653Z"
   },
   {
    "duration": 14,
    "start_time": "2023-09-04T21:57:45.672Z"
   },
   {
    "duration": 9,
    "start_time": "2023-09-04T21:57:45.688Z"
   },
   {
    "duration": 4,
    "start_time": "2023-09-04T21:57:45.699Z"
   },
   {
    "duration": 20,
    "start_time": "2023-09-04T21:57:45.705Z"
   },
   {
    "duration": 5,
    "start_time": "2023-09-04T21:57:45.727Z"
   },
   {
    "duration": 13,
    "start_time": "2023-09-04T21:57:45.745Z"
   },
   {
    "duration": 10,
    "start_time": "2023-09-04T21:57:45.759Z"
   },
   {
    "duration": 12,
    "start_time": "2023-09-04T21:57:45.770Z"
   },
   {
    "duration": 11,
    "start_time": "2023-09-04T21:57:45.784Z"
   },
   {
    "duration": 25,
    "start_time": "2023-09-04T21:57:45.796Z"
   },
   {
    "duration": 149,
    "start_time": "2023-09-04T21:57:45.822Z"
   },
   {
    "duration": 96,
    "start_time": "2023-09-04T21:57:45.972Z"
   },
   {
    "duration": 143,
    "start_time": "2023-09-04T21:57:46.070Z"
   },
   {
    "duration": 139,
    "start_time": "2023-09-04T21:57:46.215Z"
   },
   {
    "duration": 131,
    "start_time": "2023-09-04T21:57:46.355Z"
   },
   {
    "duration": 4,
    "start_time": "2023-09-04T21:57:46.488Z"
   },
   {
    "duration": 5,
    "start_time": "2023-09-04T21:57:46.494Z"
   },
   {
    "duration": 7,
    "start_time": "2023-09-04T21:57:46.501Z"
   },
   {
    "duration": 18,
    "start_time": "2023-09-04T21:57:46.509Z"
   },
   {
    "duration": 12,
    "start_time": "2023-09-04T21:57:46.544Z"
   },
   {
    "duration": 10,
    "start_time": "2023-09-04T21:57:46.557Z"
   },
   {
    "duration": 32,
    "start_time": "2023-09-04T21:57:46.569Z"
   },
   {
    "duration": 40,
    "start_time": "2023-09-04T21:57:46.606Z"
   },
   {
    "duration": 21,
    "start_time": "2023-09-04T21:57:46.648Z"
   },
   {
    "duration": 18,
    "start_time": "2023-09-04T21:57:46.671Z"
   },
   {
    "duration": 191,
    "start_time": "2023-09-04T21:57:46.691Z"
   },
   {
    "duration": 180,
    "start_time": "2023-09-04T21:57:46.884Z"
   },
   {
    "duration": 180,
    "start_time": "2023-09-04T21:57:47.066Z"
   },
   {
    "duration": 236,
    "start_time": "2023-09-04T21:57:47.248Z"
   },
   {
    "duration": 755,
    "start_time": "2023-09-04T21:57:47.486Z"
   },
   {
    "duration": 13,
    "start_time": "2023-09-04T21:57:48.243Z"
   },
   {
    "duration": 23,
    "start_time": "2023-09-04T21:57:48.258Z"
   },
   {
    "duration": 22,
    "start_time": "2023-09-04T21:57:48.283Z"
   },
   {
    "duration": 3,
    "start_time": "2023-09-04T21:57:48.307Z"
   },
   {
    "duration": 128,
    "start_time": "2023-09-04T21:57:48.311Z"
   },
   {
    "duration": 16,
    "start_time": "2023-09-04T21:57:48.440Z"
   },
   {
    "duration": 17,
    "start_time": "2023-09-04T21:57:48.458Z"
   },
   {
    "duration": 8,
    "start_time": "2023-09-04T21:57:48.476Z"
   },
   {
    "duration": 8,
    "start_time": "2023-09-04T21:57:48.486Z"
   },
   {
    "duration": 5,
    "start_time": "2023-09-04T21:57:48.495Z"
   },
   {
    "duration": 4,
    "start_time": "2023-09-04T21:57:48.502Z"
   },
   {
    "duration": 7,
    "start_time": "2023-09-04T21:57:48.508Z"
   },
   {
    "duration": 29,
    "start_time": "2023-09-04T21:57:48.516Z"
   },
   {
    "duration": 3,
    "start_time": "2023-09-04T21:57:48.546Z"
   },
   {
    "duration": 15,
    "start_time": "2023-09-04T21:57:48.551Z"
   },
   {
    "duration": 7,
    "start_time": "2023-09-04T21:57:48.568Z"
   },
   {
    "duration": 5,
    "start_time": "2023-09-04T21:57:48.576Z"
   },
   {
    "duration": 6,
    "start_time": "2023-09-04T21:57:48.582Z"
   },
   {
    "duration": 5,
    "start_time": "2023-09-04T21:57:48.589Z"
   },
   {
    "duration": 4,
    "start_time": "2023-09-04T21:57:48.595Z"
   },
   {
    "duration": 51,
    "start_time": "2023-09-05T08:58:34.919Z"
   },
   {
    "duration": 1433,
    "start_time": "2023-09-05T08:58:41.815Z"
   },
   {
    "duration": 318,
    "start_time": "2023-09-05T08:58:43.250Z"
   },
   {
    "duration": 42,
    "start_time": "2023-09-05T08:58:43.570Z"
   },
   {
    "duration": 12,
    "start_time": "2023-09-05T08:58:43.615Z"
   },
   {
    "duration": 25,
    "start_time": "2023-09-05T08:58:43.629Z"
   },
   {
    "duration": 19,
    "start_time": "2023-09-05T08:58:43.656Z"
   },
   {
    "duration": 16,
    "start_time": "2023-09-05T08:58:43.677Z"
   },
   {
    "duration": 14,
    "start_time": "2023-09-05T08:58:43.694Z"
   },
   {
    "duration": 20,
    "start_time": "2023-09-05T08:58:43.710Z"
   },
   {
    "duration": 14,
    "start_time": "2023-09-05T08:58:43.732Z"
   },
   {
    "duration": 11,
    "start_time": "2023-09-05T08:58:43.748Z"
   },
   {
    "duration": 12,
    "start_time": "2023-09-05T08:58:43.760Z"
   },
   {
    "duration": 21,
    "start_time": "2023-09-05T08:58:43.773Z"
   },
   {
    "duration": 8,
    "start_time": "2023-09-05T08:58:43.795Z"
   },
   {
    "duration": 53,
    "start_time": "2023-09-05T08:58:43.804Z"
   },
   {
    "duration": 220,
    "start_time": "2023-09-05T08:58:43.858Z"
   },
   {
    "duration": 134,
    "start_time": "2023-09-05T08:58:44.080Z"
   },
   {
    "duration": 211,
    "start_time": "2023-09-05T08:58:44.216Z"
   },
   {
    "duration": 194,
    "start_time": "2023-09-05T08:58:44.429Z"
   },
   {
    "duration": 211,
    "start_time": "2023-09-05T08:58:44.625Z"
   },
   {
    "duration": 5,
    "start_time": "2023-09-05T08:58:44.839Z"
   },
   {
    "duration": 25,
    "start_time": "2023-09-05T08:58:44.846Z"
   },
   {
    "duration": 6,
    "start_time": "2023-09-05T08:58:44.873Z"
   },
   {
    "duration": 12,
    "start_time": "2023-09-05T08:58:44.882Z"
   },
   {
    "duration": 17,
    "start_time": "2023-09-05T08:58:44.897Z"
   },
   {
    "duration": 13,
    "start_time": "2023-09-05T08:58:44.916Z"
   },
   {
    "duration": 69,
    "start_time": "2023-09-05T08:58:44.931Z"
   },
   {
    "duration": 20,
    "start_time": "2023-09-05T08:58:45.005Z"
   },
   {
    "duration": 56,
    "start_time": "2023-09-05T08:58:45.027Z"
   },
   {
    "duration": 25,
    "start_time": "2023-09-05T08:58:45.085Z"
   },
   {
    "duration": 216,
    "start_time": "2023-09-05T08:58:45.112Z"
   },
   {
    "duration": 207,
    "start_time": "2023-09-05T08:58:45.330Z"
   },
   {
    "duration": 203,
    "start_time": "2023-09-05T08:58:45.539Z"
   },
   {
    "duration": 312,
    "start_time": "2023-09-05T08:58:45.744Z"
   },
   {
    "duration": 986,
    "start_time": "2023-09-05T08:58:46.058Z"
   },
   {
    "duration": 23,
    "start_time": "2023-09-05T08:58:47.046Z"
   },
   {
    "duration": 15,
    "start_time": "2023-09-05T08:58:47.071Z"
   },
   {
    "duration": 21,
    "start_time": "2023-09-05T08:58:47.088Z"
   },
   {
    "duration": 27,
    "start_time": "2023-09-05T08:58:47.111Z"
   },
   {
    "duration": 16,
    "start_time": "2023-09-05T08:58:47.141Z"
   },
   {
    "duration": 150,
    "start_time": "2023-09-05T08:58:47.159Z"
   },
   {
    "duration": 18,
    "start_time": "2023-09-05T08:58:47.311Z"
   },
   {
    "duration": 18,
    "start_time": "2023-09-05T08:58:47.331Z"
   },
   {
    "duration": 20,
    "start_time": "2023-09-05T08:58:47.350Z"
   },
   {
    "duration": 13,
    "start_time": "2023-09-05T08:58:47.371Z"
   },
   {
    "duration": 10,
    "start_time": "2023-09-05T08:58:47.386Z"
   },
   {
    "duration": 4,
    "start_time": "2023-09-05T08:58:47.398Z"
   },
   {
    "duration": 6,
    "start_time": "2023-09-05T08:58:47.403Z"
   },
   {
    "duration": 4,
    "start_time": "2023-09-05T08:58:47.411Z"
   },
   {
    "duration": 5,
    "start_time": "2023-09-05T08:58:47.416Z"
   },
   {
    "duration": 53,
    "start_time": "2023-09-05T08:58:47.422Z"
   },
   {
    "duration": 6,
    "start_time": "2023-09-05T08:58:47.477Z"
   },
   {
    "duration": 6,
    "start_time": "2023-09-05T08:58:47.485Z"
   },
   {
    "duration": 5,
    "start_time": "2023-09-05T08:58:47.493Z"
   },
   {
    "duration": 7,
    "start_time": "2023-09-05T08:58:47.500Z"
   },
   {
    "duration": 18,
    "start_time": "2023-09-05T08:58:47.509Z"
   },
   {
    "duration": 6,
    "start_time": "2023-09-05T10:28:50.440Z"
   },
   {
    "duration": 10,
    "start_time": "2023-09-05T10:29:03.092Z"
   },
   {
    "duration": 4,
    "start_time": "2023-09-05T10:30:08.712Z"
   },
   {
    "duration": 19,
    "start_time": "2023-09-05T10:30:10.241Z"
   },
   {
    "duration": 17,
    "start_time": "2023-09-05T10:30:24.791Z"
   },
   {
    "duration": 1355,
    "start_time": "2023-09-05T10:30:31.640Z"
   },
   {
    "duration": 71,
    "start_time": "2023-09-05T10:30:32.998Z"
   },
   {
    "duration": 34,
    "start_time": "2023-09-05T10:30:33.071Z"
   },
   {
    "duration": 18,
    "start_time": "2023-09-05T10:30:33.108Z"
   },
   {
    "duration": 46,
    "start_time": "2023-09-05T10:30:33.129Z"
   },
   {
    "duration": 18,
    "start_time": "2023-09-05T10:30:33.177Z"
   },
   {
    "duration": 23,
    "start_time": "2023-09-05T10:30:33.197Z"
   },
   {
    "duration": 58,
    "start_time": "2023-09-05T10:30:33.222Z"
   },
   {
    "duration": 51,
    "start_time": "2023-09-05T10:30:33.282Z"
   },
   {
    "duration": 29,
    "start_time": "2023-09-05T10:30:33.336Z"
   },
   {
    "duration": 19,
    "start_time": "2023-09-05T10:30:33.367Z"
   },
   {
    "duration": 15,
    "start_time": "2023-09-05T10:30:33.388Z"
   },
   {
    "duration": 34,
    "start_time": "2023-09-05T10:30:33.405Z"
   },
   {
    "duration": 10,
    "start_time": "2023-09-05T10:30:33.440Z"
   },
   {
    "duration": 25,
    "start_time": "2023-09-05T10:30:33.452Z"
   },
   {
    "duration": 207,
    "start_time": "2023-09-05T10:30:33.480Z"
   },
   {
    "duration": 100,
    "start_time": "2023-09-05T10:30:33.690Z"
   },
   {
    "duration": 245,
    "start_time": "2023-09-05T10:30:33.794Z"
   },
   {
    "duration": 216,
    "start_time": "2023-09-05T10:30:34.042Z"
   },
   {
    "duration": 154,
    "start_time": "2023-09-05T10:30:34.260Z"
   },
   {
    "duration": 4,
    "start_time": "2023-09-05T10:30:34.416Z"
   },
   {
    "duration": 7,
    "start_time": "2023-09-05T10:30:34.423Z"
   },
   {
    "duration": 5,
    "start_time": "2023-09-05T10:30:34.432Z"
   },
   {
    "duration": 33,
    "start_time": "2023-09-05T10:30:34.439Z"
   },
   {
    "duration": 13,
    "start_time": "2023-09-05T10:30:34.474Z"
   },
   {
    "duration": 14,
    "start_time": "2023-09-05T10:30:34.489Z"
   },
   {
    "duration": 63,
    "start_time": "2023-09-05T10:30:34.505Z"
   },
   {
    "duration": 21,
    "start_time": "2023-09-05T10:30:34.574Z"
   },
   {
    "duration": 35,
    "start_time": "2023-09-05T10:30:34.598Z"
   },
   {
    "duration": 58,
    "start_time": "2023-09-05T10:30:34.635Z"
   },
   {
    "duration": 211,
    "start_time": "2023-09-05T10:30:34.695Z"
   },
   {
    "duration": 217,
    "start_time": "2023-09-05T10:30:34.908Z"
   },
   {
    "duration": 239,
    "start_time": "2023-09-05T10:30:35.128Z"
   },
   {
    "duration": 297,
    "start_time": "2023-09-05T10:30:35.370Z"
   },
   {
    "duration": 16,
    "start_time": "2023-09-05T10:30:35.669Z"
   },
   {
    "duration": 22,
    "start_time": "2023-09-05T10:30:35.686Z"
   },
   {
    "duration": 42,
    "start_time": "2023-09-05T10:30:35.711Z"
   },
   {
    "duration": 929,
    "start_time": "2023-09-05T10:30:35.755Z"
   },
   {
    "duration": 18,
    "start_time": "2023-09-05T10:30:36.685Z"
   },
   {
    "duration": 9,
    "start_time": "2023-09-05T10:30:36.705Z"
   },
   {
    "duration": 23,
    "start_time": "2023-09-05T10:30:36.716Z"
   },
   {
    "duration": 22,
    "start_time": "2023-09-05T10:30:36.768Z"
   },
   {
    "duration": 5,
    "start_time": "2023-09-05T10:30:36.792Z"
   },
   {
    "duration": 151,
    "start_time": "2023-09-05T10:30:36.799Z"
   },
   {
    "duration": 29,
    "start_time": "2023-09-05T10:30:36.952Z"
   },
   {
    "duration": 37,
    "start_time": "2023-09-05T10:30:36.983Z"
   },
   {
    "duration": 6,
    "start_time": "2023-09-05T10:30:37.022Z"
   },
   {
    "duration": 5,
    "start_time": "2023-09-05T10:30:37.030Z"
   },
   {
    "duration": 5,
    "start_time": "2023-09-05T10:30:37.037Z"
   },
   {
    "duration": 31,
    "start_time": "2023-09-05T10:30:37.043Z"
   },
   {
    "duration": 17,
    "start_time": "2023-09-05T10:30:37.075Z"
   },
   {
    "duration": 17,
    "start_time": "2023-09-05T10:30:37.094Z"
   },
   {
    "duration": 11,
    "start_time": "2023-09-05T10:30:37.113Z"
   },
   {
    "duration": 22,
    "start_time": "2023-09-05T10:30:37.126Z"
   },
   {
    "duration": 8,
    "start_time": "2023-09-05T10:30:37.151Z"
   },
   {
    "duration": 21,
    "start_time": "2023-09-05T10:30:37.162Z"
   },
   {
    "duration": 27,
    "start_time": "2023-09-05T10:30:37.186Z"
   },
   {
    "duration": 28,
    "start_time": "2023-09-05T10:30:37.215Z"
   },
   {
    "duration": 10,
    "start_time": "2023-09-05T10:30:37.245Z"
   },
   {
    "duration": 1217,
    "start_time": "2023-09-05T10:33:06.575Z"
   },
   {
    "duration": 77,
    "start_time": "2023-09-05T10:33:07.795Z"
   },
   {
    "duration": 200,
    "start_time": "2023-09-05T10:33:07.874Z"
   },
   {
    "duration": 73,
    "start_time": "2023-09-05T10:33:08.077Z"
   },
   {
    "duration": 238,
    "start_time": "2023-09-05T10:33:08.152Z"
   },
   {
    "duration": 75,
    "start_time": "2023-09-05T10:33:08.393Z"
   },
   {
    "duration": 26,
    "start_time": "2023-09-05T10:33:08.470Z"
   },
   {
    "duration": 21,
    "start_time": "2023-09-05T10:33:08.498Z"
   },
   {
    "duration": 20,
    "start_time": "2023-09-05T10:33:08.521Z"
   },
   {
    "duration": 22,
    "start_time": "2023-09-05T10:33:08.544Z"
   },
   {
    "duration": 25,
    "start_time": "2023-09-05T10:33:08.568Z"
   },
   {
    "duration": 22,
    "start_time": "2023-09-05T10:33:08.596Z"
   },
   {
    "duration": 43,
    "start_time": "2023-09-05T10:33:08.621Z"
   },
   {
    "duration": 7,
    "start_time": "2023-09-05T10:33:08.667Z"
   },
   {
    "duration": 28,
    "start_time": "2023-09-05T10:33:08.676Z"
   },
   {
    "duration": 242,
    "start_time": "2023-09-05T10:33:08.706Z"
   },
   {
    "duration": 100,
    "start_time": "2023-09-05T10:33:08.950Z"
   },
   {
    "duration": 180,
    "start_time": "2023-09-05T10:33:09.051Z"
   },
   {
    "duration": 191,
    "start_time": "2023-09-05T10:33:09.233Z"
   },
   {
    "duration": 185,
    "start_time": "2023-09-05T10:33:09.426Z"
   },
   {
    "duration": 4,
    "start_time": "2023-09-05T10:33:09.613Z"
   },
   {
    "duration": 8,
    "start_time": "2023-09-05T10:33:09.619Z"
   },
   {
    "duration": 28,
    "start_time": "2023-09-05T10:33:09.629Z"
   },
   {
    "duration": 46,
    "start_time": "2023-09-05T10:33:09.659Z"
   },
   {
    "duration": 25,
    "start_time": "2023-09-05T10:33:09.707Z"
   },
   {
    "duration": 10,
    "start_time": "2023-09-05T10:33:09.734Z"
   },
   {
    "duration": 62,
    "start_time": "2023-09-05T10:33:09.746Z"
   },
   {
    "duration": 20,
    "start_time": "2023-09-05T10:33:09.814Z"
   },
   {
    "duration": 40,
    "start_time": "2023-09-05T10:33:09.837Z"
   },
   {
    "duration": 21,
    "start_time": "2023-09-05T10:33:09.879Z"
   },
   {
    "duration": 221,
    "start_time": "2023-09-05T10:33:09.902Z"
   },
   {
    "duration": 206,
    "start_time": "2023-09-05T10:33:10.124Z"
   },
   {
    "duration": 221,
    "start_time": "2023-09-05T10:33:10.332Z"
   },
   {
    "duration": 283,
    "start_time": "2023-09-05T10:33:10.555Z"
   },
   {
    "duration": 28,
    "start_time": "2023-09-05T10:33:10.840Z"
   },
   {
    "duration": 16,
    "start_time": "2023-09-05T10:33:10.870Z"
   },
   {
    "duration": 895,
    "start_time": "2023-09-05T10:33:10.887Z"
   },
   {
    "duration": 17,
    "start_time": "2023-09-05T10:33:11.784Z"
   },
   {
    "duration": 9,
    "start_time": "2023-09-05T10:33:11.803Z"
   },
   {
    "duration": 28,
    "start_time": "2023-09-05T10:33:11.814Z"
   },
   {
    "duration": 46,
    "start_time": "2023-09-05T10:33:11.845Z"
   },
   {
    "duration": 109,
    "start_time": "2023-09-05T10:33:11.893Z"
   },
   {
    "duration": 204,
    "start_time": "2023-09-05T10:33:12.005Z"
   },
   {
    "duration": 129,
    "start_time": "2023-09-05T10:33:12.210Z"
   },
   {
    "duration": 41,
    "start_time": "2023-09-05T10:33:12.341Z"
   },
   {
    "duration": 14,
    "start_time": "2023-09-05T10:33:12.384Z"
   },
   {
    "duration": 59,
    "start_time": "2023-09-05T10:33:12.400Z"
   },
   {
    "duration": 30,
    "start_time": "2023-09-05T10:33:12.461Z"
   },
   {
    "duration": 18,
    "start_time": "2023-09-05T10:33:12.493Z"
   },
   {
    "duration": 12,
    "start_time": "2023-09-05T10:33:12.513Z"
   },
   {
    "duration": 26,
    "start_time": "2023-09-05T10:33:12.527Z"
   },
   {
    "duration": 8,
    "start_time": "2023-09-05T10:33:12.555Z"
   },
   {
    "duration": 38,
    "start_time": "2023-09-05T10:33:12.565Z"
   },
   {
    "duration": 9,
    "start_time": "2023-09-05T10:33:12.605Z"
   },
   {
    "duration": 14,
    "start_time": "2023-09-05T10:33:12.617Z"
   },
   {
    "duration": 8,
    "start_time": "2023-09-05T10:33:12.634Z"
   },
   {
    "duration": 19,
    "start_time": "2023-09-05T10:33:12.644Z"
   },
   {
    "duration": 5,
    "start_time": "2023-09-05T10:33:12.665Z"
   },
   {
    "duration": 1223,
    "start_time": "2023-09-05T10:36:11.718Z"
   },
   {
    "duration": 69,
    "start_time": "2023-09-05T10:36:12.944Z"
   },
   {
    "duration": 30,
    "start_time": "2023-09-05T10:36:13.015Z"
   },
   {
    "duration": 13,
    "start_time": "2023-09-05T10:36:13.047Z"
   },
   {
    "duration": 20,
    "start_time": "2023-09-05T10:36:13.062Z"
   },
   {
    "duration": 51,
    "start_time": "2023-09-05T10:36:13.084Z"
   },
   {
    "duration": 33,
    "start_time": "2023-09-05T10:36:13.136Z"
   },
   {
    "duration": 14,
    "start_time": "2023-09-05T10:36:13.171Z"
   },
   {
    "duration": 14,
    "start_time": "2023-09-05T10:36:13.188Z"
   },
   {
    "duration": 12,
    "start_time": "2023-09-05T10:36:13.205Z"
   },
   {
    "duration": 18,
    "start_time": "2023-09-05T10:36:13.219Z"
   },
   {
    "duration": 12,
    "start_time": "2023-09-05T10:36:13.239Z"
   },
   {
    "duration": 25,
    "start_time": "2023-09-05T10:36:13.254Z"
   },
   {
    "duration": 8,
    "start_time": "2023-09-05T10:36:13.282Z"
   },
   {
    "duration": 23,
    "start_time": "2023-09-05T10:36:13.292Z"
   },
   {
    "duration": 214,
    "start_time": "2023-09-05T10:36:13.317Z"
   },
   {
    "duration": 108,
    "start_time": "2023-09-05T10:36:13.534Z"
   },
   {
    "duration": 163,
    "start_time": "2023-09-05T10:36:13.644Z"
   },
   {
    "duration": 195,
    "start_time": "2023-09-05T10:36:13.809Z"
   },
   {
    "duration": 221,
    "start_time": "2023-09-05T10:36:14.007Z"
   },
   {
    "duration": 5,
    "start_time": "2023-09-05T10:36:14.230Z"
   },
   {
    "duration": 11,
    "start_time": "2023-09-05T10:36:14.237Z"
   },
   {
    "duration": 19,
    "start_time": "2023-09-05T10:36:14.249Z"
   },
   {
    "duration": 15,
    "start_time": "2023-09-05T10:36:14.270Z"
   },
   {
    "duration": 40,
    "start_time": "2023-09-05T10:36:14.287Z"
   },
   {
    "duration": 10,
    "start_time": "2023-09-05T10:36:14.330Z"
   },
   {
    "duration": 41,
    "start_time": "2023-09-05T10:36:14.343Z"
   },
   {
    "duration": 14,
    "start_time": "2023-09-05T10:36:14.389Z"
   },
   {
    "duration": 26,
    "start_time": "2023-09-05T10:36:14.404Z"
   },
   {
    "duration": 36,
    "start_time": "2023-09-05T10:36:14.432Z"
   },
   {
    "duration": 231,
    "start_time": "2023-09-05T10:36:14.471Z"
   },
   {
    "duration": 227,
    "start_time": "2023-09-05T10:36:14.704Z"
   },
   {
    "duration": 214,
    "start_time": "2023-09-05T10:36:14.933Z"
   },
   {
    "duration": 301,
    "start_time": "2023-09-05T10:36:15.149Z"
   },
   {
    "duration": 24,
    "start_time": "2023-09-05T10:36:15.452Z"
   },
   {
    "duration": 13,
    "start_time": "2023-09-05T10:36:15.478Z"
   },
   {
    "duration": 38,
    "start_time": "2023-09-05T10:36:15.493Z"
   },
   {
    "duration": 880,
    "start_time": "2023-09-05T10:36:15.533Z"
   },
   {
    "duration": 17,
    "start_time": "2023-09-05T10:36:16.415Z"
   },
   {
    "duration": 21,
    "start_time": "2023-09-05T10:36:16.433Z"
   },
   {
    "duration": 24,
    "start_time": "2023-09-05T10:36:16.456Z"
   },
   {
    "duration": 22,
    "start_time": "2023-09-05T10:36:16.481Z"
   },
   {
    "duration": 5,
    "start_time": "2023-09-05T10:36:16.504Z"
   },
   {
    "duration": 148,
    "start_time": "2023-09-05T10:36:16.511Z"
   },
   {
    "duration": 23,
    "start_time": "2023-09-05T10:36:16.661Z"
   },
   {
    "duration": 19,
    "start_time": "2023-09-05T10:36:16.686Z"
   },
   {
    "duration": 11,
    "start_time": "2023-09-05T10:36:16.708Z"
   },
   {
    "duration": 13,
    "start_time": "2023-09-05T10:36:16.720Z"
   },
   {
    "duration": 8,
    "start_time": "2023-09-05T10:36:16.735Z"
   },
   {
    "duration": 24,
    "start_time": "2023-09-05T10:36:16.744Z"
   },
   {
    "duration": 12,
    "start_time": "2023-09-05T10:36:16.770Z"
   },
   {
    "duration": 8,
    "start_time": "2023-09-05T10:36:16.783Z"
   },
   {
    "duration": 15,
    "start_time": "2023-09-05T10:36:16.793Z"
   },
   {
    "duration": 26,
    "start_time": "2023-09-05T10:36:16.810Z"
   },
   {
    "duration": 17,
    "start_time": "2023-09-05T10:36:16.839Z"
   },
   {
    "duration": 25,
    "start_time": "2023-09-05T10:36:16.858Z"
   },
   {
    "duration": 6,
    "start_time": "2023-09-05T10:36:16.885Z"
   },
   {
    "duration": 8,
    "start_time": "2023-09-05T10:36:16.893Z"
   },
   {
    "duration": 18,
    "start_time": "2023-09-05T10:36:16.902Z"
   },
   {
    "duration": 1352,
    "start_time": "2023-09-05T10:37:45.825Z"
   },
   {
    "duration": 70,
    "start_time": "2023-09-05T10:37:47.179Z"
   },
   {
    "duration": 41,
    "start_time": "2023-09-05T10:37:47.251Z"
   },
   {
    "duration": 18,
    "start_time": "2023-09-05T10:37:47.295Z"
   },
   {
    "duration": 16,
    "start_time": "2023-09-05T10:37:47.315Z"
   },
   {
    "duration": 38,
    "start_time": "2023-09-05T10:37:47.333Z"
   },
   {
    "duration": 18,
    "start_time": "2023-09-05T10:37:47.373Z"
   },
   {
    "duration": 7,
    "start_time": "2023-09-05T10:37:47.394Z"
   },
   {
    "duration": 6,
    "start_time": "2023-09-05T10:37:47.404Z"
   },
   {
    "duration": 6,
    "start_time": "2023-09-05T10:37:47.414Z"
   },
   {
    "duration": 7,
    "start_time": "2023-09-05T10:37:47.422Z"
   },
   {
    "duration": 43,
    "start_time": "2023-09-05T10:37:47.431Z"
   },
   {
    "duration": 10,
    "start_time": "2023-09-05T10:37:47.476Z"
   },
   {
    "duration": 18,
    "start_time": "2023-09-05T10:37:47.488Z"
   },
   {
    "duration": 37,
    "start_time": "2023-09-05T10:37:47.508Z"
   },
   {
    "duration": 170,
    "start_time": "2023-09-05T10:37:47.547Z"
   },
   {
    "duration": 95,
    "start_time": "2023-09-05T10:37:47.720Z"
   },
   {
    "duration": 161,
    "start_time": "2023-09-05T10:37:47.817Z"
   },
   {
    "duration": 147,
    "start_time": "2023-09-05T10:37:47.981Z"
   },
   {
    "duration": 149,
    "start_time": "2023-09-05T10:37:48.130Z"
   },
   {
    "duration": 4,
    "start_time": "2023-09-05T10:37:48.281Z"
   },
   {
    "duration": 7,
    "start_time": "2023-09-05T10:37:48.286Z"
   },
   {
    "duration": 7,
    "start_time": "2023-09-05T10:37:48.295Z"
   },
   {
    "duration": 17,
    "start_time": "2023-09-05T10:37:48.304Z"
   },
   {
    "duration": 16,
    "start_time": "2023-09-05T10:37:48.323Z"
   },
   {
    "duration": 38,
    "start_time": "2023-09-05T10:37:48.341Z"
   },
   {
    "duration": 34,
    "start_time": "2023-09-05T10:37:48.381Z"
   },
   {
    "duration": 15,
    "start_time": "2023-09-05T10:37:48.419Z"
   },
   {
    "duration": 51,
    "start_time": "2023-09-05T10:37:48.436Z"
   },
   {
    "duration": 22,
    "start_time": "2023-09-05T10:37:48.489Z"
   },
   {
    "duration": 223,
    "start_time": "2023-09-05T10:37:48.513Z"
   },
   {
    "duration": 220,
    "start_time": "2023-09-05T10:37:48.739Z"
   },
   {
    "duration": 205,
    "start_time": "2023-09-05T10:37:48.966Z"
   },
   {
    "duration": 290,
    "start_time": "2023-09-05T10:37:49.172Z"
   },
   {
    "duration": 16,
    "start_time": "2023-09-05T10:37:49.464Z"
   },
   {
    "duration": 7,
    "start_time": "2023-09-05T10:37:49.482Z"
   },
   {
    "duration": 20,
    "start_time": "2023-09-05T10:37:49.490Z"
   },
   {
    "duration": 936,
    "start_time": "2023-09-05T10:37:49.511Z"
   },
   {
    "duration": 23,
    "start_time": "2023-09-05T10:37:50.449Z"
   },
   {
    "duration": 86,
    "start_time": "2023-09-05T10:37:50.474Z"
   },
   {
    "duration": 48,
    "start_time": "2023-09-05T10:37:50.562Z"
   },
   {
    "duration": 29,
    "start_time": "2023-09-05T10:37:50.612Z"
   },
   {
    "duration": 32,
    "start_time": "2023-09-05T10:37:50.643Z"
   },
   {
    "duration": 140,
    "start_time": "2023-09-05T10:37:50.677Z"
   },
   {
    "duration": 24,
    "start_time": "2023-09-05T10:37:50.820Z"
   },
   {
    "duration": 39,
    "start_time": "2023-09-05T10:37:50.846Z"
   },
   {
    "duration": 23,
    "start_time": "2023-09-05T10:37:50.888Z"
   },
   {
    "duration": 11,
    "start_time": "2023-09-05T10:37:50.913Z"
   },
   {
    "duration": 20,
    "start_time": "2023-09-05T10:37:50.926Z"
   },
   {
    "duration": 22,
    "start_time": "2023-09-05T10:37:50.948Z"
   },
   {
    "duration": 19,
    "start_time": "2023-09-05T10:37:50.972Z"
   },
   {
    "duration": 33,
    "start_time": "2023-09-05T10:37:50.993Z"
   },
   {
    "duration": 18,
    "start_time": "2023-09-05T10:37:51.028Z"
   },
   {
    "duration": 37,
    "start_time": "2023-09-05T10:37:51.048Z"
   },
   {
    "duration": 16,
    "start_time": "2023-09-05T10:37:51.086Z"
   },
   {
    "duration": 19,
    "start_time": "2023-09-05T10:37:51.104Z"
   },
   {
    "duration": 6,
    "start_time": "2023-09-05T10:37:51.126Z"
   },
   {
    "duration": 3,
    "start_time": "2023-09-05T10:37:51.134Z"
   },
   {
    "duration": 20,
    "start_time": "2023-09-05T10:37:51.139Z"
   },
   {
    "duration": 1293,
    "start_time": "2023-09-05T10:38:13.676Z"
   },
   {
    "duration": 73,
    "start_time": "2023-09-05T10:38:14.971Z"
   },
   {
    "duration": 34,
    "start_time": "2023-09-05T10:38:15.046Z"
   },
   {
    "duration": 45,
    "start_time": "2023-09-05T10:38:15.083Z"
   },
   {
    "duration": 32,
    "start_time": "2023-09-05T10:38:15.130Z"
   },
   {
    "duration": 19,
    "start_time": "2023-09-05T10:38:15.164Z"
   },
   {
    "duration": 52,
    "start_time": "2023-09-05T10:38:15.185Z"
   },
   {
    "duration": 20,
    "start_time": "2023-09-05T10:38:15.240Z"
   },
   {
    "duration": 26,
    "start_time": "2023-09-05T10:38:15.262Z"
   },
   {
    "duration": 7,
    "start_time": "2023-09-05T10:38:15.291Z"
   },
   {
    "duration": 25,
    "start_time": "2023-09-05T10:38:15.300Z"
   },
   {
    "duration": 15,
    "start_time": "2023-09-05T10:38:15.327Z"
   },
   {
    "duration": 28,
    "start_time": "2023-09-05T10:38:15.344Z"
   },
   {
    "duration": 19,
    "start_time": "2023-09-05T10:38:15.374Z"
   },
   {
    "duration": 49,
    "start_time": "2023-09-05T10:38:15.395Z"
   },
   {
    "duration": 176,
    "start_time": "2023-09-05T10:38:15.446Z"
   },
   {
    "duration": 108,
    "start_time": "2023-09-05T10:38:15.624Z"
   },
   {
    "duration": 206,
    "start_time": "2023-09-05T10:38:15.734Z"
   },
   {
    "duration": 191,
    "start_time": "2023-09-05T10:38:15.942Z"
   },
   {
    "duration": 161,
    "start_time": "2023-09-05T10:38:16.134Z"
   },
   {
    "duration": 5,
    "start_time": "2023-09-05T10:38:16.297Z"
   },
   {
    "duration": 200,
    "start_time": "2023-09-05T10:38:16.304Z"
   },
   {
    "duration": 14,
    "start_time": "2023-09-05T10:38:16.506Z"
   },
   {
    "duration": 14,
    "start_time": "2023-09-05T10:38:16.522Z"
   },
   {
    "duration": 17,
    "start_time": "2023-09-05T10:38:16.538Z"
   },
   {
    "duration": 20,
    "start_time": "2023-09-05T10:38:16.558Z"
   },
   {
    "duration": 38,
    "start_time": "2023-09-05T10:38:16.580Z"
   },
   {
    "duration": 16,
    "start_time": "2023-09-05T10:38:16.622Z"
   },
   {
    "duration": 45,
    "start_time": "2023-09-05T10:38:16.640Z"
   },
   {
    "duration": 22,
    "start_time": "2023-09-05T10:38:16.687Z"
   },
   {
    "duration": 251,
    "start_time": "2023-09-05T10:38:16.711Z"
   },
   {
    "duration": 208,
    "start_time": "2023-09-05T10:38:16.966Z"
   },
   {
    "duration": 207,
    "start_time": "2023-09-05T10:38:17.175Z"
   },
   {
    "duration": 306,
    "start_time": "2023-09-05T10:38:17.384Z"
   },
   {
    "duration": 20,
    "start_time": "2023-09-05T10:38:17.692Z"
   },
   {
    "duration": 4,
    "start_time": "2023-09-05T10:38:17.714Z"
   },
   {
    "duration": 39,
    "start_time": "2023-09-05T10:38:17.721Z"
   },
   {
    "duration": 964,
    "start_time": "2023-09-05T10:38:17.761Z"
   },
   {
    "duration": 17,
    "start_time": "2023-09-05T10:38:18.726Z"
   },
   {
    "duration": 50,
    "start_time": "2023-09-05T10:38:18.745Z"
   },
   {
    "duration": 27,
    "start_time": "2023-09-05T10:38:18.797Z"
   },
   {
    "duration": 31,
    "start_time": "2023-09-05T10:38:18.826Z"
   },
   {
    "duration": 26,
    "start_time": "2023-09-05T10:38:18.860Z"
   },
   {
    "duration": 200,
    "start_time": "2023-09-05T10:38:18.888Z"
   },
   {
    "duration": 20,
    "start_time": "2023-09-05T10:38:19.090Z"
   },
   {
    "duration": 21,
    "start_time": "2023-09-05T10:38:19.112Z"
   },
   {
    "duration": 36,
    "start_time": "2023-09-05T10:38:19.134Z"
   },
   {
    "duration": 4,
    "start_time": "2023-09-05T10:38:19.173Z"
   },
   {
    "duration": 25,
    "start_time": "2023-09-05T10:38:19.179Z"
   },
   {
    "duration": 36,
    "start_time": "2023-09-05T10:38:19.206Z"
   },
   {
    "duration": 15,
    "start_time": "2023-09-05T10:38:19.244Z"
   },
   {
    "duration": 16,
    "start_time": "2023-09-05T10:38:19.261Z"
   },
   {
    "duration": 25,
    "start_time": "2023-09-05T10:38:19.278Z"
   },
   {
    "duration": 25,
    "start_time": "2023-09-05T10:38:19.305Z"
   },
   {
    "duration": 13,
    "start_time": "2023-09-05T10:38:19.332Z"
   },
   {
    "duration": 16,
    "start_time": "2023-09-05T10:38:19.347Z"
   },
   {
    "duration": 13,
    "start_time": "2023-09-05T10:38:19.365Z"
   },
   {
    "duration": 19,
    "start_time": "2023-09-05T10:38:19.381Z"
   },
   {
    "duration": 15,
    "start_time": "2023-09-05T10:38:19.403Z"
   }
  ],
  "kernelspec": {
   "display_name": "Python 3 (ipykernel)",
   "language": "python",
   "name": "python3"
  },
  "language_info": {
   "codemirror_mode": {
    "name": "ipython",
    "version": 3
   },
   "file_extension": ".py",
   "mimetype": "text/x-python",
   "name": "python",
   "nbconvert_exporter": "python",
   "pygments_lexer": "ipython3",
   "version": "3.9.5"
  },
  "toc": {
   "base_numbering": 1,
   "nav_menu": {},
   "number_sections": true,
   "sideBar": true,
   "skip_h1_title": true,
   "title_cell": "Table of Contents",
   "title_sidebar": "Contents",
   "toc_cell": false,
   "toc_position": {
    "height": "calc(100% - 180px)",
    "left": "10px",
    "top": "150px",
    "width": "165px"
   },
   "toc_section_display": true,
   "toc_window_display": true
  }
 },
 "nbformat": 4,
 "nbformat_minor": 5
}
