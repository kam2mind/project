{
 "cells": [
  {
   "cell_type": "markdown",
   "metadata": {},
   "source": [
    "# Исследование объявлений о продаже квартир\n",
    "\n",
    "В вашем распоряжении данные сервиса Яндекс.Недвижимость — архив объявлений о продаже квартир в Санкт-Петербурге и соседних населённых пунктов за несколько лет. Нужно научиться определять рыночную стоимость объектов недвижимости. Ваша задача — установить параметры. Это позволит построить автоматизированную систему: она отследит аномалии и мошенническую деятельность. \n",
    "\n",
    "По каждой квартире на продажу доступны два вида данных. Первые вписаны пользователем, вторые — получены автоматически на основе картографических данных. Например, расстояние до центра, аэропорта, ближайшего парка и водоёма. "
   ]
  },
  {
   "cell_type": "markdown",
   "metadata": {},
   "source": [
    "### Откройте файл с данными и изучите общую информацию. "
   ]
  },
  {
   "cell_type": "code",
   "execution_count": 1,
   "metadata": {
    "scrolled": true
   },
   "outputs": [
    {
     "name": "stdout",
     "output_type": "stream",
     "text": [
      "<class 'pandas.core.frame.DataFrame'>\n",
      "RangeIndex: 23699 entries, 0 to 23698\n",
      "Data columns (total 22 columns):\n",
      " #   Column                Non-Null Count  Dtype  \n",
      "---  ------                --------------  -----  \n",
      " 0   total_images          23699 non-null  int64  \n",
      " 1   last_price            23699 non-null  float64\n",
      " 2   total_area            23699 non-null  float64\n",
      " 3   first_day_exposition  23699 non-null  object \n",
      " 4   rooms                 23699 non-null  int64  \n",
      " 5   ceiling_height        14504 non-null  float64\n",
      " 6   floors_total          23613 non-null  float64\n",
      " 7   living_area           21796 non-null  float64\n",
      " 8   floor                 23699 non-null  int64  \n",
      " 9   is_apartment          2775 non-null   object \n",
      " 10  studio                23699 non-null  bool   \n",
      " 11  open_plan             23699 non-null  bool   \n",
      " 12  kitchen_area          21421 non-null  float64\n",
      " 13  balcony               12180 non-null  float64\n",
      " 14  locality_name         23650 non-null  object \n",
      " 15  airports_nearest      18157 non-null  float64\n",
      " 16  cityCenters_nearest   18180 non-null  float64\n",
      " 17  parks_around3000      18181 non-null  float64\n",
      " 18  parks_nearest         8079 non-null   float64\n",
      " 19  ponds_around3000      18181 non-null  float64\n",
      " 20  ponds_nearest         9110 non-null   float64\n",
      " 21  days_exposition       20518 non-null  float64\n",
      "dtypes: bool(2), float64(14), int64(3), object(3)\n",
      "memory usage: 3.7+ MB\n",
      "None\n"
     ]
    },
    {
     "data": {
      "text/html": [
       "<div>\n",
       "<style scoped>\n",
       "    .dataframe tbody tr th:only-of-type {\n",
       "        vertical-align: middle;\n",
       "    }\n",
       "\n",
       "    .dataframe tbody tr th {\n",
       "        vertical-align: top;\n",
       "    }\n",
       "\n",
       "    .dataframe thead th {\n",
       "        text-align: right;\n",
       "    }\n",
       "</style>\n",
       "<table border=\"1\" class=\"dataframe\">\n",
       "  <thead>\n",
       "    <tr style=\"text-align: right;\">\n",
       "      <th></th>\n",
       "      <th>total_images</th>\n",
       "      <th>last_price</th>\n",
       "      <th>total_area</th>\n",
       "      <th>first_day_exposition</th>\n",
       "      <th>rooms</th>\n",
       "      <th>ceiling_height</th>\n",
       "      <th>floors_total</th>\n",
       "      <th>living_area</th>\n",
       "      <th>floor</th>\n",
       "      <th>is_apartment</th>\n",
       "      <th>...</th>\n",
       "      <th>kitchen_area</th>\n",
       "      <th>balcony</th>\n",
       "      <th>locality_name</th>\n",
       "      <th>airports_nearest</th>\n",
       "      <th>cityCenters_nearest</th>\n",
       "      <th>parks_around3000</th>\n",
       "      <th>parks_nearest</th>\n",
       "      <th>ponds_around3000</th>\n",
       "      <th>ponds_nearest</th>\n",
       "      <th>days_exposition</th>\n",
       "    </tr>\n",
       "  </thead>\n",
       "  <tbody>\n",
       "    <tr>\n",
       "      <th>0</th>\n",
       "      <td>20</td>\n",
       "      <td>13000000.0</td>\n",
       "      <td>108.00</td>\n",
       "      <td>2019-03-07T00:00:00</td>\n",
       "      <td>3</td>\n",
       "      <td>2.70</td>\n",
       "      <td>16.0</td>\n",
       "      <td>51.0</td>\n",
       "      <td>8</td>\n",
       "      <td>NaN</td>\n",
       "      <td>...</td>\n",
       "      <td>25.00</td>\n",
       "      <td>NaN</td>\n",
       "      <td>Санкт-Петербург</td>\n",
       "      <td>18863.0</td>\n",
       "      <td>16028.0</td>\n",
       "      <td>1.0</td>\n",
       "      <td>482.0</td>\n",
       "      <td>2.0</td>\n",
       "      <td>755.0</td>\n",
       "      <td>NaN</td>\n",
       "    </tr>\n",
       "    <tr>\n",
       "      <th>1</th>\n",
       "      <td>7</td>\n",
       "      <td>3350000.0</td>\n",
       "      <td>40.40</td>\n",
       "      <td>2018-12-04T00:00:00</td>\n",
       "      <td>1</td>\n",
       "      <td>NaN</td>\n",
       "      <td>11.0</td>\n",
       "      <td>18.6</td>\n",
       "      <td>1</td>\n",
       "      <td>NaN</td>\n",
       "      <td>...</td>\n",
       "      <td>11.00</td>\n",
       "      <td>2.0</td>\n",
       "      <td>посёлок Шушары</td>\n",
       "      <td>12817.0</td>\n",
       "      <td>18603.0</td>\n",
       "      <td>0.0</td>\n",
       "      <td>NaN</td>\n",
       "      <td>0.0</td>\n",
       "      <td>NaN</td>\n",
       "      <td>81.0</td>\n",
       "    </tr>\n",
       "    <tr>\n",
       "      <th>2</th>\n",
       "      <td>10</td>\n",
       "      <td>5196000.0</td>\n",
       "      <td>56.00</td>\n",
       "      <td>2015-08-20T00:00:00</td>\n",
       "      <td>2</td>\n",
       "      <td>NaN</td>\n",
       "      <td>5.0</td>\n",
       "      <td>34.3</td>\n",
       "      <td>4</td>\n",
       "      <td>NaN</td>\n",
       "      <td>...</td>\n",
       "      <td>8.30</td>\n",
       "      <td>0.0</td>\n",
       "      <td>Санкт-Петербург</td>\n",
       "      <td>21741.0</td>\n",
       "      <td>13933.0</td>\n",
       "      <td>1.0</td>\n",
       "      <td>90.0</td>\n",
       "      <td>2.0</td>\n",
       "      <td>574.0</td>\n",
       "      <td>558.0</td>\n",
       "    </tr>\n",
       "    <tr>\n",
       "      <th>3</th>\n",
       "      <td>0</td>\n",
       "      <td>64900000.0</td>\n",
       "      <td>159.00</td>\n",
       "      <td>2015-07-24T00:00:00</td>\n",
       "      <td>3</td>\n",
       "      <td>NaN</td>\n",
       "      <td>14.0</td>\n",
       "      <td>NaN</td>\n",
       "      <td>9</td>\n",
       "      <td>NaN</td>\n",
       "      <td>...</td>\n",
       "      <td>NaN</td>\n",
       "      <td>0.0</td>\n",
       "      <td>Санкт-Петербург</td>\n",
       "      <td>28098.0</td>\n",
       "      <td>6800.0</td>\n",
       "      <td>2.0</td>\n",
       "      <td>84.0</td>\n",
       "      <td>3.0</td>\n",
       "      <td>234.0</td>\n",
       "      <td>424.0</td>\n",
       "    </tr>\n",
       "    <tr>\n",
       "      <th>4</th>\n",
       "      <td>2</td>\n",
       "      <td>10000000.0</td>\n",
       "      <td>100.00</td>\n",
       "      <td>2018-06-19T00:00:00</td>\n",
       "      <td>2</td>\n",
       "      <td>3.03</td>\n",
       "      <td>14.0</td>\n",
       "      <td>32.0</td>\n",
       "      <td>13</td>\n",
       "      <td>NaN</td>\n",
       "      <td>...</td>\n",
       "      <td>41.00</td>\n",
       "      <td>NaN</td>\n",
       "      <td>Санкт-Петербург</td>\n",
       "      <td>31856.0</td>\n",
       "      <td>8098.0</td>\n",
       "      <td>2.0</td>\n",
       "      <td>112.0</td>\n",
       "      <td>1.0</td>\n",
       "      <td>48.0</td>\n",
       "      <td>121.0</td>\n",
       "    </tr>\n",
       "    <tr>\n",
       "      <th>...</th>\n",
       "      <td>...</td>\n",
       "      <td>...</td>\n",
       "      <td>...</td>\n",
       "      <td>...</td>\n",
       "      <td>...</td>\n",
       "      <td>...</td>\n",
       "      <td>...</td>\n",
       "      <td>...</td>\n",
       "      <td>...</td>\n",
       "      <td>...</td>\n",
       "      <td>...</td>\n",
       "      <td>...</td>\n",
       "      <td>...</td>\n",
       "      <td>...</td>\n",
       "      <td>...</td>\n",
       "      <td>...</td>\n",
       "      <td>...</td>\n",
       "      <td>...</td>\n",
       "      <td>...</td>\n",
       "      <td>...</td>\n",
       "      <td>...</td>\n",
       "    </tr>\n",
       "    <tr>\n",
       "      <th>23694</th>\n",
       "      <td>9</td>\n",
       "      <td>9700000.0</td>\n",
       "      <td>133.81</td>\n",
       "      <td>2017-03-21T00:00:00</td>\n",
       "      <td>3</td>\n",
       "      <td>3.70</td>\n",
       "      <td>5.0</td>\n",
       "      <td>73.3</td>\n",
       "      <td>3</td>\n",
       "      <td>NaN</td>\n",
       "      <td>...</td>\n",
       "      <td>13.83</td>\n",
       "      <td>NaN</td>\n",
       "      <td>Санкт-Петербург</td>\n",
       "      <td>24665.0</td>\n",
       "      <td>4232.0</td>\n",
       "      <td>1.0</td>\n",
       "      <td>796.0</td>\n",
       "      <td>3.0</td>\n",
       "      <td>381.0</td>\n",
       "      <td>NaN</td>\n",
       "    </tr>\n",
       "    <tr>\n",
       "      <th>23695</th>\n",
       "      <td>14</td>\n",
       "      <td>3100000.0</td>\n",
       "      <td>59.00</td>\n",
       "      <td>2018-01-15T00:00:00</td>\n",
       "      <td>3</td>\n",
       "      <td>NaN</td>\n",
       "      <td>5.0</td>\n",
       "      <td>38.0</td>\n",
       "      <td>4</td>\n",
       "      <td>NaN</td>\n",
       "      <td>...</td>\n",
       "      <td>8.50</td>\n",
       "      <td>NaN</td>\n",
       "      <td>Тосно</td>\n",
       "      <td>NaN</td>\n",
       "      <td>NaN</td>\n",
       "      <td>NaN</td>\n",
       "      <td>NaN</td>\n",
       "      <td>NaN</td>\n",
       "      <td>NaN</td>\n",
       "      <td>45.0</td>\n",
       "    </tr>\n",
       "    <tr>\n",
       "      <th>23696</th>\n",
       "      <td>18</td>\n",
       "      <td>2500000.0</td>\n",
       "      <td>56.70</td>\n",
       "      <td>2018-02-11T00:00:00</td>\n",
       "      <td>2</td>\n",
       "      <td>NaN</td>\n",
       "      <td>3.0</td>\n",
       "      <td>29.7</td>\n",
       "      <td>1</td>\n",
       "      <td>NaN</td>\n",
       "      <td>...</td>\n",
       "      <td>NaN</td>\n",
       "      <td>NaN</td>\n",
       "      <td>село Рождествено</td>\n",
       "      <td>NaN</td>\n",
       "      <td>NaN</td>\n",
       "      <td>NaN</td>\n",
       "      <td>NaN</td>\n",
       "      <td>NaN</td>\n",
       "      <td>NaN</td>\n",
       "      <td>NaN</td>\n",
       "    </tr>\n",
       "    <tr>\n",
       "      <th>23697</th>\n",
       "      <td>13</td>\n",
       "      <td>11475000.0</td>\n",
       "      <td>76.75</td>\n",
       "      <td>2017-03-28T00:00:00</td>\n",
       "      <td>2</td>\n",
       "      <td>3.00</td>\n",
       "      <td>17.0</td>\n",
       "      <td>NaN</td>\n",
       "      <td>12</td>\n",
       "      <td>NaN</td>\n",
       "      <td>...</td>\n",
       "      <td>23.30</td>\n",
       "      <td>2.0</td>\n",
       "      <td>Санкт-Петербург</td>\n",
       "      <td>39140.0</td>\n",
       "      <td>10364.0</td>\n",
       "      <td>2.0</td>\n",
       "      <td>173.0</td>\n",
       "      <td>3.0</td>\n",
       "      <td>196.0</td>\n",
       "      <td>602.0</td>\n",
       "    </tr>\n",
       "    <tr>\n",
       "      <th>23698</th>\n",
       "      <td>4</td>\n",
       "      <td>1350000.0</td>\n",
       "      <td>32.30</td>\n",
       "      <td>2017-07-21T00:00:00</td>\n",
       "      <td>1</td>\n",
       "      <td>2.50</td>\n",
       "      <td>5.0</td>\n",
       "      <td>12.3</td>\n",
       "      <td>1</td>\n",
       "      <td>NaN</td>\n",
       "      <td>...</td>\n",
       "      <td>9.00</td>\n",
       "      <td>NaN</td>\n",
       "      <td>поселок Новый Учхоз</td>\n",
       "      <td>NaN</td>\n",
       "      <td>NaN</td>\n",
       "      <td>NaN</td>\n",
       "      <td>NaN</td>\n",
       "      <td>NaN</td>\n",
       "      <td>NaN</td>\n",
       "      <td>NaN</td>\n",
       "    </tr>\n",
       "  </tbody>\n",
       "</table>\n",
       "<p>23699 rows × 22 columns</p>\n",
       "</div>"
      ],
      "text/plain": [
       "       total_images  last_price  total_area first_day_exposition  rooms  \\\n",
       "0                20  13000000.0      108.00  2019-03-07T00:00:00      3   \n",
       "1                 7   3350000.0       40.40  2018-12-04T00:00:00      1   \n",
       "2                10   5196000.0       56.00  2015-08-20T00:00:00      2   \n",
       "3                 0  64900000.0      159.00  2015-07-24T00:00:00      3   \n",
       "4                 2  10000000.0      100.00  2018-06-19T00:00:00      2   \n",
       "...             ...         ...         ...                  ...    ...   \n",
       "23694             9   9700000.0      133.81  2017-03-21T00:00:00      3   \n",
       "23695            14   3100000.0       59.00  2018-01-15T00:00:00      3   \n",
       "23696            18   2500000.0       56.70  2018-02-11T00:00:00      2   \n",
       "23697            13  11475000.0       76.75  2017-03-28T00:00:00      2   \n",
       "23698             4   1350000.0       32.30  2017-07-21T00:00:00      1   \n",
       "\n",
       "       ceiling_height  floors_total  living_area  floor is_apartment  ...  \\\n",
       "0                2.70          16.0         51.0      8          NaN  ...   \n",
       "1                 NaN          11.0         18.6      1          NaN  ...   \n",
       "2                 NaN           5.0         34.3      4          NaN  ...   \n",
       "3                 NaN          14.0          NaN      9          NaN  ...   \n",
       "4                3.03          14.0         32.0     13          NaN  ...   \n",
       "...               ...           ...          ...    ...          ...  ...   \n",
       "23694            3.70           5.0         73.3      3          NaN  ...   \n",
       "23695             NaN           5.0         38.0      4          NaN  ...   \n",
       "23696             NaN           3.0         29.7      1          NaN  ...   \n",
       "23697            3.00          17.0          NaN     12          NaN  ...   \n",
       "23698            2.50           5.0         12.3      1          NaN  ...   \n",
       "\n",
       "       kitchen_area  balcony        locality_name  airports_nearest  \\\n",
       "0             25.00      NaN      Санкт-Петербург           18863.0   \n",
       "1             11.00      2.0       посёлок Шушары           12817.0   \n",
       "2              8.30      0.0      Санкт-Петербург           21741.0   \n",
       "3               NaN      0.0      Санкт-Петербург           28098.0   \n",
       "4             41.00      NaN      Санкт-Петербург           31856.0   \n",
       "...             ...      ...                  ...               ...   \n",
       "23694         13.83      NaN      Санкт-Петербург           24665.0   \n",
       "23695          8.50      NaN                Тосно               NaN   \n",
       "23696           NaN      NaN     село Рождествено               NaN   \n",
       "23697         23.30      2.0      Санкт-Петербург           39140.0   \n",
       "23698          9.00      NaN  поселок Новый Учхоз               NaN   \n",
       "\n",
       "      cityCenters_nearest  parks_around3000  parks_nearest  ponds_around3000  \\\n",
       "0                 16028.0               1.0          482.0               2.0   \n",
       "1                 18603.0               0.0            NaN               0.0   \n",
       "2                 13933.0               1.0           90.0               2.0   \n",
       "3                  6800.0               2.0           84.0               3.0   \n",
       "4                  8098.0               2.0          112.0               1.0   \n",
       "...                   ...               ...            ...               ...   \n",
       "23694              4232.0               1.0          796.0               3.0   \n",
       "23695                 NaN               NaN            NaN               NaN   \n",
       "23696                 NaN               NaN            NaN               NaN   \n",
       "23697             10364.0               2.0          173.0               3.0   \n",
       "23698                 NaN               NaN            NaN               NaN   \n",
       "\n",
       "       ponds_nearest  days_exposition  \n",
       "0              755.0              NaN  \n",
       "1                NaN             81.0  \n",
       "2              574.0            558.0  \n",
       "3              234.0            424.0  \n",
       "4               48.0            121.0  \n",
       "...              ...              ...  \n",
       "23694          381.0              NaN  \n",
       "23695            NaN             45.0  \n",
       "23696            NaN              NaN  \n",
       "23697          196.0            602.0  \n",
       "23698            NaN              NaN  \n",
       "\n",
       "[23699 rows x 22 columns]"
      ]
     },
     "metadata": {},
     "output_type": "display_data"
    },
    {
     "data": {
      "image/png": "[encoded data removed]",
      "text/plain": [
       "<Figure size 1080x1440 with 20 Axes>"
      ]
     },
     "metadata": {
      "needs_background": "light"
     },
     "output_type": "display_data"
    }
   ],
   "source": [
    "import pandas as pd\n",
    "from IPython.display import display\n",
    "data = pd.read_csv('/datasets/real_estate_data.csv',sep = '\\t')\n",
    "print(data.info()) #Выведем основную информацию о датафрейме\n",
    "data.hist(figsize=(15, 20)); #построим общие гистограммы\n",
    "data.head(15)\n",
    "data.isna().sum().sort_values(ascending=True)\n",
    "display(data)"
   ]
  },
  {
   "cell_type": "markdown",
   "metadata": {},
   "source": [
    "Больше всего пропусков в столбцах(is_apartment,parks_nearest,ponds_nearest,balcony)\n",
    "Путсые значения в is_apartments и balcony можно заполнить False и 0 соответсвенно, предположим что н количесвто людей не могуть понять что такое апартаменты, а в с balcony , предположим что просто нет балкона и мы моджем заполнить пропуски 0\n",
    "\n",
    "ceiling_high(высота потолков) - можем предположить что отсутсвие значений может быть из за того,что людям просто лень замерять потолки\n",
    "\n",
    "airports_nearest, cityCenters_nearest - оставлю без изменений, так как сложно судить такую информацию\n",
    "\n",
    "days_exposition - предположим что квартиры еще не сняилсь с объявления"
   ]
  },
  {
   "cell_type": "markdown",
   "metadata": {},
   "source": []
  },
  {
   "cell_type": "markdown",
   "metadata": {},
   "source": [
    "### Предобработка данных"
   ]
  },
  {
   "cell_type": "code",
   "execution_count": 2,
   "metadata": {
    "scrolled": true
   },
   "outputs": [
    {
     "name": "stdout",
     "output_type": "stream",
     "text": [
      "total_images                0\n",
      "last_price                  0\n",
      "total_area                  0\n",
      "first_day_exposition        0\n",
      "rooms                       0\n",
      "ceiling_height              0\n",
      "floors_total               86\n",
      "living_area                 0\n",
      "floor                       0\n",
      "is_apartment                0\n",
      "studio                      0\n",
      "open_plan                   0\n",
      "kitchen_area                0\n",
      "balcony                     0\n",
      "locality_name              49\n",
      "airports_nearest         5542\n",
      "cityCenters_nearest      5519\n",
      "parks_around3000            0\n",
      "parks_nearest           15620\n",
      "ponds_around3000            0\n",
      "ponds_nearest           14589\n",
      "days_exposition          3181\n",
      "dtype: int64\n",
      "1430202.6800000002\n",
      "1055278.9915119999\n"
     ]
    }
   ],
   "source": [
    "\n",
    "#print(data['is_apartment'].value_counts())\n",
    "data['is_apartment'] = data['is_apartment'].fillna(False).astype('bool')\n",
    "#print(data['is_apartment'].head(10))\n",
    "#print(data['ceiling_height'].head(10))\n",
    "#print(data['ceiling_height'].value_counts())\n",
    "\n",
    "#print(data['balcony'].value_counts())\n",
    "data['balcony'] = data['balcony'].fillna(0).astype('int')\n",
    "\n",
    " \n",
    "data['first_day_exposition'] = pd.to_datetime(data['first_day_exposition'], format = '%Y-%m-%d')\n",
    "data['last_price'] = data['last_price'].astype('int')\n",
    "\n",
    "data['ceiling_height'] = data['ceiling_height'].fillna(data['ceiling_height'].median())\n",
    "#print(data.isna().sum().sort_values(ascending=False))\n",
    "#print(data.duplicated().sum())\n",
    "\n",
    "#print(data['locality_name'].unique())\n",
    "#if 'посёлок' in row['locality_name']:\n",
    "    #row['locality_name'].replace('посёлок', '')\n",
    "    #return a + row['locality_name'] \n",
    "#elif 'поселок'in row['locality_name']:\n",
    "   # row['locality_name'].replace('поселок', '')\n",
    "   # return a + row['locality_name'] \n",
    "#print(data['locality_name'].unique())\n",
    "a = ['городской посёлок','поселок','посёлок','деревня','поселок городского типа',\n",
    "     'посёлок городского типа','село','городской поселок','городской поселок','поселок станции',\n",
    "     'садоводческое некоммерческое товарищество','городского типа','при железнодорожной станции','садовое товарищество',\n",
    "     'коттеджный','городской','станции']\n",
    "b =  ''\n",
    "data['locality_name'] = data['locality_name'].replace(a ,b , regex=True)\n",
    "#print(data['locality_name'].unique())\n",
    "data.loc[data['ceiling_height'] >19, 'ceiling_height'] = data['ceiling_height'] / 10\n",
    "data['ponds_around3000'] = data['ponds_around3000'].fillna(0)\n",
    "data['parks_around3000'] = data['parks_around3000'].fillna(0)\n",
    "\n",
    "data['kitchen_area'] = data['kitchen_area'].fillna(data['kitchen_area'].median())\n",
    "data['living_area'] = data['living_area'].fillna(data['living_area'].median())\n",
    "\n",
    "print(data.isna().sum())\n",
    "sum_total = data['total_area'].sum()\n",
    "print(sum_total)\n",
    "sum_ = data['kitchen_area'].sum() + data['living_area'].sum()\n",
    "print(sum_)"
   ]
  },
  {
   "cell_type": "markdown",
   "metadata": {},
   "source": [
    "Преобразовали данные, смогли выявить некотрые аномаии в стобце ceiling_height,в нескольких столбцах поменяли тип данных, чтобы легче было делать рассчеты. В столбце kitchen_area заполнили пропуски медианным значением. Заполнили пропуски там, где это было возможно и понятно. Изучили уникальные значения в столбце с названиями и устранили неявные дубликаты. "
   ]
  },
  {
   "cell_type": "markdown",
   "metadata": {},
   "source": [
    "я думаю недостающая площадь как раз скалдывается за счет балконов и прочих кв метров, которые не учитывались при living_area и kitchen_area"
   ]
  },
  {
   "cell_type": "markdown",
   "metadata": {},
   "source": [
    "### Посчитайте и добавьте в таблицу новые столбцы"
   ]
  },
  {
   "cell_type": "code",
   "execution_count": 3,
   "metadata": {
    "scrolled": true
   },
   "outputs": [
    {
     "name": "stdout",
     "output_type": "stream",
     "text": [
      "0        16.0\n",
      "1        19.0\n",
      "2        14.0\n",
      "3         7.0\n",
      "4         8.0\n",
      "         ... \n",
      "23694     4.0\n",
      "23695     NaN\n",
      "23696     NaN\n",
      "23697    10.0\n",
      "23698     NaN\n",
      "Name: km_cityCenters_nearest, Length: 23699, dtype: float64\n"
     ]
    }
   ],
   "source": [
    "data['price_one_kv_metr'] = (data['last_price'] / data['total_area'])\n",
    "#print(data['price_one_kv_metr'])\n",
    "#print(data['first_day_exposition'])\n",
    "data['weekday'] = data['first_day_exposition'].dt.weekday\n",
    "#print(data['weekday'])\n",
    "data['month'] = data['first_day_exposition'].dt.month\n",
    "#print(data['month'])\n",
    "data['year'] = data['first_day_exposition'].dt.year\n",
    "#print(data['year'])\n",
    "#print(data['floor'])\n",
    "def floor_type(row):\n",
    "    if row['floor'] == 1:\n",
    "        return 'первый'\n",
    "    if row['floor'] == row['floors_total']:\n",
    "        return 'последний' \n",
    "    else:\n",
    "        return 'другой'\n",
    "data['floor_type'] = data.apply(floor_type, axis=1)\n",
    "#print(data['floor_type'])\n",
    "\n",
    "data['km_cityCenters_nearest'] = round(data['cityCenters_nearest'] / 1000)\n",
    "\n",
    "print(data['km_cityCenters_nearest'])"
   ]
  },
  {
   "cell_type": "markdown",
   "metadata": {},
   "source": [
    "### Проведите исследовательский анализ данных"
   ]
  },
  {
   "cell_type": "code",
   "execution_count": 4,
   "metadata": {},
   "outputs": [
    {
     "data": {
      "text/plain": [
       "count    23699.000000\n",
       "mean        60.348651\n",
       "std         35.654083\n",
       "min         12.000000\n",
       "25%         40.000000\n",
       "50%         52.000000\n",
       "75%         69.900000\n",
       "max        900.000000\n",
       "Name: total_area, dtype: float64"
      ]
     },
     "execution_count": 4,
     "metadata": {},
     "output_type": "execute_result"
    },
    {
     "data": {
      "image/png": "[encoded data removed]",
      "text/plain": [
       "<Figure size 720x864 with 1 Axes>"
      ]
     },
     "metadata": {
      "needs_background": "light"
     },
     "output_type": "display_data"
    }
   ],
   "source": [
    "data['total_area'].hist(bins=30, range=(0,400),figsize=(10, 12))\n",
    "data['total_area'].describe()\n"
   ]
  },
  {
   "cell_type": "markdown",
   "metadata": {},
   "source": [
    "В среднем общая площадь квартиры составляет 60 кв м"
   ]
  },
  {
   "cell_type": "code",
   "execution_count": 5,
   "metadata": {},
   "outputs": [
    {
     "data": {
      "text/plain": [
       "count    23699.000000\n",
       "mean        34.099892\n",
       "std         21.162096\n",
       "min          2.000000\n",
       "25%         19.000000\n",
       "50%         30.000000\n",
       "75%         41.100000\n",
       "max        409.700000\n",
       "Name: living_area, dtype: float64"
      ]
     },
     "execution_count": 5,
     "metadata": {},
     "output_type": "execute_result"
    },
    {
     "data": {
      "image/png": "[encoded data removed]",
      "text/plain": [
       "<Figure size 720x864 with 1 Axes>"
      ]
     },
     "metadata": {
      "needs_background": "light"
     },
     "output_type": "display_data"
    }
   ],
   "source": [
    "data['living_area'].hist(bins = 30, range=(0,300),figsize=(10, 12))\n",
    "data['living_area'].describe()"
   ]
  },
  {
   "cell_type": "code",
   "execution_count": 6,
   "metadata": {},
   "outputs": [
    {
     "data": {
      "text/plain": [
       "count    23699.000000\n",
       "mean        10.428526\n",
       "std          5.631126\n",
       "min          1.300000\n",
       "25%          7.400000\n",
       "50%          9.100000\n",
       "75%         11.440000\n",
       "max        112.000000\n",
       "Name: kitchen_area, dtype: float64"
      ]
     },
     "execution_count": 6,
     "metadata": {},
     "output_type": "execute_result"
    },
    {
     "data": {
      "image/png": "[encoded data removed]",
      "text/plain": [
       "<Figure size 720x864 with 1 Axes>"
      ]
     },
     "metadata": {
      "needs_background": "light"
     },
     "output_type": "display_data"
    }
   ],
   "source": [
    "data['kitchen_area'].hist(figsize=(10, 12))\n",
    "data['kitchen_area'].describe()"
   ]
  },
  {
   "cell_type": "code",
   "execution_count": 7,
   "metadata": {},
   "outputs": [
    {
     "data": {
      "text/plain": [
       "count    2.369900e+04\n",
       "mean     6.541549e+06\n",
       "std      1.088701e+07\n",
       "min      1.219000e+04\n",
       "25%      3.400000e+06\n",
       "50%      4.650000e+06\n",
       "75%      6.800000e+06\n",
       "max      7.630000e+08\n",
       "Name: last_price, dtype: float64"
      ]
     },
     "execution_count": 7,
     "metadata": {},
     "output_type": "execute_result"
    },
    {
     "data": {
      "image/png": "[encoded data removed]",
      "text/plain": [
       "<Figure size 720x864 with 1 Axes>"
      ]
     },
     "metadata": {
      "needs_background": "light"
     },
     "output_type": "display_data"
    }
   ],
   "source": [
    "data['last_price'].hist(range=(0,30000000),figsize=(10, 12))\n",
    "data['last_price'].describe()"
   ]
  },
  {
   "cell_type": "markdown",
   "metadata": {},
   "source": [
    "В среднем общая стоимостть квартиры на рынке составляет 6,5 - 7 млн"
   ]
  },
  {
   "cell_type": "code",
   "execution_count": 8,
   "metadata": {},
   "outputs": [
    {
     "data": {
      "text/plain": [
       "count    23699.000000\n",
       "mean         2.070636\n",
       "std          1.078405\n",
       "min          0.000000\n",
       "25%          1.000000\n",
       "50%          2.000000\n",
       "75%          3.000000\n",
       "max         19.000000\n",
       "Name: rooms, dtype: float64"
      ]
     },
     "execution_count": 8,
     "metadata": {},
     "output_type": "execute_result"
    },
    {
     "data": {
      "image/png": "[encoded data removed]",
      "text/plain": [
       "<Figure size 720x864 with 1 Axes>"
      ]
     },
     "metadata": {
      "needs_background": "light"
     },
     "output_type": "display_data"
    }
   ],
   "source": [
    "data['rooms'].hist(bins= 30, range=(0, 13),figsize=(10, 12))\n",
    "data['rooms'].describe()"
   ]
  },
  {
   "cell_type": "markdown",
   "metadata": {},
   "source": [
    "Большиство квартир имеют 1 или 2 комнаты, но есть и малая часть квартир с 5-ю и больше комнатами"
   ]
  },
  {
   "cell_type": "code",
   "execution_count": 9,
   "metadata": {},
   "outputs": [
    {
     "data": {
      "text/plain": [
       "count    23699.000000\n",
       "mean         2.698721\n",
       "std          0.253208\n",
       "min          1.000000\n",
       "25%          2.600000\n",
       "50%          2.650000\n",
       "75%          2.700000\n",
       "max         14.000000\n",
       "Name: ceiling_height, dtype: float64"
      ]
     },
     "execution_count": 9,
     "metadata": {},
     "output_type": "execute_result"
    },
    {
     "data": {
      "image/png": "[encoded data removed]",
      "text/plain": [
       "<Figure size 360x504 with 1 Axes>"
      ]
     },
     "metadata": {
      "needs_background": "light"
     },
     "output_type": "display_data"
    }
   ],
   "source": [
    "data['ceiling_height'].hist(bins=30, range=(0,5),figsize=(5, 7))\n",
    "data['ceiling_height'].describe()"
   ]
  },
  {
   "cell_type": "markdown",
   "metadata": {},
   "source": [
    "В среднем квартиры имеют потолки высотой 2,7"
   ]
  },
  {
   "cell_type": "code",
   "execution_count": 10,
   "metadata": {},
   "outputs": [
    {
     "data": {
      "text/plain": [
       "<AxesSubplot:>"
      ]
     },
     "execution_count": 10,
     "metadata": {},
     "output_type": "execute_result"
    },
    {
     "data": {
      "image/png": "[encoded data removed]",
      "text/plain": [
       "<Figure size 432x576 with 1 Axes>"
      ]
     },
     "metadata": {
      "needs_background": "light"
     },
     "output_type": "display_data"
    }
   ],
   "source": [
    "data['floor'].hist(figsize=(6, 8))"
   ]
  },
  {
   "cell_type": "code",
   "execution_count": 11,
   "metadata": {},
   "outputs": [
    {
     "data": {
      "text/plain": [
       "<AxesSubplot:>"
      ]
     },
     "execution_count": 11,
     "metadata": {},
     "output_type": "execute_result"
    },
    {
     "data": {
      "image/png": "[encoded data removed]",
      "text/plain": [
       "<Figure size 360x504 with 1 Axes>"
      ]
     },
     "metadata": {
      "needs_background": "light"
     },
     "output_type": "display_data"
    }
   ],
   "source": [
    "data['floor_type'].hist(bins=3,figsize=(5, 7))"
   ]
  },
  {
   "cell_type": "code",
   "execution_count": 12,
   "metadata": {},
   "outputs": [
    {
     "data": {
      "text/plain": [
       "<AxesSubplot:>"
      ]
     },
     "execution_count": 12,
     "metadata": {},
     "output_type": "execute_result"
    },
    {
     "data": {
      "image/png": "[encoded data removed]",
      "text/plain": [
       "<Figure size 432x576 with 1 Axes>"
      ]
     },
     "metadata": {
      "needs_background": "light"
     },
     "output_type": "display_data"
    }
   ],
   "source": [
    "data['floors_total'].hist(bins = 30, range=(0,50),figsize=(6, 8))"
   ]
  },
  {
   "cell_type": "markdown",
   "metadata": {},
   "source": [
    "Большиство квартир продаются в домах, где ментше 20 этажей"
   ]
  },
  {
   "cell_type": "code",
   "execution_count": 13,
   "metadata": {},
   "outputs": [
    {
     "data": {
      "text/plain": [
       "<AxesSubplot:>"
      ]
     },
     "execution_count": 13,
     "metadata": {},
     "output_type": "execute_result"
    },
    {
     "data": {
      "image/png": "[encoded data removed]",
      "text/plain": [
       "<Figure size 432x576 with 1 Axes>"
      ]
     },
     "metadata": {
      "needs_background": "light"
     },
     "output_type": "display_data"
    }
   ],
   "source": [
    "data['cityCenters_nearest'].hist(bins=30, figsize=(6, 8))"
   ]
  },
  {
   "cell_type": "markdown",
   "metadata": {},
   "source": [
    "Большая часть квартир находится в 20 км от центра"
   ]
  },
  {
   "cell_type": "code",
   "execution_count": 14,
   "metadata": {},
   "outputs": [
    {
     "data": {
      "text/plain": [
       "<AxesSubplot:>"
      ]
     },
     "execution_count": 14,
     "metadata": {},
     "output_type": "execute_result"
    },
    {
     "data": {
      "image/png": "[encoded data removed]",
      "text/plain": [
       "<Figure size 432x576 with 1 Axes>"
      ]
     },
     "metadata": {
      "needs_background": "light"
     },
     "output_type": "display_data"
    }
   ],
   "source": [
    "data['airports_nearest'].hist(bins=30, figsize=(6, 8))"
   ]
  },
  {
   "cell_type": "markdown",
   "metadata": {},
   "source": [
    "Большая часть квартир имеют аэропорт в пределах 40 км"
   ]
  },
  {
   "cell_type": "code",
   "execution_count": 15,
   "metadata": {},
   "outputs": [
    {
     "data": {
      "text/plain": [
       "<AxesSubplot:>"
      ]
     },
     "execution_count": 15,
     "metadata": {},
     "output_type": "execute_result"
    },
    {
     "data": {
      "image/png": "[encoded data removed]",
      "text/plain": [
       "<Figure size 720x864 with 1 Axes>"
      ]
     },
     "metadata": {
      "needs_background": "light"
     },
     "output_type": "display_data"
    }
   ],
   "source": [
    "data['parks_nearest'].hist(bins=30, figsize=(10, 12))"
   ]
  },
  {
   "cell_type": "markdown",
   "metadata": {},
   "source": [
    "80% квартир могут похвастаться наличием парка прям около дома или в ближайшем километре от дома"
   ]
  },
  {
   "cell_type": "code",
   "execution_count": 16,
   "metadata": {},
   "outputs": [
    {
     "data": {
      "text/plain": [
       "<AxesSubplot:>"
      ]
     },
     "execution_count": 16,
     "metadata": {},
     "output_type": "execute_result"
    },
    {
     "data": {
      "image/png": "[encoded data removed]",
      "text/plain": [
       "<Figure size 360x504 with 1 Axes>"
      ]
     },
     "metadata": {
      "needs_background": "light"
     },
     "output_type": "display_data"
    }
   ],
   "source": [
    "data['weekday'].hist(bins= 30, range=(0,6),figsize=(5, 7))"
   ]
  },
  {
   "cell_type": "code",
   "execution_count": 17,
   "metadata": {},
   "outputs": [
    {
     "data": {
      "text/plain": [
       "<AxesSubplot:>"
      ]
     },
     "execution_count": 17,
     "metadata": {},
     "output_type": "execute_result"
    },
    {
     "data": {
      "image/png": "[encoded data removed]",
      "text/plain": [
       "<Figure size 360x504 with 1 Axes>"
      ]
     },
     "metadata": {
      "needs_background": "light"
     },
     "output_type": "display_data"
    }
   ],
   "source": [
    "data['month'].hist(bins = 30 ,figsize=(5, 7))"
   ]
  },
  {
   "cell_type": "markdown",
   "metadata": {},
   "source": [
    "В выходные дни меньеш всего публикаций, такая анамалия замечается и в середине года,перед летом"
   ]
  },
  {
   "cell_type": "code",
   "execution_count": 39,
   "metadata": {},
   "outputs": [
    {
     "data": {
      "text/plain": [
       "count    19999.000000\n",
       "mean       177.853093\n",
       "std        216.497391\n",
       "min          1.000000\n",
       "25%         44.000000\n",
       "50%         94.000000\n",
       "75%        227.000000\n",
       "max       1580.000000\n",
       "Name: days_exposition, dtype: float64"
      ]
     },
     "execution_count": 39,
     "metadata": {},
     "output_type": "execute_result"
    },
    {
     "data": {
      "image/png": "[encoded data removed]",
      "text/plain": [
       "<Figure size 720x864 with 1 Axes>"
      ]
     },
     "metadata": {
      "needs_background": "light"
     },
     "output_type": "display_data"
    }
   ],
   "source": [
    "data['days_exposition'].hist(bins=50,range=(0,200),figsize=(10, 12))\n",
    "\n",
    "data['days_exposition'].describe()"
   ]
  },
  {
   "cell_type": "code",
   "execution_count": 3,
   "metadata": {},
   "outputs": [
    {
     "data": {
      "text/plain": [
       "count    20518.000000\n",
       "mean       180.888634\n",
       "std        219.727988\n",
       "min          1.000000\n",
       "25%         45.000000\n",
       "50%         95.000000\n",
       "75%        232.000000\n",
       "max       1580.000000\n",
       "Name: days_exposition, dtype: float64"
      ]
     },
     "execution_count": 3,
     "metadata": {},
     "output_type": "execute_result"
    },
    {
     "data": {
      "image/png": "[encoded data removed]",
      "text/plain": [
       "<Figure size 720x864 with 1 Axes>"
      ]
     },
     "metadata": {
      "needs_background": "light"
     },
     "output_type": "display_data"
    }
   ],
   "source": [
    "data['days_exposition'].hist(bins=50,range=(0,1000),figsize=(10, 12))\n",
    "data['days_exposition'].describe()"
   ]
  },
  {
   "cell_type": "code",
   "execution_count": 2,
   "metadata": {},
   "outputs": [
    {
     "data": {
      "text/plain": [
       "count    20518.000000\n",
       "mean       180.888634\n",
       "std        219.727988\n",
       "min          1.000000\n",
       "25%         45.000000\n",
       "50%         95.000000\n",
       "75%        232.000000\n",
       "max       1580.000000\n",
       "Name: days_exposition, dtype: float64"
      ]
     },
     "execution_count": 2,
     "metadata": {},
     "output_type": "execute_result"
    },
    {
     "data": {
      "image/png": "[encoded data removed]",
      "text/plain": [
       "<Figure size 576x432 with 1 Axes>"
      ]
     },
     "metadata": {
      "needs_background": "light"
     },
     "output_type": "display_data"
    }
   ],
   "source": [
    "data['days_exposition'].hist(bins=50,range=(0,100),figsize=(8, 6))\n",
    "data['days_exposition'].describe()"
   ]
  },
  {
   "cell_type": "markdown",
   "metadata": {},
   "source": [
    "Похоже, что подавляющее число объявлений были закрыты в первый год после публикации. Среднее число дней до снятия составляет 180 дней, а медианное 95 дня."
   ]
  },
  {
   "cell_type": "markdown",
   "metadata": {},
   "source": [
    "быстыре продажи можно считать квартиры которые продались в течении 45 дней. Долгими можно считать квартиры которые не продаются 232+ дней, можно преположить что эти квартиры находятся в элитном диапазоне цен, которые доступны меньшему количесвто человек, чем среднестатичтическая квартира допустим в новостройке. Выбивающиеся значения, я предположу что это снятие квартир с продаж каждые 15-20 дней, думаю что люди забывают снять квартиры с продаж или этим занимается специальный человек который раз в 15-20 дней снимает проданные квартиры с продаж."
   ]
  },
  {
   "cell_type": "markdown",
   "metadata": {},
   "source": [
    "<div class=\"alert alert-success\">\n",
    "<h2> Комментарий ревьюера v3 <a class=\"tocSkip\"> </h2>\n",
    "\n",
    "<b>Все супер!👍:</b> ВОт теперь я с тобой согласен!"
   ]
  },
  {
   "cell_type": "code",
   "execution_count": 19,
   "metadata": {},
   "outputs": [
    {
     "data": {
      "text/plain": [
       "<AxesSubplot:xlabel='last_price', ylabel='total_area'>"
      ]
     },
     "execution_count": 19,
     "metadata": {},
     "output_type": "execute_result"
    },
    {
     "data": {
      "image/png": "[encoded data removed]",
      "text/plain": [
       "<Figure size 576x432 with 2 Axes>"
      ]
     },
     "metadata": {
      "needs_background": "light"
     },
     "output_type": "display_data"
    }
   ],
   "source": [
    "data = data.query('last_price < 20000000')\n",
    "data.plot(x='last_price', y='total_area', kind='hexbin', gridsize=20, figsize=(8, 6), sharex=False, grid=True)"
   ]
  },
  {
   "cell_type": "markdown",
   "metadata": {},
   "source": [
    "Зависимость довольно значимая, хоть и разброс достаточно велик."
   ]
  },
  {
   "cell_type": "code",
   "execution_count": 20,
   "metadata": {},
   "outputs": [
    {
     "data": {
      "text/plain": [
       "<AxesSubplot:xlabel='last_price', ylabel='living_area'>"
      ]
     },
     "execution_count": 20,
     "metadata": {},
     "output_type": "execute_result"
    },
    {
     "data": {
      "image/png": "[encoded data removed]",
      "text/plain": [
       "<Figure size 576x432 with 2 Axes>"
      ]
     },
     "metadata": {
      "needs_background": "light"
     },
     "output_type": "display_data"
    }
   ],
   "source": [
    "data.plot(x='last_price', y='living_area', kind='hexbin', gridsize=20, figsize=(8, 6), sharex=False, grid=True)"
   ]
  },
  {
   "cell_type": "code",
   "execution_count": 21,
   "metadata": {},
   "outputs": [
    {
     "data": {
      "text/plain": [
       "<AxesSubplot:xlabel='last_price', ylabel='kitchen_area'>"
      ]
     },
     "execution_count": 21,
     "metadata": {},
     "output_type": "execute_result"
    },
    {
     "data": {
      "image/png": "[encoded data removed]",
      "text/plain": [
       "<Figure size 504x360 with 2 Axes>"
      ]
     },
     "metadata": {
      "needs_background": "light"
     },
     "output_type": "display_data"
    }
   ],
   "source": [
    "data.plot(x='last_price', y='kitchen_area', kind='hexbin', gridsize=20, figsize=(7, 5), sharex=False, grid=True)"
   ]
  },
  {
   "cell_type": "code",
   "execution_count": 22,
   "metadata": {},
   "outputs": [
    {
     "data": {
      "text/plain": [
       "<AxesSubplot:xlabel='rooms'>"
      ]
     },
     "execution_count": 22,
     "metadata": {},
     "output_type": "execute_result"
    },
    {
     "data": {
      "image/png": "[encoded data removed]",
      "text/plain": [
       "<Figure size 504x360 with 1 Axes>"
      ]
     },
     "metadata": {
      "needs_background": "light"
     },
     "output_type": "display_data"
    }
   ],
   "source": [
    "data.pivot_table(index='rooms', values='last_price').plot(kind='bar',figsize=(7,5))\n"
   ]
  },
  {
   "cell_type": "code",
   "execution_count": 23,
   "metadata": {},
   "outputs": [
    {
     "data": {
      "image/png": "[encoded data removed]",
      "text/plain": [
       "<Figure size 576x432 with 1 Axes>"
      ]
     },
     "metadata": {
      "needs_background": "light"
     },
     "output_type": "display_data"
    }
   ],
   "source": [
    "(data.pivot_table(index='floor_type', values='last_price').\n",
    " plot(grid=True, style='o-',figsize=(8, 6)));"
   ]
  },
  {
   "cell_type": "code",
   "execution_count": 24,
   "metadata": {},
   "outputs": [
    {
     "data": {
      "text/plain": [
       "<AxesSubplot:xlabel='weekday'>"
      ]
     },
     "execution_count": 24,
     "metadata": {},
     "output_type": "execute_result"
    },
    {
     "data": {
      "image/png": "[encoded data removed]",
      "text/plain": [
       "<Figure size 504x360 with 1 Axes>"
      ]
     },
     "metadata": {
      "needs_background": "light"
     },
     "output_type": "display_data"
    }
   ],
   "source": [
    "data.pivot_table(index='weekday', values='last_price').plot(kind='bar',figsize=(7,5))\n"
   ]
  },
  {
   "cell_type": "code",
   "execution_count": 25,
   "metadata": {},
   "outputs": [
    {
     "data": {
      "text/plain": [
       "<AxesSubplot:xlabel='month'>"
      ]
     },
     "execution_count": 25,
     "metadata": {},
     "output_type": "execute_result"
    },
    {
     "data": {
      "image/png": "[encoded data removed]",
      "text/plain": [
       "<Figure size 504x360 with 1 Axes>"
      ]
     },
     "metadata": {
      "needs_background": "light"
     },
     "output_type": "display_data"
    }
   ],
   "source": [
    "data.pivot_table(index='month', values='last_price').plot(kind='bar',figsize=(7,5))\n"
   ]
  },
  {
   "cell_type": "code",
   "execution_count": 26,
   "metadata": {},
   "outputs": [
    {
     "data": {
      "text/plain": [
       "<AxesSubplot:xlabel='year'>"
      ]
     },
     "execution_count": 26,
     "metadata": {},
     "output_type": "execute_result"
    },
    {
     "data": {
      "image/png": "[encoded data removed]",
      "text/plain": [
       "<Figure size 504x360 with 1 Axes>"
      ]
     },
     "metadata": {
      "needs_background": "light"
     },
     "output_type": "display_data"
    }
   ],
   "source": [
    "data.pivot_table(index='year', values='last_price').plot(kind='bar',figsize=(7,5))\n"
   ]
  },
  {
   "cell_type": "markdown",
   "metadata": {},
   "source": [
    "Нет взаимосвязи. Корреляция стремится к нулю."
   ]
  },
  {
   "cell_type": "code",
   "execution_count": 27,
   "metadata": {},
   "outputs": [
    {
     "data": {
      "text/html": [
       "<div>\n",
       "<style scoped>\n",
       "    .dataframe tbody tr th:only-of-type {\n",
       "        vertical-align: middle;\n",
       "    }\n",
       "\n",
       "    .dataframe tbody tr th {\n",
       "        vertical-align: top;\n",
       "    }\n",
       "\n",
       "    .dataframe thead th {\n",
       "        text-align: right;\n",
       "    }\n",
       "</style>\n",
       "<table border=\"1\" class=\"dataframe\">\n",
       "  <thead>\n",
       "    <tr style=\"text-align: right;\">\n",
       "      <th></th>\n",
       "      <th>total_images</th>\n",
       "      <th>last_price</th>\n",
       "      <th>total_area</th>\n",
       "      <th>first_day_exposition</th>\n",
       "      <th>rooms</th>\n",
       "      <th>ceiling_height</th>\n",
       "      <th>floors_total</th>\n",
       "      <th>living_area</th>\n",
       "      <th>floor</th>\n",
       "      <th>is_apartment</th>\n",
       "      <th>...</th>\n",
       "      <th>parks_nearest</th>\n",
       "      <th>ponds_around3000</th>\n",
       "      <th>ponds_nearest</th>\n",
       "      <th>days_exposition</th>\n",
       "      <th>price_one_kv_metr</th>\n",
       "      <th>weekday</th>\n",
       "      <th>month</th>\n",
       "      <th>year</th>\n",
       "      <th>floor_type</th>\n",
       "      <th>km_cityCenters_nearest</th>\n",
       "    </tr>\n",
       "  </thead>\n",
       "  <tbody>\n",
       "    <tr>\n",
       "      <th>0</th>\n",
       "      <td>20</td>\n",
       "      <td>13000000</td>\n",
       "      <td>108.00</td>\n",
       "      <td>2019-03-07</td>\n",
       "      <td>3</td>\n",
       "      <td>2.70</td>\n",
       "      <td>16.0</td>\n",
       "      <td>51.0</td>\n",
       "      <td>8</td>\n",
       "      <td>False</td>\n",
       "      <td>...</td>\n",
       "      <td>482.0</td>\n",
       "      <td>2.0</td>\n",
       "      <td>755.0</td>\n",
       "      <td>NaN</td>\n",
       "      <td>120370.370370</td>\n",
       "      <td>3</td>\n",
       "      <td>3</td>\n",
       "      <td>2019</td>\n",
       "      <td>другой</td>\n",
       "      <td>16.0</td>\n",
       "    </tr>\n",
       "    <tr>\n",
       "      <th>1</th>\n",
       "      <td>7</td>\n",
       "      <td>3350000</td>\n",
       "      <td>40.40</td>\n",
       "      <td>2018-12-04</td>\n",
       "      <td>1</td>\n",
       "      <td>2.65</td>\n",
       "      <td>11.0</td>\n",
       "      <td>18.6</td>\n",
       "      <td>1</td>\n",
       "      <td>False</td>\n",
       "      <td>...</td>\n",
       "      <td>NaN</td>\n",
       "      <td>0.0</td>\n",
       "      <td>NaN</td>\n",
       "      <td>81.0</td>\n",
       "      <td>82920.792079</td>\n",
       "      <td>1</td>\n",
       "      <td>12</td>\n",
       "      <td>2018</td>\n",
       "      <td>первый</td>\n",
       "      <td>19.0</td>\n",
       "    </tr>\n",
       "    <tr>\n",
       "      <th>2</th>\n",
       "      <td>10</td>\n",
       "      <td>5196000</td>\n",
       "      <td>56.00</td>\n",
       "      <td>2015-08-20</td>\n",
       "      <td>2</td>\n",
       "      <td>2.65</td>\n",
       "      <td>5.0</td>\n",
       "      <td>34.3</td>\n",
       "      <td>4</td>\n",
       "      <td>False</td>\n",
       "      <td>...</td>\n",
       "      <td>90.0</td>\n",
       "      <td>2.0</td>\n",
       "      <td>574.0</td>\n",
       "      <td>558.0</td>\n",
       "      <td>92785.714286</td>\n",
       "      <td>3</td>\n",
       "      <td>8</td>\n",
       "      <td>2015</td>\n",
       "      <td>другой</td>\n",
       "      <td>14.0</td>\n",
       "    </tr>\n",
       "    <tr>\n",
       "      <th>4</th>\n",
       "      <td>2</td>\n",
       "      <td>10000000</td>\n",
       "      <td>100.00</td>\n",
       "      <td>2018-06-19</td>\n",
       "      <td>2</td>\n",
       "      <td>3.03</td>\n",
       "      <td>14.0</td>\n",
       "      <td>32.0</td>\n",
       "      <td>13</td>\n",
       "      <td>False</td>\n",
       "      <td>...</td>\n",
       "      <td>112.0</td>\n",
       "      <td>1.0</td>\n",
       "      <td>48.0</td>\n",
       "      <td>121.0</td>\n",
       "      <td>100000.000000</td>\n",
       "      <td>1</td>\n",
       "      <td>6</td>\n",
       "      <td>2018</td>\n",
       "      <td>другой</td>\n",
       "      <td>8.0</td>\n",
       "    </tr>\n",
       "    <tr>\n",
       "      <th>5</th>\n",
       "      <td>10</td>\n",
       "      <td>2890000</td>\n",
       "      <td>30.40</td>\n",
       "      <td>2018-09-10</td>\n",
       "      <td>1</td>\n",
       "      <td>2.65</td>\n",
       "      <td>12.0</td>\n",
       "      <td>14.4</td>\n",
       "      <td>5</td>\n",
       "      <td>False</td>\n",
       "      <td>...</td>\n",
       "      <td>NaN</td>\n",
       "      <td>0.0</td>\n",
       "      <td>NaN</td>\n",
       "      <td>55.0</td>\n",
       "      <td>95065.789474</td>\n",
       "      <td>0</td>\n",
       "      <td>9</td>\n",
       "      <td>2018</td>\n",
       "      <td>другой</td>\n",
       "      <td>NaN</td>\n",
       "    </tr>\n",
       "    <tr>\n",
       "      <th>...</th>\n",
       "      <td>...</td>\n",
       "      <td>...</td>\n",
       "      <td>...</td>\n",
       "      <td>...</td>\n",
       "      <td>...</td>\n",
       "      <td>...</td>\n",
       "      <td>...</td>\n",
       "      <td>...</td>\n",
       "      <td>...</td>\n",
       "      <td>...</td>\n",
       "      <td>...</td>\n",
       "      <td>...</td>\n",
       "      <td>...</td>\n",
       "      <td>...</td>\n",
       "      <td>...</td>\n",
       "      <td>...</td>\n",
       "      <td>...</td>\n",
       "      <td>...</td>\n",
       "      <td>...</td>\n",
       "      <td>...</td>\n",
       "      <td>...</td>\n",
       "    </tr>\n",
       "    <tr>\n",
       "      <th>23694</th>\n",
       "      <td>9</td>\n",
       "      <td>9700000</td>\n",
       "      <td>133.81</td>\n",
       "      <td>2017-03-21</td>\n",
       "      <td>3</td>\n",
       "      <td>3.70</td>\n",
       "      <td>5.0</td>\n",
       "      <td>73.3</td>\n",
       "      <td>3</td>\n",
       "      <td>False</td>\n",
       "      <td>...</td>\n",
       "      <td>796.0</td>\n",
       "      <td>3.0</td>\n",
       "      <td>381.0</td>\n",
       "      <td>NaN</td>\n",
       "      <td>72490.845228</td>\n",
       "      <td>1</td>\n",
       "      <td>3</td>\n",
       "      <td>2017</td>\n",
       "      <td>другой</td>\n",
       "      <td>4.0</td>\n",
       "    </tr>\n",
       "    <tr>\n",
       "      <th>23695</th>\n",
       "      <td>14</td>\n",
       "      <td>3100000</td>\n",
       "      <td>59.00</td>\n",
       "      <td>2018-01-15</td>\n",
       "      <td>3</td>\n",
       "      <td>2.65</td>\n",
       "      <td>5.0</td>\n",
       "      <td>38.0</td>\n",
       "      <td>4</td>\n",
       "      <td>False</td>\n",
       "      <td>...</td>\n",
       "      <td>NaN</td>\n",
       "      <td>0.0</td>\n",
       "      <td>NaN</td>\n",
       "      <td>45.0</td>\n",
       "      <td>52542.372881</td>\n",
       "      <td>0</td>\n",
       "      <td>1</td>\n",
       "      <td>2018</td>\n",
       "      <td>другой</td>\n",
       "      <td>NaN</td>\n",
       "    </tr>\n",
       "    <tr>\n",
       "      <th>23696</th>\n",
       "      <td>18</td>\n",
       "      <td>2500000</td>\n",
       "      <td>56.70</td>\n",
       "      <td>2018-02-11</td>\n",
       "      <td>2</td>\n",
       "      <td>2.65</td>\n",
       "      <td>3.0</td>\n",
       "      <td>29.7</td>\n",
       "      <td>1</td>\n",
       "      <td>False</td>\n",
       "      <td>...</td>\n",
       "      <td>NaN</td>\n",
       "      <td>0.0</td>\n",
       "      <td>NaN</td>\n",
       "      <td>NaN</td>\n",
       "      <td>44091.710758</td>\n",
       "      <td>6</td>\n",
       "      <td>2</td>\n",
       "      <td>2018</td>\n",
       "      <td>первый</td>\n",
       "      <td>NaN</td>\n",
       "    </tr>\n",
       "    <tr>\n",
       "      <th>23697</th>\n",
       "      <td>13</td>\n",
       "      <td>11475000</td>\n",
       "      <td>76.75</td>\n",
       "      <td>2017-03-28</td>\n",
       "      <td>2</td>\n",
       "      <td>3.00</td>\n",
       "      <td>17.0</td>\n",
       "      <td>30.0</td>\n",
       "      <td>12</td>\n",
       "      <td>False</td>\n",
       "      <td>...</td>\n",
       "      <td>173.0</td>\n",
       "      <td>3.0</td>\n",
       "      <td>196.0</td>\n",
       "      <td>602.0</td>\n",
       "      <td>149511.400651</td>\n",
       "      <td>1</td>\n",
       "      <td>3</td>\n",
       "      <td>2017</td>\n",
       "      <td>другой</td>\n",
       "      <td>10.0</td>\n",
       "    </tr>\n",
       "    <tr>\n",
       "      <th>23698</th>\n",
       "      <td>4</td>\n",
       "      <td>1350000</td>\n",
       "      <td>32.30</td>\n",
       "      <td>2017-07-21</td>\n",
       "      <td>1</td>\n",
       "      <td>2.50</td>\n",
       "      <td>5.0</td>\n",
       "      <td>12.3</td>\n",
       "      <td>1</td>\n",
       "      <td>False</td>\n",
       "      <td>...</td>\n",
       "      <td>NaN</td>\n",
       "      <td>0.0</td>\n",
       "      <td>NaN</td>\n",
       "      <td>NaN</td>\n",
       "      <td>41795.665635</td>\n",
       "      <td>4</td>\n",
       "      <td>7</td>\n",
       "      <td>2017</td>\n",
       "      <td>первый</td>\n",
       "      <td>NaN</td>\n",
       "    </tr>\n",
       "  </tbody>\n",
       "</table>\n",
       "<p>22976 rows × 28 columns</p>\n",
       "</div>"
      ],
      "text/plain": [
       "       total_images  last_price  total_area first_day_exposition  rooms  \\\n",
       "0                20    13000000      108.00           2019-03-07      3   \n",
       "1                 7     3350000       40.40           2018-12-04      1   \n",
       "2                10     5196000       56.00           2015-08-20      2   \n",
       "4                 2    10000000      100.00           2018-06-19      2   \n",
       "5                10     2890000       30.40           2018-09-10      1   \n",
       "...             ...         ...         ...                  ...    ...   \n",
       "23694             9     9700000      133.81           2017-03-21      3   \n",
       "23695            14     3100000       59.00           2018-01-15      3   \n",
       "23696            18     2500000       56.70           2018-02-11      2   \n",
       "23697            13    11475000       76.75           2017-03-28      2   \n",
       "23698             4     1350000       32.30           2017-07-21      1   \n",
       "\n",
       "       ceiling_height  floors_total  living_area  floor  is_apartment  ...  \\\n",
       "0                2.70          16.0         51.0      8         False  ...   \n",
       "1                2.65          11.0         18.6      1         False  ...   \n",
       "2                2.65           5.0         34.3      4         False  ...   \n",
       "4                3.03          14.0         32.0     13         False  ...   \n",
       "5                2.65          12.0         14.4      5         False  ...   \n",
       "...               ...           ...          ...    ...           ...  ...   \n",
       "23694            3.70           5.0         73.3      3         False  ...   \n",
       "23695            2.65           5.0         38.0      4         False  ...   \n",
       "23696            2.65           3.0         29.7      1         False  ...   \n",
       "23697            3.00          17.0         30.0     12         False  ...   \n",
       "23698            2.50           5.0         12.3      1         False  ...   \n",
       "\n",
       "       parks_nearest  ponds_around3000  ponds_nearest  days_exposition  \\\n",
       "0              482.0               2.0          755.0              NaN   \n",
       "1                NaN               0.0            NaN             81.0   \n",
       "2               90.0               2.0          574.0            558.0   \n",
       "4              112.0               1.0           48.0            121.0   \n",
       "5                NaN               0.0            NaN             55.0   \n",
       "...              ...               ...            ...              ...   \n",
       "23694          796.0               3.0          381.0              NaN   \n",
       "23695            NaN               0.0            NaN             45.0   \n",
       "23696            NaN               0.0            NaN              NaN   \n",
       "23697          173.0               3.0          196.0            602.0   \n",
       "23698            NaN               0.0            NaN              NaN   \n",
       "\n",
       "      price_one_kv_metr  weekday  month  year  floor_type  \\\n",
       "0         120370.370370        3      3  2019      другой   \n",
       "1          82920.792079        1     12  2018      первый   \n",
       "2          92785.714286        3      8  2015      другой   \n",
       "4         100000.000000        1      6  2018      другой   \n",
       "5          95065.789474        0      9  2018      другой   \n",
       "...                 ...      ...    ...   ...         ...   \n",
       "23694      72490.845228        1      3  2017      другой   \n",
       "23695      52542.372881        0      1  2018      другой   \n",
       "23696      44091.710758        6      2  2018      первый   \n",
       "23697     149511.400651        1      3  2017      другой   \n",
       "23698      41795.665635        4      7  2017      первый   \n",
       "\n",
       "       km_cityCenters_nearest  \n",
       "0                        16.0  \n",
       "1                        19.0  \n",
       "2                        14.0  \n",
       "4                         8.0  \n",
       "5                         NaN  \n",
       "...                       ...  \n",
       "23694                     4.0  \n",
       "23695                     NaN  \n",
       "23696                     NaN  \n",
       "23697                    10.0  \n",
       "23698                     NaN  \n",
       "\n",
       "[22976 rows x 28 columns]"
      ]
     },
     "metadata": {},
     "output_type": "display_data"
    }
   ],
   "source": [
    "display(data)"
   ]
  },
  {
   "cell_type": "code",
   "execution_count": 43,
   "metadata": {},
   "outputs": [
    {
     "name": "stdout",
     "output_type": "stream",
     "text": [
      "                 count           mean\n",
      "locality_name                        \n",
      "Санкт-Петербург  15017  108608.057791\n",
      " Мурино            556   85681.762601\n",
      " Шушары            440   78677.364217\n",
      "Всеволожск         397   67214.252635\n",
      "Пушкин             360  101788.572053\n",
      "Колпино            337   75333.295801\n",
      " Парголово         327   90175.913458\n",
      "Гатчина            307   68746.146763\n",
      " Кудрово           299   92473.547576\n",
      "Выборг             237   58141.909153\n"
     ]
    }
   ],
   "source": [
    "price = data.pivot_table(index='locality_name',values='price_one_kv_metr',aggfunc=['count','mean'])\n",
    "price.columns = ['count', 'mean']\n",
    "price = price.sort_values('count', ascending=False).head(10)\n",
    "\n",
    "print(price)"
   ]
  },
  {
   "cell_type": "code",
   "execution_count": null,
   "metadata": {},
   "outputs": [],
   "source": []
  },
  {
   "cell_type": "code",
   "execution_count": 44,
   "metadata": {},
   "outputs": [
    {
     "name": "stdout",
     "output_type": "stream",
     "text": [
      "                 count           mean\n",
      "locality_name                        \n",
      "Санкт-Петербург  15017  108608.057791\n",
      "               count          mean\n",
      "locality_name                     \n",
      "Выборг           237  58141.909153\n"
     ]
    }
   ],
   "source": [
    "print(price[price['mean']==price['mean'].max()])\n",
    "print(price[price['mean']==price['mean'].min()])"
   ]
  },
  {
   "cell_type": "markdown",
   "metadata": {},
   "source": [
    "Разница больше чем в 10 раз"
   ]
  },
  {
   "cell_type": "code",
   "execution_count": 31,
   "metadata": {},
   "outputs": [
    {
     "data": {
      "image/png": "[encoded data removed]",
      "text/plain": [
       "<Figure size 720x576 with 1 Axes>"
      ]
     },
     "metadata": {
      "needs_background": "light"
     },
     "output_type": "display_data"
    }
   ],
   "source": [
    "price_in_spb = data.query('locality_name == \"Санкт-Петербург\"')\n",
    "price_in_spb = price_in_spb.pivot_table(index='km_cityCenters_nearest', values='price_one_kv_metr').plot(kind='bar',figsize=(10,8))\n",
    "\n",
    "                 \n",
    "                  "
   ]
  },
  {
   "cell_type": "markdown",
   "metadata": {},
   "source": [
    "Чем ближе к центру - тем выше цена,Корреляция обратная, слабая видимо из-за выброса."
   ]
  },
  {
   "cell_type": "markdown",
   "metadata": {},
   "source": [
    "### Общий вывод"
   ]
  },
  {
   "cell_type": "markdown",
   "metadata": {},
   "source": []
  },
  {
   "cell_type": "markdown",
   "metadata": {},
   "source": [
    "**Чек-лист готовности проекта**\n",
    "\n",
    "Поставьте 'x' в выполненных пунктах. Далее нажмите Shift+Enter."
   ]
  },
  {
   "cell_type": "markdown",
   "metadata": {},
   "source": [
    "Изучили данные, поменяли типы данных, удалили неявные дубликаты в населенных пунктах, узнали когда люди меньше всего работают (выставляют объявления), сделали выводы о цене. Добавили новые таблицы: цена за квадратныц метр, двевыли дату по дню недели,месяцу и году. Были добавлены категории этажей. Изучили следующие параметры на наличие выбивающихся значений - площадь, цена, число комнат, высота потолков. Были определены аномалии в данных параметрах. \n",
    "Выявили, что на стоимость квадратного метра квартиры больше всего влияют количество комнат, этаж квартиры, близость к центру. Незначительно на стоимость квадратного метра влияют день, месяц, год размещения и общая площадь.\n",
    "Санкт-Петербург оказался городом с самым дорогим квадратным метром, следовало ожидать. И больше всего объявлений о прадажи кварти имеено в Санкт-Петербурге\n",
    "Больше всего на стоимость как и следовало ожидать влияет общая площадь (показатель обладает самой высокой корреляцией).\n",
    "Очевидно видно и то что, на цену влияет и количество комнат.\n",
    "На удивление цена за квадратный метр обратно коррелируется относительно расстояния до центра, и меньше, чем упомянутрая ранее.\n"
   ]
  },
  {
   "cell_type": "code",
   "execution_count": null,
   "metadata": {},
   "outputs": [],
   "source": []
  }
 ],
 "metadata": {
  "ExecuteTimeLog": [
   {
    "duration": 123,
    "start_time": "2023-07-06T09:12:59.792Z"
   },
   {
    "duration": 593,
    "start_time": "2023-07-06T09:13:10.954Z"
   },
   {
    "duration": 131,
    "start_time": "2023-07-06T09:14:04.411Z"
   },
   {
    "duration": 148,
    "start_time": "2023-07-06T09:16:57.955Z"
   },
   {
    "duration": 474,
    "start_time": "2023-07-06T09:17:08.878Z"
   },
   {
    "duration": 89,
    "start_time": "2023-07-06T09:17:47.208Z"
   },
   {
    "duration": 96,
    "start_time": "2023-07-06T09:21:47.006Z"
   },
   {
    "duration": 12,
    "start_time": "2023-07-06T09:26:04.347Z"
   },
   {
    "duration": 9,
    "start_time": "2023-07-06T09:27:33.416Z"
   },
   {
    "duration": 9,
    "start_time": "2023-07-06T09:28:45.894Z"
   },
   {
    "duration": 499,
    "start_time": "2023-07-06T09:29:08.253Z"
   },
   {
    "duration": 13,
    "start_time": "2023-07-06T09:29:12.736Z"
   },
   {
    "duration": 168,
    "start_time": "2023-07-06T09:31:44.153Z"
   },
   {
    "duration": 97,
    "start_time": "2023-07-06T09:32:55.687Z"
   },
   {
    "duration": 97,
    "start_time": "2023-07-06T09:35:25.250Z"
   },
   {
    "duration": 10,
    "start_time": "2023-07-06T09:35:45.983Z"
   },
   {
    "duration": 532,
    "start_time": "2023-07-06T09:40:01.330Z"
   },
   {
    "duration": 14,
    "start_time": "2023-07-06T09:40:01.864Z"
   },
   {
    "duration": 113,
    "start_time": "2023-07-06T09:42:03.564Z"
   },
   {
    "duration": 9,
    "start_time": "2023-07-06T09:42:11.004Z"
   },
   {
    "duration": 9,
    "start_time": "2023-07-06T09:48:45.371Z"
   },
   {
    "duration": 8,
    "start_time": "2023-07-06T09:49:03.532Z"
   },
   {
    "duration": 12,
    "start_time": "2023-07-06T09:55:49.666Z"
   },
   {
    "duration": 559,
    "start_time": "2023-07-06T09:56:03.150Z"
   },
   {
    "duration": 11,
    "start_time": "2023-07-06T09:56:03.711Z"
   },
   {
    "duration": 14,
    "start_time": "2023-07-06T09:56:54.388Z"
   },
   {
    "duration": 10,
    "start_time": "2023-07-06T09:57:07.289Z"
   },
   {
    "duration": 9,
    "start_time": "2023-07-06T10:00:30.905Z"
   },
   {
    "duration": 10,
    "start_time": "2023-07-06T10:00:37.433Z"
   },
   {
    "duration": 495,
    "start_time": "2023-07-06T10:00:42.376Z"
   },
   {
    "duration": 11,
    "start_time": "2023-07-06T10:00:42.873Z"
   },
   {
    "duration": 12,
    "start_time": "2023-07-06T10:01:27.418Z"
   },
   {
    "duration": 13,
    "start_time": "2023-07-06T10:02:17.881Z"
   },
   {
    "duration": 11,
    "start_time": "2023-07-06T10:02:41.730Z"
   },
   {
    "duration": 13,
    "start_time": "2023-07-06T10:02:52.086Z"
   },
   {
    "duration": 523,
    "start_time": "2023-07-06T10:03:13.902Z"
   },
   {
    "duration": 14,
    "start_time": "2023-07-06T10:03:14.428Z"
   },
   {
    "duration": 12,
    "start_time": "2023-07-06T10:03:59.947Z"
   },
   {
    "duration": 541,
    "start_time": "2023-07-06T10:04:06.744Z"
   },
   {
    "duration": 14,
    "start_time": "2023-07-06T10:04:07.287Z"
   },
   {
    "duration": 12,
    "start_time": "2023-07-06T10:05:47.714Z"
   },
   {
    "duration": 14,
    "start_time": "2023-07-06T10:08:46.864Z"
   },
   {
    "duration": 14,
    "start_time": "2023-07-06T10:14:35.828Z"
   },
   {
    "duration": 11,
    "start_time": "2023-07-06T10:14:47.897Z"
   },
   {
    "duration": 17,
    "start_time": "2023-07-06T10:16:04.612Z"
   },
   {
    "duration": 517,
    "start_time": "2023-07-06T10:16:18.337Z"
   },
   {
    "duration": 17,
    "start_time": "2023-07-06T10:16:18.855Z"
   },
   {
    "duration": 11,
    "start_time": "2023-07-06T10:18:59.793Z"
   },
   {
    "duration": 131,
    "start_time": "2023-07-06T11:35:52.790Z"
   },
   {
    "duration": 3199,
    "start_time": "2023-07-06T11:36:39.990Z"
   },
   {
    "duration": 558,
    "start_time": "2023-07-06T11:37:04.946Z"
   },
   {
    "duration": 3049,
    "start_time": "2023-07-06T11:37:05.507Z"
   },
   {
    "duration": 509,
    "start_time": "2023-07-06T11:38:58.369Z"
   },
   {
    "duration": 3614,
    "start_time": "2023-07-06T11:38:58.880Z"
   },
   {
    "duration": 2970,
    "start_time": "2023-07-06T11:39:50.301Z"
   },
   {
    "duration": 3248,
    "start_time": "2023-07-06T11:40:03.302Z"
   },
   {
    "duration": 114,
    "start_time": "2023-07-06T11:40:47.788Z"
   },
   {
    "duration": 1476,
    "start_time": "2023-07-06T11:41:18.866Z"
   },
   {
    "duration": 1353,
    "start_time": "2023-07-06T11:41:31.292Z"
   },
   {
    "duration": 1455,
    "start_time": "2023-07-06T11:44:04.876Z"
   },
   {
    "duration": 953,
    "start_time": "2023-07-06T11:44:20.276Z"
   },
   {
    "duration": 1454,
    "start_time": "2023-07-06T11:44:47.350Z"
   },
   {
    "duration": 1203,
    "start_time": "2023-07-06T11:45:00.072Z"
   },
   {
    "duration": 1119,
    "start_time": "2023-07-06T11:45:34.051Z"
   },
   {
    "duration": 1563,
    "start_time": "2023-07-06T11:47:14.032Z"
   },
   {
    "duration": 513,
    "start_time": "2023-07-06T11:47:18.784Z"
   },
   {
    "duration": 24,
    "start_time": "2023-07-06T11:47:19.299Z"
   },
   {
    "duration": 28,
    "start_time": "2023-07-06T11:47:48.748Z"
   },
   {
    "duration": 109,
    "start_time": "2023-07-06T11:59:44.224Z"
   },
   {
    "duration": 81,
    "start_time": "2023-07-06T11:59:51.345Z"
   },
   {
    "duration": 49,
    "start_time": "2023-07-06T11:59:59.595Z"
   },
   {
    "duration": 18,
    "start_time": "2023-07-06T12:01:10.228Z"
   },
   {
    "duration": 145,
    "start_time": "2023-07-07T13:21:47.841Z"
   },
   {
    "duration": 783,
    "start_time": "2023-07-07T13:21:59.297Z"
   },
   {
    "duration": 144,
    "start_time": "2023-07-07T13:22:00.082Z"
   },
   {
    "duration": 222,
    "start_time": "2023-07-07T13:23:04.263Z"
   },
   {
    "duration": 26,
    "start_time": "2023-07-07T13:33:02.651Z"
   },
   {
    "duration": 17,
    "start_time": "2023-07-07T13:33:25.954Z"
   },
   {
    "duration": 35,
    "start_time": "2023-07-07T13:34:05.928Z"
   },
   {
    "duration": 16,
    "start_time": "2023-07-07T13:34:15.819Z"
   },
   {
    "duration": 472,
    "start_time": "2023-07-07T13:34:33.554Z"
   },
   {
    "duration": 17,
    "start_time": "2023-07-07T13:34:34.027Z"
   },
   {
    "duration": 997,
    "start_time": "2023-07-07T13:34:58.654Z"
   },
   {
    "duration": 51,
    "start_time": "2023-07-08T10:20:24.962Z"
   },
   {
    "duration": 616,
    "start_time": "2023-07-08T10:20:32.832Z"
   },
   {
    "duration": 21,
    "start_time": "2023-07-08T10:20:33.449Z"
   },
   {
    "duration": 26,
    "start_time": "2023-07-08T10:35:44.009Z"
   },
   {
    "duration": 58,
    "start_time": "2023-07-08T10:36:22.166Z"
   },
   {
    "duration": 18,
    "start_time": "2023-07-08T10:36:33.382Z"
   },
   {
    "duration": 21,
    "start_time": "2023-07-08T10:43:41.706Z"
   },
   {
    "duration": 25,
    "start_time": "2023-07-08T11:15:58.761Z"
   },
   {
    "duration": 209,
    "start_time": "2023-07-08T11:23:04.637Z"
   },
   {
    "duration": 270,
    "start_time": "2023-07-08T11:24:18.475Z"
   },
   {
    "duration": 316,
    "start_time": "2023-07-08T11:24:51.357Z"
   },
   {
    "duration": 381,
    "start_time": "2023-07-08T11:25:55.545Z"
   },
   {
    "duration": 548,
    "start_time": "2023-07-08T11:26:25.998Z"
   },
   {
    "duration": 484,
    "start_time": "2023-07-08T11:26:26.549Z"
   },
   {
    "duration": 691,
    "start_time": "2023-07-08T12:17:22.754Z"
   },
   {
    "duration": 523,
    "start_time": "2023-07-08T12:17:38.320Z"
   },
   {
    "duration": 554,
    "start_time": "2023-07-08T12:17:38.845Z"
   },
   {
    "duration": 532,
    "start_time": "2023-07-08T12:18:26.291Z"
   },
   {
    "duration": 484,
    "start_time": "2023-07-08T12:18:50.494Z"
   },
   {
    "duration": 407,
    "start_time": "2023-07-08T12:19:14.294Z"
   },
   {
    "duration": 558,
    "start_time": "2023-07-08T12:19:18.688Z"
   },
   {
    "duration": 450,
    "start_time": "2023-07-08T12:19:19.248Z"
   },
   {
    "duration": 456,
    "start_time": "2023-07-08T12:20:08.307Z"
   },
   {
    "duration": 406,
    "start_time": "2023-07-08T12:25:30.289Z"
   },
   {
    "duration": 378,
    "start_time": "2023-07-08T13:16:51.394Z"
   },
   {
    "duration": 386,
    "start_time": "2023-07-08T13:17:07.125Z"
   },
   {
    "duration": 544,
    "start_time": "2023-07-08T13:25:36.930Z"
   },
   {
    "duration": 440,
    "start_time": "2023-07-08T13:25:37.477Z"
   },
   {
    "duration": 89,
    "start_time": "2023-07-08T13:32:28.099Z"
   },
   {
    "duration": 632,
    "start_time": "2023-07-08T13:32:35.933Z"
   },
   {
    "duration": 488,
    "start_time": "2023-07-08T13:32:36.577Z"
   },
   {
    "duration": 29,
    "start_time": "2023-07-08T13:32:37.068Z"
   },
   {
    "duration": 9,
    "start_time": "2023-07-08T13:33:07.793Z"
   },
   {
    "duration": 10,
    "start_time": "2023-07-08T13:35:51.391Z"
   },
   {
    "duration": 7,
    "start_time": "2023-07-08T13:36:01.451Z"
   },
   {
    "duration": 7,
    "start_time": "2023-07-08T13:36:37.788Z"
   },
   {
    "duration": 1948,
    "start_time": "2023-07-08T13:40:28.935Z"
   },
   {
    "duration": 7,
    "start_time": "2023-07-08T13:40:54.901Z"
   },
   {
    "duration": 7,
    "start_time": "2023-07-08T13:41:25.019Z"
   },
   {
    "duration": 118,
    "start_time": "2023-07-08T13:41:49.712Z"
   },
   {
    "duration": 15,
    "start_time": "2023-07-08T13:42:04.073Z"
   },
   {
    "duration": 11,
    "start_time": "2023-07-08T13:43:33.103Z"
   },
   {
    "duration": 13,
    "start_time": "2023-07-08T15:06:14.070Z"
   },
   {
    "duration": 6,
    "start_time": "2023-07-08T15:08:46.350Z"
   },
   {
    "duration": 11,
    "start_time": "2023-07-08T15:18:32.031Z"
   },
   {
    "duration": 12,
    "start_time": "2023-07-08T15:19:21.805Z"
   },
   {
    "duration": 14,
    "start_time": "2023-07-08T15:19:34.054Z"
   },
   {
    "duration": 13,
    "start_time": "2023-07-08T15:19:46.246Z"
   },
   {
    "duration": 18,
    "start_time": "2023-07-08T15:21:07.913Z"
   },
   {
    "duration": 19,
    "start_time": "2023-07-08T15:24:02.912Z"
   },
   {
    "duration": 609,
    "start_time": "2023-07-08T15:43:27.558Z"
   },
   {
    "duration": 529,
    "start_time": "2023-07-08T15:43:43.810Z"
   },
   {
    "duration": 439,
    "start_time": "2023-07-08T15:48:01.132Z"
   },
   {
    "duration": 358,
    "start_time": "2023-07-08T15:48:57.041Z"
   },
   {
    "duration": 472,
    "start_time": "2023-07-08T15:49:54.059Z"
   },
   {
    "duration": 362,
    "start_time": "2023-07-08T15:50:38.081Z"
   },
   {
    "duration": 541,
    "start_time": "2023-07-08T15:50:45.059Z"
   },
   {
    "duration": 418,
    "start_time": "2023-07-08T15:50:45.603Z"
   },
   {
    "duration": 487,
    "start_time": "2023-07-08T15:50:46.023Z"
   },
   {
    "duration": 366,
    "start_time": "2023-07-08T15:54:18.014Z"
   },
   {
    "duration": 403,
    "start_time": "2023-07-08T15:54:33.840Z"
   },
   {
    "duration": 331,
    "start_time": "2023-07-08T15:54:44.151Z"
   },
   {
    "duration": 531,
    "start_time": "2023-07-08T15:54:59.726Z"
   },
   {
    "duration": 384,
    "start_time": "2023-07-08T15:55:00.259Z"
   },
   {
    "duration": 441,
    "start_time": "2023-07-08T15:55:00.645Z"
   },
   {
    "duration": 361,
    "start_time": "2023-07-08T15:58:27.532Z"
   },
   {
    "duration": 402,
    "start_time": "2023-07-08T15:59:08.408Z"
   },
   {
    "duration": 508,
    "start_time": "2023-07-08T15:59:29.645Z"
   },
   {
    "duration": 563,
    "start_time": "2023-07-08T15:59:35.519Z"
   },
   {
    "duration": 530,
    "start_time": "2023-07-08T15:59:36.086Z"
   },
   {
    "duration": 479,
    "start_time": "2023-07-08T15:59:36.618Z"
   },
   {
    "duration": 397,
    "start_time": "2023-07-08T16:01:33.186Z"
   },
   {
    "duration": 715,
    "start_time": "2023-07-09T09:37:42.868Z"
   },
   {
    "duration": 369,
    "start_time": "2023-07-09T09:37:43.585Z"
   },
   {
    "duration": 369,
    "start_time": "2023-07-09T09:37:43.955Z"
   },
   {
    "duration": 540,
    "start_time": "2023-07-09T09:37:44.326Z"
   },
   {
    "duration": 108,
    "start_time": "2023-07-09T09:38:11.717Z"
   },
   {
    "duration": 16,
    "start_time": "2023-07-09T09:38:20.955Z"
   },
   {
    "duration": 241,
    "start_time": "2023-07-09T09:38:42.812Z"
   },
   {
    "duration": 249,
    "start_time": "2023-07-09T09:38:52.279Z"
   },
   {
    "duration": 303,
    "start_time": "2023-07-09T09:43:54.126Z"
   },
   {
    "duration": 280,
    "start_time": "2023-07-09T09:44:57.339Z"
   },
   {
    "duration": 456,
    "start_time": "2023-07-09T09:45:03.762Z"
   },
   {
    "duration": 344,
    "start_time": "2023-07-09T09:45:04.220Z"
   },
   {
    "duration": 393,
    "start_time": "2023-07-09T09:45:04.566Z"
   },
   {
    "duration": 509,
    "start_time": "2023-07-09T09:45:04.960Z"
   },
   {
    "duration": 309,
    "start_time": "2023-07-09T09:45:15.519Z"
   },
   {
    "duration": 243,
    "start_time": "2023-07-09T09:51:07.626Z"
   },
   {
    "duration": 239,
    "start_time": "2023-07-09T09:51:11.124Z"
   },
   {
    "duration": 220,
    "start_time": "2023-07-09T09:51:12.352Z"
   },
   {
    "duration": 238,
    "start_time": "2023-07-09T09:51:13.326Z"
   },
   {
    "duration": 573,
    "start_time": "2023-07-09T09:51:19.278Z"
   },
   {
    "duration": 441,
    "start_time": "2023-07-09T09:51:19.854Z"
   },
   {
    "duration": 437,
    "start_time": "2023-07-09T09:51:20.296Z"
   },
   {
    "duration": 454,
    "start_time": "2023-07-09T09:51:20.738Z"
   },
   {
    "duration": 242,
    "start_time": "2023-07-09T09:51:21.193Z"
   },
   {
    "duration": 268,
    "start_time": "2023-07-09T09:51:21.437Z"
   },
   {
    "duration": 224,
    "start_time": "2023-07-09T09:51:21.709Z"
   },
   {
    "duration": 223,
    "start_time": "2023-07-09T09:51:21.935Z"
   },
   {
    "duration": 228,
    "start_time": "2023-07-09T09:51:22.159Z"
   },
   {
    "duration": 228,
    "start_time": "2023-07-09T09:51:22.389Z"
   },
   {
    "duration": 144,
    "start_time": "2023-07-09T09:51:52.135Z"
   },
   {
    "duration": 211,
    "start_time": "2023-07-09T09:51:59.741Z"
   },
   {
    "duration": 523,
    "start_time": "2023-07-09T09:52:57.642Z"
   },
   {
    "duration": 403,
    "start_time": "2023-07-09T09:52:58.167Z"
   },
   {
    "duration": 407,
    "start_time": "2023-07-09T09:52:58.572Z"
   },
   {
    "duration": 377,
    "start_time": "2023-07-09T09:52:58.982Z"
   },
   {
    "duration": 193,
    "start_time": "2023-07-09T09:52:59.361Z"
   },
   {
    "duration": 243,
    "start_time": "2023-07-09T09:52:59.556Z"
   },
   {
    "duration": 164,
    "start_time": "2023-07-09T09:52:59.801Z"
   },
   {
    "duration": 176,
    "start_time": "2023-07-09T09:52:59.967Z"
   },
   {
    "duration": 196,
    "start_time": "2023-07-09T09:53:00.145Z"
   },
   {
    "duration": 152,
    "start_time": "2023-07-09T09:53:00.343Z"
   },
   {
    "duration": 599,
    "start_time": "2023-07-09T09:57:35.539Z"
   },
   {
    "duration": 452,
    "start_time": "2023-07-09T09:57:36.140Z"
   },
   {
    "duration": 407,
    "start_time": "2023-07-09T09:57:36.593Z"
   },
   {
    "duration": 364,
    "start_time": "2023-07-09T09:57:37.008Z"
   },
   {
    "duration": 196,
    "start_time": "2023-07-09T09:57:37.374Z"
   },
   {
    "duration": 221,
    "start_time": "2023-07-09T09:57:37.573Z"
   },
   {
    "duration": 166,
    "start_time": "2023-07-09T09:57:37.804Z"
   },
   {
    "duration": 215,
    "start_time": "2023-07-09T09:57:37.972Z"
   },
   {
    "duration": 183,
    "start_time": "2023-07-09T09:57:38.188Z"
   },
   {
    "duration": 156,
    "start_time": "2023-07-09T09:57:38.374Z"
   },
   {
    "duration": 154,
    "start_time": "2023-07-09T09:57:38.532Z"
   },
   {
    "duration": 250,
    "start_time": "2023-07-09T09:57:38.688Z"
   },
   {
    "duration": 154,
    "start_time": "2023-07-09T09:57:38.942Z"
   },
   {
    "duration": 239,
    "start_time": "2023-07-09T09:57:39.098Z"
   },
   {
    "duration": 155,
    "start_time": "2023-07-09T09:57:39.338Z"
   },
   {
    "duration": 186,
    "start_time": "2023-07-09T09:57:39.495Z"
   },
   {
    "duration": 258,
    "start_time": "2023-07-09T09:59:40.826Z"
   },
   {
    "duration": 179,
    "start_time": "2023-07-09T09:59:53.766Z"
   },
   {
    "duration": 522,
    "start_time": "2023-07-09T10:13:16.234Z"
   },
   {
    "duration": 164,
    "start_time": "2023-07-09T11:17:39.302Z"
   },
   {
    "duration": 231,
    "start_time": "2023-07-09T11:19:03.820Z"
   },
   {
    "duration": 166,
    "start_time": "2023-07-09T11:20:12.555Z"
   },
   {
    "duration": 205,
    "start_time": "2023-07-09T11:24:46.063Z"
   },
   {
    "duration": 170,
    "start_time": "2023-07-09T11:25:14.147Z"
   },
   {
    "duration": 167,
    "start_time": "2023-07-09T11:25:27.198Z"
   },
   {
    "duration": 163,
    "start_time": "2023-07-09T11:26:43.906Z"
   },
   {
    "duration": 161,
    "start_time": "2023-07-09T11:28:08.294Z"
   },
   {
    "duration": 168,
    "start_time": "2023-07-09T11:30:40.092Z"
   },
   {
    "duration": 254,
    "start_time": "2023-07-09T11:32:02.609Z"
   },
   {
    "duration": 218,
    "start_time": "2023-07-09T11:32:15.716Z"
   },
   {
    "duration": 199,
    "start_time": "2023-07-09T11:32:28.759Z"
   },
   {
    "duration": 208,
    "start_time": "2023-07-09T11:32:54.748Z"
   },
   {
    "duration": 188,
    "start_time": "2023-07-09T11:34:42.734Z"
   },
   {
    "duration": 184,
    "start_time": "2023-07-09T11:35:08.342Z"
   },
   {
    "duration": 518,
    "start_time": "2023-07-09T11:36:11.860Z"
   },
   {
    "duration": 350,
    "start_time": "2023-07-09T11:36:12.380Z"
   },
   {
    "duration": 347,
    "start_time": "2023-07-09T11:36:12.731Z"
   },
   {
    "duration": 376,
    "start_time": "2023-07-09T11:36:13.080Z"
   },
   {
    "duration": 172,
    "start_time": "2023-07-09T11:36:13.457Z"
   },
   {
    "duration": 205,
    "start_time": "2023-07-09T11:36:13.630Z"
   },
   {
    "duration": 157,
    "start_time": "2023-07-09T11:36:13.836Z"
   },
   {
    "duration": 176,
    "start_time": "2023-07-09T11:36:13.999Z"
   },
   {
    "duration": 183,
    "start_time": "2023-07-09T11:36:14.177Z"
   },
   {
    "duration": 164,
    "start_time": "2023-07-09T11:36:14.362Z"
   },
   {
    "duration": 160,
    "start_time": "2023-07-09T11:36:14.528Z"
   },
   {
    "duration": 194,
    "start_time": "2023-07-09T11:36:14.690Z"
   },
   {
    "duration": 173,
    "start_time": "2023-07-09T11:36:14.885Z"
   },
   {
    "duration": 146,
    "start_time": "2023-07-09T11:36:15.060Z"
   },
   {
    "duration": 187,
    "start_time": "2023-07-09T11:36:15.208Z"
   },
   {
    "duration": 183,
    "start_time": "2023-07-09T11:36:15.402Z"
   },
   {
    "duration": 252,
    "start_time": "2023-07-09T11:36:15.587Z"
   },
   {
    "duration": 149,
    "start_time": "2023-07-09T11:37:04.807Z"
   },
   {
    "duration": 233,
    "start_time": "2023-07-09T11:37:20.624Z"
   },
   {
    "duration": 174,
    "start_time": "2023-07-09T11:37:27.799Z"
   },
   {
    "duration": 317,
    "start_time": "2023-07-09T11:41:39.941Z"
   },
   {
    "duration": 313,
    "start_time": "2023-07-09T11:49:14.866Z"
   },
   {
    "duration": 329,
    "start_time": "2023-07-09T11:52:04.632Z"
   },
   {
    "duration": 1956,
    "start_time": "2023-07-09T11:55:16.504Z"
   },
   {
    "duration": 326,
    "start_time": "2023-07-09T11:55:39.400Z"
   },
   {
    "duration": 397,
    "start_time": "2023-07-09T11:58:46.891Z"
   },
   {
    "duration": 467,
    "start_time": "2023-07-09T11:59:24.739Z"
   },
   {
    "duration": 345,
    "start_time": "2023-07-09T11:59:25.208Z"
   },
   {
    "duration": 332,
    "start_time": "2023-07-09T11:59:25.555Z"
   },
   {
    "duration": 417,
    "start_time": "2023-07-09T11:59:25.889Z"
   },
   {
    "duration": 192,
    "start_time": "2023-07-09T11:59:26.308Z"
   },
   {
    "duration": 154,
    "start_time": "2023-07-09T11:59:26.502Z"
   },
   {
    "duration": 153,
    "start_time": "2023-07-09T11:59:26.657Z"
   },
   {
    "duration": 155,
    "start_time": "2023-07-09T11:59:26.811Z"
   },
   {
    "duration": 179,
    "start_time": "2023-07-09T11:59:26.968Z"
   },
   {
    "duration": 142,
    "start_time": "2023-07-09T11:59:27.149Z"
   },
   {
    "duration": 141,
    "start_time": "2023-07-09T11:59:27.293Z"
   },
   {
    "duration": 174,
    "start_time": "2023-07-09T11:59:27.435Z"
   },
   {
    "duration": 151,
    "start_time": "2023-07-09T11:59:27.611Z"
   },
   {
    "duration": 133,
    "start_time": "2023-07-09T11:59:27.763Z"
   },
   {
    "duration": 148,
    "start_time": "2023-07-09T11:59:27.900Z"
   },
   {
    "duration": 212,
    "start_time": "2023-07-09T11:59:28.050Z"
   },
   {
    "duration": 174,
    "start_time": "2023-07-09T11:59:28.264Z"
   },
   {
    "duration": 345,
    "start_time": "2023-07-09T12:00:52.399Z"
   },
   {
    "duration": 273,
    "start_time": "2023-07-09T12:01:31.937Z"
   },
   {
    "duration": 483,
    "start_time": "2023-07-09T12:01:44.540Z"
   },
   {
    "duration": 187,
    "start_time": "2023-07-09T12:01:45.026Z"
   },
   {
    "duration": 0,
    "start_time": "2023-07-09T12:01:45.214Z"
   },
   {
    "duration": 0,
    "start_time": "2023-07-09T12:01:45.216Z"
   },
   {
    "duration": 0,
    "start_time": "2023-07-09T12:01:45.216Z"
   },
   {
    "duration": 0,
    "start_time": "2023-07-09T12:01:45.218Z"
   },
   {
    "duration": 1,
    "start_time": "2023-07-09T12:01:45.218Z"
   },
   {
    "duration": 0,
    "start_time": "2023-07-09T12:01:45.219Z"
   },
   {
    "duration": 0,
    "start_time": "2023-07-09T12:01:45.221Z"
   },
   {
    "duration": 0,
    "start_time": "2023-07-09T12:01:45.222Z"
   },
   {
    "duration": 0,
    "start_time": "2023-07-09T12:01:45.223Z"
   },
   {
    "duration": 0,
    "start_time": "2023-07-09T12:01:45.224Z"
   },
   {
    "duration": 0,
    "start_time": "2023-07-09T12:01:45.225Z"
   },
   {
    "duration": 0,
    "start_time": "2023-07-09T12:01:45.226Z"
   },
   {
    "duration": 0,
    "start_time": "2023-07-09T12:01:45.226Z"
   },
   {
    "duration": 0,
    "start_time": "2023-07-09T12:01:45.229Z"
   },
   {
    "duration": 0,
    "start_time": "2023-07-09T12:01:45.230Z"
   },
   {
    "duration": 192,
    "start_time": "2023-07-09T12:01:59.720Z"
   },
   {
    "duration": 105,
    "start_time": "2023-07-09T12:02:18.102Z"
   },
   {
    "duration": 121,
    "start_time": "2023-07-09T12:02:31.304Z"
   },
   {
    "duration": 334,
    "start_time": "2023-07-09T12:02:48.505Z"
   },
   {
    "duration": 334,
    "start_time": "2023-07-09T12:04:11.404Z"
   },
   {
    "duration": 484,
    "start_time": "2023-07-09T12:04:21.009Z"
   },
   {
    "duration": 353,
    "start_time": "2023-07-09T12:04:21.496Z"
   },
   {
    "duration": 345,
    "start_time": "2023-07-09T12:04:21.851Z"
   },
   {
    "duration": 361,
    "start_time": "2023-07-09T12:04:22.199Z"
   },
   {
    "duration": 187,
    "start_time": "2023-07-09T12:04:22.562Z"
   },
   {
    "duration": 152,
    "start_time": "2023-07-09T12:04:22.751Z"
   },
   {
    "duration": 150,
    "start_time": "2023-07-09T12:04:22.905Z"
   },
   {
    "duration": 153,
    "start_time": "2023-07-09T12:04:23.056Z"
   },
   {
    "duration": 175,
    "start_time": "2023-07-09T12:04:23.210Z"
   },
   {
    "duration": 152,
    "start_time": "2023-07-09T12:04:23.388Z"
   },
   {
    "duration": 162,
    "start_time": "2023-07-09T12:04:23.542Z"
   },
   {
    "duration": 193,
    "start_time": "2023-07-09T12:04:23.706Z"
   },
   {
    "duration": 162,
    "start_time": "2023-07-09T12:04:23.901Z"
   },
   {
    "duration": 141,
    "start_time": "2023-07-09T12:04:24.065Z"
   },
   {
    "duration": 174,
    "start_time": "2023-07-09T12:04:24.207Z"
   },
   {
    "duration": 218,
    "start_time": "2023-07-09T12:04:24.383Z"
   },
   {
    "duration": 173,
    "start_time": "2023-07-09T12:04:24.603Z"
   },
   {
    "duration": 407,
    "start_time": "2023-07-09T12:04:37.460Z"
   },
   {
    "duration": 312,
    "start_time": "2023-07-09T12:05:07.036Z"
   },
   {
    "duration": 491,
    "start_time": "2023-07-09T12:05:12.316Z"
   },
   {
    "duration": 317,
    "start_time": "2023-07-09T12:05:12.808Z"
   },
   {
    "duration": 356,
    "start_time": "2023-07-09T12:05:13.126Z"
   },
   {
    "duration": 412,
    "start_time": "2023-07-09T12:05:13.483Z"
   },
   {
    "duration": 178,
    "start_time": "2023-07-09T12:05:13.900Z"
   },
   {
    "duration": 151,
    "start_time": "2023-07-09T12:05:14.080Z"
   },
   {
    "duration": 154,
    "start_time": "2023-07-09T12:05:14.233Z"
   },
   {
    "duration": 156,
    "start_time": "2023-07-09T12:05:14.389Z"
   },
   {
    "duration": 179,
    "start_time": "2023-07-09T12:05:14.547Z"
   },
   {
    "duration": 147,
    "start_time": "2023-07-09T12:05:14.728Z"
   },
   {
    "duration": 136,
    "start_time": "2023-07-09T12:05:14.877Z"
   },
   {
    "duration": 161,
    "start_time": "2023-07-09T12:05:15.014Z"
   },
   {
    "duration": 152,
    "start_time": "2023-07-09T12:05:15.177Z"
   },
   {
    "duration": 155,
    "start_time": "2023-07-09T12:05:15.332Z"
   },
   {
    "duration": 158,
    "start_time": "2023-07-09T12:05:15.488Z"
   },
   {
    "duration": 197,
    "start_time": "2023-07-09T12:05:15.647Z"
   },
   {
    "duration": 185,
    "start_time": "2023-07-09T12:05:15.845Z"
   },
   {
    "duration": 205,
    "start_time": "2023-07-09T12:09:50.302Z"
   },
   {
    "duration": 87,
    "start_time": "2023-07-09T12:10:21.717Z"
   },
   {
    "duration": 169,
    "start_time": "2023-07-09T12:10:41.599Z"
   },
   {
    "duration": 159,
    "start_time": "2023-07-09T12:11:15.795Z"
   },
   {
    "duration": 171,
    "start_time": "2023-07-09T12:11:39.367Z"
   },
   {
    "duration": 146,
    "start_time": "2023-07-09T12:12:33.203Z"
   },
   {
    "duration": 148,
    "start_time": "2023-07-09T12:14:31.867Z"
   },
   {
    "duration": 199,
    "start_time": "2023-07-09T12:19:17.793Z"
   },
   {
    "duration": 168,
    "start_time": "2023-07-09T12:23:58.315Z"
   },
   {
    "duration": 126,
    "start_time": "2023-07-09T12:25:15.565Z"
   },
   {
    "duration": 257,
    "start_time": "2023-07-09T12:27:00.392Z"
   },
   {
    "duration": 182,
    "start_time": "2023-07-09T12:28:34.612Z"
   },
   {
    "duration": 183,
    "start_time": "2023-07-09T12:37:21.489Z"
   },
   {
    "duration": 112,
    "start_time": "2023-07-09T12:37:55.536Z"
   },
   {
    "duration": 201,
    "start_time": "2023-07-09T12:38:07.863Z"
   },
   {
    "duration": 205,
    "start_time": "2023-07-09T12:38:20.888Z"
   },
   {
    "duration": 163,
    "start_time": "2023-07-09T12:38:58.478Z"
   },
   {
    "duration": 187,
    "start_time": "2023-07-09T12:39:07.946Z"
   },
   {
    "duration": 255,
    "start_time": "2023-07-09T12:52:19.725Z"
   },
   {
    "duration": 353,
    "start_time": "2023-07-09T12:56:12.438Z"
   },
   {
    "duration": 522,
    "start_time": "2023-07-09T12:56:18.458Z"
   },
   {
    "duration": 426,
    "start_time": "2023-07-09T12:56:18.982Z"
   },
   {
    "duration": 447,
    "start_time": "2023-07-09T12:56:19.418Z"
   },
   {
    "duration": 527,
    "start_time": "2023-07-09T12:56:19.867Z"
   },
   {
    "duration": 264,
    "start_time": "2023-07-09T12:56:20.399Z"
   },
   {
    "duration": 176,
    "start_time": "2023-07-09T12:56:20.665Z"
   },
   {
    "duration": 198,
    "start_time": "2023-07-09T12:56:20.843Z"
   },
   {
    "duration": 206,
    "start_time": "2023-07-09T12:56:21.043Z"
   },
   {
    "duration": 111,
    "start_time": "2023-07-09T12:56:21.252Z"
   },
   {
    "duration": 0,
    "start_time": "2023-07-09T12:56:21.365Z"
   },
   {
    "duration": 0,
    "start_time": "2023-07-09T12:56:21.366Z"
   },
   {
    "duration": 0,
    "start_time": "2023-07-09T12:56:21.367Z"
   },
   {
    "duration": 0,
    "start_time": "2023-07-09T12:56:21.368Z"
   },
   {
    "duration": 0,
    "start_time": "2023-07-09T12:56:21.369Z"
   },
   {
    "duration": 0,
    "start_time": "2023-07-09T12:56:21.371Z"
   },
   {
    "duration": 0,
    "start_time": "2023-07-09T12:56:21.372Z"
   },
   {
    "duration": 0,
    "start_time": "2023-07-09T12:56:21.373Z"
   },
   {
    "duration": 0,
    "start_time": "2023-07-09T12:56:21.374Z"
   },
   {
    "duration": 0,
    "start_time": "2023-07-09T12:56:21.375Z"
   },
   {
    "duration": 0,
    "start_time": "2023-07-09T12:56:21.376Z"
   },
   {
    "duration": 0,
    "start_time": "2023-07-09T12:56:21.377Z"
   },
   {
    "duration": 0,
    "start_time": "2023-07-09T12:56:21.378Z"
   },
   {
    "duration": 510,
    "start_time": "2023-07-09T12:57:38.164Z"
   },
   {
    "duration": 379,
    "start_time": "2023-07-09T12:57:38.676Z"
   },
   {
    "duration": 388,
    "start_time": "2023-07-09T12:57:39.058Z"
   },
   {
    "duration": 548,
    "start_time": "2023-07-09T12:57:39.448Z"
   },
   {
    "duration": 227,
    "start_time": "2023-07-09T12:57:39.999Z"
   },
   {
    "duration": 152,
    "start_time": "2023-07-09T12:57:40.228Z"
   },
   {
    "duration": 173,
    "start_time": "2023-07-09T12:57:40.382Z"
   },
   {
    "duration": 186,
    "start_time": "2023-07-09T12:57:40.556Z"
   },
   {
    "duration": 183,
    "start_time": "2023-07-09T12:57:40.744Z"
   },
   {
    "duration": 145,
    "start_time": "2023-07-09T12:57:40.934Z"
   },
   {
    "duration": 149,
    "start_time": "2023-07-09T12:57:41.081Z"
   },
   {
    "duration": 162,
    "start_time": "2023-07-09T12:57:41.232Z"
   },
   {
    "duration": 191,
    "start_time": "2023-07-09T12:57:41.395Z"
   },
   {
    "duration": 194,
    "start_time": "2023-07-09T12:57:41.588Z"
   },
   {
    "duration": 187,
    "start_time": "2023-07-09T12:57:41.784Z"
   },
   {
    "duration": 224,
    "start_time": "2023-07-09T12:57:41.973Z"
   },
   {
    "duration": 168,
    "start_time": "2023-07-09T12:57:42.204Z"
   },
   {
    "duration": 212,
    "start_time": "2023-07-09T12:57:42.374Z"
   },
   {
    "duration": 199,
    "start_time": "2023-07-09T13:18:42.726Z"
   },
   {
    "duration": 215,
    "start_time": "2023-07-09T13:20:13.394Z"
   },
   {
    "duration": 204,
    "start_time": "2023-07-09T13:20:22.742Z"
   },
   {
    "duration": 218,
    "start_time": "2023-07-09T13:20:30.936Z"
   },
   {
    "duration": 206,
    "start_time": "2023-07-09T13:22:37.912Z"
   },
   {
    "duration": 269,
    "start_time": "2023-07-09T13:22:46.511Z"
   },
   {
    "duration": 218,
    "start_time": "2023-07-09T13:22:55.278Z"
   },
   {
    "duration": 344,
    "start_time": "2023-07-09T13:24:44.094Z"
   },
   {
    "duration": 93,
    "start_time": "2023-07-09T13:34:25.111Z"
   },
   {
    "duration": 110,
    "start_time": "2023-07-09T13:34:26.624Z"
   },
   {
    "duration": 488,
    "start_time": "2023-07-09T13:34:38.379Z"
   },
   {
    "duration": 336,
    "start_time": "2023-07-09T13:34:38.869Z"
   },
   {
    "duration": 353,
    "start_time": "2023-07-09T13:34:39.206Z"
   },
   {
    "duration": 382,
    "start_time": "2023-07-09T13:34:39.560Z"
   },
   {
    "duration": 216,
    "start_time": "2023-07-09T13:34:39.944Z"
   },
   {
    "duration": 158,
    "start_time": "2023-07-09T13:34:40.161Z"
   },
   {
    "duration": 168,
    "start_time": "2023-07-09T13:34:40.322Z"
   },
   {
    "duration": 183,
    "start_time": "2023-07-09T13:34:40.491Z"
   },
   {
    "duration": 184,
    "start_time": "2023-07-09T13:34:40.675Z"
   },
   {
    "duration": 157,
    "start_time": "2023-07-09T13:34:40.860Z"
   },
   {
    "duration": 137,
    "start_time": "2023-07-09T13:34:41.019Z"
   },
   {
    "duration": 175,
    "start_time": "2023-07-09T13:34:41.157Z"
   },
   {
    "duration": 181,
    "start_time": "2023-07-09T13:34:41.334Z"
   },
   {
    "duration": 156,
    "start_time": "2023-07-09T13:34:41.520Z"
   },
   {
    "duration": 186,
    "start_time": "2023-07-09T13:34:41.678Z"
   },
   {
    "duration": 209,
    "start_time": "2023-07-09T13:34:41.865Z"
   },
   {
    "duration": 161,
    "start_time": "2023-07-09T13:34:42.076Z"
   },
   {
    "duration": 201,
    "start_time": "2023-07-09T13:34:42.239Z"
   },
   {
    "duration": 212,
    "start_time": "2023-07-09T13:34:42.442Z"
   },
   {
    "duration": 213,
    "start_time": "2023-07-09T13:34:42.656Z"
   },
   {
    "duration": 115,
    "start_time": "2023-07-09T13:34:42.871Z"
   },
   {
    "duration": 93,
    "start_time": "2023-07-09T13:34:42.988Z"
   },
   {
    "duration": 512,
    "start_time": "2023-07-09T13:36:53.915Z"
   },
   {
    "duration": 428,
    "start_time": "2023-07-09T13:36:54.430Z"
   },
   {
    "duration": 414,
    "start_time": "2023-07-09T13:36:54.859Z"
   },
   {
    "duration": 484,
    "start_time": "2023-07-09T13:36:55.275Z"
   },
   {
    "duration": 278,
    "start_time": "2023-07-09T13:36:55.761Z"
   },
   {
    "duration": 238,
    "start_time": "2023-07-09T13:36:56.042Z"
   },
   {
    "duration": 209,
    "start_time": "2023-07-09T13:36:56.282Z"
   },
   {
    "duration": 195,
    "start_time": "2023-07-09T13:36:56.492Z"
   },
   {
    "duration": 203,
    "start_time": "2023-07-09T13:36:56.688Z"
   },
   {
    "duration": 169,
    "start_time": "2023-07-09T13:36:56.893Z"
   },
   {
    "duration": 185,
    "start_time": "2023-07-09T13:36:57.064Z"
   },
   {
    "duration": 193,
    "start_time": "2023-07-09T13:36:57.251Z"
   },
   {
    "duration": 209,
    "start_time": "2023-07-09T13:36:57.446Z"
   },
   {
    "duration": 192,
    "start_time": "2023-07-09T13:36:57.659Z"
   },
   {
    "duration": 208,
    "start_time": "2023-07-09T13:36:57.853Z"
   },
   {
    "duration": 273,
    "start_time": "2023-07-09T13:36:58.063Z"
   },
   {
    "duration": 185,
    "start_time": "2023-07-09T13:36:58.338Z"
   },
   {
    "duration": 244,
    "start_time": "2023-07-09T13:36:58.524Z"
   },
   {
    "duration": 84,
    "start_time": "2023-07-09T13:36:58.769Z"
   },
   {
    "duration": 0,
    "start_time": "2023-07-09T13:36:58.855Z"
   },
   {
    "duration": 0,
    "start_time": "2023-07-09T13:36:58.856Z"
   },
   {
    "duration": 188,
    "start_time": "2023-07-09T13:37:45.077Z"
   },
   {
    "duration": 435,
    "start_time": "2023-07-09T13:37:57.449Z"
   },
   {
    "duration": 348,
    "start_time": "2023-07-09T13:37:57.885Z"
   },
   {
    "duration": 377,
    "start_time": "2023-07-09T13:37:58.234Z"
   },
   {
    "duration": 394,
    "start_time": "2023-07-09T13:37:58.619Z"
   },
   {
    "duration": 210,
    "start_time": "2023-07-09T13:37:59.018Z"
   },
   {
    "duration": 157,
    "start_time": "2023-07-09T13:37:59.229Z"
   },
   {
    "duration": 175,
    "start_time": "2023-07-09T13:37:59.387Z"
   },
   {
    "duration": 190,
    "start_time": "2023-07-09T13:37:59.563Z"
   },
   {
    "duration": 194,
    "start_time": "2023-07-09T13:37:59.755Z"
   },
   {
    "duration": 180,
    "start_time": "2023-07-09T13:37:59.951Z"
   },
   {
    "duration": 147,
    "start_time": "2023-07-09T13:38:00.133Z"
   },
   {
    "duration": 193,
    "start_time": "2023-07-09T13:38:00.282Z"
   },
   {
    "duration": 210,
    "start_time": "2023-07-09T13:38:00.477Z"
   },
   {
    "duration": 193,
    "start_time": "2023-07-09T13:38:00.689Z"
   },
   {
    "duration": 189,
    "start_time": "2023-07-09T13:38:00.883Z"
   },
   {
    "duration": 236,
    "start_time": "2023-07-09T13:38:01.073Z"
   },
   {
    "duration": 165,
    "start_time": "2023-07-09T13:38:01.310Z"
   },
   {
    "duration": 214,
    "start_time": "2023-07-09T13:38:01.477Z"
   },
   {
    "duration": 240,
    "start_time": "2023-07-09T13:38:01.693Z"
   },
   {
    "duration": 266,
    "start_time": "2023-07-09T13:38:01.934Z"
   },
   {
    "duration": 288,
    "start_time": "2023-07-09T13:38:02.208Z"
   },
   {
    "duration": 447,
    "start_time": "2023-07-09T13:41:49.663Z"
   },
   {
    "duration": 327,
    "start_time": "2023-07-09T13:41:50.112Z"
   },
   {
    "duration": 357,
    "start_time": "2023-07-09T13:41:50.440Z"
   },
   {
    "duration": 383,
    "start_time": "2023-07-09T13:41:50.806Z"
   },
   {
    "duration": 215,
    "start_time": "2023-07-09T13:41:51.190Z"
   },
   {
    "duration": 164,
    "start_time": "2023-07-09T13:41:51.407Z"
   },
   {
    "duration": 166,
    "start_time": "2023-07-09T13:41:51.572Z"
   },
   {
    "duration": 183,
    "start_time": "2023-07-09T13:41:51.739Z"
   },
   {
    "duration": 183,
    "start_time": "2023-07-09T13:41:51.924Z"
   },
   {
    "duration": 140,
    "start_time": "2023-07-09T13:41:52.111Z"
   },
   {
    "duration": 132,
    "start_time": "2023-07-09T13:41:52.252Z"
   },
   {
    "duration": 172,
    "start_time": "2023-07-09T13:41:52.385Z"
   },
   {
    "duration": 164,
    "start_time": "2023-07-09T13:41:52.559Z"
   },
   {
    "duration": 162,
    "start_time": "2023-07-09T13:41:52.725Z"
   },
   {
    "duration": 182,
    "start_time": "2023-07-09T13:41:52.888Z"
   },
   {
    "duration": 194,
    "start_time": "2023-07-09T13:41:53.072Z"
   },
   {
    "duration": 171,
    "start_time": "2023-07-09T13:41:53.267Z"
   },
   {
    "duration": 204,
    "start_time": "2023-07-09T13:41:53.439Z"
   },
   {
    "duration": 210,
    "start_time": "2023-07-09T13:41:53.644Z"
   },
   {
    "duration": 225,
    "start_time": "2023-07-09T13:41:53.856Z"
   },
   {
    "duration": 201,
    "start_time": "2023-07-09T13:41:54.082Z"
   },
   {
    "duration": 170,
    "start_time": "2023-07-09T13:42:05.913Z"
   },
   {
    "duration": 147,
    "start_time": "2023-07-09T13:42:15.739Z"
   },
   {
    "duration": 142,
    "start_time": "2023-07-09T13:42:26.739Z"
   },
   {
    "duration": 147,
    "start_time": "2023-07-09T13:42:33.791Z"
   },
   {
    "duration": 215,
    "start_time": "2023-07-09T13:42:42.041Z"
   },
   {
    "duration": 139,
    "start_time": "2023-07-09T13:42:50.188Z"
   },
   {
    "duration": 125,
    "start_time": "2023-07-09T13:42:58.857Z"
   },
   {
    "duration": 178,
    "start_time": "2023-07-09T13:43:09.899Z"
   },
   {
    "duration": 219,
    "start_time": "2023-07-09T13:44:21.099Z"
   },
   {
    "duration": 3430,
    "start_time": "2023-07-09T13:44:55.723Z"
   },
   {
    "duration": 15,
    "start_time": "2023-07-09T13:45:29.681Z"
   },
   {
    "duration": 450,
    "start_time": "2023-07-09T13:45:37.457Z"
   },
   {
    "duration": 373,
    "start_time": "2023-07-09T13:45:37.909Z"
   },
   {
    "duration": 434,
    "start_time": "2023-07-09T13:45:38.284Z"
   },
   {
    "duration": 413,
    "start_time": "2023-07-09T13:45:38.720Z"
   },
   {
    "duration": 229,
    "start_time": "2023-07-09T13:45:39.135Z"
   },
   {
    "duration": 183,
    "start_time": "2023-07-09T13:45:39.366Z"
   },
   {
    "duration": 196,
    "start_time": "2023-07-09T13:45:39.551Z"
   },
   {
    "duration": 187,
    "start_time": "2023-07-09T13:45:39.749Z"
   },
   {
    "duration": 151,
    "start_time": "2023-07-09T13:45:39.937Z"
   },
   {
    "duration": 130,
    "start_time": "2023-07-09T13:45:40.090Z"
   },
   {
    "duration": 120,
    "start_time": "2023-07-09T13:45:40.222Z"
   },
   {
    "duration": 155,
    "start_time": "2023-07-09T13:45:40.344Z"
   },
   {
    "duration": 143,
    "start_time": "2023-07-09T13:45:40.510Z"
   },
   {
    "duration": 143,
    "start_time": "2023-07-09T13:45:40.655Z"
   },
   {
    "duration": 197,
    "start_time": "2023-07-09T13:45:40.800Z"
   },
   {
    "duration": 206,
    "start_time": "2023-07-09T13:45:40.999Z"
   },
   {
    "duration": 137,
    "start_time": "2023-07-09T13:45:41.206Z"
   },
   {
    "duration": 199,
    "start_time": "2023-07-09T13:45:41.344Z"
   },
   {
    "duration": 215,
    "start_time": "2023-07-09T13:45:41.544Z"
   },
   {
    "duration": 227,
    "start_time": "2023-07-09T13:45:41.760Z"
   },
   {
    "duration": 203,
    "start_time": "2023-07-09T13:45:41.988Z"
   },
   {
    "duration": 223,
    "start_time": "2023-07-09T13:45:42.193Z"
   },
   {
    "duration": 76,
    "start_time": "2023-07-09T13:45:42.418Z"
   },
   {
    "duration": 455,
    "start_time": "2023-07-09T13:51:02.963Z"
   },
   {
    "duration": 387,
    "start_time": "2023-07-09T13:51:03.422Z"
   },
   {
    "duration": 367,
    "start_time": "2023-07-09T13:51:03.823Z"
   },
   {
    "duration": 422,
    "start_time": "2023-07-09T13:51:04.191Z"
   },
   {
    "duration": 207,
    "start_time": "2023-07-09T13:51:04.614Z"
   },
   {
    "duration": 181,
    "start_time": "2023-07-09T13:51:04.824Z"
   },
   {
    "duration": 155,
    "start_time": "2023-07-09T13:51:05.006Z"
   },
   {
    "duration": 190,
    "start_time": "2023-07-09T13:51:05.163Z"
   },
   {
    "duration": 172,
    "start_time": "2023-07-09T13:51:05.355Z"
   },
   {
    "duration": 131,
    "start_time": "2023-07-09T13:51:05.530Z"
   },
   {
    "duration": 112,
    "start_time": "2023-07-09T13:51:05.662Z"
   },
   {
    "duration": 174,
    "start_time": "2023-07-09T13:51:05.775Z"
   },
   {
    "duration": 180,
    "start_time": "2023-07-09T13:51:05.951Z"
   },
   {
    "duration": 192,
    "start_time": "2023-07-09T13:51:06.133Z"
   },
   {
    "duration": 236,
    "start_time": "2023-07-09T13:51:06.327Z"
   },
   {
    "duration": 194,
    "start_time": "2023-07-09T13:51:06.565Z"
   },
   {
    "duration": 164,
    "start_time": "2023-07-09T13:51:06.761Z"
   },
   {
    "duration": 196,
    "start_time": "2023-07-09T13:51:06.927Z"
   },
   {
    "duration": 220,
    "start_time": "2023-07-09T13:51:07.124Z"
   },
   {
    "duration": 250,
    "start_time": "2023-07-09T13:51:07.346Z"
   },
   {
    "duration": 215,
    "start_time": "2023-07-09T13:51:07.598Z"
   },
   {
    "duration": 209,
    "start_time": "2023-07-09T13:51:07.814Z"
   },
   {
    "duration": 147,
    "start_time": "2023-07-09T13:51:08.024Z"
   },
   {
    "duration": 269,
    "start_time": "2023-07-09T16:47:05.872Z"
   },
   {
    "duration": 238,
    "start_time": "2023-07-09T16:47:47.985Z"
   },
   {
    "duration": 322,
    "start_time": "2023-07-09T16:48:03.463Z"
   },
   {
    "duration": 15,
    "start_time": "2023-07-09T16:50:31.657Z"
   },
   {
    "duration": 4,
    "start_time": "2023-07-09T16:51:33.017Z"
   },
   {
    "duration": 13,
    "start_time": "2023-07-09T16:51:54.215Z"
   },
   {
    "duration": 156,
    "start_time": "2023-07-09T16:55:59.798Z"
   },
   {
    "duration": 36,
    "start_time": "2023-07-09T16:56:10.811Z"
   },
   {
    "duration": 19,
    "start_time": "2023-07-09T16:57:23.142Z"
   },
   {
    "duration": 73,
    "start_time": "2023-07-09T17:00:55.564Z"
   },
   {
    "duration": 15,
    "start_time": "2023-07-09T17:01:09.598Z"
   },
   {
    "duration": 8,
    "start_time": "2023-07-09T17:01:40.072Z"
   },
   {
    "duration": 14,
    "start_time": "2023-07-09T17:03:05.296Z"
   },
   {
    "duration": 5,
    "start_time": "2023-07-09T17:03:57.222Z"
   },
   {
    "duration": 3,
    "start_time": "2023-07-09T17:06:25.038Z"
   },
   {
    "duration": 4356,
    "start_time": "2023-07-09T17:07:03.063Z"
   },
   {
    "duration": 1961,
    "start_time": "2023-07-09T17:09:23.072Z"
   },
   {
    "duration": 9,
    "start_time": "2023-07-09T17:10:01.011Z"
   },
   {
    "duration": 166,
    "start_time": "2023-07-09T17:17:09.618Z"
   },
   {
    "duration": 488,
    "start_time": "2023-07-09T17:18:00.923Z"
   },
   {
    "duration": 343,
    "start_time": "2023-07-09T17:18:01.413Z"
   },
   {
    "duration": 368,
    "start_time": "2023-07-09T17:18:01.758Z"
   },
   {
    "duration": 414,
    "start_time": "2023-07-09T17:18:02.128Z"
   },
   {
    "duration": 216,
    "start_time": "2023-07-09T17:18:02.543Z"
   },
   {
    "duration": 162,
    "start_time": "2023-07-09T17:18:02.760Z"
   },
   {
    "duration": 161,
    "start_time": "2023-07-09T17:18:02.923Z"
   },
   {
    "duration": 188,
    "start_time": "2023-07-09T17:18:03.085Z"
   },
   {
    "duration": 158,
    "start_time": "2023-07-09T17:18:03.274Z"
   },
   {
    "duration": 133,
    "start_time": "2023-07-09T17:18:03.435Z"
   },
   {
    "duration": 119,
    "start_time": "2023-07-09T17:18:03.570Z"
   },
   {
    "duration": 161,
    "start_time": "2023-07-09T17:18:03.691Z"
   },
   {
    "duration": 137,
    "start_time": "2023-07-09T17:18:03.853Z"
   },
   {
    "duration": 154,
    "start_time": "2023-07-09T17:18:03.991Z"
   },
   {
    "duration": 183,
    "start_time": "2023-07-09T17:18:04.147Z"
   },
   {
    "duration": 203,
    "start_time": "2023-07-09T17:18:04.332Z"
   },
   {
    "duration": 144,
    "start_time": "2023-07-09T17:18:04.537Z"
   },
   {
    "duration": 198,
    "start_time": "2023-07-09T17:18:04.682Z"
   },
   {
    "duration": 235,
    "start_time": "2023-07-09T17:18:04.882Z"
   },
   {
    "duration": 234,
    "start_time": "2023-07-09T17:18:05.119Z"
   },
   {
    "duration": 213,
    "start_time": "2023-07-09T17:18:05.355Z"
   },
   {
    "duration": 202,
    "start_time": "2023-07-09T17:18:05.569Z"
   },
   {
    "duration": 150,
    "start_time": "2023-07-09T17:18:05.772Z"
   },
   {
    "duration": 270,
    "start_time": "2023-07-09T17:18:05.923Z"
   },
   {
    "duration": 230,
    "start_time": "2023-07-09T17:18:06.194Z"
   },
   {
    "duration": 272,
    "start_time": "2023-07-09T17:18:06.426Z"
   },
   {
    "duration": 16,
    "start_time": "2023-07-09T17:18:06.713Z"
   },
   {
    "duration": 22,
    "start_time": "2023-07-09T17:18:06.733Z"
   },
   {
    "duration": 5,
    "start_time": "2023-07-09T17:18:06.757Z"
   },
   {
    "duration": 15,
    "start_time": "2023-07-09T17:18:06.763Z"
   },
   {
    "duration": 185,
    "start_time": "2023-07-09T17:19:14.092Z"
   },
   {
    "duration": 68599,
    "start_time": "2023-07-09T17:19:40.292Z"
   },
   {
    "duration": 67260,
    "start_time": "2023-07-09T17:20:56.033Z"
   },
   {
    "duration": 94,
    "start_time": "2023-07-09T17:23:15.429Z"
   },
   {
    "duration": 452,
    "start_time": "2023-07-09T17:23:58.471Z"
   },
   {
    "duration": 342,
    "start_time": "2023-07-09T17:23:58.924Z"
   },
   {
    "duration": 361,
    "start_time": "2023-07-09T17:23:59.267Z"
   },
   {
    "duration": 403,
    "start_time": "2023-07-09T17:23:59.629Z"
   },
   {
    "duration": 208,
    "start_time": "2023-07-09T17:24:00.034Z"
   },
   {
    "duration": 158,
    "start_time": "2023-07-09T17:24:00.243Z"
   },
   {
    "duration": 158,
    "start_time": "2023-07-09T17:24:00.406Z"
   },
   {
    "duration": 174,
    "start_time": "2023-07-09T17:24:00.565Z"
   },
   {
    "duration": 164,
    "start_time": "2023-07-09T17:24:00.741Z"
   },
   {
    "duration": 120,
    "start_time": "2023-07-09T17:24:00.908Z"
   },
   {
    "duration": 118,
    "start_time": "2023-07-09T17:24:01.030Z"
   },
   {
    "duration": 146,
    "start_time": "2023-07-09T17:24:01.149Z"
   },
   {
    "duration": 147,
    "start_time": "2023-07-09T17:24:01.299Z"
   },
   {
    "duration": 168,
    "start_time": "2023-07-09T17:24:01.448Z"
   },
   {
    "duration": 180,
    "start_time": "2023-07-09T17:24:01.618Z"
   },
   {
    "duration": 174,
    "start_time": "2023-07-09T17:24:01.814Z"
   },
   {
    "duration": 137,
    "start_time": "2023-07-09T17:24:01.990Z"
   },
   {
    "duration": 223,
    "start_time": "2023-07-09T17:24:02.129Z"
   },
   {
    "duration": 234,
    "start_time": "2023-07-09T17:24:02.354Z"
   },
   {
    "duration": 234,
    "start_time": "2023-07-09T17:24:02.589Z"
   },
   {
    "duration": 207,
    "start_time": "2023-07-09T17:24:02.826Z"
   },
   {
    "duration": 223,
    "start_time": "2023-07-09T17:24:03.035Z"
   },
   {
    "duration": 161,
    "start_time": "2023-07-09T17:24:03.260Z"
   },
   {
    "duration": 213,
    "start_time": "2023-07-09T17:24:03.422Z"
   },
   {
    "duration": 223,
    "start_time": "2023-07-09T17:24:03.636Z"
   },
   {
    "duration": 275,
    "start_time": "2023-07-09T17:24:03.860Z"
   },
   {
    "duration": 14,
    "start_time": "2023-07-09T17:24:04.137Z"
   },
   {
    "duration": 20,
    "start_time": "2023-07-09T17:24:04.153Z"
   },
   {
    "duration": 5,
    "start_time": "2023-07-09T17:24:04.174Z"
   },
   {
    "duration": 15,
    "start_time": "2023-07-09T17:24:04.206Z"
   },
   {
    "duration": 68417,
    "start_time": "2023-07-09T17:24:04.223Z"
   },
   {
    "duration": 204,
    "start_time": "2023-07-09T17:27:08.224Z"
   },
   {
    "duration": 145,
    "start_time": "2023-07-09T17:27:25.393Z"
   },
   {
    "duration": 102,
    "start_time": "2023-07-09T17:28:05.216Z"
   },
   {
    "duration": 452,
    "start_time": "2023-07-09T17:28:33.859Z"
   },
   {
    "duration": 329,
    "start_time": "2023-07-09T17:28:34.314Z"
   },
   {
    "duration": 360,
    "start_time": "2023-07-09T17:28:34.645Z"
   },
   {
    "duration": 378,
    "start_time": "2023-07-09T17:28:35.007Z"
   },
   {
    "duration": 232,
    "start_time": "2023-07-09T17:28:35.387Z"
   },
   {
    "duration": 176,
    "start_time": "2023-07-09T17:28:35.621Z"
   },
   {
    "duration": 159,
    "start_time": "2023-07-09T17:28:35.805Z"
   },
   {
    "duration": 225,
    "start_time": "2023-07-09T17:28:35.966Z"
   },
   {
    "duration": 161,
    "start_time": "2023-07-09T17:28:36.193Z"
   },
   {
    "duration": 130,
    "start_time": "2023-07-09T17:28:36.356Z"
   },
   {
    "duration": 126,
    "start_time": "2023-07-09T17:28:36.488Z"
   },
   {
    "duration": 148,
    "start_time": "2023-07-09T17:28:36.615Z"
   },
   {
    "duration": 150,
    "start_time": "2023-07-09T17:28:36.765Z"
   },
   {
    "duration": 147,
    "start_time": "2023-07-09T17:28:36.917Z"
   },
   {
    "duration": 166,
    "start_time": "2023-07-09T17:28:37.066Z"
   },
   {
    "duration": 191,
    "start_time": "2023-07-09T17:28:37.234Z"
   },
   {
    "duration": 138,
    "start_time": "2023-07-09T17:28:37.427Z"
   },
   {
    "duration": 190,
    "start_time": "2023-07-09T17:28:37.567Z"
   },
   {
    "duration": 223,
    "start_time": "2023-07-09T17:28:37.759Z"
   },
   {
    "duration": 231,
    "start_time": "2023-07-09T17:28:37.983Z"
   },
   {
    "duration": 214,
    "start_time": "2023-07-09T17:28:38.216Z"
   },
   {
    "duration": 198,
    "start_time": "2023-07-09T17:28:38.432Z"
   },
   {
    "duration": 137,
    "start_time": "2023-07-09T17:28:38.631Z"
   },
   {
    "duration": 224,
    "start_time": "2023-07-09T17:28:38.769Z"
   },
   {
    "duration": 210,
    "start_time": "2023-07-09T17:28:38.994Z"
   },
   {
    "duration": 268,
    "start_time": "2023-07-09T17:28:39.217Z"
   },
   {
    "duration": 26,
    "start_time": "2023-07-09T17:28:39.487Z"
   },
   {
    "duration": 23,
    "start_time": "2023-07-09T17:28:39.519Z"
   },
   {
    "duration": 6,
    "start_time": "2023-07-09T17:28:39.544Z"
   },
   {
    "duration": 14,
    "start_time": "2023-07-09T17:28:39.551Z"
   },
   {
    "duration": 92,
    "start_time": "2023-07-09T17:28:39.567Z"
   },
   {
    "duration": 19,
    "start_time": "2023-07-09T17:29:23.970Z"
   },
   {
    "duration": 69147,
    "start_time": "2023-07-09T17:29:49.093Z"
   },
   {
    "duration": 454,
    "start_time": "2023-07-09T17:31:56.759Z"
   },
   {
    "duration": 366,
    "start_time": "2023-07-09T17:31:57.215Z"
   },
   {
    "duration": 366,
    "start_time": "2023-07-09T17:31:57.582Z"
   },
   {
    "duration": 434,
    "start_time": "2023-07-09T17:31:57.950Z"
   },
   {
    "duration": 233,
    "start_time": "2023-07-09T17:31:58.386Z"
   },
   {
    "duration": 165,
    "start_time": "2023-07-09T17:31:58.620Z"
   },
   {
    "duration": 161,
    "start_time": "2023-07-09T17:31:58.786Z"
   },
   {
    "duration": 189,
    "start_time": "2023-07-09T17:31:58.948Z"
   },
   {
    "duration": 153,
    "start_time": "2023-07-09T17:31:59.138Z"
   },
   {
    "duration": 141,
    "start_time": "2023-07-09T17:31:59.299Z"
   },
   {
    "duration": 123,
    "start_time": "2023-07-09T17:31:59.442Z"
   },
   {
    "duration": 154,
    "start_time": "2023-07-09T17:31:59.566Z"
   },
   {
    "duration": 151,
    "start_time": "2023-07-09T17:31:59.723Z"
   },
   {
    "duration": 160,
    "start_time": "2023-07-09T17:31:59.876Z"
   },
   {
    "duration": 190,
    "start_time": "2023-07-09T17:32:00.038Z"
   },
   {
    "duration": 237,
    "start_time": "2023-07-09T17:32:00.230Z"
   },
   {
    "duration": 213,
    "start_time": "2023-07-09T17:32:00.468Z"
   },
   {
    "duration": 212,
    "start_time": "2023-07-09T17:32:00.683Z"
   },
   {
    "duration": 239,
    "start_time": "2023-07-09T17:32:00.897Z"
   },
   {
    "duration": 252,
    "start_time": "2023-07-09T17:32:01.139Z"
   },
   {
    "duration": 212,
    "start_time": "2023-07-09T17:32:01.392Z"
   },
   {
    "duration": 203,
    "start_time": "2023-07-09T17:32:01.614Z"
   },
   {
    "duration": 147,
    "start_time": "2023-07-09T17:32:01.819Z"
   },
   {
    "duration": 214,
    "start_time": "2023-07-09T17:32:01.968Z"
   },
   {
    "duration": 208,
    "start_time": "2023-07-09T17:32:02.184Z"
   },
   {
    "duration": 296,
    "start_time": "2023-07-09T17:32:02.393Z"
   },
   {
    "duration": 26,
    "start_time": "2023-07-09T17:32:02.690Z"
   },
   {
    "duration": 24,
    "start_time": "2023-07-09T17:32:02.720Z"
   },
   {
    "duration": 6,
    "start_time": "2023-07-09T17:32:02.746Z"
   },
   {
    "duration": 13,
    "start_time": "2023-07-09T17:32:02.753Z"
   },
   {
    "duration": 316,
    "start_time": "2023-07-09T17:32:02.767Z"
   },
   {
    "duration": 136,
    "start_time": "2023-07-09T17:32:33.096Z"
   },
   {
    "duration": 166,
    "start_time": "2023-07-09T17:32:49.414Z"
   },
   {
    "duration": 552,
    "start_time": "2023-07-09T17:32:55.275Z"
   },
   {
    "duration": 430,
    "start_time": "2023-07-09T17:32:55.830Z"
   },
   {
    "duration": 382,
    "start_time": "2023-07-09T17:32:56.265Z"
   },
   {
    "duration": 437,
    "start_time": "2023-07-09T17:32:56.648Z"
   },
   {
    "duration": 206,
    "start_time": "2023-07-09T17:32:57.087Z"
   },
   {
    "duration": 171,
    "start_time": "2023-07-09T17:32:57.295Z"
   },
   {
    "duration": 172,
    "start_time": "2023-07-09T17:32:57.467Z"
   },
   {
    "duration": 187,
    "start_time": "2023-07-09T17:32:57.641Z"
   },
   {
    "duration": 156,
    "start_time": "2023-07-09T17:32:57.831Z"
   },
   {
    "duration": 159,
    "start_time": "2023-07-09T17:32:57.989Z"
   },
   {
    "duration": 115,
    "start_time": "2023-07-09T17:32:58.150Z"
   },
   {
    "duration": 162,
    "start_time": "2023-07-09T17:32:58.267Z"
   },
   {
    "duration": 150,
    "start_time": "2023-07-09T17:32:58.431Z"
   },
   {
    "duration": 152,
    "start_time": "2023-07-09T17:32:58.583Z"
   },
   {
    "duration": 178,
    "start_time": "2023-07-09T17:32:58.736Z"
   },
   {
    "duration": 181,
    "start_time": "2023-07-09T17:32:58.915Z"
   },
   {
    "duration": 128,
    "start_time": "2023-07-09T17:32:59.097Z"
   },
   {
    "duration": 199,
    "start_time": "2023-07-09T17:32:59.226Z"
   },
   {
    "duration": 211,
    "start_time": "2023-07-09T17:32:59.427Z"
   },
   {
    "duration": 227,
    "start_time": "2023-07-09T17:32:59.639Z"
   },
   {
    "duration": 204,
    "start_time": "2023-07-09T17:32:59.867Z"
   },
   {
    "duration": 202,
    "start_time": "2023-07-09T17:33:00.072Z"
   },
   {
    "duration": 149,
    "start_time": "2023-07-09T17:33:00.276Z"
   },
   {
    "duration": 222,
    "start_time": "2023-07-09T17:33:00.427Z"
   },
   {
    "duration": 207,
    "start_time": "2023-07-09T17:33:00.651Z"
   },
   {
    "duration": 282,
    "start_time": "2023-07-09T17:33:00.860Z"
   },
   {
    "duration": 15,
    "start_time": "2023-07-09T17:33:01.144Z"
   },
   {
    "duration": 85,
    "start_time": "2023-07-09T17:33:01.161Z"
   },
   {
    "duration": 29,
    "start_time": "2023-07-09T17:33:01.247Z"
   },
   {
    "duration": 84,
    "start_time": "2023-07-09T17:33:01.277Z"
   },
   {
    "duration": 187,
    "start_time": "2023-07-09T17:33:01.363Z"
   },
   {
    "duration": 482,
    "start_time": "2023-07-09T17:34:01.505Z"
   },
   {
    "duration": 360,
    "start_time": "2023-07-09T17:34:01.989Z"
   },
   {
    "duration": 380,
    "start_time": "2023-07-09T17:34:02.351Z"
   },
   {
    "duration": 406,
    "start_time": "2023-07-09T17:34:02.734Z"
   },
   {
    "duration": 212,
    "start_time": "2023-07-09T17:34:03.142Z"
   },
   {
    "duration": 168,
    "start_time": "2023-07-09T17:34:03.355Z"
   },
   {
    "duration": 185,
    "start_time": "2023-07-09T17:34:03.524Z"
   },
   {
    "duration": 172,
    "start_time": "2023-07-09T17:34:03.710Z"
   },
   {
    "duration": 150,
    "start_time": "2023-07-09T17:34:03.884Z"
   },
   {
    "duration": 131,
    "start_time": "2023-07-09T17:34:04.038Z"
   },
   {
    "duration": 114,
    "start_time": "2023-07-09T17:34:04.171Z"
   },
   {
    "duration": 152,
    "start_time": "2023-07-09T17:34:04.286Z"
   },
   {
    "duration": 175,
    "start_time": "2023-07-09T17:34:04.440Z"
   },
   {
    "duration": 229,
    "start_time": "2023-07-09T17:34:04.617Z"
   },
   {
    "duration": 214,
    "start_time": "2023-07-09T17:34:04.848Z"
   },
   {
    "duration": 207,
    "start_time": "2023-07-09T17:34:05.063Z"
   },
   {
    "duration": 156,
    "start_time": "2023-07-09T17:34:05.271Z"
   },
   {
    "duration": 209,
    "start_time": "2023-07-09T17:34:05.429Z"
   },
   {
    "duration": 211,
    "start_time": "2023-07-09T17:34:05.639Z"
   },
   {
    "duration": 241,
    "start_time": "2023-07-09T17:34:05.852Z"
   },
   {
    "duration": 262,
    "start_time": "2023-07-09T17:34:06.095Z"
   },
   {
    "duration": 198,
    "start_time": "2023-07-09T17:34:06.359Z"
   },
   {
    "duration": 157,
    "start_time": "2023-07-09T17:34:06.558Z"
   },
   {
    "duration": 209,
    "start_time": "2023-07-09T17:34:06.716Z"
   },
   {
    "duration": 208,
    "start_time": "2023-07-09T17:34:06.927Z"
   },
   {
    "duration": 278,
    "start_time": "2023-07-09T17:34:07.137Z"
   },
   {
    "duration": 19,
    "start_time": "2023-07-09T17:34:07.416Z"
   },
   {
    "duration": 20,
    "start_time": "2023-07-09T17:34:07.438Z"
   },
   {
    "duration": 5,
    "start_time": "2023-07-09T17:34:07.459Z"
   },
   {
    "duration": 7,
    "start_time": "2023-07-09T17:34:07.466Z"
   },
   {
    "duration": 273,
    "start_time": "2023-07-09T17:34:07.474Z"
   },
   {
    "duration": 687,
    "start_time": "2023-07-09T18:08:30.913Z"
   },
   {
    "duration": 322,
    "start_time": "2023-07-09T18:08:31.603Z"
   },
   {
    "duration": 350,
    "start_time": "2023-07-09T18:08:31.926Z"
   },
   {
    "duration": 405,
    "start_time": "2023-07-09T18:08:32.279Z"
   },
   {
    "duration": 216,
    "start_time": "2023-07-09T18:08:32.686Z"
   },
   {
    "duration": 172,
    "start_time": "2023-07-09T18:08:32.903Z"
   },
   {
    "duration": 182,
    "start_time": "2023-07-09T18:08:33.077Z"
   },
   {
    "duration": 207,
    "start_time": "2023-07-09T18:08:33.261Z"
   },
   {
    "duration": 184,
    "start_time": "2023-07-09T18:08:33.469Z"
   },
   {
    "duration": 150,
    "start_time": "2023-07-09T18:08:33.656Z"
   },
   {
    "duration": 138,
    "start_time": "2023-07-09T18:08:33.807Z"
   },
   {
    "duration": 184,
    "start_time": "2023-07-09T18:08:33.947Z"
   },
   {
    "duration": 173,
    "start_time": "2023-07-09T18:08:34.133Z"
   },
   {
    "duration": 158,
    "start_time": "2023-07-09T18:08:34.307Z"
   },
   {
    "duration": 170,
    "start_time": "2023-07-09T18:08:34.467Z"
   },
   {
    "duration": 210,
    "start_time": "2023-07-09T18:08:34.639Z"
   },
   {
    "duration": 146,
    "start_time": "2023-07-09T18:08:34.851Z"
   },
   {
    "duration": 198,
    "start_time": "2023-07-09T18:08:34.998Z"
   },
   {
    "duration": 225,
    "start_time": "2023-07-09T18:08:35.197Z"
   },
   {
    "duration": 237,
    "start_time": "2023-07-09T18:08:35.424Z"
   },
   {
    "duration": 202,
    "start_time": "2023-07-09T18:08:35.663Z"
   },
   {
    "duration": 216,
    "start_time": "2023-07-09T18:08:35.867Z"
   },
   {
    "duration": 160,
    "start_time": "2023-07-09T18:08:36.085Z"
   },
   {
    "duration": 307,
    "start_time": "2023-07-09T18:08:36.247Z"
   },
   {
    "duration": 251,
    "start_time": "2023-07-09T18:08:36.556Z"
   },
   {
    "duration": 321,
    "start_time": "2023-07-09T18:08:36.809Z"
   },
   {
    "duration": 16,
    "start_time": "2023-07-09T18:08:37.132Z"
   },
   {
    "duration": 33,
    "start_time": "2023-07-09T18:08:37.151Z"
   },
   {
    "duration": 5,
    "start_time": "2023-07-09T18:08:37.186Z"
   },
   {
    "duration": 13,
    "start_time": "2023-07-09T18:08:37.192Z"
   },
   {
    "duration": 283,
    "start_time": "2023-07-09T18:08:37.207Z"
   },
   {
    "duration": 86,
    "start_time": "2023-07-09T18:08:37.491Z"
   },
   {
    "duration": 3249,
    "start_time": "2023-07-10T10:54:16.585Z"
   },
   {
    "duration": 2211,
    "start_time": "2023-07-10T10:58:31.421Z"
   },
   {
    "duration": 2180,
    "start_time": "2023-07-10T11:01:32.157Z"
   },
   {
    "duration": 327,
    "start_time": "2023-07-10T11:17:05.408Z"
   },
   {
    "duration": 2278,
    "start_time": "2023-07-10T11:17:25.247Z"
   },
   {
    "duration": 370,
    "start_time": "2023-07-10T11:18:53.602Z"
   },
   {
    "duration": 11,
    "start_time": "2023-07-10T11:27:39.866Z"
   },
   {
    "duration": 10,
    "start_time": "2023-07-10T11:29:12.126Z"
   },
   {
    "duration": 2911,
    "start_time": "2023-07-10T11:29:19.228Z"
   },
   {
    "duration": 337,
    "start_time": "2023-07-10T11:29:22.141Z"
   },
   {
    "duration": 358,
    "start_time": "2023-07-10T11:29:22.479Z"
   },
   {
    "duration": 219,
    "start_time": "2023-07-10T11:29:22.840Z"
   },
   {
    "duration": 222,
    "start_time": "2023-07-10T11:29:23.060Z"
   },
   {
    "duration": 191,
    "start_time": "2023-07-10T11:29:23.284Z"
   },
   {
    "duration": 301,
    "start_time": "2023-07-10T11:29:23.477Z"
   },
   {
    "duration": 221,
    "start_time": "2023-07-10T11:29:23.780Z"
   },
   {
    "duration": 179,
    "start_time": "2023-07-10T11:29:24.003Z"
   },
   {
    "duration": 151,
    "start_time": "2023-07-10T11:29:24.185Z"
   },
   {
    "duration": 130,
    "start_time": "2023-07-10T11:29:24.338Z"
   },
   {
    "duration": 181,
    "start_time": "2023-07-10T11:29:24.470Z"
   },
   {
    "duration": 185,
    "start_time": "2023-07-10T11:29:24.653Z"
   },
   {
    "duration": 175,
    "start_time": "2023-07-10T11:29:24.840Z"
   },
   {
    "duration": 234,
    "start_time": "2023-07-10T11:29:25.017Z"
   },
   {
    "duration": 160,
    "start_time": "2023-07-10T11:29:25.252Z"
   },
   {
    "duration": 172,
    "start_time": "2023-07-10T11:29:25.413Z"
   },
   {
    "duration": 306,
    "start_time": "2023-07-10T11:29:25.586Z"
   },
   {
    "duration": 250,
    "start_time": "2023-07-10T11:29:25.894Z"
   },
   {
    "duration": 271,
    "start_time": "2023-07-10T11:29:26.146Z"
   },
   {
    "duration": 247,
    "start_time": "2023-07-10T11:29:26.419Z"
   },
   {
    "duration": 240,
    "start_time": "2023-07-10T11:29:26.668Z"
   },
   {
    "duration": 164,
    "start_time": "2023-07-10T11:29:26.910Z"
   },
   {
    "duration": 263,
    "start_time": "2023-07-10T11:29:27.076Z"
   },
   {
    "duration": 255,
    "start_time": "2023-07-10T11:29:27.342Z"
   },
   {
    "duration": 37967,
    "start_time": "2023-07-10T11:29:27.599Z"
   },
   {
    "duration": 19,
    "start_time": "2023-07-10T11:30:05.568Z"
   },
   {
    "duration": 34,
    "start_time": "2023-07-10T11:30:05.590Z"
   },
   {
    "duration": 5,
    "start_time": "2023-07-10T11:30:05.626Z"
   },
   {
    "duration": 19,
    "start_time": "2023-07-10T11:30:05.633Z"
   },
   {
    "duration": 333,
    "start_time": "2023-07-10T11:30:05.654Z"
   },
   {
    "duration": 194,
    "start_time": "2023-07-10T11:30:14.328Z"
   },
   {
    "duration": 180,
    "start_time": "2023-07-10T11:31:07.779Z"
   },
   {
    "duration": 161,
    "start_time": "2023-07-10T11:31:22.794Z"
   },
   {
    "duration": 202,
    "start_time": "2023-07-10T11:32:01.695Z"
   },
   {
    "duration": 142,
    "start_time": "2023-07-10T11:32:25.830Z"
   },
   {
    "duration": 182,
    "start_time": "2023-07-10T11:32:46.862Z"
   },
   {
    "duration": 74,
    "start_time": "2023-07-10T11:33:26.828Z"
   },
   {
    "duration": 10,
    "start_time": "2023-07-10T11:33:44.486Z"
   },
   {
    "duration": 3345,
    "start_time": "2023-07-10T11:33:51.186Z"
   },
   {
    "duration": 337,
    "start_time": "2023-07-10T11:33:54.533Z"
   },
   {
    "duration": 369,
    "start_time": "2023-07-10T11:33:54.872Z"
   },
   {
    "duration": 235,
    "start_time": "2023-07-10T11:33:55.244Z"
   },
   {
    "duration": 213,
    "start_time": "2023-07-10T11:33:55.481Z"
   },
   {
    "duration": 190,
    "start_time": "2023-07-10T11:33:55.695Z"
   },
   {
    "duration": 291,
    "start_time": "2023-07-10T11:33:55.886Z"
   },
   {
    "duration": 224,
    "start_time": "2023-07-10T11:33:56.180Z"
   },
   {
    "duration": 196,
    "start_time": "2023-07-10T11:33:56.406Z"
   },
   {
    "duration": 157,
    "start_time": "2023-07-10T11:33:56.604Z"
   },
   {
    "duration": 126,
    "start_time": "2023-07-10T11:33:56.763Z"
   },
   {
    "duration": 192,
    "start_time": "2023-07-10T11:33:56.891Z"
   },
   {
    "duration": 184,
    "start_time": "2023-07-10T11:33:57.084Z"
   },
   {
    "duration": 189,
    "start_time": "2023-07-10T11:33:57.269Z"
   },
   {
    "duration": 205,
    "start_time": "2023-07-10T11:33:57.460Z"
   },
   {
    "duration": 166,
    "start_time": "2023-07-10T11:33:57.667Z"
   },
   {
    "duration": 169,
    "start_time": "2023-07-10T11:33:57.835Z"
   },
   {
    "duration": 321,
    "start_time": "2023-07-10T11:33:58.007Z"
   },
   {
    "duration": 268,
    "start_time": "2023-07-10T11:33:58.330Z"
   },
   {
    "duration": 263,
    "start_time": "2023-07-10T11:33:58.602Z"
   },
   {
    "duration": 242,
    "start_time": "2023-07-10T11:33:58.867Z"
   },
   {
    "duration": 203,
    "start_time": "2023-07-10T11:33:59.111Z"
   },
   {
    "duration": 160,
    "start_time": "2023-07-10T11:33:59.315Z"
   },
   {
    "duration": 160,
    "start_time": "2023-07-10T11:33:59.477Z"
   },
   {
    "duration": 184,
    "start_time": "2023-07-10T11:33:59.639Z"
   },
   {
    "duration": 171,
    "start_time": "2023-07-10T11:33:59.825Z"
   },
   {
    "duration": 75,
    "start_time": "2023-07-10T11:33:59.998Z"
   },
   {
    "duration": 0,
    "start_time": "2023-07-10T11:34:00.075Z"
   },
   {
    "duration": 0,
    "start_time": "2023-07-10T11:34:00.076Z"
   },
   {
    "duration": 0,
    "start_time": "2023-07-10T11:34:00.077Z"
   },
   {
    "duration": 0,
    "start_time": "2023-07-10T11:34:00.078Z"
   },
   {
    "duration": 2957,
    "start_time": "2023-07-10T11:38:24.225Z"
   },
   {
    "duration": 339,
    "start_time": "2023-07-10T11:38:27.185Z"
   },
   {
    "duration": 370,
    "start_time": "2023-07-10T11:38:27.525Z"
   },
   {
    "duration": 212,
    "start_time": "2023-07-10T11:38:27.902Z"
   },
   {
    "duration": 202,
    "start_time": "2023-07-10T11:38:28.115Z"
   },
   {
    "duration": 185,
    "start_time": "2023-07-10T11:38:28.318Z"
   },
   {
    "duration": 285,
    "start_time": "2023-07-10T11:38:28.505Z"
   },
   {
    "duration": 210,
    "start_time": "2023-07-10T11:38:28.792Z"
   },
   {
    "duration": 186,
    "start_time": "2023-07-10T11:38:29.003Z"
   },
   {
    "duration": 156,
    "start_time": "2023-07-10T11:38:29.194Z"
   },
   {
    "duration": 126,
    "start_time": "2023-07-10T11:38:29.352Z"
   },
   {
    "duration": 181,
    "start_time": "2023-07-10T11:38:29.479Z"
   },
   {
    "duration": 184,
    "start_time": "2023-07-10T11:38:29.662Z"
   },
   {
    "duration": 179,
    "start_time": "2023-07-10T11:38:29.850Z"
   },
   {
    "duration": 219,
    "start_time": "2023-07-10T11:38:30.031Z"
   },
   {
    "duration": 174,
    "start_time": "2023-07-10T11:38:30.251Z"
   },
   {
    "duration": 251,
    "start_time": "2023-07-10T11:38:30.427Z"
   },
   {
    "duration": 341,
    "start_time": "2023-07-10T11:38:30.680Z"
   },
   {
    "duration": 270,
    "start_time": "2023-07-10T11:38:31.023Z"
   },
   {
    "duration": 273,
    "start_time": "2023-07-10T11:38:31.295Z"
   },
   {
    "duration": 249,
    "start_time": "2023-07-10T11:38:31.570Z"
   },
   {
    "duration": 204,
    "start_time": "2023-07-10T11:38:31.821Z"
   },
   {
    "duration": 175,
    "start_time": "2023-07-10T11:38:32.027Z"
   },
   {
    "duration": 167,
    "start_time": "2023-07-10T11:38:32.203Z"
   },
   {
    "duration": 206,
    "start_time": "2023-07-10T11:38:32.372Z"
   },
   {
    "duration": 169,
    "start_time": "2023-07-10T11:38:32.580Z"
   },
   {
    "duration": 52,
    "start_time": "2023-07-10T11:38:32.751Z"
   },
   {
    "duration": 32,
    "start_time": "2023-07-10T11:38:32.806Z"
   },
   {
    "duration": 12,
    "start_time": "2023-07-10T11:38:32.840Z"
   },
   {
    "duration": 55,
    "start_time": "2023-07-10T11:38:32.854Z"
   },
   {
    "duration": 350,
    "start_time": "2023-07-10T11:38:32.911Z"
   },
   {
    "duration": 31,
    "start_time": "2023-07-10T11:48:40.422Z"
   },
   {
    "duration": 10,
    "start_time": "2023-07-10T11:49:35.622Z"
   },
   {
    "duration": 9,
    "start_time": "2023-07-10T11:49:54.643Z"
   },
   {
    "duration": 7,
    "start_time": "2023-07-10T11:50:13.947Z"
   },
   {
    "duration": 10,
    "start_time": "2023-07-10T11:50:25.225Z"
   },
   {
    "duration": 364,
    "start_time": "2023-07-10T11:55:54.772Z"
   },
   {
    "duration": 214,
    "start_time": "2023-07-10T11:57:06.924Z"
   },
   {
    "duration": 240,
    "start_time": "2023-07-10T11:57:14.043Z"
   },
   {
    "duration": 155,
    "start_time": "2023-07-10T12:04:43.613Z"
   },
   {
    "duration": 90,
    "start_time": "2023-07-10T12:05:19.149Z"
   },
   {
    "duration": 116,
    "start_time": "2023-07-10T12:13:52.632Z"
   },
   {
    "duration": 23,
    "start_time": "2023-07-10T12:13:58.594Z"
   },
   {
    "duration": 12,
    "start_time": "2023-07-10T12:14:02.007Z"
   },
   {
    "duration": 195,
    "start_time": "2023-07-10T12:39:05.909Z"
   },
   {
    "duration": 3322,
    "start_time": "2023-07-11T07:36:17.339Z"
   },
   {
    "duration": 198,
    "start_time": "2023-07-11T07:37:41.514Z"
   },
   {
    "duration": 230,
    "start_time": "2023-07-11T07:38:01.860Z"
   }
  ],
  "kernelspec": {
   "display_name": "Python 3 (ipykernel)",
   "language": "python",
   "name": "python3"
  },
  "language_info": {
   "codemirror_mode": {
    "name": "ipython",
    "version": 3
   },
   "file_extension": ".py",
   "mimetype": "text/x-python",
   "name": "python",
   "nbconvert_exporter": "python",
   "pygments_lexer": "ipython3",
   "version": "3.9.5"
  },
  "toc": {
   "base_numbering": 1,
   "nav_menu": {},
   "number_sections": true,
   "sideBar": true,
   "skip_h1_title": true,
   "title_cell": "Table of Contents",
   "title_sidebar": "Contents",
   "toc_cell": false,
   "toc_position": {},
   "toc_section_display": true,
   "toc_window_display": false
  }
 },
 "nbformat": 4,
 "nbformat_minor": 2
}
