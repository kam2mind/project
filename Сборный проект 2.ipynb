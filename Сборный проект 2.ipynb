{
 "cells": [
  {
   "cell_type": "markdown",
   "metadata": {},
   "source": [
    "Стартап\n",
    "\n",
    "Цель исследования: \n",
    "1. Изучить пользователей, их количество и действия на сайте\n",
    "2. Посмотреть зависимость групп\n",
    "3. Чем группы отличаются друг от друга\n",
    "4. Составить воронку пользователей\n",
    "5. Проверить гипотезы и выявить верные ли шаги предприняли маркетологи.\n",
    "\n",
    "План работы: \n",
    "1. Загрузить данные и обработай их под нужный нам формат\n",
    "2. Изучить и проверить данные на пропуски и дубликаты\n",
    "3. Выявить время за которое пользователи наиболее активны\n",
    "4. Делаем воронку событий\n",
    "5. Выявить на каком этапе больше всего пользователей теряются \n",
    "6. Провести z-test \n",
    "7. Выявить гипотезы\n",
    "8. Вывод по работе "
   ]
  },
  {
   "cell_type": "markdown",
   "metadata": {},
   "source": [
    "# Шаг 1 Открыть файл и изучить данные"
   ]
  },
  {
   "cell_type": "code",
   "execution_count": 1,
   "metadata": {},
   "outputs": [],
   "source": [
    "\n",
    "import pandas as pd\n",
    "import datetime as dt\n",
    "import numpy as np\n",
    "import matplotlib.pyplot as plt\n",
    "from pandas.plotting import register_matplotlib_converters\n",
    "import warnings\n",
    "import scipy.stats as stats\n",
    "import seaborn as sns\n",
    "from plotly import graph_objects as go\n",
    "import math\n",
    "from scipy import stats as st"
   ]
  },
  {
   "cell_type": "code",
   "execution_count": 2,
   "metadata": {},
   "outputs": [],
   "source": [
    "data = pd.read_csv('/datasets/logs_exp.csv',delimiter='\\t')"
   ]
  },
  {
   "cell_type": "code",
   "execution_count": 3,
   "metadata": {},
   "outputs": [
    {
     "data": {
      "text/html": [
       "<div>\n",
       "<style scoped>\n",
       "    .dataframe tbody tr th:only-of-type {\n",
       "        vertical-align: middle;\n",
       "    }\n",
       "\n",
       "    .dataframe tbody tr th {\n",
       "        vertical-align: top;\n",
       "    }\n",
       "\n",
       "    .dataframe thead th {\n",
       "        text-align: right;\n",
       "    }\n",
       "</style>\n",
       "<table border=\"1\" class=\"dataframe\">\n",
       "  <thead>\n",
       "    <tr style=\"text-align: right;\">\n",
       "      <th></th>\n",
       "      <th>EventName</th>\n",
       "      <th>DeviceIDHash</th>\n",
       "      <th>EventTimestamp</th>\n",
       "      <th>ExpId</th>\n",
       "    </tr>\n",
       "  </thead>\n",
       "  <tbody>\n",
       "    <tr>\n",
       "      <th>0</th>\n",
       "      <td>MainScreenAppear</td>\n",
       "      <td>4575588528974610257</td>\n",
       "      <td>1564029816</td>\n",
       "      <td>246</td>\n",
       "    </tr>\n",
       "    <tr>\n",
       "      <th>1</th>\n",
       "      <td>MainScreenAppear</td>\n",
       "      <td>7416695313311560658</td>\n",
       "      <td>1564053102</td>\n",
       "      <td>246</td>\n",
       "    </tr>\n",
       "    <tr>\n",
       "      <th>2</th>\n",
       "      <td>PaymentScreenSuccessful</td>\n",
       "      <td>3518123091307005509</td>\n",
       "      <td>1564054127</td>\n",
       "      <td>248</td>\n",
       "    </tr>\n",
       "    <tr>\n",
       "      <th>3</th>\n",
       "      <td>CartScreenAppear</td>\n",
       "      <td>3518123091307005509</td>\n",
       "      <td>1564054127</td>\n",
       "      <td>248</td>\n",
       "    </tr>\n",
       "    <tr>\n",
       "      <th>4</th>\n",
       "      <td>PaymentScreenSuccessful</td>\n",
       "      <td>6217807653094995999</td>\n",
       "      <td>1564055322</td>\n",
       "      <td>248</td>\n",
       "    </tr>\n",
       "    <tr>\n",
       "      <th>5</th>\n",
       "      <td>CartScreenAppear</td>\n",
       "      <td>6217807653094995999</td>\n",
       "      <td>1564055323</td>\n",
       "      <td>248</td>\n",
       "    </tr>\n",
       "    <tr>\n",
       "      <th>6</th>\n",
       "      <td>OffersScreenAppear</td>\n",
       "      <td>8351860793733343758</td>\n",
       "      <td>1564066242</td>\n",
       "      <td>246</td>\n",
       "    </tr>\n",
       "    <tr>\n",
       "      <th>7</th>\n",
       "      <td>MainScreenAppear</td>\n",
       "      <td>5682100281902512875</td>\n",
       "      <td>1564085677</td>\n",
       "      <td>246</td>\n",
       "    </tr>\n",
       "    <tr>\n",
       "      <th>8</th>\n",
       "      <td>MainScreenAppear</td>\n",
       "      <td>1850981295691852772</td>\n",
       "      <td>1564086702</td>\n",
       "      <td>247</td>\n",
       "    </tr>\n",
       "    <tr>\n",
       "      <th>9</th>\n",
       "      <td>MainScreenAppear</td>\n",
       "      <td>5407636962369102641</td>\n",
       "      <td>1564112112</td>\n",
       "      <td>246</td>\n",
       "    </tr>\n",
       "  </tbody>\n",
       "</table>\n",
       "</div>"
      ],
      "text/plain": [
       "                 EventName         DeviceIDHash  EventTimestamp  ExpId\n",
       "0         MainScreenAppear  4575588528974610257      1564029816    246\n",
       "1         MainScreenAppear  7416695313311560658      1564053102    246\n",
       "2  PaymentScreenSuccessful  3518123091307005509      1564054127    248\n",
       "3         CartScreenAppear  3518123091307005509      1564054127    248\n",
       "4  PaymentScreenSuccessful  6217807653094995999      1564055322    248\n",
       "5         CartScreenAppear  6217807653094995999      1564055323    248\n",
       "6       OffersScreenAppear  8351860793733343758      1564066242    246\n",
       "7         MainScreenAppear  5682100281902512875      1564085677    246\n",
       "8         MainScreenAppear  1850981295691852772      1564086702    247\n",
       "9         MainScreenAppear  5407636962369102641      1564112112    246"
      ]
     },
     "execution_count": 3,
     "metadata": {},
     "output_type": "execute_result"
    }
   ],
   "source": [
    "data.head(10)"
   ]
  },
  {
   "cell_type": "code",
   "execution_count": 4,
   "metadata": {},
   "outputs": [
    {
     "data": {
      "text/html": [
       "<div>\n",
       "<style scoped>\n",
       "    .dataframe tbody tr th:only-of-type {\n",
       "        vertical-align: middle;\n",
       "    }\n",
       "\n",
       "    .dataframe tbody tr th {\n",
       "        vertical-align: top;\n",
       "    }\n",
       "\n",
       "    .dataframe thead th {\n",
       "        text-align: right;\n",
       "    }\n",
       "</style>\n",
       "<table border=\"1\" class=\"dataframe\">\n",
       "  <thead>\n",
       "    <tr style=\"text-align: right;\">\n",
       "      <th></th>\n",
       "      <th>EventName</th>\n",
       "      <th>DeviceIDHash</th>\n",
       "      <th>EventTimestamp</th>\n",
       "      <th>ExpId</th>\n",
       "    </tr>\n",
       "  </thead>\n",
       "  <tbody>\n",
       "    <tr>\n",
       "      <th>0</th>\n",
       "      <td>MainScreenAppear</td>\n",
       "      <td>4575588528974610257</td>\n",
       "      <td>1564029816</td>\n",
       "      <td>246</td>\n",
       "    </tr>\n",
       "    <tr>\n",
       "      <th>1</th>\n",
       "      <td>MainScreenAppear</td>\n",
       "      <td>7416695313311560658</td>\n",
       "      <td>1564053102</td>\n",
       "      <td>246</td>\n",
       "    </tr>\n",
       "    <tr>\n",
       "      <th>2</th>\n",
       "      <td>PaymentScreenSuccessful</td>\n",
       "      <td>3518123091307005509</td>\n",
       "      <td>1564054127</td>\n",
       "      <td>248</td>\n",
       "    </tr>\n",
       "    <tr>\n",
       "      <th>3</th>\n",
       "      <td>CartScreenAppear</td>\n",
       "      <td>3518123091307005509</td>\n",
       "      <td>1564054127</td>\n",
       "      <td>248</td>\n",
       "    </tr>\n",
       "    <tr>\n",
       "      <th>4</th>\n",
       "      <td>PaymentScreenSuccessful</td>\n",
       "      <td>6217807653094995999</td>\n",
       "      <td>1564055322</td>\n",
       "      <td>248</td>\n",
       "    </tr>\n",
       "    <tr>\n",
       "      <th>...</th>\n",
       "      <td>...</td>\n",
       "      <td>...</td>\n",
       "      <td>...</td>\n",
       "      <td>...</td>\n",
       "    </tr>\n",
       "    <tr>\n",
       "      <th>244121</th>\n",
       "      <td>MainScreenAppear</td>\n",
       "      <td>4599628364049201812</td>\n",
       "      <td>1565212345</td>\n",
       "      <td>247</td>\n",
       "    </tr>\n",
       "    <tr>\n",
       "      <th>244122</th>\n",
       "      <td>MainScreenAppear</td>\n",
       "      <td>5849806612437486590</td>\n",
       "      <td>1565212439</td>\n",
       "      <td>246</td>\n",
       "    </tr>\n",
       "    <tr>\n",
       "      <th>244123</th>\n",
       "      <td>MainScreenAppear</td>\n",
       "      <td>5746969938801999050</td>\n",
       "      <td>1565212483</td>\n",
       "      <td>246</td>\n",
       "    </tr>\n",
       "    <tr>\n",
       "      <th>244124</th>\n",
       "      <td>MainScreenAppear</td>\n",
       "      <td>5746969938801999050</td>\n",
       "      <td>1565212498</td>\n",
       "      <td>246</td>\n",
       "    </tr>\n",
       "    <tr>\n",
       "      <th>244125</th>\n",
       "      <td>OffersScreenAppear</td>\n",
       "      <td>5746969938801999050</td>\n",
       "      <td>1565212517</td>\n",
       "      <td>246</td>\n",
       "    </tr>\n",
       "  </tbody>\n",
       "</table>\n",
       "<p>244126 rows × 4 columns</p>\n",
       "</div>"
      ],
      "text/plain": [
       "                      EventName         DeviceIDHash  EventTimestamp  ExpId\n",
       "0              MainScreenAppear  4575588528974610257      1564029816    246\n",
       "1              MainScreenAppear  7416695313311560658      1564053102    246\n",
       "2       PaymentScreenSuccessful  3518123091307005509      1564054127    248\n",
       "3              CartScreenAppear  3518123091307005509      1564054127    248\n",
       "4       PaymentScreenSuccessful  6217807653094995999      1564055322    248\n",
       "...                         ...                  ...             ...    ...\n",
       "244121         MainScreenAppear  4599628364049201812      1565212345    247\n",
       "244122         MainScreenAppear  5849806612437486590      1565212439    246\n",
       "244123         MainScreenAppear  5746969938801999050      1565212483    246\n",
       "244124         MainScreenAppear  5746969938801999050      1565212498    246\n",
       "244125       OffersScreenAppear  5746969938801999050      1565212517    246\n",
       "\n",
       "[244126 rows x 4 columns]"
      ]
     },
     "metadata": {},
     "output_type": "display_data"
    }
   ],
   "source": [
    "display(data)"
   ]
  },
  {
   "cell_type": "markdown",
   "metadata": {},
   "source": [
    "# Шаг 2 Подготовка данных"
   ]
  },
  {
   "cell_type": "code",
   "execution_count": 5,
   "metadata": {},
   "outputs": [
    {
     "name": "stdout",
     "output_type": "stream",
     "text": [
      "<class 'pandas.core.frame.DataFrame'>\n",
      "RangeIndex: 244126 entries, 0 to 244125\n",
      "Data columns (total 4 columns):\n",
      " #   Column          Non-Null Count   Dtype \n",
      "---  ------          --------------   ----- \n",
      " 0   EventName       244126 non-null  object\n",
      " 1   DeviceIDHash    244126 non-null  int64 \n",
      " 2   EventTimestamp  244126 non-null  int64 \n",
      " 3   ExpId           244126 non-null  int64 \n",
      "dtypes: int64(3), object(1)\n",
      "memory usage: 7.5+ MB\n"
     ]
    }
   ],
   "source": [
    "data.info()"
   ]
  },
  {
   "cell_type": "markdown",
   "metadata": {},
   "source": [
    "В Столбце EventTimestamp надо поменять тип данных на datetime"
   ]
  },
  {
   "cell_type": "code",
   "execution_count": 6,
   "metadata": {},
   "outputs": [],
   "source": [
    "data.columns=['event_name','user_id','event_timestamp','group']"
   ]
  },
  {
   "cell_type": "code",
   "execution_count": 7,
   "metadata": {},
   "outputs": [
    {
     "data": {
      "text/plain": [
       "event_name         0\n",
       "user_id            0\n",
       "event_timestamp    0\n",
       "group              0\n",
       "dtype: int64"
      ]
     },
     "execution_count": 7,
     "metadata": {},
     "output_type": "execute_result"
    }
   ],
   "source": [
    "data.isna().sum()"
   ]
  },
  {
   "cell_type": "code",
   "execution_count": 8,
   "metadata": {},
   "outputs": [
    {
     "data": {
      "text/plain": [
       "413"
      ]
     },
     "execution_count": 8,
     "metadata": {},
     "output_type": "execute_result"
    }
   ],
   "source": [
    "data.duplicated().sum()"
   ]
  },
  {
   "cell_type": "code",
   "execution_count": 9,
   "metadata": {},
   "outputs": [
    {
     "data": {
      "text/html": [
       "<div>\n",
       "<style scoped>\n",
       "    .dataframe tbody tr th:only-of-type {\n",
       "        vertical-align: middle;\n",
       "    }\n",
       "\n",
       "    .dataframe tbody tr th {\n",
       "        vertical-align: top;\n",
       "    }\n",
       "\n",
       "    .dataframe thead th {\n",
       "        text-align: right;\n",
       "    }\n",
       "</style>\n",
       "<table border=\"1\" class=\"dataframe\">\n",
       "  <thead>\n",
       "    <tr style=\"text-align: right;\">\n",
       "      <th></th>\n",
       "      <th>event_name</th>\n",
       "      <th>user_id</th>\n",
       "      <th>event_timestamp</th>\n",
       "      <th>group</th>\n",
       "    </tr>\n",
       "  </thead>\n",
       "  <tbody>\n",
       "    <tr>\n",
       "      <th>453</th>\n",
       "      <td>MainScreenAppear</td>\n",
       "      <td>5613408041324010552</td>\n",
       "      <td>1564474784</td>\n",
       "      <td>248</td>\n",
       "    </tr>\n",
       "    <tr>\n",
       "      <th>2350</th>\n",
       "      <td>CartScreenAppear</td>\n",
       "      <td>1694940645335807244</td>\n",
       "      <td>1564609899</td>\n",
       "      <td>248</td>\n",
       "    </tr>\n",
       "    <tr>\n",
       "      <th>3573</th>\n",
       "      <td>MainScreenAppear</td>\n",
       "      <td>434103746454591587</td>\n",
       "      <td>1564628377</td>\n",
       "      <td>248</td>\n",
       "    </tr>\n",
       "    <tr>\n",
       "      <th>4076</th>\n",
       "      <td>MainScreenAppear</td>\n",
       "      <td>3761373764179762633</td>\n",
       "      <td>1564631266</td>\n",
       "      <td>247</td>\n",
       "    </tr>\n",
       "    <tr>\n",
       "      <th>4803</th>\n",
       "      <td>MainScreenAppear</td>\n",
       "      <td>2835328739789306622</td>\n",
       "      <td>1564634641</td>\n",
       "      <td>248</td>\n",
       "    </tr>\n",
       "    <tr>\n",
       "      <th>5641</th>\n",
       "      <td>CartScreenAppear</td>\n",
       "      <td>4248762472840564256</td>\n",
       "      <td>1564637764</td>\n",
       "      <td>248</td>\n",
       "    </tr>\n",
       "    <tr>\n",
       "      <th>5875</th>\n",
       "      <td>PaymentScreenSuccessful</td>\n",
       "      <td>6427012997733591237</td>\n",
       "      <td>1564638452</td>\n",
       "      <td>248</td>\n",
       "    </tr>\n",
       "    <tr>\n",
       "      <th>7249</th>\n",
       "      <td>OffersScreenAppear</td>\n",
       "      <td>7224691986599895551</td>\n",
       "      <td>1564641846</td>\n",
       "      <td>246</td>\n",
       "    </tr>\n",
       "    <tr>\n",
       "      <th>8065</th>\n",
       "      <td>CartScreenAppear</td>\n",
       "      <td>8189122927585332969</td>\n",
       "      <td>1564643929</td>\n",
       "      <td>248</td>\n",
       "    </tr>\n",
       "    <tr>\n",
       "      <th>9179</th>\n",
       "      <td>MainScreenAppear</td>\n",
       "      <td>2230705996155527339</td>\n",
       "      <td>1564646087</td>\n",
       "      <td>246</td>\n",
       "    </tr>\n",
       "    <tr>\n",
       "      <th>9311</th>\n",
       "      <td>MainScreenAppear</td>\n",
       "      <td>5496043151846125970</td>\n",
       "      <td>1564646283</td>\n",
       "      <td>248</td>\n",
       "    </tr>\n",
       "    <tr>\n",
       "      <th>9990</th>\n",
       "      <td>PaymentScreenSuccessful</td>\n",
       "      <td>7035352794299231933</td>\n",
       "      <td>1564647627</td>\n",
       "      <td>248</td>\n",
       "    </tr>\n",
       "    <tr>\n",
       "      <th>12454</th>\n",
       "      <td>PaymentScreenSuccessful</td>\n",
       "      <td>5152160705477623487</td>\n",
       "      <td>1564652139</td>\n",
       "      <td>247</td>\n",
       "    </tr>\n",
       "    <tr>\n",
       "      <th>13055</th>\n",
       "      <td>PaymentScreenSuccessful</td>\n",
       "      <td>6258460144399027762</td>\n",
       "      <td>1564653224</td>\n",
       "      <td>247</td>\n",
       "    </tr>\n",
       "    <tr>\n",
       "      <th>14333</th>\n",
       "      <td>CartScreenAppear</td>\n",
       "      <td>1807104407388801321</td>\n",
       "      <td>1564655427</td>\n",
       "      <td>248</td>\n",
       "    </tr>\n",
       "    <tr>\n",
       "      <th>15304</th>\n",
       "      <td>PaymentScreenSuccessful</td>\n",
       "      <td>8125832085431322921</td>\n",
       "      <td>1564657270</td>\n",
       "      <td>246</td>\n",
       "    </tr>\n",
       "    <tr>\n",
       "      <th>15746</th>\n",
       "      <td>PaymentScreenSuccessful</td>\n",
       "      <td>2877433916175408776</td>\n",
       "      <td>1564658001</td>\n",
       "      <td>247</td>\n",
       "    </tr>\n",
       "    <tr>\n",
       "      <th>15751</th>\n",
       "      <td>PaymentScreenSuccessful</td>\n",
       "      <td>3528217211962170139</td>\n",
       "      <td>1564658003</td>\n",
       "      <td>247</td>\n",
       "    </tr>\n",
       "    <tr>\n",
       "      <th>15752</th>\n",
       "      <td>PaymentScreenSuccessful</td>\n",
       "      <td>3528217211962170139</td>\n",
       "      <td>1564658003</td>\n",
       "      <td>247</td>\n",
       "    </tr>\n",
       "    <tr>\n",
       "      <th>15753</th>\n",
       "      <td>PaymentScreenSuccessful</td>\n",
       "      <td>3528217211962170139</td>\n",
       "      <td>1564658003</td>\n",
       "      <td>247</td>\n",
       "    </tr>\n",
       "    <tr>\n",
       "      <th>17037</th>\n",
       "      <td>CartScreenAppear</td>\n",
       "      <td>197027893265565660</td>\n",
       "      <td>1564659614</td>\n",
       "      <td>246</td>\n",
       "    </tr>\n",
       "    <tr>\n",
       "      <th>17763</th>\n",
       "      <td>MainScreenAppear</td>\n",
       "      <td>677967665205174414</td>\n",
       "      <td>1564660750</td>\n",
       "      <td>246</td>\n",
       "    </tr>\n",
       "    <tr>\n",
       "      <th>17895</th>\n",
       "      <td>PaymentScreenSuccessful</td>\n",
       "      <td>7738058666231999878</td>\n",
       "      <td>1564660983</td>\n",
       "      <td>246</td>\n",
       "    </tr>\n",
       "    <tr>\n",
       "      <th>17896</th>\n",
       "      <td>PaymentScreenSuccessful</td>\n",
       "      <td>7738058666231999878</td>\n",
       "      <td>1564660983</td>\n",
       "      <td>246</td>\n",
       "    </tr>\n",
       "    <tr>\n",
       "      <th>19633</th>\n",
       "      <td>PaymentScreenSuccessful</td>\n",
       "      <td>1568403033187645799</td>\n",
       "      <td>1564663323</td>\n",
       "      <td>248</td>\n",
       "    </tr>\n",
       "    <tr>\n",
       "      <th>21001</th>\n",
       "      <td>PaymentScreenSuccessful</td>\n",
       "      <td>4980045449118619005</td>\n",
       "      <td>1564665638</td>\n",
       "      <td>247</td>\n",
       "    </tr>\n",
       "    <tr>\n",
       "      <th>21003</th>\n",
       "      <td>PaymentScreenSuccessful</td>\n",
       "      <td>4980045449118619005</td>\n",
       "      <td>1564665639</td>\n",
       "      <td>247</td>\n",
       "    </tr>\n",
       "    <tr>\n",
       "      <th>21004</th>\n",
       "      <td>PaymentScreenSuccessful</td>\n",
       "      <td>4980045449118619005</td>\n",
       "      <td>1564665639</td>\n",
       "      <td>247</td>\n",
       "    </tr>\n",
       "    <tr>\n",
       "      <th>21006</th>\n",
       "      <td>PaymentScreenSuccessful</td>\n",
       "      <td>4980045449118619005</td>\n",
       "      <td>1564665639</td>\n",
       "      <td>247</td>\n",
       "    </tr>\n",
       "    <tr>\n",
       "      <th>21008</th>\n",
       "      <td>PaymentScreenSuccessful</td>\n",
       "      <td>4980045449118619005</td>\n",
       "      <td>1564665640</td>\n",
       "      <td>247</td>\n",
       "    </tr>\n",
       "    <tr>\n",
       "      <th>21009</th>\n",
       "      <td>PaymentScreenSuccessful</td>\n",
       "      <td>4980045449118619005</td>\n",
       "      <td>1564665640</td>\n",
       "      <td>247</td>\n",
       "    </tr>\n",
       "    <tr>\n",
       "      <th>21010</th>\n",
       "      <td>PaymentScreenSuccessful</td>\n",
       "      <td>4980045449118619005</td>\n",
       "      <td>1564665640</td>\n",
       "      <td>247</td>\n",
       "    </tr>\n",
       "    <tr>\n",
       "      <th>21011</th>\n",
       "      <td>PaymentScreenSuccessful</td>\n",
       "      <td>4980045449118619005</td>\n",
       "      <td>1564665640</td>\n",
       "      <td>247</td>\n",
       "    </tr>\n",
       "    <tr>\n",
       "      <th>21015</th>\n",
       "      <td>PaymentScreenSuccessful</td>\n",
       "      <td>4980045449118619005</td>\n",
       "      <td>1564665641</td>\n",
       "      <td>247</td>\n",
       "    </tr>\n",
       "    <tr>\n",
       "      <th>21020</th>\n",
       "      <td>PaymentScreenSuccessful</td>\n",
       "      <td>4980045449118619005</td>\n",
       "      <td>1564665643</td>\n",
       "      <td>247</td>\n",
       "    </tr>\n",
       "    <tr>\n",
       "      <th>21023</th>\n",
       "      <td>PaymentScreenSuccessful</td>\n",
       "      <td>4980045449118619005</td>\n",
       "      <td>1564665644</td>\n",
       "      <td>247</td>\n",
       "    </tr>\n",
       "    <tr>\n",
       "      <th>21288</th>\n",
       "      <td>MainScreenAppear</td>\n",
       "      <td>2711030859193999485</td>\n",
       "      <td>1564666007</td>\n",
       "      <td>247</td>\n",
       "    </tr>\n",
       "    <tr>\n",
       "      <th>21743</th>\n",
       "      <td>CartScreenAppear</td>\n",
       "      <td>8070558855125722674</td>\n",
       "      <td>1564666764</td>\n",
       "      <td>246</td>\n",
       "    </tr>\n",
       "    <tr>\n",
       "      <th>23040</th>\n",
       "      <td>CartScreenAppear</td>\n",
       "      <td>6175409940769721675</td>\n",
       "      <td>1564668546</td>\n",
       "      <td>246</td>\n",
       "    </tr>\n",
       "    <tr>\n",
       "      <th>23421</th>\n",
       "      <td>CartScreenAppear</td>\n",
       "      <td>197027893265565660</td>\n",
       "      <td>1564668928</td>\n",
       "      <td>246</td>\n",
       "    </tr>\n",
       "  </tbody>\n",
       "</table>\n",
       "</div>"
      ],
      "text/plain": [
       "                    event_name              user_id  event_timestamp  group\n",
       "453           MainScreenAppear  5613408041324010552       1564474784    248\n",
       "2350          CartScreenAppear  1694940645335807244       1564609899    248\n",
       "3573          MainScreenAppear   434103746454591587       1564628377    248\n",
       "4076          MainScreenAppear  3761373764179762633       1564631266    247\n",
       "4803          MainScreenAppear  2835328739789306622       1564634641    248\n",
       "5641          CartScreenAppear  4248762472840564256       1564637764    248\n",
       "5875   PaymentScreenSuccessful  6427012997733591237       1564638452    248\n",
       "7249        OffersScreenAppear  7224691986599895551       1564641846    246\n",
       "8065          CartScreenAppear  8189122927585332969       1564643929    248\n",
       "9179          MainScreenAppear  2230705996155527339       1564646087    246\n",
       "9311          MainScreenAppear  5496043151846125970       1564646283    248\n",
       "9990   PaymentScreenSuccessful  7035352794299231933       1564647627    248\n",
       "12454  PaymentScreenSuccessful  5152160705477623487       1564652139    247\n",
       "13055  PaymentScreenSuccessful  6258460144399027762       1564653224    247\n",
       "14333         CartScreenAppear  1807104407388801321       1564655427    248\n",
       "15304  PaymentScreenSuccessful  8125832085431322921       1564657270    246\n",
       "15746  PaymentScreenSuccessful  2877433916175408776       1564658001    247\n",
       "15751  PaymentScreenSuccessful  3528217211962170139       1564658003    247\n",
       "15752  PaymentScreenSuccessful  3528217211962170139       1564658003    247\n",
       "15753  PaymentScreenSuccessful  3528217211962170139       1564658003    247\n",
       "17037         CartScreenAppear   197027893265565660       1564659614    246\n",
       "17763         MainScreenAppear   677967665205174414       1564660750    246\n",
       "17895  PaymentScreenSuccessful  7738058666231999878       1564660983    246\n",
       "17896  PaymentScreenSuccessful  7738058666231999878       1564660983    246\n",
       "19633  PaymentScreenSuccessful  1568403033187645799       1564663323    248\n",
       "21001  PaymentScreenSuccessful  4980045449118619005       1564665638    247\n",
       "21003  PaymentScreenSuccessful  4980045449118619005       1564665639    247\n",
       "21004  PaymentScreenSuccessful  4980045449118619005       1564665639    247\n",
       "21006  PaymentScreenSuccessful  4980045449118619005       1564665639    247\n",
       "21008  PaymentScreenSuccessful  4980045449118619005       1564665640    247\n",
       "21009  PaymentScreenSuccessful  4980045449118619005       1564665640    247\n",
       "21010  PaymentScreenSuccessful  4980045449118619005       1564665640    247\n",
       "21011  PaymentScreenSuccessful  4980045449118619005       1564665640    247\n",
       "21015  PaymentScreenSuccessful  4980045449118619005       1564665641    247\n",
       "21020  PaymentScreenSuccessful  4980045449118619005       1564665643    247\n",
       "21023  PaymentScreenSuccessful  4980045449118619005       1564665644    247\n",
       "21288         MainScreenAppear  2711030859193999485       1564666007    247\n",
       "21743         CartScreenAppear  8070558855125722674       1564666764    246\n",
       "23040         CartScreenAppear  6175409940769721675       1564668546    246\n",
       "23421         CartScreenAppear   197027893265565660       1564668928    246"
      ]
     },
     "execution_count": 9,
     "metadata": {},
     "output_type": "execute_result"
    }
   ],
   "source": [
    "data[data.duplicated()==True].head(40)"
   ]
  },
  {
   "cell_type": "markdown",
   "metadata": {},
   "source": [
    "Имеются по 2,3,4 и больше раз повторений дубликатов. имеет смысл удалить дубликаты"
   ]
  },
  {
   "cell_type": "code",
   "execution_count": 10,
   "metadata": {},
   "outputs": [],
   "source": [
    "data = data.drop_duplicates()"
   ]
  },
  {
   "cell_type": "code",
   "execution_count": 11,
   "metadata": {},
   "outputs": [
    {
     "name": "stdout",
     "output_type": "stream",
     "text": [
      "<class 'pandas.core.frame.DataFrame'>\n",
      "Int64Index: 243713 entries, 0 to 244125\n",
      "Data columns (total 4 columns):\n",
      " #   Column           Non-Null Count   Dtype \n",
      "---  ------           --------------   ----- \n",
      " 0   event_name       243713 non-null  object\n",
      " 1   user_id          243713 non-null  int64 \n",
      " 2   event_timestamp  243713 non-null  int64 \n",
      " 3   group            243713 non-null  int64 \n",
      "dtypes: int64(3), object(1)\n",
      "memory usage: 9.3+ MB\n"
     ]
    }
   ],
   "source": [
    "data.info()"
   ]
  },
  {
   "cell_type": "markdown",
   "metadata": {},
   "source": [
    "Было 244126 строк, стало 243713. Все верно, дубликаты удалились"
   ]
  },
  {
   "cell_type": "code",
   "execution_count": 12,
   "metadata": {},
   "outputs": [
    {
     "data": {
      "text/html": [
       "<div>\n",
       "<style scoped>\n",
       "    .dataframe tbody tr th:only-of-type {\n",
       "        vertical-align: middle;\n",
       "    }\n",
       "\n",
       "    .dataframe tbody tr th {\n",
       "        vertical-align: top;\n",
       "    }\n",
       "\n",
       "    .dataframe thead th {\n",
       "        text-align: right;\n",
       "    }\n",
       "</style>\n",
       "<table border=\"1\" class=\"dataframe\">\n",
       "  <thead>\n",
       "    <tr style=\"text-align: right;\">\n",
       "      <th></th>\n",
       "      <th>event_name</th>\n",
       "      <th>user_id</th>\n",
       "      <th>event_timestamp</th>\n",
       "      <th>group</th>\n",
       "    </tr>\n",
       "  </thead>\n",
       "  <tbody>\n",
       "    <tr>\n",
       "      <th>0</th>\n",
       "      <td>MainScreenAppear</td>\n",
       "      <td>4575588528974610257</td>\n",
       "      <td>1564029816</td>\n",
       "      <td>A1</td>\n",
       "    </tr>\n",
       "    <tr>\n",
       "      <th>1</th>\n",
       "      <td>MainScreenAppear</td>\n",
       "      <td>7416695313311560658</td>\n",
       "      <td>1564053102</td>\n",
       "      <td>A1</td>\n",
       "    </tr>\n",
       "    <tr>\n",
       "      <th>2</th>\n",
       "      <td>PaymentScreenSuccessful</td>\n",
       "      <td>3518123091307005509</td>\n",
       "      <td>1564054127</td>\n",
       "      <td>B</td>\n",
       "    </tr>\n",
       "    <tr>\n",
       "      <th>3</th>\n",
       "      <td>CartScreenAppear</td>\n",
       "      <td>3518123091307005509</td>\n",
       "      <td>1564054127</td>\n",
       "      <td>B</td>\n",
       "    </tr>\n",
       "    <tr>\n",
       "      <th>4</th>\n",
       "      <td>PaymentScreenSuccessful</td>\n",
       "      <td>6217807653094995999</td>\n",
       "      <td>1564055322</td>\n",
       "      <td>B</td>\n",
       "    </tr>\n",
       "    <tr>\n",
       "      <th>...</th>\n",
       "      <td>...</td>\n",
       "      <td>...</td>\n",
       "      <td>...</td>\n",
       "      <td>...</td>\n",
       "    </tr>\n",
       "    <tr>\n",
       "      <th>244121</th>\n",
       "      <td>MainScreenAppear</td>\n",
       "      <td>4599628364049201812</td>\n",
       "      <td>1565212345</td>\n",
       "      <td>A2</td>\n",
       "    </tr>\n",
       "    <tr>\n",
       "      <th>244122</th>\n",
       "      <td>MainScreenAppear</td>\n",
       "      <td>5849806612437486590</td>\n",
       "      <td>1565212439</td>\n",
       "      <td>A1</td>\n",
       "    </tr>\n",
       "    <tr>\n",
       "      <th>244123</th>\n",
       "      <td>MainScreenAppear</td>\n",
       "      <td>5746969938801999050</td>\n",
       "      <td>1565212483</td>\n",
       "      <td>A1</td>\n",
       "    </tr>\n",
       "    <tr>\n",
       "      <th>244124</th>\n",
       "      <td>MainScreenAppear</td>\n",
       "      <td>5746969938801999050</td>\n",
       "      <td>1565212498</td>\n",
       "      <td>A1</td>\n",
       "    </tr>\n",
       "    <tr>\n",
       "      <th>244125</th>\n",
       "      <td>OffersScreenAppear</td>\n",
       "      <td>5746969938801999050</td>\n",
       "      <td>1565212517</td>\n",
       "      <td>A1</td>\n",
       "    </tr>\n",
       "  </tbody>\n",
       "</table>\n",
       "<p>243713 rows × 4 columns</p>\n",
       "</div>"
      ],
      "text/plain": [
       "                     event_name              user_id  event_timestamp group\n",
       "0              MainScreenAppear  4575588528974610257       1564029816    A1\n",
       "1              MainScreenAppear  7416695313311560658       1564053102    A1\n",
       "2       PaymentScreenSuccessful  3518123091307005509       1564054127     B\n",
       "3              CartScreenAppear  3518123091307005509       1564054127     B\n",
       "4       PaymentScreenSuccessful  6217807653094995999       1564055322     B\n",
       "...                         ...                  ...              ...   ...\n",
       "244121         MainScreenAppear  4599628364049201812       1565212345    A2\n",
       "244122         MainScreenAppear  5849806612437486590       1565212439    A1\n",
       "244123         MainScreenAppear  5746969938801999050       1565212483    A1\n",
       "244124         MainScreenAppear  5746969938801999050       1565212498    A1\n",
       "244125       OffersScreenAppear  5746969938801999050       1565212517    A1\n",
       "\n",
       "[243713 rows x 4 columns]"
      ]
     },
     "execution_count": 12,
     "metadata": {},
     "output_type": "execute_result"
    }
   ],
   "source": [
    "def a1a2b_group(gr):\n",
    "    if gr==246:\n",
    "        return 'A1'\n",
    "    elif gr==247:\n",
    "        return 'A2'\n",
    "    elif gr==248:\n",
    "        return 'B'\n",
    "    else:\n",
    "        return 'UnknownGroup'\n",
    "\n",
    "data['group'] = data['group'].apply(a1a2b_group)\n",
    "data"
   ]
  },
  {
   "cell_type": "code",
   "execution_count": 13,
   "metadata": {},
   "outputs": [
    {
     "data": {
      "text/html": [
       "<div>\n",
       "<style scoped>\n",
       "    .dataframe tbody tr th:only-of-type {\n",
       "        vertical-align: middle;\n",
       "    }\n",
       "\n",
       "    .dataframe tbody tr th {\n",
       "        vertical-align: top;\n",
       "    }\n",
       "\n",
       "    .dataframe thead th {\n",
       "        text-align: right;\n",
       "    }\n",
       "</style>\n",
       "<table border=\"1\" class=\"dataframe\">\n",
       "  <thead>\n",
       "    <tr style=\"text-align: right;\">\n",
       "      <th></th>\n",
       "      <th>event_name</th>\n",
       "      <th>user_id</th>\n",
       "      <th>event_timestamp</th>\n",
       "      <th>group</th>\n",
       "    </tr>\n",
       "  </thead>\n",
       "  <tbody>\n",
       "    <tr>\n",
       "      <th>0</th>\n",
       "      <td>MainScreenAppear</td>\n",
       "      <td>4575588528974610257</td>\n",
       "      <td>1564029816</td>\n",
       "      <td>A1</td>\n",
       "    </tr>\n",
       "    <tr>\n",
       "      <th>1</th>\n",
       "      <td>MainScreenAppear</td>\n",
       "      <td>7416695313311560658</td>\n",
       "      <td>1564053102</td>\n",
       "      <td>A1</td>\n",
       "    </tr>\n",
       "    <tr>\n",
       "      <th>2</th>\n",
       "      <td>PaymentScreenSuccessful</td>\n",
       "      <td>3518123091307005509</td>\n",
       "      <td>1564054127</td>\n",
       "      <td>B</td>\n",
       "    </tr>\n",
       "    <tr>\n",
       "      <th>3</th>\n",
       "      <td>CartScreenAppear</td>\n",
       "      <td>3518123091307005509</td>\n",
       "      <td>1564054127</td>\n",
       "      <td>B</td>\n",
       "    </tr>\n",
       "    <tr>\n",
       "      <th>4</th>\n",
       "      <td>PaymentScreenSuccessful</td>\n",
       "      <td>6217807653094995999</td>\n",
       "      <td>1564055322</td>\n",
       "      <td>B</td>\n",
       "    </tr>\n",
       "    <tr>\n",
       "      <th>...</th>\n",
       "      <td>...</td>\n",
       "      <td>...</td>\n",
       "      <td>...</td>\n",
       "      <td>...</td>\n",
       "    </tr>\n",
       "    <tr>\n",
       "      <th>243708</th>\n",
       "      <td>MainScreenAppear</td>\n",
       "      <td>4599628364049201812</td>\n",
       "      <td>1565212345</td>\n",
       "      <td>A2</td>\n",
       "    </tr>\n",
       "    <tr>\n",
       "      <th>243709</th>\n",
       "      <td>MainScreenAppear</td>\n",
       "      <td>5849806612437486590</td>\n",
       "      <td>1565212439</td>\n",
       "      <td>A1</td>\n",
       "    </tr>\n",
       "    <tr>\n",
       "      <th>243710</th>\n",
       "      <td>MainScreenAppear</td>\n",
       "      <td>5746969938801999050</td>\n",
       "      <td>1565212483</td>\n",
       "      <td>A1</td>\n",
       "    </tr>\n",
       "    <tr>\n",
       "      <th>243711</th>\n",
       "      <td>MainScreenAppear</td>\n",
       "      <td>5746969938801999050</td>\n",
       "      <td>1565212498</td>\n",
       "      <td>A1</td>\n",
       "    </tr>\n",
       "    <tr>\n",
       "      <th>243712</th>\n",
       "      <td>OffersScreenAppear</td>\n",
       "      <td>5746969938801999050</td>\n",
       "      <td>1565212517</td>\n",
       "      <td>A1</td>\n",
       "    </tr>\n",
       "  </tbody>\n",
       "</table>\n",
       "<p>243713 rows × 4 columns</p>\n",
       "</div>"
      ],
      "text/plain": [
       "                     event_name              user_id  event_timestamp group\n",
       "0              MainScreenAppear  4575588528974610257       1564029816    A1\n",
       "1              MainScreenAppear  7416695313311560658       1564053102    A1\n",
       "2       PaymentScreenSuccessful  3518123091307005509       1564054127     B\n",
       "3              CartScreenAppear  3518123091307005509       1564054127     B\n",
       "4       PaymentScreenSuccessful  6217807653094995999       1564055322     B\n",
       "...                         ...                  ...              ...   ...\n",
       "243708         MainScreenAppear  4599628364049201812       1565212345    A2\n",
       "243709         MainScreenAppear  5849806612437486590       1565212439    A1\n",
       "243710         MainScreenAppear  5746969938801999050       1565212483    A1\n",
       "243711         MainScreenAppear  5746969938801999050       1565212498    A1\n",
       "243712       OffersScreenAppear  5746969938801999050       1565212517    A1\n",
       "\n",
       "[243713 rows x 4 columns]"
      ]
     },
     "execution_count": 13,
     "metadata": {},
     "output_type": "execute_result"
    }
   ],
   "source": [
    "data = data.reset_index(drop=True)\n",
    "data"
   ]
  },
  {
   "cell_type": "code",
   "execution_count": 14,
   "metadata": {},
   "outputs": [],
   "source": [
    "data['datetime'] = pd.to_datetime(data['event_timestamp'],unit='s')"
   ]
  },
  {
   "cell_type": "code",
   "execution_count": 15,
   "metadata": {},
   "outputs": [
    {
     "data": {
      "text/html": [
       "<div>\n",
       "<style scoped>\n",
       "    .dataframe tbody tr th:only-of-type {\n",
       "        vertical-align: middle;\n",
       "    }\n",
       "\n",
       "    .dataframe tbody tr th {\n",
       "        vertical-align: top;\n",
       "    }\n",
       "\n",
       "    .dataframe thead th {\n",
       "        text-align: right;\n",
       "    }\n",
       "</style>\n",
       "<table border=\"1\" class=\"dataframe\">\n",
       "  <thead>\n",
       "    <tr style=\"text-align: right;\">\n",
       "      <th></th>\n",
       "      <th>event_name</th>\n",
       "      <th>user_id</th>\n",
       "      <th>event_timestamp</th>\n",
       "      <th>group</th>\n",
       "      <th>datetime</th>\n",
       "    </tr>\n",
       "  </thead>\n",
       "  <tbody>\n",
       "    <tr>\n",
       "      <th>0</th>\n",
       "      <td>MainScreenAppear</td>\n",
       "      <td>4575588528974610257</td>\n",
       "      <td>1564029816</td>\n",
       "      <td>A1</td>\n",
       "      <td>2019-07-25 04:43:36</td>\n",
       "    </tr>\n",
       "    <tr>\n",
       "      <th>1</th>\n",
       "      <td>MainScreenAppear</td>\n",
       "      <td>7416695313311560658</td>\n",
       "      <td>1564053102</td>\n",
       "      <td>A1</td>\n",
       "      <td>2019-07-25 11:11:42</td>\n",
       "    </tr>\n",
       "    <tr>\n",
       "      <th>2</th>\n",
       "      <td>PaymentScreenSuccessful</td>\n",
       "      <td>3518123091307005509</td>\n",
       "      <td>1564054127</td>\n",
       "      <td>B</td>\n",
       "      <td>2019-07-25 11:28:47</td>\n",
       "    </tr>\n",
       "    <tr>\n",
       "      <th>3</th>\n",
       "      <td>CartScreenAppear</td>\n",
       "      <td>3518123091307005509</td>\n",
       "      <td>1564054127</td>\n",
       "      <td>B</td>\n",
       "      <td>2019-07-25 11:28:47</td>\n",
       "    </tr>\n",
       "    <tr>\n",
       "      <th>4</th>\n",
       "      <td>PaymentScreenSuccessful</td>\n",
       "      <td>6217807653094995999</td>\n",
       "      <td>1564055322</td>\n",
       "      <td>B</td>\n",
       "      <td>2019-07-25 11:48:42</td>\n",
       "    </tr>\n",
       "    <tr>\n",
       "      <th>...</th>\n",
       "      <td>...</td>\n",
       "      <td>...</td>\n",
       "      <td>...</td>\n",
       "      <td>...</td>\n",
       "      <td>...</td>\n",
       "    </tr>\n",
       "    <tr>\n",
       "      <th>243708</th>\n",
       "      <td>MainScreenAppear</td>\n",
       "      <td>4599628364049201812</td>\n",
       "      <td>1565212345</td>\n",
       "      <td>A2</td>\n",
       "      <td>2019-08-07 21:12:25</td>\n",
       "    </tr>\n",
       "    <tr>\n",
       "      <th>243709</th>\n",
       "      <td>MainScreenAppear</td>\n",
       "      <td>5849806612437486590</td>\n",
       "      <td>1565212439</td>\n",
       "      <td>A1</td>\n",
       "      <td>2019-08-07 21:13:59</td>\n",
       "    </tr>\n",
       "    <tr>\n",
       "      <th>243710</th>\n",
       "      <td>MainScreenAppear</td>\n",
       "      <td>5746969938801999050</td>\n",
       "      <td>1565212483</td>\n",
       "      <td>A1</td>\n",
       "      <td>2019-08-07 21:14:43</td>\n",
       "    </tr>\n",
       "    <tr>\n",
       "      <th>243711</th>\n",
       "      <td>MainScreenAppear</td>\n",
       "      <td>5746969938801999050</td>\n",
       "      <td>1565212498</td>\n",
       "      <td>A1</td>\n",
       "      <td>2019-08-07 21:14:58</td>\n",
       "    </tr>\n",
       "    <tr>\n",
       "      <th>243712</th>\n",
       "      <td>OffersScreenAppear</td>\n",
       "      <td>5746969938801999050</td>\n",
       "      <td>1565212517</td>\n",
       "      <td>A1</td>\n",
       "      <td>2019-08-07 21:15:17</td>\n",
       "    </tr>\n",
       "  </tbody>\n",
       "</table>\n",
       "<p>243713 rows × 5 columns</p>\n",
       "</div>"
      ],
      "text/plain": [
       "                     event_name              user_id  event_timestamp group  \\\n",
       "0              MainScreenAppear  4575588528974610257       1564029816    A1   \n",
       "1              MainScreenAppear  7416695313311560658       1564053102    A1   \n",
       "2       PaymentScreenSuccessful  3518123091307005509       1564054127     B   \n",
       "3              CartScreenAppear  3518123091307005509       1564054127     B   \n",
       "4       PaymentScreenSuccessful  6217807653094995999       1564055322     B   \n",
       "...                         ...                  ...              ...   ...   \n",
       "243708         MainScreenAppear  4599628364049201812       1565212345    A2   \n",
       "243709         MainScreenAppear  5849806612437486590       1565212439    A1   \n",
       "243710         MainScreenAppear  5746969938801999050       1565212483    A1   \n",
       "243711         MainScreenAppear  5746969938801999050       1565212498    A1   \n",
       "243712       OffersScreenAppear  5746969938801999050       1565212517    A1   \n",
       "\n",
       "                  datetime  \n",
       "0      2019-07-25 04:43:36  \n",
       "1      2019-07-25 11:11:42  \n",
       "2      2019-07-25 11:28:47  \n",
       "3      2019-07-25 11:28:47  \n",
       "4      2019-07-25 11:48:42  \n",
       "...                    ...  \n",
       "243708 2019-08-07 21:12:25  \n",
       "243709 2019-08-07 21:13:59  \n",
       "243710 2019-08-07 21:14:43  \n",
       "243711 2019-08-07 21:14:58  \n",
       "243712 2019-08-07 21:15:17  \n",
       "\n",
       "[243713 rows x 5 columns]"
      ]
     },
     "execution_count": 15,
     "metadata": {},
     "output_type": "execute_result"
    }
   ],
   "source": [
    "data"
   ]
  },
  {
   "cell_type": "code",
   "execution_count": 16,
   "metadata": {},
   "outputs": [
    {
     "data": {
      "text/html": [
       "<div>\n",
       "<style scoped>\n",
       "    .dataframe tbody tr th:only-of-type {\n",
       "        vertical-align: middle;\n",
       "    }\n",
       "\n",
       "    .dataframe tbody tr th {\n",
       "        vertical-align: top;\n",
       "    }\n",
       "\n",
       "    .dataframe thead th {\n",
       "        text-align: right;\n",
       "    }\n",
       "</style>\n",
       "<table border=\"1\" class=\"dataframe\">\n",
       "  <thead>\n",
       "    <tr style=\"text-align: right;\">\n",
       "      <th></th>\n",
       "      <th>event_name</th>\n",
       "      <th>user_id</th>\n",
       "      <th>event_timestamp</th>\n",
       "      <th>group</th>\n",
       "      <th>datetime</th>\n",
       "      <th>date</th>\n",
       "    </tr>\n",
       "  </thead>\n",
       "  <tbody>\n",
       "    <tr>\n",
       "      <th>0</th>\n",
       "      <td>MainScreenAppear</td>\n",
       "      <td>4575588528974610257</td>\n",
       "      <td>1564029816</td>\n",
       "      <td>A1</td>\n",
       "      <td>2019-07-25 04:43:36</td>\n",
       "      <td>2019-07-25</td>\n",
       "    </tr>\n",
       "    <tr>\n",
       "      <th>1</th>\n",
       "      <td>MainScreenAppear</td>\n",
       "      <td>7416695313311560658</td>\n",
       "      <td>1564053102</td>\n",
       "      <td>A1</td>\n",
       "      <td>2019-07-25 11:11:42</td>\n",
       "      <td>2019-07-25</td>\n",
       "    </tr>\n",
       "    <tr>\n",
       "      <th>2</th>\n",
       "      <td>PaymentScreenSuccessful</td>\n",
       "      <td>3518123091307005509</td>\n",
       "      <td>1564054127</td>\n",
       "      <td>B</td>\n",
       "      <td>2019-07-25 11:28:47</td>\n",
       "      <td>2019-07-25</td>\n",
       "    </tr>\n",
       "    <tr>\n",
       "      <th>3</th>\n",
       "      <td>CartScreenAppear</td>\n",
       "      <td>3518123091307005509</td>\n",
       "      <td>1564054127</td>\n",
       "      <td>B</td>\n",
       "      <td>2019-07-25 11:28:47</td>\n",
       "      <td>2019-07-25</td>\n",
       "    </tr>\n",
       "    <tr>\n",
       "      <th>4</th>\n",
       "      <td>PaymentScreenSuccessful</td>\n",
       "      <td>6217807653094995999</td>\n",
       "      <td>1564055322</td>\n",
       "      <td>B</td>\n",
       "      <td>2019-07-25 11:48:42</td>\n",
       "      <td>2019-07-25</td>\n",
       "    </tr>\n",
       "    <tr>\n",
       "      <th>...</th>\n",
       "      <td>...</td>\n",
       "      <td>...</td>\n",
       "      <td>...</td>\n",
       "      <td>...</td>\n",
       "      <td>...</td>\n",
       "      <td>...</td>\n",
       "    </tr>\n",
       "    <tr>\n",
       "      <th>243708</th>\n",
       "      <td>MainScreenAppear</td>\n",
       "      <td>4599628364049201812</td>\n",
       "      <td>1565212345</td>\n",
       "      <td>A2</td>\n",
       "      <td>2019-08-07 21:12:25</td>\n",
       "      <td>2019-08-07</td>\n",
       "    </tr>\n",
       "    <tr>\n",
       "      <th>243709</th>\n",
       "      <td>MainScreenAppear</td>\n",
       "      <td>5849806612437486590</td>\n",
       "      <td>1565212439</td>\n",
       "      <td>A1</td>\n",
       "      <td>2019-08-07 21:13:59</td>\n",
       "      <td>2019-08-07</td>\n",
       "    </tr>\n",
       "    <tr>\n",
       "      <th>243710</th>\n",
       "      <td>MainScreenAppear</td>\n",
       "      <td>5746969938801999050</td>\n",
       "      <td>1565212483</td>\n",
       "      <td>A1</td>\n",
       "      <td>2019-08-07 21:14:43</td>\n",
       "      <td>2019-08-07</td>\n",
       "    </tr>\n",
       "    <tr>\n",
       "      <th>243711</th>\n",
       "      <td>MainScreenAppear</td>\n",
       "      <td>5746969938801999050</td>\n",
       "      <td>1565212498</td>\n",
       "      <td>A1</td>\n",
       "      <td>2019-08-07 21:14:58</td>\n",
       "      <td>2019-08-07</td>\n",
       "    </tr>\n",
       "    <tr>\n",
       "      <th>243712</th>\n",
       "      <td>OffersScreenAppear</td>\n",
       "      <td>5746969938801999050</td>\n",
       "      <td>1565212517</td>\n",
       "      <td>A1</td>\n",
       "      <td>2019-08-07 21:15:17</td>\n",
       "      <td>2019-08-07</td>\n",
       "    </tr>\n",
       "  </tbody>\n",
       "</table>\n",
       "<p>243713 rows × 6 columns</p>\n",
       "</div>"
      ],
      "text/plain": [
       "                     event_name              user_id  event_timestamp group  \\\n",
       "0              MainScreenAppear  4575588528974610257       1564029816    A1   \n",
       "1              MainScreenAppear  7416695313311560658       1564053102    A1   \n",
       "2       PaymentScreenSuccessful  3518123091307005509       1564054127     B   \n",
       "3              CartScreenAppear  3518123091307005509       1564054127     B   \n",
       "4       PaymentScreenSuccessful  6217807653094995999       1564055322     B   \n",
       "...                         ...                  ...              ...   ...   \n",
       "243708         MainScreenAppear  4599628364049201812       1565212345    A2   \n",
       "243709         MainScreenAppear  5849806612437486590       1565212439    A1   \n",
       "243710         MainScreenAppear  5746969938801999050       1565212483    A1   \n",
       "243711         MainScreenAppear  5746969938801999050       1565212498    A1   \n",
       "243712       OffersScreenAppear  5746969938801999050       1565212517    A1   \n",
       "\n",
       "                  datetime        date  \n",
       "0      2019-07-25 04:43:36  2019-07-25  \n",
       "1      2019-07-25 11:11:42  2019-07-25  \n",
       "2      2019-07-25 11:28:47  2019-07-25  \n",
       "3      2019-07-25 11:28:47  2019-07-25  \n",
       "4      2019-07-25 11:48:42  2019-07-25  \n",
       "...                    ...         ...  \n",
       "243708 2019-08-07 21:12:25  2019-08-07  \n",
       "243709 2019-08-07 21:13:59  2019-08-07  \n",
       "243710 2019-08-07 21:14:43  2019-08-07  \n",
       "243711 2019-08-07 21:14:58  2019-08-07  \n",
       "243712 2019-08-07 21:15:17  2019-08-07  \n",
       "\n",
       "[243713 rows x 6 columns]"
      ]
     },
     "execution_count": 16,
     "metadata": {},
     "output_type": "execute_result"
    }
   ],
   "source": [
    "data['date'] = data['datetime'].dt.date\n",
    "data"
   ]
  },
  {
   "cell_type": "code",
   "execution_count": 17,
   "metadata": {},
   "outputs": [
    {
     "data": {
      "text/plain": [
       "7551"
      ]
     },
     "execution_count": 17,
     "metadata": {},
     "output_type": "execute_result"
    }
   ],
   "source": [
    "data['user_id'].nunique()"
   ]
  },
  {
   "cell_type": "code",
   "execution_count": 18,
   "metadata": {},
   "outputs": [],
   "source": [
    "a = data[data['group'] == 'A1']['user_id'].nunique()"
   ]
  },
  {
   "cell_type": "code",
   "execution_count": 19,
   "metadata": {},
   "outputs": [
    {
     "data": {
      "text/plain": [
       "2520"
      ]
     },
     "execution_count": 19,
     "metadata": {},
     "output_type": "execute_result"
    }
   ],
   "source": [
    "b = data[data['group'] == 'A2']['user_id'].nunique()\n",
    "b"
   ]
  },
  {
   "cell_type": "code",
   "execution_count": 20,
   "metadata": {},
   "outputs": [
    {
     "data": {
      "text/plain": [
       "2542"
      ]
     },
     "execution_count": 20,
     "metadata": {},
     "output_type": "execute_result"
    }
   ],
   "source": [
    "c = data[data['group'] == 'B']['user_id'].nunique()\n",
    "c"
   ]
  },
  {
   "cell_type": "code",
   "execution_count": 21,
   "metadata": {},
   "outputs": [
    {
     "data": {
      "text/plain": [
       "7551"
      ]
     },
     "execution_count": 21,
     "metadata": {},
     "output_type": "execute_result"
    }
   ],
   "source": [
    "a+b+c"
   ]
  },
  {
   "cell_type": "markdown",
   "metadata": {},
   "source": [
    "В каждой группе свои уникальные пользователи, так как сумма числа пользователей совпадает с общим числом пользователей. Если бы пользователи были в двух группах, было бы превышение этой суммы."
   ]
  },
  {
   "cell_type": "markdown",
   "metadata": {},
   "source": [
    "Вывод: На этапе предобработки данных нам удалось заменить названия столбцов, изменить формат даты и добавить стобец с датой, проверить дубликаты и удалить 413 дубликатов, присвоить группам удобные для работы значения. "
   ]
  },
  {
   "cell_type": "markdown",
   "metadata": {},
   "source": [
    "# Шаг 3. Изучить и проверить данные"
   ]
  },
  {
   "cell_type": "markdown",
   "metadata": {},
   "source": [
    "## Количество событий"
   ]
  },
  {
   "cell_type": "code",
   "execution_count": 22,
   "metadata": {},
   "outputs": [
    {
     "data": {
      "text/plain": [
       "MainScreenAppear           119101\n",
       "OffersScreenAppear          46808\n",
       "CartScreenAppear            42668\n",
       "PaymentScreenSuccessful     34118\n",
       "Tutorial                     1018\n",
       "Name: event_name, dtype: int64"
      ]
     },
     "execution_count": 22,
     "metadata": {},
     "output_type": "execute_result"
    }
   ],
   "source": [
    "data['event_name'].value_counts()"
   ]
  },
  {
   "cell_type": "code",
   "execution_count": 23,
   "metadata": {},
   "outputs": [
    {
     "data": {
      "text/plain": [
       "243713"
      ]
     },
     "execution_count": 23,
     "metadata": {},
     "output_type": "execute_result"
    }
   ],
   "source": [
    "data['event_name'].count()"
   ]
  },
  {
   "cell_type": "markdown",
   "metadata": {},
   "source": [
    "## Количество пользователей"
   ]
  },
  {
   "cell_type": "code",
   "execution_count": 24,
   "metadata": {},
   "outputs": [
    {
     "data": {
      "text/plain": [
       "7551"
      ]
     },
     "execution_count": 24,
     "metadata": {},
     "output_type": "execute_result"
    }
   ],
   "source": [
    "users = len(data['user_id'].unique())\n",
    "users"
   ]
  },
  {
   "cell_type": "markdown",
   "metadata": {},
   "source": [
    "## В среднем событий приходится на пользователя"
   ]
  },
  {
   "cell_type": "code",
   "execution_count": 25,
   "metadata": {},
   "outputs": [
    {
     "data": {
      "text/html": [
       "<div>\n",
       "<style scoped>\n",
       "    .dataframe tbody tr th:only-of-type {\n",
       "        vertical-align: middle;\n",
       "    }\n",
       "\n",
       "    .dataframe tbody tr th {\n",
       "        vertical-align: top;\n",
       "    }\n",
       "\n",
       "    .dataframe thead th {\n",
       "        text-align: right;\n",
       "    }\n",
       "</style>\n",
       "<table border=\"1\" class=\"dataframe\">\n",
       "  <thead>\n",
       "    <tr style=\"text-align: right;\">\n",
       "      <th></th>\n",
       "      <th>event_name</th>\n",
       "    </tr>\n",
       "    <tr>\n",
       "      <th>user_id</th>\n",
       "      <th></th>\n",
       "    </tr>\n",
       "  </thead>\n",
       "  <tbody>\n",
       "    <tr>\n",
       "      <th>6888746892508752</th>\n",
       "      <td>1</td>\n",
       "    </tr>\n",
       "    <tr>\n",
       "      <th>6909561520679493</th>\n",
       "      <td>5</td>\n",
       "    </tr>\n",
       "    <tr>\n",
       "      <th>6922444491712477</th>\n",
       "      <td>47</td>\n",
       "    </tr>\n",
       "    <tr>\n",
       "      <th>7435777799948366</th>\n",
       "      <td>6</td>\n",
       "    </tr>\n",
       "    <tr>\n",
       "      <th>7702139951469979</th>\n",
       "      <td>137</td>\n",
       "    </tr>\n",
       "    <tr>\n",
       "      <th>...</th>\n",
       "      <td>...</td>\n",
       "    </tr>\n",
       "    <tr>\n",
       "      <th>9217594193087726423</th>\n",
       "      <td>9</td>\n",
       "    </tr>\n",
       "    <tr>\n",
       "      <th>9219463515465815368</th>\n",
       "      <td>17</td>\n",
       "    </tr>\n",
       "    <tr>\n",
       "      <th>9220879493065341500</th>\n",
       "      <td>7</td>\n",
       "    </tr>\n",
       "    <tr>\n",
       "      <th>9221926045299980007</th>\n",
       "      <td>7</td>\n",
       "    </tr>\n",
       "    <tr>\n",
       "      <th>9222603179720523844</th>\n",
       "      <td>59</td>\n",
       "    </tr>\n",
       "  </tbody>\n",
       "</table>\n",
       "<p>7551 rows × 1 columns</p>\n",
       "</div>"
      ],
      "text/plain": [
       "                     event_name\n",
       "user_id                        \n",
       "6888746892508752              1\n",
       "6909561520679493              5\n",
       "6922444491712477             47\n",
       "7435777799948366              6\n",
       "7702139951469979            137\n",
       "...                         ...\n",
       "9217594193087726423           9\n",
       "9219463515465815368          17\n",
       "9220879493065341500           7\n",
       "9221926045299980007           7\n",
       "9222603179720523844          59\n",
       "\n",
       "[7551 rows x 1 columns]"
      ]
     },
     "execution_count": 25,
     "metadata": {},
     "output_type": "execute_result"
    }
   ],
   "source": [
    "data.groupby('user_id').agg({'event_name': 'count'})"
   ]
  },
  {
   "cell_type": "code",
   "execution_count": 26,
   "metadata": {},
   "outputs": [
    {
     "data": {
      "text/plain": [
       "32.27559263673685"
      ]
     },
     "execution_count": 26,
     "metadata": {},
     "output_type": "execute_result"
    }
   ],
   "source": [
    "data['event_name'].count() / users"
   ]
  },
  {
   "cell_type": "markdown",
   "metadata": {},
   "source": [
    "## Распределение данных во времени"
   ]
  },
  {
   "cell_type": "code",
   "execution_count": 27,
   "metadata": {},
   "outputs": [
    {
     "data": {
      "text/html": [
       "<div>\n",
       "<style scoped>\n",
       "    .dataframe tbody tr th:only-of-type {\n",
       "        vertical-align: middle;\n",
       "    }\n",
       "\n",
       "    .dataframe tbody tr th {\n",
       "        vertical-align: top;\n",
       "    }\n",
       "\n",
       "    .dataframe thead th {\n",
       "        text-align: right;\n",
       "    }\n",
       "</style>\n",
       "<table border=\"1\" class=\"dataframe\">\n",
       "  <thead>\n",
       "    <tr style=\"text-align: right;\">\n",
       "      <th></th>\n",
       "      <th>event_name</th>\n",
       "      <th>user_id</th>\n",
       "      <th>event_timestamp</th>\n",
       "      <th>group</th>\n",
       "      <th>datetime</th>\n",
       "      <th>date</th>\n",
       "    </tr>\n",
       "  </thead>\n",
       "  <tbody>\n",
       "    <tr>\n",
       "      <th>0</th>\n",
       "      <td>MainScreenAppear</td>\n",
       "      <td>4575588528974610257</td>\n",
       "      <td>1564029816</td>\n",
       "      <td>A1</td>\n",
       "      <td>2019-07-25 04:43:36</td>\n",
       "      <td>2019-07-25</td>\n",
       "    </tr>\n",
       "    <tr>\n",
       "      <th>1</th>\n",
       "      <td>MainScreenAppear</td>\n",
       "      <td>7416695313311560658</td>\n",
       "      <td>1564053102</td>\n",
       "      <td>A1</td>\n",
       "      <td>2019-07-25 11:11:42</td>\n",
       "      <td>2019-07-25</td>\n",
       "    </tr>\n",
       "    <tr>\n",
       "      <th>2</th>\n",
       "      <td>PaymentScreenSuccessful</td>\n",
       "      <td>3518123091307005509</td>\n",
       "      <td>1564054127</td>\n",
       "      <td>B</td>\n",
       "      <td>2019-07-25 11:28:47</td>\n",
       "      <td>2019-07-25</td>\n",
       "    </tr>\n",
       "    <tr>\n",
       "      <th>3</th>\n",
       "      <td>CartScreenAppear</td>\n",
       "      <td>3518123091307005509</td>\n",
       "      <td>1564054127</td>\n",
       "      <td>B</td>\n",
       "      <td>2019-07-25 11:28:47</td>\n",
       "      <td>2019-07-25</td>\n",
       "    </tr>\n",
       "    <tr>\n",
       "      <th>4</th>\n",
       "      <td>PaymentScreenSuccessful</td>\n",
       "      <td>6217807653094995999</td>\n",
       "      <td>1564055322</td>\n",
       "      <td>B</td>\n",
       "      <td>2019-07-25 11:48:42</td>\n",
       "      <td>2019-07-25</td>\n",
       "    </tr>\n",
       "    <tr>\n",
       "      <th>...</th>\n",
       "      <td>...</td>\n",
       "      <td>...</td>\n",
       "      <td>...</td>\n",
       "      <td>...</td>\n",
       "      <td>...</td>\n",
       "      <td>...</td>\n",
       "    </tr>\n",
       "    <tr>\n",
       "      <th>243708</th>\n",
       "      <td>MainScreenAppear</td>\n",
       "      <td>4599628364049201812</td>\n",
       "      <td>1565212345</td>\n",
       "      <td>A2</td>\n",
       "      <td>2019-08-07 21:12:25</td>\n",
       "      <td>2019-08-07</td>\n",
       "    </tr>\n",
       "    <tr>\n",
       "      <th>243709</th>\n",
       "      <td>MainScreenAppear</td>\n",
       "      <td>5849806612437486590</td>\n",
       "      <td>1565212439</td>\n",
       "      <td>A1</td>\n",
       "      <td>2019-08-07 21:13:59</td>\n",
       "      <td>2019-08-07</td>\n",
       "    </tr>\n",
       "    <tr>\n",
       "      <th>243710</th>\n",
       "      <td>MainScreenAppear</td>\n",
       "      <td>5746969938801999050</td>\n",
       "      <td>1565212483</td>\n",
       "      <td>A1</td>\n",
       "      <td>2019-08-07 21:14:43</td>\n",
       "      <td>2019-08-07</td>\n",
       "    </tr>\n",
       "    <tr>\n",
       "      <th>243711</th>\n",
       "      <td>MainScreenAppear</td>\n",
       "      <td>5746969938801999050</td>\n",
       "      <td>1565212498</td>\n",
       "      <td>A1</td>\n",
       "      <td>2019-08-07 21:14:58</td>\n",
       "      <td>2019-08-07</td>\n",
       "    </tr>\n",
       "    <tr>\n",
       "      <th>243712</th>\n",
       "      <td>OffersScreenAppear</td>\n",
       "      <td>5746969938801999050</td>\n",
       "      <td>1565212517</td>\n",
       "      <td>A1</td>\n",
       "      <td>2019-08-07 21:15:17</td>\n",
       "      <td>2019-08-07</td>\n",
       "    </tr>\n",
       "  </tbody>\n",
       "</table>\n",
       "<p>243713 rows × 6 columns</p>\n",
       "</div>"
      ],
      "text/plain": [
       "                     event_name              user_id  event_timestamp group  \\\n",
       "0              MainScreenAppear  4575588528974610257       1564029816    A1   \n",
       "1              MainScreenAppear  7416695313311560658       1564053102    A1   \n",
       "2       PaymentScreenSuccessful  3518123091307005509       1564054127     B   \n",
       "3              CartScreenAppear  3518123091307005509       1564054127     B   \n",
       "4       PaymentScreenSuccessful  6217807653094995999       1564055322     B   \n",
       "...                         ...                  ...              ...   ...   \n",
       "243708         MainScreenAppear  4599628364049201812       1565212345    A2   \n",
       "243709         MainScreenAppear  5849806612437486590       1565212439    A1   \n",
       "243710         MainScreenAppear  5746969938801999050       1565212483    A1   \n",
       "243711         MainScreenAppear  5746969938801999050       1565212498    A1   \n",
       "243712       OffersScreenAppear  5746969938801999050       1565212517    A1   \n",
       "\n",
       "                  datetime        date  \n",
       "0      2019-07-25 04:43:36  2019-07-25  \n",
       "1      2019-07-25 11:11:42  2019-07-25  \n",
       "2      2019-07-25 11:28:47  2019-07-25  \n",
       "3      2019-07-25 11:28:47  2019-07-25  \n",
       "4      2019-07-25 11:48:42  2019-07-25  \n",
       "...                    ...         ...  \n",
       "243708 2019-08-07 21:12:25  2019-08-07  \n",
       "243709 2019-08-07 21:13:59  2019-08-07  \n",
       "243710 2019-08-07 21:14:43  2019-08-07  \n",
       "243711 2019-08-07 21:14:58  2019-08-07  \n",
       "243712 2019-08-07 21:15:17  2019-08-07  \n",
       "\n",
       "[243713 rows x 6 columns]"
      ]
     },
     "execution_count": 27,
     "metadata": {},
     "output_type": "execute_result"
    }
   ],
   "source": [
    "data"
   ]
  },
  {
   "cell_type": "code",
   "execution_count": 28,
   "metadata": {},
   "outputs": [
    {
     "name": "stdout",
     "output_type": "stream",
     "text": [
      "<class 'pandas.core.frame.DataFrame'>\n",
      "RangeIndex: 243713 entries, 0 to 243712\n",
      "Data columns (total 6 columns):\n",
      " #   Column           Non-Null Count   Dtype         \n",
      "---  ------           --------------   -----         \n",
      " 0   event_name       243713 non-null  object        \n",
      " 1   user_id          243713 non-null  int64         \n",
      " 2   event_timestamp  243713 non-null  int64         \n",
      " 3   group            243713 non-null  object        \n",
      " 4   datetime         243713 non-null  datetime64[ns]\n",
      " 5   date             243713 non-null  object        \n",
      "dtypes: datetime64[ns](1), int64(2), object(3)\n",
      "memory usage: 11.2+ MB\n"
     ]
    }
   ],
   "source": [
    "data.info()"
   ]
  },
  {
   "cell_type": "code",
   "execution_count": 29,
   "metadata": {},
   "outputs": [],
   "source": [
    "data['date'] = data['date'].astype('datetime64')"
   ]
  },
  {
   "cell_type": "markdown",
   "metadata": {},
   "source": [
    "Минимальная дата"
   ]
  },
  {
   "cell_type": "code",
   "execution_count": 30,
   "metadata": {},
   "outputs": [
    {
     "data": {
      "text/plain": [
       "Timestamp('2019-07-25 04:43:36')"
      ]
     },
     "execution_count": 30,
     "metadata": {},
     "output_type": "execute_result"
    }
   ],
   "source": [
    "data['datetime'].min()"
   ]
  },
  {
   "cell_type": "markdown",
   "metadata": {},
   "source": [
    "Максимальная дата"
   ]
  },
  {
   "cell_type": "code",
   "execution_count": 31,
   "metadata": {},
   "outputs": [
    {
     "data": {
      "text/plain": [
       "Timestamp('2019-08-07 21:15:17')"
      ]
     },
     "execution_count": 31,
     "metadata": {},
     "output_type": "execute_result"
    }
   ],
   "source": [
    "data['datetime'].max()"
   ]
  },
  {
   "cell_type": "markdown",
   "metadata": {},
   "source": [
    "Период времени"
   ]
  },
  {
   "cell_type": "code",
   "execution_count": 32,
   "metadata": {},
   "outputs": [
    {
     "data": {
      "text/plain": [
       "Timedelta('13 days 16:31:41')"
      ]
     },
     "execution_count": 32,
     "metadata": {},
     "output_type": "execute_result"
    }
   ],
   "source": [
    "data['datetime'].max() - data['datetime'].min()"
   ]
  },
  {
   "cell_type": "code",
   "execution_count": 33,
   "metadata": {},
   "outputs": [],
   "source": [
    "temp = data.groupby('date').agg({'event_name':'count'}).reset_index()"
   ]
  },
  {
   "cell_type": "code",
   "execution_count": 34,
   "metadata": {},
   "outputs": [
    {
     "data": {
      "text/html": [
       "<div>\n",
       "<style scoped>\n",
       "    .dataframe tbody tr th:only-of-type {\n",
       "        vertical-align: middle;\n",
       "    }\n",
       "\n",
       "    .dataframe tbody tr th {\n",
       "        vertical-align: top;\n",
       "    }\n",
       "\n",
       "    .dataframe thead th {\n",
       "        text-align: right;\n",
       "    }\n",
       "</style>\n",
       "<table border=\"1\" class=\"dataframe\">\n",
       "  <thead>\n",
       "    <tr style=\"text-align: right;\">\n",
       "      <th></th>\n",
       "      <th>date</th>\n",
       "      <th>event_name</th>\n",
       "    </tr>\n",
       "  </thead>\n",
       "  <tbody>\n",
       "    <tr>\n",
       "      <th>0</th>\n",
       "      <td>2019-07-25</td>\n",
       "      <td>9</td>\n",
       "    </tr>\n",
       "    <tr>\n",
       "      <th>1</th>\n",
       "      <td>2019-07-26</td>\n",
       "      <td>31</td>\n",
       "    </tr>\n",
       "    <tr>\n",
       "      <th>2</th>\n",
       "      <td>2019-07-27</td>\n",
       "      <td>55</td>\n",
       "    </tr>\n",
       "    <tr>\n",
       "      <th>3</th>\n",
       "      <td>2019-07-28</td>\n",
       "      <td>105</td>\n",
       "    </tr>\n",
       "    <tr>\n",
       "      <th>4</th>\n",
       "      <td>2019-07-29</td>\n",
       "      <td>184</td>\n",
       "    </tr>\n",
       "    <tr>\n",
       "      <th>5</th>\n",
       "      <td>2019-07-30</td>\n",
       "      <td>412</td>\n",
       "    </tr>\n",
       "    <tr>\n",
       "      <th>6</th>\n",
       "      <td>2019-07-31</td>\n",
       "      <td>2030</td>\n",
       "    </tr>\n",
       "    <tr>\n",
       "      <th>7</th>\n",
       "      <td>2019-08-01</td>\n",
       "      <td>36141</td>\n",
       "    </tr>\n",
       "    <tr>\n",
       "      <th>8</th>\n",
       "      <td>2019-08-02</td>\n",
       "      <td>35554</td>\n",
       "    </tr>\n",
       "    <tr>\n",
       "      <th>9</th>\n",
       "      <td>2019-08-03</td>\n",
       "      <td>33282</td>\n",
       "    </tr>\n",
       "    <tr>\n",
       "      <th>10</th>\n",
       "      <td>2019-08-04</td>\n",
       "      <td>32968</td>\n",
       "    </tr>\n",
       "    <tr>\n",
       "      <th>11</th>\n",
       "      <td>2019-08-05</td>\n",
       "      <td>36058</td>\n",
       "    </tr>\n",
       "    <tr>\n",
       "      <th>12</th>\n",
       "      <td>2019-08-06</td>\n",
       "      <td>35788</td>\n",
       "    </tr>\n",
       "    <tr>\n",
       "      <th>13</th>\n",
       "      <td>2019-08-07</td>\n",
       "      <td>31096</td>\n",
       "    </tr>\n",
       "  </tbody>\n",
       "</table>\n",
       "</div>"
      ],
      "text/plain": [
       "         date  event_name\n",
       "0  2019-07-25           9\n",
       "1  2019-07-26          31\n",
       "2  2019-07-27          55\n",
       "3  2019-07-28         105\n",
       "4  2019-07-29         184\n",
       "5  2019-07-30         412\n",
       "6  2019-07-31        2030\n",
       "7  2019-08-01       36141\n",
       "8  2019-08-02       35554\n",
       "9  2019-08-03       33282\n",
       "10 2019-08-04       32968\n",
       "11 2019-08-05       36058\n",
       "12 2019-08-06       35788\n",
       "13 2019-08-07       31096"
      ]
     },
     "execution_count": 34,
     "metadata": {},
     "output_type": "execute_result"
    }
   ],
   "source": [
    "temp"
   ]
  },
  {
   "cell_type": "code",
   "execution_count": 35,
   "metadata": {},
   "outputs": [
    {
     "data": {
      "image/png": "[encoded data removed]",
      "text/plain": [
       "<Figure size 720x432 with 1 Axes>"
      ]
     },
     "metadata": {
      "needs_background": "light"
     },
     "output_type": "display_data"
    }
   ],
   "source": [
    "plt.figure(figsize=(10,6))\n",
    "data['date'].hist()\n",
    "plt.ylabel('Частота')\n",
    "plt.xlabel('Дата')\n",
    "plt.title('Гистограмма по дате и времени')\n",
    "plt.show()"
   ]
  },
  {
   "cell_type": "markdown",
   "metadata": {},
   "source": [
    "В основном, активный период начинается в августе. Можно сделать срез по август"
   ]
  },
  {
   "cell_type": "code",
   "execution_count": 36,
   "metadata": {},
   "outputs": [],
   "source": [
    "data_clean = data.loc[data['date'] > '2019-07-31']  "
   ]
  },
  {
   "cell_type": "code",
   "execution_count": 37,
   "metadata": {},
   "outputs": [
    {
     "data": {
      "text/html": [
       "<div>\n",
       "<style scoped>\n",
       "    .dataframe tbody tr th:only-of-type {\n",
       "        vertical-align: middle;\n",
       "    }\n",
       "\n",
       "    .dataframe tbody tr th {\n",
       "        vertical-align: top;\n",
       "    }\n",
       "\n",
       "    .dataframe thead th {\n",
       "        text-align: right;\n",
       "    }\n",
       "</style>\n",
       "<table border=\"1\" class=\"dataframe\">\n",
       "  <thead>\n",
       "    <tr style=\"text-align: right;\">\n",
       "      <th></th>\n",
       "      <th>event_name</th>\n",
       "      <th>user_id</th>\n",
       "      <th>event_timestamp</th>\n",
       "      <th>group</th>\n",
       "      <th>datetime</th>\n",
       "      <th>date</th>\n",
       "    </tr>\n",
       "  </thead>\n",
       "  <tbody>\n",
       "    <tr>\n",
       "      <th>2826</th>\n",
       "      <td>Tutorial</td>\n",
       "      <td>3737462046622621720</td>\n",
       "      <td>1564618048</td>\n",
       "      <td>A1</td>\n",
       "      <td>2019-08-01 00:07:28</td>\n",
       "      <td>2019-08-01</td>\n",
       "    </tr>\n",
       "    <tr>\n",
       "      <th>2827</th>\n",
       "      <td>MainScreenAppear</td>\n",
       "      <td>3737462046622621720</td>\n",
       "      <td>1564618080</td>\n",
       "      <td>A1</td>\n",
       "      <td>2019-08-01 00:08:00</td>\n",
       "      <td>2019-08-01</td>\n",
       "    </tr>\n",
       "    <tr>\n",
       "      <th>2828</th>\n",
       "      <td>MainScreenAppear</td>\n",
       "      <td>3737462046622621720</td>\n",
       "      <td>1564618135</td>\n",
       "      <td>A1</td>\n",
       "      <td>2019-08-01 00:08:55</td>\n",
       "      <td>2019-08-01</td>\n",
       "    </tr>\n",
       "    <tr>\n",
       "      <th>2829</th>\n",
       "      <td>OffersScreenAppear</td>\n",
       "      <td>3737462046622621720</td>\n",
       "      <td>1564618138</td>\n",
       "      <td>A1</td>\n",
       "      <td>2019-08-01 00:08:58</td>\n",
       "      <td>2019-08-01</td>\n",
       "    </tr>\n",
       "    <tr>\n",
       "      <th>2830</th>\n",
       "      <td>MainScreenAppear</td>\n",
       "      <td>1433840883824088890</td>\n",
       "      <td>1564618139</td>\n",
       "      <td>A2</td>\n",
       "      <td>2019-08-01 00:08:59</td>\n",
       "      <td>2019-08-01</td>\n",
       "    </tr>\n",
       "    <tr>\n",
       "      <th>...</th>\n",
       "      <td>...</td>\n",
       "      <td>...</td>\n",
       "      <td>...</td>\n",
       "      <td>...</td>\n",
       "      <td>...</td>\n",
       "      <td>...</td>\n",
       "    </tr>\n",
       "    <tr>\n",
       "      <th>243708</th>\n",
       "      <td>MainScreenAppear</td>\n",
       "      <td>4599628364049201812</td>\n",
       "      <td>1565212345</td>\n",
       "      <td>A2</td>\n",
       "      <td>2019-08-07 21:12:25</td>\n",
       "      <td>2019-08-07</td>\n",
       "    </tr>\n",
       "    <tr>\n",
       "      <th>243709</th>\n",
       "      <td>MainScreenAppear</td>\n",
       "      <td>5849806612437486590</td>\n",
       "      <td>1565212439</td>\n",
       "      <td>A1</td>\n",
       "      <td>2019-08-07 21:13:59</td>\n",
       "      <td>2019-08-07</td>\n",
       "    </tr>\n",
       "    <tr>\n",
       "      <th>243710</th>\n",
       "      <td>MainScreenAppear</td>\n",
       "      <td>5746969938801999050</td>\n",
       "      <td>1565212483</td>\n",
       "      <td>A1</td>\n",
       "      <td>2019-08-07 21:14:43</td>\n",
       "      <td>2019-08-07</td>\n",
       "    </tr>\n",
       "    <tr>\n",
       "      <th>243711</th>\n",
       "      <td>MainScreenAppear</td>\n",
       "      <td>5746969938801999050</td>\n",
       "      <td>1565212498</td>\n",
       "      <td>A1</td>\n",
       "      <td>2019-08-07 21:14:58</td>\n",
       "      <td>2019-08-07</td>\n",
       "    </tr>\n",
       "    <tr>\n",
       "      <th>243712</th>\n",
       "      <td>OffersScreenAppear</td>\n",
       "      <td>5746969938801999050</td>\n",
       "      <td>1565212517</td>\n",
       "      <td>A1</td>\n",
       "      <td>2019-08-07 21:15:17</td>\n",
       "      <td>2019-08-07</td>\n",
       "    </tr>\n",
       "  </tbody>\n",
       "</table>\n",
       "<p>240887 rows × 6 columns</p>\n",
       "</div>"
      ],
      "text/plain": [
       "                event_name              user_id  event_timestamp group  \\\n",
       "2826              Tutorial  3737462046622621720       1564618048    A1   \n",
       "2827      MainScreenAppear  3737462046622621720       1564618080    A1   \n",
       "2828      MainScreenAppear  3737462046622621720       1564618135    A1   \n",
       "2829    OffersScreenAppear  3737462046622621720       1564618138    A1   \n",
       "2830      MainScreenAppear  1433840883824088890       1564618139    A2   \n",
       "...                    ...                  ...              ...   ...   \n",
       "243708    MainScreenAppear  4599628364049201812       1565212345    A2   \n",
       "243709    MainScreenAppear  5849806612437486590       1565212439    A1   \n",
       "243710    MainScreenAppear  5746969938801999050       1565212483    A1   \n",
       "243711    MainScreenAppear  5746969938801999050       1565212498    A1   \n",
       "243712  OffersScreenAppear  5746969938801999050       1565212517    A1   \n",
       "\n",
       "                  datetime       date  \n",
       "2826   2019-08-01 00:07:28 2019-08-01  \n",
       "2827   2019-08-01 00:08:00 2019-08-01  \n",
       "2828   2019-08-01 00:08:55 2019-08-01  \n",
       "2829   2019-08-01 00:08:58 2019-08-01  \n",
       "2830   2019-08-01 00:08:59 2019-08-01  \n",
       "...                    ...        ...  \n",
       "243708 2019-08-07 21:12:25 2019-08-07  \n",
       "243709 2019-08-07 21:13:59 2019-08-07  \n",
       "243710 2019-08-07 21:14:43 2019-08-07  \n",
       "243711 2019-08-07 21:14:58 2019-08-07  \n",
       "243712 2019-08-07 21:15:17 2019-08-07  \n",
       "\n",
       "[240887 rows x 6 columns]"
      ]
     },
     "execution_count": 37,
     "metadata": {},
     "output_type": "execute_result"
    }
   ],
   "source": [
    "data_clean"
   ]
  },
  {
   "cell_type": "markdown",
   "metadata": {},
   "source": [
    "## Много ли событий и пользователей вы потеряли, отбросив старые данные?"
   ]
  },
  {
   "cell_type": "code",
   "execution_count": 38,
   "metadata": {},
   "outputs": [
    {
     "name": "stdout",
     "output_type": "stream",
     "text": [
      "<class 'pandas.core.frame.DataFrame'>\n",
      "Int64Index: 240887 entries, 2826 to 243712\n",
      "Data columns (total 6 columns):\n",
      " #   Column           Non-Null Count   Dtype         \n",
      "---  ------           --------------   -----         \n",
      " 0   event_name       240887 non-null  object        \n",
      " 1   user_id          240887 non-null  int64         \n",
      " 2   event_timestamp  240887 non-null  int64         \n",
      " 3   group            240887 non-null  object        \n",
      " 4   datetime         240887 non-null  datetime64[ns]\n",
      " 5   date             240887 non-null  datetime64[ns]\n",
      "dtypes: datetime64[ns](2), int64(2), object(2)\n",
      "memory usage: 12.9+ MB\n"
     ]
    }
   ],
   "source": [
    "data_clean.info()"
   ]
  },
  {
   "cell_type": "markdown",
   "metadata": {},
   "source": [
    "Было 243713 значений, после фильтрации стало 240887"
   ]
  },
  {
   "cell_type": "code",
   "execution_count": 39,
   "metadata": {},
   "outputs": [],
   "source": [
    "#a = len(data) - len(data_clean)\n",
    "#c = round((a / len(data))*100,2)\n",
    "#c"
   ]
  },
  {
   "cell_type": "code",
   "execution_count": 40,
   "metadata": {},
   "outputs": [
    {
     "data": {
      "text/plain": [
       "7551"
      ]
     },
     "execution_count": 40,
     "metadata": {},
     "output_type": "execute_result"
    }
   ],
   "source": [
    "data['user_id'].nunique()"
   ]
  },
  {
   "cell_type": "code",
   "execution_count": 41,
   "metadata": {},
   "outputs": [],
   "source": [
    "#print('В результате фильтрации мы потеряли %d событий' % a)"
   ]
  },
  {
   "cell_type": "code",
   "execution_count": 42,
   "metadata": {},
   "outputs": [],
   "source": [
    "#b = len(data['user_id'].unique()) -len(data_clean['user_id'].unique())"
   ]
  },
  {
   "cell_type": "code",
   "execution_count": 43,
   "metadata": {},
   "outputs": [],
   "source": [
    "#print('В результате фильтрации мы потеряли %d пользователей' % b)"
   ]
  },
  {
   "cell_type": "code",
   "execution_count": 44,
   "metadata": {
    "scrolled": true
   },
   "outputs": [
    {
     "name": "stdout",
     "output_type": "stream",
     "text": [
      "Было событий = 243713 , Стало = 240887 , На сколько уменьшилось = 2826 , Потяря = 1.16%\n"
     ]
    }
   ],
   "source": [
    "print(f'Было событий = {len(data)} , Стало = {len(data_clean)} , На сколько уменьшилось = {len(data) - len(data_clean)} , Потяря = {round(((len(data) - len(data_clean))/len(data))*100,2)}%')"
   ]
  },
  {
   "cell_type": "code",
   "execution_count": 45,
   "metadata": {},
   "outputs": [],
   "source": [
    "old = data['user_id'].nunique()\n",
    "new = data_clean['user_id'].nunique()"
   ]
  },
  {
   "cell_type": "code",
   "execution_count": 46,
   "metadata": {},
   "outputs": [
    {
     "name": "stdout",
     "output_type": "stream",
     "text": [
      "Было пользователей = 7551 / Стало = 7534 / На сколько уменьшилось = 17 / Потяря = 0.23%\n"
     ]
    }
   ],
   "source": [
    "print(f'Было пользователей = {old} / Стало = {new} / На сколько уменьшилось = {old-new} / Потяря = {round(((old-new)/old)*100,2)}%')\n",
    "\n"
   ]
  },
  {
   "cell_type": "markdown",
   "metadata": {},
   "source": [
    "В результате фильтрации мы потеряли 1.16% данных и 0.23%: пользователей, что может говорить о малом влиянии на дальнейшее исследования. Так как большинство данных и пользователей остались"
   ]
  },
  {
   "cell_type": "markdown",
   "metadata": {},
   "source": [
    "## Проверьте, что у вас есть пользователи из всех трёх экспериментальных групп"
   ]
  },
  {
   "cell_type": "code",
   "execution_count": 47,
   "metadata": {},
   "outputs": [
    {
     "data": {
      "text/html": [
       "<div>\n",
       "<style scoped>\n",
       "    .dataframe tbody tr th:only-of-type {\n",
       "        vertical-align: middle;\n",
       "    }\n",
       "\n",
       "    .dataframe tbody tr th {\n",
       "        vertical-align: top;\n",
       "    }\n",
       "\n",
       "    .dataframe thead th {\n",
       "        text-align: right;\n",
       "    }\n",
       "</style>\n",
       "<table border=\"1\" class=\"dataframe\">\n",
       "  <thead>\n",
       "    <tr style=\"text-align: right;\">\n",
       "      <th></th>\n",
       "      <th>user_id</th>\n",
       "    </tr>\n",
       "    <tr>\n",
       "      <th>group</th>\n",
       "      <th></th>\n",
       "    </tr>\n",
       "  </thead>\n",
       "  <tbody>\n",
       "    <tr>\n",
       "      <th>A1</th>\n",
       "      <td>79302</td>\n",
       "    </tr>\n",
       "    <tr>\n",
       "      <th>A2</th>\n",
       "      <td>77022</td>\n",
       "    </tr>\n",
       "    <tr>\n",
       "      <th>B</th>\n",
       "      <td>84563</td>\n",
       "    </tr>\n",
       "  </tbody>\n",
       "</table>\n",
       "</div>"
      ],
      "text/plain": [
       "       user_id\n",
       "group         \n",
       "A1       79302\n",
       "A2       77022\n",
       "B        84563"
      ]
     },
     "execution_count": 47,
     "metadata": {},
     "output_type": "execute_result"
    }
   ],
   "source": [
    "data_clean.groupby('group').agg({'user_id':'count'})"
   ]
  },
  {
   "cell_type": "markdown",
   "metadata": {},
   "source": [
    "# Шаг 4. Изучить воронку событий"
   ]
  },
  {
   "cell_type": "markdown",
   "metadata": {},
   "source": [
    "## Изучаем воронку событий"
   ]
  },
  {
   "cell_type": "code",
   "execution_count": 48,
   "metadata": {},
   "outputs": [
    {
     "data": {
      "text/plain": [
       "MainScreenAppear           117328\n",
       "OffersScreenAppear          46333\n",
       "CartScreenAppear            42303\n",
       "PaymentScreenSuccessful     33918\n",
       "Tutorial                     1005\n",
       "Name: event_name, dtype: int64"
      ]
     },
     "execution_count": 48,
     "metadata": {},
     "output_type": "execute_result"
    }
   ],
   "source": [
    "data_clean['event_name'].value_counts()\n"
   ]
  },
  {
   "cell_type": "code",
   "execution_count": 49,
   "metadata": {},
   "outputs": [
    {
     "data": {
      "text/html": [
       "<div>\n",
       "<style scoped>\n",
       "    .dataframe tbody tr th:only-of-type {\n",
       "        vertical-align: middle;\n",
       "    }\n",
       "\n",
       "    .dataframe tbody tr th {\n",
       "        vertical-align: top;\n",
       "    }\n",
       "\n",
       "    .dataframe thead th {\n",
       "        text-align: right;\n",
       "    }\n",
       "</style>\n",
       "<table border=\"1\" class=\"dataframe\">\n",
       "  <thead>\n",
       "    <tr style=\"text-align: right;\">\n",
       "      <th></th>\n",
       "      <th>event_name</th>\n",
       "      <th>total_users</th>\n",
       "      <th>users_event</th>\n",
       "    </tr>\n",
       "  </thead>\n",
       "  <tbody>\n",
       "    <tr>\n",
       "      <th>0</th>\n",
       "      <td>MainScreenAppear</td>\n",
       "      <td>7419</td>\n",
       "      <td>36.86</td>\n",
       "    </tr>\n",
       "    <tr>\n",
       "      <th>1</th>\n",
       "      <td>OffersScreenAppear</td>\n",
       "      <td>4593</td>\n",
       "      <td>22.82</td>\n",
       "    </tr>\n",
       "    <tr>\n",
       "      <th>2</th>\n",
       "      <td>CartScreenAppear</td>\n",
       "      <td>3734</td>\n",
       "      <td>18.55</td>\n",
       "    </tr>\n",
       "    <tr>\n",
       "      <th>3</th>\n",
       "      <td>PaymentScreenSuccessful</td>\n",
       "      <td>3539</td>\n",
       "      <td>17.59</td>\n",
       "    </tr>\n",
       "    <tr>\n",
       "      <th>4</th>\n",
       "      <td>Tutorial</td>\n",
       "      <td>840</td>\n",
       "      <td>4.17</td>\n",
       "    </tr>\n",
       "  </tbody>\n",
       "</table>\n",
       "</div>"
      ],
      "text/plain": [
       "                event_name  total_users  users_event\n",
       "0         MainScreenAppear         7419        36.86\n",
       "1       OffersScreenAppear         4593        22.82\n",
       "2         CartScreenAppear         3734        18.55\n",
       "3  PaymentScreenSuccessful         3539        17.59\n",
       "4                 Tutorial          840         4.17"
      ]
     },
     "execution_count": 49,
     "metadata": {},
     "output_type": "execute_result"
    }
   ],
   "source": [
    "users = data_clean.groupby('event_name').agg({'user_id':'nunique'}).sort_values(by='user_id',ascending=False).rename(columns={'user_id':'total_users'})\n",
    "users['users_event'] = round(users['total_users'] / users['total_users'].sum() * 100,2)\n",
    "users = users.reset_index()\n",
    "users"
   ]
  },
  {
   "cell_type": "code",
   "execution_count": 50,
   "metadata": {},
   "outputs": [
    {
     "data": {
      "text/html": [
       "<div>\n",
       "<style scoped>\n",
       "    .dataframe tbody tr th:only-of-type {\n",
       "        vertical-align: middle;\n",
       "    }\n",
       "\n",
       "    .dataframe tbody tr th {\n",
       "        vertical-align: top;\n",
       "    }\n",
       "\n",
       "    .dataframe thead th {\n",
       "        text-align: right;\n",
       "    }\n",
       "</style>\n",
       "<table border=\"1\" class=\"dataframe\">\n",
       "  <thead>\n",
       "    <tr style=\"text-align: right;\">\n",
       "      <th></th>\n",
       "      <th>event_name</th>\n",
       "      <th>n_events</th>\n",
       "      <th>users</th>\n",
       "      <th>users_part_1st_event</th>\n",
       "    </tr>\n",
       "  </thead>\n",
       "  <tbody>\n",
       "    <tr>\n",
       "      <th>0</th>\n",
       "      <td>MainScreenAppear</td>\n",
       "      <td>117328</td>\n",
       "      <td>7419</td>\n",
       "      <td>98.5</td>\n",
       "    </tr>\n",
       "    <tr>\n",
       "      <th>1</th>\n",
       "      <td>OffersScreenAppear</td>\n",
       "      <td>46333</td>\n",
       "      <td>4593</td>\n",
       "      <td>61.0</td>\n",
       "    </tr>\n",
       "    <tr>\n",
       "      <th>2</th>\n",
       "      <td>CartScreenAppear</td>\n",
       "      <td>42303</td>\n",
       "      <td>3734</td>\n",
       "      <td>49.6</td>\n",
       "    </tr>\n",
       "    <tr>\n",
       "      <th>3</th>\n",
       "      <td>PaymentScreenSuccessful</td>\n",
       "      <td>33918</td>\n",
       "      <td>3539</td>\n",
       "      <td>47.0</td>\n",
       "    </tr>\n",
       "    <tr>\n",
       "      <th>4</th>\n",
       "      <td>Tutorial</td>\n",
       "      <td>1005</td>\n",
       "      <td>840</td>\n",
       "      <td>11.1</td>\n",
       "    </tr>\n",
       "  </tbody>\n",
       "</table>\n",
       "</div>"
      ],
      "text/plain": [
       "                event_name  n_events  users  users_part_1st_event\n",
       "0         MainScreenAppear    117328   7419                  98.5\n",
       "1       OffersScreenAppear     46333   4593                  61.0\n",
       "2         CartScreenAppear     42303   3734                  49.6\n",
       "3  PaymentScreenSuccessful     33918   3539                  47.0\n",
       "4                 Tutorial      1005    840                  11.1"
      ]
     },
     "execution_count": 50,
     "metadata": {},
     "output_type": "execute_result"
    }
   ],
   "source": [
    "user_events = data_clean.groupby('event_name').agg({'event_name':'count', 'user_id':'nunique'}).sort_values(by='user_id', ascending=False)\n",
    "user_events.columns = ['n_events', 'users']\n",
    "user_events = user_events.reset_index()\n",
    "user_events['users_part_1st_event'] = (user_events['users'] / new * 100).round(1) \n",
    "user_events"
   ]
  },
  {
   "cell_type": "code",
   "execution_count": 51,
   "metadata": {},
   "outputs": [
    {
     "data": {
      "text/plain": [
       "Text(0.5, 1.0, 'События по числу пользователей')"
      ]
     },
     "execution_count": 51,
     "metadata": {},
     "output_type": "execute_result"
    },
    {
     "data": {
      "image/png": "[encoded data removed]",
      "text/plain": [
       "<Figure size 432x288 with 1 Axes>"
      ]
     },
     "metadata": {
      "needs_background": "light"
     },
     "output_type": "display_data"
    }
   ],
   "source": [
    "sns.barplot(x='total_users',y='event_name',data=users)\n",
    "plt.xlabel('Пользователи')\n",
    "plt.ylabel('События')\n",
    "plt.title('События по числу пользователей')"
   ]
  },
  {
   "cell_type": "code",
   "execution_count": 52,
   "metadata": {},
   "outputs": [
    {
     "data": {
      "text/plain": [
       "Text(0.5, 1.0, 'Доли пользователей совершивших хоть одно событие от всех пользователей')"
      ]
     },
     "execution_count": 52,
     "metadata": {},
     "output_type": "execute_result"
    },
    {
     "data": {
      "image/png": "[encoded data removed]",
      "text/plain": [
       "<Figure size 432x288 with 1 Axes>"
      ]
     },
     "metadata": {
      "needs_background": "light"
     },
     "output_type": "display_data"
    }
   ],
   "source": [
    "sns.barplot(x='users_event',y='event_name',data=users)\n",
    "plt.xlabel('Доли пользователей')\n",
    "plt.ylabel('События')\n",
    "plt.title('Доли пользователей совершивших хоть одно событие от всех пользователей')"
   ]
  },
  {
   "cell_type": "markdown",
   "metadata": {},
   "source": [
    "## Предположите, в каком порядке происходят события."
   ]
  },
  {
   "cell_type": "markdown",
   "metadata": {},
   "source": [
    "1. MainScreenAppear - Появление Главного экрана - Зашли на сайт\n",
    "2. OffersScreenAppear - Появление Экрана Предложений - Искали товар по каталогу\n",
    "3. CartScreenAppear - Появление Экрана Корзины - Добавили в корзину\n",
    "4. PaymentScreenSuccessful - Экран Платеж Успешен - Оплатили"
   ]
  },
  {
   "cell_type": "code",
   "execution_count": 53,
   "metadata": {
    "scrolled": true
   },
   "outputs": [
    {
     "data": {
      "text/html": [
       "<div>\n",
       "<style scoped>\n",
       "    .dataframe tbody tr th:only-of-type {\n",
       "        vertical-align: middle;\n",
       "    }\n",
       "\n",
       "    .dataframe tbody tr th {\n",
       "        vertical-align: top;\n",
       "    }\n",
       "\n",
       "    .dataframe thead th {\n",
       "        text-align: right;\n",
       "    }\n",
       "</style>\n",
       "<table border=\"1\" class=\"dataframe\">\n",
       "  <thead>\n",
       "    <tr style=\"text-align: right;\">\n",
       "      <th></th>\n",
       "      <th>event_name</th>\n",
       "      <th>total_users</th>\n",
       "      <th>users_event</th>\n",
       "    </tr>\n",
       "  </thead>\n",
       "  <tbody>\n",
       "    <tr>\n",
       "      <th>0</th>\n",
       "      <td>MainScreenAppear</td>\n",
       "      <td>7419</td>\n",
       "      <td>36.86</td>\n",
       "    </tr>\n",
       "    <tr>\n",
       "      <th>1</th>\n",
       "      <td>OffersScreenAppear</td>\n",
       "      <td>4593</td>\n",
       "      <td>22.82</td>\n",
       "    </tr>\n",
       "    <tr>\n",
       "      <th>2</th>\n",
       "      <td>CartScreenAppear</td>\n",
       "      <td>3734</td>\n",
       "      <td>18.55</td>\n",
       "    </tr>\n",
       "    <tr>\n",
       "      <th>3</th>\n",
       "      <td>PaymentScreenSuccessful</td>\n",
       "      <td>3539</td>\n",
       "      <td>17.59</td>\n",
       "    </tr>\n",
       "  </tbody>\n",
       "</table>\n",
       "</div>"
      ],
      "text/plain": [
       "                event_name  total_users  users_event\n",
       "0         MainScreenAppear         7419        36.86\n",
       "1       OffersScreenAppear         4593        22.82\n",
       "2         CartScreenAppear         3734        18.55\n",
       "3  PaymentScreenSuccessful         3539        17.59"
      ]
     },
     "execution_count": 53,
     "metadata": {},
     "output_type": "execute_result"
    }
   ],
   "source": [
    "users = users[users['event_name'] != 'Tutorial']\n",
    "users"
   ]
  },
  {
   "cell_type": "code",
   "execution_count": 54,
   "metadata": {},
   "outputs": [
    {
     "name": "stdout",
     "output_type": "stream",
     "text": [
      "7419\n"
     ]
    }
   ],
   "source": [
    "prev_users = users.loc[0,'total_users']\n",
    "print(prev_users)"
   ]
  },
  {
   "cell_type": "code",
   "execution_count": 55,
   "metadata": {},
   "outputs": [
    {
     "name": "stderr",
     "output_type": "stream",
     "text": [
      "/opt/conda/lib/python3.9/site-packages/pandas/core/indexing.py:1599: SettingWithCopyWarning: \n",
      "A value is trying to be set on a copy of a slice from a DataFrame.\n",
      "Try using .loc[row_indexer,col_indexer] = value instead\n",
      "\n",
      "See the caveats in the documentation: https://pandas.pydata.org/pandas-docs/stable/user_guide/indexing.html#returning-a-view-versus-a-copy\n",
      "  self.obj[key] = infer_fill_value(value)\n",
      "/opt/conda/lib/python3.9/site-packages/pandas/core/indexing.py:1720: SettingWithCopyWarning: \n",
      "A value is trying to be set on a copy of a slice from a DataFrame.\n",
      "Try using .loc[row_indexer,col_indexer] = value instead\n",
      "\n",
      "See the caveats in the documentation: https://pandas.pydata.org/pandas-docs/stable/user_guide/indexing.html#returning-a-view-versus-a-copy\n",
      "  self._setitem_single_column(loc, value, pi)\n"
     ]
    }
   ],
   "source": [
    "for i in users.index:\n",
    "    users.loc[i,'users_step'] = (users.loc[i,'total_users'] / prev_users * 100).round(2)\n",
    "    users.loc[i,'users_step_start'] = round((users.loc[i,'total_users']/ max(users['total_users'])) * 100,2)\n",
    "    prev_users = users.loc[i,'total_users']"
   ]
  },
  {
   "cell_type": "code",
   "execution_count": 56,
   "metadata": {},
   "outputs": [
    {
     "data": {
      "text/html": [
       "<div>\n",
       "<style scoped>\n",
       "    .dataframe tbody tr th:only-of-type {\n",
       "        vertical-align: middle;\n",
       "    }\n",
       "\n",
       "    .dataframe tbody tr th {\n",
       "        vertical-align: top;\n",
       "    }\n",
       "\n",
       "    .dataframe thead th {\n",
       "        text-align: right;\n",
       "    }\n",
       "</style>\n",
       "<table border=\"1\" class=\"dataframe\">\n",
       "  <thead>\n",
       "    <tr style=\"text-align: right;\">\n",
       "      <th></th>\n",
       "      <th>event_name</th>\n",
       "      <th>total_users</th>\n",
       "      <th>users_event</th>\n",
       "      <th>users_step</th>\n",
       "      <th>users_step_start</th>\n",
       "    </tr>\n",
       "  </thead>\n",
       "  <tbody>\n",
       "    <tr>\n",
       "      <th>0</th>\n",
       "      <td>MainScreenAppear</td>\n",
       "      <td>7419</td>\n",
       "      <td>36.86</td>\n",
       "      <td>100.00</td>\n",
       "      <td>100.00</td>\n",
       "    </tr>\n",
       "    <tr>\n",
       "      <th>1</th>\n",
       "      <td>OffersScreenAppear</td>\n",
       "      <td>4593</td>\n",
       "      <td>22.82</td>\n",
       "      <td>61.91</td>\n",
       "      <td>61.91</td>\n",
       "    </tr>\n",
       "    <tr>\n",
       "      <th>2</th>\n",
       "      <td>CartScreenAppear</td>\n",
       "      <td>3734</td>\n",
       "      <td>18.55</td>\n",
       "      <td>81.30</td>\n",
       "      <td>50.33</td>\n",
       "    </tr>\n",
       "    <tr>\n",
       "      <th>3</th>\n",
       "      <td>PaymentScreenSuccessful</td>\n",
       "      <td>3539</td>\n",
       "      <td>17.59</td>\n",
       "      <td>94.78</td>\n",
       "      <td>47.70</td>\n",
       "    </tr>\n",
       "  </tbody>\n",
       "</table>\n",
       "</div>"
      ],
      "text/plain": [
       "                event_name  total_users  users_event  users_step  \\\n",
       "0         MainScreenAppear         7419        36.86      100.00   \n",
       "1       OffersScreenAppear         4593        22.82       61.91   \n",
       "2         CartScreenAppear         3734        18.55       81.30   \n",
       "3  PaymentScreenSuccessful         3539        17.59       94.78   \n",
       "\n",
       "   users_step_start  \n",
       "0            100.00  \n",
       "1             61.91  \n",
       "2             50.33  \n",
       "3             47.70  "
      ]
     },
     "execution_count": 56,
     "metadata": {},
     "output_type": "execute_result"
    }
   ],
   "source": [
    "users"
   ]
  },
  {
   "cell_type": "markdown",
   "metadata": {},
   "source": [
    "## На каком шаге теряете больше всего пользователей?"
   ]
  },
  {
   "cell_type": "markdown",
   "metadata": {},
   "source": [
    "На этапе когда пользователь заходит на сайт, на следующий этап переходит лишь 60%. Нужно проверить главный экран, там могут быть какие нибудь ошибки или баги. "
   ]
  },
  {
   "cell_type": "markdown",
   "metadata": {},
   "source": [
    "## Какая доля пользователей доходит от первого события до оплаты?"
   ]
  },
  {
   "cell_type": "markdown",
   "metadata": {},
   "source": [
    "До этапа оплаты доходит примерно 48% от начального числа пользователй, которые посетили сайт. "
   ]
  },
  {
   "cell_type": "markdown",
   "metadata": {},
   "source": [
    "Выводы:\n",
    "Воронка продаж идет по следующему порядку:\n",
    "\n",
    "1. MainScreenAppear - Появление Главного экрана - Зашли на сайт\n",
    "2. OffersScreenAppear - Появление Экрана Предложений - Искали товар по каталогу\n",
    "3. CartScreenAppear - Появление Экрана Корзины - Добавили в корзину\n",
    "4. PaymentScreenSuccessful - Экран Платеж Успешен - Оплатили\n",
    "\n",
    "На второй этап воронки попадает 62% пользователей, а 38% \"теряются по дороге\". Это большая цифра и здесь необходимо веб-аналитикам выянить почему так происходит, наверняка есть возможность исправить ситуацию;\n",
    "\n",
    "Событие \"5.Tutorial\" не несет полезной нагрузки, поэтому его можно не принимать во внимание;"
   ]
  },
  {
   "cell_type": "markdown",
   "metadata": {},
   "source": [
    "# 5 Изучите результаты эксперимента"
   ]
  },
  {
   "cell_type": "markdown",
   "metadata": {},
   "source": [
    "## Сколько пользователей в каждой экспериментальной группе?"
   ]
  },
  {
   "cell_type": "code",
   "execution_count": 57,
   "metadata": {},
   "outputs": [
    {
     "data": {
      "text/html": [
       "<div>\n",
       "<style scoped>\n",
       "    .dataframe tbody tr th:only-of-type {\n",
       "        vertical-align: middle;\n",
       "    }\n",
       "\n",
       "    .dataframe tbody tr th {\n",
       "        vertical-align: top;\n",
       "    }\n",
       "\n",
       "    .dataframe thead th {\n",
       "        text-align: right;\n",
       "    }\n",
       "</style>\n",
       "<table border=\"1\" class=\"dataframe\">\n",
       "  <thead>\n",
       "    <tr style=\"text-align: right;\">\n",
       "      <th></th>\n",
       "      <th>event_name</th>\n",
       "      <th>user_id</th>\n",
       "      <th>event_timestamp</th>\n",
       "      <th>group</th>\n",
       "      <th>datetime</th>\n",
       "      <th>date</th>\n",
       "    </tr>\n",
       "  </thead>\n",
       "  <tbody>\n",
       "    <tr>\n",
       "      <th>2826</th>\n",
       "      <td>Tutorial</td>\n",
       "      <td>3737462046622621720</td>\n",
       "      <td>1564618048</td>\n",
       "      <td>A1</td>\n",
       "      <td>2019-08-01 00:07:28</td>\n",
       "      <td>2019-08-01</td>\n",
       "    </tr>\n",
       "    <tr>\n",
       "      <th>2827</th>\n",
       "      <td>MainScreenAppear</td>\n",
       "      <td>3737462046622621720</td>\n",
       "      <td>1564618080</td>\n",
       "      <td>A1</td>\n",
       "      <td>2019-08-01 00:08:00</td>\n",
       "      <td>2019-08-01</td>\n",
       "    </tr>\n",
       "    <tr>\n",
       "      <th>2828</th>\n",
       "      <td>MainScreenAppear</td>\n",
       "      <td>3737462046622621720</td>\n",
       "      <td>1564618135</td>\n",
       "      <td>A1</td>\n",
       "      <td>2019-08-01 00:08:55</td>\n",
       "      <td>2019-08-01</td>\n",
       "    </tr>\n",
       "    <tr>\n",
       "      <th>2829</th>\n",
       "      <td>OffersScreenAppear</td>\n",
       "      <td>3737462046622621720</td>\n",
       "      <td>1564618138</td>\n",
       "      <td>A1</td>\n",
       "      <td>2019-08-01 00:08:58</td>\n",
       "      <td>2019-08-01</td>\n",
       "    </tr>\n",
       "    <tr>\n",
       "      <th>2830</th>\n",
       "      <td>MainScreenAppear</td>\n",
       "      <td>1433840883824088890</td>\n",
       "      <td>1564618139</td>\n",
       "      <td>A2</td>\n",
       "      <td>2019-08-01 00:08:59</td>\n",
       "      <td>2019-08-01</td>\n",
       "    </tr>\n",
       "  </tbody>\n",
       "</table>\n",
       "</div>"
      ],
      "text/plain": [
       "              event_name              user_id  event_timestamp group  \\\n",
       "2826            Tutorial  3737462046622621720       1564618048    A1   \n",
       "2827    MainScreenAppear  3737462046622621720       1564618080    A1   \n",
       "2828    MainScreenAppear  3737462046622621720       1564618135    A1   \n",
       "2829  OffersScreenAppear  3737462046622621720       1564618138    A1   \n",
       "2830    MainScreenAppear  1433840883824088890       1564618139    A2   \n",
       "\n",
       "                datetime       date  \n",
       "2826 2019-08-01 00:07:28 2019-08-01  \n",
       "2827 2019-08-01 00:08:00 2019-08-01  \n",
       "2828 2019-08-01 00:08:55 2019-08-01  \n",
       "2829 2019-08-01 00:08:58 2019-08-01  \n",
       "2830 2019-08-01 00:08:59 2019-08-01  "
      ]
     },
     "execution_count": 57,
     "metadata": {},
     "output_type": "execute_result"
    }
   ],
   "source": [
    "data_clean.head(5)"
   ]
  },
  {
   "cell_type": "code",
   "execution_count": 58,
   "metadata": {},
   "outputs": [
    {
     "data": {
      "text/html": [
       "<div>\n",
       "<style scoped>\n",
       "    .dataframe tbody tr th:only-of-type {\n",
       "        vertical-align: middle;\n",
       "    }\n",
       "\n",
       "    .dataframe tbody tr th {\n",
       "        vertical-align: top;\n",
       "    }\n",
       "\n",
       "    .dataframe thead th {\n",
       "        text-align: right;\n",
       "    }\n",
       "</style>\n",
       "<table border=\"1\" class=\"dataframe\">\n",
       "  <thead>\n",
       "    <tr style=\"text-align: right;\">\n",
       "      <th></th>\n",
       "      <th>user_id</th>\n",
       "    </tr>\n",
       "    <tr>\n",
       "      <th>group</th>\n",
       "      <th></th>\n",
       "    </tr>\n",
       "  </thead>\n",
       "  <tbody>\n",
       "    <tr>\n",
       "      <th>A1</th>\n",
       "      <td>2484</td>\n",
       "    </tr>\n",
       "    <tr>\n",
       "      <th>A2</th>\n",
       "      <td>2513</td>\n",
       "    </tr>\n",
       "    <tr>\n",
       "      <th>B</th>\n",
       "      <td>2537</td>\n",
       "    </tr>\n",
       "  </tbody>\n",
       "</table>\n",
       "</div>"
      ],
      "text/plain": [
       "       user_id\n",
       "group         \n",
       "A1        2484\n",
       "A2        2513\n",
       "B         2537"
      ]
     },
     "execution_count": 58,
     "metadata": {},
     "output_type": "execute_result"
    }
   ],
   "source": [
    "data_clean.groupby('group').agg({'user_id':'nunique'})"
   ]
  },
  {
   "cell_type": "code",
   "execution_count": 59,
   "metadata": {},
   "outputs": [
    {
     "data": {
      "text/plain": [
       "group\n",
       "A1       2484\n",
       "A2       2513\n",
       "B        2537\n",
       "A1+A2    4997\n",
       "all      7534\n",
       "Name: user_id, dtype: int64"
      ]
     },
     "execution_count": 59,
     "metadata": {},
     "output_type": "execute_result"
    }
   ],
   "source": [
    "users_bygroup = data_clean.groupby('group')['user_id'].nunique()\n",
    "#создадим столбец с суммой пользователей групп А1 и А2\n",
    "users_bygroup['A1+A2'] = users_bygroup['A1'] + users_bygroup['A2']\n",
    "#добавим также общую сумму пользователей\n",
    "users_bygroup['all'] = users_bygroup['A1+A2'] + users_bygroup['B']\n",
    "users_bygroup"
   ]
  },
  {
   "cell_type": "code",
   "execution_count": 60,
   "metadata": {},
   "outputs": [
    {
     "data": {
      "text/html": [
       "<div>\n",
       "<style scoped>\n",
       "    .dataframe tbody tr th:only-of-type {\n",
       "        vertical-align: middle;\n",
       "    }\n",
       "\n",
       "    .dataframe tbody tr th {\n",
       "        vertical-align: top;\n",
       "    }\n",
       "\n",
       "    .dataframe thead th {\n",
       "        text-align: right;\n",
       "    }\n",
       "</style>\n",
       "<table border=\"1\" class=\"dataframe\">\n",
       "  <thead>\n",
       "    <tr style=\"text-align: right;\">\n",
       "      <th>group</th>\n",
       "      <th>event_name</th>\n",
       "      <th>A1</th>\n",
       "      <th>A2</th>\n",
       "      <th>B</th>\n",
       "      <th>A1+A2</th>\n",
       "      <th>all</th>\n",
       "      <th>part_A1</th>\n",
       "      <th>part_A2</th>\n",
       "      <th>part_B</th>\n",
       "      <th>part_A1+A2</th>\n",
       "      <th>part_all</th>\n",
       "    </tr>\n",
       "  </thead>\n",
       "  <tbody>\n",
       "    <tr>\n",
       "      <th>0</th>\n",
       "      <td>MainScreenAppear</td>\n",
       "      <td>2450</td>\n",
       "      <td>2476</td>\n",
       "      <td>2493</td>\n",
       "      <td>4926</td>\n",
       "      <td>7419</td>\n",
       "      <td>98.6</td>\n",
       "      <td>98.5</td>\n",
       "      <td>98.3</td>\n",
       "      <td>98.6</td>\n",
       "      <td>98.5</td>\n",
       "    </tr>\n",
       "    <tr>\n",
       "      <th>1</th>\n",
       "      <td>OffersScreenAppear</td>\n",
       "      <td>1542</td>\n",
       "      <td>1520</td>\n",
       "      <td>1531</td>\n",
       "      <td>3062</td>\n",
       "      <td>4593</td>\n",
       "      <td>62.1</td>\n",
       "      <td>60.5</td>\n",
       "      <td>60.3</td>\n",
       "      <td>61.3</td>\n",
       "      <td>61.0</td>\n",
       "    </tr>\n",
       "    <tr>\n",
       "      <th>2</th>\n",
       "      <td>CartScreenAppear</td>\n",
       "      <td>1266</td>\n",
       "      <td>1238</td>\n",
       "      <td>1230</td>\n",
       "      <td>2504</td>\n",
       "      <td>3734</td>\n",
       "      <td>51.0</td>\n",
       "      <td>49.3</td>\n",
       "      <td>48.5</td>\n",
       "      <td>50.1</td>\n",
       "      <td>49.6</td>\n",
       "    </tr>\n",
       "    <tr>\n",
       "      <th>3</th>\n",
       "      <td>PaymentScreenSuccessful</td>\n",
       "      <td>1200</td>\n",
       "      <td>1158</td>\n",
       "      <td>1181</td>\n",
       "      <td>2358</td>\n",
       "      <td>3539</td>\n",
       "      <td>48.3</td>\n",
       "      <td>46.1</td>\n",
       "      <td>46.6</td>\n",
       "      <td>47.2</td>\n",
       "      <td>47.0</td>\n",
       "    </tr>\n",
       "  </tbody>\n",
       "</table>\n",
       "</div>"
      ],
      "text/plain": [
       "group               event_name    A1    A2     B  A1+A2   all  part_A1  \\\n",
       "0             MainScreenAppear  2450  2476  2493   4926  7419     98.6   \n",
       "1           OffersScreenAppear  1542  1520  1531   3062  4593     62.1   \n",
       "2             CartScreenAppear  1266  1238  1230   2504  3734     51.0   \n",
       "3      PaymentScreenSuccessful  1200  1158  1181   2358  3539     48.3   \n",
       "\n",
       "group  part_A2  part_B  part_A1+A2  part_all  \n",
       "0         98.5    98.3        98.6      98.5  \n",
       "1         60.5    60.3        61.3      61.0  \n",
       "2         49.3    48.5        50.1      49.6  \n",
       "3         46.1    46.6        47.2      47.0  "
      ]
     },
     "execution_count": 60,
     "metadata": {},
     "output_type": "execute_result"
    }
   ],
   "source": [
    "event_group_test = data_clean[data_clean['event_name']!='Tutorial'].pivot_table(\n",
    "    index='event_name', \n",
    "    columns='group', \n",
    "    values='user_id',\n",
    "    aggfunc='nunique').sort_values(by='A1', ascending=False)\n",
    "\n",
    "event_group_test = event_group_test.reset_index()\n",
    "event_group_test['A1+A2'] = event_group_test['A1'] + event_group_test['A2']\n",
    "event_group_test['all'] = event_group_test['A1+A2'] + event_group_test['B']\n",
    "\n",
    "event_group_test['part_A1'] = (event_group_test['A1'] / users_bygroup['A1'] * 100).round(1)\n",
    "event_group_test['part_A2'] = (event_group_test['A2'] / users_bygroup['A2'] * 100).round(1)\n",
    "event_group_test['part_B'] = (event_group_test['B'] / users_bygroup['B'] * 100).round(1)\n",
    "event_group_test['part_A1+A2'] = ((event_group_test['A1'] + event_group_test['A2']) / \\\n",
    "                                  (users_bygroup['A1'] + users_bygroup['A2']) * 100).round(1)\n",
    "event_group_test['part_all'] = (event_group_test['all'] / users_bygroup['all'] * 100).round(1)\n",
    "event_group_test"
   ]
  },
  {
   "cell_type": "markdown",
   "metadata": {},
   "source": [
    "Количество пользователей по группам (в т.ч. и на общую группу А (А1+А2)) принявших участие в каждом действии, кроме прохождения обучения. Кроме того в дф были добавлены столбцы с отношением числа пользователей прошедших действие к общему числу пользоваетелей в группе."
   ]
  },
  {
   "cell_type": "markdown",
   "metadata": {},
   "source": [
    "## A1/A2 тест"
   ]
  },
  {
   "cell_type": "markdown",
   "metadata": {},
   "source": [
    "Сформулируем гипотезы:\n",
    "H0: между долями нет значимой разницы\n",
    "H1: между долями есть значимая разница\n",
    "Уровень статистической значимости - 0.01 Так как это является одним из условий проведения теста контрольных групп (А/А)"
   ]
  },
  {
   "cell_type": "markdown",
   "metadata": {},
   "source": [
    "Произведем z-тест для сравнения долей групп в каждом событии. Создадим функйию для проведения теста по каждому действую между контрольными группами."
   ]
  },
  {
   "cell_type": "code",
   "execution_count": 61,
   "metadata": {},
   "outputs": [
    {
     "name": "stdout",
     "output_type": "stream",
     "text": [
      "MainScreenAppear p-значение: 0.7570597232046099\n",
      "Не получилось отвергнуть нулевую гипотезу, нет оснований считать доли разными\n",
      "\n",
      "OffersScreenAppear p-значение: 0.2480954578522181\n",
      "Не получилось отвергнуть нулевую гипотезу, нет оснований считать доли разными\n",
      "\n",
      "CartScreenAppear p-значение: 0.22883372237997213\n",
      "Не получилось отвергнуть нулевую гипотезу, нет оснований считать доли разными\n",
      "\n",
      "PaymentScreenSuccessful p-значение: 0.11456679313141849\n",
      "Не получилось отвергнуть нулевую гипотезу, нет оснований считать доли разными\n",
      "\n"
     ]
    }
   ],
   "source": [
    "def z_test(group1, group2, alpha):\n",
    "    for i in event_group_test.index:\n",
    "        p1 = event_group_test[group1][i] / users_bygroup[group1]\n",
    "        # пропорция успехов во второй группе:\n",
    "        p2 = event_group_test[group2][i] / users_bygroup[group2]\n",
    "        # пропорция успехов в комбинированном датасете:\n",
    "        p_combined = ((event_group_test[group1][i] + event_group_test[group2][i]) / \n",
    "                      (users_bygroup[group1] + users_bygroup[group2]))\n",
    "        # разница пропорций в датасетах\n",
    "        difference = p1 - p2\n",
    "        # считаем статистику в ст.отклонениях стандартного нормального распределения\n",
    "        z_value = difference / math.sqrt(p_combined * (1 - p_combined) * \n",
    "                                        (1/users_bygroup[group1] + 1/users_bygroup[group2]))\n",
    "        # задаем стандартное нормальное распределение (среднее 0, ст.отклонение 1)\n",
    "        distr = st.norm(0, 1) \n",
    "        p_value = (1 - distr.cdf(abs(z_value))) * 2\n",
    "        print('{} p-значение: {}'.format(event_group_test['event_name'][i], p_value))\n",
    "        if (p_value < alpha):\n",
    "            print(\"Отвергаем нулевую гипотезу: между долями есть значимая разница\")\n",
    "        else:\n",
    "            print(\"Не получилось отвергнуть нулевую гипотезу, нет оснований считать доли разными\")\n",
    "        print('')\n",
    "        \n",
    "z_test(\"A1\", \"A2\", 0.05)"
   ]
  },
  {
   "cell_type": "markdown",
   "metadata": {},
   "source": [
    "По результатам проведения тестирования, по каждому из произведенных действий клиентов по группам доли между группами не являются статистически разными\n",
    "\n",
    "Полученный результат в рамках АА теста показал нам что между данными нет различий, это дает нам понять что мы можем смело продолжать делать AБ тест\n",
    "\n",
    "Проведем тестирование между дургими группами. (А1/В), (А2/В) и (А1,2/В)\n",
    "Гипотезы остаются теми же.\n",
    "H0: между долями нет значимой разницы\n",
    "H1: между долями есть значимая разница"
   ]
  },
  {
   "cell_type": "markdown",
   "metadata": {},
   "source": [
    "## A1/B тест"
   ]
  },
  {
   "cell_type": "code",
   "execution_count": 62,
   "metadata": {
    "scrolled": true
   },
   "outputs": [
    {
     "name": "stdout",
     "output_type": "stream",
     "text": [
      "MainScreenAppear p-значение: 0.2949721933554552\n",
      "Не получилось отвергнуть нулевую гипотезу, нет оснований считать доли разными\n",
      "\n",
      "OffersScreenAppear p-значение: 0.20836205402738917\n",
      "Не получилось отвергнуть нулевую гипотезу, нет оснований считать доли разными\n",
      "\n",
      "CartScreenAppear p-значение: 0.07842923237520116\n",
      "Не получилось отвергнуть нулевую гипотезу, нет оснований считать доли разными\n",
      "\n",
      "PaymentScreenSuccessful p-значение: 0.2122553275697796\n",
      "Не получилось отвергнуть нулевую гипотезу, нет оснований считать доли разными\n",
      "\n"
     ]
    }
   ],
   "source": [
    "z_test(\"A1\", \"B\", 0.05)"
   ]
  },
  {
   "cell_type": "markdown",
   "metadata": {},
   "source": [
    "## A2/B тест"
   ]
  },
  {
   "cell_type": "code",
   "execution_count": 63,
   "metadata": {},
   "outputs": [
    {
     "name": "stdout",
     "output_type": "stream",
     "text": [
      "MainScreenAppear p-значение: 0.4587053616621515\n",
      "Не получилось отвергнуть нулевую гипотезу, нет оснований считать доли разными\n",
      "\n",
      "OffersScreenAppear p-значение: 0.9197817830592261\n",
      "Не получилось отвергнуть нулевую гипотезу, нет оснований считать доли разными\n",
      "\n",
      "CartScreenAppear p-значение: 0.5786197879539783\n",
      "Не получилось отвергнуть нулевую гипотезу, нет оснований считать доли разными\n",
      "\n",
      "PaymentScreenSuccessful p-значение: 0.7373415053803964\n",
      "Не получилось отвергнуть нулевую гипотезу, нет оснований считать доли разными\n",
      "\n"
     ]
    }
   ],
   "source": [
    "z_test(\"A2\",\"B\",0.05)"
   ]
  },
  {
   "cell_type": "markdown",
   "metadata": {},
   "source": [
    "## A1,2/B тест"
   ]
  },
  {
   "cell_type": "code",
   "execution_count": 64,
   "metadata": {
    "scrolled": true
   },
   "outputs": [
    {
     "name": "stdout",
     "output_type": "stream",
     "text": [
      "MainScreenAppear p-значение: 0.29424526837179577\n",
      "Не получилось отвергнуть нулевую гипотезу, нет оснований считать доли разными\n",
      "\n",
      "OffersScreenAppear p-значение: 0.43425549655188256\n",
      "Не получилось отвергнуть нулевую гипотезу, нет оснований считать доли разными\n",
      "\n",
      "CartScreenAppear p-значение: 0.18175875284404386\n",
      "Не получилось отвергнуть нулевую гипотезу, нет оснований считать доли разными\n",
      "\n",
      "PaymentScreenSuccessful p-значение: 0.6004294282308704\n",
      "Не получилось отвергнуть нулевую гипотезу, нет оснований считать доли разными\n",
      "\n"
     ]
    }
   ],
   "source": [
    "z_test(\"A1+A2\", \"B\", 0.05)"
   ]
  },
  {
   "cell_type": "markdown",
   "metadata": {},
   "source": [
    "Так как для A/B теста не нужна высокая точность, то для экспериментов выбран самый стандартный уровень значимости равный 5%. При уровне значимости 0.1 только одна из проверок покажет значимую разницу, между контрольной группой A1 и экспериментальной в доле перехода пользователей в корзину(CartScreenAppear), но эта разница будет не в пользу нашей экспериментальной группы. Но при уровне значимости 0.1 каждый десятый раз можно получать ложный результат, поэтому стоит применить изначально выбранный нами уровень значимости 0.05."
   ]
  },
  {
   "cell_type": "markdown",
   "metadata": {},
   "source": [
    "## Вывод"
   ]
  },
  {
   "cell_type": "markdown",
   "metadata": {},
   "source": [
    "Итак, на протяжении всего исследования мы высянили, что мы можем брать в работу данные относязиеся к временному периоду с 2019-07-31 21:00:57 по 2019-08-07 21:15:17. Выяснили, что большинство пользователей теряется при переходе с главной страницы приложения к странице с предложением товара. Определили последовательность действий покупателей. Составили воронку покупателей по группам. Выяснили, что прохождения туториала для покупателей не является обязательным и исключили это действие из исследования. Провели 16 тестов по каждому действию мужду группами. При проведении 16 тестов значимой разницы между группами не выявлено. В условии проекта задается вопрос о влиянии смены шрифта на пользователей. По итогам теста можно сказать, что на поведение пользователей изменение шрифта значимого эффекта не оказало. Тестирование можно назвать успешным - изменение шрифта не повлияло на поведение пользователей."
   ]
  },
  {
   "cell_type": "code",
   "execution_count": null,
   "metadata": {},
   "outputs": [],
   "source": []
  }
 ],
 "metadata": {
  "ExecuteTimeLog": [
   {
    "duration": 3,
    "start_time": "2023-11-15T05:58:33.684Z"
   },
   {
    "duration": 616,
    "start_time": "2023-11-15T05:58:34.337Z"
   },
   {
    "duration": 21,
    "start_time": "2023-11-15T05:58:34.955Z"
   },
   {
    "duration": 14,
    "start_time": "2023-11-15T06:05:28.905Z"
   },
   {
    "duration": 21,
    "start_time": "2023-11-15T06:05:31.524Z"
   },
   {
    "duration": 12,
    "start_time": "2023-11-15T06:05:32.806Z"
   },
   {
    "duration": 7,
    "start_time": "2023-11-15T06:05:53.409Z"
   },
   {
    "duration": 182,
    "start_time": "2023-11-15T06:06:37.200Z"
   },
   {
    "duration": 8,
    "start_time": "2023-11-15T06:06:38.106Z"
   },
   {
    "duration": 13,
    "start_time": "2023-11-15T06:10:05.130Z"
   },
   {
    "duration": 21,
    "start_time": "2023-11-15T06:10:09.065Z"
   },
   {
    "duration": 25,
    "start_time": "2023-11-15T06:10:26.259Z"
   },
   {
    "duration": 21,
    "start_time": "2023-11-15T06:10:56.845Z"
   },
   {
    "duration": 59,
    "start_time": "2023-11-15T06:11:11.015Z"
   },
   {
    "duration": 62,
    "start_time": "2023-11-15T06:11:25.325Z"
   },
   {
    "duration": 62,
    "start_time": "2023-11-15T06:16:36.102Z"
   },
   {
    "duration": 388,
    "start_time": "2023-11-15T06:17:26.951Z"
   },
   {
    "duration": 185,
    "start_time": "2023-11-15T06:17:27.341Z"
   },
   {
    "duration": 16,
    "start_time": "2023-11-15T06:17:27.527Z"
   },
   {
    "duration": 37,
    "start_time": "2023-11-15T06:17:27.544Z"
   },
   {
    "duration": 53,
    "start_time": "2023-11-15T06:17:27.584Z"
   },
   {
    "duration": 16,
    "start_time": "2023-11-15T06:17:27.639Z"
   },
   {
    "duration": 35,
    "start_time": "2023-11-15T06:17:27.657Z"
   },
   {
    "duration": 75,
    "start_time": "2023-11-15T06:17:27.693Z"
   },
   {
    "duration": 1768,
    "start_time": "2023-11-15T06:17:27.770Z"
   },
   {
    "duration": 1442,
    "start_time": "2023-11-15T06:18:23.421Z"
   },
   {
    "duration": 26,
    "start_time": "2023-11-15T06:18:40.133Z"
   },
   {
    "duration": 409,
    "start_time": "2023-11-15T06:23:18.008Z"
   },
   {
    "duration": 172,
    "start_time": "2023-11-15T06:23:18.419Z"
   },
   {
    "duration": 12,
    "start_time": "2023-11-15T06:23:18.593Z"
   },
   {
    "duration": 17,
    "start_time": "2023-11-15T06:23:18.607Z"
   },
   {
    "duration": 47,
    "start_time": "2023-11-15T06:23:18.625Z"
   },
   {
    "duration": 12,
    "start_time": "2023-11-15T06:23:18.673Z"
   },
   {
    "duration": 26,
    "start_time": "2023-11-15T06:23:18.687Z"
   },
   {
    "duration": 61,
    "start_time": "2023-11-15T06:23:18.714Z"
   },
   {
    "duration": 24,
    "start_time": "2023-11-15T06:23:18.777Z"
   },
   {
    "duration": 10,
    "start_time": "2023-11-15T06:33:29.673Z"
   },
   {
    "duration": 60,
    "start_time": "2023-11-15T06:34:38.438Z"
   },
   {
    "duration": 4,
    "start_time": "2023-11-15T06:35:31.286Z"
   },
   {
    "duration": 25,
    "start_time": "2023-11-15T06:35:33.664Z"
   },
   {
    "duration": 83,
    "start_time": "2023-11-15T06:35:42.134Z"
   },
   {
    "duration": 68,
    "start_time": "2023-11-15T06:41:09.306Z"
   },
   {
    "duration": 77,
    "start_time": "2023-11-15T06:42:05.616Z"
   },
   {
    "duration": 71,
    "start_time": "2023-11-15T06:43:00.755Z"
   },
   {
    "duration": 68,
    "start_time": "2023-11-15T06:45:51.799Z"
   },
   {
    "duration": 20,
    "start_time": "2023-11-15T06:46:00.222Z"
   },
   {
    "duration": 13,
    "start_time": "2023-11-15T06:51:38.272Z"
   },
   {
    "duration": 2111,
    "start_time": "2023-11-15T06:53:30.611Z"
   },
   {
    "duration": 38,
    "start_time": "2023-11-15T06:54:56.161Z"
   },
   {
    "duration": 11,
    "start_time": "2023-11-15T06:55:03.441Z"
   },
   {
    "duration": 9,
    "start_time": "2023-11-15T06:55:37.332Z"
   },
   {
    "duration": 11,
    "start_time": "2023-11-15T06:55:38.000Z"
   },
   {
    "duration": 97,
    "start_time": "2023-11-15T06:58:05.332Z"
   },
   {
    "duration": 25,
    "start_time": "2023-11-15T07:02:14.002Z"
   },
   {
    "duration": 6,
    "start_time": "2023-11-15T07:04:00.542Z"
   },
   {
    "duration": 13,
    "start_time": "2023-11-15T07:04:11.420Z"
   },
   {
    "duration": 15,
    "start_time": "2023-11-15T07:04:20.364Z"
   },
   {
    "duration": 6,
    "start_time": "2023-11-15T07:04:32.713Z"
   },
   {
    "duration": 16,
    "start_time": "2023-11-15T07:07:29.521Z"
   },
   {
    "duration": 105,
    "start_time": "2023-11-15T07:09:08.094Z"
   },
   {
    "duration": 124,
    "start_time": "2023-11-15T07:09:40.525Z"
   },
   {
    "duration": 14,
    "start_time": "2023-11-15T07:15:12.375Z"
   },
   {
    "duration": 38,
    "start_time": "2023-11-15T07:15:21.807Z"
   },
   {
    "duration": 24,
    "start_time": "2023-11-15T07:15:50.094Z"
   },
   {
    "duration": 374,
    "start_time": "2023-11-15T07:16:28.774Z"
   },
   {
    "duration": 171,
    "start_time": "2023-11-15T07:16:29.150Z"
   },
   {
    "duration": 12,
    "start_time": "2023-11-15T07:16:29.323Z"
   },
   {
    "duration": 10,
    "start_time": "2023-11-15T07:16:29.337Z"
   },
   {
    "duration": 42,
    "start_time": "2023-11-15T07:16:29.349Z"
   },
   {
    "duration": 2,
    "start_time": "2023-11-15T07:16:29.393Z"
   },
   {
    "duration": 19,
    "start_time": "2023-11-15T07:16:29.397Z"
   },
   {
    "duration": 64,
    "start_time": "2023-11-15T07:16:29.418Z"
   },
   {
    "duration": 71,
    "start_time": "2023-11-15T07:16:29.484Z"
   },
   {
    "duration": 66,
    "start_time": "2023-11-15T07:16:29.557Z"
   },
   {
    "duration": 32,
    "start_time": "2023-11-15T07:16:29.625Z"
   },
   {
    "duration": 21,
    "start_time": "2023-11-15T07:16:29.658Z"
   },
   {
    "duration": 6,
    "start_time": "2023-11-15T07:16:29.680Z"
   },
   {
    "duration": 32,
    "start_time": "2023-11-15T07:16:29.688Z"
   },
   {
    "duration": 108,
    "start_time": "2023-11-15T07:16:29.722Z"
   },
   {
    "duration": 26,
    "start_time": "2023-11-15T07:16:29.832Z"
   },
   {
    "duration": 18,
    "start_time": "2023-11-15T07:16:29.860Z"
   },
   {
    "duration": 9,
    "start_time": "2023-11-15T07:16:29.879Z"
   },
   {
    "duration": 29,
    "start_time": "2023-11-15T07:16:29.890Z"
   },
   {
    "duration": 24,
    "start_time": "2023-11-15T07:16:29.921Z"
   },
   {
    "duration": 14,
    "start_time": "2023-11-15T07:16:38.092Z"
   },
   {
    "duration": 189,
    "start_time": "2023-11-15T07:19:45.587Z"
   },
   {
    "duration": 79,
    "start_time": "2023-11-15T07:19:49.826Z"
   },
   {
    "duration": 8,
    "start_time": "2023-11-15T07:19:55.445Z"
   },
   {
    "duration": 36,
    "start_time": "2023-11-15T09:51:49.046Z"
   },
   {
    "duration": 19,
    "start_time": "2023-11-15T09:52:01.145Z"
   },
   {
    "duration": 20,
    "start_time": "2023-11-15T09:52:13.934Z"
   },
   {
    "duration": 5,
    "start_time": "2023-11-15T09:53:36.078Z"
   },
   {
    "duration": 5,
    "start_time": "2023-11-15T09:53:36.892Z"
   },
   {
    "duration": 6,
    "start_time": "2023-11-15T09:53:54.551Z"
   },
   {
    "duration": 60,
    "start_time": "2023-11-15T10:01:41.082Z"
   },
   {
    "duration": 9,
    "start_time": "2023-11-15T10:01:45.192Z"
   },
   {
    "duration": 103,
    "start_time": "2023-11-15T10:02:19.842Z"
   },
   {
    "duration": 32,
    "start_time": "2023-11-15T10:02:26.270Z"
   },
   {
    "duration": 716,
    "start_time": "2023-11-15T10:03:30.568Z"
   },
   {
    "duration": 499,
    "start_time": "2023-11-15T10:04:00.078Z"
   },
   {
    "duration": 397,
    "start_time": "2023-11-15T10:04:08.201Z"
   },
   {
    "duration": 445,
    "start_time": "2023-11-15T10:04:22.455Z"
   },
   {
    "duration": 528,
    "start_time": "2023-11-15T10:06:44.328Z"
   },
   {
    "duration": 1175,
    "start_time": "2023-11-15T10:09:34.933Z"
   },
   {
    "duration": 191,
    "start_time": "2023-11-15T10:09:36.110Z"
   },
   {
    "duration": 12,
    "start_time": "2023-11-15T10:09:36.302Z"
   },
   {
    "duration": 9,
    "start_time": "2023-11-15T10:09:36.316Z"
   },
   {
    "duration": 30,
    "start_time": "2023-11-15T10:09:36.344Z"
   },
   {
    "duration": 3,
    "start_time": "2023-11-15T10:09:36.375Z"
   },
   {
    "duration": 22,
    "start_time": "2023-11-15T10:09:36.380Z"
   },
   {
    "duration": 91,
    "start_time": "2023-11-15T10:09:36.404Z"
   },
   {
    "duration": 83,
    "start_time": "2023-11-15T10:09:36.497Z"
   },
   {
    "duration": 87,
    "start_time": "2023-11-15T10:09:36.581Z"
   },
   {
    "duration": 21,
    "start_time": "2023-11-15T10:09:36.669Z"
   },
   {
    "duration": 13,
    "start_time": "2023-11-15T10:09:36.691Z"
   },
   {
    "duration": 7,
    "start_time": "2023-11-15T10:09:36.706Z"
   },
   {
    "duration": 19,
    "start_time": "2023-11-15T10:09:36.742Z"
   },
   {
    "duration": 126,
    "start_time": "2023-11-15T10:09:36.763Z"
   },
   {
    "duration": 26,
    "start_time": "2023-11-15T10:09:36.890Z"
   },
   {
    "duration": 28,
    "start_time": "2023-11-15T10:09:36.917Z"
   },
   {
    "duration": 15,
    "start_time": "2023-11-15T10:09:36.950Z"
   },
   {
    "duration": 38,
    "start_time": "2023-11-15T10:09:36.967Z"
   },
   {
    "duration": 14,
    "start_time": "2023-11-15T10:09:37.006Z"
   },
   {
    "duration": 25,
    "start_time": "2023-11-15T10:09:37.022Z"
   },
   {
    "duration": 9,
    "start_time": "2023-11-15T10:09:37.051Z"
   },
   {
    "duration": 18,
    "start_time": "2023-11-15T10:09:37.061Z"
   },
   {
    "duration": 39,
    "start_time": "2023-11-15T10:09:37.080Z"
   },
   {
    "duration": 7,
    "start_time": "2023-11-15T10:09:37.121Z"
   },
   {
    "duration": 540,
    "start_time": "2023-11-15T10:09:37.129Z"
   },
   {
    "duration": 555,
    "start_time": "2023-11-15T10:11:00.564Z"
   },
   {
    "duration": 462,
    "start_time": "2023-11-15T10:11:13.655Z"
   },
   {
    "duration": 40,
    "start_time": "2023-11-15T10:29:18.255Z"
   },
   {
    "duration": 40,
    "start_time": "2023-11-15T10:30:30.355Z"
   },
   {
    "duration": 825,
    "start_time": "2023-11-15T10:30:54.961Z"
   },
   {
    "duration": 325,
    "start_time": "2023-11-15T10:31:37.367Z"
   },
   {
    "duration": 1111,
    "start_time": "2023-11-15T10:33:37.003Z"
   },
   {
    "duration": 218,
    "start_time": "2023-11-15T10:33:38.115Z"
   },
   {
    "duration": 27,
    "start_time": "2023-11-15T10:33:38.334Z"
   },
   {
    "duration": 27,
    "start_time": "2023-11-15T10:33:38.363Z"
   },
   {
    "duration": 60,
    "start_time": "2023-11-15T10:33:38.392Z"
   },
   {
    "duration": 4,
    "start_time": "2023-11-15T10:33:38.458Z"
   },
   {
    "duration": 39,
    "start_time": "2023-11-15T10:33:38.464Z"
   },
   {
    "duration": 89,
    "start_time": "2023-11-15T10:33:38.505Z"
   },
   {
    "duration": 78,
    "start_time": "2023-11-15T10:33:38.596Z"
   },
   {
    "duration": 86,
    "start_time": "2023-11-15T10:33:38.675Z"
   },
   {
    "duration": 20,
    "start_time": "2023-11-15T10:33:38.762Z"
   },
   {
    "duration": 24,
    "start_time": "2023-11-15T10:33:38.783Z"
   },
   {
    "duration": 19,
    "start_time": "2023-11-15T10:33:38.809Z"
   },
   {
    "duration": 30,
    "start_time": "2023-11-15T10:33:38.831Z"
   },
   {
    "duration": 117,
    "start_time": "2023-11-15T10:33:38.862Z"
   },
   {
    "duration": 43,
    "start_time": "2023-11-15T10:33:38.981Z"
   },
   {
    "duration": 54,
    "start_time": "2023-11-15T10:33:39.025Z"
   },
   {
    "duration": 39,
    "start_time": "2023-11-15T10:33:39.081Z"
   },
   {
    "duration": 92,
    "start_time": "2023-11-15T10:33:39.122Z"
   },
   {
    "duration": 13,
    "start_time": "2023-11-15T10:33:39.216Z"
   },
   {
    "duration": 40,
    "start_time": "2023-11-15T10:33:39.231Z"
   },
   {
    "duration": 24,
    "start_time": "2023-11-15T10:33:39.273Z"
   },
   {
    "duration": 29,
    "start_time": "2023-11-15T10:33:39.299Z"
   },
   {
    "duration": 31,
    "start_time": "2023-11-15T10:33:39.330Z"
   },
   {
    "duration": 52,
    "start_time": "2023-11-15T10:33:39.362Z"
   },
   {
    "duration": 7,
    "start_time": "2023-11-15T10:33:39.415Z"
   },
   {
    "duration": 640,
    "start_time": "2023-11-15T10:33:39.424Z"
   },
   {
    "duration": 702,
    "start_time": "2023-11-15T10:33:40.066Z"
   },
   {
    "duration": 55,
    "start_time": "2023-11-15T10:34:00.270Z"
   },
   {
    "duration": 76,
    "start_time": "2023-11-15T10:35:21.762Z"
   },
   {
    "duration": 1125,
    "start_time": "2023-11-15T10:35:29.370Z"
   },
   {
    "duration": 212,
    "start_time": "2023-11-15T10:35:30.497Z"
   },
   {
    "duration": 14,
    "start_time": "2023-11-15T10:35:30.710Z"
   },
   {
    "duration": 33,
    "start_time": "2023-11-15T10:35:30.726Z"
   },
   {
    "duration": 45,
    "start_time": "2023-11-15T10:35:30.761Z"
   },
   {
    "duration": 52,
    "start_time": "2023-11-15T10:35:30.808Z"
   },
   {
    "duration": 42,
    "start_time": "2023-11-15T10:35:30.861Z"
   },
   {
    "duration": 89,
    "start_time": "2023-11-15T10:35:30.904Z"
   },
   {
    "duration": 77,
    "start_time": "2023-11-15T10:35:30.995Z"
   },
   {
    "duration": 89,
    "start_time": "2023-11-15T10:35:31.074Z"
   },
   {
    "duration": 22,
    "start_time": "2023-11-15T10:35:31.165Z"
   },
   {
    "duration": 19,
    "start_time": "2023-11-15T10:35:31.189Z"
   },
   {
    "duration": 20,
    "start_time": "2023-11-15T10:35:31.210Z"
   },
   {
    "duration": 32,
    "start_time": "2023-11-15T10:35:31.232Z"
   },
   {
    "duration": 134,
    "start_time": "2023-11-15T10:35:31.265Z"
   },
   {
    "duration": 109,
    "start_time": "2023-11-15T10:35:31.401Z"
   },
   {
    "duration": 28,
    "start_time": "2023-11-15T10:35:31.512Z"
   },
   {
    "duration": 42,
    "start_time": "2023-11-15T10:35:31.541Z"
   },
   {
    "duration": 83,
    "start_time": "2023-11-15T10:35:31.585Z"
   },
   {
    "duration": 31,
    "start_time": "2023-11-15T10:35:31.670Z"
   },
   {
    "duration": 53,
    "start_time": "2023-11-15T10:35:31.702Z"
   },
   {
    "duration": 58,
    "start_time": "2023-11-15T10:35:31.759Z"
   },
   {
    "duration": 66,
    "start_time": "2023-11-15T10:35:31.819Z"
   },
   {
    "duration": 68,
    "start_time": "2023-11-15T10:35:31.887Z"
   },
   {
    "duration": 48,
    "start_time": "2023-11-15T10:35:31.959Z"
   },
   {
    "duration": 229,
    "start_time": "2023-11-15T10:35:32.008Z"
   },
   {
    "duration": 275,
    "start_time": "2023-11-15T10:35:32.240Z"
   },
   {
    "duration": 8,
    "start_time": "2023-11-15T10:35:32.520Z"
   },
   {
    "duration": 380,
    "start_time": "2023-11-15T10:35:32.530Z"
   },
   {
    "duration": 18,
    "start_time": "2023-11-15T10:35:32.913Z"
   },
   {
    "duration": 28,
    "start_time": "2023-11-15T10:43:45.649Z"
   },
   {
    "duration": 1094,
    "start_time": "2023-11-15T10:44:39.602Z"
   },
   {
    "duration": 191,
    "start_time": "2023-11-15T10:44:40.698Z"
   },
   {
    "duration": 16,
    "start_time": "2023-11-15T10:44:40.890Z"
   },
   {
    "duration": 12,
    "start_time": "2023-11-15T10:44:40.907Z"
   },
   {
    "duration": 52,
    "start_time": "2023-11-15T10:44:40.921Z"
   },
   {
    "duration": 3,
    "start_time": "2023-11-15T10:44:40.975Z"
   },
   {
    "duration": 18,
    "start_time": "2023-11-15T10:44:40.979Z"
   },
   {
    "duration": 86,
    "start_time": "2023-11-15T10:44:40.998Z"
   },
   {
    "duration": 80,
    "start_time": "2023-11-15T10:44:41.086Z"
   },
   {
    "duration": 100,
    "start_time": "2023-11-15T10:44:41.169Z"
   },
   {
    "duration": 20,
    "start_time": "2023-11-15T10:44:41.270Z"
   },
   {
    "duration": 13,
    "start_time": "2023-11-15T10:44:41.292Z"
   },
   {
    "duration": 6,
    "start_time": "2023-11-15T10:44:41.307Z"
   },
   {
    "duration": 46,
    "start_time": "2023-11-15T10:44:41.316Z"
   },
   {
    "duration": 97,
    "start_time": "2023-11-15T10:44:41.364Z"
   },
   {
    "duration": 36,
    "start_time": "2023-11-15T10:44:41.463Z"
   },
   {
    "duration": 33,
    "start_time": "2023-11-15T10:44:41.501Z"
   },
   {
    "duration": 27,
    "start_time": "2023-11-15T10:44:41.536Z"
   },
   {
    "duration": 30,
    "start_time": "2023-11-15T10:44:41.565Z"
   },
   {
    "duration": 14,
    "start_time": "2023-11-15T10:44:41.597Z"
   },
   {
    "duration": 37,
    "start_time": "2023-11-15T10:44:41.613Z"
   },
   {
    "duration": 36,
    "start_time": "2023-11-15T10:44:41.653Z"
   },
   {
    "duration": 75,
    "start_time": "2023-11-15T10:44:41.691Z"
   },
   {
    "duration": 8,
    "start_time": "2023-11-15T10:44:41.768Z"
   },
   {
    "duration": 27,
    "start_time": "2023-11-15T10:44:41.778Z"
   },
   {
    "duration": 23,
    "start_time": "2023-11-15T10:44:41.807Z"
   },
   {
    "duration": 36,
    "start_time": "2023-11-15T10:44:41.832Z"
   },
   {
    "duration": 9,
    "start_time": "2023-11-15T10:44:41.870Z"
   },
   {
    "duration": 326,
    "start_time": "2023-11-15T10:44:41.881Z"
   },
   {
    "duration": 16,
    "start_time": "2023-11-15T10:44:42.208Z"
   },
   {
    "duration": 40,
    "start_time": "2023-11-15T10:44:42.225Z"
   },
   {
    "duration": 4,
    "start_time": "2023-11-15T10:44:42.267Z"
   },
   {
    "duration": 21,
    "start_time": "2023-11-15T10:46:17.339Z"
   },
   {
    "duration": 23,
    "start_time": "2023-11-15T10:46:18.058Z"
   },
   {
    "duration": 3,
    "start_time": "2023-11-15T10:46:26.659Z"
   },
   {
    "duration": 48,
    "start_time": "2023-11-15T19:29:12.818Z"
   },
   {
    "duration": 5,
    "start_time": "2023-11-15T19:29:13.334Z"
   },
   {
    "duration": 1297,
    "start_time": "2023-11-15T19:29:18.120Z"
   },
   {
    "duration": 513,
    "start_time": "2023-11-15T19:29:19.419Z"
   },
   {
    "duration": 12,
    "start_time": "2023-11-15T19:29:19.936Z"
   },
   {
    "duration": 10,
    "start_time": "2023-11-15T19:29:19.951Z"
   },
   {
    "duration": 25,
    "start_time": "2023-11-15T19:29:19.962Z"
   },
   {
    "duration": 3,
    "start_time": "2023-11-15T19:29:19.989Z"
   },
   {
    "duration": 26,
    "start_time": "2023-11-15T19:29:19.994Z"
   },
   {
    "duration": 80,
    "start_time": "2023-11-15T19:29:20.022Z"
   },
   {
    "duration": 79,
    "start_time": "2023-11-15T19:29:20.104Z"
   },
   {
    "duration": 84,
    "start_time": "2023-11-15T19:29:20.185Z"
   },
   {
    "duration": 22,
    "start_time": "2023-11-15T19:29:20.270Z"
   },
   {
    "duration": 15,
    "start_time": "2023-11-15T19:29:20.294Z"
   },
   {
    "duration": 8,
    "start_time": "2023-11-15T19:29:20.312Z"
   },
   {
    "duration": 13,
    "start_time": "2023-11-15T19:29:20.321Z"
   },
   {
    "duration": 87,
    "start_time": "2023-11-15T19:29:20.366Z"
   },
   {
    "duration": 37,
    "start_time": "2023-11-15T19:29:20.455Z"
   },
   {
    "duration": 16,
    "start_time": "2023-11-15T19:29:20.493Z"
   },
   {
    "duration": 7,
    "start_time": "2023-11-15T19:29:20.510Z"
   },
   {
    "duration": 51,
    "start_time": "2023-11-15T19:29:20.519Z"
   },
   {
    "duration": 15,
    "start_time": "2023-11-15T19:29:20.573Z"
   },
   {
    "duration": 14,
    "start_time": "2023-11-15T19:29:20.590Z"
   },
   {
    "duration": 36,
    "start_time": "2023-11-15T19:29:20.606Z"
   },
   {
    "duration": 55,
    "start_time": "2023-11-15T19:29:20.664Z"
   },
   {
    "duration": 4,
    "start_time": "2023-11-15T19:29:20.721Z"
   },
   {
    "duration": 10,
    "start_time": "2023-11-15T19:29:20.726Z"
   },
   {
    "duration": 28,
    "start_time": "2023-11-15T19:29:20.738Z"
   },
   {
    "duration": 20,
    "start_time": "2023-11-15T19:29:20.767Z"
   },
   {
    "duration": 7,
    "start_time": "2023-11-15T19:29:20.789Z"
   },
   {
    "duration": 318,
    "start_time": "2023-11-15T19:29:20.797Z"
   },
   {
    "duration": 16,
    "start_time": "2023-11-15T19:29:21.117Z"
   },
   {
    "duration": 34,
    "start_time": "2023-11-15T19:29:21.136Z"
   },
   {
    "duration": 4,
    "start_time": "2023-11-15T19:29:21.172Z"
   },
   {
    "duration": 13,
    "start_time": "2023-11-15T19:29:36.990Z"
   },
   {
    "duration": 96,
    "start_time": "2023-11-15T19:30:12.160Z"
   },
   {
    "duration": 17,
    "start_time": "2023-11-15T19:30:19.113Z"
   },
   {
    "duration": 12,
    "start_time": "2023-11-15T19:30:25.682Z"
   },
   {
    "duration": 15,
    "start_time": "2023-11-15T19:31:15.915Z"
   },
   {
    "duration": 13,
    "start_time": "2023-11-15T19:31:16.473Z"
   },
   {
    "duration": 23,
    "start_time": "2023-11-15T19:31:35.289Z"
   },
   {
    "duration": 9,
    "start_time": "2023-11-15T19:54:50.909Z"
   },
   {
    "duration": 4,
    "start_time": "2023-11-15T19:55:05.140Z"
   },
   {
    "duration": 4,
    "start_time": "2023-11-15T19:56:18.338Z"
   },
   {
    "duration": 8,
    "start_time": "2023-11-15T19:56:33.124Z"
   },
   {
    "duration": 2,
    "start_time": "2023-11-15T19:56:37.825Z"
   },
   {
    "duration": 3,
    "start_time": "2023-11-15T19:56:38.479Z"
   },
   {
    "duration": 3,
    "start_time": "2023-11-15T19:56:58.189Z"
   },
   {
    "duration": 4,
    "start_time": "2023-11-15T19:57:04.165Z"
   },
   {
    "duration": 24,
    "start_time": "2023-11-15T19:58:55.155Z"
   },
   {
    "duration": 4,
    "start_time": "2023-11-15T19:59:48.848Z"
   },
   {
    "duration": 8,
    "start_time": "2023-11-15T20:02:41.071Z"
   },
   {
    "duration": 6,
    "start_time": "2023-11-15T20:02:56.089Z"
   },
   {
    "duration": 8,
    "start_time": "2023-11-15T20:04:32.663Z"
   },
   {
    "duration": 9,
    "start_time": "2023-11-15T20:04:35.645Z"
   },
   {
    "duration": 3,
    "start_time": "2023-11-15T20:04:36.071Z"
   },
   {
    "duration": 4,
    "start_time": "2023-11-15T20:04:48.230Z"
   },
   {
    "duration": 3,
    "start_time": "2023-11-15T20:08:13.346Z"
   },
   {
    "duration": 5,
    "start_time": "2023-11-15T20:08:21.224Z"
   },
   {
    "duration": 102,
    "start_time": "2023-11-15T20:15:07.604Z"
   },
   {
    "duration": 4,
    "start_time": "2023-11-15T20:17:01.004Z"
   },
   {
    "duration": 3,
    "start_time": "2023-11-15T20:19:43.868Z"
   },
   {
    "duration": 4,
    "start_time": "2023-11-15T20:20:14.416Z"
   },
   {
    "duration": 5,
    "start_time": "2023-11-15T20:20:37.390Z"
   },
   {
    "duration": 76,
    "start_time": "2023-11-15T20:26:08.815Z"
   },
   {
    "duration": 99,
    "start_time": "2023-11-15T20:36:54.038Z"
   },
   {
    "duration": 4,
    "start_time": "2023-11-15T20:36:59.254Z"
   },
   {
    "duration": 77,
    "start_time": "2023-11-15T20:37:01.254Z"
   },
   {
    "duration": 12,
    "start_time": "2023-11-15T20:37:50.596Z"
   },
   {
    "duration": 15,
    "start_time": "2023-11-15T20:38:41.053Z"
   },
   {
    "duration": 1155,
    "start_time": "2023-11-15T20:39:52.692Z"
   },
   {
    "duration": 204,
    "start_time": "2023-11-15T20:39:53.850Z"
   },
   {
    "duration": 16,
    "start_time": "2023-11-15T20:39:54.058Z"
   },
   {
    "duration": 16,
    "start_time": "2023-11-15T20:39:54.076Z"
   },
   {
    "duration": 29,
    "start_time": "2023-11-15T20:39:54.095Z"
   },
   {
    "duration": 3,
    "start_time": "2023-11-15T20:39:54.126Z"
   },
   {
    "duration": 35,
    "start_time": "2023-11-15T20:39:54.131Z"
   },
   {
    "duration": 73,
    "start_time": "2023-11-15T20:39:54.168Z"
   },
   {
    "duration": 89,
    "start_time": "2023-11-15T20:39:54.243Z"
   },
   {
    "duration": 87,
    "start_time": "2023-11-15T20:39:54.333Z"
   },
   {
    "duration": 23,
    "start_time": "2023-11-15T20:39:54.422Z"
   },
   {
    "duration": 28,
    "start_time": "2023-11-15T20:39:54.447Z"
   },
   {
    "duration": 7,
    "start_time": "2023-11-15T20:39:54.476Z"
   },
   {
    "duration": 12,
    "start_time": "2023-11-15T20:39:54.487Z"
   },
   {
    "duration": 113,
    "start_time": "2023-11-15T20:39:54.501Z"
   },
   {
    "duration": 30,
    "start_time": "2023-11-15T20:39:54.616Z"
   },
   {
    "duration": 16,
    "start_time": "2023-11-15T20:39:54.665Z"
   },
   {
    "duration": 7,
    "start_time": "2023-11-15T20:39:54.683Z"
   },
   {
    "duration": 30,
    "start_time": "2023-11-15T20:39:54.692Z"
   },
   {
    "duration": 17,
    "start_time": "2023-11-15T20:39:54.724Z"
   },
   {
    "duration": 20,
    "start_time": "2023-11-15T20:39:54.765Z"
   },
   {
    "duration": 56,
    "start_time": "2023-11-15T20:39:54.788Z"
   },
   {
    "duration": 75,
    "start_time": "2023-11-15T20:39:54.846Z"
   },
   {
    "duration": 5,
    "start_time": "2023-11-15T20:39:54.923Z"
   },
   {
    "duration": 10,
    "start_time": "2023-11-15T20:39:54.930Z"
   },
   {
    "duration": 39,
    "start_time": "2023-11-15T20:39:54.941Z"
   },
   {
    "duration": 39,
    "start_time": "2023-11-15T20:39:54.981Z"
   },
   {
    "duration": 10,
    "start_time": "2023-11-15T20:39:55.022Z"
   },
   {
    "duration": 314,
    "start_time": "2023-11-15T20:39:55.034Z"
   },
   {
    "duration": 23,
    "start_time": "2023-11-15T20:39:55.349Z"
   },
   {
    "duration": 13,
    "start_time": "2023-11-15T20:39:55.373Z"
   },
   {
    "duration": 23,
    "start_time": "2023-11-15T20:39:55.388Z"
   },
   {
    "duration": 2,
    "start_time": "2023-11-15T20:39:55.413Z"
   },
   {
    "duration": 3,
    "start_time": "2023-11-15T20:39:55.417Z"
   },
   {
    "duration": 4,
    "start_time": "2023-11-15T20:39:55.422Z"
   },
   {
    "duration": 37,
    "start_time": "2023-11-15T20:39:55.427Z"
   },
   {
    "duration": 8,
    "start_time": "2023-11-15T20:39:55.466Z"
   },
   {
    "duration": 19,
    "start_time": "2023-11-15T20:39:55.475Z"
   },
   {
    "duration": 48,
    "start_time": "2023-11-16T10:34:32.471Z"
   },
   {
    "duration": 1378,
    "start_time": "2023-11-16T10:34:39.624Z"
   },
   {
    "duration": 717,
    "start_time": "2023-11-16T10:34:41.004Z"
   },
   {
    "duration": 14,
    "start_time": "2023-11-16T10:34:41.723Z"
   },
   {
    "duration": 12,
    "start_time": "2023-11-16T10:34:41.738Z"
   },
   {
    "duration": 25,
    "start_time": "2023-11-16T10:34:41.752Z"
   },
   {
    "duration": 3,
    "start_time": "2023-11-16T10:34:41.779Z"
   },
   {
    "duration": 22,
    "start_time": "2023-11-16T10:34:41.784Z"
   },
   {
    "duration": 92,
    "start_time": "2023-11-16T10:34:41.807Z"
   },
   {
    "duration": 93,
    "start_time": "2023-11-16T10:34:41.901Z"
   },
   {
    "duration": 88,
    "start_time": "2023-11-16T10:34:41.996Z"
   },
   {
    "duration": 22,
    "start_time": "2023-11-16T10:34:42.086Z"
   },
   {
    "duration": 25,
    "start_time": "2023-11-16T10:34:42.109Z"
   },
   {
    "duration": 7,
    "start_time": "2023-11-16T10:34:42.136Z"
   },
   {
    "duration": 11,
    "start_time": "2023-11-16T10:34:42.145Z"
   },
   {
    "duration": 102,
    "start_time": "2023-11-16T10:34:42.158Z"
   },
   {
    "duration": 29,
    "start_time": "2023-11-16T10:34:42.262Z"
   },
   {
    "duration": 16,
    "start_time": "2023-11-16T10:34:42.293Z"
   },
   {
    "duration": 26,
    "start_time": "2023-11-16T10:34:42.311Z"
   },
   {
    "duration": 26,
    "start_time": "2023-11-16T10:34:42.339Z"
   },
   {
    "duration": 16,
    "start_time": "2023-11-16T10:34:42.367Z"
   },
   {
    "duration": 17,
    "start_time": "2023-11-16T10:34:42.385Z"
   },
   {
    "duration": 35,
    "start_time": "2023-11-16T10:34:42.431Z"
   },
   {
    "duration": 69,
    "start_time": "2023-11-16T10:34:42.467Z"
   },
   {
    "duration": 5,
    "start_time": "2023-11-16T10:34:42.539Z"
   },
   {
    "duration": 17,
    "start_time": "2023-11-16T10:34:42.545Z"
   },
   {
    "duration": 20,
    "start_time": "2023-11-16T10:34:42.564Z"
   },
   {
    "duration": 19,
    "start_time": "2023-11-16T10:34:42.586Z"
   },
   {
    "duration": 7,
    "start_time": "2023-11-16T10:34:42.607Z"
   },
   {
    "duration": 302,
    "start_time": "2023-11-16T10:34:42.631Z"
   },
   {
    "duration": 17,
    "start_time": "2023-11-16T10:34:42.935Z"
   },
   {
    "duration": 13,
    "start_time": "2023-11-16T10:34:42.954Z"
   },
   {
    "duration": 30,
    "start_time": "2023-11-16T10:34:42.968Z"
   },
   {
    "duration": 6,
    "start_time": "2023-11-16T10:34:43.000Z"
   },
   {
    "duration": 7,
    "start_time": "2023-11-16T10:34:43.008Z"
   },
   {
    "duration": 24,
    "start_time": "2023-11-16T10:34:43.032Z"
   },
   {
    "duration": 4,
    "start_time": "2023-11-16T10:34:43.058Z"
   },
   {
    "duration": 7,
    "start_time": "2023-11-16T10:34:43.064Z"
   },
   {
    "duration": 24,
    "start_time": "2023-11-16T10:34:43.072Z"
   },
   {
    "duration": 7,
    "start_time": "2023-11-16T10:34:43.098Z"
   },
   {
    "duration": 7,
    "start_time": "2023-11-16T10:34:56.636Z"
   },
   {
    "duration": 11,
    "start_time": "2023-11-16T10:37:50.584Z"
   },
   {
    "duration": 28,
    "start_time": "2023-11-16T10:40:17.751Z"
   },
   {
    "duration": 4,
    "start_time": "2023-11-16T10:41:06.151Z"
   },
   {
    "duration": 25,
    "start_time": "2023-11-16T10:41:25.968Z"
   },
   {
    "duration": 27,
    "start_time": "2023-11-16T10:41:32.618Z"
   },
   {
    "duration": 152,
    "start_time": "2023-11-16T10:41:51.201Z"
   },
   {
    "duration": 58,
    "start_time": "2023-11-16T10:55:44.107Z"
   },
   {
    "duration": 394,
    "start_time": "2023-11-16T11:03:43.087Z"
   },
   {
    "duration": 56,
    "start_time": "2023-11-16T11:06:48.631Z"
   },
   {
    "duration": 5,
    "start_time": "2023-11-16T11:08:21.989Z"
   },
   {
    "duration": 1087,
    "start_time": "2023-11-16T11:08:32.806Z"
   },
   {
    "duration": 1287,
    "start_time": "2023-11-16T11:09:20.623Z"
   },
   {
    "duration": 1674,
    "start_time": "2023-11-16T11:10:19.872Z"
   },
   {
    "duration": 53,
    "start_time": "2023-11-16T11:10:36.023Z"
   },
   {
    "duration": 71,
    "start_time": "2023-11-16T11:10:56.872Z"
   },
   {
    "duration": 58,
    "start_time": "2023-11-16T11:12:24.972Z"
   },
   {
    "duration": 47,
    "start_time": "2023-11-16T11:13:18.738Z"
   },
   {
    "duration": 58,
    "start_time": "2023-11-16T11:13:28.806Z"
   },
   {
    "duration": 56,
    "start_time": "2023-11-16T11:13:41.421Z"
   },
   {
    "duration": 289,
    "start_time": "2023-11-16T11:17:03.731Z"
   },
   {
    "duration": 10,
    "start_time": "2023-11-16T11:37:33.137Z"
   },
   {
    "duration": 1235,
    "start_time": "2023-11-16T11:37:58.244Z"
   },
   {
    "duration": 190,
    "start_time": "2023-11-16T11:37:59.482Z"
   },
   {
    "duration": 12,
    "start_time": "2023-11-16T11:37:59.673Z"
   },
   {
    "duration": 12,
    "start_time": "2023-11-16T11:37:59.687Z"
   },
   {
    "duration": 44,
    "start_time": "2023-11-16T11:37:59.702Z"
   },
   {
    "duration": 4,
    "start_time": "2023-11-16T11:37:59.747Z"
   },
   {
    "duration": 34,
    "start_time": "2023-11-16T11:37:59.752Z"
   },
   {
    "duration": 80,
    "start_time": "2023-11-16T11:37:59.788Z"
   },
   {
    "duration": 86,
    "start_time": "2023-11-16T11:37:59.870Z"
   },
   {
    "duration": 83,
    "start_time": "2023-11-16T11:37:59.958Z"
   },
   {
    "duration": 22,
    "start_time": "2023-11-16T11:38:00.043Z"
   },
   {
    "duration": 97,
    "start_time": "2023-11-16T11:38:00.066Z"
   },
   {
    "duration": 8,
    "start_time": "2023-11-16T11:38:00.164Z"
   },
   {
    "duration": 21,
    "start_time": "2023-11-16T11:38:00.175Z"
   },
   {
    "duration": 96,
    "start_time": "2023-11-16T11:38:00.198Z"
   },
   {
    "duration": 29,
    "start_time": "2023-11-16T11:38:00.295Z"
   },
   {
    "duration": 29,
    "start_time": "2023-11-16T11:38:00.326Z"
   },
   {
    "duration": 10,
    "start_time": "2023-11-16T11:38:00.356Z"
   },
   {
    "duration": 42,
    "start_time": "2023-11-16T11:38:00.367Z"
   },
   {
    "duration": 15,
    "start_time": "2023-11-16T11:38:00.411Z"
   },
   {
    "duration": 16,
    "start_time": "2023-11-16T11:38:00.428Z"
   },
   {
    "duration": 44,
    "start_time": "2023-11-16T11:38:00.445Z"
   },
   {
    "duration": 56,
    "start_time": "2023-11-16T11:38:00.491Z"
   },
   {
    "duration": 11,
    "start_time": "2023-11-16T11:38:00.549Z"
   },
   {
    "duration": 20,
    "start_time": "2023-11-16T11:38:00.561Z"
   },
   {
    "duration": 18,
    "start_time": "2023-11-16T11:38:00.582Z"
   },
   {
    "duration": 37,
    "start_time": "2023-11-16T11:38:00.601Z"
   },
   {
    "duration": 7,
    "start_time": "2023-11-16T11:38:00.640Z"
   },
   {
    "duration": 289,
    "start_time": "2023-11-16T11:38:00.649Z"
   },
   {
    "duration": 16,
    "start_time": "2023-11-16T11:38:00.939Z"
   },
   {
    "duration": 40,
    "start_time": "2023-11-16T11:38:00.957Z"
   },
   {
    "duration": 66,
    "start_time": "2023-11-16T11:38:01.000Z"
   },
   {
    "duration": 24,
    "start_time": "2023-11-16T11:38:01.068Z"
   },
   {
    "duration": 57,
    "start_time": "2023-11-16T11:38:01.094Z"
   },
   {
    "duration": 34,
    "start_time": "2023-11-16T11:38:01.153Z"
   },
   {
    "duration": 108,
    "start_time": "2023-11-16T11:38:01.190Z"
   },
   {
    "duration": 50,
    "start_time": "2023-11-16T11:38:01.300Z"
   },
   {
    "duration": 64,
    "start_time": "2023-11-16T11:38:01.352Z"
   },
   {
    "duration": 91,
    "start_time": "2023-11-16T11:38:01.417Z"
   },
   {
    "duration": 59,
    "start_time": "2023-11-16T11:38:01.509Z"
   },
   {
    "duration": 116,
    "start_time": "2023-11-16T11:38:01.573Z"
   },
   {
    "duration": 188,
    "start_time": "2023-11-16T11:38:01.691Z"
   },
   {
    "duration": 14,
    "start_time": "2023-11-16T11:38:32.671Z"
   },
   {
    "duration": 13,
    "start_time": "2023-11-16T11:39:04.905Z"
   },
   {
    "duration": 14,
    "start_time": "2023-11-16T11:40:07.237Z"
   },
   {
    "duration": 161,
    "start_time": "2023-11-16T11:40:48.154Z"
   },
   {
    "duration": 14,
    "start_time": "2023-11-16T11:44:50.391Z"
   },
   {
    "duration": 54,
    "start_time": "2023-11-16T11:45:50.792Z"
   },
   {
    "duration": 71,
    "start_time": "2023-11-16T11:46:06.927Z"
   },
   {
    "duration": 130,
    "start_time": "2023-11-16T11:46:11.253Z"
   },
   {
    "duration": 154,
    "start_time": "2023-11-16T11:48:06.668Z"
   },
   {
    "duration": 151,
    "start_time": "2023-11-16T11:48:52.256Z"
   },
   {
    "duration": 164,
    "start_time": "2023-11-16T11:50:09.570Z"
   },
   {
    "duration": 3,
    "start_time": "2023-11-16T12:17:53.745Z"
   },
   {
    "duration": 4,
    "start_time": "2023-11-16T12:18:01.571Z"
   },
   {
    "duration": 8,
    "start_time": "2023-11-16T12:18:27.454Z"
   },
   {
    "duration": 5,
    "start_time": "2023-11-16T12:24:26.743Z"
   },
   {
    "duration": 8,
    "start_time": "2023-11-16T12:24:39.437Z"
   },
   {
    "duration": 973,
    "start_time": "2023-11-16T12:28:10.051Z"
   },
   {
    "duration": 9,
    "start_time": "2023-11-16T12:28:43.801Z"
   },
   {
    "duration": 9,
    "start_time": "2023-11-16T12:28:50.199Z"
   },
   {
    "duration": 10,
    "start_time": "2023-11-16T12:29:29.835Z"
   },
   {
    "duration": 10,
    "start_time": "2023-11-16T12:29:31.600Z"
   },
   {
    "duration": 9,
    "start_time": "2023-11-16T12:30:27.318Z"
   },
   {
    "duration": 10,
    "start_time": "2023-11-16T12:30:29.169Z"
   },
   {
    "duration": 9,
    "start_time": "2023-11-16T12:31:49.114Z"
   },
   {
    "duration": 11,
    "start_time": "2023-11-16T12:31:50.811Z"
   },
   {
    "duration": 1191,
    "start_time": "2023-11-16T12:32:49.227Z"
   },
   {
    "duration": 176,
    "start_time": "2023-11-16T12:32:50.420Z"
   },
   {
    "duration": 18,
    "start_time": "2023-11-16T12:32:50.597Z"
   },
   {
    "duration": 23,
    "start_time": "2023-11-16T12:32:50.617Z"
   },
   {
    "duration": 40,
    "start_time": "2023-11-16T12:32:50.643Z"
   },
   {
    "duration": 25,
    "start_time": "2023-11-16T12:32:50.685Z"
   },
   {
    "duration": 25,
    "start_time": "2023-11-16T12:32:50.712Z"
   },
   {
    "duration": 86,
    "start_time": "2023-11-16T12:32:50.739Z"
   },
   {
    "duration": 78,
    "start_time": "2023-11-16T12:32:50.826Z"
   },
   {
    "duration": 84,
    "start_time": "2023-11-16T12:32:50.905Z"
   },
   {
    "duration": 25,
    "start_time": "2023-11-16T12:32:50.991Z"
   },
   {
    "duration": 33,
    "start_time": "2023-11-16T12:32:51.018Z"
   },
   {
    "duration": 8,
    "start_time": "2023-11-16T12:32:51.052Z"
   },
   {
    "duration": 16,
    "start_time": "2023-11-16T12:32:51.062Z"
   },
   {
    "duration": 125,
    "start_time": "2023-11-16T12:32:51.079Z"
   },
   {
    "duration": 37,
    "start_time": "2023-11-16T12:32:51.206Z"
   },
   {
    "duration": 29,
    "start_time": "2023-11-16T12:32:51.245Z"
   },
   {
    "duration": 18,
    "start_time": "2023-11-16T12:32:51.275Z"
   },
   {
    "duration": 33,
    "start_time": "2023-11-16T12:32:51.295Z"
   },
   {
    "duration": 14,
    "start_time": "2023-11-16T12:32:51.330Z"
   },
   {
    "duration": 41,
    "start_time": "2023-11-16T12:32:51.346Z"
   },
   {
    "duration": 39,
    "start_time": "2023-11-16T12:32:51.388Z"
   },
   {
    "duration": 60,
    "start_time": "2023-11-16T12:32:51.429Z"
   },
   {
    "duration": 6,
    "start_time": "2023-11-16T12:32:51.491Z"
   },
   {
    "duration": 5,
    "start_time": "2023-11-16T12:32:51.498Z"
   },
   {
    "duration": 25,
    "start_time": "2023-11-16T12:32:51.505Z"
   },
   {
    "duration": 20,
    "start_time": "2023-11-16T12:32:51.532Z"
   },
   {
    "duration": 6,
    "start_time": "2023-11-16T12:32:51.553Z"
   },
   {
    "duration": 307,
    "start_time": "2023-11-16T12:32:51.561Z"
   },
   {
    "duration": 14,
    "start_time": "2023-11-16T12:32:51.870Z"
   },
   {
    "duration": 20,
    "start_time": "2023-11-16T12:32:51.885Z"
   },
   {
    "duration": 31,
    "start_time": "2023-11-16T12:32:51.907Z"
   },
   {
    "duration": 22,
    "start_time": "2023-11-16T12:32:51.940Z"
   },
   {
    "duration": 4,
    "start_time": "2023-11-16T12:32:51.964Z"
   },
   {
    "duration": 45,
    "start_time": "2023-11-16T12:32:51.969Z"
   },
   {
    "duration": 15,
    "start_time": "2023-11-16T12:32:52.016Z"
   },
   {
    "duration": 9,
    "start_time": "2023-11-16T12:32:52.032Z"
   },
   {
    "duration": 15,
    "start_time": "2023-11-16T12:32:52.043Z"
   },
   {
    "duration": 11,
    "start_time": "2023-11-16T12:32:52.059Z"
   },
   {
    "duration": 24,
    "start_time": "2023-11-16T12:32:52.072Z"
   },
   {
    "duration": 80,
    "start_time": "2023-11-16T12:32:52.099Z"
   },
   {
    "duration": 152,
    "start_time": "2023-11-16T12:32:52.181Z"
   },
   {
    "duration": 154,
    "start_time": "2023-11-16T12:32:52.335Z"
   },
   {
    "duration": 7,
    "start_time": "2023-11-16T12:32:52.491Z"
   },
   {
    "duration": 24,
    "start_time": "2023-11-16T12:32:52.500Z"
   },
   {
    "duration": 21,
    "start_time": "2023-11-16T12:32:52.526Z"
   },
   {
    "duration": 44,
    "start_time": "2023-11-16T12:32:52.549Z"
   },
   {
    "duration": 10,
    "start_time": "2023-11-16T12:33:19.125Z"
   },
   {
    "duration": 10,
    "start_time": "2023-11-16T12:33:19.491Z"
   },
   {
    "duration": 1185,
    "start_time": "2023-11-16T12:33:32.188Z"
   },
   {
    "duration": 199,
    "start_time": "2023-11-16T12:33:33.375Z"
   },
   {
    "duration": 13,
    "start_time": "2023-11-16T12:33:33.578Z"
   },
   {
    "duration": 13,
    "start_time": "2023-11-16T12:33:33.594Z"
   },
   {
    "duration": 49,
    "start_time": "2023-11-16T12:33:33.608Z"
   },
   {
    "duration": 3,
    "start_time": "2023-11-16T12:33:33.659Z"
   },
   {
    "duration": 19,
    "start_time": "2023-11-16T12:33:33.664Z"
   },
   {
    "duration": 108,
    "start_time": "2023-11-16T12:33:33.685Z"
   },
   {
    "duration": 93,
    "start_time": "2023-11-16T12:33:33.795Z"
   },
   {
    "duration": 89,
    "start_time": "2023-11-16T12:33:33.889Z"
   },
   {
    "duration": 23,
    "start_time": "2023-11-16T12:33:33.980Z"
   },
   {
    "duration": 35,
    "start_time": "2023-11-16T12:33:34.005Z"
   },
   {
    "duration": 9,
    "start_time": "2023-11-16T12:33:34.044Z"
   },
   {
    "duration": 14,
    "start_time": "2023-11-16T12:33:34.054Z"
   },
   {
    "duration": 130,
    "start_time": "2023-11-16T12:33:34.071Z"
   },
   {
    "duration": 31,
    "start_time": "2023-11-16T12:33:34.203Z"
   },
   {
    "duration": 17,
    "start_time": "2023-11-16T12:33:34.236Z"
   },
   {
    "duration": 25,
    "start_time": "2023-11-16T12:33:34.254Z"
   },
   {
    "duration": 29,
    "start_time": "2023-11-16T12:33:34.281Z"
   },
   {
    "duration": 27,
    "start_time": "2023-11-16T12:33:34.312Z"
   },
   {
    "duration": 17,
    "start_time": "2023-11-16T12:33:34.340Z"
   },
   {
    "duration": 38,
    "start_time": "2023-11-16T12:33:34.359Z"
   },
   {
    "duration": 85,
    "start_time": "2023-11-16T12:33:34.399Z"
   },
   {
    "duration": 5,
    "start_time": "2023-11-16T12:33:34.486Z"
   },
   {
    "duration": 9,
    "start_time": "2023-11-16T12:33:34.492Z"
   },
   {
    "duration": 29,
    "start_time": "2023-11-16T12:33:34.502Z"
   },
   {
    "duration": 22,
    "start_time": "2023-11-16T12:33:34.533Z"
   },
   {
    "duration": 7,
    "start_time": "2023-11-16T12:33:34.557Z"
   },
   {
    "duration": 309,
    "start_time": "2023-11-16T12:33:34.566Z"
   },
   {
    "duration": 16,
    "start_time": "2023-11-16T12:33:34.877Z"
   },
   {
    "duration": 14,
    "start_time": "2023-11-16T12:33:34.894Z"
   },
   {
    "duration": 42,
    "start_time": "2023-11-16T12:33:34.909Z"
   },
   {
    "duration": 2,
    "start_time": "2023-11-16T12:33:34.953Z"
   },
   {
    "duration": 5,
    "start_time": "2023-11-16T12:33:34.957Z"
   },
   {
    "duration": 13,
    "start_time": "2023-11-16T12:33:34.963Z"
   },
   {
    "duration": 7,
    "start_time": "2023-11-16T12:33:34.978Z"
   },
   {
    "duration": 5,
    "start_time": "2023-11-16T12:33:34.987Z"
   },
   {
    "duration": 27,
    "start_time": "2023-11-16T12:33:34.993Z"
   },
   {
    "duration": 18,
    "start_time": "2023-11-16T12:33:35.022Z"
   },
   {
    "duration": 29,
    "start_time": "2023-11-16T12:33:35.044Z"
   },
   {
    "duration": 68,
    "start_time": "2023-11-16T12:33:35.075Z"
   },
   {
    "duration": 153,
    "start_time": "2023-11-16T12:33:35.145Z"
   },
   {
    "duration": 159,
    "start_time": "2023-11-16T12:33:35.299Z"
   },
   {
    "duration": 7,
    "start_time": "2023-11-16T12:33:35.460Z"
   },
   {
    "duration": 8,
    "start_time": "2023-11-16T12:33:35.469Z"
   },
   {
    "duration": 10,
    "start_time": "2023-11-16T12:33:35.478Z"
   },
   {
    "duration": 14,
    "start_time": "2023-11-16T12:33:35.489Z"
   },
   {
    "duration": 1141,
    "start_time": "2023-11-16T12:34:44.801Z"
   },
   {
    "duration": 175,
    "start_time": "2023-11-16T12:34:45.944Z"
   },
   {
    "duration": 15,
    "start_time": "2023-11-16T12:34:46.121Z"
   },
   {
    "duration": 10,
    "start_time": "2023-11-16T12:34:46.137Z"
   },
   {
    "duration": 21,
    "start_time": "2023-11-16T12:34:46.149Z"
   },
   {
    "duration": 3,
    "start_time": "2023-11-16T12:34:46.171Z"
   },
   {
    "duration": 29,
    "start_time": "2023-11-16T12:34:46.176Z"
   },
   {
    "duration": 79,
    "start_time": "2023-11-16T12:34:46.207Z"
   },
   {
    "duration": 88,
    "start_time": "2023-11-16T12:34:46.288Z"
   },
   {
    "duration": 85,
    "start_time": "2023-11-16T12:34:46.377Z"
   },
   {
    "duration": 20,
    "start_time": "2023-11-16T12:34:46.464Z"
   },
   {
    "duration": 14,
    "start_time": "2023-11-16T12:34:46.486Z"
   },
   {
    "duration": 7,
    "start_time": "2023-11-16T12:34:46.501Z"
   },
   {
    "duration": 12,
    "start_time": "2023-11-16T12:34:46.531Z"
   },
   {
    "duration": 95,
    "start_time": "2023-11-16T12:34:46.545Z"
   },
   {
    "duration": 25,
    "start_time": "2023-11-16T12:34:46.642Z"
   },
   {
    "duration": 15,
    "start_time": "2023-11-16T12:34:46.668Z"
   },
   {
    "duration": 8,
    "start_time": "2023-11-16T12:34:46.684Z"
   },
   {
    "duration": 58,
    "start_time": "2023-11-16T12:34:46.694Z"
   },
   {
    "duration": 15,
    "start_time": "2023-11-16T12:34:46.753Z"
   },
   {
    "duration": 14,
    "start_time": "2023-11-16T12:34:46.769Z"
   },
   {
    "duration": 52,
    "start_time": "2023-11-16T12:34:46.785Z"
   },
   {
    "duration": 61,
    "start_time": "2023-11-16T12:34:46.838Z"
   },
   {
    "duration": 10,
    "start_time": "2023-11-16T12:34:46.901Z"
   },
   {
    "duration": 7,
    "start_time": "2023-11-16T12:34:46.912Z"
   },
   {
    "duration": 6,
    "start_time": "2023-11-16T12:34:46.930Z"
   },
   {
    "duration": 23,
    "start_time": "2023-11-16T12:34:46.937Z"
   },
   {
    "duration": 8,
    "start_time": "2023-11-16T12:34:46.961Z"
   },
   {
    "duration": 297,
    "start_time": "2023-11-16T12:34:46.971Z"
   },
   {
    "duration": 19,
    "start_time": "2023-11-16T12:34:47.270Z"
   },
   {
    "duration": 17,
    "start_time": "2023-11-16T12:34:47.292Z"
   },
   {
    "duration": 23,
    "start_time": "2023-11-16T12:34:47.331Z"
   },
   {
    "duration": 5,
    "start_time": "2023-11-16T12:34:47.355Z"
   },
   {
    "duration": 9,
    "start_time": "2023-11-16T12:34:47.361Z"
   },
   {
    "duration": 12,
    "start_time": "2023-11-16T12:34:47.372Z"
   },
   {
    "duration": 8,
    "start_time": "2023-11-16T12:34:47.386Z"
   },
   {
    "duration": 11,
    "start_time": "2023-11-16T12:34:47.395Z"
   },
   {
    "duration": 23,
    "start_time": "2023-11-16T12:34:47.408Z"
   },
   {
    "duration": 12,
    "start_time": "2023-11-16T12:34:47.433Z"
   },
   {
    "duration": 27,
    "start_time": "2023-11-16T12:34:47.446Z"
   },
   {
    "duration": 91,
    "start_time": "2023-11-16T12:34:47.477Z"
   },
   {
    "duration": 161,
    "start_time": "2023-11-16T12:34:47.571Z"
   },
   {
    "duration": 177,
    "start_time": "2023-11-16T12:34:47.735Z"
   },
   {
    "duration": 8,
    "start_time": "2023-11-16T12:34:47.913Z"
   },
   {
    "duration": 12,
    "start_time": "2023-11-16T12:34:47.923Z"
   },
   {
    "duration": 25,
    "start_time": "2023-11-16T12:34:47.936Z"
   },
   {
    "duration": 15,
    "start_time": "2023-11-16T12:34:47.963Z"
   },
   {
    "duration": 120,
    "start_time": "2023-11-16T12:34:47.980Z"
   },
   {
    "duration": 160,
    "start_time": "2023-11-16T12:35:26.486Z"
   },
   {
    "duration": 1249,
    "start_time": "2023-11-16T12:45:38.718Z"
   },
   {
    "duration": 191,
    "start_time": "2023-11-16T12:45:39.969Z"
   },
   {
    "duration": 14,
    "start_time": "2023-11-16T12:45:40.162Z"
   },
   {
    "duration": 12,
    "start_time": "2023-11-16T12:45:40.179Z"
   },
   {
    "duration": 47,
    "start_time": "2023-11-16T12:45:40.193Z"
   },
   {
    "duration": 4,
    "start_time": "2023-11-16T12:45:40.242Z"
   },
   {
    "duration": 28,
    "start_time": "2023-11-16T12:45:40.248Z"
   },
   {
    "duration": 88,
    "start_time": "2023-11-16T12:45:40.278Z"
   },
   {
    "duration": 91,
    "start_time": "2023-11-16T12:45:40.368Z"
   },
   {
    "duration": 86,
    "start_time": "2023-11-16T12:45:40.462Z"
   },
   {
    "duration": 22,
    "start_time": "2023-11-16T12:45:40.550Z"
   },
   {
    "duration": 13,
    "start_time": "2023-11-16T12:45:40.574Z"
   },
   {
    "duration": 7,
    "start_time": "2023-11-16T12:45:40.589Z"
   },
   {
    "duration": 38,
    "start_time": "2023-11-16T12:45:40.597Z"
   },
   {
    "duration": 95,
    "start_time": "2023-11-16T12:45:40.637Z"
   },
   {
    "duration": 28,
    "start_time": "2023-11-16T12:45:40.734Z"
   },
   {
    "duration": 16,
    "start_time": "2023-11-16T12:45:40.764Z"
   },
   {
    "duration": 9,
    "start_time": "2023-11-16T12:45:40.782Z"
   },
   {
    "duration": 52,
    "start_time": "2023-11-16T12:45:40.792Z"
   },
   {
    "duration": 15,
    "start_time": "2023-11-16T12:45:40.846Z"
   },
   {
    "duration": 24,
    "start_time": "2023-11-16T12:45:40.862Z"
   },
   {
    "duration": 48,
    "start_time": "2023-11-16T12:45:40.888Z"
   },
   {
    "duration": 56,
    "start_time": "2023-11-16T12:45:40.938Z"
   },
   {
    "duration": 6,
    "start_time": "2023-11-16T12:45:40.996Z"
   },
   {
    "duration": 29,
    "start_time": "2023-11-16T12:45:41.004Z"
   },
   {
    "duration": 6,
    "start_time": "2023-11-16T12:45:41.034Z"
   },
   {
    "duration": 21,
    "start_time": "2023-11-16T12:45:41.041Z"
   },
   {
    "duration": 7,
    "start_time": "2023-11-16T12:45:41.066Z"
   },
   {
    "duration": 348,
    "start_time": "2023-11-16T12:45:41.075Z"
   },
   {
    "duration": 20,
    "start_time": "2023-11-16T12:45:41.425Z"
   },
   {
    "duration": 15,
    "start_time": "2023-11-16T12:45:41.447Z"
   },
   {
    "duration": 24,
    "start_time": "2023-11-16T12:45:41.464Z"
   },
   {
    "duration": 2,
    "start_time": "2023-11-16T12:45:41.490Z"
   },
   {
    "duration": 9,
    "start_time": "2023-11-16T12:45:41.494Z"
   },
   {
    "duration": 3,
    "start_time": "2023-11-16T12:45:41.531Z"
   },
   {
    "duration": 18,
    "start_time": "2023-11-16T12:45:41.536Z"
   },
   {
    "duration": 8,
    "start_time": "2023-11-16T12:45:41.556Z"
   },
   {
    "duration": 21,
    "start_time": "2023-11-16T12:45:41.566Z"
   },
   {
    "duration": 12,
    "start_time": "2023-11-16T12:45:41.589Z"
   },
   {
    "duration": 39,
    "start_time": "2023-11-16T12:45:41.602Z"
   },
   {
    "duration": 71,
    "start_time": "2023-11-16T12:45:41.643Z"
   },
   {
    "duration": 167,
    "start_time": "2023-11-16T12:45:41.715Z"
   },
   {
    "duration": 172,
    "start_time": "2023-11-16T12:45:41.883Z"
   },
   {
    "duration": 8,
    "start_time": "2023-11-16T12:45:42.058Z"
   },
   {
    "duration": 4,
    "start_time": "2023-11-16T12:45:42.068Z"
   },
   {
    "duration": 16,
    "start_time": "2023-11-16T12:45:42.074Z"
   },
   {
    "duration": 19,
    "start_time": "2023-11-16T12:45:42.091Z"
   },
   {
    "duration": 13,
    "start_time": "2023-11-16T12:47:05.672Z"
   },
   {
    "duration": 11,
    "start_time": "2023-11-16T12:47:16.688Z"
   },
   {
    "duration": 35,
    "start_time": "2023-11-16T12:48:47.205Z"
   },
   {
    "duration": 1323,
    "start_time": "2023-11-17T10:01:03.540Z"
   },
   {
    "duration": 698,
    "start_time": "2023-11-17T10:01:04.865Z"
   },
   {
    "duration": 11,
    "start_time": "2023-11-17T10:01:05.564Z"
   },
   {
    "duration": 92,
    "start_time": "2023-11-17T10:01:05.576Z"
   },
   {
    "duration": 37,
    "start_time": "2023-11-17T10:01:05.670Z"
   },
   {
    "duration": 21,
    "start_time": "2023-11-17T10:01:05.709Z"
   },
   {
    "duration": 103,
    "start_time": "2023-11-17T10:01:05.731Z"
   },
   {
    "duration": 144,
    "start_time": "2023-11-17T10:01:05.836Z"
   },
   {
    "duration": 70,
    "start_time": "2023-11-17T10:01:05.981Z"
   },
   {
    "duration": 68,
    "start_time": "2023-11-17T10:01:06.053Z"
   },
   {
    "duration": 33,
    "start_time": "2023-11-17T10:01:06.123Z"
   },
   {
    "duration": 20,
    "start_time": "2023-11-17T10:01:06.158Z"
   },
   {
    "duration": 6,
    "start_time": "2023-11-17T10:01:06.180Z"
   },
   {
    "duration": 25,
    "start_time": "2023-11-17T10:01:06.188Z"
   },
   {
    "duration": 95,
    "start_time": "2023-11-17T10:01:06.214Z"
   },
   {
    "duration": 24,
    "start_time": "2023-11-17T10:01:06.310Z"
   },
   {
    "duration": 16,
    "start_time": "2023-11-17T10:01:06.335Z"
   },
   {
    "duration": 8,
    "start_time": "2023-11-17T10:01:06.355Z"
   },
   {
    "duration": 32,
    "start_time": "2023-11-17T10:01:06.364Z"
   },
   {
    "duration": 17,
    "start_time": "2023-11-17T10:01:06.398Z"
   },
   {
    "duration": 33,
    "start_time": "2023-11-17T10:01:06.417Z"
   },
   {
    "duration": 36,
    "start_time": "2023-11-17T10:01:06.452Z"
   },
   {
    "duration": 93,
    "start_time": "2023-11-17T10:01:06.490Z"
   },
   {
    "duration": 28,
    "start_time": "2023-11-17T10:01:06.585Z"
   },
   {
    "duration": 14,
    "start_time": "2023-11-17T10:01:06.615Z"
   },
   {
    "duration": 23,
    "start_time": "2023-11-17T10:01:06.631Z"
   },
   {
    "duration": 21,
    "start_time": "2023-11-17T10:01:06.655Z"
   },
   {
    "duration": 6,
    "start_time": "2023-11-17T10:01:06.677Z"
   },
   {
    "duration": 260,
    "start_time": "2023-11-17T10:01:06.684Z"
   },
   {
    "duration": 17,
    "start_time": "2023-11-17T10:01:06.946Z"
   },
   {
    "duration": 11,
    "start_time": "2023-11-17T10:01:06.965Z"
   },
   {
    "duration": 26,
    "start_time": "2023-11-17T10:01:06.978Z"
   },
   {
    "duration": 23,
    "start_time": "2023-11-17T10:01:07.005Z"
   },
   {
    "duration": 17,
    "start_time": "2023-11-17T10:01:07.029Z"
   },
   {
    "duration": 19,
    "start_time": "2023-11-17T10:01:07.048Z"
   },
   {
    "duration": 22,
    "start_time": "2023-11-17T10:01:07.069Z"
   },
   {
    "duration": 25,
    "start_time": "2023-11-17T10:01:07.093Z"
   },
   {
    "duration": 26,
    "start_time": "2023-11-17T10:01:07.120Z"
   },
   {
    "duration": 10,
    "start_time": "2023-11-17T10:01:07.148Z"
   },
   {
    "duration": 24,
    "start_time": "2023-11-17T10:01:07.160Z"
   },
   {
    "duration": 96,
    "start_time": "2023-11-17T10:01:07.187Z"
   },
   {
    "duration": 146,
    "start_time": "2023-11-17T10:01:07.285Z"
   },
   {
    "duration": 158,
    "start_time": "2023-11-17T10:01:07.432Z"
   },
   {
    "duration": 8,
    "start_time": "2023-11-17T10:01:07.591Z"
   },
   {
    "duration": 52,
    "start_time": "2023-11-17T10:01:07.600Z"
   },
   {
    "duration": 29,
    "start_time": "2023-11-17T10:01:07.654Z"
   },
   {
    "duration": 42,
    "start_time": "2023-11-17T10:01:07.685Z"
   },
   {
    "duration": 18,
    "start_time": "2023-11-17T10:01:07.728Z"
   },
   {
    "duration": 56,
    "start_time": "2023-11-17T10:01:07.747Z"
   },
   {
    "duration": 923,
    "start_time": "2023-11-17T10:08:05.630Z"
   },
   {
    "duration": 1005,
    "start_time": "2023-11-17T10:08:57.870Z"
   },
   {
    "duration": 874,
    "start_time": "2023-11-17T10:10:09.954Z"
   },
   {
    "duration": 28,
    "start_time": "2023-11-17T10:10:43.425Z"
   },
   {
    "duration": 1110,
    "start_time": "2023-11-17T10:11:18.596Z"
   },
   {
    "duration": 35,
    "start_time": "2023-11-17T10:12:41.012Z"
   },
   {
    "duration": 54,
    "start_time": "2023-11-17T10:15:05.196Z"
   },
   {
    "duration": 1104,
    "start_time": "2023-11-17T10:15:12.083Z"
   },
   {
    "duration": 166,
    "start_time": "2023-11-17T10:15:13.189Z"
   },
   {
    "duration": 11,
    "start_time": "2023-11-17T10:15:13.357Z"
   },
   {
    "duration": 97,
    "start_time": "2023-11-17T10:15:13.369Z"
   },
   {
    "duration": 52,
    "start_time": "2023-11-17T10:15:13.468Z"
   },
   {
    "duration": 3,
    "start_time": "2023-11-17T10:15:13.521Z"
   },
   {
    "duration": 26,
    "start_time": "2023-11-17T10:15:13.525Z"
   },
   {
    "duration": 66,
    "start_time": "2023-11-17T10:15:13.553Z"
   },
   {
    "duration": 70,
    "start_time": "2023-11-17T10:15:13.620Z"
   },
   {
    "duration": 70,
    "start_time": "2023-11-17T10:15:13.692Z"
   },
   {
    "duration": 20,
    "start_time": "2023-11-17T10:15:13.763Z"
   },
   {
    "duration": 53,
    "start_time": "2023-11-17T10:15:13.784Z"
   },
   {
    "duration": 28,
    "start_time": "2023-11-17T10:15:13.839Z"
   },
   {
    "duration": 12,
    "start_time": "2023-11-17T10:15:13.871Z"
   },
   {
    "duration": 22,
    "start_time": "2023-11-17T10:15:13.884Z"
   },
   {
    "duration": 91,
    "start_time": "2023-11-17T10:15:13.908Z"
   },
   {
    "duration": 24,
    "start_time": "2023-11-17T10:15:14.001Z"
   },
   {
    "duration": 81,
    "start_time": "2023-11-17T10:15:14.027Z"
   },
   {
    "duration": 11,
    "start_time": "2023-11-17T10:15:14.110Z"
   },
   {
    "duration": 23,
    "start_time": "2023-11-17T10:15:14.123Z"
   },
   {
    "duration": 13,
    "start_time": "2023-11-17T10:15:14.148Z"
   },
   {
    "duration": 26,
    "start_time": "2023-11-17T10:15:14.162Z"
   },
   {
    "duration": 42,
    "start_time": "2023-11-17T10:15:14.190Z"
   },
   {
    "duration": 48,
    "start_time": "2023-11-17T10:15:14.234Z"
   },
   {
    "duration": 14,
    "start_time": "2023-11-17T10:15:14.284Z"
   },
   {
    "duration": 14,
    "start_time": "2023-11-17T10:15:14.299Z"
   },
   {
    "duration": 27,
    "start_time": "2023-11-17T10:15:14.314Z"
   },
   {
    "duration": 18,
    "start_time": "2023-11-17T10:15:14.343Z"
   },
   {
    "duration": 7,
    "start_time": "2023-11-17T10:15:14.363Z"
   },
   {
    "duration": 263,
    "start_time": "2023-11-17T10:15:14.371Z"
   },
   {
    "duration": 32,
    "start_time": "2023-11-17T10:15:14.636Z"
   },
   {
    "duration": 12,
    "start_time": "2023-11-17T10:15:14.671Z"
   },
   {
    "duration": 38,
    "start_time": "2023-11-17T10:15:14.684Z"
   },
   {
    "duration": 2,
    "start_time": "2023-11-17T10:15:14.724Z"
   },
   {
    "duration": 11,
    "start_time": "2023-11-17T10:15:14.727Z"
   },
   {
    "duration": 15,
    "start_time": "2023-11-17T10:15:14.740Z"
   },
   {
    "duration": 6,
    "start_time": "2023-11-17T10:15:14.757Z"
   },
   {
    "duration": 65,
    "start_time": "2023-11-17T10:15:14.765Z"
   },
   {
    "duration": 33,
    "start_time": "2023-11-17T10:15:14.831Z"
   },
   {
    "duration": 26,
    "start_time": "2023-11-17T10:15:14.866Z"
   },
   {
    "duration": 33,
    "start_time": "2023-11-17T10:15:14.896Z"
   },
   {
    "duration": 60,
    "start_time": "2023-11-17T10:15:14.931Z"
   },
   {
    "duration": 144,
    "start_time": "2023-11-17T10:15:14.992Z"
   },
   {
    "duration": 148,
    "start_time": "2023-11-17T10:15:15.138Z"
   },
   {
    "duration": 7,
    "start_time": "2023-11-17T10:15:15.287Z"
   },
   {
    "duration": 6,
    "start_time": "2023-11-17T10:15:15.295Z"
   },
   {
    "duration": 11,
    "start_time": "2023-11-17T10:15:15.302Z"
   },
   {
    "duration": 16,
    "start_time": "2023-11-17T10:15:15.314Z"
   },
   {
    "duration": 12,
    "start_time": "2023-11-17T10:15:15.332Z"
   },
   {
    "duration": 44,
    "start_time": "2023-11-17T10:15:15.356Z"
   },
   {
    "duration": 141,
    "start_time": "2023-11-17T10:15:15.402Z"
   },
   {
    "duration": 0,
    "start_time": "2023-11-17T10:15:15.545Z"
   },
   {
    "duration": 9,
    "start_time": "2023-11-17T10:16:12.511Z"
   },
   {
    "duration": 40,
    "start_time": "2023-11-17T10:16:22.955Z"
   },
   {
    "duration": 11,
    "start_time": "2023-11-17T10:16:39.758Z"
   },
   {
    "duration": 131,
    "start_time": "2023-11-17T10:16:56.399Z"
   },
   {
    "duration": 16,
    "start_time": "2023-11-17T10:24:25.908Z"
   },
   {
    "duration": 1229,
    "start_time": "2023-11-17T10:25:01.508Z"
   },
   {
    "duration": 167,
    "start_time": "2023-11-17T10:25:02.739Z"
   },
   {
    "duration": 10,
    "start_time": "2023-11-17T10:25:02.908Z"
   },
   {
    "duration": 468,
    "start_time": "2023-11-17T10:25:02.920Z"
   },
   {
    "duration": 35,
    "start_time": "2023-11-17T10:25:03.391Z"
   },
   {
    "duration": 3,
    "start_time": "2023-11-17T10:25:03.428Z"
   },
   {
    "duration": 40,
    "start_time": "2023-11-17T10:25:03.433Z"
   },
   {
    "duration": 97,
    "start_time": "2023-11-17T10:25:03.474Z"
   },
   {
    "duration": 68,
    "start_time": "2023-11-17T10:25:03.573Z"
   },
   {
    "duration": 75,
    "start_time": "2023-11-17T10:25:03.643Z"
   },
   {
    "duration": 20,
    "start_time": "2023-11-17T10:25:03.719Z"
   },
   {
    "duration": 63,
    "start_time": "2023-11-17T10:25:03.741Z"
   },
   {
    "duration": 16,
    "start_time": "2023-11-17T10:25:03.805Z"
   },
   {
    "duration": 14,
    "start_time": "2023-11-17T10:25:03.823Z"
   },
   {
    "duration": 24,
    "start_time": "2023-11-17T10:25:03.839Z"
   },
   {
    "duration": 86,
    "start_time": "2023-11-17T10:25:03.865Z"
   },
   {
    "duration": 25,
    "start_time": "2023-11-17T10:25:03.952Z"
   },
   {
    "duration": 39,
    "start_time": "2023-11-17T10:25:03.979Z"
   },
   {
    "duration": 27,
    "start_time": "2023-11-17T10:25:04.020Z"
   },
   {
    "duration": 27,
    "start_time": "2023-11-17T10:25:04.048Z"
   },
   {
    "duration": 24,
    "start_time": "2023-11-17T10:25:04.077Z"
   },
   {
    "duration": 22,
    "start_time": "2023-11-17T10:25:04.102Z"
   },
   {
    "duration": 47,
    "start_time": "2023-11-17T10:25:04.126Z"
   },
   {
    "duration": 50,
    "start_time": "2023-11-17T10:25:04.175Z"
   },
   {
    "duration": 6,
    "start_time": "2023-11-17T10:25:04.226Z"
   },
   {
    "duration": 23,
    "start_time": "2023-11-17T10:25:04.233Z"
   },
   {
    "duration": 14,
    "start_time": "2023-11-17T10:25:04.258Z"
   },
   {
    "duration": 41,
    "start_time": "2023-11-17T10:25:04.274Z"
   },
   {
    "duration": 7,
    "start_time": "2023-11-17T10:25:04.316Z"
   },
   {
    "duration": 273,
    "start_time": "2023-11-17T10:25:04.325Z"
   },
   {
    "duration": 25,
    "start_time": "2023-11-17T10:25:04.599Z"
   },
   {
    "duration": 13,
    "start_time": "2023-11-17T10:25:04.625Z"
   },
   {
    "duration": 46,
    "start_time": "2023-11-17T10:25:04.640Z"
   },
   {
    "duration": 2,
    "start_time": "2023-11-17T10:25:04.688Z"
   },
   {
    "duration": 15,
    "start_time": "2023-11-17T10:25:04.691Z"
   },
   {
    "duration": 12,
    "start_time": "2023-11-17T10:25:04.707Z"
   },
   {
    "duration": 20,
    "start_time": "2023-11-17T10:25:04.721Z"
   },
   {
    "duration": 30,
    "start_time": "2023-11-17T10:25:04.743Z"
   },
   {
    "duration": 34,
    "start_time": "2023-11-17T10:25:04.775Z"
   },
   {
    "duration": 22,
    "start_time": "2023-11-17T10:25:04.811Z"
   },
   {
    "duration": 25,
    "start_time": "2023-11-17T10:25:04.836Z"
   },
   {
    "duration": 63,
    "start_time": "2023-11-17T10:25:04.863Z"
   },
   {
    "duration": 141,
    "start_time": "2023-11-17T10:25:04.928Z"
   },
   {
    "duration": 154,
    "start_time": "2023-11-17T10:25:05.070Z"
   },
   {
    "duration": 7,
    "start_time": "2023-11-17T10:25:05.225Z"
   },
   {
    "duration": 12,
    "start_time": "2023-11-17T10:25:05.234Z"
   },
   {
    "duration": 13,
    "start_time": "2023-11-17T10:25:05.248Z"
   },
   {
    "duration": 18,
    "start_time": "2023-11-17T10:25:05.262Z"
   },
   {
    "duration": 12,
    "start_time": "2023-11-17T10:25:05.281Z"
   },
   {
    "duration": 54,
    "start_time": "2023-11-17T10:25:05.295Z"
   },
   {
    "duration": 42,
    "start_time": "2023-11-17T10:25:05.351Z"
   },
   {
    "duration": 142,
    "start_time": "2023-11-17T10:25:05.395Z"
   },
   {
    "duration": 105,
    "start_time": "2023-11-17T10:25:05.539Z"
   },
   {
    "duration": 1183,
    "start_time": "2023-11-17T10:25:30.099Z"
   },
   {
    "duration": 171,
    "start_time": "2023-11-17T10:25:31.284Z"
   },
   {
    "duration": 12,
    "start_time": "2023-11-17T10:25:31.456Z"
   },
   {
    "duration": 112,
    "start_time": "2023-11-17T10:25:31.470Z"
   },
   {
    "duration": 72,
    "start_time": "2023-11-17T10:25:31.585Z"
   },
   {
    "duration": 20,
    "start_time": "2023-11-17T10:25:31.659Z"
   },
   {
    "duration": 88,
    "start_time": "2023-11-17T10:25:31.681Z"
   },
   {
    "duration": 107,
    "start_time": "2023-11-17T10:25:31.770Z"
   },
   {
    "duration": 80,
    "start_time": "2023-11-17T10:25:31.879Z"
   },
   {
    "duration": 82,
    "start_time": "2023-11-17T10:25:31.960Z"
   },
   {
    "duration": 23,
    "start_time": "2023-11-17T10:25:32.044Z"
   },
   {
    "duration": 69,
    "start_time": "2023-11-17T10:25:32.069Z"
   },
   {
    "duration": 15,
    "start_time": "2023-11-17T10:25:32.139Z"
   },
   {
    "duration": 21,
    "start_time": "2023-11-17T10:25:32.156Z"
   },
   {
    "duration": 32,
    "start_time": "2023-11-17T10:25:32.179Z"
   },
   {
    "duration": 102,
    "start_time": "2023-11-17T10:25:32.213Z"
   },
   {
    "duration": 23,
    "start_time": "2023-11-17T10:25:32.316Z"
   },
   {
    "duration": 56,
    "start_time": "2023-11-17T10:25:32.341Z"
   },
   {
    "duration": 23,
    "start_time": "2023-11-17T10:25:32.399Z"
   },
   {
    "duration": 43,
    "start_time": "2023-11-17T10:25:32.423Z"
   },
   {
    "duration": 16,
    "start_time": "2023-11-17T10:25:32.468Z"
   },
   {
    "duration": 37,
    "start_time": "2023-11-17T10:25:32.486Z"
   },
   {
    "duration": 55,
    "start_time": "2023-11-17T10:25:32.525Z"
   },
   {
    "duration": 49,
    "start_time": "2023-11-17T10:25:32.581Z"
   },
   {
    "duration": 22,
    "start_time": "2023-11-17T10:25:32.631Z"
   },
   {
    "duration": 14,
    "start_time": "2023-11-17T10:25:32.655Z"
   },
   {
    "duration": 11,
    "start_time": "2023-11-17T10:25:32.671Z"
   },
   {
    "duration": 21,
    "start_time": "2023-11-17T10:25:32.683Z"
   },
   {
    "duration": 7,
    "start_time": "2023-11-17T10:25:32.705Z"
   },
   {
    "duration": 287,
    "start_time": "2023-11-17T10:25:32.714Z"
   },
   {
    "duration": 24,
    "start_time": "2023-11-17T10:25:33.003Z"
   },
   {
    "duration": 33,
    "start_time": "2023-11-17T10:25:33.028Z"
   },
   {
    "duration": 29,
    "start_time": "2023-11-17T10:25:33.063Z"
   },
   {
    "duration": 2,
    "start_time": "2023-11-17T10:25:33.095Z"
   },
   {
    "duration": 13,
    "start_time": "2023-11-17T10:25:33.099Z"
   },
   {
    "duration": 4,
    "start_time": "2023-11-17T10:25:33.114Z"
   },
   {
    "duration": 6,
    "start_time": "2023-11-17T10:25:33.119Z"
   },
   {
    "duration": 7,
    "start_time": "2023-11-17T10:25:33.127Z"
   },
   {
    "duration": 28,
    "start_time": "2023-11-17T10:25:33.135Z"
   },
   {
    "duration": 22,
    "start_time": "2023-11-17T10:25:33.165Z"
   },
   {
    "duration": 24,
    "start_time": "2023-11-17T10:25:33.191Z"
   },
   {
    "duration": 80,
    "start_time": "2023-11-17T10:25:33.217Z"
   },
   {
    "duration": 144,
    "start_time": "2023-11-17T10:25:33.299Z"
   },
   {
    "duration": 159,
    "start_time": "2023-11-17T10:25:33.445Z"
   },
   {
    "duration": 7,
    "start_time": "2023-11-17T10:25:33.605Z"
   },
   {
    "duration": 14,
    "start_time": "2023-11-17T10:25:33.613Z"
   },
   {
    "duration": 13,
    "start_time": "2023-11-17T10:25:33.629Z"
   },
   {
    "duration": 17,
    "start_time": "2023-11-17T10:25:33.644Z"
   },
   {
    "duration": 13,
    "start_time": "2023-11-17T10:25:33.662Z"
   },
   {
    "duration": 48,
    "start_time": "2023-11-17T10:25:33.677Z"
   },
   {
    "duration": 57,
    "start_time": "2023-11-17T10:25:33.726Z"
   },
   {
    "duration": 135,
    "start_time": "2023-11-17T10:25:33.784Z"
   },
   {
    "duration": 11,
    "start_time": "2023-11-17T10:25:33.921Z"
   },
   {
    "duration": 1160,
    "start_time": "2023-11-17T11:09:21.707Z"
   },
   {
    "duration": 175,
    "start_time": "2023-11-17T11:09:22.869Z"
   },
   {
    "duration": 10,
    "start_time": "2023-11-17T11:09:23.046Z"
   },
   {
    "duration": 36,
    "start_time": "2023-11-17T11:09:23.058Z"
   },
   {
    "duration": 25,
    "start_time": "2023-11-17T11:09:23.096Z"
   },
   {
    "duration": 3,
    "start_time": "2023-11-17T11:09:23.123Z"
   },
   {
    "duration": 44,
    "start_time": "2023-11-17T11:09:23.129Z"
   },
   {
    "duration": 71,
    "start_time": "2023-11-17T11:09:23.175Z"
   },
   {
    "duration": 68,
    "start_time": "2023-11-17T11:09:23.248Z"
   },
   {
    "duration": 77,
    "start_time": "2023-11-17T11:09:23.318Z"
   },
   {
    "duration": 19,
    "start_time": "2023-11-17T11:09:23.396Z"
   },
   {
    "duration": 59,
    "start_time": "2023-11-17T11:09:23.417Z"
   },
   {
    "duration": 22,
    "start_time": "2023-11-17T11:09:23.477Z"
   },
   {
    "duration": 9,
    "start_time": "2023-11-17T11:09:23.502Z"
   },
   {
    "duration": 11,
    "start_time": "2023-11-17T11:09:23.513Z"
   },
   {
    "duration": 95,
    "start_time": "2023-11-17T11:09:23.526Z"
   },
   {
    "duration": 26,
    "start_time": "2023-11-17T11:09:23.622Z"
   },
   {
    "duration": 13,
    "start_time": "2023-11-17T11:09:23.655Z"
   },
   {
    "duration": 25,
    "start_time": "2023-11-17T11:09:23.670Z"
   },
   {
    "duration": 33,
    "start_time": "2023-11-17T11:09:23.696Z"
   },
   {
    "duration": 13,
    "start_time": "2023-11-17T11:09:23.730Z"
   },
   {
    "duration": 24,
    "start_time": "2023-11-17T11:09:23.744Z"
   },
   {
    "duration": 39,
    "start_time": "2023-11-17T11:09:23.769Z"
   },
   {
    "duration": 56,
    "start_time": "2023-11-17T11:09:23.810Z"
   },
   {
    "duration": 7,
    "start_time": "2023-11-17T11:09:23.867Z"
   },
   {
    "duration": 25,
    "start_time": "2023-11-17T11:09:23.875Z"
   },
   {
    "duration": 42,
    "start_time": "2023-11-17T11:09:23.902Z"
   },
   {
    "duration": 19,
    "start_time": "2023-11-17T11:09:23.946Z"
   },
   {
    "duration": 7,
    "start_time": "2023-11-17T11:09:23.966Z"
   },
   {
    "duration": 268,
    "start_time": "2023-11-17T11:09:23.974Z"
   },
   {
    "duration": 33,
    "start_time": "2023-11-17T11:09:24.243Z"
   },
   {
    "duration": 37,
    "start_time": "2023-11-17T11:09:24.278Z"
   },
   {
    "duration": 117,
    "start_time": "2023-11-17T11:09:24.316Z"
   },
   {
    "duration": 11,
    "start_time": "2023-11-17T11:09:24.434Z"
   },
   {
    "duration": 73,
    "start_time": "2023-11-17T11:09:24.447Z"
   },
   {
    "duration": 19,
    "start_time": "2023-11-17T11:09:24.521Z"
   },
   {
    "duration": 9,
    "start_time": "2023-11-17T11:09:24.541Z"
   },
   {
    "duration": 26,
    "start_time": "2023-11-17T11:09:24.552Z"
   },
   {
    "duration": 21,
    "start_time": "2023-11-17T11:09:24.580Z"
   },
   {
    "duration": 20,
    "start_time": "2023-11-17T11:09:24.603Z"
   },
   {
    "duration": 28,
    "start_time": "2023-11-17T11:09:24.626Z"
   },
   {
    "duration": 87,
    "start_time": "2023-11-17T11:09:24.655Z"
   },
   {
    "duration": 137,
    "start_time": "2023-11-17T11:09:24.743Z"
   },
   {
    "duration": 147,
    "start_time": "2023-11-17T11:09:24.882Z"
   },
   {
    "duration": 7,
    "start_time": "2023-11-17T11:09:25.031Z"
   },
   {
    "duration": 8,
    "start_time": "2023-11-17T11:09:25.056Z"
   },
   {
    "duration": 38,
    "start_time": "2023-11-17T11:09:25.065Z"
   },
   {
    "duration": 16,
    "start_time": "2023-11-17T11:09:25.105Z"
   },
   {
    "duration": 47,
    "start_time": "2023-11-17T11:09:25.123Z"
   },
   {
    "duration": 62,
    "start_time": "2023-11-17T11:09:25.171Z"
   },
   {
    "duration": 42,
    "start_time": "2023-11-17T11:09:25.234Z"
   },
   {
    "duration": 126,
    "start_time": "2023-11-17T11:09:25.277Z"
   },
   {
    "duration": 11,
    "start_time": "2023-11-17T11:09:25.404Z"
   },
   {
    "duration": 135,
    "start_time": "2023-11-17T11:09:25.416Z"
   },
   {
    "duration": 3,
    "start_time": "2023-11-17T11:10:50.918Z"
   },
   {
    "duration": 10,
    "start_time": "2023-11-17T11:12:14.484Z"
   },
   {
    "duration": 9,
    "start_time": "2023-11-17T11:17:58.588Z"
   },
   {
    "duration": 8,
    "start_time": "2023-11-17T11:19:21.780Z"
   },
   {
    "duration": 9,
    "start_time": "2023-11-17T11:20:06.686Z"
   },
   {
    "duration": 1201,
    "start_time": "2023-11-17T12:27:11.318Z"
   },
   {
    "duration": 172,
    "start_time": "2023-11-17T12:27:12.521Z"
   },
   {
    "duration": 11,
    "start_time": "2023-11-17T12:27:12.694Z"
   },
   {
    "duration": 25,
    "start_time": "2023-11-17T12:27:12.706Z"
   },
   {
    "duration": 24,
    "start_time": "2023-11-17T12:27:12.733Z"
   },
   {
    "duration": 3,
    "start_time": "2023-11-17T12:27:12.758Z"
   },
   {
    "duration": 20,
    "start_time": "2023-11-17T12:27:12.763Z"
   },
   {
    "duration": 79,
    "start_time": "2023-11-17T12:27:12.784Z"
   },
   {
    "duration": 70,
    "start_time": "2023-11-17T12:27:12.865Z"
   },
   {
    "duration": 81,
    "start_time": "2023-11-17T12:27:12.937Z"
   },
   {
    "duration": 18,
    "start_time": "2023-11-17T12:27:13.020Z"
   },
   {
    "duration": 61,
    "start_time": "2023-11-17T12:27:13.039Z"
   },
   {
    "duration": 15,
    "start_time": "2023-11-17T12:27:13.102Z"
   },
   {
    "duration": 10,
    "start_time": "2023-11-17T12:27:13.120Z"
   },
   {
    "duration": 34,
    "start_time": "2023-11-17T12:27:13.131Z"
   },
   {
    "duration": 89,
    "start_time": "2023-11-17T12:27:13.167Z"
   },
   {
    "duration": 25,
    "start_time": "2023-11-17T12:27:13.258Z"
   },
   {
    "duration": 15,
    "start_time": "2023-11-17T12:27:13.285Z"
   },
   {
    "duration": 12,
    "start_time": "2023-11-17T12:27:13.301Z"
   },
   {
    "duration": 42,
    "start_time": "2023-11-17T12:27:13.315Z"
   },
   {
    "duration": 14,
    "start_time": "2023-11-17T12:27:13.358Z"
   },
   {
    "duration": 17,
    "start_time": "2023-11-17T12:27:13.373Z"
   },
   {
    "duration": 41,
    "start_time": "2023-11-17T12:27:13.391Z"
   },
   {
    "duration": 65,
    "start_time": "2023-11-17T12:27:13.433Z"
   },
   {
    "duration": 6,
    "start_time": "2023-11-17T12:27:13.499Z"
   },
   {
    "duration": 6,
    "start_time": "2023-11-17T12:27:13.506Z"
   },
   {
    "duration": 9,
    "start_time": "2023-11-17T12:27:13.513Z"
   },
   {
    "duration": 35,
    "start_time": "2023-11-17T12:27:13.523Z"
   },
   {
    "duration": 6,
    "start_time": "2023-11-17T12:27:13.560Z"
   },
   {
    "duration": 270,
    "start_time": "2023-11-17T12:27:13.567Z"
   },
   {
    "duration": 30,
    "start_time": "2023-11-17T12:27:13.839Z"
   },
   {
    "duration": 13,
    "start_time": "2023-11-17T12:27:13.870Z"
   },
   {
    "duration": 32,
    "start_time": "2023-11-17T12:27:13.884Z"
   },
   {
    "duration": 2,
    "start_time": "2023-11-17T12:27:13.918Z"
   },
   {
    "duration": 5,
    "start_time": "2023-11-17T12:27:13.922Z"
   },
   {
    "duration": 14,
    "start_time": "2023-11-17T12:27:13.929Z"
   },
   {
    "duration": 17,
    "start_time": "2023-11-17T12:27:13.944Z"
   },
   {
    "duration": 9,
    "start_time": "2023-11-17T12:27:13.963Z"
   },
   {
    "duration": 27,
    "start_time": "2023-11-17T12:27:13.973Z"
   },
   {
    "duration": 22,
    "start_time": "2023-11-17T12:27:14.001Z"
   },
   {
    "duration": 24,
    "start_time": "2023-11-17T12:27:14.026Z"
   },
   {
    "duration": 60,
    "start_time": "2023-11-17T12:27:14.055Z"
   },
   {
    "duration": 147,
    "start_time": "2023-11-17T12:27:14.116Z"
   },
   {
    "duration": 153,
    "start_time": "2023-11-17T12:27:14.265Z"
   },
   {
    "duration": 8,
    "start_time": "2023-11-17T12:27:14.419Z"
   },
   {
    "duration": 6,
    "start_time": "2023-11-17T12:27:14.428Z"
   },
   {
    "duration": 22,
    "start_time": "2023-11-17T12:27:14.435Z"
   },
   {
    "duration": 18,
    "start_time": "2023-11-17T12:27:14.458Z"
   },
   {
    "duration": 12,
    "start_time": "2023-11-17T12:27:14.477Z"
   },
   {
    "duration": 45,
    "start_time": "2023-11-17T12:27:14.490Z"
   },
   {
    "duration": 44,
    "start_time": "2023-11-17T12:27:14.536Z"
   },
   {
    "duration": 135,
    "start_time": "2023-11-17T12:27:14.582Z"
   },
   {
    "duration": 11,
    "start_time": "2023-11-17T12:27:14.718Z"
   },
   {
    "duration": 11,
    "start_time": "2023-11-17T12:27:14.730Z"
   },
   {
    "duration": 20,
    "start_time": "2023-11-17T12:27:14.742Z"
   },
   {
    "duration": 7,
    "start_time": "2023-11-17T12:27:14.764Z"
   },
   {
    "duration": 1104,
    "start_time": "2023-11-17T12:41:53.948Z"
   },
   {
    "duration": 167,
    "start_time": "2023-11-17T12:41:55.054Z"
   },
   {
    "duration": 11,
    "start_time": "2023-11-17T12:41:55.223Z"
   },
   {
    "duration": 19,
    "start_time": "2023-11-17T12:41:55.236Z"
   },
   {
    "duration": 37,
    "start_time": "2023-11-17T12:41:55.256Z"
   },
   {
    "duration": 4,
    "start_time": "2023-11-17T12:41:55.295Z"
   },
   {
    "duration": 22,
    "start_time": "2023-11-17T12:41:55.300Z"
   },
   {
    "duration": 64,
    "start_time": "2023-11-17T12:41:55.323Z"
   },
   {
    "duration": 64,
    "start_time": "2023-11-17T12:41:55.389Z"
   },
   {
    "duration": 71,
    "start_time": "2023-11-17T12:41:55.457Z"
   },
   {
    "duration": 28,
    "start_time": "2023-11-17T12:41:55.530Z"
   },
   {
    "duration": 50,
    "start_time": "2023-11-17T12:41:55.560Z"
   },
   {
    "duration": 16,
    "start_time": "2023-11-17T12:41:55.612Z"
   },
   {
    "duration": 34,
    "start_time": "2023-11-17T12:41:55.629Z"
   },
   {
    "duration": 13,
    "start_time": "2023-11-17T12:41:55.664Z"
   },
   {
    "duration": 91,
    "start_time": "2023-11-17T12:41:55.679Z"
   },
   {
    "duration": 24,
    "start_time": "2023-11-17T12:41:55.772Z"
   },
   {
    "duration": 27,
    "start_time": "2023-11-17T12:41:55.797Z"
   },
   {
    "duration": 18,
    "start_time": "2023-11-17T12:41:55.825Z"
   },
   {
    "duration": 41,
    "start_time": "2023-11-17T12:41:55.844Z"
   },
   {
    "duration": 13,
    "start_time": "2023-11-17T12:41:55.886Z"
   },
   {
    "duration": 28,
    "start_time": "2023-11-17T12:41:55.901Z"
   },
   {
    "duration": 59,
    "start_time": "2023-11-17T12:41:55.930Z"
   },
   {
    "duration": 47,
    "start_time": "2023-11-17T12:41:55.990Z"
   },
   {
    "duration": 20,
    "start_time": "2023-11-17T12:41:56.038Z"
   },
   {
    "duration": 19,
    "start_time": "2023-11-17T12:41:56.059Z"
   },
   {
    "duration": 26,
    "start_time": "2023-11-17T12:41:56.079Z"
   },
   {
    "duration": 37,
    "start_time": "2023-11-17T12:41:56.108Z"
   },
   {
    "duration": 23,
    "start_time": "2023-11-17T12:41:56.147Z"
   },
   {
    "duration": 286,
    "start_time": "2023-11-17T12:41:56.171Z"
   },
   {
    "duration": 24,
    "start_time": "2023-11-17T12:41:56.459Z"
   },
   {
    "duration": 24,
    "start_time": "2023-11-17T12:41:56.484Z"
   },
   {
    "duration": 40,
    "start_time": "2023-11-17T12:41:56.509Z"
   },
   {
    "duration": 8,
    "start_time": "2023-11-17T12:41:56.550Z"
   },
   {
    "duration": 22,
    "start_time": "2023-11-17T12:41:56.559Z"
   },
   {
    "duration": 34,
    "start_time": "2023-11-17T12:41:56.582Z"
   },
   {
    "duration": 18,
    "start_time": "2023-11-17T12:41:56.617Z"
   },
   {
    "duration": 8,
    "start_time": "2023-11-17T12:41:56.636Z"
   },
   {
    "duration": 35,
    "start_time": "2023-11-17T12:41:56.646Z"
   },
   {
    "duration": 33,
    "start_time": "2023-11-17T12:41:56.682Z"
   },
   {
    "duration": 33,
    "start_time": "2023-11-17T12:41:56.716Z"
   },
   {
    "duration": 73,
    "start_time": "2023-11-17T12:41:56.750Z"
   },
   {
    "duration": 132,
    "start_time": "2023-11-17T12:41:56.824Z"
   },
   {
    "duration": 139,
    "start_time": "2023-11-17T12:41:56.958Z"
   },
   {
    "duration": 7,
    "start_time": "2023-11-17T12:41:57.099Z"
   },
   {
    "duration": 49,
    "start_time": "2023-11-17T12:41:57.107Z"
   },
   {
    "duration": 27,
    "start_time": "2023-11-17T12:41:57.157Z"
   },
   {
    "duration": 21,
    "start_time": "2023-11-17T12:41:57.185Z"
   },
   {
    "duration": 33,
    "start_time": "2023-11-17T12:41:57.207Z"
   },
   {
    "duration": 66,
    "start_time": "2023-11-17T12:41:57.242Z"
   },
   {
    "duration": 39,
    "start_time": "2023-11-17T12:41:57.309Z"
   },
   {
    "duration": 123,
    "start_time": "2023-11-17T12:41:57.349Z"
   },
   {
    "duration": 12,
    "start_time": "2023-11-17T12:41:57.475Z"
   },
   {
    "duration": 23,
    "start_time": "2023-11-17T12:41:57.488Z"
   },
   {
    "duration": 14,
    "start_time": "2023-11-17T12:41:57.513Z"
   },
   {
    "duration": 24,
    "start_time": "2023-11-17T12:41:57.529Z"
   },
   {
    "duration": 1203,
    "start_time": "2023-11-17T13:15:35.196Z"
   },
   {
    "duration": 190,
    "start_time": "2023-11-17T13:15:36.401Z"
   },
   {
    "duration": 13,
    "start_time": "2023-11-17T13:15:36.592Z"
   },
   {
    "duration": 34,
    "start_time": "2023-11-17T13:15:36.607Z"
   },
   {
    "duration": 29,
    "start_time": "2023-11-17T13:15:36.644Z"
   },
   {
    "duration": 2,
    "start_time": "2023-11-17T13:15:36.675Z"
   },
   {
    "duration": 32,
    "start_time": "2023-11-17T13:15:36.679Z"
   },
   {
    "duration": 84,
    "start_time": "2023-11-17T13:15:36.712Z"
   },
   {
    "duration": 79,
    "start_time": "2023-11-17T13:15:36.797Z"
   },
   {
    "duration": 74,
    "start_time": "2023-11-17T13:15:36.877Z"
   },
   {
    "duration": 32,
    "start_time": "2023-11-17T13:15:36.952Z"
   },
   {
    "duration": 76,
    "start_time": "2023-11-17T13:15:36.986Z"
   },
   {
    "duration": 17,
    "start_time": "2023-11-17T13:15:37.064Z"
   },
   {
    "duration": 10,
    "start_time": "2023-11-17T13:15:37.084Z"
   },
   {
    "duration": 13,
    "start_time": "2023-11-17T13:15:37.096Z"
   },
   {
    "duration": 108,
    "start_time": "2023-11-17T13:15:37.111Z"
   },
   {
    "duration": 27,
    "start_time": "2023-11-17T13:15:37.220Z"
   },
   {
    "duration": 29,
    "start_time": "2023-11-17T13:15:37.249Z"
   },
   {
    "duration": 8,
    "start_time": "2023-11-17T13:15:37.279Z"
   },
   {
    "duration": 26,
    "start_time": "2023-11-17T13:15:37.289Z"
   },
   {
    "duration": 15,
    "start_time": "2023-11-17T13:15:37.316Z"
   },
   {
    "duration": 42,
    "start_time": "2023-11-17T13:15:37.333Z"
   },
   {
    "duration": 41,
    "start_time": "2023-11-17T13:15:37.376Z"
   },
   {
    "duration": 70,
    "start_time": "2023-11-17T13:15:37.419Z"
   },
   {
    "duration": 5,
    "start_time": "2023-11-17T13:15:37.491Z"
   },
   {
    "duration": 9,
    "start_time": "2023-11-17T13:15:37.497Z"
   },
   {
    "duration": 6,
    "start_time": "2023-11-17T13:15:37.508Z"
   },
   {
    "duration": 24,
    "start_time": "2023-11-17T13:15:37.515Z"
   },
   {
    "duration": 27,
    "start_time": "2023-11-17T13:15:37.540Z"
   },
   {
    "duration": 327,
    "start_time": "2023-11-17T13:15:37.569Z"
   },
   {
    "duration": 27,
    "start_time": "2023-11-17T13:15:37.898Z"
   },
   {
    "duration": 15,
    "start_time": "2023-11-17T13:15:37.926Z"
   },
   {
    "duration": 52,
    "start_time": "2023-11-17T13:15:37.943Z"
   },
   {
    "duration": 3,
    "start_time": "2023-11-17T13:15:37.997Z"
   },
   {
    "duration": 22,
    "start_time": "2023-11-17T13:15:38.002Z"
   },
   {
    "duration": 19,
    "start_time": "2023-11-17T13:15:38.026Z"
   },
   {
    "duration": 9,
    "start_time": "2023-11-17T13:15:38.046Z"
   },
   {
    "duration": 12,
    "start_time": "2023-11-17T13:15:38.057Z"
   },
   {
    "duration": 16,
    "start_time": "2023-11-17T13:15:38.070Z"
   },
   {
    "duration": 24,
    "start_time": "2023-11-17T13:15:38.088Z"
   },
   {
    "duration": 26,
    "start_time": "2023-11-17T13:15:38.116Z"
   },
   {
    "duration": 75,
    "start_time": "2023-11-17T13:15:38.144Z"
   },
   {
    "duration": 166,
    "start_time": "2023-11-17T13:15:38.220Z"
   },
   {
    "duration": 163,
    "start_time": "2023-11-17T13:15:38.387Z"
   },
   {
    "duration": 14,
    "start_time": "2023-11-17T13:15:38.552Z"
   },
   {
    "duration": 4,
    "start_time": "2023-11-17T13:15:38.568Z"
   },
   {
    "duration": 18,
    "start_time": "2023-11-17T13:15:38.573Z"
   },
   {
    "duration": 14,
    "start_time": "2023-11-17T13:15:38.593Z"
   },
   {
    "duration": 15,
    "start_time": "2023-11-17T13:15:38.609Z"
   },
   {
    "duration": 62,
    "start_time": "2023-11-17T13:15:38.626Z"
   },
   {
    "duration": 46,
    "start_time": "2023-11-17T13:15:38.690Z"
   },
   {
    "duration": 150,
    "start_time": "2023-11-17T13:15:38.737Z"
   },
   {
    "duration": 16,
    "start_time": "2023-11-17T13:15:38.889Z"
   },
   {
    "duration": 10,
    "start_time": "2023-11-17T13:15:38.907Z"
   },
   {
    "duration": 15,
    "start_time": "2023-11-17T13:15:38.919Z"
   },
   {
    "duration": 38,
    "start_time": "2023-11-17T13:15:38.936Z"
   },
   {
    "duration": 18,
    "start_time": "2023-11-17T14:08:26.331Z"
   },
   {
    "duration": 1324,
    "start_time": "2023-11-17T14:20:12.375Z"
   },
   {
    "duration": 195,
    "start_time": "2023-11-17T14:20:13.701Z"
   },
   {
    "duration": 11,
    "start_time": "2023-11-17T14:20:13.898Z"
   },
   {
    "duration": 11,
    "start_time": "2023-11-17T14:20:13.911Z"
   },
   {
    "duration": 25,
    "start_time": "2023-11-17T14:20:13.924Z"
   },
   {
    "duration": 4,
    "start_time": "2023-11-17T14:20:13.965Z"
   },
   {
    "duration": 18,
    "start_time": "2023-11-17T14:20:13.970Z"
   },
   {
    "duration": 87,
    "start_time": "2023-11-17T14:20:13.990Z"
   },
   {
    "duration": 75,
    "start_time": "2023-11-17T14:20:14.079Z"
   },
   {
    "duration": 74,
    "start_time": "2023-11-17T14:20:14.167Z"
   },
   {
    "duration": 32,
    "start_time": "2023-11-17T14:20:14.243Z"
   },
   {
    "duration": 56,
    "start_time": "2023-11-17T14:20:14.276Z"
   },
   {
    "duration": 36,
    "start_time": "2023-11-17T14:20:14.333Z"
   },
   {
    "duration": 10,
    "start_time": "2023-11-17T14:20:14.371Z"
   },
   {
    "duration": 13,
    "start_time": "2023-11-17T14:20:14.383Z"
   },
   {
    "duration": 114,
    "start_time": "2023-11-17T14:20:14.397Z"
   },
   {
    "duration": 28,
    "start_time": "2023-11-17T14:20:14.512Z"
   },
   {
    "duration": 33,
    "start_time": "2023-11-17T14:20:14.542Z"
   },
   {
    "duration": 10,
    "start_time": "2023-11-17T14:20:14.576Z"
   },
   {
    "duration": 26,
    "start_time": "2023-11-17T14:20:14.588Z"
   },
   {
    "duration": 17,
    "start_time": "2023-11-17T14:20:14.616Z"
   },
   {
    "duration": 38,
    "start_time": "2023-11-17T14:20:14.634Z"
   },
   {
    "duration": 43,
    "start_time": "2023-11-17T14:20:14.673Z"
   },
   {
    "duration": 67,
    "start_time": "2023-11-17T14:20:14.718Z"
   },
   {
    "duration": 4,
    "start_time": "2023-11-17T14:20:14.787Z"
   },
   {
    "duration": 9,
    "start_time": "2023-11-17T14:20:14.793Z"
   },
   {
    "duration": 23,
    "start_time": "2023-11-17T14:20:14.803Z"
   },
   {
    "duration": 22,
    "start_time": "2023-11-17T14:20:14.830Z"
   },
   {
    "duration": 13,
    "start_time": "2023-11-17T14:20:14.853Z"
   },
   {
    "duration": 327,
    "start_time": "2023-11-17T14:20:14.868Z"
   },
   {
    "duration": 27,
    "start_time": "2023-11-17T14:20:15.197Z"
   },
   {
    "duration": 21,
    "start_time": "2023-11-17T14:20:15.225Z"
   },
   {
    "duration": 88,
    "start_time": "2023-11-17T14:20:15.247Z"
   },
   {
    "duration": 2,
    "start_time": "2023-11-17T14:20:15.336Z"
   },
   {
    "duration": 16,
    "start_time": "2023-11-17T14:20:15.340Z"
   },
   {
    "duration": 5,
    "start_time": "2023-11-17T14:20:15.358Z"
   },
   {
    "duration": 4,
    "start_time": "2023-11-17T14:20:15.365Z"
   },
   {
    "duration": 5,
    "start_time": "2023-11-17T14:20:15.370Z"
   },
   {
    "duration": 16,
    "start_time": "2023-11-17T14:20:15.376Z"
   },
   {
    "duration": 24,
    "start_time": "2023-11-17T14:20:15.393Z"
   },
   {
    "duration": 48,
    "start_time": "2023-11-17T14:20:15.418Z"
   },
   {
    "duration": 62,
    "start_time": "2023-11-17T14:20:15.468Z"
   },
   {
    "duration": 170,
    "start_time": "2023-11-17T14:20:15.532Z"
   },
   {
    "duration": 179,
    "start_time": "2023-11-17T14:20:15.704Z"
   },
   {
    "duration": 7,
    "start_time": "2023-11-17T14:20:15.885Z"
   },
   {
    "duration": 4,
    "start_time": "2023-11-17T14:20:15.894Z"
   },
   {
    "duration": 9,
    "start_time": "2023-11-17T14:20:15.899Z"
   },
   {
    "duration": 15,
    "start_time": "2023-11-17T14:20:15.910Z"
   },
   {
    "duration": 10,
    "start_time": "2023-11-17T14:20:15.927Z"
   },
   {
    "duration": 73,
    "start_time": "2023-11-17T14:20:15.939Z"
   },
   {
    "duration": 55,
    "start_time": "2023-11-17T14:20:16.014Z"
   },
   {
    "duration": 148,
    "start_time": "2023-11-17T14:20:16.071Z"
   },
   {
    "duration": 12,
    "start_time": "2023-11-17T14:20:16.220Z"
   },
   {
    "duration": 12,
    "start_time": "2023-11-17T14:20:16.234Z"
   },
   {
    "duration": 24,
    "start_time": "2023-11-17T14:20:16.248Z"
   },
   {
    "duration": 17,
    "start_time": "2023-11-17T14:20:16.273Z"
   },
   {
    "duration": 1456,
    "start_time": "2023-11-17T15:09:24.511Z"
   },
   {
    "duration": 527,
    "start_time": "2023-11-17T15:09:25.969Z"
   },
   {
    "duration": 12,
    "start_time": "2023-11-17T15:09:26.497Z"
   },
   {
    "duration": 9,
    "start_time": "2023-11-17T15:09:26.511Z"
   },
   {
    "duration": 29,
    "start_time": "2023-11-17T15:09:26.522Z"
   },
   {
    "duration": 3,
    "start_time": "2023-11-17T15:09:26.553Z"
   },
   {
    "duration": 30,
    "start_time": "2023-11-17T15:09:26.557Z"
   },
   {
    "duration": 76,
    "start_time": "2023-11-17T15:09:26.588Z"
   },
   {
    "duration": 77,
    "start_time": "2023-11-17T15:09:26.665Z"
   },
   {
    "duration": 88,
    "start_time": "2023-11-17T15:09:26.743Z"
   },
   {
    "duration": 20,
    "start_time": "2023-11-17T15:09:26.833Z"
   },
   {
    "duration": 74,
    "start_time": "2023-11-17T15:09:26.855Z"
   },
   {
    "duration": 16,
    "start_time": "2023-11-17T15:09:26.931Z"
   },
   {
    "duration": 12,
    "start_time": "2023-11-17T15:09:26.950Z"
   },
   {
    "duration": 14,
    "start_time": "2023-11-17T15:09:26.964Z"
   },
   {
    "duration": 111,
    "start_time": "2023-11-17T15:09:26.980Z"
   },
   {
    "duration": 11,
    "start_time": "2023-11-17T15:09:27.093Z"
   },
   {
    "duration": 36,
    "start_time": "2023-11-17T15:09:27.106Z"
   },
   {
    "duration": 15,
    "start_time": "2023-11-17T15:09:27.144Z"
   },
   {
    "duration": 8,
    "start_time": "2023-11-17T15:09:27.160Z"
   },
   {
    "duration": 32,
    "start_time": "2023-11-17T15:09:27.169Z"
   },
   {
    "duration": 29,
    "start_time": "2023-11-17T15:09:27.202Z"
   },
   {
    "duration": 21,
    "start_time": "2023-11-17T15:09:27.233Z"
   },
   {
    "duration": 59,
    "start_time": "2023-11-17T15:09:27.256Z"
   },
   {
    "duration": 54,
    "start_time": "2023-11-17T15:09:27.316Z"
   },
   {
    "duration": 4,
    "start_time": "2023-11-17T15:09:27.372Z"
   },
   {
    "duration": 5,
    "start_time": "2023-11-17T15:09:27.378Z"
   },
   {
    "duration": 5,
    "start_time": "2023-11-17T15:09:27.385Z"
   },
   {
    "duration": 48,
    "start_time": "2023-11-17T15:09:27.391Z"
   },
   {
    "duration": 7,
    "start_time": "2023-11-17T15:09:27.440Z"
   },
   {
    "duration": 318,
    "start_time": "2023-11-17T15:09:27.448Z"
   },
   {
    "duration": 26,
    "start_time": "2023-11-17T15:09:27.768Z"
   },
   {
    "duration": 27,
    "start_time": "2023-11-17T15:09:27.795Z"
   },
   {
    "duration": 32,
    "start_time": "2023-11-17T15:09:27.824Z"
   },
   {
    "duration": 2,
    "start_time": "2023-11-17T15:09:27.858Z"
   },
   {
    "duration": 16,
    "start_time": "2023-11-17T15:09:27.862Z"
   },
   {
    "duration": 21,
    "start_time": "2023-11-17T15:09:27.879Z"
   },
   {
    "duration": 6,
    "start_time": "2023-11-17T15:09:27.902Z"
   },
   {
    "duration": 29,
    "start_time": "2023-11-17T15:09:27.910Z"
   },
   {
    "duration": 16,
    "start_time": "2023-11-17T15:09:27.941Z"
   },
   {
    "duration": 24,
    "start_time": "2023-11-17T15:09:27.961Z"
   },
   {
    "duration": 27,
    "start_time": "2023-11-17T15:09:27.986Z"
   },
   {
    "duration": 67,
    "start_time": "2023-11-17T15:09:28.015Z"
   },
   {
    "duration": 162,
    "start_time": "2023-11-17T15:09:28.084Z"
   },
   {
    "duration": 169,
    "start_time": "2023-11-17T15:09:28.247Z"
   },
   {
    "duration": 9,
    "start_time": "2023-11-17T15:09:28.417Z"
   },
   {
    "duration": 37,
    "start_time": "2023-11-17T15:09:28.428Z"
   },
   {
    "duration": 20,
    "start_time": "2023-11-17T15:09:28.466Z"
   },
   {
    "duration": 29,
    "start_time": "2023-11-17T15:09:28.488Z"
   },
   {
    "duration": 21,
    "start_time": "2023-11-17T15:09:28.518Z"
   },
   {
    "duration": 55,
    "start_time": "2023-11-17T15:09:28.541Z"
   },
   {
    "duration": 45,
    "start_time": "2023-11-17T15:09:28.598Z"
   },
   {
    "duration": 142,
    "start_time": "2023-11-17T15:09:28.645Z"
   },
   {
    "duration": 12,
    "start_time": "2023-11-17T15:09:28.788Z"
   },
   {
    "duration": 24,
    "start_time": "2023-11-17T15:09:28.802Z"
   },
   {
    "duration": 17,
    "start_time": "2023-11-17T15:09:28.828Z"
   },
   {
    "duration": 9,
    "start_time": "2023-11-17T15:09:28.846Z"
   },
   {
    "duration": 25,
    "start_time": "2023-11-17T15:22:42.778Z"
   },
   {
    "duration": 23,
    "start_time": "2023-11-17T15:23:07.960Z"
   },
   {
    "duration": 24,
    "start_time": "2023-11-17T15:23:18.427Z"
   },
   {
    "duration": 23,
    "start_time": "2023-11-17T15:23:34.410Z"
   },
   {
    "duration": 104,
    "start_time": "2023-11-17T15:23:47.842Z"
   },
   {
    "duration": 1214,
    "start_time": "2023-11-17T15:23:56.231Z"
   },
   {
    "duration": 194,
    "start_time": "2023-11-17T15:23:57.447Z"
   },
   {
    "duration": 11,
    "start_time": "2023-11-17T15:23:57.643Z"
   },
   {
    "duration": 11,
    "start_time": "2023-11-17T15:23:57.656Z"
   },
   {
    "duration": 23,
    "start_time": "2023-11-17T15:23:57.670Z"
   },
   {
    "duration": 27,
    "start_time": "2023-11-17T15:23:57.695Z"
   },
   {
    "duration": 27,
    "start_time": "2023-11-17T15:23:57.724Z"
   },
   {
    "duration": 74,
    "start_time": "2023-11-17T15:23:57.752Z"
   },
   {
    "duration": 75,
    "start_time": "2023-11-17T15:23:57.828Z"
   },
   {
    "duration": 85,
    "start_time": "2023-11-17T15:23:57.904Z"
   },
   {
    "duration": 32,
    "start_time": "2023-11-17T15:23:57.990Z"
   },
   {
    "duration": 59,
    "start_time": "2023-11-17T15:23:58.024Z"
   },
   {
    "duration": 16,
    "start_time": "2023-11-17T15:23:58.085Z"
   },
   {
    "duration": 11,
    "start_time": "2023-11-17T15:23:58.123Z"
   },
   {
    "duration": 14,
    "start_time": "2023-11-17T15:23:58.135Z"
   },
   {
    "duration": 111,
    "start_time": "2023-11-17T15:23:58.150Z"
   },
   {
    "duration": 11,
    "start_time": "2023-11-17T15:23:58.262Z"
   },
   {
    "duration": 54,
    "start_time": "2023-11-17T15:23:58.275Z"
   },
   {
    "duration": 26,
    "start_time": "2023-11-17T15:23:58.330Z"
   },
   {
    "duration": 25,
    "start_time": "2023-11-17T15:23:58.357Z"
   },
   {
    "duration": 4,
    "start_time": "2023-11-17T15:23:58.384Z"
   },
   {
    "duration": 51,
    "start_time": "2023-11-17T15:23:58.389Z"
   },
   {
    "duration": 17,
    "start_time": "2023-11-17T15:23:58.442Z"
   },
   {
    "duration": 8,
    "start_time": "2023-11-17T15:23:58.460Z"
   },
   {
    "duration": 25,
    "start_time": "2023-11-17T15:23:58.470Z"
   },
   {
    "duration": 37,
    "start_time": "2023-11-17T15:23:58.496Z"
   },
   {
    "duration": 17,
    "start_time": "2023-11-17T15:23:58.534Z"
   },
   {
    "duration": 45,
    "start_time": "2023-11-17T15:23:58.552Z"
   },
   {
    "duration": 71,
    "start_time": "2023-11-17T15:23:58.599Z"
   },
   {
    "duration": 4,
    "start_time": "2023-11-17T15:23:58.672Z"
   },
   {
    "duration": 8,
    "start_time": "2023-11-17T15:23:58.678Z"
   },
   {
    "duration": 6,
    "start_time": "2023-11-17T15:23:58.687Z"
   },
   {
    "duration": 44,
    "start_time": "2023-11-17T15:23:58.694Z"
   },
   {
    "duration": 7,
    "start_time": "2023-11-17T15:23:58.739Z"
   },
   {
    "duration": 319,
    "start_time": "2023-11-17T15:23:58.748Z"
   },
   {
    "duration": 16,
    "start_time": "2023-11-17T15:23:59.068Z"
   },
   {
    "duration": 13,
    "start_time": "2023-11-17T15:23:59.086Z"
   },
   {
    "duration": 52,
    "start_time": "2023-11-17T15:23:59.100Z"
   },
   {
    "duration": 2,
    "start_time": "2023-11-17T15:23:59.154Z"
   },
   {
    "duration": 15,
    "start_time": "2023-11-17T15:23:59.157Z"
   },
   {
    "duration": 9,
    "start_time": "2023-11-17T15:23:59.176Z"
   },
   {
    "duration": 5,
    "start_time": "2023-11-17T15:23:59.187Z"
   },
   {
    "duration": 5,
    "start_time": "2023-11-17T15:23:59.194Z"
   },
   {
    "duration": 21,
    "start_time": "2023-11-17T15:23:59.201Z"
   },
   {
    "duration": 23,
    "start_time": "2023-11-17T15:23:59.224Z"
   },
   {
    "duration": 28,
    "start_time": "2023-11-17T15:23:59.249Z"
   },
   {
    "duration": 86,
    "start_time": "2023-11-17T15:23:59.278Z"
   },
   {
    "duration": 159,
    "start_time": "2023-11-17T15:23:59.365Z"
   },
   {
    "duration": 166,
    "start_time": "2023-11-17T15:23:59.526Z"
   },
   {
    "duration": 7,
    "start_time": "2023-11-17T15:23:59.694Z"
   },
   {
    "duration": 5,
    "start_time": "2023-11-17T15:23:59.703Z"
   },
   {
    "duration": 8,
    "start_time": "2023-11-17T15:23:59.722Z"
   },
   {
    "duration": 16,
    "start_time": "2023-11-17T15:23:59.732Z"
   },
   {
    "duration": 13,
    "start_time": "2023-11-17T15:23:59.750Z"
   },
   {
    "duration": 62,
    "start_time": "2023-11-17T15:23:59.765Z"
   },
   {
    "duration": 45,
    "start_time": "2023-11-17T15:23:59.829Z"
   },
   {
    "duration": 149,
    "start_time": "2023-11-17T15:23:59.876Z"
   },
   {
    "duration": 12,
    "start_time": "2023-11-17T15:24:00.027Z"
   },
   {
    "duration": 65,
    "start_time": "2023-11-17T15:24:00.040Z"
   },
   {
    "duration": 35,
    "start_time": "2023-11-17T15:24:00.106Z"
   },
   {
    "duration": 26,
    "start_time": "2023-11-17T15:24:00.143Z"
   },
   {
    "duration": 1281,
    "start_time": "2023-11-17T15:32:06.651Z"
   },
   {
    "duration": 179,
    "start_time": "2023-11-17T15:32:07.934Z"
   },
   {
    "duration": 19,
    "start_time": "2023-11-17T15:32:08.115Z"
   },
   {
    "duration": 17,
    "start_time": "2023-11-17T15:32:08.136Z"
   },
   {
    "duration": 74,
    "start_time": "2023-11-17T15:32:08.155Z"
   },
   {
    "duration": 23,
    "start_time": "2023-11-17T15:32:08.231Z"
   },
   {
    "duration": 36,
    "start_time": "2023-11-17T15:32:08.255Z"
   },
   {
    "duration": 77,
    "start_time": "2023-11-17T15:32:08.293Z"
   },
   {
    "duration": 80,
    "start_time": "2023-11-17T15:32:08.372Z"
   },
   {
    "duration": 94,
    "start_time": "2023-11-17T15:32:08.453Z"
   },
   {
    "duration": 21,
    "start_time": "2023-11-17T15:32:08.549Z"
   },
   {
    "duration": 86,
    "start_time": "2023-11-17T15:32:08.572Z"
   },
   {
    "duration": 18,
    "start_time": "2023-11-17T15:32:08.660Z"
   },
   {
    "duration": 11,
    "start_time": "2023-11-17T15:32:08.681Z"
   },
   {
    "duration": 50,
    "start_time": "2023-11-17T15:32:08.694Z"
   },
   {
    "duration": 114,
    "start_time": "2023-11-17T15:32:08.746Z"
   },
   {
    "duration": 12,
    "start_time": "2023-11-17T15:32:08.861Z"
   },
   {
    "duration": 104,
    "start_time": "2023-11-17T15:32:08.874Z"
   },
   {
    "duration": 30,
    "start_time": "2023-11-17T15:32:08.980Z"
   },
   {
    "duration": 49,
    "start_time": "2023-11-17T15:32:09.011Z"
   },
   {
    "duration": 10,
    "start_time": "2023-11-17T15:32:09.061Z"
   },
   {
    "duration": 63,
    "start_time": "2023-11-17T15:32:09.072Z"
   },
   {
    "duration": 48,
    "start_time": "2023-11-17T15:32:09.137Z"
   },
   {
    "duration": 34,
    "start_time": "2023-11-17T15:32:09.186Z"
   },
   {
    "duration": 40,
    "start_time": "2023-11-17T15:32:09.221Z"
   },
   {
    "duration": 14,
    "start_time": "2023-11-17T15:32:09.262Z"
   },
   {
    "duration": 75,
    "start_time": "2023-11-17T15:32:09.278Z"
   },
   {
    "duration": 104,
    "start_time": "2023-11-17T15:32:09.354Z"
   },
   {
    "duration": 104,
    "start_time": "2023-11-17T15:32:09.460Z"
   },
   {
    "duration": 22,
    "start_time": "2023-11-17T15:32:09.566Z"
   },
   {
    "duration": 28,
    "start_time": "2023-11-17T15:32:09.589Z"
   },
   {
    "duration": 42,
    "start_time": "2023-11-17T15:32:09.619Z"
   },
   {
    "duration": 41,
    "start_time": "2023-11-17T15:32:09.663Z"
   },
   {
    "duration": 39,
    "start_time": "2023-11-17T15:32:09.706Z"
   },
   {
    "duration": 330,
    "start_time": "2023-11-17T15:32:09.747Z"
   },
   {
    "duration": 17,
    "start_time": "2023-11-17T15:32:10.079Z"
   },
   {
    "duration": 28,
    "start_time": "2023-11-17T15:32:10.097Z"
   },
   {
    "duration": 34,
    "start_time": "2023-11-17T15:32:10.127Z"
   },
   {
    "duration": 6,
    "start_time": "2023-11-17T15:32:10.163Z"
   },
   {
    "duration": 31,
    "start_time": "2023-11-17T15:32:10.170Z"
   },
   {
    "duration": 20,
    "start_time": "2023-11-17T15:32:10.205Z"
   },
   {
    "duration": 18,
    "start_time": "2023-11-17T15:32:10.227Z"
   },
   {
    "duration": 26,
    "start_time": "2023-11-17T15:32:10.246Z"
   },
   {
    "duration": 78,
    "start_time": "2023-11-17T15:32:10.274Z"
   },
   {
    "duration": 37,
    "start_time": "2023-11-17T15:32:10.354Z"
   },
   {
    "duration": 84,
    "start_time": "2023-11-17T15:32:10.393Z"
   },
   {
    "duration": 99,
    "start_time": "2023-11-17T15:32:10.478Z"
   },
   {
    "duration": 181,
    "start_time": "2023-11-17T15:32:10.579Z"
   },
   {
    "duration": 194,
    "start_time": "2023-11-17T15:32:10.762Z"
   },
   {
    "duration": 7,
    "start_time": "2023-11-17T15:32:10.958Z"
   },
   {
    "duration": 7,
    "start_time": "2023-11-17T15:32:10.968Z"
   },
   {
    "duration": 17,
    "start_time": "2023-11-17T15:32:10.976Z"
   },
   {
    "duration": 33,
    "start_time": "2023-11-17T15:32:10.994Z"
   },
   {
    "duration": 17,
    "start_time": "2023-11-17T15:32:11.029Z"
   },
   {
    "duration": 61,
    "start_time": "2023-11-17T15:32:11.047Z"
   },
   {
    "duration": 57,
    "start_time": "2023-11-17T15:32:11.110Z"
   },
   {
    "duration": 147,
    "start_time": "2023-11-17T15:32:11.169Z"
   },
   {
    "duration": 18,
    "start_time": "2023-11-17T15:32:11.321Z"
   },
   {
    "duration": 69,
    "start_time": "2023-11-17T15:32:11.341Z"
   },
   {
    "duration": 34,
    "start_time": "2023-11-17T15:32:11.411Z"
   },
   {
    "duration": 38,
    "start_time": "2023-11-17T15:32:11.447Z"
   },
   {
    "duration": 1314,
    "start_time": "2023-11-17T15:34:15.645Z"
   },
   {
    "duration": 205,
    "start_time": "2023-11-17T15:34:16.961Z"
   },
   {
    "duration": 11,
    "start_time": "2023-11-17T15:34:17.168Z"
   },
   {
    "duration": 13,
    "start_time": "2023-11-17T15:34:17.181Z"
   },
   {
    "duration": 55,
    "start_time": "2023-11-17T15:34:17.196Z"
   },
   {
    "duration": 134,
    "start_time": "2023-11-17T15:34:17.253Z"
   },
   {
    "duration": 0,
    "start_time": "2023-11-17T15:34:17.391Z"
   },
   {
    "duration": 0,
    "start_time": "2023-11-17T15:34:17.392Z"
   },
   {
    "duration": 0,
    "start_time": "2023-11-17T15:34:17.393Z"
   },
   {
    "duration": 0,
    "start_time": "2023-11-17T15:34:17.394Z"
   },
   {
    "duration": 0,
    "start_time": "2023-11-17T15:34:17.395Z"
   },
   {
    "duration": 0,
    "start_time": "2023-11-17T15:34:17.396Z"
   },
   {
    "duration": 0,
    "start_time": "2023-11-17T15:34:17.397Z"
   },
   {
    "duration": 0,
    "start_time": "2023-11-17T15:34:17.398Z"
   },
   {
    "duration": 0,
    "start_time": "2023-11-17T15:34:17.399Z"
   },
   {
    "duration": 0,
    "start_time": "2023-11-17T15:34:17.400Z"
   },
   {
    "duration": 0,
    "start_time": "2023-11-17T15:34:17.401Z"
   },
   {
    "duration": 0,
    "start_time": "2023-11-17T15:34:17.402Z"
   },
   {
    "duration": 0,
    "start_time": "2023-11-17T15:34:17.403Z"
   },
   {
    "duration": 0,
    "start_time": "2023-11-17T15:34:17.423Z"
   },
   {
    "duration": 0,
    "start_time": "2023-11-17T15:34:17.425Z"
   },
   {
    "duration": 0,
    "start_time": "2023-11-17T15:34:17.426Z"
   },
   {
    "duration": 0,
    "start_time": "2023-11-17T15:34:17.428Z"
   },
   {
    "duration": 0,
    "start_time": "2023-11-17T15:34:17.429Z"
   },
   {
    "duration": 0,
    "start_time": "2023-11-17T15:34:17.431Z"
   },
   {
    "duration": 0,
    "start_time": "2023-11-17T15:34:17.432Z"
   },
   {
    "duration": 0,
    "start_time": "2023-11-17T15:34:17.433Z"
   },
   {
    "duration": 0,
    "start_time": "2023-11-17T15:34:17.434Z"
   },
   {
    "duration": 0,
    "start_time": "2023-11-17T15:34:17.436Z"
   },
   {
    "duration": 0,
    "start_time": "2023-11-17T15:34:17.438Z"
   },
   {
    "duration": 0,
    "start_time": "2023-11-17T15:34:17.440Z"
   },
   {
    "duration": 0,
    "start_time": "2023-11-17T15:34:17.441Z"
   },
   {
    "duration": 0,
    "start_time": "2023-11-17T15:34:17.442Z"
   },
   {
    "duration": 0,
    "start_time": "2023-11-17T15:34:17.444Z"
   },
   {
    "duration": 0,
    "start_time": "2023-11-17T15:34:17.445Z"
   },
   {
    "duration": 0,
    "start_time": "2023-11-17T15:34:17.446Z"
   },
   {
    "duration": 0,
    "start_time": "2023-11-17T15:34:17.447Z"
   },
   {
    "duration": 0,
    "start_time": "2023-11-17T15:34:17.448Z"
   },
   {
    "duration": 0,
    "start_time": "2023-11-17T15:34:17.449Z"
   },
   {
    "duration": 0,
    "start_time": "2023-11-17T15:34:17.450Z"
   },
   {
    "duration": 0,
    "start_time": "2023-11-17T15:34:17.452Z"
   },
   {
    "duration": 0,
    "start_time": "2023-11-17T15:34:17.453Z"
   },
   {
    "duration": 0,
    "start_time": "2023-11-17T15:34:17.454Z"
   },
   {
    "duration": 0,
    "start_time": "2023-11-17T15:34:17.455Z"
   },
   {
    "duration": 0,
    "start_time": "2023-11-17T15:34:17.456Z"
   },
   {
    "duration": 0,
    "start_time": "2023-11-17T15:34:17.457Z"
   },
   {
    "duration": 0,
    "start_time": "2023-11-17T15:34:17.458Z"
   },
   {
    "duration": 0,
    "start_time": "2023-11-17T15:34:17.459Z"
   },
   {
    "duration": 0,
    "start_time": "2023-11-17T15:34:17.460Z"
   },
   {
    "duration": 0,
    "start_time": "2023-11-17T15:34:17.461Z"
   },
   {
    "duration": 0,
    "start_time": "2023-11-17T15:34:17.462Z"
   },
   {
    "duration": 0,
    "start_time": "2023-11-17T15:34:17.523Z"
   },
   {
    "duration": 0,
    "start_time": "2023-11-17T15:34:17.525Z"
   },
   {
    "duration": 0,
    "start_time": "2023-11-17T15:34:17.526Z"
   },
   {
    "duration": 0,
    "start_time": "2023-11-17T15:34:17.527Z"
   },
   {
    "duration": 0,
    "start_time": "2023-11-17T15:34:17.529Z"
   },
   {
    "duration": 0,
    "start_time": "2023-11-17T15:34:17.530Z"
   },
   {
    "duration": 0,
    "start_time": "2023-11-17T15:34:17.532Z"
   },
   {
    "duration": 0,
    "start_time": "2023-11-17T15:34:17.534Z"
   },
   {
    "duration": 0,
    "start_time": "2023-11-17T15:34:17.536Z"
   },
   {
    "duration": 0,
    "start_time": "2023-11-17T15:34:17.537Z"
   },
   {
    "duration": 1186,
    "start_time": "2023-11-17T15:35:41.161Z"
   },
   {
    "duration": 185,
    "start_time": "2023-11-17T15:35:42.349Z"
   },
   {
    "duration": 12,
    "start_time": "2023-11-17T15:35:42.536Z"
   },
   {
    "duration": 22,
    "start_time": "2023-11-17T15:35:42.550Z"
   },
   {
    "duration": 31,
    "start_time": "2023-11-17T15:35:42.574Z"
   },
   {
    "duration": 3,
    "start_time": "2023-11-17T15:35:42.607Z"
   },
   {
    "duration": 34,
    "start_time": "2023-11-17T15:35:42.611Z"
   },
   {
    "duration": 80,
    "start_time": "2023-11-17T15:35:42.647Z"
   },
   {
    "duration": 79,
    "start_time": "2023-11-17T15:35:42.729Z"
   },
   {
    "duration": 83,
    "start_time": "2023-11-17T15:35:42.811Z"
   },
   {
    "duration": 32,
    "start_time": "2023-11-17T15:35:42.895Z"
   },
   {
    "duration": 56,
    "start_time": "2023-11-17T15:35:42.929Z"
   },
   {
    "duration": 37,
    "start_time": "2023-11-17T15:35:42.986Z"
   },
   {
    "duration": 11,
    "start_time": "2023-11-17T15:35:43.025Z"
   },
   {
    "duration": 17,
    "start_time": "2023-11-17T15:35:43.038Z"
   },
   {
    "duration": 122,
    "start_time": "2023-11-17T15:35:43.057Z"
   },
   {
    "duration": 13,
    "start_time": "2023-11-17T15:35:43.180Z"
   },
   {
    "duration": 68,
    "start_time": "2023-11-17T15:35:43.195Z"
   },
   {
    "duration": 25,
    "start_time": "2023-11-17T15:35:43.265Z"
   },
   {
    "duration": 42,
    "start_time": "2023-11-17T15:35:43.292Z"
   },
   {
    "duration": 19,
    "start_time": "2023-11-17T15:35:43.336Z"
   },
   {
    "duration": 37,
    "start_time": "2023-11-17T15:35:43.357Z"
   },
   {
    "duration": 18,
    "start_time": "2023-11-17T15:35:43.395Z"
   },
   {
    "duration": 13,
    "start_time": "2023-11-17T15:35:43.415Z"
   },
   {
    "duration": 26,
    "start_time": "2023-11-17T15:35:43.430Z"
   },
   {
    "duration": 16,
    "start_time": "2023-11-17T15:35:43.457Z"
   },
   {
    "duration": 26,
    "start_time": "2023-11-17T15:35:43.475Z"
   },
   {
    "duration": 44,
    "start_time": "2023-11-17T15:35:43.529Z"
   },
   {
    "duration": 79,
    "start_time": "2023-11-17T15:35:43.574Z"
   },
   {
    "duration": 5,
    "start_time": "2023-11-17T15:35:43.655Z"
   },
   {
    "duration": 4,
    "start_time": "2023-11-17T15:35:43.662Z"
   },
   {
    "duration": 6,
    "start_time": "2023-11-17T15:35:43.668Z"
   },
   {
    "duration": 22,
    "start_time": "2023-11-17T15:35:43.676Z"
   },
   {
    "duration": 27,
    "start_time": "2023-11-17T15:35:43.699Z"
   },
   {
    "duration": 303,
    "start_time": "2023-11-17T15:35:43.727Z"
   },
   {
    "duration": 17,
    "start_time": "2023-11-17T15:35:44.032Z"
   },
   {
    "duration": 15,
    "start_time": "2023-11-17T15:35:44.051Z"
   },
   {
    "duration": 54,
    "start_time": "2023-11-17T15:35:44.068Z"
   },
   {
    "duration": 3,
    "start_time": "2023-11-17T15:35:44.125Z"
   },
   {
    "duration": 10,
    "start_time": "2023-11-17T15:35:44.130Z"
   },
   {
    "duration": 4,
    "start_time": "2023-11-17T15:35:44.141Z"
   },
   {
    "duration": 3,
    "start_time": "2023-11-17T15:35:44.147Z"
   },
   {
    "duration": 18,
    "start_time": "2023-11-17T15:35:44.152Z"
   },
   {
    "duration": 16,
    "start_time": "2023-11-17T15:35:44.172Z"
   },
   {
    "duration": 43,
    "start_time": "2023-11-17T15:35:44.189Z"
   },
   {
    "duration": 27,
    "start_time": "2023-11-17T15:35:44.234Z"
   },
   {
    "duration": 76,
    "start_time": "2023-11-17T15:35:44.263Z"
   },
   {
    "duration": 170,
    "start_time": "2023-11-17T15:35:44.341Z"
   },
   {
    "duration": 182,
    "start_time": "2023-11-17T15:35:44.513Z"
   },
   {
    "duration": 8,
    "start_time": "2023-11-17T15:35:44.696Z"
   },
   {
    "duration": 17,
    "start_time": "2023-11-17T15:35:44.706Z"
   },
   {
    "duration": 13,
    "start_time": "2023-11-17T15:35:44.725Z"
   },
   {
    "duration": 17,
    "start_time": "2023-11-17T15:35:44.740Z"
   },
   {
    "duration": 14,
    "start_time": "2023-11-17T15:35:44.758Z"
   },
   {
    "duration": 68,
    "start_time": "2023-11-17T15:35:44.774Z"
   },
   {
    "duration": 57,
    "start_time": "2023-11-17T15:35:44.844Z"
   },
   {
    "duration": 150,
    "start_time": "2023-11-17T15:35:44.902Z"
   },
   {
    "duration": 12,
    "start_time": "2023-11-17T15:35:45.053Z"
   },
   {
    "duration": 13,
    "start_time": "2023-11-17T15:35:45.066Z"
   },
   {
    "duration": 24,
    "start_time": "2023-11-17T15:35:45.081Z"
   },
   {
    "duration": 22,
    "start_time": "2023-11-17T15:35:45.107Z"
   },
   {
    "duration": 5,
    "start_time": "2023-11-17T15:39:44.773Z"
   },
   {
    "duration": 18,
    "start_time": "2023-11-17T15:40:33.454Z"
   },
   {
    "duration": 1700,
    "start_time": "2023-11-17T15:42:45.005Z"
   },
   {
    "duration": 8,
    "start_time": "2023-11-17T15:42:53.371Z"
   },
   {
    "duration": 22,
    "start_time": "2023-11-17T15:45:03.776Z"
   },
   {
    "duration": 112,
    "start_time": "2023-11-17T15:48:52.652Z"
   },
   {
    "duration": 3,
    "start_time": "2023-11-17T15:52:07.952Z"
   },
   {
    "duration": 4,
    "start_time": "2023-11-17T15:52:32.925Z"
   },
   {
    "duration": 1171,
    "start_time": "2023-11-17T15:53:15.272Z"
   },
   {
    "duration": 175,
    "start_time": "2023-11-17T15:53:16.445Z"
   },
   {
    "duration": 10,
    "start_time": "2023-11-17T15:53:16.622Z"
   },
   {
    "duration": 59,
    "start_time": "2023-11-17T15:53:16.634Z"
   },
   {
    "duration": 22,
    "start_time": "2023-11-17T15:53:16.695Z"
   },
   {
    "duration": 2,
    "start_time": "2023-11-17T15:53:16.719Z"
   },
   {
    "duration": 36,
    "start_time": "2023-11-17T15:53:16.723Z"
   },
   {
    "duration": 79,
    "start_time": "2023-11-17T15:53:16.761Z"
   },
   {
    "duration": 80,
    "start_time": "2023-11-17T15:53:16.842Z"
   },
   {
    "duration": 73,
    "start_time": "2023-11-17T15:53:16.925Z"
   },
   {
    "duration": 31,
    "start_time": "2023-11-17T15:53:17.000Z"
   },
   {
    "duration": 55,
    "start_time": "2023-11-17T15:53:17.033Z"
   },
   {
    "duration": 35,
    "start_time": "2023-11-17T15:53:17.089Z"
   },
   {
    "duration": 10,
    "start_time": "2023-11-17T15:53:17.126Z"
   },
   {
    "duration": 42,
    "start_time": "2023-11-17T15:53:17.137Z"
   },
   {
    "duration": 95,
    "start_time": "2023-11-17T15:53:17.180Z"
   },
   {
    "duration": 39,
    "start_time": "2023-11-17T15:53:17.276Z"
   },
   {
    "duration": 69,
    "start_time": "2023-11-17T15:53:17.316Z"
   },
   {
    "duration": 25,
    "start_time": "2023-11-17T15:53:17.387Z"
   },
   {
    "duration": 38,
    "start_time": "2023-11-17T15:53:17.413Z"
   },
   {
    "duration": 11,
    "start_time": "2023-11-17T15:53:17.453Z"
   },
   {
    "duration": 53,
    "start_time": "2023-11-17T15:53:17.466Z"
   },
   {
    "duration": 83,
    "start_time": "2023-11-17T15:53:17.521Z"
   },
   {
    "duration": 26,
    "start_time": "2023-11-17T15:53:17.606Z"
   },
   {
    "duration": 36,
    "start_time": "2023-11-17T15:53:17.633Z"
   },
   {
    "duration": 21,
    "start_time": "2023-11-17T15:53:17.671Z"
   },
   {
    "duration": 22,
    "start_time": "2023-11-17T15:53:17.693Z"
   },
   {
    "duration": 51,
    "start_time": "2023-11-17T15:53:17.719Z"
   },
   {
    "duration": 60,
    "start_time": "2023-11-17T15:53:17.771Z"
   },
   {
    "duration": 5,
    "start_time": "2023-11-17T15:53:17.833Z"
   },
   {
    "duration": 22,
    "start_time": "2023-11-17T15:53:17.839Z"
   },
   {
    "duration": 6,
    "start_time": "2023-11-17T15:53:17.863Z"
   },
   {
    "duration": 22,
    "start_time": "2023-11-17T15:53:17.870Z"
   },
   {
    "duration": 7,
    "start_time": "2023-11-17T15:53:17.894Z"
   },
   {
    "duration": 311,
    "start_time": "2023-11-17T15:53:17.902Z"
   },
   {
    "duration": 18,
    "start_time": "2023-11-17T15:53:18.215Z"
   },
   {
    "duration": 14,
    "start_time": "2023-11-17T15:53:18.234Z"
   },
   {
    "duration": 32,
    "start_time": "2023-11-17T15:53:18.249Z"
   },
   {
    "duration": 3,
    "start_time": "2023-11-17T15:53:18.282Z"
   },
   {
    "duration": 40,
    "start_time": "2023-11-17T15:53:18.286Z"
   },
   {
    "duration": 2,
    "start_time": "2023-11-17T15:53:18.328Z"
   },
   {
    "duration": 9,
    "start_time": "2023-11-17T15:53:18.331Z"
   },
   {
    "duration": 19,
    "start_time": "2023-11-17T15:53:18.341Z"
   },
   {
    "duration": 13,
    "start_time": "2023-11-17T15:53:18.362Z"
   },
   {
    "duration": 136,
    "start_time": "2023-11-17T15:53:18.376Z"
   },
   {
    "duration": 0,
    "start_time": "2023-11-17T15:53:18.514Z"
   },
   {
    "duration": 0,
    "start_time": "2023-11-17T15:53:18.515Z"
   },
   {
    "duration": 0,
    "start_time": "2023-11-17T15:53:18.522Z"
   },
   {
    "duration": 0,
    "start_time": "2023-11-17T15:53:18.523Z"
   },
   {
    "duration": 0,
    "start_time": "2023-11-17T15:53:18.524Z"
   },
   {
    "duration": 0,
    "start_time": "2023-11-17T15:53:18.525Z"
   },
   {
    "duration": 0,
    "start_time": "2023-11-17T15:53:18.526Z"
   },
   {
    "duration": 0,
    "start_time": "2023-11-17T15:53:18.527Z"
   },
   {
    "duration": 0,
    "start_time": "2023-11-17T15:53:18.528Z"
   },
   {
    "duration": 0,
    "start_time": "2023-11-17T15:53:18.530Z"
   },
   {
    "duration": 0,
    "start_time": "2023-11-17T15:53:18.531Z"
   },
   {
    "duration": 0,
    "start_time": "2023-11-17T15:53:18.532Z"
   },
   {
    "duration": 0,
    "start_time": "2023-11-17T15:53:18.533Z"
   },
   {
    "duration": 0,
    "start_time": "2023-11-17T15:53:18.534Z"
   },
   {
    "duration": 0,
    "start_time": "2023-11-17T15:53:18.535Z"
   },
   {
    "duration": 0,
    "start_time": "2023-11-17T15:53:18.536Z"
   },
   {
    "duration": 0,
    "start_time": "2023-11-17T15:53:18.537Z"
   },
   {
    "duration": 0,
    "start_time": "2023-11-17T15:53:18.538Z"
   },
   {
    "duration": 0,
    "start_time": "2023-11-17T15:53:18.539Z"
   },
   {
    "duration": 1188,
    "start_time": "2023-11-17T15:53:43.316Z"
   },
   {
    "duration": 179,
    "start_time": "2023-11-17T15:53:44.506Z"
   },
   {
    "duration": 11,
    "start_time": "2023-11-17T15:53:44.687Z"
   },
   {
    "duration": 29,
    "start_time": "2023-11-17T15:53:44.700Z"
   },
   {
    "duration": 37,
    "start_time": "2023-11-17T15:53:44.730Z"
   },
   {
    "duration": 3,
    "start_time": "2023-11-17T15:53:44.768Z"
   },
   {
    "duration": 26,
    "start_time": "2023-11-17T15:53:44.772Z"
   },
   {
    "duration": 76,
    "start_time": "2023-11-17T15:53:44.800Z"
   },
   {
    "duration": 84,
    "start_time": "2023-11-17T15:53:44.878Z"
   },
   {
    "duration": 78,
    "start_time": "2023-11-17T15:53:44.965Z"
   },
   {
    "duration": 20,
    "start_time": "2023-11-17T15:53:45.044Z"
   },
   {
    "duration": 99,
    "start_time": "2023-11-17T15:53:45.066Z"
   },
   {
    "duration": 17,
    "start_time": "2023-11-17T15:53:45.166Z"
   },
   {
    "duration": 10,
    "start_time": "2023-11-17T15:53:45.184Z"
   },
   {
    "duration": 32,
    "start_time": "2023-11-17T15:53:45.196Z"
   },
   {
    "duration": 95,
    "start_time": "2023-11-17T15:53:45.229Z"
   },
   {
    "duration": 12,
    "start_time": "2023-11-17T15:53:45.325Z"
   },
   {
    "duration": 39,
    "start_time": "2023-11-17T15:53:45.338Z"
   },
   {
    "duration": 44,
    "start_time": "2023-11-17T15:53:45.379Z"
   },
   {
    "duration": 24,
    "start_time": "2023-11-17T15:53:45.424Z"
   },
   {
    "duration": 3,
    "start_time": "2023-11-17T15:53:45.450Z"
   },
   {
    "duration": 35,
    "start_time": "2023-11-17T15:53:45.454Z"
   },
   {
    "duration": 34,
    "start_time": "2023-11-17T15:53:45.490Z"
   },
   {
    "duration": 6,
    "start_time": "2023-11-17T15:53:45.525Z"
   },
   {
    "duration": 26,
    "start_time": "2023-11-17T15:53:45.533Z"
   },
   {
    "duration": 15,
    "start_time": "2023-11-17T15:53:45.561Z"
   },
   {
    "duration": 14,
    "start_time": "2023-11-17T15:53:45.577Z"
   },
   {
    "duration": 43,
    "start_time": "2023-11-17T15:53:45.622Z"
   },
   {
    "duration": 68,
    "start_time": "2023-11-17T15:53:45.667Z"
   },
   {
    "duration": 5,
    "start_time": "2023-11-17T15:53:45.737Z"
   },
   {
    "duration": 25,
    "start_time": "2023-11-17T15:53:45.743Z"
   },
   {
    "duration": 10,
    "start_time": "2023-11-17T15:53:45.769Z"
   },
   {
    "duration": 23,
    "start_time": "2023-11-17T15:53:45.780Z"
   },
   {
    "duration": 6,
    "start_time": "2023-11-17T15:53:45.804Z"
   },
   {
    "duration": 298,
    "start_time": "2023-11-17T15:53:45.812Z"
   },
   {
    "duration": 22,
    "start_time": "2023-11-17T15:53:46.111Z"
   },
   {
    "duration": 13,
    "start_time": "2023-11-17T15:53:46.134Z"
   },
   {
    "duration": 55,
    "start_time": "2023-11-17T15:53:46.149Z"
   },
   {
    "duration": 2,
    "start_time": "2023-11-17T15:53:46.205Z"
   },
   {
    "duration": 12,
    "start_time": "2023-11-17T15:53:46.209Z"
   },
   {
    "duration": 3,
    "start_time": "2023-11-17T15:53:46.223Z"
   },
   {
    "duration": 5,
    "start_time": "2023-11-17T15:53:46.228Z"
   },
   {
    "duration": 5,
    "start_time": "2023-11-17T15:53:46.234Z"
   },
   {
    "duration": 28,
    "start_time": "2023-11-17T15:53:46.240Z"
   },
   {
    "duration": 14,
    "start_time": "2023-11-17T15:53:46.270Z"
   },
   {
    "duration": 3,
    "start_time": "2023-11-17T15:53:46.286Z"
   },
   {
    "duration": 0,
    "start_time": "2023-11-17T15:53:46.291Z"
   },
   {
    "duration": 0,
    "start_time": "2023-11-17T15:53:46.292Z"
   },
   {
    "duration": 0,
    "start_time": "2023-11-17T15:53:46.293Z"
   },
   {
    "duration": 0,
    "start_time": "2023-11-17T15:53:46.295Z"
   },
   {
    "duration": 0,
    "start_time": "2023-11-17T15:53:46.296Z"
   },
   {
    "duration": 0,
    "start_time": "2023-11-17T15:53:46.297Z"
   },
   {
    "duration": 0,
    "start_time": "2023-11-17T15:53:46.299Z"
   },
   {
    "duration": 0,
    "start_time": "2023-11-17T15:53:46.300Z"
   },
   {
    "duration": 0,
    "start_time": "2023-11-17T15:53:46.301Z"
   },
   {
    "duration": 0,
    "start_time": "2023-11-17T15:53:46.302Z"
   },
   {
    "duration": 1,
    "start_time": "2023-11-17T15:53:46.303Z"
   },
   {
    "duration": 0,
    "start_time": "2023-11-17T15:53:46.305Z"
   },
   {
    "duration": 0,
    "start_time": "2023-11-17T15:53:46.322Z"
   },
   {
    "duration": 0,
    "start_time": "2023-11-17T15:53:46.323Z"
   },
   {
    "duration": 0,
    "start_time": "2023-11-17T15:53:46.324Z"
   },
   {
    "duration": 0,
    "start_time": "2023-11-17T15:53:46.326Z"
   },
   {
    "duration": 0,
    "start_time": "2023-11-17T15:53:46.327Z"
   },
   {
    "duration": 3,
    "start_time": "2023-11-17T15:56:18.234Z"
   },
   {
    "duration": 3,
    "start_time": "2023-11-17T15:56:53.284Z"
   },
   {
    "duration": 1264,
    "start_time": "2023-11-17T15:57:29.503Z"
   },
   {
    "duration": 180,
    "start_time": "2023-11-17T15:57:30.768Z"
   },
   {
    "duration": 13,
    "start_time": "2023-11-17T15:57:30.949Z"
   },
   {
    "duration": 87,
    "start_time": "2023-11-17T15:57:30.965Z"
   },
   {
    "duration": 63,
    "start_time": "2023-11-17T15:57:31.054Z"
   },
   {
    "duration": 22,
    "start_time": "2023-11-17T15:57:31.119Z"
   },
   {
    "duration": 73,
    "start_time": "2023-11-17T15:57:31.142Z"
   },
   {
    "duration": 86,
    "start_time": "2023-11-17T15:57:31.217Z"
   },
   {
    "duration": 74,
    "start_time": "2023-11-17T15:57:31.304Z"
   },
   {
    "duration": 74,
    "start_time": "2023-11-17T15:57:31.382Z"
   },
   {
    "duration": 24,
    "start_time": "2023-11-17T15:57:31.458Z"
   },
   {
    "duration": 67,
    "start_time": "2023-11-17T15:57:31.484Z"
   },
   {
    "duration": 17,
    "start_time": "2023-11-17T15:57:31.553Z"
   },
   {
    "duration": 15,
    "start_time": "2023-11-17T15:57:31.572Z"
   },
   {
    "duration": 21,
    "start_time": "2023-11-17T15:57:31.589Z"
   },
   {
    "duration": 113,
    "start_time": "2023-11-17T15:57:31.611Z"
   },
   {
    "duration": 12,
    "start_time": "2023-11-17T15:57:31.726Z"
   },
   {
    "duration": 74,
    "start_time": "2023-11-17T15:57:31.739Z"
   },
   {
    "duration": 25,
    "start_time": "2023-11-17T15:57:31.815Z"
   },
   {
    "duration": 50,
    "start_time": "2023-11-17T15:57:31.841Z"
   },
   {
    "duration": 7,
    "start_time": "2023-11-17T15:57:31.893Z"
   },
   {
    "duration": 44,
    "start_time": "2023-11-17T15:57:31.901Z"
   },
   {
    "duration": 32,
    "start_time": "2023-11-17T15:57:31.947Z"
   },
   {
    "duration": 26,
    "start_time": "2023-11-17T15:57:31.981Z"
   },
   {
    "duration": 36,
    "start_time": "2023-11-17T15:57:32.008Z"
   },
   {
    "duration": 15,
    "start_time": "2023-11-17T15:57:32.045Z"
   },
   {
    "duration": 46,
    "start_time": "2023-11-17T15:57:32.061Z"
   },
   {
    "duration": 60,
    "start_time": "2023-11-17T15:57:32.112Z"
   },
   {
    "duration": 55,
    "start_time": "2023-11-17T15:57:32.174Z"
   },
   {
    "duration": 27,
    "start_time": "2023-11-17T15:57:32.231Z"
   },
   {
    "duration": 35,
    "start_time": "2023-11-17T15:57:32.259Z"
   },
   {
    "duration": 21,
    "start_time": "2023-11-17T15:57:32.296Z"
   },
   {
    "duration": 40,
    "start_time": "2023-11-17T15:57:32.318Z"
   },
   {
    "duration": 30,
    "start_time": "2023-11-17T15:57:32.360Z"
   },
   {
    "duration": 320,
    "start_time": "2023-11-17T15:57:32.392Z"
   },
   {
    "duration": 19,
    "start_time": "2023-11-17T15:57:32.714Z"
   },
   {
    "duration": 14,
    "start_time": "2023-11-17T15:57:32.735Z"
   },
   {
    "duration": 47,
    "start_time": "2023-11-17T15:57:32.750Z"
   },
   {
    "duration": 2,
    "start_time": "2023-11-17T15:57:32.800Z"
   },
   {
    "duration": 32,
    "start_time": "2023-11-17T15:57:32.804Z"
   },
   {
    "duration": 7,
    "start_time": "2023-11-17T15:57:32.838Z"
   },
   {
    "duration": 28,
    "start_time": "2023-11-17T15:57:32.846Z"
   },
   {
    "duration": 10,
    "start_time": "2023-11-17T15:57:32.876Z"
   },
   {
    "duration": 27,
    "start_time": "2023-11-17T15:57:32.887Z"
   },
   {
    "duration": 20,
    "start_time": "2023-11-17T15:57:32.915Z"
   },
   {
    "duration": 4,
    "start_time": "2023-11-17T15:57:32.937Z"
   },
   {
    "duration": 20,
    "start_time": "2023-11-17T15:57:32.943Z"
   },
   {
    "duration": 4,
    "start_time": "2023-11-17T15:57:32.964Z"
   },
   {
    "duration": 25,
    "start_time": "2023-11-17T15:57:32.970Z"
   },
   {
    "duration": 40,
    "start_time": "2023-11-17T15:57:32.997Z"
   },
   {
    "duration": 79,
    "start_time": "2023-11-17T15:57:33.038Z"
   },
   {
    "duration": 150,
    "start_time": "2023-11-17T15:57:33.119Z"
   },
   {
    "duration": 161,
    "start_time": "2023-11-17T15:57:33.271Z"
   },
   {
    "duration": 8,
    "start_time": "2023-11-17T15:57:33.434Z"
   },
   {
    "duration": 4,
    "start_time": "2023-11-17T15:57:33.444Z"
   },
   {
    "duration": 10,
    "start_time": "2023-11-17T15:57:33.450Z"
   },
   {
    "duration": 12,
    "start_time": "2023-11-17T15:57:33.461Z"
   },
   {
    "duration": 17,
    "start_time": "2023-11-17T15:57:33.475Z"
   },
   {
    "duration": 71,
    "start_time": "2023-11-17T15:57:33.494Z"
   },
   {
    "duration": 58,
    "start_time": "2023-11-17T15:57:33.567Z"
   },
   {
    "duration": 134,
    "start_time": "2023-11-17T15:57:33.626Z"
   },
   {
    "duration": 11,
    "start_time": "2023-11-17T15:57:33.761Z"
   },
   {
    "duration": 16,
    "start_time": "2023-11-17T15:57:33.774Z"
   },
   {
    "duration": 9,
    "start_time": "2023-11-17T15:57:33.791Z"
   },
   {
    "duration": 28,
    "start_time": "2023-11-17T15:57:33.802Z"
   },
   {
    "duration": 161,
    "start_time": "2023-11-17T16:10:46.746Z"
   },
   {
    "duration": 152,
    "start_time": "2023-11-17T16:10:58.372Z"
   },
   {
    "duration": 4,
    "start_time": "2023-11-17T16:11:28.323Z"
   },
   {
    "duration": 161,
    "start_time": "2023-11-17T16:15:33.368Z"
   },
   {
    "duration": 69,
    "start_time": "2023-11-17T16:15:40.544Z"
   },
   {
    "duration": 1278,
    "start_time": "2023-11-17T16:17:32.684Z"
   },
   {
    "duration": 182,
    "start_time": "2023-11-17T16:17:33.964Z"
   },
   {
    "duration": 12,
    "start_time": "2023-11-17T16:17:34.147Z"
   },
   {
    "duration": 20,
    "start_time": "2023-11-17T16:17:34.160Z"
   },
   {
    "duration": 34,
    "start_time": "2023-11-17T16:17:34.181Z"
   },
   {
    "duration": 5,
    "start_time": "2023-11-17T16:17:34.217Z"
   },
   {
    "duration": 42,
    "start_time": "2023-11-17T16:17:34.223Z"
   },
   {
    "duration": 76,
    "start_time": "2023-11-17T16:17:34.267Z"
   },
   {
    "duration": 73,
    "start_time": "2023-11-17T16:17:34.344Z"
   },
   {
    "duration": 69,
    "start_time": "2023-11-17T16:17:34.422Z"
   },
   {
    "duration": 35,
    "start_time": "2023-11-17T16:17:34.493Z"
   },
   {
    "duration": 53,
    "start_time": "2023-11-17T16:17:34.529Z"
   },
   {
    "duration": 16,
    "start_time": "2023-11-17T16:17:34.583Z"
   },
   {
    "duration": 28,
    "start_time": "2023-11-17T16:17:34.602Z"
   },
   {
    "duration": 13,
    "start_time": "2023-11-17T16:17:34.631Z"
   },
   {
    "duration": 100,
    "start_time": "2023-11-17T16:17:34.645Z"
   },
   {
    "duration": 11,
    "start_time": "2023-11-17T16:17:34.747Z"
   },
   {
    "duration": 63,
    "start_time": "2023-11-17T16:17:34.759Z"
   },
   {
    "duration": 25,
    "start_time": "2023-11-17T16:17:34.824Z"
   },
   {
    "duration": 41,
    "start_time": "2023-11-17T16:17:34.851Z"
   },
   {
    "duration": 7,
    "start_time": "2023-11-17T16:17:34.894Z"
   },
   {
    "duration": 45,
    "start_time": "2023-11-17T16:17:34.903Z"
   },
   {
    "duration": 21,
    "start_time": "2023-11-17T16:17:34.949Z"
   },
   {
    "duration": 8,
    "start_time": "2023-11-17T16:17:34.971Z"
   },
   {
    "duration": 25,
    "start_time": "2023-11-17T16:17:34.980Z"
   },
   {
    "duration": 29,
    "start_time": "2023-11-17T16:17:35.006Z"
   },
   {
    "duration": 18,
    "start_time": "2023-11-17T16:17:35.036Z"
   },
   {
    "duration": 45,
    "start_time": "2023-11-17T16:17:35.056Z"
   },
   {
    "duration": 72,
    "start_time": "2023-11-17T16:17:35.103Z"
   },
   {
    "duration": 6,
    "start_time": "2023-11-17T16:17:35.177Z"
   },
   {
    "duration": 7,
    "start_time": "2023-11-17T16:17:35.185Z"
   },
   {
    "duration": 31,
    "start_time": "2023-11-17T16:17:35.193Z"
   },
   {
    "duration": 22,
    "start_time": "2023-11-17T16:17:35.226Z"
   },
   {
    "duration": 8,
    "start_time": "2023-11-17T16:17:35.250Z"
   },
   {
    "duration": 330,
    "start_time": "2023-11-17T16:17:35.260Z"
   },
   {
    "duration": 17,
    "start_time": "2023-11-17T16:17:35.591Z"
   },
   {
    "duration": 23,
    "start_time": "2023-11-17T16:17:35.609Z"
   },
   {
    "duration": 55,
    "start_time": "2023-11-17T16:17:35.633Z"
   },
   {
    "duration": 2,
    "start_time": "2023-11-17T16:17:35.690Z"
   },
   {
    "duration": 11,
    "start_time": "2023-11-17T16:17:35.694Z"
   },
   {
    "duration": 2,
    "start_time": "2023-11-17T16:17:35.709Z"
   },
   {
    "duration": 5,
    "start_time": "2023-11-17T16:17:35.712Z"
   },
   {
    "duration": 6,
    "start_time": "2023-11-17T16:17:35.718Z"
   },
   {
    "duration": 6,
    "start_time": "2023-11-17T16:17:35.725Z"
   },
   {
    "duration": 12,
    "start_time": "2023-11-17T16:17:35.732Z"
   },
   {
    "duration": 20,
    "start_time": "2023-11-17T16:17:35.746Z"
   },
   {
    "duration": 30,
    "start_time": "2023-11-17T16:17:35.767Z"
   },
   {
    "duration": 27,
    "start_time": "2023-11-17T16:17:35.798Z"
   },
   {
    "duration": 80,
    "start_time": "2023-11-17T16:17:35.826Z"
   },
   {
    "duration": 71,
    "start_time": "2023-11-17T16:17:35.907Z"
   },
   {
    "duration": 161,
    "start_time": "2023-11-17T16:17:35.979Z"
   },
   {
    "duration": 157,
    "start_time": "2023-11-17T16:17:36.141Z"
   },
   {
    "duration": 7,
    "start_time": "2023-11-17T16:17:36.300Z"
   },
   {
    "duration": 23,
    "start_time": "2023-11-17T16:17:36.323Z"
   },
   {
    "duration": 31,
    "start_time": "2023-11-17T16:17:36.348Z"
   },
   {
    "duration": 28,
    "start_time": "2023-11-17T16:17:36.380Z"
   },
   {
    "duration": 16,
    "start_time": "2023-11-17T16:17:36.410Z"
   },
   {
    "duration": 53,
    "start_time": "2023-11-17T16:17:36.428Z"
   },
   {
    "duration": 52,
    "start_time": "2023-11-17T16:17:36.482Z"
   },
   {
    "duration": 137,
    "start_time": "2023-11-17T16:17:36.535Z"
   },
   {
    "duration": 12,
    "start_time": "2023-11-17T16:17:36.673Z"
   },
   {
    "duration": 35,
    "start_time": "2023-11-17T16:17:36.686Z"
   },
   {
    "duration": 8,
    "start_time": "2023-11-17T16:17:36.722Z"
   },
   {
    "duration": 38,
    "start_time": "2023-11-17T16:17:36.732Z"
   },
   {
    "duration": 4,
    "start_time": "2023-11-17T16:21:49.710Z"
   },
   {
    "duration": 10,
    "start_time": "2023-11-17T16:21:55.259Z"
   },
   {
    "duration": 1203,
    "start_time": "2023-11-17T16:36:47.446Z"
   },
   {
    "duration": 180,
    "start_time": "2023-11-17T16:36:48.651Z"
   },
   {
    "duration": 11,
    "start_time": "2023-11-17T16:36:48.833Z"
   },
   {
    "duration": 17,
    "start_time": "2023-11-17T16:36:48.845Z"
   },
   {
    "duration": 27,
    "start_time": "2023-11-17T16:36:48.864Z"
   },
   {
    "duration": 3,
    "start_time": "2023-11-17T16:36:48.893Z"
   },
   {
    "duration": 32,
    "start_time": "2023-11-17T16:36:48.898Z"
   },
   {
    "duration": 69,
    "start_time": "2023-11-17T16:36:48.932Z"
   },
   {
    "duration": 84,
    "start_time": "2023-11-17T16:36:49.003Z"
   },
   {
    "duration": 81,
    "start_time": "2023-11-17T16:36:49.089Z"
   },
   {
    "duration": 22,
    "start_time": "2023-11-17T16:36:49.172Z"
   },
   {
    "duration": 74,
    "start_time": "2023-11-17T16:36:49.196Z"
   },
   {
    "duration": 16,
    "start_time": "2023-11-17T16:36:49.272Z"
   },
   {
    "duration": 10,
    "start_time": "2023-11-17T16:36:49.291Z"
   },
   {
    "duration": 26,
    "start_time": "2023-11-17T16:36:49.302Z"
   },
   {
    "duration": 96,
    "start_time": "2023-11-17T16:36:49.329Z"
   },
   {
    "duration": 12,
    "start_time": "2023-11-17T16:36:49.426Z"
   },
   {
    "duration": 40,
    "start_time": "2023-11-17T16:36:49.440Z"
   },
   {
    "duration": 45,
    "start_time": "2023-11-17T16:36:49.482Z"
   },
   {
    "duration": 25,
    "start_time": "2023-11-17T16:36:49.528Z"
   },
   {
    "duration": 4,
    "start_time": "2023-11-17T16:36:49.554Z"
   },
   {
    "duration": 28,
    "start_time": "2023-11-17T16:36:49.560Z"
   },
   {
    "duration": 40,
    "start_time": "2023-11-17T16:36:49.589Z"
   },
   {
    "duration": 13,
    "start_time": "2023-11-17T16:36:49.630Z"
   },
   {
    "duration": 34,
    "start_time": "2023-11-17T16:36:49.645Z"
   },
   {
    "duration": 14,
    "start_time": "2023-11-17T16:36:49.681Z"
   },
   {
    "duration": 30,
    "start_time": "2023-11-17T16:36:49.697Z"
   },
   {
    "duration": 45,
    "start_time": "2023-11-17T16:36:49.729Z"
   },
   {
    "duration": 67,
    "start_time": "2023-11-17T16:36:49.776Z"
   },
   {
    "duration": 4,
    "start_time": "2023-11-17T16:36:49.845Z"
   },
   {
    "duration": 10,
    "start_time": "2023-11-17T16:36:49.851Z"
   },
   {
    "duration": 8,
    "start_time": "2023-11-17T16:36:49.862Z"
   },
   {
    "duration": 21,
    "start_time": "2023-11-17T16:36:49.872Z"
   },
   {
    "duration": 29,
    "start_time": "2023-11-17T16:36:49.895Z"
   },
   {
    "duration": 303,
    "start_time": "2023-11-17T16:36:49.925Z"
   },
   {
    "duration": 17,
    "start_time": "2023-11-17T16:36:50.229Z"
   },
   {
    "duration": 14,
    "start_time": "2023-11-17T16:36:50.247Z"
   },
   {
    "duration": 44,
    "start_time": "2023-11-17T16:36:50.262Z"
   },
   {
    "duration": 15,
    "start_time": "2023-11-17T16:36:50.308Z"
   },
   {
    "duration": 33,
    "start_time": "2023-11-17T16:36:50.325Z"
   },
   {
    "duration": 3,
    "start_time": "2023-11-17T16:36:50.362Z"
   },
   {
    "duration": 8,
    "start_time": "2023-11-17T16:36:50.366Z"
   },
   {
    "duration": 21,
    "start_time": "2023-11-17T16:36:50.375Z"
   },
   {
    "duration": 16,
    "start_time": "2023-11-17T16:36:50.398Z"
   },
   {
    "duration": 17,
    "start_time": "2023-11-17T16:36:50.415Z"
   },
   {
    "duration": 3,
    "start_time": "2023-11-17T16:36:50.434Z"
   },
   {
    "duration": 29,
    "start_time": "2023-11-17T16:36:50.438Z"
   },
   {
    "duration": 28,
    "start_time": "2023-11-17T16:36:50.468Z"
   },
   {
    "duration": 73,
    "start_time": "2023-11-17T16:36:50.497Z"
   },
   {
    "duration": 79,
    "start_time": "2023-11-17T16:36:50.571Z"
   },
   {
    "duration": 172,
    "start_time": "2023-11-17T16:36:50.652Z"
   },
   {
    "duration": 156,
    "start_time": "2023-11-17T16:36:50.826Z"
   },
   {
    "duration": 9,
    "start_time": "2023-11-17T16:36:50.984Z"
   },
   {
    "duration": 4,
    "start_time": "2023-11-17T16:36:50.995Z"
   },
   {
    "duration": 29,
    "start_time": "2023-11-17T16:36:51.001Z"
   },
   {
    "duration": 11,
    "start_time": "2023-11-17T16:36:51.031Z"
   },
   {
    "duration": 11,
    "start_time": "2023-11-17T16:36:51.043Z"
   },
   {
    "duration": 69,
    "start_time": "2023-11-17T16:36:51.055Z"
   },
   {
    "duration": 44,
    "start_time": "2023-11-17T16:36:51.126Z"
   },
   {
    "duration": 148,
    "start_time": "2023-11-17T16:36:51.172Z"
   },
   {
    "duration": 12,
    "start_time": "2023-11-17T16:36:51.323Z"
   },
   {
    "duration": 15,
    "start_time": "2023-11-17T16:36:51.337Z"
   },
   {
    "duration": 11,
    "start_time": "2023-11-17T16:36:51.354Z"
   },
   {
    "duration": 12,
    "start_time": "2023-11-17T16:36:51.366Z"
   },
   {
    "duration": 1216,
    "start_time": "2023-11-17T16:52:03.417Z"
   },
   {
    "duration": 181,
    "start_time": "2023-11-17T16:52:04.635Z"
   },
   {
    "duration": 15,
    "start_time": "2023-11-17T16:52:04.817Z"
   },
   {
    "duration": 11,
    "start_time": "2023-11-17T16:52:04.835Z"
   },
   {
    "duration": 24,
    "start_time": "2023-11-17T16:52:04.848Z"
   },
   {
    "duration": 3,
    "start_time": "2023-11-17T16:52:04.873Z"
   },
   {
    "duration": 45,
    "start_time": "2023-11-17T16:52:04.878Z"
   },
   {
    "duration": 66,
    "start_time": "2023-11-17T16:52:04.925Z"
   },
   {
    "duration": 87,
    "start_time": "2023-11-17T16:52:04.993Z"
   },
   {
    "duration": 83,
    "start_time": "2023-11-17T16:52:05.083Z"
   },
   {
    "duration": 21,
    "start_time": "2023-11-17T16:52:05.168Z"
   },
   {
    "duration": 68,
    "start_time": "2023-11-17T16:52:05.190Z"
   },
   {
    "duration": 17,
    "start_time": "2023-11-17T16:52:05.259Z"
   },
   {
    "duration": 31,
    "start_time": "2023-11-17T16:52:05.277Z"
   },
   {
    "duration": 22,
    "start_time": "2023-11-17T16:52:05.309Z"
   },
   {
    "duration": 124,
    "start_time": "2023-11-17T16:52:05.332Z"
   },
   {
    "duration": 11,
    "start_time": "2023-11-17T16:52:05.458Z"
   },
   {
    "duration": 65,
    "start_time": "2023-11-17T16:52:05.471Z"
   },
   {
    "duration": 27,
    "start_time": "2023-11-17T16:52:05.537Z"
   },
   {
    "duration": 51,
    "start_time": "2023-11-17T16:52:05.566Z"
   },
   {
    "duration": 18,
    "start_time": "2023-11-17T16:52:05.618Z"
   },
   {
    "duration": 33,
    "start_time": "2023-11-17T16:52:05.637Z"
   },
   {
    "duration": 32,
    "start_time": "2023-11-17T16:52:05.672Z"
   },
   {
    "duration": 20,
    "start_time": "2023-11-17T16:52:05.705Z"
   },
   {
    "duration": 27,
    "start_time": "2023-11-17T16:52:05.726Z"
   },
   {
    "duration": 20,
    "start_time": "2023-11-17T16:52:05.755Z"
   },
   {
    "duration": 18,
    "start_time": "2023-11-17T16:52:05.777Z"
   },
   {
    "duration": 67,
    "start_time": "2023-11-17T16:52:05.800Z"
   },
   {
    "duration": 57,
    "start_time": "2023-11-17T16:52:05.869Z"
   },
   {
    "duration": 11,
    "start_time": "2023-11-17T16:52:05.928Z"
   },
   {
    "duration": 5,
    "start_time": "2023-11-17T16:52:05.941Z"
   },
   {
    "duration": 26,
    "start_time": "2023-11-17T16:52:05.948Z"
   },
   {
    "duration": 32,
    "start_time": "2023-11-17T16:52:05.976Z"
   },
   {
    "duration": 8,
    "start_time": "2023-11-17T16:52:06.009Z"
   },
   {
    "duration": 294,
    "start_time": "2023-11-17T16:52:06.019Z"
   },
   {
    "duration": 23,
    "start_time": "2023-11-17T16:52:06.315Z"
   },
   {
    "duration": 14,
    "start_time": "2023-11-17T16:52:06.340Z"
   },
   {
    "duration": 32,
    "start_time": "2023-11-17T16:52:06.356Z"
   },
   {
    "duration": 32,
    "start_time": "2023-11-17T16:52:06.390Z"
   },
   {
    "duration": 25,
    "start_time": "2023-11-17T16:52:06.424Z"
   },
   {
    "duration": 27,
    "start_time": "2023-11-17T16:52:06.450Z"
   },
   {
    "duration": 7,
    "start_time": "2023-11-17T16:52:06.479Z"
   },
   {
    "duration": 34,
    "start_time": "2023-11-17T16:52:06.487Z"
   },
   {
    "duration": 26,
    "start_time": "2023-11-17T16:52:06.523Z"
   },
   {
    "duration": 19,
    "start_time": "2023-11-17T16:52:06.551Z"
   },
   {
    "duration": 5,
    "start_time": "2023-11-17T16:52:06.572Z"
   },
   {
    "duration": 32,
    "start_time": "2023-11-17T16:52:06.579Z"
   },
   {
    "duration": 26,
    "start_time": "2023-11-17T16:52:06.613Z"
   },
   {
    "duration": 62,
    "start_time": "2023-11-17T16:52:06.641Z"
   },
   {
    "duration": 81,
    "start_time": "2023-11-17T16:52:06.705Z"
   },
   {
    "duration": 162,
    "start_time": "2023-11-17T16:52:06.788Z"
   },
   {
    "duration": 163,
    "start_time": "2023-11-17T16:52:06.952Z"
   },
   {
    "duration": 10,
    "start_time": "2023-11-17T16:52:07.118Z"
   },
   {
    "duration": 6,
    "start_time": "2023-11-17T16:52:07.130Z"
   },
   {
    "duration": 10,
    "start_time": "2023-11-17T16:52:07.137Z"
   },
   {
    "duration": 14,
    "start_time": "2023-11-17T16:52:07.148Z"
   },
   {
    "duration": 14,
    "start_time": "2023-11-17T16:52:07.163Z"
   },
   {
    "duration": 73,
    "start_time": "2023-11-17T16:52:07.179Z"
   },
   {
    "duration": 46,
    "start_time": "2023-11-17T16:52:07.254Z"
   },
   {
    "duration": 148,
    "start_time": "2023-11-17T16:52:07.302Z"
   },
   {
    "duration": 13,
    "start_time": "2023-11-17T16:52:07.452Z"
   },
   {
    "duration": 34,
    "start_time": "2023-11-17T16:52:07.466Z"
   },
   {
    "duration": 15,
    "start_time": "2023-11-17T16:52:07.502Z"
   },
   {
    "duration": 17,
    "start_time": "2023-11-17T16:52:07.518Z"
   },
   {
    "duration": 1254,
    "start_time": "2023-11-17T23:13:03.984Z"
   },
   {
    "duration": 498,
    "start_time": "2023-11-17T23:13:05.240Z"
   },
   {
    "duration": 10,
    "start_time": "2023-11-17T23:13:05.740Z"
   },
   {
    "duration": 21,
    "start_time": "2023-11-17T23:13:05.752Z"
   },
   {
    "duration": 51,
    "start_time": "2023-11-17T23:13:05.775Z"
   },
   {
    "duration": 3,
    "start_time": "2023-11-17T23:13:05.827Z"
   },
   {
    "duration": 26,
    "start_time": "2023-11-17T23:13:05.831Z"
   },
   {
    "duration": 68,
    "start_time": "2023-11-17T23:13:05.858Z"
   },
   {
    "duration": 76,
    "start_time": "2023-11-17T23:13:05.927Z"
   },
   {
    "duration": 75,
    "start_time": "2023-11-17T23:13:06.005Z"
   },
   {
    "duration": 18,
    "start_time": "2023-11-17T23:13:06.082Z"
   },
   {
    "duration": 61,
    "start_time": "2023-11-17T23:13:06.102Z"
   },
   {
    "duration": 14,
    "start_time": "2023-11-17T23:13:06.165Z"
   },
   {
    "duration": 9,
    "start_time": "2023-11-17T23:13:06.181Z"
   },
   {
    "duration": 18,
    "start_time": "2023-11-17T23:13:06.192Z"
   },
   {
    "duration": 92,
    "start_time": "2023-11-17T23:13:06.212Z"
   },
   {
    "duration": 11,
    "start_time": "2023-11-17T23:13:06.305Z"
   },
   {
    "duration": 47,
    "start_time": "2023-11-17T23:13:06.318Z"
   },
   {
    "duration": 23,
    "start_time": "2023-11-17T23:13:06.367Z"
   },
   {
    "duration": 23,
    "start_time": "2023-11-17T23:13:06.392Z"
   },
   {
    "duration": 4,
    "start_time": "2023-11-17T23:13:06.416Z"
   },
   {
    "duration": 47,
    "start_time": "2023-11-17T23:13:06.422Z"
   },
   {
    "duration": 18,
    "start_time": "2023-11-17T23:13:06.470Z"
   },
   {
    "duration": 5,
    "start_time": "2023-11-17T23:13:06.489Z"
   },
   {
    "duration": 22,
    "start_time": "2023-11-17T23:13:06.496Z"
   },
   {
    "duration": 37,
    "start_time": "2023-11-17T23:13:06.520Z"
   },
   {
    "duration": 15,
    "start_time": "2023-11-17T23:13:06.559Z"
   },
   {
    "duration": 37,
    "start_time": "2023-11-17T23:13:06.575Z"
   },
   {
    "duration": 65,
    "start_time": "2023-11-17T23:13:06.613Z"
   },
   {
    "duration": 4,
    "start_time": "2023-11-17T23:13:06.680Z"
   },
   {
    "duration": 4,
    "start_time": "2023-11-17T23:13:06.685Z"
   },
   {
    "duration": 8,
    "start_time": "2023-11-17T23:13:06.690Z"
   },
   {
    "duration": 20,
    "start_time": "2023-11-17T23:13:06.699Z"
   },
   {
    "duration": 32,
    "start_time": "2023-11-17T23:13:06.720Z"
   },
   {
    "duration": 258,
    "start_time": "2023-11-17T23:13:06.753Z"
   },
   {
    "duration": 16,
    "start_time": "2023-11-17T23:13:07.013Z"
   },
   {
    "duration": 27,
    "start_time": "2023-11-17T23:13:07.031Z"
   },
   {
    "duration": 29,
    "start_time": "2023-11-17T23:13:07.059Z"
   },
   {
    "duration": 3,
    "start_time": "2023-11-17T23:13:07.090Z"
   },
   {
    "duration": 13,
    "start_time": "2023-11-17T23:13:07.094Z"
   },
   {
    "duration": 2,
    "start_time": "2023-11-17T23:13:07.111Z"
   },
   {
    "duration": 6,
    "start_time": "2023-11-17T23:13:07.115Z"
   },
   {
    "duration": 10,
    "start_time": "2023-11-17T23:13:07.122Z"
   },
   {
    "duration": 3,
    "start_time": "2023-11-17T23:13:07.153Z"
   },
   {
    "duration": 12,
    "start_time": "2023-11-17T23:13:07.158Z"
   },
   {
    "duration": 3,
    "start_time": "2023-11-17T23:13:07.171Z"
   },
   {
    "duration": 24,
    "start_time": "2023-11-17T23:13:07.175Z"
   },
   {
    "duration": 22,
    "start_time": "2023-11-17T23:13:07.201Z"
   },
   {
    "duration": 79,
    "start_time": "2023-11-17T23:13:07.225Z"
   },
   {
    "duration": 72,
    "start_time": "2023-11-17T23:13:07.305Z"
   },
   {
    "duration": 132,
    "start_time": "2023-11-17T23:13:07.379Z"
   },
   {
    "duration": 154,
    "start_time": "2023-11-17T23:13:07.512Z"
   },
   {
    "duration": 8,
    "start_time": "2023-11-17T23:13:07.668Z"
   },
   {
    "duration": 20,
    "start_time": "2023-11-17T23:13:07.678Z"
   },
   {
    "duration": 16,
    "start_time": "2023-11-17T23:13:07.700Z"
   },
   {
    "duration": 11,
    "start_time": "2023-11-17T23:13:07.717Z"
   },
   {
    "duration": 8,
    "start_time": "2023-11-17T23:13:07.729Z"
   },
   {
    "duration": 39,
    "start_time": "2023-11-17T23:13:07.739Z"
   },
   {
    "duration": 36,
    "start_time": "2023-11-17T23:13:07.780Z"
   },
   {
    "duration": 124,
    "start_time": "2023-11-17T23:13:07.817Z"
   },
   {
    "duration": 14,
    "start_time": "2023-11-17T23:13:07.943Z"
   },
   {
    "duration": 10,
    "start_time": "2023-11-17T23:13:07.958Z"
   },
   {
    "duration": 7,
    "start_time": "2023-11-17T23:13:07.969Z"
   },
   {
    "duration": 9,
    "start_time": "2023-11-17T23:13:07.978Z"
   },
   {
    "duration": 422,
    "start_time": "2023-11-17T23:24:06.907Z"
   },
   {
    "duration": 1101,
    "start_time": "2023-11-17T23:24:11.110Z"
   },
   {
    "duration": 167,
    "start_time": "2023-11-17T23:24:12.213Z"
   },
   {
    "duration": 9,
    "start_time": "2023-11-17T23:24:12.382Z"
   },
   {
    "duration": 8,
    "start_time": "2023-11-17T23:24:12.393Z"
   },
   {
    "duration": 21,
    "start_time": "2023-11-17T23:24:12.402Z"
   },
   {
    "duration": 2,
    "start_time": "2023-11-17T23:24:12.424Z"
   },
   {
    "duration": 35,
    "start_time": "2023-11-17T23:24:12.427Z"
   },
   {
    "duration": 57,
    "start_time": "2023-11-17T23:24:12.463Z"
   },
   {
    "duration": 79,
    "start_time": "2023-11-17T23:24:12.521Z"
   },
   {
    "duration": 75,
    "start_time": "2023-11-17T23:24:12.602Z"
   },
   {
    "duration": 18,
    "start_time": "2023-11-17T23:24:12.678Z"
   },
   {
    "duration": 59,
    "start_time": "2023-11-17T23:24:12.697Z"
   },
   {
    "duration": 16,
    "start_time": "2023-11-17T23:24:12.758Z"
   },
   {
    "duration": 9,
    "start_time": "2023-11-17T23:24:12.775Z"
   },
   {
    "duration": 11,
    "start_time": "2023-11-17T23:24:12.785Z"
   },
   {
    "duration": 94,
    "start_time": "2023-11-17T23:24:12.797Z"
   },
   {
    "duration": 10,
    "start_time": "2023-11-17T23:24:12.893Z"
   },
   {
    "duration": 49,
    "start_time": "2023-11-17T23:24:12.904Z"
   },
   {
    "duration": 22,
    "start_time": "2023-11-17T23:24:12.954Z"
   },
   {
    "duration": 21,
    "start_time": "2023-11-17T23:24:12.977Z"
   },
   {
    "duration": 3,
    "start_time": "2023-11-17T23:24:12.999Z"
   },
   {
    "duration": 24,
    "start_time": "2023-11-17T23:24:13.004Z"
   },
   {
    "duration": 33,
    "start_time": "2023-11-17T23:24:13.029Z"
   },
   {
    "duration": 5,
    "start_time": "2023-11-17T23:24:13.063Z"
   },
   {
    "duration": 25,
    "start_time": "2023-11-17T23:24:13.070Z"
   },
   {
    "duration": 12,
    "start_time": "2023-11-17T23:24:13.097Z"
   },
   {
    "duration": 12,
    "start_time": "2023-11-17T23:24:13.110Z"
   },
   {
    "duration": 53,
    "start_time": "2023-11-17T23:24:13.125Z"
   },
   {
    "duration": 46,
    "start_time": "2023-11-17T23:24:13.179Z"
   },
   {
    "duration": 4,
    "start_time": "2023-11-17T23:24:13.226Z"
   },
   {
    "duration": 22,
    "start_time": "2023-11-17T23:24:13.232Z"
   },
   {
    "duration": 9,
    "start_time": "2023-11-17T23:24:13.255Z"
   },
   {
    "duration": 49,
    "start_time": "2023-11-17T23:24:13.265Z"
   },
   {
    "duration": 5,
    "start_time": "2023-11-17T23:24:13.316Z"
   },
   {
    "duration": 255,
    "start_time": "2023-11-17T23:24:13.323Z"
   },
   {
    "duration": 15,
    "start_time": "2023-11-17T23:24:13.579Z"
   },
   {
    "duration": 12,
    "start_time": "2023-11-17T23:24:13.595Z"
   },
   {
    "duration": 44,
    "start_time": "2023-11-17T23:24:13.608Z"
   },
   {
    "duration": 2,
    "start_time": "2023-11-17T23:24:13.653Z"
   },
   {
    "duration": 9,
    "start_time": "2023-11-17T23:24:13.657Z"
   },
   {
    "duration": 9,
    "start_time": "2023-11-17T23:24:13.668Z"
   },
   {
    "duration": 4,
    "start_time": "2023-11-17T23:24:13.678Z"
   },
   {
    "duration": 14,
    "start_time": "2023-11-17T23:24:13.683Z"
   },
   {
    "duration": 5,
    "start_time": "2023-11-17T23:24:13.698Z"
   },
   {
    "duration": 8,
    "start_time": "2023-11-17T23:24:13.705Z"
   },
   {
    "duration": 2,
    "start_time": "2023-11-17T23:24:13.714Z"
   },
   {
    "duration": 19,
    "start_time": "2023-11-17T23:24:13.718Z"
   },
   {
    "duration": 33,
    "start_time": "2023-11-17T23:24:13.738Z"
   },
   {
    "duration": 50,
    "start_time": "2023-11-17T23:24:13.773Z"
   },
   {
    "duration": 74,
    "start_time": "2023-11-17T23:24:13.825Z"
   },
   {
    "duration": 133,
    "start_time": "2023-11-17T23:24:13.900Z"
   },
   {
    "duration": 140,
    "start_time": "2023-11-17T23:24:14.035Z"
   },
   {
    "duration": 7,
    "start_time": "2023-11-17T23:24:14.177Z"
   },
   {
    "duration": 4,
    "start_time": "2023-11-17T23:24:14.185Z"
   },
   {
    "duration": 11,
    "start_time": "2023-11-17T23:24:14.190Z"
   },
   {
    "duration": 8,
    "start_time": "2023-11-17T23:24:14.202Z"
   },
   {
    "duration": 8,
    "start_time": "2023-11-17T23:24:14.211Z"
   },
   {
    "duration": 67,
    "start_time": "2023-11-17T23:24:14.221Z"
   },
   {
    "duration": 37,
    "start_time": "2023-11-17T23:24:14.289Z"
   },
   {
    "duration": 127,
    "start_time": "2023-11-17T23:24:14.327Z"
   },
   {
    "duration": 10,
    "start_time": "2023-11-17T23:24:14.455Z"
   },
   {
    "duration": 19,
    "start_time": "2023-11-17T23:24:14.467Z"
   },
   {
    "duration": 8,
    "start_time": "2023-11-17T23:24:14.487Z"
   },
   {
    "duration": 12,
    "start_time": "2023-11-17T23:24:14.496Z"
   },
   {
    "duration": 1055,
    "start_time": "2023-11-17T23:29:26.989Z"
   },
   {
    "duration": 158,
    "start_time": "2023-11-17T23:29:28.046Z"
   },
   {
    "duration": 9,
    "start_time": "2023-11-17T23:29:28.206Z"
   },
   {
    "duration": 8,
    "start_time": "2023-11-17T23:29:28.217Z"
   },
   {
    "duration": 35,
    "start_time": "2023-11-17T23:29:28.226Z"
   },
   {
    "duration": 3,
    "start_time": "2023-11-17T23:29:28.262Z"
   },
   {
    "duration": 16,
    "start_time": "2023-11-17T23:29:28.266Z"
   },
   {
    "duration": 69,
    "start_time": "2023-11-17T23:29:28.283Z"
   },
   {
    "duration": 61,
    "start_time": "2023-11-17T23:29:28.353Z"
   },
   {
    "duration": 78,
    "start_time": "2023-11-17T23:29:28.416Z"
   },
   {
    "duration": 18,
    "start_time": "2023-11-17T23:29:28.496Z"
   },
   {
    "duration": 66,
    "start_time": "2023-11-17T23:29:28.515Z"
   },
   {
    "duration": 14,
    "start_time": "2023-11-17T23:29:28.582Z"
   },
   {
    "duration": 9,
    "start_time": "2023-11-17T23:29:28.597Z"
   },
   {
    "duration": 10,
    "start_time": "2023-11-17T23:29:28.607Z"
   },
   {
    "duration": 93,
    "start_time": "2023-11-17T23:29:28.618Z"
   },
   {
    "duration": 10,
    "start_time": "2023-11-17T23:29:28.713Z"
   },
   {
    "duration": 46,
    "start_time": "2023-11-17T23:29:28.724Z"
   },
   {
    "duration": 21,
    "start_time": "2023-11-17T23:29:28.771Z"
   },
   {
    "duration": 20,
    "start_time": "2023-11-17T23:29:28.793Z"
   },
   {
    "duration": 3,
    "start_time": "2023-11-17T23:29:28.815Z"
   },
   {
    "duration": 49,
    "start_time": "2023-11-17T23:29:28.819Z"
   },
   {
    "duration": 34,
    "start_time": "2023-11-17T23:29:28.870Z"
   },
   {
    "duration": 7,
    "start_time": "2023-11-17T23:29:28.905Z"
   },
   {
    "duration": 22,
    "start_time": "2023-11-17T23:29:28.913Z"
   },
   {
    "duration": 13,
    "start_time": "2023-11-17T23:29:28.936Z"
   },
   {
    "duration": 12,
    "start_time": "2023-11-17T23:29:28.951Z"
   },
   {
    "duration": 39,
    "start_time": "2023-11-17T23:29:28.967Z"
   },
   {
    "duration": 68,
    "start_time": "2023-11-17T23:29:29.008Z"
   },
   {
    "duration": 5,
    "start_time": "2023-11-17T23:29:29.077Z"
   },
   {
    "duration": 13,
    "start_time": "2023-11-17T23:29:29.084Z"
   },
   {
    "duration": 6,
    "start_time": "2023-11-17T23:29:29.098Z"
   },
   {
    "duration": 26,
    "start_time": "2023-11-17T23:29:29.105Z"
   },
   {
    "duration": 20,
    "start_time": "2023-11-17T23:29:29.132Z"
   },
   {
    "duration": 244,
    "start_time": "2023-11-17T23:29:29.154Z"
   },
   {
    "duration": 15,
    "start_time": "2023-11-17T23:29:29.400Z"
   },
   {
    "duration": 12,
    "start_time": "2023-11-17T23:29:29.416Z"
   },
   {
    "duration": 46,
    "start_time": "2023-11-17T23:29:29.429Z"
   },
   {
    "duration": 2,
    "start_time": "2023-11-17T23:29:29.476Z"
   },
   {
    "duration": 11,
    "start_time": "2023-11-17T23:29:29.480Z"
   },
   {
    "duration": 2,
    "start_time": "2023-11-17T23:29:29.492Z"
   },
   {
    "duration": 3,
    "start_time": "2023-11-17T23:29:29.496Z"
   },
   {
    "duration": 3,
    "start_time": "2023-11-17T23:29:29.501Z"
   },
   {
    "duration": 6,
    "start_time": "2023-11-17T23:29:29.505Z"
   },
   {
    "duration": 10,
    "start_time": "2023-11-17T23:29:29.512Z"
   },
   {
    "duration": 29,
    "start_time": "2023-11-17T23:29:29.523Z"
   },
   {
    "duration": 21,
    "start_time": "2023-11-17T23:29:29.553Z"
   },
   {
    "duration": 23,
    "start_time": "2023-11-17T23:29:29.576Z"
   },
   {
    "duration": 64,
    "start_time": "2023-11-17T23:29:29.601Z"
   },
   {
    "duration": 59,
    "start_time": "2023-11-17T23:29:29.667Z"
   },
   {
    "duration": 147,
    "start_time": "2023-11-17T23:29:29.728Z"
   },
   {
    "duration": 140,
    "start_time": "2023-11-17T23:29:29.876Z"
   },
   {
    "duration": 8,
    "start_time": "2023-11-17T23:29:30.018Z"
   },
   {
    "duration": 39,
    "start_time": "2023-11-17T23:29:30.028Z"
   },
   {
    "duration": 35,
    "start_time": "2023-11-17T23:29:30.069Z"
   },
   {
    "duration": 21,
    "start_time": "2023-11-17T23:29:30.105Z"
   },
   {
    "duration": 21,
    "start_time": "2023-11-17T23:29:30.127Z"
   },
   {
    "duration": 60,
    "start_time": "2023-11-17T23:29:30.149Z"
   },
   {
    "duration": 40,
    "start_time": "2023-11-17T23:29:30.210Z"
   },
   {
    "duration": 121,
    "start_time": "2023-11-17T23:29:30.251Z"
   },
   {
    "duration": 12,
    "start_time": "2023-11-17T23:29:30.373Z"
   },
   {
    "duration": 47,
    "start_time": "2023-11-17T23:29:30.386Z"
   },
   {
    "duration": 31,
    "start_time": "2023-11-17T23:29:30.434Z"
   },
   {
    "duration": 29,
    "start_time": "2023-11-17T23:29:30.467Z"
   },
   {
    "duration": 1040,
    "start_time": "2023-11-17T23:29:52.481Z"
   },
   {
    "duration": 175,
    "start_time": "2023-11-17T23:29:53.523Z"
   },
   {
    "duration": 9,
    "start_time": "2023-11-17T23:29:53.699Z"
   },
   {
    "duration": 8,
    "start_time": "2023-11-17T23:29:53.710Z"
   },
   {
    "duration": 33,
    "start_time": "2023-11-17T23:29:53.719Z"
   },
   {
    "duration": 3,
    "start_time": "2023-11-17T23:29:53.753Z"
   },
   {
    "duration": 29,
    "start_time": "2023-11-17T23:29:53.757Z"
   },
   {
    "duration": 55,
    "start_time": "2023-11-17T23:29:53.787Z"
   },
   {
    "duration": 64,
    "start_time": "2023-11-17T23:29:53.844Z"
   },
   {
    "duration": 72,
    "start_time": "2023-11-17T23:29:53.910Z"
   },
   {
    "duration": 18,
    "start_time": "2023-11-17T23:29:53.983Z"
   },
   {
    "duration": 57,
    "start_time": "2023-11-17T23:29:54.003Z"
   },
   {
    "duration": 14,
    "start_time": "2023-11-17T23:29:54.062Z"
   },
   {
    "duration": 13,
    "start_time": "2023-11-17T23:29:54.077Z"
   },
   {
    "duration": 11,
    "start_time": "2023-11-17T23:29:54.091Z"
   },
   {
    "duration": 95,
    "start_time": "2023-11-17T23:29:54.103Z"
   },
   {
    "duration": 11,
    "start_time": "2023-11-17T23:29:54.199Z"
   },
   {
    "duration": 46,
    "start_time": "2023-11-17T23:29:54.211Z"
   },
   {
    "duration": 22,
    "start_time": "2023-11-17T23:29:54.258Z"
   },
   {
    "duration": 22,
    "start_time": "2023-11-17T23:29:54.281Z"
   },
   {
    "duration": 4,
    "start_time": "2023-11-17T23:29:54.304Z"
   },
   {
    "duration": 42,
    "start_time": "2023-11-17T23:29:54.310Z"
   },
   {
    "duration": 12,
    "start_time": "2023-11-17T23:29:54.353Z"
   },
   {
    "duration": 25,
    "start_time": "2023-11-17T23:29:54.366Z"
   },
   {
    "duration": 27,
    "start_time": "2023-11-17T23:29:54.393Z"
   },
   {
    "duration": 12,
    "start_time": "2023-11-17T23:29:54.421Z"
   },
   {
    "duration": 20,
    "start_time": "2023-11-17T23:29:54.434Z"
   },
   {
    "duration": 40,
    "start_time": "2023-11-17T23:29:54.457Z"
   },
   {
    "duration": 54,
    "start_time": "2023-11-17T23:29:54.498Z"
   },
   {
    "duration": 4,
    "start_time": "2023-11-17T23:29:54.553Z"
   },
   {
    "duration": 21,
    "start_time": "2023-11-17T23:29:54.559Z"
   },
   {
    "duration": 10,
    "start_time": "2023-11-17T23:29:54.582Z"
   },
   {
    "duration": 21,
    "start_time": "2023-11-17T23:29:54.593Z"
   },
   {
    "duration": 6,
    "start_time": "2023-11-17T23:29:54.615Z"
   },
   {
    "duration": 261,
    "start_time": "2023-11-17T23:29:54.622Z"
   },
   {
    "duration": 15,
    "start_time": "2023-11-17T23:29:54.885Z"
   },
   {
    "duration": 11,
    "start_time": "2023-11-17T23:29:54.901Z"
   },
   {
    "duration": 38,
    "start_time": "2023-11-17T23:29:54.914Z"
   },
   {
    "duration": 2,
    "start_time": "2023-11-17T23:29:54.953Z"
   },
   {
    "duration": 12,
    "start_time": "2023-11-17T23:29:54.956Z"
   },
   {
    "duration": 2,
    "start_time": "2023-11-17T23:29:54.969Z"
   },
   {
    "duration": 15,
    "start_time": "2023-11-17T23:29:54.972Z"
   },
   {
    "duration": 7,
    "start_time": "2023-11-17T23:29:54.988Z"
   },
   {
    "duration": 13,
    "start_time": "2023-11-17T23:29:54.996Z"
   },
   {
    "duration": 9,
    "start_time": "2023-11-17T23:29:55.011Z"
   },
   {
    "duration": 3,
    "start_time": "2023-11-17T23:29:55.021Z"
   },
   {
    "duration": 28,
    "start_time": "2023-11-17T23:29:55.026Z"
   },
   {
    "duration": 24,
    "start_time": "2023-11-17T23:29:55.056Z"
   },
   {
    "duration": 71,
    "start_time": "2023-11-17T23:29:55.082Z"
   },
   {
    "duration": 62,
    "start_time": "2023-11-17T23:29:55.154Z"
   },
   {
    "duration": 145,
    "start_time": "2023-11-17T23:29:55.217Z"
   },
   {
    "duration": 144,
    "start_time": "2023-11-17T23:29:55.364Z"
   },
   {
    "duration": 8,
    "start_time": "2023-11-17T23:29:55.509Z"
   },
   {
    "duration": 9,
    "start_time": "2023-11-17T23:29:55.518Z"
   },
   {
    "duration": 11,
    "start_time": "2023-11-17T23:29:55.528Z"
   },
   {
    "duration": 8,
    "start_time": "2023-11-17T23:29:55.551Z"
   },
   {
    "duration": 31,
    "start_time": "2023-11-17T23:29:55.560Z"
   },
   {
    "duration": 45,
    "start_time": "2023-11-17T23:29:55.593Z"
   },
   {
    "duration": 40,
    "start_time": "2023-11-17T23:29:55.639Z"
   },
   {
    "duration": 121,
    "start_time": "2023-11-17T23:29:55.680Z"
   },
   {
    "duration": 10,
    "start_time": "2023-11-17T23:29:55.802Z"
   },
   {
    "duration": 12,
    "start_time": "2023-11-17T23:29:55.814Z"
   },
   {
    "duration": 7,
    "start_time": "2023-11-17T23:29:55.827Z"
   },
   {
    "duration": 8,
    "start_time": "2023-11-17T23:29:55.852Z"
   },
   {
    "duration": 1095,
    "start_time": "2023-11-17T23:32:15.132Z"
   },
   {
    "duration": 178,
    "start_time": "2023-11-17T23:32:16.228Z"
   },
   {
    "duration": 11,
    "start_time": "2023-11-17T23:32:16.407Z"
   },
   {
    "duration": 10,
    "start_time": "2023-11-17T23:32:16.420Z"
   },
   {
    "duration": 29,
    "start_time": "2023-11-17T23:32:16.431Z"
   },
   {
    "duration": 3,
    "start_time": "2023-11-17T23:32:16.461Z"
   },
   {
    "duration": 16,
    "start_time": "2023-11-17T23:32:16.465Z"
   },
   {
    "duration": 70,
    "start_time": "2023-11-17T23:32:16.482Z"
   },
   {
    "duration": 63,
    "start_time": "2023-11-17T23:32:16.554Z"
   },
   {
    "duration": 75,
    "start_time": "2023-11-17T23:32:16.619Z"
   },
   {
    "duration": 18,
    "start_time": "2023-11-17T23:32:16.696Z"
   },
   {
    "duration": 57,
    "start_time": "2023-11-17T23:32:16.716Z"
   },
   {
    "duration": 14,
    "start_time": "2023-11-17T23:32:16.774Z"
   },
   {
    "duration": 8,
    "start_time": "2023-11-17T23:32:16.790Z"
   },
   {
    "duration": 10,
    "start_time": "2023-11-17T23:32:16.800Z"
   },
   {
    "duration": 100,
    "start_time": "2023-11-17T23:32:16.811Z"
   },
   {
    "duration": 13,
    "start_time": "2023-11-17T23:32:16.912Z"
   },
   {
    "duration": 48,
    "start_time": "2023-11-17T23:32:16.926Z"
   },
   {
    "duration": 23,
    "start_time": "2023-11-17T23:32:16.975Z"
   },
   {
    "duration": 22,
    "start_time": "2023-11-17T23:32:16.999Z"
   },
   {
    "duration": 3,
    "start_time": "2023-11-17T23:32:17.023Z"
   },
   {
    "duration": 43,
    "start_time": "2023-11-17T23:32:17.028Z"
   },
   {
    "duration": 12,
    "start_time": "2023-11-17T23:32:17.072Z"
   },
   {
    "duration": 5,
    "start_time": "2023-11-17T23:32:17.086Z"
   },
   {
    "duration": 24,
    "start_time": "2023-11-17T23:32:17.092Z"
   },
   {
    "duration": 13,
    "start_time": "2023-11-17T23:32:17.118Z"
   },
   {
    "duration": 34,
    "start_time": "2023-11-17T23:32:17.132Z"
   },
   {
    "duration": 36,
    "start_time": "2023-11-17T23:32:17.169Z"
   },
   {
    "duration": 62,
    "start_time": "2023-11-17T23:32:17.206Z"
   },
   {
    "duration": 5,
    "start_time": "2023-11-17T23:32:17.269Z"
   },
   {
    "duration": 6,
    "start_time": "2023-11-17T23:32:17.275Z"
   },
   {
    "duration": 14,
    "start_time": "2023-11-17T23:32:17.283Z"
   },
   {
    "duration": 23,
    "start_time": "2023-11-17T23:32:17.299Z"
   },
   {
    "duration": 6,
    "start_time": "2023-11-17T23:32:17.323Z"
   },
   {
    "duration": 271,
    "start_time": "2023-11-17T23:32:17.330Z"
   },
   {
    "duration": 16,
    "start_time": "2023-11-17T23:32:17.602Z"
   },
   {
    "duration": 11,
    "start_time": "2023-11-17T23:32:17.619Z"
   },
   {
    "duration": 44,
    "start_time": "2023-11-17T23:32:17.632Z"
   },
   {
    "duration": 2,
    "start_time": "2023-11-17T23:32:17.677Z"
   },
   {
    "duration": 9,
    "start_time": "2023-11-17T23:32:17.681Z"
   },
   {
    "duration": 12,
    "start_time": "2023-11-17T23:32:17.692Z"
   },
   {
    "duration": 6,
    "start_time": "2023-11-17T23:32:17.705Z"
   },
   {
    "duration": 4,
    "start_time": "2023-11-17T23:32:17.712Z"
   },
   {
    "duration": 3,
    "start_time": "2023-11-17T23:32:17.717Z"
   },
   {
    "duration": 8,
    "start_time": "2023-11-17T23:32:17.722Z"
   },
   {
    "duration": 3,
    "start_time": "2023-11-17T23:32:17.731Z"
   },
   {
    "duration": 21,
    "start_time": "2023-11-17T23:32:17.751Z"
   },
   {
    "duration": 23,
    "start_time": "2023-11-17T23:32:17.774Z"
   },
   {
    "duration": 65,
    "start_time": "2023-11-17T23:32:17.798Z"
   },
   {
    "duration": 59,
    "start_time": "2023-11-17T23:32:17.865Z"
   },
   {
    "duration": 135,
    "start_time": "2023-11-17T23:32:17.925Z"
   },
   {
    "duration": 139,
    "start_time": "2023-11-17T23:32:18.062Z"
   },
   {
    "duration": 7,
    "start_time": "2023-11-17T23:32:18.203Z"
   },
   {
    "duration": 4,
    "start_time": "2023-11-17T23:32:18.211Z"
   },
   {
    "duration": 8,
    "start_time": "2023-11-17T23:32:18.216Z"
   },
   {
    "duration": 28,
    "start_time": "2023-11-17T23:32:18.225Z"
   },
   {
    "duration": 10,
    "start_time": "2023-11-17T23:32:18.254Z"
   },
   {
    "duration": 41,
    "start_time": "2023-11-17T23:32:18.266Z"
   },
   {
    "duration": 57,
    "start_time": "2023-11-17T23:32:18.308Z"
   },
   {
    "duration": 123,
    "start_time": "2023-11-17T23:32:18.367Z"
   },
   {
    "duration": 11,
    "start_time": "2023-11-17T23:32:18.492Z"
   },
   {
    "duration": 11,
    "start_time": "2023-11-17T23:32:18.504Z"
   },
   {
    "duration": 19,
    "start_time": "2023-11-17T23:32:18.517Z"
   },
   {
    "duration": 20,
    "start_time": "2023-11-17T23:32:18.537Z"
   }
  ],
  "kernelspec": {
   "display_name": "Python 3 (ipykernel)",
   "language": "python",
   "name": "python3"
  },
  "language_info": {
   "codemirror_mode": {
    "name": "ipython",
    "version": 3
   },
   "file_extension": ".py",
   "mimetype": "text/x-python",
   "name": "python",
   "nbconvert_exporter": "python",
   "pygments_lexer": "ipython3",
   "version": "3.9.5"
  },
  "toc": {
   "base_numbering": 1,
   "nav_menu": {},
   "number_sections": true,
   "sideBar": true,
   "skip_h1_title": true,
   "title_cell": "Table of Contents",
   "title_sidebar": "Contents",
   "toc_cell": false,
   "toc_position": {},
   "toc_section_display": true,
   "toc_window_display": false
  }
 },
 "nbformat": 4,
 "nbformat_minor": 4
}
